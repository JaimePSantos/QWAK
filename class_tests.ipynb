{
 "cells": [
  {
   "cell_type": "code",
   "execution_count": 1,
   "id": "bdf5e659",
   "metadata": {},
   "outputs": [],
   "source": [
    "import networkx as nx\n",
    "import numpy as np\n",
    "from ctqw import QuantumWalk"
   ]
  },
  {
   "cell_type": "code",
   "execution_count": 2,
   "id": "2abd3fa6",
   "metadata": {},
   "outputs": [
    {
     "data": {
      "image/png": "[encoded data removed]",
      "text/plain": [
       "<Figure size 432x288 with 1 Axes>"
      ]
     },
     "metadata": {},
     "output_type": "display_data"
    }
   ],
   "source": [
    "n = 4\n",
    "g = nx.cycle_graph(n)\n",
    "nx.draw(g)"
   ]
  },
  {
   "cell_type": "code",
   "execution_count": 3,
   "id": "31de5894",
   "metadata": {},
   "outputs": [],
   "source": [
    "c = QuantumWalk(g)"
   ]
  },
  {
   "cell_type": "code",
   "execution_count": 4,
   "id": "813de662",
   "metadata": {},
   "outputs": [
    {
     "data": {
      "text/plain": [
       "array([[3.08148791e-33],\n",
       "       [1.00000000e+00],\n",
       "       [3.07656395e-63],\n",
       "       [1.00000000e+00]])"
      ]
     },
     "execution_count": 4,
     "metadata": {},
     "output_type": "execute_result"
    }
   ],
   "source": [
    "initial = np.zeros([n,1])\n",
    "initial[n//2] = 1\n",
    "\n",
    "c.evolution(t=1, initial = initial)"
   ]
  },
  {
   "cell_type": "code",
   "execution_count": 7,
   "id": "93a15752",
   "metadata": {},
   "outputs": [
    {
     "data": {
      "text/plain": [
       "array([[-0.5 , -0.71,  0.  ,  0.5 ],\n",
       "       [ 0.5 ,  0.  , -0.71,  0.5 ],\n",
       "       [-0.5 ,  0.71,  0.  ,  0.5 ],\n",
       "       [ 0.5 ,  0.  ,  0.71,  0.5 ]])"
      ]
     },
     "metadata": {},
     "output_type": "display_data"
    }
   ],
   "source": [
    "display(c.eigenvectors.round(2))"
   ]
  },
  {
   "cell_type": "code",
   "execution_count": null,
   "id": "97170912",
   "metadata": {},
   "outputs": [],
   "source": []
  }
 ],
 "metadata": {
  "kernelspec": {
   "display_name": "Python 3 (ipykernel)",
   "language": "python",
   "name": "python3"
  },
  "language_info": {
   "codemirror_mode": {
    "name": "ipython",
    "version": 3
   },
   "file_extension": ".py",
   "mimetype": "text/x-python",
   "name": "python",
   "nbconvert_exporter": "python",
   "pygments_lexer": "ipython3",
   "version": "3.9.8"
  }
 },
 "nbformat": 4,
 "nbformat_minor": 5
}
