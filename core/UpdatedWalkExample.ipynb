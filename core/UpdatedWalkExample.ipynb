{
 "cells": [
  {
   "cell_type": "code",
   "execution_count": 1,
   "metadata": {
    "pycharm": {
     "name": "#%%\n"
    }
   },
   "outputs": [],
   "source": [
    "%load_ext autoreload\n",
    "%autoreload 2"
   ]
  },
  {
   "cell_type": "code",
   "execution_count": 28,
   "metadata": {},
   "outputs": [],
   "source": [
    "import networkx as nx\n",
    "import numpy as np\n",
    "from matplotlib import pyplot as plt\n",
    "from QuantumWalk.QWAK import QWAK\n",
    "from sympy import Matrix, gcd, div, Poly, Float, pprint\n",
    "from sympy.abc import pi\n",
    "from math import sqrt, ceil, pow"
   ]
  },
  {
   "cell_type": "code",
   "execution_count": 77,
   "metadata": {},
   "outputs": [],
   "source": [
    "### Algorithm to check PST based on the article https://arxiv.org/abs/1606.02264 authored by Rodrigo Chaves\n",
    "\n",
    "## For a graph to have PST it needs to obey numerous rules and the first one is that the vertices with PST must be \n",
    "# strongly cospectral. Two vertices a and b are strong cospectral if the characteristic polynomial of the matrix Ma, that has\n",
    "# the colum and row a removed, is equal to the characteristic polynomial of the matrix Mb, that has the column and row b \n",
    "# removed. This is easily checked using SymPy and it is what the function StrCospec does. \n",
    "def StrCospec(A,a,b):\n",
    "    Ma= A.minor_submatrix(a,a)\n",
    "    Mb = A.minor_submatrix(b,b)\n",
    "    Mab = Ma.minor_submatrix(b-1,b-1)\n",
    "    \n",
    "    phi = A.charpoly()\n",
    "    phia = Ma.charpoly()\n",
    "    phib = Mb.charpoly()\n",
    "    phiab = Mab.charpoly()\n",
    "    \n",
    "    if phia != phib or not SimplePoles(phi,phiab):\n",
    "        return False\n",
    "    else:\n",
    "        return True\n",
    "    \n",
    "## The second condition for strong cospectral is that the poles of phiab/phi must be simple. This is trickier to check and\n",
    "# it starts by defning a polynomial g(x)=gcd(phi,phiab). Then, there will be no poles if f(x) = phi/g(x) is a polynomial \n",
    "# without repeated roots. This occurs when gcd(f(x),f'(x)) is a constant, then we only need to check the coeeficients and\n",
    "# see if all of them is zero except the last one. This is done by the function SimplePoles.\n",
    "    \n",
    "def SimplePoles(phi,phiab):\n",
    "    gx = gcd(phi,phiab)\n",
    "    fx,r = div(phi,gx)\n",
    "    fx_der = fx.diff()\n",
    "    great = gcd(fx,fx_der)\n",
    "    coeffs = great.all_coeffs()\n",
    "    del coeffs[len(coeffs)-1]\n",
    "    for coeff in coeffs:\n",
    "        if coeff > 0:\n",
    "            return False\n",
    "    return True\n",
    "\n",
    "## One of the steps requires that we find square-free numbers, that is, numbers that have a prime decomposition with all \n",
    "# primes being unique. Fist we use the Sieve of Eratosthenes, and the corresponding function, to find all primes from 1 to n.\n",
    "# It works by choosing the first prime in the list, in this case 2, then squareing it and removing all its multiples from the\n",
    "# list. The algorithm then choose the next prime and does the same procedure. At the end, we have a list with True at position\n",
    "# i if i+1 is prime and False otherwise.\n",
    "\n",
    "def SieveEratosthenes(n):\n",
    "    isPrime = np.full([n,1],True)\n",
    "    for i in range(2,ceil(sqrt(n))+1):\n",
    "        if isPrime[i-1]:\n",
    "            for j in range(int(pow(i,2)),n+1,i):\n",
    "                isPrime[j-1]=False\n",
    "    return isPrime\n",
    "\n",
    "## The function SquareFree gives a list of square-free number from 1 to n in a similar way that we found all primes. The \n",
    "# algorithm get the list of primes from 1 to n, then it start a loop of integers from 2 to n, when i is prime the algorithm\n",
    "# associates False to all multiples of i². It returns a list with True (False) in the entry i if i-1 is (not) square free.\n",
    "\n",
    "def SquareFree(n):\n",
    "    isSqrFree = np.full([n,1],True)\n",
    "    isPrime = SieveEratosthenes(n)\n",
    "    SqrFreeList = []\n",
    "    for i in range(2,n+1):\n",
    "        if isPrime[i-1]:\n",
    "            for j in range(int(pow(i,2)),n+1,int(pow(i,2))):\n",
    "                isSqrFree[j-1]=False\n",
    "    for i in range(n):\n",
    "        if isSqrFree[i]:\n",
    "            SqrFreeList.append(i+1)\n",
    "    return SqrFreeList\n",
    "\n",
    "## EigenSupp is responsible for getting the eigenvalue support of the vertice a. The eigenvalue support of the vertice a is\n",
    "# all the eigenvalues such that Er|a> != 0, where |a> is vector with 1 in the a-th entry and zero in all others and Er is the\n",
    "# projection matrix of the eigenvalue r. It returns a list with all those eigenavlues. This is one of the conditions for PST,\n",
    "# because we do not need to check for eigenvalues that are not in the eigenvalue support.\n",
    "\n",
    "def EigenSupp(a,eigenvec,eigenval):\n",
    "    supp = []\n",
    "    for i in range(len(eigenval)):\n",
    "        if eigenvec.col(i)[a] != 0:\n",
    "            supp.append(eigenval[i])\n",
    "    return supp\n",
    "\n",
    "## CheckRoots is responsible for checking the second condition for PST which is that all eigenvalues is the eigenvalue support\n",
    "# of a must be all integers or all quadratic integers with the format p+qr*Sqrt(delta)/2, with qr changing from eigenvalue to\n",
    "# to eigenvalue. The frist step is to define h(x) = phi/gcd(phi,phia) that have all its roots in the eigenvalue support of a,\n",
    "# then its degree k will be crucial. \n",
    "\n",
    "def CheckRoots(A, a, eigenvec, eigenval):\n",
    "    supp = EigenSupp(a,eigenvec,eigenval)\n",
    "    Ma =  Ma= A.minor_submatrix(a,a)\n",
    "    phi = A.charpoly()\n",
    "    phia = Ma.charpoly()\n",
    "    h,r = div(phi,gcd(phi,phia))\n",
    "    k = h.degree()\n",
    "    \n",
    "    ## First, we check for integer roots in the interval [-n^4,n^4] that the eigenvalues should be. We check by putting the\n",
    "    # value in the loop, i, direct into h(i) and we see if it is equal to zero. If it is, then we check if i is in the \n",
    "    # eigenvalue support of a. With both conditions satisfied, it stores 1 to delta and sum one to intRoots.\n",
    "    \n",
    "    intRoots = 0\n",
    "    for i in range(-len(eigenval)**4,len(eigenval)**4+1):\n",
    "        if h(i)==0 and i in supp:\n",
    "            delta = 1\n",
    "            intRoots += 1\n",
    "    \n",
    "    ## Then we check if all roots are quadratic integers p+qr*Sqrt(delta)/2. We know that p will be equal to the coefficient\n",
    "    # of the second bigest power of h(x). Then, all we need to do is loop through the values of delta in the list of square-free\n",
    "    # integers. Then, we loop qr until it is bigger than Sqrt(Tr(A²)) and check if is a root of h(x) and it is also in the\n",
    "    # eigenvalue support of a. In case it is true, we store the value of delta and sum one to quadRoots.\n",
    "    \n",
    "    quadRoots = 0\n",
    "    sqrtFreeInt = SquareFree(int((4*A**2).trace()))\n",
    "    p = h.all_coeffs()[1]\n",
    "    for deltaS in sqrtFreeInt:\n",
    "        q = 0\n",
    "        while (p+q*sqrt(deltaS)/2) <= sqrt(int(((A**2).trace()))):\n",
    "            if h(p+q*sqrt(deltaS)/2) == 0 and Float(p+q*sqrt(deltaS)/2,3) in supp:\n",
    "                quadRoots += 1\n",
    "            q += 1\n",
    "    if quadRoots > 0:\n",
    "        delta = deltaS\n",
    "    \n",
    "    ## Here we check if quadRoots or intRoots are bigger than k, which is the degree of our polynomial h(x). If none of them is\n",
    "    # then we know that PST is not possible and we return False.\n",
    "    \n",
    "    if quadRoots < k and intRoots < k:\n",
    "        return False, 0, 0\n",
    "    \n",
    "    ## The time that PST occurs is just pi/g*Sqrt(delta) where g = gcd(theta0 - thetar), i.e. the gcd between all the differences\n",
    "    # of the eigenvalue theta0 (the biggest eigenvalue) and all others eigenvalues.\n",
    "    \n",
    "    diffs=[]\n",
    "    for i in range(len(supp)):\n",
    "        diffs.append(max(supp)-supp[i]/sqrt(delta))\n",
    "    \n",
    "    g=0\n",
    "    for diff in diffs:\n",
    "        g = gcd(g,diff)\n",
    "    \n",
    "    return True, g, delta\n",
    "\n",
    "## Finally, CheckPST checks if all the conditions are true and return True if the graph has PST and False otherwise.\n",
    "\n",
    "def checkPST(A,a,b):\n",
    "    if a > b:\n",
    "        temp = a\n",
    "        a = b\n",
    "        b = temp\n",
    "    A = Matrix(A)\n",
    "    (eigenvec,D) = A.diagonalize()\n",
    "    eigenval = []\n",
    "    \n",
    "    ## Notice that I was having rouding problems because Python was not considering 6x10^-50 to be zero, so I made a loop\n",
    "    # to garantee that it is zero.\n",
    "    for i in range(len(D.col(0))):\n",
    "        temp = D.col(i)[i]\n",
    "        if abs(temp) < 0.0000001:\n",
    "            temp = 0\n",
    "        eigenval.append(temp)\n",
    "    \n",
    "    result, g, delta = CheckRoots(A,a,eigenvec,eigenval)\n",
    "    if StrCospec(A,a,b) and result:\n",
    "        return True, pi/(g*sqrt(delta))\n",
    "    else:\n",
    "        return False, ="
   ]
  },
  {
   "cell_type": "code",
   "execution_count": 62,
   "metadata": {
    "pycharm": {
     "name": "#%%\n"
    },
    "scrolled": true
   },
   "outputs": [],
   "source": [
    "n = 4\n",
    "t = 2\n",
    "gamma = 1 / (2 * np.sqrt(2))\n",
    "graph = nx.cycle_graph(n)\n",
    "# graph = nx.circular_ladder_graph(n)\n",
    "marked = [int(n / 2)]"
   ]
  },
  {
   "cell_type": "code",
   "execution_count": 63,
   "metadata": {},
   "outputs": [
    {
     "data": {
      "image/png": "[encoded data removed]",
      "text/plain": [
       "<Figure size 432x288 with 1 Axes>"
      ]
     },
     "metadata": {},
     "output_type": "display_data"
    }
   ],
   "source": [
    "# nx.draw(nx.circular_ladder_graph(10))\n",
    "nx.draw(nx.cycle_graph(5))"
   ]
  },
  {
   "cell_type": "code",
   "execution_count": 64,
   "metadata": {
    "pycharm": {
     "name": "#%%\n"
    }
   },
   "outputs": [
    {
     "name": "stdout",
     "output_type": "stream",
     "text": [
      "init state inside variable [2]\n",
      "init state inside [2]\n"
     ]
    }
   ],
   "source": [
    "qwController = QWAK(graph, laplacian=False)\n",
    "qwController.runWalk(t,gamma, marked)"
   ]
  },
  {
   "cell_type": "code",
   "execution_count": 65,
   "metadata": {},
   "outputs": [
    {
     "name": "stdout",
     "output_type": "stream",
     "text": [
      "Mean = 1.643784476796836\n",
      "Standard Deviation = 1.0360416639628374\n"
     ]
    }
   ],
   "source": [
    "qwProbabilities = qwController.getProbDist()\n",
    "qwAmplitudes = qwController.getWalk()\n",
    "print(f\"Mean = {qwProbabilities.mean()}\")\n",
    "print(f\"Standard Deviation = {qwProbabilities.stdev()}\")"
   ]
  },
  {
   "cell_type": "code",
   "execution_count": 66,
   "metadata": {},
   "outputs": [
    {
     "data": {
      "text/plain": [
       "[<matplotlib.lines.Line2D at 0x7fe22fe44d30>]"
      ]
     },
     "execution_count": 66,
     "metadata": {},
     "output_type": "execute_result"
    },
    {
     "data": {
      "image/png": "[encoded data removed]",
      "text/plain": [
       "<Figure size 432x288 with 1 Axes>"
      ]
     },
     "metadata": {
      "needs_background": "light"
     },
     "output_type": "display_data"
    }
   ],
   "source": [
    "plt.plot(qwAmplitudes.getStateVec())"
   ]
  },
  {
   "cell_type": "code",
   "execution_count": 67,
   "metadata": {},
   "outputs": [
    {
     "data": {
      "text/plain": [
       "[<matplotlib.lines.Line2D at 0x7fe22fda28b0>]"
      ]
     },
     "execution_count": 67,
     "metadata": {},
     "output_type": "execute_result"
    },
    {
     "data": {
      "image/png": "[encoded data removed]",
      "text/plain": [
       "<Figure size 432x288 with 1 Axes>"
      ]
     },
     "metadata": {
      "needs_background": "light"
     },
     "output_type": "display_data"
    }
   ],
   "source": [
    "plt.plot(qwProbabilities.getProbVec())"
   ]
  },
  {
   "cell_type": "code",
   "execution_count": 79,
   "metadata": {},
   "outputs": [
    {
     "data": {
      "text/plain": [
       "sympy.core.mul.Mul"
      ]
     },
     "execution_count": 79,
     "metadata": {},
     "output_type": "execute_result"
    }
   ],
   "source": [
    "# print((qwController.getOperator().getAdjacencyMatrix()).tolist())\n",
    "type(checkPST(qwController.getOperator().getAdjacencyMatrix(),0,2))"
   ]
  },
  {
   "cell_type": "code",
   "execution_count": null,
   "metadata": {},
   "outputs": [],
   "source": []
  },
  {
   "cell_type": "code",
   "execution_count": 9,
   "metadata": {},
   "outputs": [],
   "source": [
    "n = 5\n",
    "t = 30\n",
    "gamma = 1 / (2 * np.sqrt(2))\n",
    "graph = nx.hypercube_graph(n)\n",
    "marked = [int(n / 2)]"
   ]
  },
  {
   "cell_type": "code",
   "execution_count": 10,
   "metadata": {},
   "outputs": [
    {
     "data": {
      "image/png": "[encoded data removed]",
      "text/plain": [
       "<Figure size 432x288 with 1 Axes>"
      ]
     },
     "metadata": {},
     "output_type": "display_data"
    }
   ],
   "source": [
    "nx.draw(nx.hypercube_graph(3))"
   ]
  },
  {
   "cell_type": "code",
   "execution_count": 11,
   "metadata": {},
   "outputs": [
    {
     "name": "stdout",
     "output_type": "stream",
     "text": [
      "init state inside variable [10]\n",
      "init state inside [10]\n"
     ]
    }
   ],
   "source": [
    "qwController = QWAK(graph, laplacian=False)\n",
    "qwController.runWalk(t,gamma,[10])"
   ]
  },
  {
   "cell_type": "code",
   "execution_count": 12,
   "metadata": {},
   "outputs": [
    {
     "name": "stdout",
     "output_type": "stream",
     "text": [
      "Mean = 19.41796447445253\n",
      "Standard Deviation = 6.479942379687402\n"
     ]
    }
   ],
   "source": [
    "qwProbabilities = qwController.getProbDist()\n",
    "qwAmplitudes = qwController.getWalk()\n",
    "print(f\"Mean = {qwProbabilities.mean()}\")\n",
    "print(f\"Standard Deviation = {qwProbabilities.stdev()}\")"
   ]
  },
  {
   "cell_type": "code",
   "execution_count": 13,
   "metadata": {},
   "outputs": [
    {
     "data": {
      "text/plain": [
       "[<matplotlib.lines.Line2D at 0x7f6fb96b8580>]"
      ]
     },
     "execution_count": 13,
     "metadata": {},
     "output_type": "execute_result"
    },
    {
     "data": {
      "image/png": "[encoded data removed]",
      "text/plain": [
       "<Figure size 432x288 with 1 Axes>"
      ]
     },
     "metadata": {
      "needs_background": "light"
     },
     "output_type": "display_data"
    }
   ],
   "source": [
    "plt.plot(qwAmplitudes.getStateVec())"
   ]
  },
  {
   "cell_type": "code",
   "execution_count": null,
   "metadata": {},
   "outputs": [],
   "source": []
  }
 ],
 "metadata": {
  "kernelspec": {
   "display_name": "Python 3 (ipykernel)",
   "language": "python",
   "name": "python3"
  },
  "language_info": {
   "codemirror_mode": {
    "name": "ipython",
    "version": 3
   },
   "file_extension": ".py",
   "mimetype": "text/x-python",
   "name": "python",
   "nbconvert_exporter": "python",
   "pygments_lexer": "ipython3",
   "version": "3.9.5"
  },
  "latex_envs": {
   "LaTeX_envs_menu_present": true,
   "autoclose": false,
   "autocomplete": true,
   "bibliofile": "biblio.bib",
   "cite_by": "apalike",
   "current_citInitial": 1,
   "eqLabelWithNumbers": true,
   "eqNumInitial": 1,
   "hotkeys": {
    "equation": "Ctrl-E",
    "itemize": "Ctrl-I"
   },
   "labels_anchors": false,
   "latex_user_defs": false,
   "report_style_numbering": false,
   "user_envs_cfg": false
  },
  "pycharm": {
   "stem_cell": {
    "cell_type": "raw",
    "metadata": {
     "collapsed": false
    },
    "source": [
     "%load_ext autoreload\n",
     "%autoreload 2"
    ]
   }
  }
 },
 "nbformat": 4,
 "nbformat_minor": 4
}