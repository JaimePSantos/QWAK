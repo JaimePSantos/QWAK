{
 "cells": [
  {
   "cell_type": "code",
   "execution_count": 1,
   "id": "fbe0dc4e",
   "metadata": {},
   "outputs": [],
   "source": [
    "import networkx as nx\n",
    "import numpy as np\n",
    "from matplotlib import pyplot as plt\n",
    "import timeit\n",
    "\n",
    "from QuantumWalk.State import State\n",
    "from QuantumWalk.Operator import Operator\n",
    "from QuantumWalk.QuantumWalk import QuantumWalk\n",
    "from QuantumWalk.ProbabilityDistribution import ProbabilityDistribution"
   ]
  },
  {
   "cell_type": "markdown",
   "id": "fe81100a",
   "metadata": {},
   "source": [
    "# Cycle Graph"
   ]
  },
  {
   "cell_type": "code",
   "execution_count": 2,
   "id": "4757df1e",
   "metadata": {},
   "outputs": [
    {
     "data": {
      "image/png": "[encoded data removed]",
      "text/plain": [
       "<Figure size 432x288 with 1 Axes>"
      ]
     },
     "metadata": {},
     "output_type": "display_data"
    }
   ],
   "source": [
    "nx.draw(nx.cycle_graph(20))"
   ]
  },
  {
   "cell_type": "code",
   "execution_count": 5,
   "id": "97c75051",
   "metadata": {},
   "outputs": [
    {
     "name": "stdout",
     "output_type": "stream",
     "text": [
      "State took 1.0020999980042689e-05 seconds.\n",
      "\n",
      "N=1000\tTime=600\tGamma=0.35\t\n"
     ]
    }
   ],
   "source": [
    "n = 1000\n",
    "t=600\n",
    "gamma=1/(2*np.sqrt(2))\n",
    "marked = [int(n/2)]\n",
    "\n",
    "initState = State(n,marked)\n",
    "initState.timedBuildState()\n",
    "print(\"\\nN=%s\\tTime=%s\\tGamma=%s\\t\"%(n,t,round(gamma,2)))"
   ]
  },
  {
   "cell_type": "code",
   "execution_count": 6,
   "id": "497c9b75",
   "metadata": {},
   "outputs": [
    {
     "name": "stdout",
     "output_type": "stream",
     "text": [
      "Graph took 0.0040096640000228945 seconds.\n"
     ]
    }
   ],
   "source": [
    "startTimeGraph = timeit.default_timer()\n",
    "graph2 = nx.cycle_graph(n)\n",
    "endTimeGraph = timeit.default_timer()\n",
    "\n",
    "executionTimeGraph = (endTimeGraph - startTimeGraph)\n",
    "print(\"Graph took %s seconds.\" % executionTimeGraph)"
   ]
  },
  {
   "cell_type": "code",
   "execution_count": null,
   "id": "bcd7de87",
   "metadata": {},
   "outputs": [],
   "source": [
    "# ------ Linalg Expm version (much slower) ------ #\n",
    "\n",
    "# op = Operator(graph2,n,t,gamma)\n",
    "\n",
    "# startTimeExpm = timeit.default_timer()\n",
    "# op.buildOperator()\n",
    "# endTimeExpm = timeit.default_timer()\n",
    "\n",
    "# executionTimeExpm = (endTimeExpm - startTimeExpm)\n",
    "# print(\"\\tNormal operator took %s seconds. (linalg.expm)\" % executionTimeExpm)"
   ]
  },
  {
   "cell_type": "code",
   "execution_count": null,
   "id": "4bb61d86",
   "metadata": {},
   "outputs": [],
   "source": [
    "# ------ Diagonal version ------ #\n",
    "op = Operator(graph2,t,gamma)\n",
    "op.timedBuildDiagonalOperator()\n",
    "# print(\"Normal / Diagonal = %s times faster\" % (round(executionTimeExpm / executionTimeDiag, 2)))"
   ]
  },
  {
   "cell_type": "code",
   "execution_count": null,
   "id": "9df5a7f5",
   "metadata": {},
   "outputs": [],
   "source": [
    "walk = QuantumWalk(initState,op)\n",
    "\n",
    "walk.timedBuildWalk()"
   ]
  },
  {
   "cell_type": "code",
   "execution_count": null,
   "id": "d773e67c",
   "metadata": {},
   "outputs": [],
   "source": [
    "probDist = ProbabilityDistribution(walk.getWalk())\n",
    "probDist.timedBuildProbDist()"
   ]
  },
  {
   "cell_type": "code",
   "execution_count": null,
   "id": "158718cc",
   "metadata": {},
   "outputs": [],
   "source": [
    "plt.plot(probDist.getProbDist())"
   ]
  },
  {
   "cell_type": "markdown",
   "id": "687e6ed8",
   "metadata": {},
   "source": [
    "# Complete Graph"
   ]
  },
  {
   "cell_type": "code",
   "execution_count": null,
   "id": "0ffd8142",
   "metadata": {},
   "outputs": [],
   "source": [
    "nx.draw(nx.complete_graph(5))"
   ]
  },
  {
   "cell_type": "code",
   "execution_count": null,
   "id": "eb22a01c",
   "metadata": {},
   "outputs": [],
   "source": [
    "n = 1000\n",
    "t=600\n",
    "gamma=1/(2*np.sqrt(2))\n",
    "marked = [int(n/4),int(n/2),int(n/2)+int(n/4)]\n",
    "\n",
    "initState = State(n,marked)\n",
    "initState.buildState()\n",
    "print(\"N=%s\\tTime=%s\\tGamma=%s\\t\"%(n,t,round(gamma,2)))"
   ]
  },
  {
   "cell_type": "code",
   "execution_count": null,
   "id": "67394d72",
   "metadata": {},
   "outputs": [],
   "source": [
    "startTimeGraph = timeit.default_timer()\n",
    "graph2 = nx.complete_graph(n)\n",
    "endTimeGraph = timeit.default_timer()\n",
    "\n",
    "executionTimeGraph = (endTimeGraph - startTimeGraph)\n",
    "print(\"Graph took %s seconds.\" % executionTimeGraph)"
   ]
  },
  {
   "cell_type": "code",
   "execution_count": null,
   "id": "cd10818e",
   "metadata": {},
   "outputs": [],
   "source": [
    "# ------ Diagonal version ------ #\n",
    "\n",
    "op = Operator(graph2,t,gamma)\n",
    "\n",
    "startTimeExpm = timeit.default_timer()\n",
    "op.buildDiagonalOperator()\n",
    "endTimeExpm = timeit.default_timer()\n",
    "\n",
    "executionTimeExpm = (endTimeExpm - startTimeExpm)\n",
    "print(\"Diagonal operator took %s seconds.\" % executionTimeExpm)\n",
    "# print(\"Normal / Diagonal = %s times faster\" % (round(executionTimeExpm / executionTimeDiag, 2)))"
   ]
  },
  {
   "cell_type": "code",
   "execution_count": null,
   "id": "a1e11859",
   "metadata": {},
   "outputs": [],
   "source": [
    "walk = QuantumWalk(initState,op)\n",
    "\n",
    "startTimeWalk = timeit.default_timer()\n",
    "walk.buildWalk()\n",
    "endTimeWalk = timeit.default_timer()\n",
    "\n",
    "executionTimeWalk = (endTimeWalk - startTimeWalk)\n",
    "print(\"Walk took %s seconds.\" % executionTimeWalk)"
   ]
  },
  {
   "cell_type": "code",
   "execution_count": null,
   "id": "d67de0f5",
   "metadata": {},
   "outputs": [],
   "source": [
    "probDist = ProbabilityDistribution(walk.getWalk())\n",
    "\n",
    "startTimeProbDist = timeit.default_timer()\n",
    "probDist.buildProbDist()\n",
    "endTimeProbDist = timeit.default_timer()\n",
    "\n",
    "executionTimeProbDist = (endTimeProbDist - startTimeProbDist)\n",
    "print(\"ProbDist took %s seconds.\" % executionTimeProbDist)"
   ]
  },
  {
   "cell_type": "code",
   "execution_count": null,
   "id": "404106ed",
   "metadata": {},
   "outputs": [],
   "source": [
    "plt.plot(probDist.getProbDist())"
   ]
  },
  {
   "cell_type": "markdown",
   "id": "39240b94",
   "metadata": {},
   "source": [
    "# 2D Graphs"
   ]
  },
  {
   "cell_type": "code",
   "execution_count": null,
   "id": "00641095",
   "metadata": {},
   "outputs": [],
   "source": [
    "nx.draw(nx.grid_2d_graph(5, 5))"
   ]
  },
  {
   "cell_type": "code",
   "execution_count": null,
   "id": "8ccf9ee5",
   "metadata": {},
   "outputs": [],
   "source": [
    "n = 10\n",
    "m = 100\n",
    "t= 10\n",
    "gamma=1/(2*np.sqrt(2))\n",
    "marked = [int(n/2)]\n",
    "\n",
    "initState = State(n*m,marked)\n",
    "initState.buildState()\n",
    "print(\"N=%s\\tTime=%s\\tGamma=%s\\t\"%(n,t,round(gamma,2)))\n"
   ]
  },
  {
   "cell_type": "code",
   "execution_count": null,
   "id": "7e74c80d",
   "metadata": {},
   "outputs": [],
   "source": [
    "startTimeGraph = timeit.default_timer()\n",
    "graph2 = nx.grid_2d_graph(n, m)\n",
    "endTimeGraph = timeit.default_timer()\n",
    "\n",
    "executionTimeGraph = (endTimeGraph - startTimeGraph)\n",
    "print(\"Graph took %s seconds.\" % executionTimeGraph)\n",
    "# nx.draw(graph2)"
   ]
  },
  {
   "cell_type": "code",
   "execution_count": null,
   "id": "f658736e",
   "metadata": {},
   "outputs": [],
   "source": [
    "# ------ Diagonal version ------ #\n",
    "\n",
    "op = Operator(graph2,t,gamma)\n",
    "\n",
    "startTimeExpm = timeit.default_timer()\n",
    "op.buildDiagonalOperator()\n",
    "endTimeExpm = timeit.default_timer()\n",
    "\n",
    "executionTimeExpm = (endTimeExpm - startTimeExpm)\n",
    "print(\"Diagonal operator took %s seconds.\" % executionTimeExpm)\n",
    "# print(\"Normal / Diagonal = %s times faster\" % (round(executionTimeExpm / executionTimeDiag, 2)))"
   ]
  },
  {
   "cell_type": "code",
   "execution_count": null,
   "id": "43393654",
   "metadata": {},
   "outputs": [],
   "source": [
    "walk = QuantumWalk(initState,op)\n",
    "\n",
    "startTimeWalk = timeit.default_timer()\n",
    "walk.buildWalk()\n",
    "endTimeWalk = timeit.default_timer()\n",
    "\n",
    "executionTimeWalk = (endTimeWalk - startTimeWalk)\n",
    "print(\"Walk took %s seconds.\" % executionTimeWalk)"
   ]
  },
  {
   "cell_type": "code",
   "execution_count": null,
   "id": "5ef87f9a",
   "metadata": {},
   "outputs": [],
   "source": [
    "probDist = ProbabilityDistribution(walk.getWalk())\n",
    "\n",
    "startTimeProbDist = timeit.default_timer()\n",
    "probDist.buildProbDist()\n",
    "endTimeProbDist = timeit.default_timer()\n",
    "\n",
    "executionTimeProbDist = (endTimeProbDist - startTimeProbDist)\n",
    "print(\"ProbDist took %s seconds.\" % executionTimeProbDist)"
   ]
  },
  {
   "cell_type": "code",
   "execution_count": null,
   "id": "d4048c6a",
   "metadata": {},
   "outputs": [],
   "source": [
    "plt.plot(probDist.getProbDist())"
   ]
  },
  {
   "cell_type": "markdown",
   "id": "79067052",
   "metadata": {},
   "source": [
    "# Balanced Tree"
   ]
  },
  {
   "cell_type": "code",
   "execution_count": null,
   "id": "0ddba922",
   "metadata": {},
   "outputs": [],
   "source": [
    "nx.draw(nx.balanced_tree(2, 5))"
   ]
  },
  {
   "cell_type": "code",
   "execution_count": null,
   "id": "5e8c3332",
   "metadata": {},
   "outputs": [],
   "source": [
    "n = 9\n",
    "r = 2\n",
    "t= 500\n",
    "gamma=1/(2*np.sqrt(2))\n"
   ]
  },
  {
   "cell_type": "code",
   "execution_count": null,
   "id": "0e5570b2",
   "metadata": {},
   "outputs": [],
   "source": [
    "startTimeGraph = timeit.default_timer()\n",
    "graph2 =nx.balanced_tree(r, n)\n",
    "endTimeGraph = timeit.default_timer()\n",
    "\n",
    "initState = State(len(graph2),[int(len(graph2)/2)])\n",
    "initState.buildState()\n",
    "print(\"N=%s\\tTime=%s\\tGamma=%s\\t\"%(len(graph2),t,round(gamma,2)))\n",
    "\n",
    "executionTimeGraph = (endTimeGraph - startTimeGraph)\n",
    "print(\"Graph took %s seconds.\" % executionTimeGraph)\n",
    "# nx.draw(graph2)"
   ]
  },
  {
   "cell_type": "code",
   "execution_count": null,
   "id": "0765deb6",
   "metadata": {},
   "outputs": [],
   "source": [
    "# ------ Diagonal version ------ #\n",
    "\n",
    "op = Operator(graph2,t,gamma)\n",
    "\n",
    "startTimeExpm = timeit.default_timer()\n",
    "op.buildDiagonalOperator()\n",
    "endTimeExpm = timeit.default_timer()\n",
    "\n",
    "executionTimeExpm = (endTimeExpm - startTimeExpm)\n",
    "print(\"Diagonal operator took %s seconds.\" % executionTimeExpm)\n",
    "# print(\"Normal / Diagonal = %s times faster\" % (round(executionTimeExpm / executionTimeDiag, 2)))"
   ]
  },
  {
   "cell_type": "code",
   "execution_count": null,
   "id": "b14843f2",
   "metadata": {},
   "outputs": [],
   "source": [
    "walk = QuantumWalk(initState,op)\n",
    "\n",
    "startTimeWalk = timeit.default_timer()\n",
    "walk.buildWalk()\n",
    "endTimeWalk = timeit.default_timer()\n",
    "\n",
    "executionTimeWalk = (endTimeWalk - startTimeWalk)\n",
    "print(\"Walk took %s seconds.\" % executionTimeWalk)"
   ]
  },
  {
   "cell_type": "code",
   "execution_count": null,
   "id": "ef7422f2",
   "metadata": {},
   "outputs": [],
   "source": [
    "probDist = ProbabilityDistribution(walk.getWalk())\n",
    "\n",
    "startTimeProbDist = timeit.default_timer()\n",
    "probDist.buildProbDist()\n",
    "endTimeProbDist = timeit.default_timer()\n",
    "\n",
    "executionTimeProbDist = (endTimeProbDist - startTimeProbDist)\n",
    "print(\"ProbDist took %s seconds.\" % executionTimeProbDist)"
   ]
  },
  {
   "cell_type": "code",
   "execution_count": null,
   "id": "1251b46b",
   "metadata": {},
   "outputs": [],
   "source": [
    "plt.plot(probDist.getProbDist())"
   ]
  },
  {
   "cell_type": "markdown",
   "id": "e3a45f0a",
   "metadata": {},
   "source": [
    "# Barbell Graph"
   ]
  },
  {
   "cell_type": "code",
   "execution_count": null,
   "id": "f4bfe614",
   "metadata": {},
   "outputs": [],
   "source": [
    "nx.draw(nx.barbell_graph(5,1))"
   ]
  },
  {
   "cell_type": "code",
   "execution_count": null,
   "id": "9d4a5a98",
   "metadata": {},
   "outputs": [],
   "source": []
  }
 ],
 "metadata": {
  "kernelspec": {
   "display_name": "Python 3 (ipykernel)",
   "language": "python",
   "name": "python3"
  },
  "language_info": {
   "codemirror_mode": {
    "name": "ipython",
    "version": 3
   },
   "file_extension": ".py",
   "mimetype": "text/x-python",
   "name": "python",
   "nbconvert_exporter": "python",
   "pygments_lexer": "ipython3",
   "version": "3.9.5"
  }
 },
 "nbformat": 4,
 "nbformat_minor": 5
}
