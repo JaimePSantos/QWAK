{
 "cells": [
  {
   "cell_type": "code",
   "execution_count": 1,
   "id": "fbe0dc4e",
   "metadata": {},
   "outputs": [],
   "source": [
    "import networkx as nx\n",
    "import numpy as np\n",
    "from matplotlib import pyplot as plt\n",
    "import timeit\n",
    "\n",
    "from QuantumWalk.State import State\n",
    "from QuantumWalk.Operator import Operator\n",
    "from QuantumWalk.QuantumWalk import QuantumWalk\n",
    "from QuantumWalk.ProbabilityDistribution import ProbabilityDistribution"
   ]
  },
  {
   "cell_type": "markdown",
   "id": "fe81100a",
   "metadata": {},
   "source": [
    "# Cycle Graph"
   ]
  },
  {
   "cell_type": "code",
   "execution_count": 2,
   "id": "97c75051",
   "metadata": {},
   "outputs": [
    {
     "name": "stdout",
     "output_type": "stream",
     "text": [
      "N=1000\tTime=600\tGamma=0.35\t\n"
     ]
    }
   ],
   "source": [
    "n = 1000\n",
    "t=600\n",
    "gamma=1/(2*np.sqrt(2))\n",
    "marked = [int(n/2)]\n",
    "\n",
    "initState = State(n,marked)\n",
    "initState.buildState()\n",
    "print(\"N=%s\\tTime=%s\\tGamma=%s\\t\"%(n,t,round(gamma,2)))"
   ]
  },
  {
   "cell_type": "code",
   "execution_count": 3,
   "id": "497c9b75",
   "metadata": {},
   "outputs": [
    {
     "name": "stdout",
     "output_type": "stream",
     "text": [
      "Graph took 0.0032796849991427734 seconds.\n"
     ]
    }
   ],
   "source": [
    "startTimeGraph = timeit.default_timer()\n",
    "graph2 = nx.cycle_graph(n)\n",
    "endTimeGraph = timeit.default_timer()\n",
    "\n",
    "executionTimeGraph = (endTimeGraph - startTimeGraph)\n",
    "print(\"Graph took %s seconds.\" % executionTimeGraph)"
   ]
  },
  {
   "cell_type": "code",
   "execution_count": 4,
   "id": "bcd7de87",
   "metadata": {},
   "outputs": [],
   "source": [
    "# ------ Linalg Expm version (much slower) ------ #\n",
    "\n",
    "# op = Operator(graph2,n,t,gamma)\n",
    "\n",
    "# startTimeExpm = timeit.default_timer()\n",
    "# op.buildOperator()\n",
    "# endTimeExpm = timeit.default_timer()\n",
    "\n",
    "# executionTimeExpm = (endTimeExpm - startTimeExpm)\n",
    "# print(\"\\tNormal operator took %s seconds. (linalg.expm)\" % executionTimeExpm)"
   ]
  },
  {
   "cell_type": "code",
   "execution_count": 5,
   "id": "4bb61d86",
   "metadata": {},
   "outputs": [
    {
     "name": "stdout",
     "output_type": "stream",
     "text": [
      "Diagonal operator took 7.421290807000332 seconds.\n"
     ]
    }
   ],
   "source": [
    "# ------ Diagonal version ------ #\n",
    "\n",
    "op = Operator(graph2,n,t,gamma)\n",
    "\n",
    "startTimeExpm = timeit.default_timer()\n",
    "op.buildDiagonalOperator()\n",
    "endTimeExpm = timeit.default_timer()\n",
    "\n",
    "executionTimeExpm = (endTimeExpm - startTimeExpm)\n",
    "print(\"Diagonal operator took %s seconds.\" % executionTimeExpm)\n",
    "# print(\"Normal / Diagonal = %s times faster\" % (round(executionTimeExpm / executionTimeDiag, 2)))"
   ]
  },
  {
   "cell_type": "code",
   "execution_count": 6,
   "id": "9df5a7f5",
   "metadata": {},
   "outputs": [
    {
     "name": "stdout",
     "output_type": "stream",
     "text": [
      "Walk took 0.0033897329994942993 seconds.\n"
     ]
    }
   ],
   "source": [
    "walk = QuantumWalk(initState,op)\n",
    "\n",
    "startTimeWalk = timeit.default_timer()\n",
    "walk.buildWalk()\n",
    "endTimeWalk = timeit.default_timer()\n",
    "\n",
    "executionTimeWalk = (endTimeWalk - startTimeWalk)\n",
    "print(\"Walk took %s seconds.\" % executionTimeWalk)"
   ]
  },
  {
   "cell_type": "code",
   "execution_count": 7,
   "id": "d773e67c",
   "metadata": {},
   "outputs": [
    {
     "name": "stdout",
     "output_type": "stream",
     "text": [
      "ProbDist took 0.033838859000752564 seconds.\n"
     ]
    }
   ],
   "source": [
    "probDist = ProbabilityDistribution(walk.getWalk())\n",
    "\n",
    "startTimeProbDist = timeit.default_timer()\n",
    "probDist.buildProbDist()\n",
    "endTimeProbDist = timeit.default_timer()\n",
    "\n",
    "executionTimeProbDist = (endTimeProbDist - startTimeProbDist)\n",
    "print(\"ProbDist took %s seconds.\" % executionTimeProbDist)"
   ]
  },
  {
   "cell_type": "code",
   "execution_count": 8,
   "id": "158718cc",
   "metadata": {},
   "outputs": [
    {
     "data": {
      "text/plain": [
       "[<matplotlib.lines.Line2D at 0x7fea2e943d90>]"
      ]
     },
     "execution_count": 8,
     "metadata": {},
     "output_type": "execute_result"
    },
    {
     "data": {
      "image/png": "[encoded data removed]",
      "text/plain": [
       "<Figure size 432x288 with 1 Axes>"
      ]
     },
     "metadata": {
      "needs_background": "light"
     },
     "output_type": "display_data"
    }
   ],
   "source": [
    "plt.plot(probDist.getProbDist())"
   ]
  },
  {
   "cell_type": "markdown",
   "id": "687e6ed8",
   "metadata": {},
   "source": [
    "# Complete Graph"
   ]
  },
  {
   "cell_type": "code",
   "execution_count": 9,
   "id": "eb22a01c",
   "metadata": {},
   "outputs": [
    {
     "name": "stdout",
     "output_type": "stream",
     "text": [
      "N=1000\tTime=600\tGamma=0.35\t\n"
     ]
    }
   ],
   "source": [
    "n = 1000\n",
    "t=600\n",
    "gamma=1/(2*np.sqrt(2))\n",
    "marked = [int(n/4),int(n/2),int(n/2)+int(n/4)]\n",
    "\n",
    "initState = State(n,marked)\n",
    "initState.buildState()\n",
    "print(\"N=%s\\tTime=%s\\tGamma=%s\\t\"%(n,t,round(gamma,2)))"
   ]
  },
  {
   "cell_type": "code",
   "execution_count": 10,
   "id": "67394d72",
   "metadata": {},
   "outputs": [
    {
     "name": "stdout",
     "output_type": "stream",
     "text": [
      "Graph took 0.6794366680005623 seconds.\n"
     ]
    }
   ],
   "source": [
    "startTimeGraph = timeit.default_timer()\n",
    "graph2 = nx.complete_graph(n)\n",
    "endTimeGraph = timeit.default_timer()\n",
    "\n",
    "executionTimeGraph = (endTimeGraph - startTimeGraph)\n",
    "print(\"Graph took %s seconds.\" % executionTimeGraph)"
   ]
  },
  {
   "cell_type": "code",
   "execution_count": 11,
   "id": "cd10818e",
   "metadata": {},
   "outputs": [
    {
     "name": "stdout",
     "output_type": "stream",
     "text": [
      "Diagonal operator took 7.688404217000425 seconds.\n"
     ]
    }
   ],
   "source": [
    "# ------ Diagonal version ------ #\n",
    "\n",
    "op = Operator(graph2,n,t,gamma)\n",
    "\n",
    "startTimeExpm = timeit.default_timer()\n",
    "op.buildDiagonalOperator()\n",
    "endTimeExpm = timeit.default_timer()\n",
    "\n",
    "executionTimeExpm = (endTimeExpm - startTimeExpm)\n",
    "print(\"Diagonal operator took %s seconds.\" % executionTimeExpm)\n",
    "# print(\"Normal / Diagonal = %s times faster\" % (round(executionTimeExpm / executionTimeDiag, 2)))"
   ]
  },
  {
   "cell_type": "code",
   "execution_count": 12,
   "id": "a1e11859",
   "metadata": {},
   "outputs": [
    {
     "name": "stdout",
     "output_type": "stream",
     "text": [
      "Walk took 0.00344163100089645 seconds.\n"
     ]
    }
   ],
   "source": [
    "walk = QuantumWalk(initState,op)\n",
    "\n",
    "startTimeWalk = timeit.default_timer()\n",
    "walk.buildWalk()\n",
    "endTimeWalk = timeit.default_timer()\n",
    "\n",
    "executionTimeWalk = (endTimeWalk - startTimeWalk)\n",
    "print(\"Walk took %s seconds.\" % executionTimeWalk)"
   ]
  },
  {
   "cell_type": "code",
   "execution_count": 13,
   "id": "d67de0f5",
   "metadata": {},
   "outputs": [
    {
     "name": "stdout",
     "output_type": "stream",
     "text": [
      "ProbDist took 0.04168913099965721 seconds.\n"
     ]
    }
   ],
   "source": [
    "probDist = ProbabilityDistribution(walk.getWalk())\n",
    "\n",
    "startTimeProbDist = timeit.default_timer()\n",
    "probDist.buildProbDist()\n",
    "endTimeProbDist = timeit.default_timer()\n",
    "\n",
    "executionTimeProbDist = (endTimeProbDist - startTimeProbDist)\n",
    "print(\"ProbDist took %s seconds.\" % executionTimeProbDist)"
   ]
  },
  {
   "cell_type": "code",
   "execution_count": 14,
   "id": "404106ed",
   "metadata": {},
   "outputs": [
    {
     "data": {
      "text/plain": [
       "[<matplotlib.lines.Line2D at 0x7fea26c916a0>]"
      ]
     },
     "execution_count": 14,
     "metadata": {},
     "output_type": "execute_result"
    },
    {
     "data": {
      "image/png": "[encoded data removed]",
      "text/plain": [
       "<Figure size 432x288 with 1 Axes>"
      ]
     },
     "metadata": {
      "needs_background": "light"
     },
     "output_type": "display_data"
    }
   ],
   "source": [
    "plt.plot(probDist.getProbDist())"
   ]
  },
  {
   "cell_type": "markdown",
   "id": "39240b94",
   "metadata": {},
   "source": [
    "# 2D Graphs"
   ]
  },
  {
   "cell_type": "code",
   "execution_count": 21,
   "id": "8ccf9ee5",
   "metadata": {},
   "outputs": [
    {
     "name": "stdout",
     "output_type": "stream",
     "text": [
      "N=10\tTime=10\tGamma=0.35\t\n"
     ]
    }
   ],
   "source": [
    "n = 10\n",
    "m = 100\n",
    "t= 10\n",
    "gamma=1/(2*np.sqrt(2))\n",
    "marked = [int(n/2)]\n",
    "\n",
    "initState = State(n*m,marked)\n",
    "initState.buildState()\n",
    "print(\"N=%s\\tTime=%s\\tGamma=%s\\t\"%(n,t,round(gamma,2)))\n"
   ]
  },
  {
   "cell_type": "code",
   "execution_count": 22,
   "id": "7e74c80d",
   "metadata": {},
   "outputs": [
    {
     "name": "stdout",
     "output_type": "stream",
     "text": [
      "Graph took 0.011269307000475237 seconds.\n"
     ]
    }
   ],
   "source": [
    "startTimeGraph = timeit.default_timer()\n",
    "graph2 = nx.grid_2d_graph(n, m)\n",
    "endTimeGraph = timeit.default_timer()\n",
    "\n",
    "executionTimeGraph = (endTimeGraph - startTimeGraph)\n",
    "print(\"Graph took %s seconds.\" % executionTimeGraph)\n",
    "# nx.draw(graph2)"
   ]
  },
  {
   "cell_type": "code",
   "execution_count": 23,
   "id": "f658736e",
   "metadata": {},
   "outputs": [
    {
     "name": "stdout",
     "output_type": "stream",
     "text": [
      "Diagonal operator took 7.626905205001094 seconds.\n"
     ]
    }
   ],
   "source": [
    "# ------ Diagonal version ------ #\n",
    "\n",
    "op = Operator(graph2,n,t,gamma)\n",
    "\n",
    "startTimeExpm = timeit.default_timer()\n",
    "op.buildDiagonalOperator()\n",
    "endTimeExpm = timeit.default_timer()\n",
    "\n",
    "executionTimeExpm = (endTimeExpm - startTimeExpm)\n",
    "print(\"Diagonal operator took %s seconds.\" % executionTimeExpm)\n",
    "# print(\"Normal / Diagonal = %s times faster\" % (round(executionTimeExpm / executionTimeDiag, 2)))"
   ]
  },
  {
   "cell_type": "code",
   "execution_count": 24,
   "id": "43393654",
   "metadata": {},
   "outputs": [
    {
     "name": "stdout",
     "output_type": "stream",
     "text": [
      "Walk took 0.00367953699969803 seconds.\n"
     ]
    }
   ],
   "source": [
    "walk = QuantumWalk(initState,op)\n",
    "\n",
    "startTimeWalk = timeit.default_timer()\n",
    "walk.buildWalk()\n",
    "endTimeWalk = timeit.default_timer()\n",
    "\n",
    "executionTimeWalk = (endTimeWalk - startTimeWalk)\n",
    "print(\"Walk took %s seconds.\" % executionTimeWalk)"
   ]
  },
  {
   "cell_type": "code",
   "execution_count": 25,
   "id": "5ef87f9a",
   "metadata": {},
   "outputs": [
    {
     "name": "stdout",
     "output_type": "stream",
     "text": [
      "ProbDist took 0.03455388299880724 seconds.\n"
     ]
    }
   ],
   "source": [
    "probDist = ProbabilityDistribution(walk.getWalk())\n",
    "\n",
    "startTimeProbDist = timeit.default_timer()\n",
    "probDist.buildProbDist()\n",
    "endTimeProbDist = timeit.default_timer()\n",
    "\n",
    "executionTimeProbDist = (endTimeProbDist - startTimeProbDist)\n",
    "print(\"ProbDist took %s seconds.\" % executionTimeProbDist)"
   ]
  },
  {
   "cell_type": "code",
   "execution_count": 26,
   "id": "d4048c6a",
   "metadata": {},
   "outputs": [
    {
     "data": {
      "text/plain": [
       "[<matplotlib.lines.Line2D at 0x7fea2f0d8100>]"
      ]
     },
     "execution_count": 26,
     "metadata": {},
     "output_type": "execute_result"
    },
    {
     "data": {
      "image/png": "[encoded data removed]",
      "text/plain": [
       "<Figure size 432x288 with 1 Axes>"
      ]
     },
     "metadata": {
      "needs_background": "light"
     },
     "output_type": "display_data"
    }
   ],
   "source": [
    "plt.plot(probDist.getProbDist())"
   ]
  },
  {
   "cell_type": "code",
   "execution_count": null,
   "id": "6df06c17",
   "metadata": {},
   "outputs": [],
   "source": []
  },
  {
   "cell_type": "code",
   "execution_count": null,
   "id": "0ddba922",
   "metadata": {},
   "outputs": [],
   "source": []
  },
  {
   "cell_type": "code",
   "execution_count": null,
   "id": "5e8c3332",
   "metadata": {},
   "outputs": [],
   "source": []
  }
 ],
 "metadata": {
  "kernelspec": {
   "display_name": "Python 3 (ipykernel)",
   "language": "python",
   "name": "python3"
  },
  "language_info": {
   "codemirror_mode": {
    "name": "ipython",
    "version": 3
   },
   "file_extension": ".py",
   "mimetype": "text/x-python",
   "name": "python",
   "nbconvert_exporter": "python",
   "pygments_lexer": "ipython3",
   "version": "3.9.5"
  }
 },
 "nbformat": 4,
 "nbformat_minor": 5
}
