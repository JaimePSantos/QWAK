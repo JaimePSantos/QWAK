{
 "cells": [
  {
   "cell_type": "code",
   "execution_count": 1,
   "id": "85dac9d9-4bc5-40c2-b648-55713639563c",
   "metadata": {
    "jupyter": {
     "source_hidden": true
    }
   },
   "outputs": [],
   "source": [
    "import numpy as np\n",
    "import cupy as cp\n",
    "from scipy.linalg import inv, expm\n",
    "import networkx as nx\n",
    "import time\n",
    "import cupyx.scipy.linalg as cpx_scipy\n",
    "from cupyx.profiler import benchmark\n",
    "\n",
    "from qwak_cupy.State import State as CState\n",
    "from qwak.State import State as State"
   ]
  },
  {
   "cell_type": "markdown",
   "id": "ee027bf0-de71-4aa9-8f2f-43f29799f45d",
   "metadata": {},
   "source": [
    "# State"
   ]
  },
  {
   "cell_type": "code",
   "execution_count": 2,
   "id": "7e3e106c-4dad-4d29-aa71-a9119afcb0d3",
   "metadata": {
    "jupyter": {
     "source_hidden": true
    }
   },
   "outputs": [],
   "source": [
    "n = 4\n",
    "initNodes = [0,1,2,3]\n",
    "\n",
    "initState = CState(n=n,nodeList=initNodes)\n",
    "initState.buildState()\n",
    "# print(initState.getStateVec())"
   ]
  },
  {
   "cell_type": "code",
   "execution_count": 3,
   "id": "aeaf95fb-dc58-4895-8189-bfcfa626db01",
   "metadata": {
    "jupyter": {
     "source_hidden": true
    }
   },
   "outputs": [],
   "source": [
    "n = 4\n",
    "initNodes = [0,1,2,3]\n",
    "\n",
    "initState = State(n=n,nodeList=initNodes)\n",
    "initState.buildState()\n",
    "# print(initState.getStateVec())"
   ]
  },
  {
   "cell_type": "markdown",
   "id": "02f0d850-14fb-4445-8cab-bfaf641a09d6",
   "metadata": {},
   "source": [
    "# Operator"
   ]
  },
  {
   "cell_type": "code",
   "execution_count": 4,
   "id": "be6d6301-e653-4c64-9990-622a4539c49a",
   "metadata": {},
   "outputs": [],
   "source": [
    "from qwak_cupy.Operator import Operator as COperator\n",
    "from qwak.Operator import Operator as Operator"
   ]
  },
  {
   "cell_type": "code",
   "execution_count": 5,
   "id": "fc5a6758-a31f-4e8e-8b8d-84f1ed3e9d5d",
   "metadata": {},
   "outputs": [],
   "source": [
    "n = 4\n",
    "graph = nx.cycle_graph(n)\n",
    "\n",
    "operator = COperator(graph)\n",
    "operator.buildDiagonalOperator(0.5)\n",
    "# print(operator.getOperator().round(3))"
   ]
  },
  {
   "cell_type": "code",
   "execution_count": 6,
   "id": "f21bd260-6fd1-4a02-af74-89bb261312b5",
   "metadata": {},
   "outputs": [],
   "source": [
    "n = 4\n",
    "graph = nx.cycle_graph(n)\n",
    "\n",
    "operator = Operator(graph)\n",
    "operator.buildDiagonalOperator(0.5)\n",
    "# print(operator.getOperator().round(3))"
   ]
  },
  {
   "cell_type": "markdown",
   "id": "fe64fff6-91b0-4ea6-ad74-9d0d5aaa7a99",
   "metadata": {},
   "source": [
    "# QuantumWalk"
   ]
  },
  {
   "cell_type": "code",
   "execution_count": 7,
   "id": "a8d9ed7b-e340-4871-b533-8f7e44093083",
   "metadata": {},
   "outputs": [],
   "source": [
    "from qwak_cupy.QuantumWalk import QuantumWalk as CQuantumWalk\n",
    "from qwak.QuantumWalk import QuantumWalk as QuantumWalk"
   ]
  },
  {
   "cell_type": "code",
   "execution_count": 8,
   "id": "7d880d7a-c2e7-4c87-bb5d-0e2423fe1ba3",
   "metadata": {},
   "outputs": [],
   "source": [
    "n = 4\n",
    "initNodes = [0,1,2,3]\n",
    "\n",
    "initState = CState(n=n,nodeList=initNodes)\n",
    "initState.buildState()\n",
    "\n",
    "graph = nx.cycle_graph(n)\n",
    "\n",
    "operator = COperator(graph)\n",
    "operator.buildDiagonalOperator(0.5)\n",
    "\n",
    "quantumWalk = CQuantumWalk(initState,operator)\n",
    "quantumWalk.buildWalk()\n",
    "finalState = quantumWalk.getFinalState()\n",
    "# print(finalState.getStateVec().round(3))"
   ]
  },
  {
   "cell_type": "code",
   "execution_count": 9,
   "id": "c8676ded-4cbf-4d9d-a0ee-c1bd31d64e6e",
   "metadata": {},
   "outputs": [],
   "source": [
    "n = 4\n",
    "initNodes = [0,1,2,3]\n",
    "\n",
    "initState = State(n,initNodes)\n",
    "initState.buildState()\n",
    "\n",
    "graph = nx.cycle_graph(n)\n",
    "\n",
    "operator = Operator(graph)\n",
    "operator.buildDiagonalOperator(0.5)\n",
    "\n",
    "quantumWalk = QuantumWalk(initState,operator)\n",
    "quantumWalk.buildWalk()\n",
    "finalState = quantumWalk.getFinalState()\n",
    "# print(finalState.getStateVec().round(3))"
   ]
  },
  {
   "cell_type": "markdown",
   "id": "45462613-5636-4f3a-9065-64fe973019ae",
   "metadata": {},
   "source": [
    "# ProbabilityDistribution"
   ]
  },
  {
   "cell_type": "code",
   "execution_count": 10,
   "id": "4d6e5b2d-4db6-49b4-a11e-a373eee9a8bc",
   "metadata": {},
   "outputs": [],
   "source": [
    "from qwak_cupy.ProbabilityDistribution import ProbabilityDistribution as CProbabilityDistribution\n",
    "from qwak.ProbabilityDistribution import ProbabilityDistribution as ProbabilityDistribution"
   ]
  },
  {
   "cell_type": "code",
   "execution_count": 14,
   "id": "0a4685c7-03d2-4605-8bdd-83ee275693db",
   "metadata": {},
   "outputs": [
    {
     "name": "stdout",
     "output_type": "stream",
     "text": [
      "<class 'qwak_cupy.ProbabilityDistribution.ProbabilityDistribution'>\n",
      "[0.25 0.25 0.25 0.25]\n"
     ]
    }
   ],
   "source": [
    "n = 4\n",
    "initNodes = [0,1,2,3]\n",
    "\n",
    "initState = CState(n=n,nodeList=initNodes)\n",
    "initState.buildState()\n",
    "\n",
    "graph = nx.cycle_graph(n)\n",
    "\n",
    "operator = COperator(graph)\n",
    "operator.buildDiagonalOperator(0.5)\n",
    "\n",
    "quantumWalk = CQuantumWalk(initState,operator)\n",
    "quantumWalk.buildWalk()\n",
    "finalState = quantumWalk.getFinalState()\n",
    "\n",
    "probDist = CProbabilityDistribution(finalState)\n",
    "print(type(probDist))\n",
    "probDist.buildProbDist()\n",
    "print(probDist.getProbVec())\n"
   ]
  },
  {
   "cell_type": "code",
   "execution_count": 15,
   "id": "fd26e8ed-26d1-4be6-9cff-ee64ef90b6a8",
   "metadata": {},
   "outputs": [
    {
     "name": "stdout",
     "output_type": "stream",
     "text": [
      "<class 'qwak.ProbabilityDistribution.ProbabilityDistribution'>\n",
      "[0.25 0.25 0.25 0.25]\n"
     ]
    }
   ],
   "source": [
    "n = 4\n",
    "initNodes = [0,1,2,3]\n",
    "\n",
    "initState = State(n,initNodes)\n",
    "initState.buildState()\n",
    "\n",
    "graph = nx.cycle_graph(n)\n",
    "\n",
    "operator = Operator(graph)\n",
    "operator.buildDiagonalOperator(0.5)\n",
    "\n",
    "quantumWalk = QuantumWalk(initState,operator)\n",
    "quantumWalk.buildWalk()\n",
    "finalState = quantumWalk.getFinalState()\n",
    "\n",
    "probDist = ProbabilityDistribution(finalState)\n",
    "print(type(probDist))\n",
    "probDist.buildProbDist()\n",
    "print(probDist.getProbVec())"
   ]
  },
  {
   "cell_type": "code",
   "execution_count": null,
   "id": "f0034082-2fe8-4a4a-8b8e-100fd301b456",
   "metadata": {},
   "outputs": [],
   "source": []
  }
 ],
 "metadata": {
  "kernelspec": {
   "display_name": "Python 3 (ipykernel)",
   "language": "python",
   "name": "python3"
  },
  "language_info": {
   "codemirror_mode": {
    "name": "ipython",
    "version": 3
   },
   "file_extension": ".py",
   "mimetype": "text/x-python",
   "name": "python",
   "nbconvert_exporter": "python",
   "pygments_lexer": "ipython3",
   "version": "3.12.2"
  }
 },
 "nbformat": 4,
 "nbformat_minor": 5
}
