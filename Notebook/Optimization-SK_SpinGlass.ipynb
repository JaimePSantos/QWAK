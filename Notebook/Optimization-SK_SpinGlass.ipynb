{
 "cells": [
  {
   "cell_type": "code",
   "execution_count": 2,
   "id": "d73f0766-31e6-490e-bc53-eb09edd61f66",
   "metadata": {},
   "outputs": [
    {
     "name": "stdout",
     "output_type": "stream",
     "text": [
      "Python: 3.10.9\n",
      "Numba:  0.56.4\n"
     ]
    }
   ],
   "source": [
    "from qwak.qwak import QWAK\n",
    "from utils.plotTools import searchProbStepsPlotting,searchProbStepsPlotting2\n",
    "\n",
    "import networkx as nx\n",
    "import numpy as np\n",
    "import matplotlib as mpl\n",
    "from matplotlib import pyplot as plt\n",
    "from math import sqrt, ceil, pow\n",
    "import scipy.special as sp\n",
    "from scipy.linalg import expm\n",
    "import sympy as simp\n",
    "import math\n",
    "\n",
    "import scipy.sparse as sps\n",
    "\n",
    "import numba\n",
    "from numba import jit\n",
    "import random\n",
    "\n",
    "from gurobipy import *\n",
    "import gurobipy as grb\n",
    "\n",
    "from platform import python_version\n",
    "print('Python:', python_version())\n",
    "print('Numba: ', numba.__version__)\n"
   ]
  },
  {
   "cell_type": "code",
   "execution_count": 3,
   "id": "3e0b9ab1-9c27-442f-8429-cd6a22f5e589",
   "metadata": {},
   "outputs": [],
   "source": [
    "def decimal_to_ket(n, num_qubits):\n",
    "    \"\"\"\n",
    "    Converts a decimal number to a numpy matrix representing its quantum computing ket notation \n",
    "    in the computational basis.\n",
    "    \n",
    "    Parameters:\n",
    "    n (int): Decimal number to be converted.\n",
    "    num_qubits (int): Number of qubits in the quantum circuit. \n",
    "    \n",
    "    Returns:\n",
    "    matrix (numpy.ndarray): Matrix representation of the ket notation of the decimal number \n",
    "    in the computational basis.\n",
    "    \"\"\"\n",
    "    ket_notation = bin(n)[2:].zfill(num_qubits)\n",
    "    matrix = np.zeros((2 ** num_qubits, 1))\n",
    "    matrix[int(ket_notation, 2)][0] = 1\n",
    "    return matrix\n",
    "\n",
    "def randomEnergyHamiltonian(nQubits,energies):\n",
    "    N = 2**nQubits\n",
    "    hamiltonian = np.zeros((N,N))\n",
    "    for j in range(0,N):\n",
    "        state = decimal_to_ket(j,nQubits)\n",
    "        hamiltonian += energies[j] * np.outer(state,state)\n",
    "    return np.matrix(hamiltonian)\n",
    "\n",
    "def is_unitary(matrix: np.ndarray) -> bool:\n",
    "    return np.allclose(np.eye(len(matrix)), matrix.H*matrix)\n",
    "\n",
    "def z_gate(nQubits,targetQubit):\n",
    "    zGate = np.array([[1,0],[0,-1]])\n",
    "    idGate = np.array([[1,0],[0,1]])\n",
    "    largeIdGate = idGate\n",
    "    largeIdGate2 = idGate\n",
    "    for i in range(0,targetQubit-1):\n",
    "        largeIdGate = np.kron(idGate,largeIdGate)\n",
    "\n",
    "    for i in range(targetQubit+1,nQubits-1):\n",
    "        largeIdGate2 = np.kron(idGate,largeIdGate2)\n",
    "    largeZGate = np.kron(np.kron(largeIdGate, zGate),largeIdGate2)\n",
    "    return largeZGate\n",
    "\n",
    "def Zj_operator(n, j):\n",
    "    I = np.eye(2)\n",
    "    Z = np.array([[1, 0], [0, -1]])\n",
    "    operators = [I]*n\n",
    "    operators[j] = Z\n",
    "    operator = np.kron(operators[0], operators[1])\n",
    "    for k in range(2, n):\n",
    "        operator = np.kron(operator, operators[k])\n",
    "    return operator.reshape(2**n, 2**n)"
   ]
  },
  {
   "cell_type": "markdown",
   "id": "997baa98-b225-42c3-b891-1811916ae5f1",
   "metadata": {},
   "source": [
    "# REM"
   ]
  },
  {
   "cell_type": "code",
   "execution_count": 4,
   "id": "a5999b27-7eb8-4fea-a7b6-9eba4c6e6a9f",
   "metadata": {},
   "outputs": [
    {
     "name": "stdout",
     "output_type": "stream",
     "text": [
      "False\n"
     ]
    }
   ],
   "source": [
    "# energyFj = np.load('Datasets/SpinGlass/rem_instances/rem_instances/aabqpiididwalchfdxeehremvyeldt.nrg.npy') #5 qubits\n",
    "energyFj = np.load('Datasets/SpinGlass/rem_instances/rem_instances/aaawtshnbzkjyxorphyjanhkhjedjb.nrg.npy') #9 qubits\n",
    "nQubits = int(np.log2(len(energyFj)))\n",
    "remHamiltonian = randomEnergyHamiltonian(nQubits,energyFj)\n",
    "print(is_unitary(remHamiltonian))"
   ]
  },
  {
   "cell_type": "code",
   "execution_count": 14,
   "id": "7877dbc1-a288-4de5-9a17-87144ab3b8a6",
   "metadata": {},
   "outputs": [
    {
     "name": "stdout",
     "output_type": "stream",
     "text": [
      "[[ 0.-0.j -1.-0.j -1.-0.j  0.-0.j -1.-0.j  0.-0.j  0.-0.j  0.-0.j]\n",
      " [-1.-0.j  0.-0.j  0.-0.j -1.-0.j  0.-0.j -1.-0.j  0.-0.j  0.-0.j]\n",
      " [-1.-0.j  0.-0.j  0.-0.j -1.-0.j  0.-0.j  0.-0.j -1.-0.j  0.-0.j]\n",
      " [ 0.-0.j -1.-0.j -1.-0.j  0.-0.j  0.-0.j  0.-0.j  0.-0.j -1.-0.j]\n",
      " [-1.-0.j  0.-0.j  0.-0.j  0.-0.j  0.-0.j -1.-0.j -1.-0.j  0.-0.j]\n",
      " [ 0.-0.j -1.-0.j  0.-0.j  0.-0.j -1.-0.j  0.-0.j  0.-0.j -1.-0.j]\n",
      " [ 0.-0.j  0.-0.j -1.-0.j  0.-0.j -1.-0.j  0.-0.j  0.-0.j -1.-0.j]\n",
      " [ 0.-0.j  0.-0.j  0.-0.j -1.-0.j  0.-0.j -1.-0.j -1.-0.j  0.-0.j]]\n"
     ]
    },
    {
     "ename": "ValueError",
     "evalue": "operands could not be broadcast together with shapes (8,8) (512,512) ",
     "output_type": "error",
     "traceback": [
      "\u001B[1;31m---------------------------------------------------------------------------\u001B[0m",
      "\u001B[1;31mValueError\u001B[0m                                Traceback (most recent call last)",
      "Cell \u001B[1;32mIn[14], line 20\u001B[0m\n\u001B[0;32m     15\u001B[0m walkHamiltonian \u001B[38;5;241m=\u001B[39m qw\u001B[38;5;241m.\u001B[39mgetHamiltonian()\n\u001B[0;32m     16\u001B[0m \u001B[38;5;66;03m# print(-walkHamiltonian)\u001B[39;00m\n\u001B[0;32m     17\u001B[0m \u001B[38;5;66;03m# print(is_unitary(np.matrix(walkHamiltonian)))\u001B[39;00m\n\u001B[0;32m     18\u001B[0m \u001B[38;5;66;03m# print(np.eye(len(walkHamiltonian)))\u001B[39;00m\n\u001B[0;32m     19\u001B[0m \u001B[38;5;66;03m# print(walkHamiltonian.dot(walkHamiltonian.T.conj()))\u001B[39;00m\n\u001B[1;32m---> 20\u001B[0m remWalkHamiltonian \u001B[38;5;241m=\u001B[39m \u001B[43mwalkHamiltonian\u001B[49m\u001B[43m \u001B[49m\u001B[38;5;241;43m+\u001B[39;49m\u001B[43m \u001B[49m\u001B[43mremHamiltonian\u001B[49m\n\u001B[0;32m     21\u001B[0m qw\u001B[38;5;241m.\u001B[39msetHamiltonian(remWalkHamiltonian)\n\u001B[0;32m     22\u001B[0m \u001B[38;5;66;03m# print(is_unitary(np.array([[1,0],[0,-1]])))\u001B[39;00m\n\u001B[0;32m     23\u001B[0m \n\u001B[0;32m     24\u001B[0m \u001B[38;5;66;03m# qw.runMultipleWalks(timeList=timeList,initStateList=initCond)\u001B[39;00m\n",
      "\u001B[1;31mValueError\u001B[0m: operands could not be broadcast together with shapes (8,8) (512,512) "
     ]
    }
   ],
   "source": [
    "n = 2**nQubits\n",
    "t = (np.pi/2) * np.sqrt(n) \n",
    "timeList = [ x for x in np.linspace(0,80,50)]\n",
    "\n",
    "# gamma = 0.38863810323671366\n",
    "# gamma = 0.41708811804605234\n",
    "gamma = 1\n",
    "initCond = list(range(0,n))\n",
    "graph = nx.hypercube_graph(nQubits)\n",
    "\n",
    "qw = QWAK(graph=graph,gamma=gamma,laplacian=False)\n",
    "print(qw.getAdjacencyMatrix())\n",
    "\n",
    "\n",
    "walkHamiltonian = qw.getHamiltonian()\n",
    "# print(-walkHamiltonian)\n",
    "# print(is_unitary(np.matrix(walkHamiltonian)))\n",
    "# print(np.eye(len(walkHamiltonian)))\n",
    "# print(walkHamiltonian.dot(walkHamiltonian.T.conj()))\n",
    "remWalkHamiltonian = walkHamiltonian + remHamiltonian\n",
    "qw.setHamiltonian(remWalkHamiltonian)\n",
    "# print(is_unitary(np.array([[1,0],[0,-1]])))\n",
    "\n",
    "# qw.runMultipleWalks(timeList=timeList,initStateList=initCond)\n",
    "qw.runWalk(time=t,initStateList=initCond)\n",
    "plt.plot(qw.getProbVec())"
   ]
  },
  {
   "cell_type": "code",
   "execution_count": 6,
   "id": "7abb66e8-ee81-4c79-b18a-a7b3a9c367ad",
   "metadata": {},
   "outputs": [],
   "source": [
    "for prob in qw.getProbVecList():\n",
    "    plt.plot(prob)"
   ]
  },
  {
   "cell_type": "code",
   "execution_count": 7,
   "id": "0c9265b5-9e05-4b91-9fe0-20f5f7b5b695",
   "metadata": {
    "tags": []
   },
   "outputs": [
    {
     "ename": "NameError",
     "evalue": "name 'animation' is not defined",
     "output_type": "error",
     "traceback": [
      "\u001B[1;31m---------------------------------------------------------------------------\u001B[0m",
      "\u001B[1;31mNameError\u001B[0m                                 Traceback (most recent call last)",
      "Cell \u001B[1;32mIn[7], line 27\u001B[0m\n\u001B[0;32m     25\u001B[0m ax \u001B[38;5;241m=\u001B[39m plt\u001B[38;5;241m.\u001B[39maxes(xlim\u001B[38;5;241m=\u001B[39m(\u001B[38;5;241m0\u001B[39m, \u001B[38;5;241m2\u001B[39m\u001B[38;5;241m*\u001B[39m\u001B[38;5;241m*\u001B[39mnQubits), ylim\u001B[38;5;241m=\u001B[39m(\u001B[38;5;241m0\u001B[39m, \u001B[38;5;241m1\u001B[39m))\n\u001B[0;32m     26\u001B[0m line, \u001B[38;5;241m=\u001B[39m ax\u001B[38;5;241m.\u001B[39mplot([], [], lw\u001B[38;5;241m=\u001B[39m\u001B[38;5;241m2\u001B[39m)\n\u001B[1;32m---> 27\u001B[0m anim \u001B[38;5;241m=\u001B[39m \u001B[43manimation\u001B[49m\u001B[38;5;241m.\u001B[39mFuncAnimation(fig, animate, init_func\u001B[38;5;241m=\u001B[39minit, frames\u001B[38;5;241m=\u001B[39m\u001B[38;5;241m500\u001B[39m, interval\u001B[38;5;241m=\u001B[39m\u001B[38;5;241m400\u001B[39m, blit\u001B[38;5;241m=\u001B[39m\u001B[38;5;28;01mTrue\u001B[39;00m)\n\u001B[0;32m     28\u001B[0m anim\u001B[38;5;241m.\u001B[39msave(\u001B[38;5;124m'\u001B[39m\u001B[38;5;124mContQuantumWalk.mp4\u001B[39m\u001B[38;5;124m'\u001B[39m, fps\u001B[38;5;241m=\u001B[39m\u001B[38;5;241m30\u001B[39m, extra_args\u001B[38;5;241m=\u001B[39m[\u001B[38;5;124m'\u001B[39m\u001B[38;5;124m-vcodec\u001B[39m\u001B[38;5;124m'\u001B[39m, \u001B[38;5;124m'\u001B[39m\u001B[38;5;124mlibx264\u001B[39m\u001B[38;5;124m'\u001B[39m])\n",
      "\u001B[1;31mNameError\u001B[0m: name 'animation' is not defined"
     ]
    },
    {
     "data": {
      "image/png": "[encoded data removed]",
      "text/plain": [
       "<Figure size 640x480 with 1 Axes>"
      ]
     },
     "metadata": {},
     "output_type": "display_data"
    }
   ],
   "source": [
    "from matplotlib.animation import FuncAnimation\n",
    "plt.style.use('seaborn-pastel')\n",
    "\n",
    "def init():\n",
    "    line.set_data([], [])\n",
    "    return line,\n",
    "\n",
    "def animate(i):\n",
    "    n = 2**nQubits\n",
    "    gamma = 0.41708811804605234\n",
    "    initCond = list(range(0,n))\n",
    "    graph = nx.hypercube_graph(nQubits)\n",
    "    qw = QWAK(graph=graph,gamma=gamma,laplacian=False)\n",
    "    walkHamiltonian = qw.getHamiltonian()\n",
    "    remWalkHamiltonian = walkHamiltonian + remHamiltonian\n",
    "    qw.setHamiltonian(remWalkHamiltonian)\n",
    "    qw.runWalk(time=i,initStateList=initCond)\n",
    "    x = np.arange(0,n)\n",
    "    y = qw.getProbVec()\n",
    "    line.set_data(x,y)\n",
    "    return line,\n",
    "\n",
    "\n",
    "fig = plt.figure()\n",
    "ax = plt.axes(xlim=(0, 2**nQubits), ylim=(0, 1))\n",
    "line, = ax.plot([], [], lw=2)\n",
    "anim = animation.FuncAnimation(fig, animate, init_func=init, frames=500, interval=400, blit=True)\n",
    "anim.save('ContQuantumWalk.mp4', fps=30, extra_args=['-vcodec', 'libx264'])"
   ]
  },
  {
   "cell_type": "markdown",
   "id": "d34b3b4b-74f5-4bea-a0d7-2772a791fdc2",
   "metadata": {},
   "source": [
    "# SK"
   ]
  },
  {
   "cell_type": "code",
   "execution_count": 10,
   "id": "def09675-1cf5-42ce-ab4b-8b423e4b5b4a",
   "metadata": {},
   "outputs": [],
   "source": [
    "import numpy as np\n",
    "\n",
    "def quantum_SK_model(n,J, h):\n",
    "    \"\"\"\n",
    "    Constructs the quantum Hamiltonian for the Sherrington-Kirkpatrick model with single-body field terms.\n",
    "    \n",
    "    Args:\n",
    "        J (float): the coupling strength between qubits\n",
    "        h (float): the strength of the external field\n",
    "        n (int): the number of qubits\n",
    "        \n",
    "    Returns:\n",
    "        H (ndarray): the Hamiltonian as a 2D numpy array\n",
    "    \"\"\"\n",
    "    \n",
    "    # construct pairwise interaction term\n",
    "    pairwise = 0\n",
    "    for i in range(n):\n",
    "        for j in range(i+1, n):\n",
    "            pairwise += J[i,j] * Zj_operator(n,i) * Zj_operator(n,j)\n",
    "    \n",
    "    # construct single-body field term\n",
    "    field = 0\n",
    "    # for i in range(n):\n",
    "    #     field += h[i] * Zj_operator(n,i)\n",
    "    \n",
    "    # construct full Hamiltonian\n",
    "    H = (-1/2)*pairwise - field\n",
    "    \n",
    "    return H\n"
   ]
  },
  {
   "cell_type": "code",
   "execution_count": 11,
   "id": "ec5f42e6-1ce8-4ae3-be52-806fee50764a",
   "metadata": {},
   "outputs": [
    {
     "name": "stdout",
     "output_type": "stream",
     "text": [
      "[[ 0.92592688 -0.         -0.         -0.         -0.         -0.\n",
      "  -0.         -0.        ]\n",
      " [-0.         -1.00012301 -0.         -0.         -0.         -0.\n",
      "  -0.         -0.        ]\n",
      " [-0.         -0.          1.36702884 -0.         -0.         -0.\n",
      "  -0.         -0.        ]\n",
      " [-0.         -0.         -0.         -1.29283271 -0.         -0.\n",
      "  -0.         -0.        ]\n",
      " [-0.         -0.         -0.         -0.         -1.29283271 -0.\n",
      "  -0.         -0.        ]\n",
      " [-0.         -0.         -0.         -0.         -0.          1.36702884\n",
      "  -0.         -0.        ]\n",
      " [-0.         -0.         -0.         -0.         -0.         -0.\n",
      "  -1.00012301 -0.        ]\n",
      " [-0.         -0.         -0.         -0.         -0.         -0.\n",
      "  -0.          0.92592688]]\n"
     ]
    }
   ],
   "source": [
    "energyJjk = np.load('Datasets/SpinGlass/sk_instances/aaagibbewlveughpoboyciorpvqqif.Jmat.npy') #9 qubits\n",
    "energyHj = np.load('Datasets/SpinGlass/sk_instances/aaagibbewlveughpoboyciorpvqqif.hvec.npy') #9 qubits\n",
    "# print(energyJjk)\n",
    "# print(energyHj)\n",
    "nQubits = int(np.log2(len(energyJjk)))\n",
    "# print(nQubits)\n",
    "skHamiltonian = quantum_SK_model(nQubits,energyJjk,energyHj)\n",
    "print(skHamiltonian)"
   ]
  },
  {
   "cell_type": "code",
   "execution_count": 19,
   "id": "cd14200c-f6e4-4791-8510-6338619de44e",
   "metadata": {},
   "outputs": [
    {
     "data": {
      "text/plain": [
       "[<matplotlib.lines.Line2D at 0x2201baf1570>]"
      ]
     },
     "execution_count": 19,
     "metadata": {},
     "output_type": "execute_result"
    },
    {
     "data": {
      "image/png": "[encoded data removed]",
      "text/plain": [
       "<Figure size 640x480 with 1 Axes>"
      ]
     },
     "metadata": {},
     "output_type": "display_data"
    }
   ],
   "source": [
    "n = 2**nQubits\n",
    "t = (np.pi/2) * np.sqrt(n) \n",
    "timeList = [ x for x in np.linspace(0,80,50)]\n",
    "\n",
    "# gamma = 0.38863810323671366\n",
    "gamma = 1.4100649088572166\n",
    "initCond = list(range(0,n))\n",
    "graph = nx.hypercube_graph(nQubits)\n",
    "\n",
    "qw = QWAK(graph=graph,gamma=gamma,laplacian=False)\n",
    "\n",
    "walkHamiltonian = qw.getHamiltonian()\n",
    "# print(-walkHamiltonian)\n",
    "# print(is_unitary(np.matrix(walkHamiltonian)))\n",
    "# print(np.eye(len(walkHamiltonian)))\n",
    "# print(walkHamiltonian.dot(walkHamiltonian.T.conj()))\n",
    "skWalkHamiltonian = walkHamiltonian + skHamiltonian\n",
    "qw.setHamiltonian(skWalkHamiltonian)\n",
    "# print(is_unitary(np.array([[1,0],[0,-1]])))\n",
    "\n",
    "# qw.runMultipleWalks(timeList=timeList,initStateList=initCond)\n",
    "qw.runWalk(time=t,initStateList=initCond)\n",
    "plt.plot(qw.getProbVec())"
   ]
  },
  {
   "cell_type": "code",
   "execution_count": null,
   "id": "70972629-ca73-43a5-a71b-5d63d8d4567f",
   "metadata": {},
   "outputs": [],
   "source": []
  }
 ],
 "metadata": {
  "kernelspec": {
   "display_name": "Python 3 (ipykernel)",
   "language": "python",
   "name": "python3"
  },
  "language_info": {
   "codemirror_mode": {
    "name": "ipython",
    "version": 3
   },
   "file_extension": ".py",
   "mimetype": "text/x-python",
   "name": "python",
   "nbconvert_exporter": "python",
   "pygments_lexer": "ipython3",
   "version": "3.10.9"
  }
 },
 "nbformat": 4,
 "nbformat_minor": 5
}
