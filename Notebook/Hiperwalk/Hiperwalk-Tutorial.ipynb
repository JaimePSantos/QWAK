{
 "cells": [
  {
   "cell_type": "code",
   "execution_count": 1,
   "id": "6f0ab1a3-d9c6-435d-9fd2-17b6678e8c76",
   "metadata": {},
   "outputs": [],
   "source": [
    "import hiperwalk as hpw"
   ]
  },
  {
   "cell_type": "markdown",
   "id": "fa190caa-88ed-4335-920c-9ed75f87f62d",
   "metadata": {},
   "source": [
    "# Coined QW"
   ]
  },
  {
   "cell_type": "code",
   "execution_count": 3,
   "id": "5400b59c-111c-40b4-8049-7e5cd16380d7",
   "metadata": {},
   "outputs": [
    {
     "data": {
      "text/plain": [
       "<hiperwalk.graph.graph.Graph at 0x21cd2fbda90>"
      ]
     },
     "execution_count": 3,
     "metadata": {},
     "output_type": "execute_result"
    }
   ],
   "source": [
    "N = 11\n",
    "line = hpw.Line(N)\n",
    "line "
   ]
  },
  {
   "cell_type": "code",
   "execution_count": 4,
   "id": "3c1e38ec-1ad2-4c74-ba76-ea89dcac0340",
   "metadata": {},
   "outputs": [
    {
     "data": {
      "text/plain": [
       "<hiperwalk.quantum_walk.coined.Coined at 0x21c93d482f0>"
      ]
     },
     "execution_count": 4,
     "metadata": {},
     "output_type": "execute_result"
    }
   ],
   "source": [
    "qw = hpw.Coined(line)\n",
    "qw "
   ]
  },
  {
   "cell_type": "code",
   "execution_count": 5,
   "id": "baf21c6a-6b5b-4ccf-b559-908d03960c76",
   "metadata": {},
   "outputs": [
    {
     "data": {
      "text/plain": [
       "array([0., 0., 0., 0., 0., 0., 0., 0., 0., 1., 0., 0., 0., 0., 0., 0., 0.,\n",
       "       0., 0., 0.])"
      ]
     },
     "execution_count": 5,
     "metadata": {},
     "output_type": "execute_result"
    }
   ],
   "source": [
    "vertex = N // 2\n",
    "state = qw.ket((vertex, vertex + 1))\n",
    "state"
   ]
  },
  {
   "cell_type": "code",
   "execution_count": 7,
   "id": "ef2c9e22-fba6-441a-ba4f-924726bc963c",
   "metadata": {},
   "outputs": [
    {
     "data": {
      "text/plain": [
       "array([[ 0.1767767 ,  0.        ,  0.        , -0.1767767 ,  0.35355339,\n",
       "         0.        ,  0.        ,  0.        , -0.35355339,  0.        ,\n",
       "         0.        ,  0.        ,  0.35355339,  0.        ,  0.        ,\n",
       "         0.70710678,  0.1767767 ,  0.        ,  0.        ,  0.1767767 ]])"
      ]
     },
     "execution_count": 7,
     "metadata": {},
     "output_type": "execute_result"
    }
   ],
   "source": [
    "final_state = qw.simulate(range=(N//2, N//2 + 1),\n",
    "                          state=state)\n",
    "final_state"
   ]
  },
  {
   "cell_type": "code",
   "execution_count": 9,
   "id": "36ad5b92-035b-4061-b8bc-4224c8cd761c",
   "metadata": {},
   "outputs": [
    {
     "data": {
      "text/plain": [
       "array([[0.03125, 0.     , 0.15625, 0.     , 0.125  , 0.     , 0.125  ,\n",
       "        0.     , 0.53125, 0.     , 0.03125]])"
      ]
     },
     "execution_count": 9,
     "metadata": {},
     "output_type": "execute_result"
    }
   ],
   "source": [
    "probability = qw.probability_distribution(final_state)\n",
    "probability"
   ]
  },
  {
   "cell_type": "code",
   "execution_count": 10,
   "id": "bc611119-76f4-4442-b917-0f1a56fe174c",
   "metadata": {},
   "outputs": [
    {
     "data": {
      "image/png": "[encoded data removed]",
      "text/plain": [
       "<Figure size 1000x600 with 1 Axes>"
      ]
     },
     "metadata": {},
     "output_type": "display_data"
    }
   ],
   "source": [
    "hpw.plot_probability_distribution(probability) \n"
   ]
  },
  {
   "cell_type": "markdown",
   "id": "949b0914-6e7a-4c8a-a36b-e9a8a7dfa1e2",
   "metadata": {},
   "source": [
    "# CTQW"
   ]
  },
  {
   "cell_type": "code",
   "execution_count": 14,
   "id": "09abd182-8b9e-4138-bbbf-0395f443eada",
   "metadata": {},
   "outputs": [
    {
     "ename": "IndexError",
     "evalue": "too many indices for array: array is 1-dimensional, but 2 were indexed",
     "output_type": "error",
     "traceback": [
      "\u001b[1;31m---------------------------------------------------------------------------\u001b[0m",
      "\u001b[1;31mIndexError\u001b[0m                                Traceback (most recent call last)",
      "Cell \u001b[1;32mIn[14], line 7\u001b[0m\n\u001b[0;32m      4\u001b[0m cycle\n\u001b[0;32m      6\u001b[0m vertex \u001b[38;5;241m=\u001b[39m N \u001b[38;5;241m/\u001b[39m\u001b[38;5;241m/\u001b[39m \u001b[38;5;241m2\u001b[39m\n\u001b[1;32m----> 7\u001b[0m state \u001b[38;5;241m=\u001b[39m \u001b[43mqw\u001b[49m\u001b[38;5;241;43m.\u001b[39;49m\u001b[43mket\u001b[49m\u001b[43m(\u001b[49m\u001b[43m(\u001b[49m\u001b[43mvertex\u001b[49m\u001b[43m,\u001b[49m\u001b[43m \u001b[49m\u001b[43mvertex\u001b[49m\u001b[43m \u001b[49m\u001b[38;5;241;43m+\u001b[39;49m\u001b[43m \u001b[49m\u001b[38;5;241;43m1\u001b[39;49m\u001b[43m)\u001b[49m\u001b[43m)\u001b[49m\n\u001b[0;32m      8\u001b[0m state\n\u001b[0;32m     10\u001b[0m qw \u001b[38;5;241m=\u001b[39m hpw\u001b[38;5;241m.\u001b[39mContinuousTime(graph\u001b[38;5;241m=\u001b[39mcycle)\n",
      "File \u001b[1;32m~\\anaconda3\\envs\\hiperwalk\\Lib\\site-packages\\hiperwalk\\quantum_walk\\quantum_walk.py:448\u001b[0m, in \u001b[0;36mQuantumWalk.ket\u001b[1;34m(self, label)\u001b[0m\n\u001b[0;32m    439\u001b[0m \u001b[38;5;250m\u001b[39m\u001b[38;5;124mr\u001b[39m\u001b[38;5;124;03m\"\"\"\u001b[39;00m\n\u001b[0;32m    440\u001b[0m \u001b[38;5;124;03mCreates a state of the computational basis.\u001b[39;00m\n\u001b[0;32m    441\u001b[0m \n\u001b[1;32m   (...)\u001b[0m\n\u001b[0;32m    445\u001b[0m \u001b[38;5;124;03m    The ket label.\u001b[39;00m\n\u001b[0;32m    446\u001b[0m \u001b[38;5;124;03m\"\"\"\u001b[39;00m\n\u001b[0;32m    447\u001b[0m ket \u001b[38;5;241m=\u001b[39m np\u001b[38;5;241m.\u001b[39mzeros(\u001b[38;5;28mself\u001b[39m\u001b[38;5;241m.\u001b[39mhilb_dim, dtype\u001b[38;5;241m=\u001b[39m\u001b[38;5;28mfloat\u001b[39m)\n\u001b[1;32m--> 448\u001b[0m \u001b[43mket\u001b[49m\u001b[43m[\u001b[49m\u001b[43mlabel\u001b[49m\u001b[43m]\u001b[49m \u001b[38;5;241m=\u001b[39m \u001b[38;5;241m1\u001b[39m\n\u001b[0;32m    449\u001b[0m \u001b[38;5;28;01mreturn\u001b[39;00m ket\n",
      "\u001b[1;31mIndexError\u001b[0m: too many indices for array: array is 1-dimensional, but 2 were indexed"
     ]
    }
   ],
   "source": [
    "N = 11\n",
    "\n",
    "cycle = hpw.Cycle(N)\n",
    "cycle\n",
    "\n",
    "vertex = N // 2\n",
    "state = qw.ket((vertex, vertex + 1))\n",
    "state\n",
    "\n",
    "qw = hpw.ContinuousTime(graph=cycle)\n",
    "\n",
    "final_state = qw.simulate(range=(N//2, N//2 + 1),\n",
    "                          state=state)\n",
    "final_state"
   ]
  },
  {
   "cell_type": "code",
   "execution_count": null,
   "id": "8e310d8d-88d9-47f1-88fd-9e579c6af5d0",
   "metadata": {},
   "outputs": [],
   "source": []
  }
 ],
 "metadata": {
  "kernelspec": {
   "display_name": "Python 3 (ipykernel)",
   "language": "python",
   "name": "python3"
  },
  "language_info": {
   "codemirror_mode": {
    "name": "ipython",
    "version": 3
   },
   "file_extension": ".py",
   "mimetype": "text/x-python",
   "name": "python",
   "nbconvert_exporter": "python",
   "pygments_lexer": "ipython3",
   "version": "3.13.1"
  }
 },
 "nbformat": 4,
 "nbformat_minor": 5
}
