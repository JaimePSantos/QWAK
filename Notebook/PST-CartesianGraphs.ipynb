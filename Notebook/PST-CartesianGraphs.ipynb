{
 "cells": [
  {
   "cell_type": "code",
   "execution_count": 2,
   "id": "d45fac5f-37a3-467b-a1d2-58f55bcd1bc0",
   "metadata": {},
   "outputs": [],
   "source": [
    "from qwak.qwak import QWAK\n",
    "from utils.plotTools import plot_qwak\n",
    "\n",
    "import networkx as nx\n",
    "import numpy as np\n",
    "import matplotlib as mpl\n",
    "from matplotlib import pyplot as plt\n",
    "from math import sqrt, ceil, pow\n",
    "import scipy.special as sp\n",
    "import sympy as simp\n",
    "import math\n",
    "import copy\n",
    "import plotly.graph_objects as go\n",
    "import seaborn as sns\n",
    "import matplotlib.pyplot as plt\n",
    "import pandas as pd\n",
    "import os\n",
    "import json\n",
    "\n",
    "from scipy.ndimage import gaussian_filter"
   ]
  },
  {
   "cell_type": "code",
   "execution_count": 3,
   "id": "18a78412-de49-4c8b-b9ca-e1197a4381fa",
   "metadata": {},
   "outputs": [],
   "source": [
    "def find_pst_vertices(qwak_obj, filename=None):\n",
    "    # Create an empty dictionary to store pairs of nodes with PST\n",
    "    pst_pairs = {}\n",
    "    \n",
    "    # Get the number of nodes in the graph\n",
    "    n = len(qwak_obj.getGraph())\n",
    "    \n",
    "    # Iterate through each unique pair of nodes and check for PST\n",
    "    for i in range(n):\n",
    "        for j in range(n):\n",
    "            # Skip checking for the same vertex and symmetric variations\n",
    "            if j <= i:\n",
    "                continue\n",
    "            \n",
    "            pst_value = qwak_obj.checkPST(i, j)\n",
    "            # If PST is True, add it to the dictionary\n",
    "            if pst_value:\n",
    "                # Convert tuple to string before using as key\n",
    "                key = str((i, j))\n",
    "                pst_pairs[key] = str(pst_value)\n",
    "                \n",
    "    # If a filename is provided, save the dictionary to that file\n",
    "    if filename:\n",
    "        with open(filename, 'w') as file:\n",
    "            json.dump(pst_pairs, file)\n",
    "    \n",
    "    # Return the dictionary\n",
    "    return pst_pairs\n",
    "\n",
    "def load_or_generate_pst(qwak_obj, filename):\n",
    "    # Check if the file exists\n",
    "    if os.path.exists(filename):\n",
    "        # If the file exists, load the data from the file\n",
    "        with open(filename, 'r') as file:\n",
    "            pst_data = json.load(file)\n",
    "        print(f'{filename} exists!')\n",
    "    else:\n",
    "        # If the file does not exist, generate the data\n",
    "        print(f'{filename} doesnt exist! Running experiments...')\n",
    "        pst_data = find_pst_vertices(qwak_obj, filename=filename)\n",
    "    # Return the data\n",
    "    print('Data loaded!')\n",
    "    return pst_data\n",
    "\n",
    "def pst_found_only(input_dict):\n",
    "    # Create a new dictionary by filtering out key-value pairs where the value is equal to '-1'\n",
    "    # Note: assuming the values in the dictionary are stored as strings, as in the previous examples\n",
    "    filtered_dict = {key: value for key, value in input_dict.items() if value != '-1'}\n",
    "    if not filtered_dict:\n",
    "        return ['PST not found for this structure!']\n",
    "    \n",
    "    # Return the filtered dictionary\n",
    "    return filtered_dict"
   ]
  },
  {
   "cell_type": "markdown",
   "id": "9c73f8aa-e4ee-438f-92d1-c04d3057fbaa",
   "metadata": {},
   "source": [
    "# Cartesian products"
   ]
  },
  {
   "cell_type": "markdown",
   "id": "ee8e513a-007f-4a94-b0c8-209edbc145e9",
   "metadata": {},
   "source": [
    "## (P2 × P2)"
   ]
  },
  {
   "cell_type": "markdown",
   "id": "f80e8127-fff7-4c11-bcbc-e91e1df324be",
   "metadata": {},
   "source": [
    "In the case of a Cartesian product of two path graphs each of size 2 (P2 × P2), where n=2, this gives:\n",
    "\n",
    "1. Node (0,0) corresponds to index 0*2 + 0 = 0.\n",
    "2. Node (0,1) corresponds to index 0*2 + 1 = 1.\n",
    "3. Node (1,0) corresponds to index 1*2 + 0 = 2.\n",
    "4. Node (1,1) corresponds to index 1*2 + 1 = 3.\n"
   ]
  },
  {
   "cell_type": "code",
   "execution_count": 6,
   "id": "71bbf466-9ce3-4241-b4f0-171468cc7a0e",
   "metadata": {},
   "outputs": [
    {
     "name": "stdout",
     "output_type": "stream",
     "text": [
      "Datasets/PerfectStateTransfer/pstCartesian_Path_N4.txt exists!\n",
      "Data loaded!\n",
      "{'(0, 3)': '0.5*pi', '(1, 2)': '0.5*pi'}\n"
     ]
    }
   ],
   "source": [
    "n1 = 2\n",
    "n2 = 2\n",
    "G = nx.path_graph(n1)\n",
    "H = nx.path_graph(n2)\n",
    "graph = nx.cartesian_product(G, H)\n",
    "n = len(graph)\n",
    "\n",
    "qw = QWAK(graph=graph)\n",
    "\n",
    "pst_file = f'Datasets/PerfectStateTransfer/pstCartesian_Path_N{n}.txt'\n",
    "\n",
    "qw = QWAK(graph=graph)\n",
    "pst_all_vertices = load_or_generate_pst(qw, filename=pst_file)\n",
    "pst_vertices = pst_found_only(pst_all_vertices)\n",
    "print(pst_vertices)\n"
   ]
  },
  {
   "cell_type": "markdown",
   "id": "e8ac9c87-c6d8-464a-b0c6-37cfe627f7a7",
   "metadata": {},
   "source": [
    "## (P3 × P2)"
   ]
  },
  {
   "cell_type": "code",
   "execution_count": 13,
   "id": "ce984751-264b-413c-8a87-a8b58b82055f",
   "metadata": {},
   "outputs": [
    {
     "name": "stdout",
     "output_type": "stream",
     "text": [
      "Datasets/PerfectStateTransfer/pstCartesian_Path_N6.txt exists!\n",
      "Data loaded!\n",
      "['PST not found for this structure!']\n"
     ]
    }
   ],
   "source": [
    "n1 = 3\n",
    "n2 = 2\n",
    "G = nx.path_graph(n1)\n",
    "H = nx.path_graph(n2)\n",
    "graph = nx.cartesian_product(G, H)\n",
    "n = len(graph)\n",
    "\n",
    "qw = QWAK(graph=graph)\n",
    "\n",
    "pst_file = f'Datasets/PerfectStateTransfer/pstCartesian_Path_N{n}.txt'\n",
    "\n",
    "qw = QWAK(graph=graph)\n",
    "pst_all_vertices = load_or_generate_pst(qw, filename=pst_file)\n",
    "pst_vertices = pst_found_only(pst_all_vertices)\n",
    "print(pst_vertices)\n"
   ]
  },
  {
   "cell_type": "markdown",
   "id": "a90a51e0-527f-4bcf-88f0-cfd178965868",
   "metadata": {},
   "source": [
    "## (C2 × C4)"
   ]
  },
  {
   "cell_type": "code",
   "execution_count": 14,
   "id": "18423a0e-7265-481c-8551-146f77fbe469",
   "metadata": {},
   "outputs": [
    {
     "name": "stdout",
     "output_type": "stream",
     "text": [
      "[(0, 0), (0, 1), (0, 2), (0, 3), (1, 0), (1, 1), (1, 2), (1, 3)]\n",
      "Datasets/PerfectStateTransfer/pstCartesian_Cycle_N8.txt exists!\n",
      "Data loaded!\n",
      "{'(0, 6)': '0.5*pi', '(1, 7)': '0.5*pi', '(2, 4)': '0.5*pi', '(3, 5)': '0.5*pi'}\n"
     ]
    }
   ],
   "source": [
    "n1 = 2\n",
    "n2 = 4\n",
    "G = nx.cycle_graph(n1)\n",
    "H = nx.cycle_graph(n2)\n",
    "GH = nx.cartesian_product(G, H)\n",
    "print(GH.nodes)\n",
    "\n",
    "n = len(GH)\n",
    "\n",
    "pst_file = f'Datasets/PerfectStateTransfer/pstCartesian_Cycle_N{len(GH)}.txt'\n",
    "\n",
    "qw = QWAK(graph=GH)\n",
    "pst_all_vertices = load_or_generate_pst(qw, filename=pst_file)\n",
    "pst_vertices = pst_found_only(pst_all_vertices)\n",
    "print(pst_vertices)"
   ]
  },
  {
   "cell_type": "markdown",
   "id": "d5ff88ca-6a39-4271-a328-ea95977061e0",
   "metadata": {},
   "source": [
    "## (C4 x c4)"
   ]
  },
  {
   "cell_type": "code",
   "execution_count": 15,
   "id": "41667d29-551d-4294-a655-10158b1539a6",
   "metadata": {},
   "outputs": [
    {
     "name": "stdout",
     "output_type": "stream",
     "text": [
      "[(0, 0), (0, 1), (0, 2), (0, 3), (1, 0), (1, 1), (1, 2), (1, 3), (2, 0), (2, 1), (2, 2), (2, 3), (3, 0), (3, 1), (3, 2), (3, 3)]\n",
      "Datasets/PerfectStateTransfer/pstCartesian_Cycle_N16.txt exists!\n",
      "Data loaded!\n",
      "{'(0, 10)': '0.5*pi', '(1, 11)': '0.5*pi', '(2, 8)': '0.5*pi', '(3, 9)': '0.5*pi', '(4, 14)': '0.5*pi', '(5, 15)': '0.5*pi', '(6, 12)': '0.5*pi', '(7, 13)': '0.5*pi'}\n"
     ]
    }
   ],
   "source": [
    "n1 = 4\n",
    "n2 = 4\n",
    "G = nx.cycle_graph(n1)\n",
    "H = nx.cycle_graph(n2)\n",
    "GH = nx.cartesian_product(G, H)\n",
    "print(GH.nodes)\n",
    "\n",
    "n = len(GH)\n",
    "\n",
    "pst_file = f'Datasets/PerfectStateTransfer/pstCartesian_Cycle_N{len(GH)}.txt'\n",
    "\n",
    "qw = QWAK(graph=GH)\n",
    "pst_all_vertices = load_or_generate_pst(qw, filename=pst_file)\n",
    "pst_vertices = pst_found_only(pst_all_vertices)\n",
    "print(pst_vertices)"
   ]
  },
  {
   "cell_type": "markdown",
   "id": "1b3f5554-4e7c-41f1-abc6-c723340cdb69",
   "metadata": {},
   "source": [
    "## (C4 x P2)"
   ]
  },
  {
   "cell_type": "code",
   "execution_count": 5,
   "id": "b15156d4-fa1d-4c7b-80d6-5dca9ab3aeef",
   "metadata": {},
   "outputs": [
    {
     "name": "stdout",
     "output_type": "stream",
     "text": [
      "[(0, 0), (0, 1), (1, 0), (1, 1), (2, 0), (2, 1), (3, 0), (3, 1)]\n",
      "8\n",
      "Datasets/PerfectStateTransfer/pstCartesian_CyclePath_N8.txt exists!\n",
      "Data loaded!\n",
      "{'(0, 5)': '0.5*pi', '(1, 4)': '0.5*pi', '(2, 7)': '0.5*pi', '(3, 6)': '0.5*pi'}\n"
     ]
    }
   ],
   "source": [
    "n1 = 4\n",
    "n2 = 2\n",
    "G = nx.cycle_graph(n1)\n",
    "H = nx.path_graph(n2)\n",
    "GH = nx.cartesian_product(G, H)\n",
    "print(GH.nodes)\n",
    "print(len(GH))\n",
    "\n",
    "n = len(GH)\n",
    "\n",
    "pst_file = f'Datasets/PerfectStateTransfer/pstCartesian_CyclePath_N{len(GH)}.txt'\n",
    "\n",
    "qw = QWAK(graph=GH)\n",
    "pst_all_vertices = load_or_generate_pst(qw, filename=pst_file)\n",
    "pst_vertices = pst_found_only(pst_all_vertices)\n",
    "print(pst_vertices)"
   ]
  },
  {
   "cell_type": "code",
   "execution_count": null,
   "id": "896c0d1a-9c49-4b79-8172-b199a30ad5aa",
   "metadata": {},
   "outputs": [],
   "source": []
  }
 ],
 "metadata": {
  "kernelspec": {
   "display_name": "Python 3 (ipykernel)",
   "language": "python",
   "name": "python3"
  },
  "language_info": {
   "codemirror_mode": {
    "name": "ipython",
    "version": 3
   },
   "file_extension": ".py",
   "mimetype": "text/x-python",
   "name": "python",
   "nbconvert_exporter": "python",
   "pygments_lexer": "ipython3",
   "version": "3.10.9"
  }
 },
 "nbformat": 4,
 "nbformat_minor": 5
}
