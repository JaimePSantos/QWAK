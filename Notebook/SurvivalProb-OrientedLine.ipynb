{
 "cells": [
  {
   "cell_type": "code",
   "execution_count": 41,
   "id": "22381012-79e9-45d6-945c-d0a68c4ea9b7",
   "metadata": {},
   "outputs": [],
   "source": [
    "from qwak.qwak import QWAK\n",
    "import networkx as nx\n",
    "import numpy as np\n",
    "import matplotlib as mpl\n",
    "from matplotlib import pyplot as plt\n",
    "import scipy.special as sp\n",
    "from scipy.linalg import expm\n",
    "import sympy as simp\n",
    "import os\n"
   ]
  },
  {
   "cell_type": "code",
   "execution_count": 42,
   "id": "bf9d1eb6-2543-431c-927b-4e39fc679d39",
   "metadata": {},
   "outputs": [],
   "source": [
    "def getWeightedGraph(graph,weight):\n",
    "    revGraph = graph.reverse()\n",
    "    for u,v,d in graph.edges(data=True):\n",
    "        d[\"weight\"] = weight\n",
    "    for u,v,d in revGraph.edges(data=True):\n",
    "        d[\"weight\"] = np.conj(weight)\n",
    "    return nx.compose(graph,revGraph)\n",
    "\n",
    "def multiple_oriented_decayRate(N,k,timeList,baseGraph,alphaList,initCond):\n",
    "    decayRateMatrix = []\n",
    "    for alpha in alphaList:\n",
    "        weight = np.exp(1j*alpha)\n",
    "        graph = getWeightedGraph(baseGraph,weight)\n",
    "        qw = QWAK(graph)\n",
    "        qw.runMultipleWalks(timeList=timeList,customStateList=initCond)\n",
    "        decayRateMatrix.append(qw.getSurvivalProbList(N//2-k-1,N//2+k+2))\n",
    "    return decayRateMatrix\n",
    "\n",
    "def write_nested_list_to_file(file_path, nested_lst):\n",
    "    \"\"\"\n",
    "    Write a nested list of elements to a text file.\n",
    "    \n",
    "    :param file_path: the file path where to write the nested list\n",
    "    :param nested_lst: the nested list of elements to write\n",
    "    \"\"\"\n",
    "    with open(file_path, 'w') as f:\n",
    "        for lst in nested_lst:\n",
    "            for item in lst:\n",
    "                f.write(f\"{item} \")\n",
    "            f.write(\"\\n\")\n",
    "\n",
    "def load_nested_list_from_file(file_path):\n",
    "    \"\"\"\n",
    "    Load a nested list of float elements from a text file.\n",
    "    \n",
    "    :param file_path: the file path to load the nested list from\n",
    "    :return: the nested list of float elements loaded from the file\n",
    "    \"\"\"\n",
    "    nested_lst = []\n",
    "    with open(file_path, 'r') as f:\n",
    "        for line in f:\n",
    "            lst = [float(item) for item in line.strip().split()]\n",
    "            nested_lst.append(lst)\n",
    "    return nested_lst"
   ]
  },
  {
   "cell_type": "code",
   "execution_count": 43,
   "id": "c9d25b8f-f4f9-4f89-b1ce-e39d8ec1fc79",
   "metadata": {},
   "outputs": [
    {
     "name": "stdout",
     "output_type": "stream",
     "text": [
      "1024\n"
     ]
    }
   ],
   "source": [
    "n = 10\n",
    "N=2**n\n",
    "print(N)\n",
    "\n",
    "alpha=np.pi/2\n",
    "alphaList = [0, alpha/2, alpha/3]\n",
    "alphaLabelList = [r'$0$',r'$\\frac{\\pi}{4}$',r'$\\frac{\\pi}{2}$']\n",
    "\n",
    "baseGraph = nx.path_graph(N,create_using=nx.DiGraph)\n",
    "\n",
    "k = 3\n",
    "if k > 0:\n",
    "    theta=np.pi/4\n",
    "else:\n",
    "    theta = np.pi/2\n",
    "    \n",
    "l = 0\n",
    "gamma = l * np.pi\n",
    "\n",
    "t = 110\n",
    "samples = 50\n",
    "timeList = np.linspace(1,t,samples)\n",
    "initCond = [(N//2-k,np.cos(theta)),(N//2+k,np.exp(1j*gamma)*np.sin(theta))]"
   ]
  },
  {
   "cell_type": "code",
   "execution_count": 44,
   "id": "3bb20de4-1b30-4370-80ed-8ef8552d73ad",
   "metadata": {},
   "outputs": [
    {
     "name": "stdout",
     "output_type": "stream",
     "text": [
      "File Doesnt Exist!\n"
     ]
    }
   ],
   "source": [
    "decayRateMatrix_file = f'Datasets/OrientedDecayRate/decayRateMatrix{N}_NWALKS{len(alphaList)}_S{samples}_TMAX{t}.txt'\n",
    "\n",
    "if os.path.exists(decayRateMatrix_file):\n",
    "    decayRateMatrix = load_nested_list_from_file(decayRateMatrix_file)\n",
    "    print('File exists!')\n",
    "else:\n",
    "    print('File Doesnt Exist!')\n",
    "    decayRateMatrix = multiple_oriented_decayRate(N,k,timeList,baseGraph,alphaList,initCond)\n",
    "    if not os.path.exists(decayRateMatrix_file):\n",
    "        write_nested_list_to_file(decayRateMatrix_file, decayRateMatrix)"
   ]
  },
  {
   "cell_type": "code",
   "execution_count": 46,
   "id": "33dd704a-dc6b-4388-8e82-f14473cd606f",
   "metadata": {},
   "outputs": [
    {
     "data": {
      "image/png": "[encoded data removed]",
      "text/plain": [
       "<Figure size 640x480 with 1 Axes>"
      ]
     },
     "metadata": {},
     "output_type": "display_data"
    }
   ],
   "source": [
    "for x in decayRateMatrix:\n",
    "    plt.loglog()\n",
    "    plt.plot(x)\n",
    "    plt.xlim([0,100])\n",
    "   "
   ]
  },
  {
   "cell_type": "code",
   "execution_count": null,
   "id": "661d72e5-a3ae-422b-ba85-dfe7501be2fc",
   "metadata": {},
   "outputs": [],
   "source": []
  },
  {
   "cell_type": "code",
   "execution_count": null,
   "id": "00acd12a-1443-497e-ba10-152666205d3e",
   "metadata": {},
   "outputs": [],
   "source": []
  }
 ],
 "metadata": {
  "kernelspec": {
   "display_name": "Python 3 (ipykernel)",
   "language": "python",
   "name": "python3"
  },
  "language_info": {
   "codemirror_mode": {
    "name": "ipython",
    "version": 3
   },
   "file_extension": ".py",
   "mimetype": "text/x-python",
   "name": "python",
   "nbconvert_exporter": "python",
   "pygments_lexer": "ipython3",
   "version": "3.10.9"
  }
 },
 "nbformat": 4,
 "nbformat_minor": 5
}
