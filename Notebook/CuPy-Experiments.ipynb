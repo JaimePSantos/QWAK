{
 "cells": [
  {
   "cell_type": "code",
   "execution_count": 20,
   "id": "9ff11b32-5541-4cec-8736-e6cd74eea8f5",
   "metadata": {},
   "outputs": [],
   "source": [
    "import numpy as np\n",
    "import cupy as cp\n",
    "from scipy.linalg import inv, expm\n",
    "import networkx as nx\n",
    "import time\n",
    "import cupyx.scipy.linalg as cpx_scipy\n"
   ]
  },
  {
   "cell_type": "markdown",
   "id": "00fd9643-7e24-406e-8199-410510cd8fc3",
   "metadata": {},
   "source": [
    "# Numpy vs CuPy -> Expm"
   ]
  },
  {
   "cell_type": "code",
   "execution_count": 21,
   "id": "0a78785b-ffe9-406c-ab2d-1b4fa355bfda",
   "metadata": {},
   "outputs": [
    {
     "name": "stdout",
     "output_type": "stream",
     "text": [
      "Expm execution time: 0.6872570514678955 seconds\n"
     ]
    }
   ],
   "source": [
    "n = 1000\n",
    "time_val = 5\n",
    "graph = nx.cycle_graph(n)\n",
    "adjm = nx.to_numpy_array(graph)\n",
    "\n",
    "start_time = time.time()\n",
    "operatorExpm = expm(-1j * adjm * time_val)\n",
    "end_time = time.time()\n",
    "numpy_time = end_time - start_time\n",
    "print(f\"Expm execution time: {numpy_time} seconds\")"
   ]
  },
  {
   "cell_type": "code",
   "execution_count": 22,
   "id": "7af25947-83a9-4db5-9eb5-67c1ea3d8ee3",
   "metadata": {},
   "outputs": [
    {
     "name": "stdout",
     "output_type": "stream",
     "text": [
      "Expm execution time: 0.3660457134246826 seconds\n"
     ]
    }
   ],
   "source": [
    "n = 1000\n",
    "time_val = 5\n",
    "graph = nx.cycle_graph(n)\n",
    "adjm = cp.array(nx.to_numpy_array(graph))\n",
    "\n",
    "start_time = time.time()\n",
    "operatorCupyExpm = cpx_scipy.expm(-1j * adjm * time_val)\n",
    "end_time = time.time()\n",
    "cupy_time = end_time - start_time\n",
    "print(f\"Expm execution time: {cupy_time} seconds\")\n"
   ]
  },
  {
   "cell_type": "code",
   "execution_count": 23,
   "id": "868ba077-a5da-48b1-8614-fae79c191b56",
   "metadata": {},
   "outputs": [
    {
     "name": "stdout",
     "output_type": "stream",
     "text": [
      "Are the two arrays approximately equal? True\n"
     ]
    }
   ],
   "source": [
    "import numpy as np\n",
    "\n",
    "# Convert the CuPy array to a NumPy array\n",
    "operatorCupyExpm_toNp= cp.asnumpy(operatorCupyExpm)\n",
    "\n",
    "# Compare the two arrays using np.allclose\n",
    "are_close = np.allclose(operatorExpm, operatorCupyExpm_toNp, atol=1e-4)\n",
    "\n",
    "# Print the result of the comparison\n",
    "print(f\"Are the two arrays approximately equal? {are_close}\")\n"
   ]
  },
  {
   "cell_type": "markdown",
   "id": "3f32c902-5b64-435e-baf6-26bb6642ea7e",
   "metadata": {},
   "source": [
    "# Numpy vs CuPy -> Expm"
   ]
  },
  {
   "cell_type": "markdown",
   "id": "4e2ff35b-6e6f-447a-87cf-20bf05fdcc6d",
   "metadata": {},
   "source": [
    "## Numpy"
   ]
  },
  {
   "cell_type": "code",
   "execution_count": 25,
   "id": "d5409dd4-7e99-46fd-bce3-1f3a8e8551f2",
   "metadata": {},
   "outputs": [
    {
     "name": "stdout",
     "output_type": "stream",
     "text": [
      "Expm execution time: 0.14611244201660156 seconds\n"
     ]
    }
   ],
   "source": [
    "n = 1000\n",
    "time_val = 5\n",
    "graph = nx.cycle_graph(n)\n",
    "adjm = nx.to_numpy_array(graph)\n",
    "\n",
    "start_time = time.time()\n",
    "\n",
    "eigenvalues, eigenvectors = np.linalg.eigh(adjm)\n",
    "diag = np.diag(np.exp(-1j * eigenvalues * time_val)).diagonal()\n",
    "operatorSpectral = np.multiply(eigenvectors, diag)\n",
    "operatorSpectral = np.matmul(operatorSpectral, eigenvectors.conjugate().transpose())\n",
    "\n",
    "\n",
    "end_time = time.time()\n",
    "numpy_time = end_time - start_time\n",
    "print(f\"Expm execution time: {numpy_time} seconds\")"
   ]
  },
  {
   "cell_type": "code",
   "execution_count": 27,
   "id": "ac4abb52-4f16-4e46-9d97-2a0dff9094f4",
   "metadata": {},
   "outputs": [
    {
     "name": "stdout",
     "output_type": "stream",
     "text": [
      "Are the two arrays approximately equal? True\n"
     ]
    }
   ],
   "source": [
    "import numpy as np\n",
    "\n",
    "# Compare the two arrays using np.allclose\n",
    "are_close = np.allclose(operatorExpm, operatorSpectral, atol=1e-5)\n",
    "\n",
    "# Print the result of the comparison\n",
    "print(f\"Are the two arrays approximately equal? {are_close}\")"
   ]
  },
  {
   "cell_type": "markdown",
   "id": "39fb4904-4af2-46e1-96b2-9646637dcf85",
   "metadata": {},
   "source": [
    "## Cupy"
   ]
  },
  {
   "cell_type": "code",
   "execution_count": 33,
   "id": "502fe8e9-1db2-44c9-a2d9-9ad56e0243a6",
   "metadata": {},
   "outputs": [
    {
     "name": "stdout",
     "output_type": "stream",
     "text": [
      "Expm execution time: 0.04599881172180176 seconds\n"
     ]
    }
   ],
   "source": [
    "n = 1000\n",
    "time_val = 5\n",
    "graph = nx.cycle_graph(n)\n",
    "adjm = cp.array(nx.to_numpy_array(graph))\n",
    "\n",
    "start_time = time.time()\n",
    "\n",
    "eigenvalues, eigenvectors = cp.linalg.eigh(adjm)\n",
    "diag = cp.diag(cp.exp(-1j * eigenvalues * time_val)).diagonal()\n",
    "operatorSpectralCupy = cp.multiply(eigenvectors, diag)\n",
    "operatorSpectralCupy = cp.matmul(operatorSpectralCupy, eigenvectors.conjugate().transpose())\n",
    "\n",
    "\n",
    "end_time = time.time()\n",
    "numpy_time = end_time - start_time\n",
    "print(f\"Expm execution time: {numpy_time} seconds\")"
   ]
  },
  {
   "cell_type": "code",
   "execution_count": 35,
   "id": "c12ba0e3-17b1-4a38-ac16-3f48877c0e42",
   "metadata": {},
   "outputs": [
    {
     "name": "stdout",
     "output_type": "stream",
     "text": [
      "Are the two arrays approximately equal? True\n"
     ]
    }
   ],
   "source": [
    "import numpy as np\n",
    "\n",
    "# Compare the two arrays using np.allclose\n",
    "are_close = np.allclose(operatorSpectral, operatorSpectralCupy, atol=1e7)\n",
    "\n",
    "# Print the result of the comparison\n",
    "print(f\"Are the two arrays approximately equal? {are_close}\")"
   ]
  },
  {
   "cell_type": "code",
   "execution_count": null,
   "id": "7d48a552-2222-4ce1-a60f-4c8f3a00ae10",
   "metadata": {},
   "outputs": [],
   "source": []
  }
 ],
 "metadata": {
  "kernelspec": {
   "display_name": "Python 3 (ipykernel)",
   "language": "python",
   "name": "python3"
  },
  "language_info": {
   "codemirror_mode": {
    "name": "ipython",
    "version": 3
   },
   "file_extension": ".py",
   "mimetype": "text/x-python",
   "name": "python",
   "nbconvert_exporter": "python",
   "pygments_lexer": "ipython3",
   "version": "3.10.13"
  }
 },
 "nbformat": 4,
 "nbformat_minor": 5
}
