{
 "cells": [
  {
   "cell_type": "code",
   "execution_count": null,
   "id": "9ff11b32-5541-4cec-8736-e6cd74eea8f5",
   "metadata": {},
   "outputs": [],
   "source": [
    "import cupy as cp\n"
   ]
  }
 ],
 "metadata": {
  "kernelspec": {
   "display_name": "Python 3 (ipykernel)",
   "language": "python",
   "name": "python3"
  },
  "language_info": {
   "codemirror_mode": {
    "name": "ipython",
    "version": 3
   },
   "file_extension": ".py",
   "mimetype": "text/x-python",
   "name": "python",
   "nbconvert_exporter": "python",
   "pygments_lexer": "ipython3",
   "version": "3.10.13"
  }
 },
 "nbformat": 4,
 "nbformat_minor": 5
}
