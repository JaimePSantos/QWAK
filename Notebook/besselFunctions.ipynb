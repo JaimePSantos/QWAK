{
 "cells": [
  {
   "cell_type": "code",
   "execution_count": 1,
   "metadata": {
    "tags": [],
    "pycharm": {
     "name": "#%%\n"
    }
   },
   "outputs": [],
   "source": [
    "from qwak.qwak import QWAK"
   ]
  },
  {
   "cell_type": "code",
   "execution_count": 2,
   "metadata": {
    "pycharm": {
     "name": "#%%\n"
    }
   },
   "outputs": [],
   "source": [
    "import networkx as nx\n",
    "import numpy as np\n",
    "import matplotlib as mpl\n",
    "from matplotlib import pyplot as plt\n",
    "from math import sqrt, ceil, pow\n",
    "import scipy.special as sp\n",
    "from scipy.linalg import expm\n",
    "import sympy as simp"
   ]
  },
  {
   "cell_type": "code",
   "execution_count": 3,
   "outputs": [],
   "source": [
    "def stream_path(n,alpha):\n",
    "    B = np.matrix(np.zeros((n,n), dtype='complex'))\n",
    "    for x in range(n-1):\n",
    "        B[x,x+1] = np.exp(1j*alpha)\n",
    "\n",
    "    return B + B.H\n",
    "\n",
    "def inf_line_bessel(x0,nx,t,alpha):\n",
    "    domain = np.arange(x0 - nx, x0 + nx + 1)\n",
    "    psi = np.zeros([2*nx + 1,1], dtype='complex')\n",
    "\n",
    "    for x in range(2*nx + 1):\n",
    "        psi[x,0] = 1j**(np.abs(domain[x]-x0))*sp.jv(np.abs(domain[x] - x0), 2*t)/np.sqrt(2)\n",
    "        psi[x,0] += 1j**(np.abs(domain[x]-x0-1))*sp.jv(np.abs(domain[x] - x0 - 1), 2*t)/np.sqrt(2)\n",
    "\n",
    "    return np.abs(np.array(psi))**2"
   ],
   "metadata": {
    "collapsed": false,
    "pycharm": {
     "name": "#%%\n"
    }
   }
  },
  {
   "cell_type": "code",
   "execution_count": 4,
   "metadata": {
    "pycharm": {
     "name": "#%%\n"
    }
   },
   "outputs": [],
   "source": [
    "def inf_line_bessel_oriented(x0,nx,t,alpha):\n",
    "    domain = np.arange(x0 - nx, x0 + nx + 1)\n",
    "    psi = np.zeros([2*nx + 1,1], dtype='complex')\n",
    "\n",
    "    for x in range(2*nx + 1):\n",
    "        psi[x,0] = (np.exp(-1j*alpha/2))*1j**(np.abs(domain[x]-x0))*sp.jv(np.abs(domain[x] - x0), 2*t)/np.sqrt(2)\n",
    "        psi[x,0] += (np.exp(1j*alpha/2))*1j**(np.abs(domain[x]-x0-1))*sp.jv(np.abs(domain[x] - x0 - 1), 2*t)/np.sqrt(2)\n",
    "\n",
    "    return np.abs(np.array(psi))**2\n",
    "\n",
    "def inf_line_bessel_oriented2(x0,nx,t,alpha):\n",
    "    domain = np.arange(x0 - nx, x0 + nx + 1)\n",
    "    prob = np.zeros([2*nx + 1,1], dtype='complex')\n",
    "\n",
    "    for x in range(2*nx + 1):\n",
    "        prob[x,0] = (1/2)*(\n",
    "                        -1j**(np.abs(domain[x]+x0))*sp.jv(np.abs(domain[x] + x0), 2*t)**2\n",
    "\n",
    "                       - 1j**(np.abs(domain[x]-x0))*sp.jv(np.abs(domain[x] - x0), 2*t)**2\n",
    "\n",
    "                       +(np.exp(1j*2*alpha))*np.conjugate(1j**(np.abs(domain[x]+x0))*sp.jv(np.abs(domain[x] + x0), 2*t))*1j**(np.abs(domain[x]-x0))*sp.jv(np.abs(domain[x] - x0), 2*t)\n",
    "\n",
    "                       +(np.exp(-1j*2*alpha))*np.conjugate(1j**(np.abs(domain[x]-x0))*sp.jv(np.abs(domain[x] - x0), 2*t))*1j**(np.abs(domain[x]+x0))*sp.jv(np.abs(domain[x] + x0), 2*t))\n",
    "    return prob\n",
    "\n",
    "def inf_line_bessel_oriented3(x0,nx,t,alpha):\n",
    "    domain = np.arange(x0 - nx, x0 + nx + 1)\n",
    "    prob = np.zeros([2*nx + 1,1], dtype='complex')\n",
    "\n",
    "    for x in range(2*nx + 1):\n",
    "        # prob[x,0] = (1/2)*(\n",
    "        #                 sp.jv(np.abs(domain[x] + x0), 2*t)**2\n",
    "        #\n",
    "        #                +sp.jv(np.abs(domain[x] - x0), 2*t)**2\n",
    "        #\n",
    "        #                -2* np.cos(-2*alpha)*sp.jv(np.abs(domain[x] + x0), 2*t)*sp.jv(np.abs(domain[x] - x0), 2*t))\n",
    "\n",
    "        prob[x,0] = (1/2)*(\n",
    "                        sp.jv(domain[x] + x0, 2*t)**2\n",
    "\n",
    "                       +sp.jv(domain[x] - x0, 2*t)**2\n",
    "\n",
    "                       -2* np.cos(-2*alpha*x0)*sp.jv(domain[x] + x0, 2*t)*sp.jv(domain[x] - x0, 2*t))\n",
    "    return prob\n",
    "\n",
    "def inf_line_bessel_oriented5(x0,nx,t,alpha):\n",
    "    domain = np.arange(x0 - nx, x0 + nx + 1)\n",
    "    prob = np.zeros([2*nx + 1,1], dtype='complex')\n",
    "\n",
    "    for x in range(2*nx + 1):\n",
    "        prob[x,0] = (1/2)*(\n",
    "                        1j**(np.abs(domain[x]+x0))*sp.jv(np.abs(domain[x] + x0), 2*t)*np.conjugate(1j**(np.abs(domain[x]+x0))*sp.jv(np.abs(domain[x] + x0), 2*t))\n",
    "\n",
    "                       + 1j**(np.abs(domain[x]-x0))*sp.jv(np.abs(domain[x] - x0), 2*t)*np.conjugate(1j**(np.abs(domain[x]-x0))*sp.jv(np.abs(domain[x] - x0),2*t))\n",
    "\n",
    "                       +(np.exp(1j*2*alpha))*np.conjugate(1j**(np.abs(domain[x]+x0))*sp.jv(np.abs(domain[x] + x0), 2*t))*1j**(np.abs(domain[x]-x0))*sp.jv(np.abs(domain[x] - x0), 2*t)\n",
    "\n",
    "                       +(np.exp(-1j*2*alpha))*np.conjugate(1j**(np.abs(domain[x]-x0))*sp.jv(np.abs(domain[x] - x0), 2*t))*1j**(np.abs(domain[x]+x0))*sp.jv(np.abs(domain[x] + x0), 2*t))\n",
    "    return prob\n",
    "\n",
    "def inf_line_bessel_oriented6(x0,nx,t,alpha):\n",
    "    domain = np.arange(x0 - nx, x0 + nx + 1)\n",
    "    prob = np.zeros([2*nx + 1,1], dtype='complex')\n",
    "\n",
    "    for x in range(2*nx + 1):\n",
    "        prob[x,0] = (1/2)*(\n",
    "                        sp.jv(np.abs(domain[x] + x0), 2*t)**2\n",
    "\n",
    "                       + sp.jv(np.abs(domain[x] - x0), 2*t)**2\n",
    "\n",
    "                       +(np.exp(1j*2*alpha))*np.conjugate(1j**(np.abs(domain[x]+x0))*sp.jv(np.abs(domain[x] + x0), 2*t))*1j**(np.abs(domain[x]-x0))*sp.jv(np.abs(domain[x] - x0), 2*t)\n",
    "\n",
    "                       +(np.exp(-1j*2*alpha))*np.conjugate(1j**(np.abs(domain[x]-x0))*sp.jv(np.abs(domain[x] - x0), 2*t))*1j**(np.abs(domain[x]+x0))*sp.jv(np.abs(domain[x] + x0), 2*t))\n",
    "    return prob\n",
    "\n",
    "def inf_line_bessel_oriented7(x0,nx,t,alpha):\n",
    "    domain = np.arange(x0 - nx, x0 + nx + 1)\n",
    "    prob = np.zeros([2*nx + 1,1], dtype='complex')\n",
    "\n",
    "    for x in range(2*nx + 1):\n",
    "        # prob[x,0] = (1/2)*(\n",
    "        #                 sp.jv(np.abs(domain[x] + x0), 2*t)**2\n",
    "        #\n",
    "        #                + sp.jv(np.abs(domain[x] - x0), 2*t)**2\n",
    "        #\n",
    "        #                -(np.exp(1j*2*alpha))*np.conjugate(sp.jv(np.abs(domain[x] + x0), 2*t))*sp.jv(np.abs(domain[x] - x0), 2*t)\n",
    "        #\n",
    "        #                -(np.exp(-1j*2*alpha))*np.conjugate(sp.jv(np.abs(domain[x] - x0), 2*t))*sp.jv(np.abs(domain[x] + x0), 2*t))\n",
    "\n",
    "        prob[x,0] = (1/2)*(\n",
    "                        sp.jv(domain[x] + x0, 2*t)**2\n",
    "\n",
    "                       + sp.jv(domain[x] - x0, 2*t)**2\n",
    "\n",
    "                       -(np.exp(1j*2*alpha))*(sp.jv(domain[x] + x0, 2*t))*sp.jv(domain[x] - x0, 2*t)\n",
    "\n",
    "                       -(np.exp(-1j*2*alpha))*(sp.jv(domain[x] - x0, 2*t))*sp.jv(domain[x] + x0, 2*t))\n",
    "    return prob\n",
    "\n",
    "def inf_line_bessel_oriented8(x0,nx,t,alpha):\n",
    "    domain = np.arange(x0 - nx, x0 + nx + 1)\n",
    "    prob = np.zeros([2*nx + 1,1], dtype='complex')\n",
    "\n",
    "    for x in range(2*nx):\n",
    "        prob[x,0] = (1/2)*(\n",
    "                        sp.jv(domain[x] + x0, 2*t)**2\n",
    "\n",
    "                       + sp.jv(domain[x] - x0, 2*t)**2\n",
    "\n",
    "                       -2*(np.cos(2*alpha))*(sp.jv(domain[x] + x0, 2*t))*sp.jv(domain[x] - x0, 2*t))\n",
    "    return prob\n",
    "\n",
    "def inf_line_bessel_oriented9(x0,nx,t,alpha):\n",
    "    domain = np.arange(x0 - nx, x0 + nx + 1)\n",
    "    prob = np.zeros([2*nx + 1,1], dtype='complex')\n",
    "\n",
    "    for x in range(2*nx):\n",
    "        prob[x,0] = (1/2)*(\n",
    "                        sp.jv(domain[x] + x0, 2*t)\n",
    "                       + sp.jv(domain[x] - x0, 2*t))**2\n",
    "\n",
    "    return prob"
   ]
  },
  {
   "cell_type": "code",
   "execution_count": 5,
   "metadata": {
    "pycharm": {
     "name": "#%%\n"
    }
   },
   "outputs": [],
   "source": [
    "# x0 = 100\n",
    "# n0 = 100\n",
    "# t  = 20\n",
    "# alpha=np.pi/2\n",
    "#\n",
    "# psi_oriented = inf_line_bessel_oriented(x0,n0,t,alpha)\n",
    "# plt.plot(psi_oriented)"
   ]
  },
  {
   "cell_type": "code",
   "execution_count": 12,
   "outputs": [],
   "source": [
    "# x0 = 1\n",
    "# n0 = 100\n",
    "# t  = 20\n",
    "# alpha=np.pi/2\n",
    "#\n",
    "# psi_oriented = inf_line_bessel_oriented2(x0,n0,t,alpha)\n",
    "# plt.plot(psi_oriented)"
   ],
   "metadata": {
    "collapsed": false,
    "pycharm": {
     "name": "#%%\n"
    }
   }
  },
  {
   "cell_type": "code",
   "execution_count": 1,
   "outputs": [],
   "source": [
    "# x0 = 100\n",
    "# n0 = 100\n",
    "# t  = 20\n",
    "# alpha=np.pi/2\n",
    "#\n",
    "# psi_oriented = inf_line_bessel_oriented3(x0,n0,t,alpha)\n",
    "# plt.plot(psi_oriented)"
   ],
   "metadata": {
    "pycharm": {
     "name": "#%%\n"
    }
   }
  },
  {
   "cell_type": "code",
   "execution_count": 2,
   "outputs": [],
   "source": [
    "# x0 = 2\n",
    "# n0 = 100\n",
    "# t  = 20\n",
    "# alpha=np.pi/2\n",
    "#\n",
    "# psi_oriented = inf_line_bessel_oriented3(x0,n0,t,alpha)\n",
    "# plt.plot(psi_oriented)\n"
   ],
   "metadata": {
    "collapsed": false,
    "pycharm": {
     "name": "#%%\n"
    }
   }
  },
  {
   "cell_type": "code",
   "execution_count": 3,
   "outputs": [],
   "source": [
    "# x0 = 2\n",
    "# n0 = 100\n",
    "# t  = 20\n",
    "# alpha=np.pi/2\n",
    "#\n",
    "# psi_oriented = inf_line_bessel_oriented5(x0,n0,t,alpha)\n",
    "# plt.plot(psi_oriented)"
   ],
   "metadata": {
    "collapsed": false,
    "pycharm": {
     "name": "#%%\n"
    }
   }
  },
  {
   "cell_type": "code",
   "execution_count": 4,
   "outputs": [],
   "source": [
    "# x0 = 1\n",
    "# n0 = 100\n",
    "# t  = 20\n",
    "# alpha=np.pi/2\n",
    "#\n",
    "# psi_oriented = inf_line_bessel_oriented6(x0,n0,t,alpha)\n",
    "# plt.plot(psi_oriented)"
   ],
   "metadata": {
    "collapsed": false,
    "pycharm": {
     "name": "#%%\n"
    }
   }
  },
  {
   "cell_type": "code",
   "execution_count": 94,
   "outputs": [],
   "source": [],
   "metadata": {
    "collapsed": false,
    "pycharm": {
     "name": "#%%\n"
    }
   }
  },
  {
   "cell_type": "code",
   "execution_count": 6,
   "outputs": [
    {
     "data": {
      "text/plain": "[<matplotlib.lines.Line2D at 0x22d04614280>]"
     },
     "execution_count": 6,
     "metadata": {},
     "output_type": "execute_result"
    },
    {
     "data": {
      "text/plain": "<Figure size 432x288 with 1 Axes>",
      "image/png": "[encoded data removed]"
     },
     "metadata": {
      "needs_background": "light"
     },
     "output_type": "display_data"
    }
   ],
   "source": [
    "x0 = 1\n",
    "n0 = 100\n",
    "t  = 20\n",
    "alpha=np.pi/2\n",
    "\n",
    "psi_oriented = inf_line_bessel_oriented7(x0,n0,t,alpha)\n",
    "plt.plot(psi_oriented)"
   ],
   "metadata": {
    "collapsed": false,
    "pycharm": {
     "name": "#%%\n"
    }
   }
  },
  {
   "cell_type": "code",
   "execution_count": 6,
   "outputs": [],
   "source": [],
   "metadata": {
    "collapsed": false,
    "pycharm": {
     "name": "#%%\n"
    }
   }
  },
  {
   "cell_type": "code",
   "execution_count": 7,
   "outputs": [
    {
     "data": {
      "text/plain": "[<matplotlib.lines.Line2D at 0x22d0454e3e0>]"
     },
     "execution_count": 7,
     "metadata": {},
     "output_type": "execute_result"
    },
    {
     "data": {
      "text/plain": "<Figure size 432x288 with 1 Axes>",
      "image/png": "[encoded data removed]"
     },
     "metadata": {
      "needs_background": "light"
     },
     "output_type": "display_data"
    }
   ],
   "source": [
    "x0 = 2\n",
    "n0 = 101\n",
    "t  = 20\n",
    "alpha=np.pi/2\n",
    "\n",
    "psi_oriented = inf_line_bessel_oriented8(x0,n0,t,alpha)\n",
    "plt.plot(psi_oriented)"
   ],
   "metadata": {
    "collapsed": false,
    "pycharm": {
     "name": "#%%\n"
    }
   }
  },
  {
   "cell_type": "code",
   "execution_count": 8,
   "outputs": [
    {
     "data": {
      "text/plain": "[<matplotlib.lines.Line2D at 0x22d045f71f0>]"
     },
     "execution_count": 8,
     "metadata": {},
     "output_type": "execute_result"
    },
    {
     "data": {
      "text/plain": "<Figure size 432x288 with 1 Axes>",
      "image/png": "[encoded data removed]"
     },
     "metadata": {
      "needs_background": "light"
     },
     "output_type": "display_data"
    }
   ],
   "source": [
    "x0 = 2\n",
    "n0 = 101\n",
    "t  = 20\n",
    "alpha=np.pi/2\n",
    "\n",
    "psi_oriented = inf_line_bessel_oriented9(x0,n0,t,alpha)\n",
    "plt.plot(psi_oriented)"
   ],
   "metadata": {
    "collapsed": false,
    "pycharm": {
     "name": "#%%\n"
    }
   }
  },
  {
   "cell_type": "code",
   "execution_count": 9,
   "outputs": [
    {
     "name": "stdout",
     "output_type": "stream",
     "text": [
      "[0, 1.5707963267948966, 1.0471975511965976]\n"
     ]
    },
    {
     "data": {
      "text/plain": "<Figure size 432x288 with 1 Axes>",
      "image/png": "[encoded data removed]"
     },
     "metadata": {
      "needs_background": "light"
     },
     "output_type": "display_data"
    }
   ],
   "source": [
    "x0 = 3\n",
    "n0 = 500\n",
    "t  = 0\n",
    "alpha=np.pi/2\n",
    "alphaLen = range(2,4)\n",
    "alphaList=[0] + [np.pi/(n) for n in alphaLen]\n",
    "print(list(alphaList))\n",
    "timeList = np.linspace(1,100,5)\n",
    "timeListList = [timeList]*len(alphaList)\n",
    "prob = []\n",
    "probList = []\n",
    "\n",
    "for alpha in alphaList:\n",
    "    for t in timeList:\n",
    "        psi_oriented = inf_line_bessel_oriented8(x0,n0,t,alpha)\n",
    "        prob.append(np.sum(psi_oriented[n0-x0-1:n0+x0+2]))\n",
    "    probList.append(prob)\n",
    "    prob = []\n",
    "\n",
    "plt.loglog()\n",
    "for probability,alpha in zip(probList,[0] + list(alphaLen)):\n",
    "    if alpha == 0:\n",
    "        plt.plot(timeList,probability,label=r\"$\\alpha = 0$\")\n",
    "    else:\n",
    "        plt.plot(timeList,probability,label=r\"$\\alpha = \\frac{\\pi}{%s}$\"%str(alpha))\n",
    "\n",
    "plt.xlim([0,100])\n",
    "# print(probList)\n",
    "\n",
    "mpl.rcParams['figure.figsize'] = [12, 10]\n",
    "plt.legend(loc=\"lower left\", ncol=len(alphaList),fontsize=18)\n",
    "plt.ylabel(r\"$P_{[-%s,%s]}(x)$\"%(x0,x0),fontsize=18)\n",
    "plt.xlabel(\"t\",fontsize=18)\n",
    "mpl.rc('xtick', labelsize=18)\n",
    "mpl.rc('ytick', labelsize=18)\n",
    "plt.show()\n"
   ],
   "metadata": {
    "collapsed": false,
    "pycharm": {
     "name": "#%%\n"
    }
   }
  },
  {
   "cell_type": "code",
   "execution_count": 10,
   "outputs": [],
   "source": [
    "def inf_line_bessel_oriented10(k,nx,t,alpha,theta,gamma,l):\n",
    "    domain = np.arange(0, nx) - nx//2\n",
    "    prob = np.zeros([nx + 1,1], dtype='complex')\n",
    "    for x in range(nx):\n",
    "            prob[x,0] = ( (np.cos(theta)**2) * (sp.jv(domain[x] + k, 2*t)**2)\n",
    "                        + (np.sin(theta)**2) * (sp.jv(domain[x] - k, 2*t)**2)\n",
    "                        + 2*((-1)**k)*np.cos(2*alpha*k + gamma)*np.cos(theta)*np.sin(theta)*sp.jv(domain[x] + k, 2*t)*sp.jv(domain[x] - k, 2*t))\n",
    "\n",
    "    return prob\n",
    "\n",
    "def is_unitary(m):\n",
    "    return np.allclose(np.eye(m.shape[0]), m.H * m)\n"
   ],
   "metadata": {
    "collapsed": false,
    "pycharm": {
     "name": "#%%\n"
    }
   }
  },
  {
   "cell_type": "code",
   "execution_count": 11,
   "outputs": [
    {
     "ename": "AttributeError",
     "evalue": "'QWAK' object has no attribute 'getProbDistVec'",
     "output_type": "error",
     "traceback": [
      "\u001B[1;31m---------------------------------------------------------------------------\u001B[0m",
      "\u001B[1;31mAttributeError\u001B[0m                            Traceback (most recent call last)",
      "Input \u001B[1;32mIn [11]\u001B[0m, in \u001B[0;36m<cell line: 43>\u001B[1;34m()\u001B[0m\n\u001B[0;32m     36\u001B[0m \u001B[38;5;66;03m# initCond = [(n//2-k,(np.cos(theta))),(n//2+k,(np.exp(1j*gamma)*np.sin(theta)))] # Problema entre esta condicao inicial e a proxima.\u001B[39;00m\n\u001B[0;32m     37\u001B[0m \u001B[38;5;66;03m# initCond = [(n//2-k,(np.cos(theta))),(n//2+k,2*(np.cos(gamma)*np.sin(theta)))]\u001B[39;00m\n\u001B[0;32m     38\u001B[0m \u001B[38;5;66;03m# initCond = [(n//2-k,(np.cos(theta))),(n//2+k,np.exp(1j*gamma)*np.sin(theta))]\u001B[39;00m\n\u001B[0;32m     39\u001B[0m \u001B[38;5;66;03m# initCond = [(n//2-k,1/np.sqrt(2)),(n//2+k,1/np.sqrt(2))]\u001B[39;00m\n\u001B[0;32m     40\u001B[0m \u001B[38;5;66;03m# qw.runWalk(t,customStateList=initCond)\u001B[39;00m\n\u001B[0;32m     41\u001B[0m qw2\u001B[38;5;241m.\u001B[39mrunWalk(t,[n\u001B[38;5;241m/\u001B[39m\u001B[38;5;241m/\u001B[39m\u001B[38;5;241m2\u001B[39m,n\u001B[38;5;241m/\u001B[39m\u001B[38;5;241m/\u001B[39m\u001B[38;5;241m2\u001B[39m\u001B[38;5;241m+\u001B[39m\u001B[38;5;241m1\u001B[39m])\n\u001B[1;32m---> 43\u001B[0m qwakProbDist \u001B[38;5;241m=\u001B[39m \u001B[43mqw2\u001B[49m\u001B[38;5;241;43m.\u001B[39;49m\u001B[43mgetProbDistVec\u001B[49m()\n\u001B[0;32m     44\u001B[0m \u001B[38;5;28mprint\u001B[39m(\u001B[38;5;28mlist\u001B[39m(qwakProbDist))\n\u001B[0;32m     45\u001B[0m plt\u001B[38;5;241m.\u001B[39mplot(qwakProbDist,label\u001B[38;5;241m=\u001B[39m\u001B[38;5;124m\"\u001B[39m\u001B[38;5;124mQWAK\u001B[39m\u001B[38;5;124m\"\u001B[39m)\n",
      "\u001B[1;31mAttributeError\u001B[0m: 'QWAK' object has no attribute 'getProbDistVec'"
     ]
    }
   ],
   "source": [
    "k = 2\n",
    "n0 = 200\n",
    "t  = 20\n",
    "alpha=np.pi/2\n",
    "if k > 0:\n",
    "    theta=np.pi/4\n",
    "else:\n",
    "    theta = np.pi/2\n",
    "l = 1\n",
    "gamma = l * np.pi\n",
    "\n",
    "# psi_oriented = inf_line_bessel_oriented10(k,n0,t,alpha,theta,gamma,l)\n",
    "# plt.plot(psi_oriented,label=\"BESSEL1\")\n",
    "\n",
    "# psi_oriented2 = inf_line_bessel_oriented8(k,n0,t,alpha)\n",
    "# plt.plot(psi_oriented2,label=\"BESSEL2\")\n",
    "\n",
    "n=100\n",
    "t=12\n",
    "H = nx.path_graph(n,create_using=nx.DiGraph)\n",
    "G = H.reverse()\n",
    "\n",
    "for u,v,d in H.edges(data=True):\n",
    "    d[\"weight\"] = np.exp(1j*alpha)\n",
    "    mat = np.matrix(d[\"weight\"])\n",
    "\n",
    "for u,v,d in G.edges(data=True):\n",
    "    d[\"weight\"] = np.exp(-1j*alpha)\n",
    "    mat = np.matrix(d[\"weight\"])\n",
    "\n",
    "\n",
    "graph = nx.compose(H,G)\n",
    "qw = QWAK(graph)\n",
    "qw2 = QWAK(graph)\n",
    "\n",
    "# initCond = [(n//2-k,(np.cos(theta))),(n//2+k,(np.exp(1j*gamma)*np.sin(theta)))] # Problema entre esta condicao inicial e a proxima.\n",
    "# initCond = [(n//2-k,(np.cos(theta))),(n//2+k,2*(np.cos(gamma)*np.sin(theta)))]\n",
    "# initCond = [(n//2-k,(np.cos(theta))),(n//2+k,np.exp(1j*gamma)*np.sin(theta))]\n",
    "# initCond = [(n//2-k,1/np.sqrt(2)),(n//2+k,1/np.sqrt(2))]\n",
    "# qw.runWalk(t,customStateList=initCond)\n",
    "qw2.runWalk(t,[n//2,n//2+1])\n",
    "\n",
    "qwakProbDist = qw2.getProbDistVec()\n",
    "print(list(qwakProbDist))\n",
    "plt.plot(qwakProbDist,label=\"QWAK\")\n",
    "# plt.legend()\n",
    "#\n",
    "# print(f\"Qwak Operator is unitary: {is_unitary(qw.getOperator().getOperator())}\")\n",
    "# print(f\"Qwak is unitary: {is_unitary(qwakProbDist)}\\nBessel is unitary {is_unitary(psi_oriented)}\")\n"
   ],
   "metadata": {
    "collapsed": false,
    "pycharm": {
     "name": "#%%\n"
    }
   }
  },
  {
   "cell_type": "markdown",
   "source": [],
   "metadata": {
    "collapsed": false,
    "pycharm": {
     "name": "#%% md\n"
    }
   }
  },
  {
   "cell_type": "code",
   "execution_count": null,
   "outputs": [],
   "source": [
    "def inf_line_bessel_oriented11(k,nx,t,alpha,theta,gamma,l):\n",
    "    domain = np.arange(0, nx) - nx//2\n",
    "    prob = np.zeros([nx + 1,1], dtype='complex')\n",
    "\n",
    "    for x in range(nx):\n",
    "            prob[x,0] = (np.cos(theta) * sp.jv(domain[x] + k, 2*t) + ((-1)**l)*np.sin(theta) * sp.jv(domain[x] - k, 2*t))**2\n",
    "\n",
    "    return prob"
   ],
   "metadata": {
    "collapsed": false,
    "pycharm": {
     "name": "#%%\n"
    }
   }
  },
  {
   "cell_type": "code",
   "execution_count": null,
   "outputs": [],
   "source": [
    "k = 2\n",
    "n0 = 200\n",
    "t  = 20\n",
    "alpha=np.pi/2\n",
    "if k > 0:\n",
    "    theta=np.pi/4\n",
    "else:\n",
    "    theta = np.pi/2\n",
    "l = 0\n",
    "gamma = l * np.pi\n",
    "\n",
    "psi_oriented = inf_line_bessel_oriented11(k,n0,t,alpha,theta,gamma,l)\n",
    "plt.plot(psi_oriented,label=\"BESSEL11\")\n",
    "\n",
    "# psi_oriented2 = inf_line_bessel_oriented10(k,n0,t,alpha,theta,gamma,l)\n",
    "# plt.plot(psi_oriented2,label=\"BESSEL10\")\n",
    "\n",
    "n=200\n",
    "H = nx.path_graph(n,create_using=nx.DiGraph)\n",
    "G = H.reverse()\n",
    "\n",
    "for u,v,d in H.edges(data=True):\n",
    "    d[\"weight\"] = np.exp(1j*alpha)\n",
    "    mat = np.matrix(d[\"weight\"])\n",
    "\n",
    "for u,v,d in G.edges(data=True):\n",
    "    d[\"weight\"] = np.exp(-1j*alpha)\n",
    "    mat = np.matrix(d[\"weight\"])\n",
    "\n",
    "\n",
    "graph = nx.compose(H,G)\n",
    "qw = QWAK(graph)\n",
    "qw2 = QWAK(graph)\n",
    "\n",
    "initCond = [(n//2-k,(np.cos(theta))),(n//2+k,(np.exp(1j*gamma)*np.sin(theta)))] # Problema entre esta condicao inicial e a proxima.\n",
    "# initCond = [(n//2-k,(np.cos(theta))),(n//2+k,2*(np.cos(gamma)*np.sin(theta)))]\n",
    "# initCond = [(n//2-k,(np.cos(theta))),(n//2+k,np.exp(1j*gamma)*np.sin(theta))]\n",
    "# initCond = [(n//2-k,1/np.sqrt(2)),(n//2+k,1/np.sqrt(2))]\n",
    "print(initCond)\n",
    "qw.runWalk(t,customStateList=initCond)\n",
    "qw2.runWalk(t,[n//2-k,n//2+k])\n",
    "\n",
    "qwakProbDist = qw.getProbDistVec()\n",
    "plt.plot(qwakProbDist,label=\"QWAK\")\n",
    "plt.legend()\n",
    "\n",
    "print(f\"Qwak Operator is unitary: {is_unitary(qw.getOperator().getOperator())}\")\n",
    "# print(f\"Qwak is unitary: {is_unitary(qwakProbDist)}\\nBessel is unitary {is_unitary(psi_oriented)}\")"
   ],
   "metadata": {
    "collapsed": false,
    "pycharm": {
     "name": "#%%\n"
    }
   }
  },
  {
   "cell_type": "code",
   "execution_count": null,
   "outputs": [],
   "source": [
    "k = 1\n",
    "n0 = 1000\n",
    "# alpha=np.pi/2\n",
    "if k > 0:\n",
    "    theta=np.pi/4\n",
    "else:\n",
    "    theta = np.pi/2\n",
    "l = 0\n",
    "gamma = l * np.pi\n",
    "\n",
    "alphaLen = range(2,4)\n",
    "alphaList=[0] + [np.pi/(n) for n in alphaLen]\n",
    "print(list(alphaList))\n",
    "timeList = np.linspace(1,100,500)\n",
    "timeListList = [timeList]*len(alphaList)\n",
    "prob = []\n",
    "probList = []\n",
    "cubeFuncList = []\n",
    "invFuncList = []\n",
    "\n",
    "for alpha in alphaList:\n",
    "    for t in timeList:\n",
    "        psi_oriented = inf_line_bessel_oriented10(k,n0,t,alpha,theta,gamma,l)\n",
    "        prob.append(np.sum(psi_oriented[n0//2-k-1:n0//2+k+2]))\n",
    "        cubeFuncList.append(1/(t**3))\n",
    "        invFuncList.append(1/t)\n",
    "    probList.append(prob)\n",
    "    prob = []"
   ],
   "metadata": {
    "collapsed": false,
    "pycharm": {
     "name": "#%%\n"
    }
   }
  },
  {
   "cell_type": "code",
   "execution_count": null,
   "outputs": [],
   "source": [
    "plt.loglog()\n",
    "for probability,alpha in zip(probList,[0] + list(alphaLen)):\n",
    "    if alpha == 0:\n",
    "        plt.plot(timeList,probability,label=r\"$\\alpha = 0$\")\n",
    "    else:\n",
    "        plt.plot(timeList,probability,label=r\"$\\alpha = \\frac{\\pi}{%s}$\"%str(alpha))\n",
    "\n",
    "# plt.plot(cubeFuncList,label=\"cube\")\n",
    "# plt.plot(invFuncList,label=\"inverse\")\n",
    "plt.xlim([1,100])\n",
    "# print(probList)\n",
    "\n",
    "mpl.rcParams['figure.figsize'] = [12, 10]\n",
    "plt.legend(loc=\"lower left\", ncol=len(alphaList),fontsize=18)\n",
    "plt.ylabel(r\"$P_{[-%s,%s]}(x)$\"%(k,k),fontsize=18)\n",
    "plt.xlabel(\"t\",fontsize=18)\n",
    "mpl.rc('xtick', labelsize=18)\n",
    "mpl.rc('ytick', labelsize=18)\n",
    "plt.show()"
   ],
   "metadata": {
    "collapsed": false,
    "pycharm": {
     "name": "#%%\n"
    }
   }
  },
  {
   "cell_type": "code",
   "execution_count": null,
   "outputs": [],
   "source": [
    "k = 1\n",
    "n0 = 200\n",
    "t  = 20\n",
    "if k > 0:\n",
    "    theta=np.pi/4\n",
    "else:\n",
    "    theta = np.pi/2\n",
    "\n",
    "l = 3\n",
    "gamma = l * np.pi\n",
    "alpha = np.pi/2\n",
    "\n",
    "v=1\n",
    "if k%2 == 0:\n",
    "    alpha2 = (2*v*np.pi - gamma)/(2*k)\n",
    "else:\n",
    "    alpha2 = (np.pi + 2*v*np.pi - gamma)/(2*k)\n",
    "\n",
    "\n",
    "print(alpha)\n",
    "print(alpha2)\n",
    "psi_oriented2 = inf_line_bessel_oriented10(k,n0,t,alpha2,theta,gamma,l)\n",
    "plt.plot(psi_oriented2,label=\"BESSEL10\")\n",
    "psi_oriented = inf_line_bessel_oriented11(k,n0,t,alpha,theta,gamma,l)\n",
    "plt.plot(psi_oriented,label=\"BESSEL11\")\n",
    "\n",
    "\n",
    "\n",
    "n=200\n",
    "H = nx.path_graph(n,create_using=nx.DiGraph)\n",
    "G = H.reverse()\n",
    "\n",
    "for u,v,d in H.edges(data=True):\n",
    "    d[\"weight\"] = np.exp(1j*alpha)\n",
    "    mat = np.matrix(d[\"weight\"])\n",
    "\n",
    "for u,v,d in G.edges(data=True):\n",
    "    d[\"weight\"] = np.exp(-1j*alpha)\n",
    "    mat = np.matrix(d[\"weight\"])\n",
    "\n",
    "\n",
    "graph = nx.compose(H,G)\n",
    "qw = QWAK(graph)\n",
    "qw2 = QWAK(graph)\n",
    "\n",
    "initCond = [(n//2-k,(np.cos(theta))),(n//2+k,(np.exp(1j*gamma)*np.sin(theta)))] # Problema entre esta condicao inicial e a proxima.\n",
    "print(initCond)\n",
    "qw.runWalk(t,customStateList=initCond)\n",
    "qw2.runWalk(t,[n//2-k,n//2+k])\n",
    "\n",
    "qwakProbDist = qw.getProbDistVec()\n",
    "plt.plot(qwakProbDist,label=\"QWAK\")\n",
    "plt.legend()\n",
    "\n",
    "# print(f\"Qwak Operator is unitary: {is_unitary(qw.getOperator().getOperator())}\")\n",
    "# print(f\"Qwak is unitary: {is_unitary(qwakProbDist)}\\nBessel is unitary {is_unitary(psi_oriented)}\")"
   ],
   "metadata": {
    "collapsed": false,
    "pycharm": {
     "name": "#%%\n"
    }
   }
  },
  {
   "cell_type": "code",
   "execution_count": null,
   "outputs": [],
   "source": [
    "k = 3\n",
    "n0 = 200\n",
    "t  = 20\n",
    "if k > 0:\n",
    "    theta=np.pi/4\n",
    "else:\n",
    "    theta = np.pi/2\n",
    "\n",
    "\n",
    "l = 0\n",
    "gamma = l * np.pi\n",
    "alpha = np.pi/4\n",
    "\n",
    "v=3\n",
    "if k%2==0:\n",
    "    gamma2 = 2*(np.pi*v - alpha*k)\n",
    "else:\n",
    "    gamma2 = np.pi + 2*(np.pi*v - alpha*k)\n",
    "\n",
    "print(alpha)\n",
    "print(alpha2)\n",
    "psi_oriented2 = inf_line_bessel_oriented10(k,n0,t,alpha,theta,gamma2,l)\n",
    "plt.plot(psi_oriented2,label=\"BESSEL10\")\n",
    "psi_oriented = inf_line_bessel_oriented11(k,n0,t,alpha,theta,gamma,l)\n",
    "plt.plot(psi_oriented,label=\"BESSEL11\")\n",
    "\n",
    "\n",
    "\n",
    "n=200\n",
    "H = nx.path_graph(n,create_using=nx.DiGraph)\n",
    "G = H.reverse()\n",
    "\n",
    "for u,v,d in H.edges(data=True):\n",
    "    d[\"weight\"] = np.exp(1j*alpha)\n",
    "    mat = np.matrix(d[\"weight\"])\n",
    "\n",
    "for u,v,d in G.edges(data=True):\n",
    "    d[\"weight\"] = np.exp(-1j*alpha)\n",
    "    mat = np.matrix(d[\"weight\"])\n",
    "\n",
    "\n",
    "graph = nx.compose(H,G)\n",
    "qw = QWAK(graph)\n",
    "qw2 = QWAK(graph)\n",
    "\n",
    "initCond = [(n//2-k,(np.cos(theta))),(n//2+k,(np.exp(1j*gamma)*np.sin(theta)))] # Problema entre esta condicao inicial e a proxima.\n",
    "print(initCond)\n",
    "qw.runWalk(t,customStateList=initCond)\n",
    "qw2.runWalk(t,[n//2-k,n//2+k])\n",
    "\n",
    "qwakProbDist = qw.getProbDistVec()\n",
    "plt.plot(qwakProbDist,label=\"QWAK\")\n",
    "plt.legend()\n",
    "\n",
    "# print(f\"Qwak Operator is unitary: {is_unitary(qw.getOperator().getOperator())}\")\n",
    "# print(f\"Qwak is unitary: {is_unitary(qwakProbDist)}\\nBessel is unitary {is_unitary(psi_oriented)}\")"
   ],
   "metadata": {
    "collapsed": false,
    "pycharm": {
     "name": "#%%\n"
    }
   }
  },
  {
   "cell_type": "code",
   "execution_count": null,
   "outputs": [],
   "source": [
    "def inf_line_bessel_oriented13(k,nx,t,alpha,theta,gamma,l,v):\n",
    "    domain = np.arange(0, nx) - nx//2\n",
    "    prob = np.zeros([nx + 1,1], dtype='complex')\n",
    "    for x in range(nx):\n",
    "            prob[x,0] = ( (np.cos(theta)**2) * (sp.jv(domain[x] + k, 2*t)**2)\n",
    "                        + (np.sin(theta)**2) * (sp.jv(domain[x] - k, 2*t)**2)\n",
    "                        + 2*((-1)**k)*(np.cos(2*alpha*k + gamma)*np.cos(theta)*np.sin(theta)*sp.jv(domain[x] + k, 2*t)*sp.jv(domain[x] - k, 2*t)))\n",
    "    return prob\n",
    "\n",
    "def inf_line_bessel_oriented14(k,nx,t,alpha,theta,gamma,l):\n",
    "    domain = np.arange(0, nx) - nx//2\n",
    "    prob = np.zeros([nx + 1,1], dtype='complex')\n",
    "\n",
    "    for x in range(nx):\n",
    "            prob[x,0] = (np.cos(theta) * sp.jv(domain[x] + k, 2*t) + np.sin(theta) * sp.jv(domain[x] - k, 2*t))**2\n",
    "\n",
    "    return prob"
   ],
   "metadata": {
    "collapsed": false,
    "pycharm": {
     "name": "#%%\n"
    }
   }
  },
  {
   "cell_type": "code",
   "execution_count": 12,
   "outputs": [
    {
     "name": "stdout",
     "output_type": "stream",
     "text": [
      "1.5707963267948966\n",
      "1.0471975511965976\n"
     ]
    },
    {
     "ename": "NameError",
     "evalue": "name 'inf_line_bessel_oriented13' is not defined",
     "output_type": "error",
     "traceback": [
      "\u001B[1;31m---------------------------------------------------------------------------\u001B[0m",
      "\u001B[1;31mNameError\u001B[0m                                 Traceback (most recent call last)",
      "Input \u001B[1;32mIn [12]\u001B[0m, in \u001B[0;36m<cell line: 23>\u001B[1;34m()\u001B[0m\n\u001B[0;32m     21\u001B[0m \u001B[38;5;28mprint\u001B[39m(alpha)\n\u001B[0;32m     22\u001B[0m \u001B[38;5;28mprint\u001B[39m(alpha2)\n\u001B[1;32m---> 23\u001B[0m psi_oriented2 \u001B[38;5;241m=\u001B[39m \u001B[43minf_line_bessel_oriented13\u001B[49m(k,n0,t,alpha2,theta,gamma,l,v)\n\u001B[0;32m     24\u001B[0m plt\u001B[38;5;241m.\u001B[39mplot(psi_oriented2,label\u001B[38;5;241m=\u001B[39m\u001B[38;5;124m\"\u001B[39m\u001B[38;5;124mBESSEL13\u001B[39m\u001B[38;5;124m\"\u001B[39m)\n\u001B[0;32m     25\u001B[0m \u001B[38;5;66;03m# psi_oriented = inf_line_bessel_oriented11(k,n0,t,alpha,theta,gamma,l)\u001B[39;00m\n\u001B[0;32m     26\u001B[0m \u001B[38;5;66;03m# plt.plot(psi_oriented,label=\"BESSEL11\")\u001B[39;00m\n",
      "\u001B[1;31mNameError\u001B[0m: name 'inf_line_bessel_oriented13' is not defined"
     ]
    }
   ],
   "source": [
    "k = 3\n",
    "n0 = 200\n",
    "t  = 20\n",
    "if k > 0:\n",
    "    theta=np.pi/4\n",
    "else:\n",
    "    theta = np.pi/2\n",
    "\n",
    "l = 3\n",
    "gamma = l * np.pi\n",
    "alpha = np.pi/2\n",
    "# alpha2 = (np.pi + 2*v*np.pi - gamma)/(2*k)\n",
    "\n",
    "v=2\n",
    "if k%2 == 0:\n",
    "    alpha2 = (2*v*np.pi - gamma)/(2*k)\n",
    "else:\n",
    "    alpha2 = (np.pi + 2*v*np.pi - gamma)/(2*k)\n",
    "\n",
    "\n",
    "print(alpha)\n",
    "print(alpha2)\n",
    "psi_oriented2 = inf_line_bessel_oriented13(k,n0,t,alpha2,theta,gamma,l,v)\n",
    "plt.plot(psi_oriented2,label=\"BESSEL13\")\n",
    "# psi_oriented = inf_line_bessel_oriented11(k,n0,t,alpha,theta,gamma,l)\n",
    "# plt.plot(psi_oriented,label=\"BESSEL11\")\n",
    "psi_oriented3 = inf_line_bessel_oriented14(k,n0,t,alpha,theta,gamma,l)\n",
    "plt.plot(psi_oriented3,label=\"BESSEL14\")\n",
    "\n",
    "\n",
    "\n",
    "n=200\n",
    "H = nx.path_graph(n,create_using=nx.DiGraph)\n",
    "G = H.reverse()\n",
    "\n",
    "for u,v,d in H.edges(data=True):\n",
    "    d[\"weight\"] = np.exp(1j*alpha2)\n",
    "    mat = np.matrix(d[\"weight\"])\n",
    "\n",
    "for u,v,d in G.edges(data=True):\n",
    "    d[\"weight\"] = np.exp(-1j*alpha2)\n",
    "    mat = np.matrix(d[\"weight\"])\n",
    "\n",
    "\n",
    "graph = nx.compose(H,G)\n",
    "qw = QWAK(graph)\n",
    "qw2 = QWAK(graph)\n",
    "\n",
    "initCond = [(n//2-k,(np.cos(theta))),(n//2+k,(np.exp(1j*gamma)*np.sin(theta)))] # Problema entre esta condicao inicial e a proxima.\n",
    "print(initCond)\n",
    "qw.runWalk(t,customStateList=initCond)\n",
    "qw2.runWalk(t,[n//2-k,n//2+k])\n",
    "\n",
    "qwakProbDist = qw.getProbDistVec()\n",
    "plt.plot(qwakProbDist,label=\"QWAK\")\n",
    "plt.legend()\n",
    "\n",
    "# print(f\"Qwak Operator is unitary: {is_unitary(qw.getOperator().getOperator())}\")\n",
    "# print(f\"Qwak is unitary: {is_unitary(qwakProbDist)}\\nBessel is unitary {is_unitary(psi_oriented)}\")"
   ],
   "metadata": {
    "collapsed": false,
    "pycharm": {
     "name": "#%%\n"
    }
   }
  },
  {
   "cell_type": "code",
   "execution_count": 12,
   "outputs": [],
   "source": [],
   "metadata": {
    "collapsed": false,
    "pycharm": {
     "name": "#%%\n"
    }
   }
  },
  {
   "cell_type": "code",
   "execution_count": 13,
   "outputs": [
    {
     "name": "stdout",
     "output_type": "stream",
     "text": [
      "1.5707963267948966\n",
      "0.0\n"
     ]
    },
    {
     "ename": "NameError",
     "evalue": "name 'inf_line_bessel_oriented11' is not defined",
     "output_type": "error",
     "traceback": [
      "\u001B[1;31m---------------------------------------------------------------------------\u001B[0m",
      "\u001B[1;31mNameError\u001B[0m                                 Traceback (most recent call last)",
      "Input \u001B[1;32mIn [13]\u001B[0m, in \u001B[0;36m<cell line: 24>\u001B[1;34m()\u001B[0m\n\u001B[0;32m     22\u001B[0m psi_oriented2 \u001B[38;5;241m=\u001B[39m inf_line_bessel_oriented10(k,n0,t,alpha2,theta,gamma,l)\n\u001B[0;32m     23\u001B[0m plt\u001B[38;5;241m.\u001B[39mplot(psi_oriented2,label\u001B[38;5;241m=\u001B[39m\u001B[38;5;124m\"\u001B[39m\u001B[38;5;124mBESSEL10\u001B[39m\u001B[38;5;124m\"\u001B[39m)\n\u001B[1;32m---> 24\u001B[0m psi_oriented \u001B[38;5;241m=\u001B[39m \u001B[43minf_line_bessel_oriented11\u001B[49m(k,n0,t,alpha,theta,gamma,l)\n\u001B[0;32m     25\u001B[0m plt\u001B[38;5;241m.\u001B[39mplot(psi_oriented,label\u001B[38;5;241m=\u001B[39m\u001B[38;5;124m\"\u001B[39m\u001B[38;5;124mBESSEL11\u001B[39m\u001B[38;5;124m\"\u001B[39m)\n\u001B[0;32m     29\u001B[0m n\u001B[38;5;241m=\u001B[39m\u001B[38;5;241m200\u001B[39m\n",
      "\u001B[1;31mNameError\u001B[0m: name 'inf_line_bessel_oriented11' is not defined"
     ]
    },
    {
     "data": {
      "text/plain": "<Figure size 864x720 with 1 Axes>",
      "image/png": "[encoded data removed]"
     },
     "metadata": {
      "needs_background": "light"
     },
     "output_type": "display_data"
    }
   ],
   "source": [
    "k = 1\n",
    "n0 = 200\n",
    "t  = 20\n",
    "if k > 0:\n",
    "    theta=np.pi/4\n",
    "else:\n",
    "    theta = np.pi/2\n",
    "\n",
    "l = 3\n",
    "gamma = l * np.pi\n",
    "alpha = np.pi/2\n",
    "\n",
    "v=1\n",
    "if k%2 == 0:\n",
    "    alpha2 = (2*v*np.pi - gamma)/(2*k)\n",
    "else:\n",
    "    alpha2 = (np.pi + 2*v*np.pi - gamma)/(2*k)\n",
    "\n",
    "\n",
    "print(alpha)\n",
    "print(alpha2)\n",
    "psi_oriented2 = inf_line_bessel_oriented10(k,n0,t,alpha2,theta,gamma,l)\n",
    "plt.plot(psi_oriented2,label=\"BESSEL10\")\n",
    "psi_oriented = inf_line_bessel_oriented11(k,n0,t,alpha,theta,gamma,l)\n",
    "plt.plot(psi_oriented,label=\"BESSEL11\")\n",
    "\n",
    "\n",
    "\n",
    "n=200\n",
    "H = nx.path_graph(n,create_using=nx.DiGraph)\n",
    "G = H.reverse()\n",
    "\n",
    "for u,v,d in H.edges(data=True):\n",
    "    d[\"weight\"] = np.exp(1j*alpha)\n",
    "    mat = np.matrix(d[\"weight\"])\n",
    "\n",
    "for u,v,d in G.edges(data=True):\n",
    "    d[\"weight\"] = np.exp(-1j*alpha)\n",
    "    mat = np.matrix(d[\"weight\"])\n",
    "\n",
    "\n",
    "graph = nx.compose(H,G)\n",
    "qw = QWAK(graph)\n",
    "qw2 = QWAK(graph)\n",
    "\n",
    "initCond = [(n//2-k,(np.cos(theta))),(n//2+k,(np.exp(1j*gamma)*np.sin(theta)))] # Problema entre esta condicao inicial e a proxima.\n",
    "print(initCond)\n",
    "qw.runWalk(t,customStateList=initCond)\n",
    "qw2.runWalk(t,[n//2-k,n//2+k])\n",
    "\n",
    "qwakProbDist = qw.getProbDistVec()\n",
    "plt.plot(qwakProbDist,label=\"QWAK\")\n",
    "plt.legend()\n",
    "\n",
    "# print(f\"Qwak Operator is unitary: {is_unitary(qw.getOperator().getOperator())}\")\n",
    "# print(f\"Qwak is unitary: {is_unitary(qwakProbDist)}\\nBessel is unitary {is_unitary(psi_oriented)}\")"
   ],
   "metadata": {
    "collapsed": false,
    "pycharm": {
     "name": "#%%\n"
    }
   }
  },
  {
   "cell_type": "code",
   "execution_count": null,
   "outputs": [],
   "source": [
    "k = 3\n",
    "n0 = 200\n",
    "t  = 20\n",
    "if k > 0:\n",
    "    theta=np.pi/4\n",
    "else:\n",
    "    theta = np.pi/2\n",
    "\n",
    "\n",
    "l = 0\n",
    "gamma = l * np.pi\n",
    "alpha = np.pi/4\n",
    "\n",
    "v=3\n",
    "if k%2==0:\n",
    "    gamma2 = 2*(np.pi*v - alpha*k)\n",
    "else:\n",
    "    gamma2 = np.pi + 2*(np.pi*v - alpha*k)\n",
    "\n",
    "print(alpha)\n",
    "print(alpha2)\n",
    "psi_oriented2 = inf_line_bessel_oriented10(k,n0,t,alpha,theta,gamma2,l)\n",
    "plt.plot(psi_oriented2,label=\"BESSEL10\")\n",
    "psi_oriented = inf_line_bessel_oriented11(k,n0,t,alpha,theta,gamma,l)\n",
    "plt.plot(psi_oriented,label=\"BESSEL11\")\n",
    "\n",
    "\n",
    "\n",
    "n=200\n",
    "H = nx.path_graph(n,create_using=nx.DiGraph)\n",
    "G = H.reverse()\n",
    "\n",
    "for u,v,d in H.edges(data=True):\n",
    "    d[\"weight\"] = np.exp(1j*alpha)\n",
    "    mat = np.matrix(d[\"weight\"])\n",
    "\n",
    "for u,v,d in G.edges(data=True):\n",
    "    d[\"weight\"] = np.exp(-1j*alpha)\n",
    "    mat = np.matrix(d[\"weight\"])\n",
    "\n",
    "\n",
    "graph = nx.compose(H,G)\n",
    "qw = QWAK(graph)\n",
    "qw2 = QWAK(graph)\n",
    "\n",
    "initCond = [(n//2-k,(np.cos(theta))),(n//2+k,(np.exp(1j*gamma)*np.sin(theta)))] # Problema entre esta condicao inicial e a proxima.\n",
    "print(initCond)\n",
    "qw.runWalk(t,customStateList=initCond)\n",
    "qw2.runWalk(t,[n//2-k,n//2+k])\n",
    "\n",
    "qwakProbDist = qw.getProbDistVec()\n",
    "plt.plot(qwakProbDist,label=\"QWAK\")\n",
    "plt.legend()\n",
    "\n",
    "# print(f\"Qwak Operator is unitary: {is_unitary(qw.getOperator().getOperator())}\")\n",
    "# print(f\"Qwak is unitary: {is_unitary(qwakProbDist)}\\nBessel is unitary {is_unitary(psi_oriented)}\")"
   ],
   "metadata": {
    "collapsed": false,
    "pycharm": {
     "name": "#%%\n"
    }
   }
  },
  {
   "cell_type": "code",
   "execution_count": 14,
   "outputs": [],
   "source": [
    "def inf_line_bessel_oriented12(k,nx,t,alpha,theta,gamma,l):\n",
    "    domain = np.arange(0, nx) - nx//2\n",
    "    prob = np.zeros([nx + 1,1], dtype='complex')\n",
    "    for x in range(nx):\n",
    "            prob[x,0] = ( (np.cos(theta)**2) * (sp.jv(domain[x] + k, 2*t)**2)\n",
    "                        + (np.sin(theta)**2) * (sp.jv(domain[x] - k, 2*t)**2)\n",
    "                        - 2*(np.cos(2*alpha*k + gamma)*np.cos(theta)*np.sin(theta)*sp.jv(domain[x] + k, 2*t)*sp.jv(domain[x] - k, 2*t)))\n",
    "    return prob\n",
    "\n",
    "def inf_line_bessel_oriented13(k,nx,t,alpha,theta,gamma,l,v):\n",
    "    domain = np.arange(0, nx) - nx//2\n",
    "    prob = np.zeros([nx + 1,1], dtype='complex')\n",
    "    for x in range(nx):\n",
    "            prob[x,0] = ( (np.cos(theta)**2) * (sp.jv(domain[x] + k, 2*t)**2)\n",
    "                        + (np.sin(theta)**2) * (sp.jv(domain[x] - k, 2*t)**2)\n",
    "                        - 2*(np.cos(2*((np.pi + 2*v*np.pi - gamma)/(2*k))*k + gamma)*np.cos(theta)*np.sin(theta)*sp.jv(domain[x] + k, 2*t)*sp.jv(domain[x] - k, 2*t)))\n",
    "    return prob"
   ],
   "metadata": {
    "collapsed": false,
    "pycharm": {
     "name": "#%%\n"
    }
   }
  },
  {
   "cell_type": "code",
   "execution_count": 21,
   "outputs": [
    {
     "name": "stdout",
     "output_type": "stream",
     "text": [
      "1.5707963267948966\n",
      "1.0471975511965976\n",
      "[(97, 0.9238795325112867), (103, (-0.3826834323650898+4.6865204053262986e-17j))]\n"
     ]
    },
    {
     "data": {
      "text/plain": "<matplotlib.legend.Legend at 0x22d086aeb30>"
     },
     "execution_count": 21,
     "metadata": {},
     "output_type": "execute_result"
    },
    {
     "data": {
      "text/plain": "<Figure size 864x720 with 1 Axes>",
      "image/png": "[encoded data removed]"
     },
     "metadata": {
      "needs_background": "light"
     },
     "output_type": "display_data"
    }
   ],
   "source": [
    "k = 3\n",
    "n0 = 200\n",
    "t  = 20\n",
    "if k > 0:\n",
    "    theta=np.pi/8\n",
    "else:\n",
    "    theta = np.pi/2\n",
    "\n",
    "l = 1\n",
    "gamma = l * np.pi\n",
    "v=1\n",
    "alpha = np.pi/2\n",
    "alpha2 = (np.pi + 2*v*np.pi - gamma)/(2*k)\n",
    "\n",
    "# v=1\n",
    "# if k%2 == 0:\n",
    "#     alpha2 = (2*v*np.pi - gamma)/(2*k)\n",
    "# else:\n",
    "#     alpha2 = (np.pi + 2*v*np.pi - gamma)/(2*k)\n",
    "\n",
    "\n",
    "print(alpha)\n",
    "print(alpha2)\n",
    "# psi_oriented2 = inf_line_bessel_oriented12(k,n0,t,alpha2,theta,gamma,l)\n",
    "# plt.plot(psi_oriented2,label=\"BESSEL12\")\n",
    "psi_oriented2 = inf_line_bessel_oriented13(k,n0,t,alpha2,theta,gamma,l,v)\n",
    "plt.plot(psi_oriented2,label=\"BESSEL13\")\n",
    "# psi_oriented = inf_line_bessel_oriented11(k,n0,t,alpha,theta,gamma,l)\n",
    "# plt.plot(psi_oriented,label=\"BESSEL11\")\n",
    "\n",
    "\n",
    "\n",
    "n=200\n",
    "H = nx.path_graph(n,create_using=nx.DiGraph)\n",
    "G = H.reverse()\n",
    "\n",
    "for u,v,d in H.edges(data=True):\n",
    "    d[\"weight\"] = np.exp(1j*alpha2)\n",
    "    mat = np.matrix(d[\"weight\"])\n",
    "\n",
    "for u,v,d in G.edges(data=True):\n",
    "    d[\"weight\"] = np.exp(-1j*alpha2)\n",
    "    mat = np.matrix(d[\"weight\"])\n",
    "\n",
    "\n",
    "graph = nx.compose(H,G)\n",
    "qw = QWAK(graph)\n",
    "qw2 = QWAK(graph)\n",
    "\n",
    "initCond = [(n//2-k,(np.cos(theta))),(n//2+k,(np.exp(1j*gamma)*np.sin(theta)))] # Problema entre esta condicao inicial e a proxima.\n",
    "print(initCond)\n",
    "qw.runWalk(t,customStateList=initCond)\n",
    "qw2.runWalk(t,[n//2-k,n//2+k])\n",
    "\n",
    "qwakProbDist = qw.getProbVec()\n",
    "plt.plot(qwakProbDist,label=\"QWAK\")\n",
    "plt.legend()\n",
    "\n",
    "# print(f\"Qwak Operator is unitary: {is_unitary(qw.getOperator().getOperator())}\")\n",
    "# print(f\"Qwak is unitary: {is_unitary(qwakProbDist)}\\nBessel is unitary {is_unitary(psi_oriented)}\")"
   ],
   "metadata": {
    "collapsed": false,
    "pycharm": {
     "name": "#%%\n"
    }
   }
  },
  {
   "cell_type": "code",
   "execution_count": 15,
   "outputs": [],
   "source": [],
   "metadata": {
    "collapsed": false,
    "pycharm": {
     "name": "#%%\n"
    }
   }
  },
  {
   "cell_type": "code",
   "execution_count": 15,
   "outputs": [],
   "source": [],
   "metadata": {
    "collapsed": false,
    "pycharm": {
     "name": "#%%\n"
    }
   }
  },
  {
   "cell_type": "code",
   "execution_count": null,
   "outputs": [],
   "source": [],
   "metadata": {
    "collapsed": false,
    "pycharm": {
     "name": "#%%\n"
    }
   }
  }
 ],
 "metadata": {
  "kernelspec": {
   "display_name": "Python 3 (ipykernel)",
   "language": "python",
   "name": "python3"
  },
  "language_info": {
   "codemirror_mode": {
    "name": "ipython",
    "version": 3
   },
   "file_extension": ".py",
   "mimetype": "text/x-python",
   "name": "python",
   "nbconvert_exporter": "python",
   "pygments_lexer": "ipython3",
   "version": "3.10.4"
  }
 },
 "nbformat": 4,
 "nbformat_minor": 4
}