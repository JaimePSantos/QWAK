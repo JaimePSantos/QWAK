{
 "cells": [
  {
   "cell_type": "markdown",
   "id": "fc4d699d",
   "metadata": {},
   "source": [
    "# Tutorial QWAK - Continuous-Time Quantum Walks\n",
    "\n",
    "$\\newcommand{\\ket}[1]{\\left|{#1}\\right\\rangle}\n",
    "\\newcommand{\\bra}[1]{\\left\\langle{#1}\\right|}$\n",
    "\n",
    "## 1. Definition\n",
    "\n",
    "A set of $n$ qubits corresponds to $\\mathbb{C}^{2^n}$ and the Hamiltonian $H$ is a self-adjoint operator acting on this space. When $H$ is time-independent, the states of the system will evolve in time, $\\ket{\\psi(t)}$, governed by\n",
    "\n",
    "$$\\ket{\\psi(t)} = e^{-iHt}\\ket{\\psi(0)}$$,\n",
    "\n",
    "where $\\ket{\\psi(0)}$ is the initial condition of the system. In the case of a continuous-time quantum walk (CTQW), our Hamiltonian is always associated to the adjacency matrix of a graph (A) or the laplacian matrix (L) and, from now on, we will assume our Hamiltonian is always the former.\n",
    "\n",
    "When working with CTQW, we will always need ways to create initial states, get probabilities distributions from any type of graph, and checking for transport phenomon like perfect state transfer (PST). We will now see how to do all that with QWAK.\n",
    "\n",
    "## 2. Creating initial states"
   ]
  },
  {
   "cell_type": "code",
   "execution_count": 9,
   "id": "5129dfe0",
   "metadata": {},
   "outputs": [],
   "source": [
    "from qwak.State import State\n",
    "from qwak.Operator import Operator"
   ]
  },
  {
   "cell_type": "markdown",
   "id": "194cbdb4",
   "metadata": {},
   "source": [
    "First we define the number of nodes"
   ]
  },
  {
   "cell_type": "code",
   "execution_count": 10,
   "id": "e1af63c8",
   "metadata": {},
   "outputs": [],
   "source": [
    "n = 7"
   ]
  },
  {
   "cell_type": "markdown",
   "id": "f28715e0",
   "metadata": {},
   "source": [
    "The first option is to create a uniform superposition of the selected nodes with the class State. We feed the class with the number of nodes and a list of nodes that will be in superposition. Then, the attribute buildState() creates the desired initial state."
   ]
  },
  {
   "cell_type": "code",
   "execution_count": 20,
   "id": "e33b7de4",
   "metadata": {},
   "outputs": [
    {
     "name": "stdout",
     "output_type": "stream",
     "text": [
      "[[0.+0.j]\n",
      " [0.+0.j]\n",
      " [0.+0.j]\n",
      " [1.+0.j]\n",
      " [0.+0.j]\n",
      " [0.+0.j]\n",
      " [0.+0.j]]\n"
     ]
    }
   ],
   "source": [
    "init_nodes = [3]\n",
    "\n",
    "init_state = State(n,init_nodes)\n",
    "init_state.buildState()\n",
    "\n",
    "print(init_state.getStateVec())"
   ]
  },
  {
   "cell_type": "code",
   "execution_count": null,
   "id": "d4e77db3",
   "metadata": {},
   "outputs": [],
   "source": []
  }
 ],
 "metadata": {
  "kernelspec": {
   "display_name": "Python 3 (ipykernel)",
   "language": "python",
   "name": "python3"
  },
  "language_info": {
   "codemirror_mode": {
    "name": "ipython",
    "version": 3
   },
   "file_extension": ".py",
   "mimetype": "text/x-python",
   "name": "python",
   "nbconvert_exporter": "python",
   "pygments_lexer": "ipython3",
   "version": "3.9.7"
  }
 },
 "nbformat": 4,
 "nbformat_minor": 5
}
