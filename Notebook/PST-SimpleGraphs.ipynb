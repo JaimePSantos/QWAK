{
 "cells": [
  {
   "cell_type": "code",
   "execution_count": 1,
   "id": "881a33bb-f027-4aba-bdc0-50fe4920ec34",
   "metadata": {},
   "outputs": [],
   "source": [
    "from qwak.qwak import QWAK\n",
    "from utils.plotTools import plot_qwak\n",
    "\n",
    "import networkx as nx\n",
    "import numpy as np\n",
    "import matplotlib as mpl\n",
    "from matplotlib import pyplot as plt\n",
    "from math import sqrt, ceil, pow\n",
    "import scipy.special as sp\n",
    "import sympy as simp\n",
    "import math\n",
    "import copy\n",
    "import plotly.graph_objects as go\n",
    "import seaborn as sns\n",
    "import matplotlib.pyplot as plt\n",
    "import pandas as pd\n",
    "import os\n",
    "import json\n",
    "\n",
    "from scipy.ndimage import gaussian_filter"
   ]
  },
  {
   "cell_type": "code",
   "execution_count": 2,
   "id": "0e652567-bc69-469e-b089-fcfe66f627fb",
   "metadata": {},
   "outputs": [],
   "source": [
    "def find_pst_vertices(qwak_obj, filename=None):\n",
    "    # Create an empty dictionary to store pairs of nodes with PST\n",
    "    pst_pairs = {}\n",
    "    \n",
    "    # Get the number of nodes in the graph\n",
    "    n = len(qwak_obj.getGraph())\n",
    "    \n",
    "    # Iterate through each unique pair of nodes and check for PST\n",
    "    for i in range(n):\n",
    "        for j in range(n):\n",
    "            # Skip checking for the same vertex and symmetric variations\n",
    "            if j <= i:\n",
    "                continue\n",
    "            \n",
    "            pst_value = qwak_obj.checkPST(i, j)\n",
    "            # If PST is True, add it to the dictionary\n",
    "            if pst_value:\n",
    "                # Convert tuple to string before using as key\n",
    "                key = str((i, j))\n",
    "                pst_pairs[key] = str(pst_value)\n",
    "                \n",
    "    # If a filename is provided, save the dictionary to that file\n",
    "    if filename:\n",
    "        with open(filename, 'w') as file:\n",
    "            json.dump(pst_pairs, file)\n",
    "    \n",
    "    # Return the dictionary\n",
    "    return pst_pairs\n",
    "\n",
    "def load_or_generate_pst(qwak_obj, filename):\n",
    "    # Check if the file exists\n",
    "    if os.path.exists(filename):\n",
    "        # If the file exists, load the data from the file\n",
    "        with open(filename, 'r') as file:\n",
    "            pst_data = json.load(file)\n",
    "        print(f'{filename} exists!')\n",
    "    else:\n",
    "        # If the file does not exist, generate the data\n",
    "        print(f'{filename} doesnt exist! Running experiments...')\n",
    "        pst_data = find_pst_vertices(qwak_obj, filename=filename)\n",
    "    # Return the data\n",
    "    print('Data loaded!')\n",
    "    return pst_data\n",
    "\n",
    "def pst_found_only(input_dict):\n",
    "    # Create a new dictionary by filtering out key-value pairs where the value is equal to '-1'\n",
    "    # Note: assuming the values in the dictionary are stored as strings, as in the previous examples\n",
    "    filtered_dict = {key: value for key, value in input_dict.items() if value != '-1'}\n",
    "    if not filtered_dict:\n",
    "        return ['PST not found for this structure!']\n",
    "    \n",
    "    # Return the filtered dictionary\n",
    "    return filtered_dict"
   ]
  },
  {
   "cell_type": "markdown",
   "id": "3988d4e4-bca8-4fde-a3c0-d4792e8b8315",
   "metadata": {},
   "source": [
    "# Path graph N = 3"
   ]
  },
  {
   "cell_type": "code",
   "execution_count": 3,
   "id": "0e6bb5b2-8e3d-467c-85f2-16357dcb97a4",
   "metadata": {},
   "outputs": [
    {
     "name": "stdout",
     "output_type": "stream",
     "text": [
      "Datasets/PerfectStateTransfer/pstSimple_Path_N3.txt exists!\n",
      "Data loaded!\n",
      "{'(0, 2)': '0.707108562377582*pi'}\n"
     ]
    }
   ],
   "source": [
    "N = 3\n",
    "graph = nx.path_graph(N)\n",
    "\n",
    "qw = QWAK(graph=graph)\n",
    "\n",
    "pst_file = f'Datasets/PerfectStateTransfer/pstSimple_Path_N{len(graph)}.txt'\n",
    "\n",
    "qw = QWAK(graph=graph)\n",
    "pst_all_vertices = load_or_generate_pst(qw, filename=pst_file)\n",
    "pst_vertices = pst_found_only(pst_all_vertices)\n",
    "print(pst_vertices)"
   ]
  },
  {
   "cell_type": "markdown",
   "id": "89645ac2-45bc-4897-9f3c-db51e8354c49",
   "metadata": {},
   "source": [
    "# Cycle graph"
   ]
  },
  {
   "cell_type": "markdown",
   "id": "71c34beb-cb47-4415-a58b-224a8682d7f8",
   "metadata": {},
   "source": [
    "## N = 4"
   ]
  },
  {
   "cell_type": "code",
   "execution_count": 4,
   "id": "40b7cec8-e2f8-4669-9266-f8094165bd1a",
   "metadata": {},
   "outputs": [
    {
     "name": "stdout",
     "output_type": "stream",
     "text": [
      "Datasets/PerfectStateTransfer/pstSimple_Cycle_N4.txt exists!\n",
      "Data loaded!\n",
      "{'(0, 2)': '0.5*pi', '(1, 3)': '0.5*pi'}\n"
     ]
    }
   ],
   "source": [
    "N = 4\n",
    "graph = nx.cycle_graph(N)\n",
    "\n",
    "qw = QWAK(graph=graph)\n",
    "\n",
    "pst_file = f'Datasets/PerfectStateTransfer/pstSimple_Cycle_N{len(graph)}.txt'\n",
    "\n",
    "qw = QWAK(graph=graph)\n",
    "pst_all_vertices = load_or_generate_pst(qw, filename=pst_file)\n",
    "pst_vertices = pst_found_only(pst_all_vertices)\n",
    "print(pst_vertices)"
   ]
  },
  {
   "cell_type": "markdown",
   "id": "c8903d16-ac24-4944-81fe-a13495f5e150",
   "metadata": {},
   "source": [
    "## N = 6\n"
   ]
  },
  {
   "cell_type": "code",
   "execution_count": 27,
   "id": "777dda90-2000-4008-b8df-6d026c699988",
   "metadata": {},
   "outputs": [
    {
     "name": "stdout",
     "output_type": "stream",
     "text": [
      "1.0*pi\n"
     ]
    },
    {
     "data": {
      "text/plain": [
       "[<matplotlib.lines.Line2D at 0x1c8c6efb4c0>]"
      ]
     },
     "execution_count": 27,
     "metadata": {},
     "output_type": "execute_result"
    },
    {
     "data": {
      "image/png": "[encoded data removed]",
      "text/plain": [
       "<Figure size 640x480 with 1 Axes>"
      ]
     },
     "metadata": {},
     "output_type": "display_data"
    }
   ],
   "source": [
    "N = 6\n",
    "graph = nx.cycle_graph(N)\n",
    "\n",
    "qw = QWAK(graph=graph)\n",
    "\n",
    "# pst_file = f'Datasets/PerfectStateTransfer/pstSimple_Cycle_N{len(graph)}.txt'\n",
    "\n",
    "qw = QWAK(graph=graph)\n",
    "# pst_all_vertices = load_or_generate_pst(qw, filename=pst_file)\n",
    "# pst_vertices = pst_found_only(pst_all_vertices)\n",
    "# print(pst_vertices)\n",
    "print(qw.checkPST(0,3))\n",
    "qw.runWalk(time=0.145864991497895*np.pi, initStateList = [0])\n",
    "plt.plot(qw.getProbVec())"
   ]
  },
  {
   "cell_type": "markdown",
   "id": "56b5b01b-87f4-4e98-884d-4b3df64ea6f0",
   "metadata": {},
   "source": [
    "# Hypercube"
   ]
  },
  {
   "cell_type": "markdown",
   "id": "f2d61082-24e8-4728-8fa9-c1ff808778b2",
   "metadata": {},
   "source": [
    "## n = 3"
   ]
  },
  {
   "cell_type": "code",
   "execution_count": 6,
   "id": "57d28577-5459-488f-80fc-77de90fbcaaf",
   "metadata": {},
   "outputs": [
    {
     "name": "stdout",
     "output_type": "stream",
     "text": [
      "Datasets/PerfectStateTransfer/pstSimple_Hypercube_N8.txt exists!\n",
      "Data loaded!\n",
      "{'(0, 7)': '0.5*pi', '(1, 6)': '0.5*pi', '(2, 5)': '0.5*pi', '(3, 4)': '0.5*pi'}\n"
     ]
    }
   ],
   "source": [
    "n=3\n",
    "graph = nx.hypercube_graph(n)\n",
    "\n",
    "qw = QWAK(graph=graph)\n",
    "\n",
    "pst_file = f'Datasets/PerfectStateTransfer/pstSimple_Hypercube_N{len(graph)}.txt'\n",
    "\n",
    "qw = QWAK(graph=graph)\n",
    "pst_all_vertices = load_or_generate_pst(qw, filename=pst_file)\n",
    "pst_vertices = pst_found_only(pst_all_vertices)\n",
    "print(pst_vertices)"
   ]
  },
  {
   "cell_type": "markdown",
   "id": "0f3250cf-bdce-436e-bd16-ccf3933bbab3",
   "metadata": {},
   "source": [
    "## n = 4"
   ]
  },
  {
   "cell_type": "code",
   "execution_count": 7,
   "id": "ef01d273-6713-4e27-b769-c7baf91b1074",
   "metadata": {},
   "outputs": [
    {
     "name": "stdout",
     "output_type": "stream",
     "text": [
      "Datasets/PerfectStateTransfer/pstSimple_Hypercube_N16.txt exists!\n",
      "Data loaded!\n",
      "{'(0, 15)': '0.5*pi', '(1, 14)': '0.5*pi', '(2, 13)': '0.5*pi', '(3, 12)': '0.5*pi', '(4, 11)': '0.5*pi', '(5, 10)': '0.5*pi', '(6, 9)': '0.5*pi', '(7, 8)': '0.5*pi'}\n"
     ]
    }
   ],
   "source": [
    "n=4\n",
    "graph = nx.hypercube_graph(n)\n",
    "\n",
    "qw = QWAK(graph=graph)\n",
    "\n",
    "pst_file = f'Datasets/PerfectStateTransfer/pstSimple_Hypercube_N{len(graph)}.txt'\n",
    "\n",
    "qw = QWAK(graph=graph)\n",
    "pst_all_vertices = load_or_generate_pst(qw, filename=pst_file)\n",
    "pst_vertices = pst_found_only(pst_all_vertices)\n",
    "print(pst_vertices)"
   ]
  },
  {
   "cell_type": "markdown",
   "id": "462f17fe-c273-4fa7-888a-ffc1e7834c24",
   "metadata": {},
   "source": [
    "# Lollipop"
   ]
  },
  {
   "cell_type": "code",
   "execution_count": 8,
   "id": "024b2039-603c-40d0-b0d4-d54a16b0df16",
   "metadata": {},
   "outputs": [
    {
     "name": "stdout",
     "output_type": "stream",
     "text": [
      "Datasets/PerfectStateTransfer/pstSimple_Lollipop_N4.txt exists!\n",
      "Data loaded!\n",
      "['PST not found for this structure!']\n"
     ]
    }
   ],
   "source": [
    "m = 3\n",
    "n = 1\n",
    "\n",
    "graph = nx.lollipop_graph(m,n)\n",
    "\n",
    "qw = QWAK(graph=graph)\n",
    "\n",
    "pst_file = f'Datasets/PerfectStateTransfer/pstSimple_Lollipop_N{len(graph)}.txt'\n",
    "\n",
    "qw = QWAK(graph=graph)\n",
    "pst_all_vertices = load_or_generate_pst(qw, filename=pst_file)\n",
    "pst_vertices = pst_found_only(pst_all_vertices)\n",
    "print(pst_vertices)"
   ]
  },
  {
   "cell_type": "markdown",
   "id": "613ad3cc-4205-4bcd-9feb-c7cdb54cceb3",
   "metadata": {},
   "source": [
    "## Hoffman graph"
   ]
  },
  {
   "cell_type": "code",
   "execution_count": 9,
   "id": "dd30d285-f771-4391-81a3-b053a984d681",
   "metadata": {},
   "outputs": [
    {
     "name": "stdout",
     "output_type": "stream",
     "text": [
      "PST: -1\n",
      "PST: -1\n"
     ]
    }
   ],
   "source": [
    "import networkx as nx\n",
    "import matplotlib.pyplot as plt\n",
    "\n",
    "def generalized_petersen_graph(n, k):\n",
    "    # Create an empty graph\n",
    "    G = nx.Graph()\n",
    "    \n",
    "    # Add vertices and edges\n",
    "    for i in range(n):\n",
    "        # Add the edges of the outer polygon\n",
    "        G.add_edge(i, (i + 1) % n)\n",
    "        # Add the edges between the outer and inner polygons\n",
    "        G.add_edge(i, i + n)\n",
    "        # Add the edges of the inner star polygon\n",
    "        G.add_edge(i + n, (i + k) % n + n)\n",
    "    \n",
    "    return G\n",
    "\n",
    "# Create the Hoffman Graph (Generalized Petersen Graph GP(9, 2))\n",
    "hoffman_graph = generalized_petersen_graph(9, 2)\n",
    "# # Draw the graph\n",
    "# pos = nx.spring_layout(hoffman_graph)\n",
    "# nx.draw(hoffman_graph, pos, with_labels=True, node_size=500, node_color='lightblue', font_weight='bold')\n",
    "# plt.title(\"Hoffman Graph\")\n",
    "# plt.show()\n",
    "qw = QWAK(graph=hoffman_graph)\n",
    "print(f'PST: {qw.checkPST(0,5)}')\n",
    "print(f'PST: {qw.checkPST(9,14)}')"
   ]
  },
  {
   "cell_type": "code",
   "execution_count": null,
   "id": "4fd3beb9-6eb5-41bc-a317-a117b2d0167d",
   "metadata": {},
   "outputs": [],
   "source": []
  },
  {
   "cell_type": "code",
   "execution_count": 30,
   "id": "9c2d5ce1-4e0d-40db-828e-afef49bbf343",
   "metadata": {},
   "outputs": [
    {
     "name": "stdout",
     "output_type": "stream",
     "text": [
      "0.35921060405355⋅π\n"
     ]
    }
   ],
   "source": [
    "import networkx as nx\n",
    "import numpy as np\n",
    "from matplotlib import pyplot as plt\n",
    "from qwak.qwak import QWAK\n",
    "from sympy import Matrix, gcd, div, Poly, Float, pprint\n",
    "import sympy as sp\n",
    "from sympy.abc import pi\n",
    "from math import sqrt, ceil, pow\n",
    "\n",
    "### Algorithm to check PST based on the article https://arxiv.org/abs/1606.02264 authored by Rodrigo Chaves\n",
    "\n",
    "## For a graph to have PST it needs to obey numerous rules and the first one is that the vertices with PST must be\n",
    "# strongly cospectral. Two vertices a and b are strong cospectral if the characteristic polynomial of the matrix Ma, that has\n",
    "# the colum and row a removed, is equal to the characteristic polynomial of the matrix Mb, that has the column and row b\n",
    "# removed. This is easily checked using SymPy and it is what the function StrCospec does.\n",
    "def isStrCospec(A, a, b):\n",
    "    Ma = A.minor_submatrix(a, a)\n",
    "    Mb = A.minor_submatrix(b, b)\n",
    "    Mab = Ma.minor_submatrix(b - 1, b - 1)\n",
    "\n",
    "    phi = A.charpoly()\n",
    "    phia = Ma.charpoly()\n",
    "    phib = Mb.charpoly()\n",
    "    phiab = Mab.charpoly()\n",
    "\n",
    "    if phia != phib or not isSimplePoles(phi, phiab):\n",
    "        return False\n",
    "    else:\n",
    "        return True\n",
    "\n",
    "\n",
    "## The second condition for strong cospectral is that the poles of phiab/phi must be simple. This is trickier to check and\n",
    "# it starts by defning a polynomial g(x)=gcd(phi,phiab). Then, there will be no poles if f(x) = phi/g(x) is a polynomial\n",
    "# without repeated roots. This occurs when gcd(f(x),f'(x)) is a constant, then we only need to check the coeeficients and\n",
    "# see if all of them is zero except the last one. This is done by the function SimplePoles.\n",
    "\n",
    "def isSimplePoles(phi, phiab):\n",
    "    gx = gcd(phi, phiab)\n",
    "    fx, r = div(phi, gx)\n",
    "    fx_der = fx.diff()\n",
    "    great = gcd(fx, fx_der)\n",
    "    coeffs = great.all_coeffs()\n",
    "    del coeffs[len(coeffs) - 1]\n",
    "    for coeff in coeffs:\n",
    "        if coeff > 0:\n",
    "            return False\n",
    "    return True\n",
    "\n",
    "\n",
    "## One of the steps requires that we find square-free numbers, that is, numbers that have a prime decomposition with all\n",
    "# primes being unique. Fist we use the Sieve of Eratosthenes, and the corresponding function, to find all primes from 1 to n.\n",
    "# It works by choosing the first prime in the list, in this case 2, then squareing it and removing all its multiples from the\n",
    "# list. The algorithm then choose the next prime and does the same procedure. At the end, we have a list with True at position\n",
    "# i if i+1 is prime and False otherwise.\n",
    "\n",
    "def sieveEratosthenes(n):\n",
    "    isPrime = np.full([n, 1], True)\n",
    "    for i in range(2, ceil(sqrt(n)) + 1):\n",
    "        if isPrime[i - 1]:\n",
    "            for j in range(int(pow(i, 2)), n + 1, i):\n",
    "                isPrime[j - 1] = False\n",
    "    return isPrime\n",
    "\n",
    "\n",
    "## The function SquareFree gives a list of square-free number from 1 to n in a similar way that we found all primes. The\n",
    "# algorithm get the list of primes from 1 to n, then it start a loop of integers from 2 to n, when i is prime the algorithm\n",
    "# associates False to all multiples of i². It returns a list with True (False) in the entry i if i-1 is (not) square free.\n",
    "\n",
    "def getSquareFree(n):\n",
    "    isSqrFree = np.full([n, 1], True)\n",
    "    isPrime = sieveEratosthenes(n)\n",
    "    sqrFreeList = []\n",
    "    for i in range(2, n + 1):\n",
    "        if isPrime[i - 1]:\n",
    "            for j in range(int(pow(i, 2)), n + 1, int(pow(i, 2))):\n",
    "                isSqrFree[j - 1] = False\n",
    "    for i in range(n):\n",
    "        if isSqrFree[i]:\n",
    "            sqrFreeList.append(i + 1)\n",
    "    return sqrFreeList\n",
    "\n",
    "\n",
    "## EigenSupp is responsible for getting the eigenvalue support of the vertice a. The eigenvalue support of the vertice a is\n",
    "# all the eigenvalues such that Er|a> != 0, where |a> is vector with 1 in the a-th entry and zero in all others and Er is the\n",
    "# projection matrix of the eigenvalue r. It returns a list with all those eigenavlues. This is one of the conditions for PST,\n",
    "# because we do not need to check for eigenvalues that are not in the eigenvalue support.\n",
    "\n",
    "def getEigenSupp(a, eigenvec, eigenval):\n",
    "    supp = []\n",
    "    for i in range(len(eigenval)):\n",
    "        if eigenvec.col(i)[a] != 0:\n",
    "            supp.append(eigenval[i])\n",
    "    return supp\n",
    "\n",
    "\n",
    "## CheckRoots is responsible for checking the second condition for PST which is that all eigenvalues is the eigenvalue support\n",
    "# of a must be all integers or all quadratic integers with the format p+qr*Sqrt(delta)/2, with qr changing from eigenvalue to\n",
    "# to eigenvalue. The frist step is to define h(x) = phi/gcd(phi,phia) that have all its roots in the eigenvalue support of a,\n",
    "# then its degree k will be crucial.\n",
    "\n",
    "def checkRoots(A, a, eigenvec, eigenval):\n",
    "    supp = getEigenSupp(a, eigenvec, eigenval)\n",
    "    Ma = Ma = A.minor_submatrix(a, a)\n",
    "    phi = A.charpoly()\n",
    "    phia = Ma.charpoly()\n",
    "    h, r = div(phi, gcd(phi, phia))\n",
    "    k = h.degree()\n",
    "\n",
    "    ## First, we check for integer roots in the interval [-n^4,n^4] that the eigenvalues should be. We check by putting the\n",
    "    # value in the loop, i, direct into h(i) and we see if it is equal to zero. If it is, then we check if i is in the\n",
    "    # eigenvalue support of a. With both conditions satisfied, it stores 1 to delta and sum one to intRoots.\n",
    "\n",
    "    intRoots = 0\n",
    "    for i in range(-len(eigenval) ** 4, len(eigenval) ** 4 + 1):\n",
    "        if h(i) == 0 and i in supp:\n",
    "            delta = 1\n",
    "            intRoots += 1\n",
    "\n",
    "    ## Then we check if all roots are quadratic integers p+qr*Sqrt(delta)/2. We know that p will be equal to the coefficient\n",
    "    # of the second bigest power of h(x). Then, all we need to do is loop through the values of delta in the list of square-free\n",
    "    # integers. Then, we loop qr until it is bigger than Sqrt(Tr(A²)) and check if is a root of h(x) and it is also in the\n",
    "    # eigenvalue support of a. In case it is true, we store the value of delta and sum one to quadRoots.\n",
    "\n",
    "    quadRoots = 0\n",
    "    sqrtFreeInt = getSquareFree(int((4 * A ** 2).trace()))\n",
    "    p = h.all_coeffs()[1]\n",
    "    for deltaS in sqrtFreeInt:\n",
    "        q = 0\n",
    "        while (p + q * sqrt(deltaS) / 2) <= sqrt(int(((A ** 2).trace()))):\n",
    "            if h(p + q * sqrt(deltaS) / 2) == 0 and Float(p + q * sqrt(deltaS) / 2, 3) in supp:\n",
    "                quadRoots += 1\n",
    "            q += 1\n",
    "    if quadRoots > 0:\n",
    "        delta = deltaS\n",
    "\n",
    "    ## Here we check if quadRoots or intRoots are bigger than k, which is the degree of our polynomial h(x). If none of them is\n",
    "    # then we know that PST is not possible and we return False.\n",
    "\n",
    "    if quadRoots < k and intRoots < k:\n",
    "        return False, 0, 0\n",
    "\n",
    "    ## The time that PST occurs is just pi/g*Sqrt(delta) where g = gcd(theta0 - thetar), i.e. the gcd between all the differences\n",
    "    # of the eigenvalue theta0 (the biggest eigenvalue) and all others eigenvalues.\n",
    "\n",
    "    diffs = []\n",
    "    for i in range(len(supp)):\n",
    "        diffs.append(max(supp) - supp[i] / sqrt(delta))\n",
    "\n",
    "    g = 0\n",
    "    for diff in diffs:\n",
    "        g = gcd(g, diff)\n",
    "\n",
    "    return True, g, delta\n",
    "\n",
    "\n",
    "## Finally, CheckPST checks if all the conditions are true and return True if the graph has PST and False otherwise.\n",
    "\n",
    "def checkPST(A, a, b):\n",
    "    if a > b:\n",
    "        temp = a\n",
    "        a = b\n",
    "        b = temp\n",
    "    A = sp.Matrix(A)\n",
    "    (eigenvec, D) = A.diagonalize()\n",
    "    eigenval = []\n",
    "\n",
    "    ## Notice that I was having rouding problems because Python was not considering 6x10^-50 to be zero, so I made a loop\n",
    "    # to garantee that it is zero.\n",
    "    for i in range(len(D.col(0))):\n",
    "        temp = D.col(i)[i]\n",
    "        if abs(temp) < 0.0000001:\n",
    "            temp = 0\n",
    "        eigenval.append(temp)\n",
    "\n",
    "    result, g, delta = checkRoots(A, a, eigenvec, eigenval)\n",
    "    if isStrCospec(A, a, b) and result:\n",
    "        return pi / (g * sqrt(delta))\n",
    "    else:\n",
    "        return False\n",
    "\n",
    "n = 4\n",
    "graph = nx.cycle_graph(n)\n",
    "# graph = nx.circular_ladder_graph(n)\n",
    "marked = [int(n / 2)]\n",
    "\n",
    "qwController = QWAK(graph)\n",
    "sp.pprint(2*checkPST(qwController.getAdjacencyMatrix(),0,2))"
   ]
  },
  {
   "cell_type": "code",
   "execution_count": null,
   "id": "a327941b-5821-4805-b6e7-db3c60d0cea5",
   "metadata": {},
   "outputs": [],
   "source": []
  }
 ],
 "metadata": {
  "kernelspec": {
   "display_name": "Python 3 (ipykernel)",
   "language": "python",
   "name": "python3"
  },
  "language_info": {
   "codemirror_mode": {
    "name": "ipython",
    "version": 3
   },
   "file_extension": ".py",
   "mimetype": "text/x-python",
   "name": "python",
   "nbconvert_exporter": "python",
   "pygments_lexer": "ipython3",
   "version": "3.10.9"
  }
 },
 "nbformat": 4,
 "nbformat_minor": 5
}
