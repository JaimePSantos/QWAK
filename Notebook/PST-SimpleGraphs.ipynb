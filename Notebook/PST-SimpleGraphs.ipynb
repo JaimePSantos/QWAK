{
 "cells": [
  {
   "cell_type": "code",
   "execution_count": 1,
   "id": "881a33bb-f027-4aba-bdc0-50fe4920ec34",
   "metadata": {},
   "outputs": [],
   "source": [
    "from qwak.qwak import QWAK\n",
    "from utils.plotTools import plot_qwak\n",
    "\n",
    "import networkx as nx\n",
    "import numpy as np\n",
    "import matplotlib as mpl\n",
    "from matplotlib import pyplot as plt\n",
    "from math import sqrt, ceil, pow\n",
    "import scipy.special as sp\n",
    "import sympy as simp\n",
    "import math\n",
    "import copy\n",
    "import plotly.graph_objects as go\n",
    "import seaborn as sns\n",
    "import matplotlib.pyplot as plt\n",
    "import pandas as pd\n",
    "import os\n",
    "import json\n",
    "\n",
    "from scipy.ndimage import gaussian_filter"
   ]
  },
  {
   "cell_type": "code",
   "execution_count": 5,
   "id": "0e652567-bc69-469e-b089-fcfe66f627fb",
   "metadata": {},
   "outputs": [],
   "source": [
    "def find_pst_vertices(qwak_obj, filename=None):\n",
    "    # Create an empty dictionary to store pairs of nodes with PST\n",
    "    pst_pairs = {}\n",
    "    \n",
    "    # Get the number of nodes in the graph\n",
    "    n = len(qwak_obj.getGraph())\n",
    "    \n",
    "    # Iterate through each unique pair of nodes and check for PST\n",
    "    for i in range(n):\n",
    "        for j in range(n):\n",
    "            # Skip checking for the same vertex and symmetric variations\n",
    "            if j <= i:\n",
    "                continue\n",
    "            \n",
    "            pst_value = qwak_obj.checkPST(i, j)\n",
    "            # If PST is True, add it to the dictionary\n",
    "            if pst_value:\n",
    "                # Convert tuple to string before using as key\n",
    "                key = str((i, j))\n",
    "                pst_pairs[key] = str(pst_value)\n",
    "                \n",
    "    # If a filename is provided, save the dictionary to that file\n",
    "    if filename:\n",
    "        with open(filename, 'w') as file:\n",
    "            json.dump(pst_pairs, file)\n",
    "    \n",
    "    # Return the dictionary\n",
    "    return pst_pairs\n",
    "\n",
    "def load_or_generate_pst(qwak_obj, filename):\n",
    "    # Check if the file exists\n",
    "    if os.path.exists(filename):\n",
    "        # If the file exists, load the data from the file\n",
    "        with open(filename, 'r') as file:\n",
    "            pst_data = json.load(file)\n",
    "        print(f'{filename} exists!')\n",
    "    else:\n",
    "        # If the file does not exist, generate the data\n",
    "        print(f'{filename} doesnt exist! Running experiments...')\n",
    "        pst_data = find_pst_vertices(qwak_obj, filename=filename)\n",
    "    # Return the data\n",
    "    print('Data loaded!')\n",
    "    return pst_data\n",
    "\n",
    "def pst_found_only(input_dict):\n",
    "    # Create a new dictionary by filtering out key-value pairs where the value is equal to '-1'\n",
    "    # Note: assuming the values in the dictionary are stored as strings, as in the previous examples\n",
    "    filtered_dict = {key: value for key, value in input_dict.items() if value != '-1'}\n",
    "    if not filtered_dict:\n",
    "        return ['PST not found for this structure!']\n",
    "    \n",
    "    # Return the filtered dictionary\n",
    "    return filtered_dict"
   ]
  },
  {
   "cell_type": "markdown",
   "id": "3988d4e4-bca8-4fde-a3c0-d4792e8b8315",
   "metadata": {},
   "source": [
    "# Path graph N = 3"
   ]
  },
  {
   "cell_type": "code",
   "execution_count": 11,
   "id": "0e6bb5b2-8e3d-467c-85f2-16357dcb97a4",
   "metadata": {},
   "outputs": [
    {
     "name": "stdout",
     "output_type": "stream",
     "text": [
      "Datasets/PerfectStateTransfer/pstSimple_Path_N3.txt doesnt exist! Running experiments...\n",
      "Data loaded!\n",
      "{'(0, 2)': '0.707108562377582*pi'}\n"
     ]
    }
   ],
   "source": [
    "N = 3\n",
    "graph = nx.path_graph(N)\n",
    "\n",
    "qw = QWAK(graph=graph)\n",
    "\n",
    "pst_file = f'Datasets/PerfectStateTransfer/pstSimple_Path_N{len(graph)}.txt'\n",
    "\n",
    "qw = QWAK(graph=graph)\n",
    "pst_all_vertices = load_or_generate_pst(qw, filename=pst_file)\n",
    "pst_vertices = pst_found_only(pst_all_vertices)\n",
    "print(pst_vertices)"
   ]
  },
  {
   "cell_type": "markdown",
   "id": "89645ac2-45bc-4897-9f3c-db51e8354c49",
   "metadata": {},
   "source": [
    "# Cycle graph"
   ]
  },
  {
   "cell_type": "markdown",
   "id": "71c34beb-cb47-4415-a58b-224a8682d7f8",
   "metadata": {},
   "source": [
    "## N = 4"
   ]
  },
  {
   "cell_type": "code",
   "execution_count": 14,
   "id": "40b7cec8-e2f8-4669-9266-f8094165bd1a",
   "metadata": {},
   "outputs": [
    {
     "name": "stdout",
     "output_type": "stream",
     "text": [
      "Datasets/PerfectStateTransfer/pstSimple_Cycle_N4.txt doesnt exist! Running experiments...\n",
      "Data loaded!\n",
      "{'(0, 2)': '0.5*pi', '(1, 3)': '0.5*pi'}\n"
     ]
    }
   ],
   "source": [
    "N = 4\n",
    "graph = nx.cycle_graph(N)\n",
    "\n",
    "qw = QWAK(graph=graph)\n",
    "\n",
    "pst_file = f'Datasets/PerfectStateTransfer/pstSimple_Cycle_N{len(graph)}.txt'\n",
    "\n",
    "qw = QWAK(graph=graph)\n",
    "pst_all_vertices = load_or_generate_pst(qw, filename=pst_file)\n",
    "pst_vertices = pst_found_only(pst_all_vertices)\n",
    "print(pst_vertices)"
   ]
  },
  {
   "cell_type": "markdown",
   "id": "c8903d16-ac24-4944-81fe-a13495f5e150",
   "metadata": {},
   "source": [
    "## N = 6\n"
   ]
  },
  {
   "cell_type": "code",
   "execution_count": 15,
   "id": "777dda90-2000-4008-b8df-6d026c699988",
   "metadata": {},
   "outputs": [
    {
     "name": "stdout",
     "output_type": "stream",
     "text": [
      "Datasets/PerfectStateTransfer/pstSimple_Cycle_N6.txt doesnt exist! Running experiments...\n",
      "Data loaded!\n",
      "{'(0, 3)': '1.0*pi', '(1, 4)': '1.0*pi', '(2, 5)': '1.0*pi'}\n"
     ]
    }
   ],
   "source": [
    "N = 6\n",
    "graph = nx.cycle_graph(N)\n",
    "\n",
    "qw = QWAK(graph=graph)\n",
    "\n",
    "pst_file = f'Datasets/PerfectStateTransfer/pstSimple_Cycle_N{len(graph)}.txt'\n",
    "\n",
    "qw = QWAK(graph=graph)\n",
    "pst_all_vertices = load_or_generate_pst(qw, filename=pst_file)\n",
    "pst_vertices = pst_found_only(pst_all_vertices)\n",
    "print(pst_vertices)"
   ]
  },
  {
   "cell_type": "markdown",
   "id": "56b5b01b-87f4-4e98-884d-4b3df64ea6f0",
   "metadata": {},
   "source": [
    "# Hypercube"
   ]
  },
  {
   "cell_type": "markdown",
   "id": "f2d61082-24e8-4728-8fa9-c1ff808778b2",
   "metadata": {},
   "source": [
    "## n = 3"
   ]
  },
  {
   "cell_type": "code",
   "execution_count": 16,
   "id": "57d28577-5459-488f-80fc-77de90fbcaaf",
   "metadata": {},
   "outputs": [
    {
     "name": "stdout",
     "output_type": "stream",
     "text": [
      "Datasets/PerfectStateTransfer/pstSimple_Hypercube_N8.txt doesnt exist! Running experiments...\n",
      "Data loaded!\n",
      "{'(0, 7)': '0.5*pi', '(1, 6)': '0.5*pi', '(2, 5)': '0.5*pi', '(3, 4)': '0.5*pi'}\n"
     ]
    }
   ],
   "source": [
    "n=3\n",
    "graph = nx.hypercube_graph(n)\n",
    "\n",
    "qw = QWAK(graph=graph)\n",
    "\n",
    "pst_file = f'Datasets/PerfectStateTransfer/pstSimple_Hypercube_N{len(graph)}.txt'\n",
    "\n",
    "qw = QWAK(graph=graph)\n",
    "pst_all_vertices = load_or_generate_pst(qw, filename=pst_file)\n",
    "pst_vertices = pst_found_only(pst_all_vertices)\n",
    "print(pst_vertices)"
   ]
  },
  {
   "cell_type": "markdown",
   "id": "0f3250cf-bdce-436e-bd16-ccf3933bbab3",
   "metadata": {},
   "source": [
    "## n = 4"
   ]
  },
  {
   "cell_type": "code",
   "execution_count": 17,
   "id": "ef01d273-6713-4e27-b769-c7baf91b1074",
   "metadata": {},
   "outputs": [
    {
     "name": "stdout",
     "output_type": "stream",
     "text": [
      "Datasets/PerfectStateTransfer/pstSimple_Hypercube_N16.txt doesnt exist! Running experiments...\n",
      "Data loaded!\n",
      "{'(0, 15)': '0.5*pi', '(1, 14)': '0.5*pi', '(2, 13)': '0.5*pi', '(3, 12)': '0.5*pi', '(4, 11)': '0.5*pi', '(5, 10)': '0.5*pi', '(6, 9)': '0.5*pi', '(7, 8)': '0.5*pi'}\n"
     ]
    }
   ],
   "source": [
    "n=4\n",
    "graph = nx.hypercube_graph(n)\n",
    "\n",
    "qw = QWAK(graph=graph)\n",
    "\n",
    "pst_file = f'Datasets/PerfectStateTransfer/pstSimple_Hypercube_N{len(graph)}.txt'\n",
    "\n",
    "qw = QWAK(graph=graph)\n",
    "pst_all_vertices = load_or_generate_pst(qw, filename=pst_file)\n",
    "pst_vertices = pst_found_only(pst_all_vertices)\n",
    "print(pst_vertices)"
   ]
  },
  {
   "cell_type": "markdown",
   "id": "462f17fe-c273-4fa7-888a-ffc1e7834c24",
   "metadata": {},
   "source": [
    "# Lollipop"
   ]
  },
  {
   "cell_type": "code",
   "execution_count": 13,
   "id": "024b2039-603c-40d0-b0d4-d54a16b0df16",
   "metadata": {},
   "outputs": [
    {
     "name": "stdout",
     "output_type": "stream",
     "text": [
      "Datasets/PerfectStateTransfer/pstSimple_Lollipop_N4.txt exists!\n",
      "Data loaded!\n",
      "['PST not found for this structure!']\n"
     ]
    }
   ],
   "source": [
    "m = 3\n",
    "n = 1\n",
    "\n",
    "graph = nx.lollipop_graph(m,n)\n",
    "\n",
    "qw = QWAK(graph=graph)\n",
    "\n",
    "pst_file = f'Datasets/PerfectStateTransfer/pstSimple_Lollipop_N{len(graph)}.txt'\n",
    "\n",
    "qw = QWAK(graph=graph)\n",
    "pst_all_vertices = load_or_generate_pst(qw, filename=pst_file)\n",
    "pst_vertices = pst_found_only(pst_all_vertices)\n",
    "print(pst_vertices)"
   ]
  },
  {
   "cell_type": "markdown",
   "id": "613ad3cc-4205-4bcd-9feb-c7cdb54cceb3",
   "metadata": {},
   "source": [
    "## Hoffman graph"
   ]
  },
  {
   "cell_type": "code",
   "execution_count": 16,
   "id": "dd30d285-f771-4391-81a3-b053a984d681",
   "metadata": {},
   "outputs": [
    {
     "name": "stdout",
     "output_type": "stream",
     "text": [
      "PST: -1\n",
      "PST: -1\n"
     ]
    }
   ],
   "source": [
    "import networkx as nx\n",
    "import matplotlib.pyplot as plt\n",
    "\n",
    "def generalized_petersen_graph(n, k):\n",
    "    # Create an empty graph\n",
    "    G = nx.Graph()\n",
    "    \n",
    "    # Add vertices and edges\n",
    "    for i in range(n):\n",
    "        # Add the edges of the outer polygon\n",
    "        G.add_edge(i, (i + 1) % n)\n",
    "        # Add the edges between the outer and inner polygons\n",
    "        G.add_edge(i, i + n)\n",
    "        # Add the edges of the inner star polygon\n",
    "        G.add_edge(i + n, (i + k) % n + n)\n",
    "    \n",
    "    return G\n",
    "\n",
    "# Create the Hoffman Graph (Generalized Petersen Graph GP(9, 2))\n",
    "hoffman_graph = generalized_petersen_graph(9, 2)\n",
    "# # Draw the graph\n",
    "# pos = nx.spring_layout(hoffman_graph)\n",
    "# nx.draw(hoffman_graph, pos, with_labels=True, node_size=500, node_color='lightblue', font_weight='bold')\n",
    "# plt.title(\"Hoffman Graph\")\n",
    "# plt.show()\n",
    "qw = QWAK(graph=hoffman_graph)\n",
    "print(f'PST: {qw.checkPST(0,5)}')\n",
    "print(f'PST: {qw.checkPST(9,14)}')"
   ]
  },
  {
   "cell_type": "code",
   "execution_count": null,
   "id": "4fd3beb9-6eb5-41bc-a317-a117b2d0167d",
   "metadata": {},
   "outputs": [],
   "source": []
  }
 ],
 "metadata": {
  "kernelspec": {
   "display_name": "Python 3 (ipykernel)",
   "language": "python",
   "name": "python3"
  },
  "language_info": {
   "codemirror_mode": {
    "name": "ipython",
    "version": 3
   },
   "file_extension": ".py",
   "mimetype": "text/x-python",
   "name": "python",
   "nbconvert_exporter": "python",
   "pygments_lexer": "ipython3",
   "version": "3.10.9"
  }
 },
 "nbformat": 4,
 "nbformat_minor": 5
}
