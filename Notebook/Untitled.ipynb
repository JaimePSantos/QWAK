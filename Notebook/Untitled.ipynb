{
 "cells": [
  {
   "cell_type": "code",
   "execution_count": 11,
   "id": "edd80f99-3b85-4431-a1b8-a56b0b932755",
   "metadata": {},
   "outputs": [],
   "source": [
    "import networkx as nx\n",
    "import numpy as np\n",
    "from matplotlib import pyplot as plt\n",
    "from qwak import qwak as qw\n",
    "from sympy import Matrix, gcd, div, Poly, Float, pprint\n",
    "from sympy.abc import pi\n",
    "from math import sqrt, ceil, pow"
   ]
  },
  {
   "cell_type": "code",
   "execution_count": 7,
   "id": "4d19d436-e8f0-469a-9493-9577f54819df",
   "metadata": {},
   "outputs": [],
   "source": [
    "n = 4\n",
    "t = 2\n",
    "gamma = 1 / (2 * np.sqrt(2))\n",
    "graph = nx.cycle_graph(n)\n",
    "# graph = nx.circular_ladder_graph(n)\n",
    "marked = [int(n / 2)]"
   ]
  },
  {
   "cell_type": "code",
   "execution_count": 12,
   "id": "e0b51bd9-09f9-4b2a-8db2-90f08b7a990f",
   "metadata": {},
   "outputs": [],
   "source": [
    "qwController = qw.QWAK(graph, laplacian=False)\n",
    "qwController.runWalk(t, marked)"
   ]
  },
  {
   "cell_type": "code",
   "execution_count": null,
   "id": "3b9d4e87-3982-47e4-b713-c8d02cd79f4e",
   "metadata": {},
   "outputs": [],
   "source": []
  }
 ],
 "metadata": {
  "kernelspec": {
   "display_name": "Python 3 (ipykernel)",
   "language": "python",
   "name": "python3"
  },
  "language_info": {
   "codemirror_mode": {
    "name": "ipython",
    "version": 3
   },
   "file_extension": ".py",
   "mimetype": "text/x-python",
   "name": "python",
   "nbconvert_exporter": "python",
   "pygments_lexer": "ipython3",
   "version": "3.9.7"
  }
 },
 "nbformat": 4,
 "nbformat_minor": 5
}
