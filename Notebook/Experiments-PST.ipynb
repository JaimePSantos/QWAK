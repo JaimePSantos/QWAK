{
 "cells": [
  {
   "cell_type": "code",
   "execution_count": 2,
   "id": "881a33bb-f027-4aba-bdc0-50fe4920ec34",
   "metadata": {},
   "outputs": [],
   "source": [
    "from qwak.qwak import QWAK\n",
    "from utils.plotTools import plot_qwak\n",
    "\n",
    "import networkx as nx\n",
    "import numpy as np\n",
    "import matplotlib as mpl\n",
    "from matplotlib import pyplot as plt\n",
    "from math import sqrt, ceil, pow\n",
    "import scipy.special as sp\n",
    "import sympy as simp\n",
    "import math\n",
    "import copy\n",
    "import plotly.graph_objects as go\n",
    "import seaborn as sns\n",
    "import matplotlib.pyplot as plt\n",
    "import pandas as pd\n",
    "import os\n",
    "\n",
    "from scipy.ndimage import gaussian_filter"
   ]
  },
  {
   "cell_type": "markdown",
   "id": "3988d4e4-bca8-4fde-a3c0-d4792e8b8315",
   "metadata": {},
   "source": [
    "# Path graph N = 3"
   ]
  },
  {
   "cell_type": "code",
   "execution_count": null,
   "id": "0e6bb5b2-8e3d-467c-85f2-16357dcb97a4",
   "metadata": {},
   "outputs": [],
   "source": [
    "N = 3\n",
    "t = 0\n",
    "initCond = [0]\n",
    "graph = nx.path_graph(N)\n",
    "\n",
    "qw = QWAK(graph=graph)\n",
    "print(f'PST: {qw.checkPST(0,2)}')\n",
    "qw.runWalk(time=t,initStateList=initCond)"
   ]
  },
  {
   "cell_type": "markdown",
   "id": "89645ac2-45bc-4897-9f3c-db51e8354c49",
   "metadata": {},
   "source": [
    "# Cycle graph"
   ]
  },
  {
   "cell_type": "markdown",
   "id": "71c34beb-cb47-4415-a58b-224a8682d7f8",
   "metadata": {},
   "source": [
    "## N = 4"
   ]
  },
  {
   "cell_type": "code",
   "execution_count": 3,
   "id": "40b7cec8-e2f8-4669-9266-f8094165bd1a",
   "metadata": {},
   "outputs": [
    {
     "name": "stdout",
     "output_type": "stream",
     "text": [
      "PST: 0.5*pi\n"
     ]
    }
   ],
   "source": [
    "N = 4\n",
    "t = 0\n",
    "initCond = [0]\n",
    "graph = nx.cycle_graph(N)\n",
    "\n",
    "qw = QWAK(graph=graph)\n",
    "print(f'PST: {qw.checkPST(0,2)}')\n",
    "qw.runWalk(time=t,initStateList=initCond)"
   ]
  },
  {
   "cell_type": "markdown",
   "id": "c8903d16-ac24-4944-81fe-a13495f5e150",
   "metadata": {},
   "source": [
    "## N = 6\n"
   ]
  },
  {
   "cell_type": "code",
   "execution_count": 4,
   "id": "777dda90-2000-4008-b8df-6d026c699988",
   "metadata": {},
   "outputs": [
    {
     "name": "stdout",
     "output_type": "stream",
     "text": [
      "PST: 1.0*pi\n",
      "PST: 1.0*pi\n",
      "PST: 1.0*pi\n"
     ]
    }
   ],
   "source": [
    "N = 6\n",
    "t = 0\n",
    "initCond = [0]\n",
    "graph = nx.cycle_graph(N)\n",
    "\n",
    "qw = QWAK(graph=graph)\n",
    "print(f'PST: {qw.checkPST(0,3)}')\n",
    "print(f'PST: {qw.checkPST(1,4)}')\n",
    "print(f'PST: {qw.checkPST(2,5)}')\n",
    "qw.runWalk(time=t,initStateList=initCond)"
   ]
  },
  {
   "cell_type": "markdown",
   "id": "56b5b01b-87f4-4e98-884d-4b3df64ea6f0",
   "metadata": {},
   "source": [
    "# Hypercube"
   ]
  },
  {
   "cell_type": "markdown",
   "id": "f2d61082-24e8-4728-8fa9-c1ff808778b2",
   "metadata": {},
   "source": [
    "## n = 3"
   ]
  },
  {
   "cell_type": "code",
   "execution_count": 4,
   "id": "57d28577-5459-488f-80fc-77de90fbcaaf",
   "metadata": {},
   "outputs": [
    {
     "name": "stdout",
     "output_type": "stream",
     "text": [
      "PST: 0.5*pi\n"
     ]
    }
   ],
   "source": [
    "n=3\n",
    "graph = nx.hypercube_graph(n)\n",
    "t = 0\n",
    "initCond = [0]\n",
    "\n",
    "qw = QWAK(graph=graph)\n",
    "print(f'PST: {qw.checkPST(0,7)}')\n",
    "qw.runWalk(time=t,initStateList=initCond)"
   ]
  },
  {
   "cell_type": "markdown",
   "id": "0f3250cf-bdce-436e-bd16-ccf3933bbab3",
   "metadata": {},
   "source": [
    "## n = 4"
   ]
  },
  {
   "cell_type": "code",
   "execution_count": 8,
   "id": "ef01d273-6713-4e27-b769-c7baf91b1074",
   "metadata": {},
   "outputs": [
    {
     "name": "stdout",
     "output_type": "stream",
     "text": [
      "PST: 0.5*pi\n"
     ]
    }
   ],
   "source": [
    "n=4\n",
    "graph = nx.hypercube_graph(n)\n",
    "t = 0\n",
    "initCond = [0]\n",
    "\n",
    "qw = QWAK(graph=graph)\n",
    "print(f'PST: {qw.checkPST(0,15)}')\n",
    "qw.runWalk(time=t,initStateList=initCond)"
   ]
  },
  {
   "cell_type": "markdown",
   "id": "6e2eb4fb-da22-47b2-9aca-47d3155ae87a",
   "metadata": {},
   "source": [
    "# Cartesian products"
   ]
  },
  {
   "cell_type": "markdown",
   "id": "343407f9-58f3-49d4-92cc-64e56a4846a9",
   "metadata": {},
   "source": [
    "## (P2 × P2)"
   ]
  },
  {
   "cell_type": "code",
   "execution_count": 14,
   "id": "edca0b94-1fec-4015-a178-4548c845d363",
   "metadata": {},
   "outputs": [
    {
     "name": "stdout",
     "output_type": "stream",
     "text": [
      "PST: 0.5*pi\n",
      "PST: 0.5*pi\n"
     ]
    }
   ],
   "source": [
    "G = nx.path_graph(2)\n",
    "H = nx.path_graph(2)\n",
    "GH = nx.cartesian_product(G, H)\n",
    "print(GH.nodes)"
   ]
  },
  {
   "cell_type": "markdown",
   "id": "10437620-e78c-4f7e-bc54-bccc9d5d55ce",
   "metadata": {},
   "source": [
    "In the case of a Cartesian product of two path graphs each of size 2 (P2 × P2), where n=2, this gives:\n",
    "\n",
    "1. Node (0,0) corresponds to index 0*2 + 0 = 0.\n",
    "2. Node (0,1) corresponds to index 0*2 + 1 = 1.\n",
    "3. Node (1,0) corresponds to index 1*2 + 0 = 2.\n",
    "4. Node (1,1) corresponds to index 1*2 + 1 = 3.\n"
   ]
  },
  {
   "cell_type": "code",
   "execution_count": 16,
   "id": "b6a75609-e24c-4ef6-8351-c1da44e45203",
   "metadata": {},
   "outputs": [
    {
     "name": "stdout",
     "output_type": "stream",
     "text": [
      "PST: 0.5*pi\n",
      "PST: 0.5*pi\n"
     ]
    }
   ],
   "source": [
    "n = len(GH)\n",
    "t = 0\n",
    "initCond = [0]\n",
    "\n",
    "qw = QWAK(graph=GH)\n",
    "print(f'PST: {qw.checkPST(0,3)}')\n",
    "print(f'PST: {qw.checkPST(1,2)}')\n",
    "qw.runWalk(time=t,initStateList=initCond)"
   ]
  },
  {
   "cell_type": "code",
   "execution_count": null,
   "id": "8f67849f-f489-4d88-a052-703c1ecfd1a0",
   "metadata": {},
   "outputs": [],
   "source": []
  }
 ],
 "metadata": {
  "kernelspec": {
   "display_name": "Python 3 (ipykernel)",
   "language": "python",
   "name": "python3"
  },
  "language_info": {
   "codemirror_mode": {
    "name": "ipython",
    "version": 3
   },
   "file_extension": ".py",
   "mimetype": "text/x-python",
   "name": "python",
   "nbconvert_exporter": "python",
   "pygments_lexer": "ipython3",
   "version": "3.10.9"
  }
 },
 "nbformat": 4,
 "nbformat_minor": 5
}
