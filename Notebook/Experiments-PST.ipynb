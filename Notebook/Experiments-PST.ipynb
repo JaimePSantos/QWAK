{
 "cells": [
  {
   "cell_type": "code",
   "execution_count": 1,
   "id": "881a33bb-f027-4aba-bdc0-50fe4920ec34",
   "metadata": {},
   "outputs": [],
   "source": [
    "from qwak.qwak import QWAK\n",
    "from utils.plotTools import plot_qwak\n",
    "\n",
    "import networkx as nx\n",
    "import numpy as np\n",
    "import matplotlib as mpl\n",
    "from matplotlib import pyplot as plt\n",
    "from math import sqrt, ceil, pow\n",
    "import scipy.special as sp\n",
    "import sympy as simp\n",
    "import math\n",
    "import copy\n",
    "import plotly.graph_objects as go\n",
    "import seaborn as sns\n",
    "import matplotlib.pyplot as plt\n",
    "import pandas as pd\n",
    "import os\n",
    "\n",
    "from scipy.ndimage import gaussian_filter"
   ]
  },
  {
   "cell_type": "markdown",
   "id": "89645ac2-45bc-4897-9f3c-db51e8354c49",
   "metadata": {},
   "source": [
    "# Cycle graph N=4"
   ]
  },
  {
   "cell_type": "code",
   "execution_count": 2,
   "id": "40b7cec8-e2f8-4669-9266-f8094165bd1a",
   "metadata": {},
   "outputs": [
    {
     "name": "stdout",
     "output_type": "stream",
     "text": [
      "PST: 0.5*pi\n"
     ]
    }
   ],
   "source": [
    "N = 4\n",
    "t = 0\n",
    "initCond = [0]\n",
    "graph = nx.cycle_graph(N)\n",
    "\n",
    "qw = QWAK(graph=graph)\n",
    "print(f'PST: {qw.checkPST(0,2)}')\n",
    "qw.runWalk(time=t,initStateList=initCond)"
   ]
  },
  {
   "cell_type": "markdown",
   "id": "ff59cea3-b20d-4501-8616-b50f1d67ceb9",
   "metadata": {},
   "source": [
    "# Path graph N = 3"
   ]
  },
  {
   "cell_type": "code",
   "execution_count": 3,
   "id": "973d7091-ece7-4d27-a66d-cefa3a0b9f15",
   "metadata": {
    "tags": []
   },
   "outputs": [
    {
     "name": "stdout",
     "output_type": "stream",
     "text": [
      "PST: 0.707108562377582*pi\n"
     ]
    }
   ],
   "source": [
    "N = 3\n",
    "t = 0\n",
    "initCond = [0]\n",
    "graph = nx.path_graph(N)\n",
    "\n",
    "qw = QWAK(graph=graph)\n",
    "print(f'PST: {qw.checkPST(0,2)}')\n",
    "qw.runWalk(time=t,initStateList=initCond)"
   ]
  },
  {
   "cell_type": "markdown",
   "id": "56b5b01b-87f4-4e98-884d-4b3df64ea6f0",
   "metadata": {},
   "source": [
    "# Hypercube n = 3"
   ]
  },
  {
   "cell_type": "code",
   "execution_count": 4,
   "id": "57d28577-5459-488f-80fc-77de90fbcaaf",
   "metadata": {},
   "outputs": [
    {
     "name": "stdout",
     "output_type": "stream",
     "text": [
      "PST: 0.5*pi\n"
     ]
    }
   ],
   "source": [
    "n=3\n",
    "graph = nx.hypercube_graph(n)\n",
    "t = 0\n",
    "initCond = [0]\n",
    "\n",
    "qw = QWAK(graph=graph)\n",
    "print(f'PST: {qw.checkPST(0,7)}')\n",
    "qw.runWalk(time=t,initStateList=initCond)"
   ]
  },
  {
   "cell_type": "code",
   "execution_count": null,
   "id": "144af182-24fa-40aa-83a3-2cd403a1b98a",
   "metadata": {},
   "outputs": [],
   "source": []
  }
 ],
 "metadata": {
  "kernelspec": {
   "display_name": "Python 3 (ipykernel)",
   "language": "python",
   "name": "python3"
  },
  "language_info": {
   "codemirror_mode": {
    "name": "ipython",
    "version": 3
   },
   "file_extension": ".py",
   "mimetype": "text/x-python",
   "name": "python",
   "nbconvert_exporter": "python",
   "pygments_lexer": "ipython3",
   "version": "3.10.9"
  }
 },
 "nbformat": 4,
 "nbformat_minor": 5
}
