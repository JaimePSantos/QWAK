{
 "cells": [
  {
   "cell_type": "code",
   "execution_count": 19,
   "id": "881a33bb-f027-4aba-bdc0-50fe4920ec34",
   "metadata": {},
   "outputs": [],
   "source": [
    "from qwak.qwak import QWAK\n",
    "from utils.plotTools import plot_qwak\n",
    "\n",
    "import networkx as nx\n",
    "import numpy as np\n",
    "import matplotlib as mpl\n",
    "from matplotlib import pyplot as plt\n",
    "from math import sqrt, ceil, pow\n",
    "import scipy.special as sp\n",
    "import sympy as simp\n",
    "import math\n",
    "import copy\n",
    "import plotly.graph_objects as go\n",
    "import seaborn as sns\n",
    "import matplotlib.pyplot as plt\n",
    "import pandas as pd\n",
    "import os\n",
    "import json\n",
    "\n",
    "from scipy.ndimage import gaussian_filter"
   ]
  },
  {
   "cell_type": "markdown",
   "id": "3988d4e4-bca8-4fde-a3c0-d4792e8b8315",
   "metadata": {},
   "source": [
    "# Path graph N = 3"
   ]
  },
  {
   "cell_type": "code",
   "execution_count": null,
   "id": "0e6bb5b2-8e3d-467c-85f2-16357dcb97a4",
   "metadata": {},
   "outputs": [],
   "source": [
    "N = 3\n",
    "t = 0\n",
    "initCond = [0]\n",
    "graph = nx.path_graph(N)\n",
    "\n",
    "qw = QWAK(graph=graph)\n",
    "print(f'PST: {qw.checkPST(0,2)}')\n",
    "qw.runWalk(time=t,initStateList=initCond)"
   ]
  },
  {
   "cell_type": "markdown",
   "id": "89645ac2-45bc-4897-9f3c-db51e8354c49",
   "metadata": {},
   "source": [
    "# Cycle graph"
   ]
  },
  {
   "cell_type": "markdown",
   "id": "71c34beb-cb47-4415-a58b-224a8682d7f8",
   "metadata": {},
   "source": [
    "## N = 4"
   ]
  },
  {
   "cell_type": "code",
   "execution_count": 3,
   "id": "40b7cec8-e2f8-4669-9266-f8094165bd1a",
   "metadata": {},
   "outputs": [
    {
     "name": "stdout",
     "output_type": "stream",
     "text": [
      "PST: 0.5*pi\n"
     ]
    }
   ],
   "source": [
    "N = 4\n",
    "t = 0\n",
    "initCond = [0]\n",
    "graph = nx.cycle_graph(N)\n",
    "\n",
    "qw = QWAK(graph=graph)\n",
    "print(f'PST: {qw.checkPST(0,2)}')\n",
    "qw.runWalk(time=t,initStateList=initCond)"
   ]
  },
  {
   "cell_type": "markdown",
   "id": "c8903d16-ac24-4944-81fe-a13495f5e150",
   "metadata": {},
   "source": [
    "## N = 6\n"
   ]
  },
  {
   "cell_type": "code",
   "execution_count": 4,
   "id": "777dda90-2000-4008-b8df-6d026c699988",
   "metadata": {},
   "outputs": [
    {
     "name": "stdout",
     "output_type": "stream",
     "text": [
      "PST: 1.0*pi\n",
      "PST: 1.0*pi\n",
      "PST: 1.0*pi\n"
     ]
    }
   ],
   "source": [
    "N = 6\n",
    "t = 0\n",
    "initCond = [0]\n",
    "graph = nx.cycle_graph(N)\n",
    "\n",
    "qw = QWAK(graph=graph)\n",
    "print(f'PST: {qw.checkPST(0,3)}')\n",
    "print(f'PST: {qw.checkPST(1,4)}')\n",
    "print(f'PST: {qw.checkPST(2,5)}')\n",
    "qw.runWalk(time=t,initStateList=initCond)"
   ]
  },
  {
   "cell_type": "markdown",
   "id": "56b5b01b-87f4-4e98-884d-4b3df64ea6f0",
   "metadata": {},
   "source": [
    "# Hypercube"
   ]
  },
  {
   "cell_type": "markdown",
   "id": "f2d61082-24e8-4728-8fa9-c1ff808778b2",
   "metadata": {},
   "source": [
    "## n = 3"
   ]
  },
  {
   "cell_type": "code",
   "execution_count": 4,
   "id": "57d28577-5459-488f-80fc-77de90fbcaaf",
   "metadata": {},
   "outputs": [
    {
     "name": "stdout",
     "output_type": "stream",
     "text": [
      "PST: 0.5*pi\n"
     ]
    }
   ],
   "source": [
    "n=3\n",
    "graph = nx.hypercube_graph(n)\n",
    "t = 0\n",
    "initCond = [0]\n",
    "\n",
    "qw = QWAK(graph=graph)\n",
    "print(f'PST: {qw.checkPST(0,7)}')\n",
    "qw.runWalk(time=t,initStateList=initCond)"
   ]
  },
  {
   "cell_type": "markdown",
   "id": "0f3250cf-bdce-436e-bd16-ccf3933bbab3",
   "metadata": {},
   "source": [
    "## n = 4"
   ]
  },
  {
   "cell_type": "code",
   "execution_count": 8,
   "id": "ef01d273-6713-4e27-b769-c7baf91b1074",
   "metadata": {},
   "outputs": [
    {
     "name": "stdout",
     "output_type": "stream",
     "text": [
      "PST: 0.5*pi\n"
     ]
    }
   ],
   "source": [
    "n=4\n",
    "graph = nx.hypercube_graph(n)\n",
    "t = 0\n",
    "initCond = [0]\n",
    "\n",
    "qw = QWAK(graph=graph)\n",
    "print(f'PST: {qw.checkPST(0,15)}')\n",
    "qw.runWalk(time=t,initStateList=initCond)"
   ]
  },
  {
   "cell_type": "markdown",
   "id": "6e2eb4fb-da22-47b2-9aca-47d3155ae87a",
   "metadata": {},
   "source": [
    "# Cartesian products"
   ]
  },
  {
   "cell_type": "markdown",
   "id": "343407f9-58f3-49d4-92cc-64e56a4846a9",
   "metadata": {},
   "source": [
    "## (P2 × P2)"
   ]
  },
  {
   "cell_type": "markdown",
   "id": "f9559c74-a1cf-4f25-973b-ad43bad976bb",
   "metadata": {},
   "source": [
    "In the case of a Cartesian product of two path graphs each of size 2 (P2 × P2), where n=2, this gives:\n",
    "\n",
    "1. Node (0,0) corresponds to index 0*2 + 0 = 0.\n",
    "2. Node (0,1) corresponds to index 0*2 + 1 = 1.\n",
    "3. Node (1,0) corresponds to index 1*2 + 0 = 2.\n",
    "4. Node (1,1) corresponds to index 1*2 + 1 = 3.\n"
   ]
  },
  {
   "cell_type": "code",
   "execution_count": 13,
   "id": "edca0b94-1fec-4015-a178-4548c845d363",
   "metadata": {},
   "outputs": [
    {
     "name": "stdout",
     "output_type": "stream",
     "text": [
      "[(0, 0), (0, 1), (1, 0), (1, 1)]\n",
      "PST from 0 -> 0 : 0.5*pi\n",
      "PST from 0 -> 1 : -1\n",
      "PST from 0 -> 2 : -1\n",
      "PST from 0 -> 3 : 0.5*pi\n",
      "PST from 1 -> 0 : -1\n",
      "PST from 1 -> 1 : -1\n",
      "PST from 1 -> 2 : 0.5*pi\n",
      "PST from 1 -> 3 : -1\n",
      "PST from 2 -> 0 : -1\n",
      "PST from 2 -> 1 : 0.5*pi\n",
      "PST from 2 -> 2 : 0.5*pi\n",
      "PST from 2 -> 3 : -1\n",
      "PST from 3 -> 0 : 0.5*pi\n",
      "PST from 3 -> 1 : -1\n",
      "PST from 3 -> 2 : -1\n",
      "PST from 3 -> 3 : -1\n"
     ]
    }
   ],
   "source": [
    "G = nx.path_graph(2)\n",
    "H = nx.path_graph(2)\n",
    "GH = nx.cartesian_product(G, H)\n",
    "print(GH.nodes)\n",
    "\n",
    "n = len(GH)\n",
    "t = 0\n",
    "initCond = [0]\n",
    "\n",
    "qw = QWAK(graph=GH)\n",
    "for n in range(0,len(GH)):\n",
    "    for k in range(0,len(GH)):\n",
    "        print(f'PST from {n} -> {k} : {qw.checkPST(n,k)}')"
   ]
  },
  {
   "cell_type": "markdown",
   "id": "e4f19636-7f49-4233-ab7d-e329f4d81056",
   "metadata": {},
   "source": [
    "## (P3 × P2)"
   ]
  },
  {
   "cell_type": "code",
   "execution_count": 14,
   "id": "8f67849f-f489-4d88-a052-703c1ecfd1a0",
   "metadata": {},
   "outputs": [
    {
     "name": "stdout",
     "output_type": "stream",
     "text": [
      "[(0, 0), (0, 1), (1, 0), (1, 1), (2, 0), (2, 1)]\n",
      "PST from 0 -> 0 : -1\n",
      "PST from 0 -> 1 : -1\n",
      "PST from 0 -> 2 : -1\n",
      "PST from 0 -> 3 : -1\n",
      "PST from 0 -> 4 : -1\n",
      "PST from 0 -> 5 : -1\n",
      "PST from 1 -> 0 : -1\n",
      "PST from 1 -> 1 : -1\n",
      "PST from 1 -> 2 : -1\n",
      "PST from 1 -> 3 : -1\n",
      "PST from 1 -> 4 : -1\n",
      "PST from 1 -> 5 : -1\n",
      "PST from 2 -> 0 : -1\n",
      "PST from 2 -> 1 : -1\n",
      "PST from 2 -> 2 : -1\n",
      "PST from 2 -> 3 : -1\n",
      "PST from 2 -> 4 : -1\n",
      "PST from 2 -> 5 : -1\n",
      "PST from 3 -> 0 : -1\n",
      "PST from 3 -> 1 : -1\n",
      "PST from 3 -> 2 : -1\n",
      "PST from 3 -> 3 : -1\n",
      "PST from 3 -> 4 : -1\n",
      "PST from 3 -> 5 : -1\n",
      "PST from 4 -> 0 : -1\n",
      "PST from 4 -> 1 : -1\n",
      "PST from 4 -> 2 : -1\n",
      "PST from 4 -> 3 : -1\n",
      "PST from 4 -> 4 : -1\n",
      "PST from 4 -> 5 : -1\n",
      "PST from 5 -> 0 : -1\n",
      "PST from 5 -> 1 : -1\n",
      "PST from 5 -> 2 : -1\n",
      "PST from 5 -> 3 : -1\n",
      "PST from 5 -> 4 : -1\n",
      "PST from 5 -> 5 : -1\n"
     ]
    }
   ],
   "source": [
    "G = nx.path_graph(3)\n",
    "H = nx.path_graph(2)\n",
    "GH = nx.cartesian_product(G, H)\n",
    "print(GH.nodes)\n",
    "\n",
    "n = len(GH)\n",
    "t = 0\n",
    "initCond = [0]\n",
    "\n",
    "qw = QWAK(graph=GH)\n",
    "for n in range(0,len(GH)):\n",
    "    for k in range(0,len(GH)):\n",
    "        print(f'PST from {n} -> {k} : {qw.checkPST(n,k)}')"
   ]
  },
  {
   "cell_type": "code",
   "execution_count": 15,
   "id": "e298be46-4a19-4e22-9065-8ae288972aad",
   "metadata": {},
   "outputs": [
    {
     "name": "stdout",
     "output_type": "stream",
     "text": [
      "[(0, 0), (0, 1), (1, 0), (1, 1), (2, 0), (2, 1), (3, 0), (3, 1)]\n",
      "PST from 0 -> 0 : -1\n",
      "PST from 0 -> 1 : -1\n",
      "PST from 0 -> 2 : -1\n",
      "PST from 0 -> 3 : -1\n",
      "PST from 0 -> 4 : -1\n",
      "PST from 0 -> 5 : 0.5*pi\n",
      "PST from 0 -> 6 : -1\n",
      "PST from 0 -> 7 : -1\n",
      "PST from 1 -> 0 : -1\n",
      "PST from 1 -> 1 : -1\n",
      "PST from 1 -> 2 : -1\n",
      "PST from 1 -> 3 : -1\n",
      "PST from 1 -> 4 : 0.5*pi\n",
      "PST from 1 -> 5 : -1\n",
      "PST from 1 -> 6 : -1\n",
      "PST from 1 -> 7 : -1\n",
      "PST from 2 -> 0 : -1\n",
      "PST from 2 -> 1 : -1\n",
      "PST from 2 -> 2 : -1\n",
      "PST from 2 -> 3 : -1\n",
      "PST from 2 -> 4 : -1\n",
      "PST from 2 -> 5 : -1\n",
      "PST from 2 -> 6 : -1\n",
      "PST from 2 -> 7 : 0.5*pi\n",
      "PST from 3 -> 0 : -1\n",
      "PST from 3 -> 1 : -1\n",
      "PST from 3 -> 2 : -1\n",
      "PST from 3 -> 3 : -1\n",
      "PST from 3 -> 4 : -1\n",
      "PST from 3 -> 5 : -1\n",
      "PST from 3 -> 6 : 0.5*pi\n",
      "PST from 3 -> 7 : -1\n",
      "PST from 4 -> 0 : -1\n",
      "PST from 4 -> 1 : 0.5*pi\n",
      "PST from 4 -> 2 : -1\n",
      "PST from 4 -> 3 : -1\n",
      "PST from 4 -> 4 : -1\n",
      "PST from 4 -> 5 : -1\n",
      "PST from 4 -> 6 : -1\n",
      "PST from 4 -> 7 : -1\n",
      "PST from 5 -> 0 : 0.5*pi\n",
      "PST from 5 -> 1 : -1\n",
      "PST from 5 -> 2 : -1\n",
      "PST from 5 -> 3 : -1\n",
      "PST from 5 -> 4 : -1\n",
      "PST from 5 -> 5 : -1\n",
      "PST from 5 -> 6 : -1\n",
      "PST from 5 -> 7 : -1\n",
      "PST from 6 -> 0 : -1\n",
      "PST from 6 -> 1 : -1\n",
      "PST from 6 -> 2 : -1\n",
      "PST from 6 -> 3 : 0.5*pi\n",
      "PST from 6 -> 4 : -1\n",
      "PST from 6 -> 5 : -1\n",
      "PST from 6 -> 6 : -1\n",
      "PST from 6 -> 7 : -1\n",
      "PST from 7 -> 0 : -1\n",
      "PST from 7 -> 1 : -1\n",
      "PST from 7 -> 2 : 0.5*pi\n",
      "PST from 7 -> 3 : -1\n",
      "PST from 7 -> 4 : -1\n",
      "PST from 7 -> 5 : -1\n",
      "PST from 7 -> 6 : -1\n",
      "PST from 7 -> 7 : -1\n"
     ]
    }
   ],
   "source": [
    "G = nx.cycle_graph(4)\n",
    "H = nx.cycle_graph(2)\n",
    "GH = nx.cartesian_product(G, H)\n",
    "print(GH.nodes)\n",
    "\n",
    "n = len(GH)\n",
    "t = 0\n",
    "initCond = [0]\n",
    "\n",
    "qw = QWAK(graph=GH)\n",
    "for n in range(0,len(GH)):\n",
    "    for k in range(0,len(GH)):\n",
    "        print(f'PST from {n} -> {k} : {qw.checkPST(n,k)}')"
   ]
  },
  {
   "cell_type": "code",
   "execution_count": 23,
   "id": "b0432cb1-5dfa-49f9-8b39-d569b78d62f3",
   "metadata": {},
   "outputs": [
    {
     "name": "stdout",
     "output_type": "stream",
     "text": [
      "[(0, 0), (0, 1), (0, 2), (0, 3), (1, 0), (1, 1), (1, 2), (1, 3)]\n",
      "{'(0, 1)': '-1', '(0, 2)': '-1', '(0, 3)': '-1', '(0, 4)': '-1', '(0, 5)': '-1', '(0, 6)': '0.5*pi', '(0, 7)': '-1', '(1, 2)': '-1', '(1, 3)': '-1', '(1, 4)': '-1', '(1, 5)': '-1', '(1, 6)': '-1', '(1, 7)': '0.5*pi', '(2, 3)': '-1', '(2, 4)': '0.5*pi', '(2, 5)': '-1', '(2, 6)': '-1', '(2, 7)': '-1', '(3, 4)': '-1', '(3, 5)': '0.5*pi', '(3, 6)': '-1', '(3, 7)': '-1', '(4, 5)': '-1', '(4, 6)': '-1', '(4, 7)': '-1', '(5, 6)': '-1', '(5, 7)': '-1', '(6, 7)': '-1'}\n"
     ]
    }
   ],
   "source": [
    "G = nx.cycle_graph(2)\n",
    "H = nx.cycle_graph(4)\n",
    "GH = nx.cartesian_product(G, H)\n",
    "print(GH.nodes)\n",
    "\n",
    "n = len(GH)\n",
    "t = 0\n",
    "initCond = [0]\n",
    "\n",
    "def find_pst_vertices(qwak_obj, filename=None):\n",
    "    # Create an empty dictionary to store pairs of nodes with PST\n",
    "    pst_pairs = {}\n",
    "    \n",
    "    # Get the number of nodes in the graph\n",
    "    n = len(qwak_obj.getGraph())\n",
    "    \n",
    "    # Iterate through each unique pair of nodes and check for PST\n",
    "    for i in range(n):\n",
    "        for j in range(n):\n",
    "            # Skip checking for the same vertex and symmetric variations\n",
    "            if j <= i:\n",
    "                continue\n",
    "            \n",
    "            pst_value = qwak_obj.checkPST(i, j)\n",
    "            # If PST is True, add it to the dictionary\n",
    "            if pst_value:\n",
    "                # Convert tuple to string before using as key\n",
    "                key = str((i, j))\n",
    "                pst_pairs[key] = str(pst_value)\n",
    "                \n",
    "    # If a filename is provided, save the dictionary to that file\n",
    "    if filename:\n",
    "        with open(filename, 'w') as file:\n",
    "            json.dump(pst_pairs, file)\n",
    "    \n",
    "    # Return the dictionary\n",
    "    return pst_pairs\n",
    "pst_cartesian_c2c4 = f'Datasets/PerfectStateTransfer/pstCartesian_Cycle_N{len(GH)}.txt'\n",
    "\n",
    "qw = QWAK(graph=GH)\n",
    "pst_vertices = find_pst_vertices(qw, filename=pst_cartesian_c2c4)\n",
    "print(pst_vertices)\n"
   ]
  },
  {
   "cell_type": "code",
   "execution_count": null,
   "id": "4bcfe9b1-ead1-43f5-a123-22dfd82fb969",
   "metadata": {},
   "outputs": [],
   "source": []
  }
 ],
 "metadata": {
  "kernelspec": {
   "display_name": "Python 3 (ipykernel)",
   "language": "python",
   "name": "python3"
  },
  "language_info": {
   "codemirror_mode": {
    "name": "ipython",
    "version": 3
   },
   "file_extension": ".py",
   "mimetype": "text/x-python",
   "name": "python",
   "nbconvert_exporter": "python",
   "pygments_lexer": "ipython3",
   "version": "3.10.9"
  }
 },
 "nbformat": 4,
 "nbformat_minor": 5
}
