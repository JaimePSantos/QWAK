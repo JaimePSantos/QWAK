{
 "cells": [
  {
   "cell_type": "code",
   "execution_count": 21,
   "id": "881a33bb-f027-4aba-bdc0-50fe4920ec34",
   "metadata": {},
   "outputs": [],
   "source": [
    "from qwak.qwak import QWAK\n",
    "from utils.plotTools import plot_qwak\n",
    "\n",
    "import networkx as nx\n",
    "import numpy as np\n",
    "import matplotlib as mpl\n",
    "from matplotlib import pyplot as plt\n",
    "from math import sqrt, ceil, pow\n",
    "import scipy.special as sp\n",
    "import sympy as simp\n",
    "import math\n",
    "import copy\n",
    "import plotly.graph_objects as go\n",
    "import seaborn as sns\n",
    "import matplotlib.pyplot as plt\n",
    "import pandas as pd\n",
    "import os\n",
    "\n",
    "from scipy.ndimage import gaussian_filter"
   ]
  },
  {
   "cell_type": "markdown",
   "id": "89645ac2-45bc-4897-9f3c-db51e8354c49",
   "metadata": {},
   "source": [
    "# Cycle graph N=4"
   ]
  },
  {
   "cell_type": "code",
   "execution_count": 22,
   "id": "40b7cec8-e2f8-4669-9266-f8094165bd1a",
   "metadata": {},
   "outputs": [
    {
     "name": "stdout",
     "output_type": "stream",
     "text": [
      "PST: 0.5*pi\n"
     ]
    }
   ],
   "source": [
    "N = 4\n",
    "t = 0\n",
    "initCond = [0]\n",
    "graph = nx.cycle_graph(N)\n",
    "\n",
    "qw = QWAK(graph=graph)\n",
    "print(f'PST: {qw.checkPST(0,2)}')\n",
    "qw.runWalk(time=t,initStateList=initCond)"
   ]
  },
  {
   "cell_type": "markdown",
   "id": "ff59cea3-b20d-4501-8616-b50f1d67ceb9",
   "metadata": {},
   "source": [
    "# Path graph N = 3"
   ]
  },
  {
   "cell_type": "code",
   "execution_count": 23,
   "id": "973d7091-ece7-4d27-a66d-cefa3a0b9f15",
   "metadata": {
    "tags": []
   },
   "outputs": [
    {
     "name": "stdout",
     "output_type": "stream",
     "text": [
      "PST: 0.707106781186547*pi\n"
     ]
    }
   ],
   "source": [
    "N = 3\n",
    "t = 0\n",
    "initCond = [0]\n",
    "graph = nx.path_graph(N)\n",
    "\n",
    "qw = QWAK(graph=graph)\n",
    "print(f'PST: {qw.checkPST(0,2)}')\n",
    "qw.runWalk(time=t,initStateList=initCond)"
   ]
  },
  {
   "cell_type": "markdown",
   "id": "56b5b01b-87f4-4e98-884d-4b3df64ea6f0",
   "metadata": {},
   "source": [
    "# Hypercube"
   ]
  },
  {
   "cell_type": "code",
   "execution_count": 25,
   "id": "57d28577-5459-488f-80fc-77de90fbcaaf",
   "metadata": {},
   "outputs": [
    {
     "ename": "RuntimeError",
     "evalue": "qr: failed to converge after 253 steps",
     "output_type": "error",
     "traceback": [
      "\u001b[1;31m---------------------------------------------------------------------------\u001b[0m",
      "\u001b[1;31mRuntimeError\u001b[0m                              Traceback (most recent call last)",
      "Cell \u001b[1;32mIn[25], line 7\u001b[0m\n\u001b[0;32m      4\u001b[0m initCond \u001b[38;5;241m=\u001b[39m [\u001b[38;5;241m0\u001b[39m]\n\u001b[0;32m      6\u001b[0m qw \u001b[38;5;241m=\u001b[39m QWAK(graph\u001b[38;5;241m=\u001b[39mgraph)\n\u001b[1;32m----> 7\u001b[0m \u001b[38;5;28mprint\u001b[39m(\u001b[38;5;124mf\u001b[39m\u001b[38;5;124m'\u001b[39m\u001b[38;5;124mPST: \u001b[39m\u001b[38;5;132;01m{\u001b[39;00m\u001b[43mqw\u001b[49m\u001b[38;5;241;43m.\u001b[39;49m\u001b[43mcheckPST\u001b[49m\u001b[43m(\u001b[49m\u001b[38;5;241;43m0\u001b[39;49m\u001b[43m,\u001b[49m\u001b[38;5;241;43m7\u001b[39;49m\u001b[43m)\u001b[49m\u001b[38;5;132;01m}\u001b[39;00m\u001b[38;5;124m'\u001b[39m)\n\u001b[0;32m      8\u001b[0m qw\u001b[38;5;241m.\u001b[39mrunWalk(time\u001b[38;5;241m=\u001b[39mt,initStateList\u001b[38;5;241m=\u001b[39minitCond)\n",
      "File \u001b[1;32m~\\Documents\\GitHub\\QWAK\\core\\qwak\\qwak.py:835\u001b[0m, in \u001b[0;36mQWAK.checkPST\u001b[1;34m(self, fromNode, toNode)\u001b[0m\n\u001b[0;32m    815\u001b[0m \u001b[38;5;250m\u001b[39m\u001b[38;5;124;03m\"\"\"Checks if a structure allows for PST between certain nodes.\u001b[39;00m\n\u001b[0;32m    816\u001b[0m \n\u001b[0;32m    817\u001b[0m \u001b[38;5;124;03mParameters\u001b[39;00m\n\u001b[1;32m   (...)\u001b[0m\n\u001b[0;32m    832\u001b[0m \n\u001b[0;32m    833\u001b[0m \u001b[38;5;124;03m\"\"\"\u001b[39;00m\n\u001b[0;32m    834\u001b[0m \u001b[38;5;28;01mtry\u001b[39;00m:\n\u001b[1;32m--> 835\u001b[0m     \u001b[38;5;28;01mreturn\u001b[39;00m \u001b[38;5;28;43mself\u001b[39;49m\u001b[38;5;241;43m.\u001b[39;49m\u001b[43m_operator\u001b[49m\u001b[38;5;241;43m.\u001b[39;49m\u001b[43mcheckPST\u001b[49m\u001b[43m(\u001b[49m\u001b[43mfromNode\u001b[49m\u001b[43m,\u001b[49m\u001b[43m \u001b[49m\u001b[43mtoNode\u001b[49m\u001b[43m)\u001b[49m\n\u001b[0;32m    836\u001b[0m \u001b[38;5;28;01mexcept\u001b[39;00m MissingNodeInput \u001b[38;5;28;01mas\u001b[39;00m err:\n\u001b[0;32m    837\u001b[0m     \u001b[38;5;28;01mraise\u001b[39;00m err\n",
      "File \u001b[1;32m~\\Documents\\GitHub\\QWAK\\core\\qwak\\Operator.py:384\u001b[0m, in \u001b[0;36mOperator.checkPST\u001b[1;34m(self, nodeA, nodeB)\u001b[0m\n\u001b[0;32m    382\u001b[0m symAdj \u001b[38;5;241m=\u001b[39m sp\u001b[38;5;241m.\u001b[39mMatrix(\u001b[38;5;28mself\u001b[39m\u001b[38;5;241m.\u001b[39m_hamiltonian\u001b[38;5;241m.\u001b[39mtolist())\n\u001b[0;32m    383\u001b[0m \u001b[38;5;66;03m# Isto já foi calculado.\u001b[39;00m\n\u001b[1;32m--> 384\u001b[0m eigenVec, D \u001b[38;5;241m=\u001b[39m \u001b[43msymAdj\u001b[49m\u001b[38;5;241;43m.\u001b[39;49m\u001b[43mdiagonalize\u001b[49m\u001b[43m(\u001b[49m\u001b[43m)\u001b[49m\n\u001b[0;32m    385\u001b[0m eigenVal \u001b[38;5;241m=\u001b[39m getEigenVal(D)\n\u001b[0;32m    386\u001b[0m isCospec \u001b[38;5;241m=\u001b[39m isStrCospec(symAdj, nodeA, nodeB)\n",
      "File \u001b[1;32m~\\anaconda3\\envs\\QWAK\\lib\\site-packages\\sympy\\matrices\\matrices.py:388\u001b[0m, in \u001b[0;36mMatrixEigen.diagonalize\u001b[1;34m(self, reals_only, sort, normalize)\u001b[0m\n\u001b[0;32m    387\u001b[0m \u001b[38;5;28;01mdef\u001b[39;00m \u001b[38;5;21mdiagonalize\u001b[39m(\u001b[38;5;28mself\u001b[39m, reals_only\u001b[38;5;241m=\u001b[39m\u001b[38;5;28;01mFalse\u001b[39;00m, sort\u001b[38;5;241m=\u001b[39m\u001b[38;5;28;01mFalse\u001b[39;00m, normalize\u001b[38;5;241m=\u001b[39m\u001b[38;5;28;01mFalse\u001b[39;00m):\n\u001b[1;32m--> 388\u001b[0m     \u001b[38;5;28;01mreturn\u001b[39;00m \u001b[43m_diagonalize\u001b[49m\u001b[43m(\u001b[49m\u001b[38;5;28;43mself\u001b[39;49m\u001b[43m,\u001b[49m\u001b[43m \u001b[49m\u001b[43mreals_only\u001b[49m\u001b[38;5;241;43m=\u001b[39;49m\u001b[43mreals_only\u001b[49m\u001b[43m,\u001b[49m\u001b[43m \u001b[49m\u001b[43msort\u001b[49m\u001b[38;5;241;43m=\u001b[39;49m\u001b[43msort\u001b[49m\u001b[43m,\u001b[49m\n\u001b[0;32m    389\u001b[0m \u001b[43m            \u001b[49m\u001b[43mnormalize\u001b[49m\u001b[38;5;241;43m=\u001b[39;49m\u001b[43mnormalize\u001b[49m\u001b[43m)\u001b[49m\n",
      "File \u001b[1;32m~\\anaconda3\\envs\\QWAK\\lib\\site-packages\\sympy\\matrices\\eigen.py:717\u001b[0m, in \u001b[0;36m_diagonalize\u001b[1;34m(M, reals_only, sort, normalize)\u001b[0m\n\u001b[0;32m    714\u001b[0m \u001b[38;5;28;01mif\u001b[39;00m \u001b[38;5;129;01mnot\u001b[39;00m M\u001b[38;5;241m.\u001b[39mis_square:\n\u001b[0;32m    715\u001b[0m     \u001b[38;5;28;01mraise\u001b[39;00m NonSquareMatrixError()\n\u001b[1;32m--> 717\u001b[0m is_diagonalizable, eigenvecs \u001b[38;5;241m=\u001b[39m \u001b[43m_is_diagonalizable_with_eigen\u001b[49m\u001b[43m(\u001b[49m\u001b[43mM\u001b[49m\u001b[43m,\u001b[49m\n\u001b[0;32m    718\u001b[0m \u001b[43m            \u001b[49m\u001b[43mreals_only\u001b[49m\u001b[38;5;241;43m=\u001b[39;49m\u001b[43mreals_only\u001b[49m\u001b[43m)\u001b[49m\n\u001b[0;32m    720\u001b[0m \u001b[38;5;28;01mif\u001b[39;00m \u001b[38;5;129;01mnot\u001b[39;00m is_diagonalizable:\n\u001b[0;32m    721\u001b[0m     \u001b[38;5;28;01mraise\u001b[39;00m MatrixError(\u001b[38;5;124m\"\u001b[39m\u001b[38;5;124mMatrix is not diagonalizable\u001b[39m\u001b[38;5;124m\"\u001b[39m)\n",
      "File \u001b[1;32m~\\anaconda3\\envs\\QWAK\\lib\\site-packages\\sympy\\matrices\\eigen.py:449\u001b[0m, in \u001b[0;36m_is_diagonalizable_with_eigen\u001b[1;34m(M, reals_only)\u001b[0m\n\u001b[0;32m    446\u001b[0m \u001b[38;5;28;01mif\u001b[39;00m \u001b[38;5;129;01mnot\u001b[39;00m M\u001b[38;5;241m.\u001b[39mis_square:\n\u001b[0;32m    447\u001b[0m     \u001b[38;5;28;01mreturn\u001b[39;00m \u001b[38;5;28;01mFalse\u001b[39;00m, []\n\u001b[1;32m--> 449\u001b[0m eigenvecs \u001b[38;5;241m=\u001b[39m \u001b[43mM\u001b[49m\u001b[38;5;241;43m.\u001b[39;49m\u001b[43meigenvects\u001b[49m\u001b[43m(\u001b[49m\u001b[43msimplify\u001b[49m\u001b[38;5;241;43m=\u001b[39;49m\u001b[38;5;28;43;01mTrue\u001b[39;49;00m\u001b[43m)\u001b[49m\n\u001b[0;32m    451\u001b[0m \u001b[38;5;28;01mfor\u001b[39;00m val, mult, basis \u001b[38;5;129;01min\u001b[39;00m eigenvecs:\n\u001b[0;32m    452\u001b[0m     \u001b[38;5;28;01mif\u001b[39;00m reals_only \u001b[38;5;129;01mand\u001b[39;00m \u001b[38;5;129;01mnot\u001b[39;00m val\u001b[38;5;241m.\u001b[39mis_real: \u001b[38;5;66;03m# if we have a complex eigenvalue\u001b[39;00m\n",
      "File \u001b[1;32m~\\anaconda3\\envs\\QWAK\\lib\\site-packages\\sympy\\matrices\\matrices.py:381\u001b[0m, in \u001b[0;36mMatrixEigen.eigenvects\u001b[1;34m(self, error_when_incomplete, iszerofunc, **flags)\u001b[0m\n\u001b[0;32m    380\u001b[0m \u001b[38;5;28;01mdef\u001b[39;00m \u001b[38;5;21meigenvects\u001b[39m(\u001b[38;5;28mself\u001b[39m, error_when_incomplete\u001b[38;5;241m=\u001b[39m\u001b[38;5;28;01mTrue\u001b[39;00m, iszerofunc\u001b[38;5;241m=\u001b[39m_iszero, \u001b[38;5;241m*\u001b[39m\u001b[38;5;241m*\u001b[39mflags):\n\u001b[1;32m--> 381\u001b[0m     \u001b[38;5;28;01mreturn\u001b[39;00m _eigenvects(\u001b[38;5;28mself\u001b[39m, error_when_incomplete\u001b[38;5;241m=\u001b[39merror_when_incomplete,\n\u001b[0;32m    382\u001b[0m             iszerofunc\u001b[38;5;241m=\u001b[39miszerofunc, \u001b[38;5;241m*\u001b[39m\u001b[38;5;241m*\u001b[39mflags)\n",
      "File \u001b[1;32m~\\anaconda3\\envs\\QWAK\\lib\\site-packages\\sympy\\matrices\\eigen.py:417\u001b[0m, in \u001b[0;36m_eigenvects\u001b[1;34m(M, error_when_incomplete, iszerofunc, chop, **flags)\u001b[0m\n\u001b[0;32m    415\u001b[0m \u001b[38;5;28;01mif\u001b[39;00m has_floats:\n\u001b[0;32m    416\u001b[0m     \u001b[38;5;28;01mif\u001b[39;00m \u001b[38;5;28mall\u001b[39m(x\u001b[38;5;241m.\u001b[39mis_number \u001b[38;5;28;01mfor\u001b[39;00m x \u001b[38;5;129;01min\u001b[39;00m M):\n\u001b[1;32m--> 417\u001b[0m         \u001b[38;5;28;01mreturn\u001b[39;00m \u001b[43m_eigenvects_mpmath\u001b[49m\u001b[43m(\u001b[49m\u001b[43mM\u001b[49m\u001b[43m)\u001b[49m\n\u001b[0;32m    418\u001b[0m     \u001b[38;5;28;01mfrom\u001b[39;00m \u001b[38;5;21;01msympy\u001b[39;00m\u001b[38;5;21;01m.\u001b[39;00m\u001b[38;5;21;01msimplify\u001b[39;00m \u001b[38;5;28;01mimport\u001b[39;00m nsimplify\n\u001b[0;32m    419\u001b[0m     M \u001b[38;5;241m=\u001b[39m M\u001b[38;5;241m.\u001b[39mapplyfunc(\u001b[38;5;28;01mlambda\u001b[39;00m x: nsimplify(x, rational\u001b[38;5;241m=\u001b[39m\u001b[38;5;28;01mTrue\u001b[39;00m))\n",
      "File \u001b[1;32m~\\anaconda3\\envs\\QWAK\\lib\\site-packages\\sympy\\matrices\\eigen.py:61\u001b[0m, in \u001b[0;36m_eigenvects_mpmath\u001b[1;34m(M)\u001b[0m\n\u001b[0;32m     60\u001b[0m \u001b[38;5;28;01mdef\u001b[39;00m \u001b[38;5;21m_eigenvects_mpmath\u001b[39m(M):\n\u001b[1;32m---> 61\u001b[0m     E, ER \u001b[38;5;241m=\u001b[39m \u001b[43m_eigenvals_eigenvects_mpmath\u001b[49m\u001b[43m(\u001b[49m\u001b[43mM\u001b[49m\u001b[43m)\u001b[49m\n\u001b[0;32m     62\u001b[0m     result \u001b[38;5;241m=\u001b[39m []\n\u001b[0;32m     63\u001b[0m     \u001b[38;5;28;01mfor\u001b[39;00m i \u001b[38;5;129;01min\u001b[39;00m \u001b[38;5;28mrange\u001b[39m(M\u001b[38;5;241m.\u001b[39mrows):\n",
      "File \u001b[1;32m~\\anaconda3\\envs\\QWAK\\lib\\site-packages\\sympy\\matrices\\eigen.py:35\u001b[0m, in \u001b[0;36m_eigenvals_eigenvects_mpmath\u001b[1;34m(M)\u001b[0m\n\u001b[0;32m     33\u001b[0m \u001b[38;5;28;01mwith\u001b[39;00m workprec(prec):\n\u001b[0;32m     34\u001b[0m     A \u001b[38;5;241m=\u001b[39m mp\u001b[38;5;241m.\u001b[39mmatrix(M\u001b[38;5;241m.\u001b[39mevalf(n\u001b[38;5;241m=\u001b[39mprec_to_dps(prec)))\n\u001b[1;32m---> 35\u001b[0m     E, ER \u001b[38;5;241m=\u001b[39m \u001b[43mmp\u001b[49m\u001b[38;5;241;43m.\u001b[39;49m\u001b[43meig\u001b[49m\u001b[43m(\u001b[49m\u001b[43mA\u001b[49m\u001b[43m)\u001b[49m\n\u001b[0;32m     36\u001b[0m     v2 \u001b[38;5;241m=\u001b[39m norm2([i \u001b[38;5;28;01mfor\u001b[39;00m e \u001b[38;5;129;01min\u001b[39;00m E \u001b[38;5;28;01mfor\u001b[39;00m i \u001b[38;5;129;01min\u001b[39;00m (mp\u001b[38;5;241m.\u001b[39mre(e), mp\u001b[38;5;241m.\u001b[39mim(e))])\n\u001b[0;32m     37\u001b[0m     \u001b[38;5;28;01mif\u001b[39;00m v1 \u001b[38;5;129;01mis\u001b[39;00m \u001b[38;5;129;01mnot\u001b[39;00m \u001b[38;5;28;01mNone\u001b[39;00m \u001b[38;5;129;01mand\u001b[39;00m mp\u001b[38;5;241m.\u001b[39mfabs(v1 \u001b[38;5;241m-\u001b[39m v2) \u001b[38;5;241m<\u001b[39m eps:\n",
      "File \u001b[1;32m~\\anaconda3\\envs\\QWAK\\lib\\site-packages\\mpmath\\matrices\\eigen.py:762\u001b[0m, in \u001b[0;36meig\u001b[1;34m(ctx, A, left, right, overwrite_a)\u001b[0m\n\u001b[0;32m    759\u001b[0m     \u001b[38;5;28;01mfor\u001b[39;00m y \u001b[38;5;129;01min\u001b[39;00m xrange(x \u001b[38;5;241m+\u001b[39m \u001b[38;5;241m2\u001b[39m, n):\n\u001b[0;32m    760\u001b[0m         A[y,x] \u001b[38;5;241m=\u001b[39m \u001b[38;5;241m0\u001b[39m\n\u001b[1;32m--> 762\u001b[0m \u001b[43mhessenberg_qr\u001b[49m\u001b[43m(\u001b[49m\u001b[43mctx\u001b[49m\u001b[43m,\u001b[49m\u001b[43m \u001b[49m\u001b[43mA\u001b[49m\u001b[43m,\u001b[49m\u001b[43m \u001b[49m\u001b[43mQ\u001b[49m\u001b[43m)\u001b[49m\n\u001b[0;32m    764\u001b[0m E \u001b[38;5;241m=\u001b[39m [\u001b[38;5;241m0\u001b[39m \u001b[38;5;28;01mfor\u001b[39;00m i \u001b[38;5;129;01min\u001b[39;00m xrange(n)]\n\u001b[0;32m    765\u001b[0m \u001b[38;5;28;01mfor\u001b[39;00m i \u001b[38;5;129;01min\u001b[39;00m xrange(n):\n",
      "File \u001b[1;32m~\\anaconda3\\envs\\QWAK\\lib\\site-packages\\mpmath\\matrices\\eigen.py:488\u001b[0m, in \u001b[0;36mhessenberg_qr\u001b[1;34m(ctx, A, Q)\u001b[0m\n\u001b[0;32m    485\u001b[0m qr_step(ctx, n0, n1, A, Q, shift)\n\u001b[0;32m    487\u001b[0m \u001b[38;5;28;01mif\u001b[39;00m its \u001b[38;5;241m>\u001b[39m maxits:\n\u001b[1;32m--> 488\u001b[0m     \u001b[38;5;28;01mraise\u001b[39;00m \u001b[38;5;167;01mRuntimeError\u001b[39;00m(\u001b[38;5;124m\"\u001b[39m\u001b[38;5;124mqr: failed to converge after \u001b[39m\u001b[38;5;132;01m%d\u001b[39;00m\u001b[38;5;124m steps\u001b[39m\u001b[38;5;124m\"\u001b[39m \u001b[38;5;241m%\u001b[39m its)\n",
      "\u001b[1;31mRuntimeError\u001b[0m: qr: failed to converge after 253 steps"
     ]
    }
   ],
   "source": [
    "n=3\n",
    "graph = nx.hypercube_graph(n)\n",
    "t = 0\n",
    "initCond = [0]\n",
    "\n",
    "qw = QWAK(graph=graph)\n",
    "print(f'PST: {qw.checkPST(0,7)}')\n",
    "qw.runWalk(time=t,initStateList=initCond)"
   ]
  },
  {
   "cell_type": "code",
   "execution_count": null,
   "id": "144af182-24fa-40aa-83a3-2cd403a1b98a",
   "metadata": {},
   "outputs": [],
   "source": []
  }
 ],
 "metadata": {
  "kernelspec": {
   "display_name": "Python 3 (ipykernel)",
   "language": "python",
   "name": "python3"
  },
  "language_info": {
   "codemirror_mode": {
    "name": "ipython",
    "version": 3
   },
   "file_extension": ".py",
   "mimetype": "text/x-python",
   "name": "python",
   "nbconvert_exporter": "python",
   "pygments_lexer": "ipython3",
   "version": "3.10.9"
  }
 },
 "nbformat": 4,
 "nbformat_minor": 5
}
