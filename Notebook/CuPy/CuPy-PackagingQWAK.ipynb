{
 "cells": [
  {
   "cell_type": "code",
   "execution_count": 1,
   "id": "85dac9d9-4bc5-40c2-b648-55713639563c",
   "metadata": {},
   "outputs": [],
   "source": [
    "import numpy as np\n",
    "import cupy as cp\n",
    "from scipy.linalg import inv, expm\n",
    "import networkx as nx\n",
    "import time\n",
    "import cupyx.scipy.linalg as cpx_scipy\n",
    "from cupyx.profiler import benchmark\n",
    "from matplotlib import pyplot as plt\n",
    "\n",
    "from qwak_cupy.State import State as CState\n",
    "from qwak.State import State as State"
   ]
  },
  {
   "cell_type": "markdown",
   "id": "ee027bf0-de71-4aa9-8f2f-43f29799f45d",
   "metadata": {},
   "source": [
    "# State"
   ]
  },
  {
   "cell_type": "code",
   "execution_count": 2,
   "id": "7e3e106c-4dad-4d29-aa71-a9119afcb0d3",
   "metadata": {
    "jupyter": {
     "source_hidden": true
    }
   },
   "outputs": [],
   "source": [
    "n = 4\n",
    "initNodes = [0,1,2,3]\n",
    "\n",
    "initState = CState(n=n,nodeList=initNodes)\n",
    "initState.buildState()\n",
    "# print(initState.getStateVec())"
   ]
  },
  {
   "cell_type": "code",
   "execution_count": 3,
   "id": "aeaf95fb-dc58-4895-8189-bfcfa626db01",
   "metadata": {
    "jupyter": {
     "source_hidden": true
    }
   },
   "outputs": [],
   "source": [
    "n = 4\n",
    "initNodes = [0,1,2,3]\n",
    "\n",
    "initState = State(n=n,nodeList=initNodes)\n",
    "initState.buildState()\n",
    "# print(initState.getStateVec())"
   ]
  },
  {
   "cell_type": "markdown",
   "id": "02f0d850-14fb-4445-8cab-bfaf641a09d6",
   "metadata": {},
   "source": [
    "# Operator"
   ]
  },
  {
   "cell_type": "code",
   "execution_count": 4,
   "id": "be6d6301-e653-4c64-9990-622a4539c49a",
   "metadata": {
    "jupyter": {
     "source_hidden": true
    }
   },
   "outputs": [],
   "source": [
    "from qwak_cupy.Operator import Operator as COperator\n",
    "from qwak.Operator import Operator as Operator"
   ]
  },
  {
   "cell_type": "code",
   "execution_count": 5,
   "id": "fc5a6758-a31f-4e8e-8b8d-84f1ed3e9d5d",
   "metadata": {
    "jupyter": {
     "source_hidden": true
    }
   },
   "outputs": [],
   "source": [
    "n = 4\n",
    "graph = nx.cycle_graph(n)\n",
    "\n",
    "operator = COperator(graph)\n",
    "operator.buildDiagonalOperator(0.5)\n",
    "# print(operator.getOperator().round(3))"
   ]
  },
  {
   "cell_type": "code",
   "execution_count": 6,
   "id": "f21bd260-6fd1-4a02-af74-89bb261312b5",
   "metadata": {
    "jupyter": {
     "source_hidden": true
    }
   },
   "outputs": [],
   "source": [
    "n = 4\n",
    "graph = nx.cycle_graph(n)\n",
    "\n",
    "operator = Operator(graph)\n",
    "operator.buildDiagonalOperator(0.5)\n",
    "# print(operator.getOperator().round(3))"
   ]
  },
  {
   "cell_type": "markdown",
   "id": "fe64fff6-91b0-4ea6-ad74-9d0d5aaa7a99",
   "metadata": {},
   "source": [
    "# QuantumWalk"
   ]
  },
  {
   "cell_type": "code",
   "execution_count": 7,
   "id": "a8d9ed7b-e340-4871-b533-8f7e44093083",
   "metadata": {
    "jupyter": {
     "source_hidden": true
    }
   },
   "outputs": [],
   "source": [
    "from qwak_cupy.QuantumWalk import QuantumWalk as CQuantumWalk\n",
    "from qwak.QuantumWalk import QuantumWalk as QuantumWalk"
   ]
  },
  {
   "cell_type": "code",
   "execution_count": 8,
   "id": "7d880d7a-c2e7-4c87-bb5d-0e2423fe1ba3",
   "metadata": {},
   "outputs": [],
   "source": [
    "n = 4\n",
    "initNodes = [0,1,2,3]\n",
    "\n",
    "initState = CState(n=n,nodeList=initNodes)\n",
    "initState.buildState()\n",
    "\n",
    "graph = nx.cycle_graph(n)\n",
    "\n",
    "operator = COperator(graph)\n",
    "operator.buildDiagonalOperator(0.5)\n",
    "\n",
    "quantumWalk = CQuantumWalk(initState,operator)\n",
    "quantumWalk.buildWalk()\n",
    "finalState = quantumWalk.getFinalState()\n",
    "# print(finalState.getStateVec().round(3))"
   ]
  },
  {
   "cell_type": "code",
   "execution_count": 9,
   "id": "c8676ded-4cbf-4d9d-a0ee-c1bd31d64e6e",
   "metadata": {
    "jupyter": {
     "source_hidden": true
    }
   },
   "outputs": [],
   "source": [
    "n = 4\n",
    "initNodes = [0,1,2,3]\n",
    "\n",
    "initState = State(n,initNodes)\n",
    "initState.buildState()\n",
    "\n",
    "graph = nx.cycle_graph(n)\n",
    "\n",
    "operator = Operator(graph)\n",
    "operator.buildDiagonalOperator(0.5)\n",
    "\n",
    "quantumWalk = QuantumWalk(initState,operator)\n",
    "quantumWalk.buildWalk()\n",
    "finalState = quantumWalk.getFinalState()\n",
    "# print(finalState.getStateVec().round(3))"
   ]
  },
  {
   "cell_type": "markdown",
   "id": "45462613-5636-4f3a-9065-64fe973019ae",
   "metadata": {},
   "source": [
    "# ProbabilityDistribution"
   ]
  },
  {
   "cell_type": "code",
   "execution_count": 10,
   "id": "4d6e5b2d-4db6-49b4-a11e-a373eee9a8bc",
   "metadata": {},
   "outputs": [],
   "source": [
    "from qwak_cupy.ProbabilityDistribution import ProbabilityDistribution as CProbabilityDistribution\n",
    "from qwak.ProbabilityDistribution import ProbabilityDistribution as ProbabilityDistribution"
   ]
  },
  {
   "cell_type": "code",
   "execution_count": 11,
   "id": "0a4685c7-03d2-4605-8bdd-83ee275693db",
   "metadata": {
    "jupyter": {
     "source_hidden": true
    }
   },
   "outputs": [
    {
     "name": "stdout",
     "output_type": "stream",
     "text": [
      "<class 'qwak_cupy.ProbabilityDistribution.ProbabilityDistribution'>\n",
      "[0.25 0.25 0.25 0.25]\n"
     ]
    }
   ],
   "source": [
    "n = 4\n",
    "initNodes = [0,1,2,3]\n",
    "\n",
    "initState = CState(n=n,nodeList=initNodes)\n",
    "initState.buildState()\n",
    "\n",
    "graph = nx.cycle_graph(n)\n",
    "\n",
    "operator = COperator(graph)\n",
    "operator.buildDiagonalOperator(0.5)\n",
    "\n",
    "quantumWalk = CQuantumWalk(initState,operator)\n",
    "quantumWalk.buildWalk()\n",
    "finalState = quantumWalk.getFinalState()\n",
    "\n",
    "probDist = CProbabilityDistribution(finalState)\n",
    "print(type(probDist))\n",
    "probDist.buildProbDist()\n",
    "print(probDist.getProbVec())\n"
   ]
  },
  {
   "cell_type": "code",
   "execution_count": 12,
   "id": "fd26e8ed-26d1-4be6-9cff-ee64ef90b6a8",
   "metadata": {
    "jupyter": {
     "source_hidden": true
    }
   },
   "outputs": [
    {
     "name": "stdout",
     "output_type": "stream",
     "text": [
      "<class 'qwak.ProbabilityDistribution.ProbabilityDistribution'>\n",
      "[0.25 0.25 0.25 0.25]\n"
     ]
    }
   ],
   "source": [
    "n = 4\n",
    "initNodes = [0,1,2,3]\n",
    "\n",
    "initState = State(n,initNodes)\n",
    "initState.buildState()\n",
    "\n",
    "graph = nx.cycle_graph(n)\n",
    "\n",
    "operator = Operator(graph)\n",
    "operator.buildDiagonalOperator(0.5)\n",
    "\n",
    "quantumWalk = QuantumWalk(initState,operator)\n",
    "quantumWalk.buildWalk()\n",
    "finalState = quantumWalk.getFinalState()\n",
    "\n",
    "probDist = ProbabilityDistribution(finalState)\n",
    "print(type(probDist))\n",
    "probDist.buildProbDist()\n",
    "print(probDist.getProbVec())"
   ]
  },
  {
   "cell_type": "markdown",
   "id": "5cb041b8-84f5-43de-8695-c621c2531d1c",
   "metadata": {},
   "source": [
    "# QWAK"
   ]
  },
  {
   "cell_type": "code",
   "execution_count": 13,
   "id": "98dae945-039a-49ab-a4c1-9e461cef8164",
   "metadata": {},
   "outputs": [],
   "source": [
    "from qwak_cupy.qwak import QWAK as CQWAK\n",
    "from qwak.qwak import QWAK as QWAK"
   ]
  },
  {
   "cell_type": "code",
   "execution_count": 14,
   "id": "60d63028-d401-4ffb-91ff-7b1a71f733dc",
   "metadata": {},
   "outputs": [
    {
     "name": "stdout",
     "output_type": "stream",
     "text": [
      "[0.25 0.25 0.25 0.25]\n",
      "<class 'cupy.ndarray'>\n"
     ]
    }
   ],
   "source": [
    "t = 0.5\n",
    "n = 4\n",
    "graph = nx.cycle_graph(n)\n",
    "initNodes = [0,1,2,3]\n",
    "\n",
    "qw = CQWAK(graph)\n",
    "qw.runWalk(t, initNodes)\n",
    "print(qw.getProbVec())\n",
    "print(type(qw.getProbVec()))"
   ]
  },
  {
   "cell_type": "code",
   "execution_count": 15,
   "id": "f85b6d74-43d4-461d-876b-2a32e410d55c",
   "metadata": {},
   "outputs": [
    {
     "name": "stdout",
     "output_type": "stream",
     "text": [
      "[0.25 0.25 0.25 0.25]\n",
      "<class 'numpy.ndarray'>\n"
     ]
    }
   ],
   "source": [
    "t = 0.5\n",
    "n = 4\n",
    "graph = nx.cycle_graph(n)\n",
    "initNodes = [0,1,2,3]\n",
    "\n",
    "qw = QWAK(graph)\n",
    "qw.runWalk(t, initNodes)\n",
    "print(qw.getProbVec())\n",
    "print(type(qw.getProbVec()))"
   ]
  },
  {
   "cell_type": "code",
   "execution_count": 16,
   "id": "6cd89ec1-bac2-464e-bb9b-80703bb1ca39",
   "metadata": {},
   "outputs": [
    {
     "name": "stdout",
     "output_type": "stream",
     "text": [
      "[0.17701835 0.5931328  0.17701835 0.05283049]\n",
      "<class 'cupy.ndarray'>\n"
     ]
    }
   ],
   "source": [
    "t = 0.5\n",
    "n = 4\n",
    "graph = nx.cycle_graph(n)\n",
    "initNodes = [1]\n",
    "\n",
    "qw = CQWAK(graph)\n",
    "qw.runExpmWalk(t, initNodes)\n",
    "print(qw.getProbVec())\n",
    "print(type(qw.getProbVec()))"
   ]
  },
  {
   "cell_type": "code",
   "execution_count": 17,
   "id": "218d57ff-f6cc-4185-9676-0c865c22edb3",
   "metadata": {},
   "outputs": [
    {
     "name": "stdout",
     "output_type": "stream",
     "text": [
      "[array([9.86737575e-03, 9.80165913e-01, 9.86737575e-03, 9.93353297e-05]), array([0.17701835, 0.5931328 , 0.17701835, 0.05283049]), array([0.20670545, 0.08522113, 0.20670545, 0.50136797])]\n"
     ]
    }
   ],
   "source": [
    "tList = [0.1,0.5,1]\n",
    "n = 4\n",
    "graph = nx.cycle_graph(n)\n",
    "initNodes = [1]\n",
    "\n",
    "qw = CQWAK(graph)\n",
    "qw.runMultipleWalks(tList, initNodes)\n",
    "\n",
    "probVecList = qw.getProbVecList()\n",
    "print(probVecList)"
   ]
  },
  {
   "cell_type": "code",
   "execution_count": 18,
   "id": "7830890a-5749-44a0-9e74-9b0fc03be52c",
   "metadata": {},
   "outputs": [
    {
     "name": "stdout",
     "output_type": "stream",
     "text": [
      "[array([9.86737575e-03, 9.80165913e-01, 9.86737575e-03, 9.93353297e-05]), array([0.17701835, 0.5931328 , 0.17701835, 0.05283049]), array([0.20670543, 0.08522112, 0.20670543, 0.50136798])]\n"
     ]
    }
   ],
   "source": [
    "tList = [0.1,0.5,1]\n",
    "n = 4\n",
    "graph = nx.cycle_graph(n)\n",
    "initNodes = [1]\n",
    "\n",
    "qw = CQWAK(graph)\n",
    "qw.runMultipleExpmWalks(tList, initNodes)\n",
    "\n",
    "probVecList = qw.getProbVecList()\n",
    "print(probVecList)"
   ]
  },
  {
   "cell_type": "code",
   "execution_count": 19,
   "id": "fce0f985-46fe-4048-8a6d-13524754e3bd",
   "metadata": {},
   "outputs": [
    {
     "name": "stdout",
     "output_type": "stream",
     "text": [
      "[array([9.86737575e-03, 9.80165913e-01, 9.86737575e-03, 9.93353297e-05]), array([0.17701835, 0.5931328 , 0.17701835, 0.05283049]), array([0.20670545, 0.08522113, 0.20670545, 0.50136797])]\n",
      "[]\n"
     ]
    }
   ],
   "source": [
    "tList = [0.1,0.5,1]\n",
    "n = 4\n",
    "graph = nx.cycle_graph(n)\n",
    "initNodes = [1]\n",
    "\n",
    "qw = CQWAK(graph)\n",
    "qw.runMultipleWalks(tList, initNodes)\n",
    "\n",
    "probVecList = qw.getProbVecList()\n",
    "print(qw.getProbVecList())\n",
    "qw.resetWalk()\n",
    "print(qw.getProbVecList())\n"
   ]
  },
  {
   "cell_type": "code",
   "execution_count": 20,
   "id": "59a5b182-30a5-489a-b4ec-7a5ead0efac7",
   "metadata": {},
   "outputs": [
    {
     "name": "stdout",
     "output_type": "stream",
     "text": [
      "4\n",
      "Graph with 4 nodes and 4 edges\n",
      "5\n",
      "Graph with 5 nodes and 5 edges\n"
     ]
    }
   ],
   "source": [
    "tList = [0.1,0.5,1]\n",
    "n = 4\n",
    "graph = nx.cycle_graph(n)\n",
    "initNodes = [1]\n",
    "\n",
    "qw = CQWAK(graph)\n",
    "\n",
    "print(qw.getDim())\n",
    "print(qw.getGraph())\n",
    "qw.setDim(5, graph = nx.cycle_graph(5))\n",
    "print(qw.getDim())\n",
    "print(qw.getGraph())"
   ]
  },
  {
   "cell_type": "code",
   "execution_count": 21,
   "id": "2cd1397f-c3ed-4fee-afe1-5889aaa79695",
   "metadata": {},
   "outputs": [
    {
     "data": {
      "image/png": "[encoded data removed]",
      "text/plain": [
       "<Figure size 800x600 with 1 Axes>"
      ]
     },
     "metadata": {},
     "output_type": "display_data"
    },
    {
     "data": {
      "image/png": "[encoded data removed]",
      "text/plain": [
       "<Figure size 800x600 with 1 Axes>"
      ]
     },
     "metadata": {},
     "output_type": "display_data"
    }
   ],
   "source": [
    "A = np.array([\n",
    "    [0, 1, 1, 0],\n",
    "    [1, 0, 1, 1],\n",
    "    [1, 1, 0, 1],\n",
    "    [0, 1, 1, 0]\n",
    "])\n",
    "\n",
    "# Create a graph from the adjacency matrix\n",
    "# G = nx.from_numpy_array(A)\n",
    "\n",
    "# Plot the graph without edge weights\n",
    "# pos = nx.spring_layout(G, seed=42)\n",
    "# plt.figure(figsize=(8, 6))\n",
    "# nx.draw(G, pos, with_labels=True, node_color=\"lightblue\", node_size=700, font_size=14, font_weight=\"bold\")\n",
    "# plt.title(\"Hardcoded Unweighted Graph with 4 Nodes\")\n",
    "# plt.show()\n",
    "\n",
    "\n",
    "tList = [0.1,0.5,1]\n",
    "n = 4\n",
    "graph = nx.cycle_graph(n)\n",
    "initNodes = [1]\n",
    "\n",
    "qw = CQWAK(graph)\n",
    "G = qw.getGraph()\n",
    "pos = nx.spring_layout(G, seed=42)\n",
    "plt.figure(figsize=(8, 6))\n",
    "nx.draw(G, pos, with_labels=True, node_color=\"lightblue\", node_size=700, font_size=14, font_weight=\"bold\")\n",
    "plt.title(\"Hardcoded Unweighted Graph with 4 Nodes\")\n",
    "plt.show()\n",
    "\n",
    "qw.setCustomGraph(A)\n",
    "G = qw.getGraph()\n",
    "pos = nx.spring_layout(G, seed=42)\n",
    "plt.figure(figsize=(8, 6))\n",
    "nx.draw(G, pos, with_labels=True, node_color=\"lightblue\", node_size=700, font_size=14, font_weight=\"bold\")\n",
    "plt.title(\"Hardcoded Unweighted Graph with 4 Nodes\")\n",
    "plt.show()"
   ]
  },
  {
   "cell_type": "code",
   "execution_count": 22,
   "id": "9379e7c6-9ae6-47ce-95bb-11cde550c126",
   "metadata": {},
   "outputs": [
    {
     "name": "stdout",
     "output_type": "stream",
     "text": [
      "[0.1, 0.5, 1]\n",
      "<class 'list'>\n",
      "[2.0, 2.6666666666666665, 3.333333333333333, 4.0]\n",
      "<class 'list'>\n"
     ]
    }
   ],
   "source": [
    "tList = [0.1,0.5,1]\n",
    "n = 4\n",
    "graph = nx.cycle_graph(n)\n",
    "initNodes = [1]\n",
    "\n",
    "qw = CQWAK(graph,timeList=tList)\n",
    "print(qw.getTimeList())\n",
    "print(type(qw.getTimeList()))\n",
    "\n",
    "qw.setTimeList([2,4])\n",
    "print(qw.getTimeList())\n",
    "print(type(qw.getTimeList()))\n"
   ]
  },
  {
   "cell_type": "code",
   "execution_count": 23,
   "id": "e3c00521-fd28-4893-a771-bf6cb6c356f8",
   "metadata": {},
   "outputs": [
    {
     "name": "stdout",
     "output_type": "stream",
     "text": [
      "[[0.+0.j 1.+0.j 0.+0.j 1.+0.j]\n",
      " [1.+0.j 0.+0.j 1.+0.j 0.+0.j]\n",
      " [0.+0.j 1.+0.j 0.+0.j 1.+0.j]\n",
      " [1.+0.j 0.+0.j 1.+0.j 0.+0.j]]\n",
      "\n",
      "[[0.+0.j 1.+0.j 1.+0.j 0.+0.j]\n",
      " [1.+0.j 0.+0.j 1.+0.j 1.+0.j]\n",
      " [1.+0.j 1.+0.j 0.+0.j 1.+0.j]\n",
      " [0.+0.j 1.+0.j 1.+0.j 0.+0.j]]\n"
     ]
    }
   ],
   "source": [
    "A = np.array([\n",
    "    [0, 1, 1, 0],\n",
    "    [1, 0, 1, 1],\n",
    "    [1, 1, 0, 1],\n",
    "    [0, 1, 1, 0]\n",
    "])\n",
    "\n",
    "\n",
    "tList = [0.1,0.5,1]\n",
    "n = 4\n",
    "graph = nx.cycle_graph(n)\n",
    "initNodes = [1]\n",
    "\n",
    "qw = CQWAK(graph)\n",
    "print(qw.getAdjacencyMatrix())\n",
    "\n",
    "qw.setAdjacencyMatrix(A)\n",
    "\n",
    "print()\n",
    "print(qw.getAdjacencyMatrix())"
   ]
  },
  {
   "cell_type": "code",
   "execution_count": 24,
   "id": "e7fef73a-cd64-4334-aa45-13423f0a8310",
   "metadata": {},
   "outputs": [
    {
     "name": "stdout",
     "output_type": "stream",
     "text": [
      "[[ 0.-0.j -1.-0.j  0.-0.j -1.-0.j]\n",
      " [-1.-0.j  0.-0.j -1.-0.j  0.-0.j]\n",
      " [ 0.-0.j -1.-0.j  0.-0.j -1.-0.j]\n",
      " [-1.-0.j  0.-0.j -1.-0.j  0.-0.j]]\n",
      "\n",
      "[[ 0.-0.j -1.-0.j  0.-0.j -1.-0.j -1.-0.j  0.-0.j  0.-0.j  0.-0.j]\n",
      " [-1.-0.j  0.-0.j -1.-0.j  0.-0.j  0.-0.j -1.-0.j  0.-0.j  0.-0.j]\n",
      " [ 0.-0.j -1.-0.j  0.-0.j -1.-0.j  0.-0.j  0.-0.j -1.-0.j  0.-0.j]\n",
      " [-1.-0.j  0.-0.j -1.-0.j  0.-0.j  0.-0.j  0.-0.j  0.-0.j -1.-0.j]\n",
      " [-1.-0.j  0.-0.j  0.-0.j  0.-0.j  0.-0.j -1.-0.j  0.-0.j -1.-0.j]\n",
      " [ 0.-0.j -1.-0.j  0.-0.j  0.-0.j -1.-0.j  0.-0.j -1.-0.j  0.-0.j]\n",
      " [ 0.-0.j  0.-0.j -1.-0.j  0.-0.j  0.-0.j -1.-0.j  0.-0.j -1.-0.j]\n",
      " [ 0.-0.j  0.-0.j  0.-0.j -1.-0.j -1.-0.j  0.-0.j -1.-0.j  0.-0.j]]\n"
     ]
    }
   ],
   "source": [
    "tList = [0.1,0.5,1]\n",
    "n = 4\n",
    "graph = nx.cycle_graph(n)\n",
    "initNodes = [1]\n",
    "\n",
    "qw = CQWAK(graph)\n",
    "print(qw.getHamiltonian())\n",
    "\n",
    "qw2 = CQWAK(nx.circular_ladder_graph(4))\n",
    "\n",
    "qw.setHamiltonian(qw2.getHamiltonian())\n",
    "\n",
    "print()\n",
    "print(qw.getHamiltonian())"
   ]
  },
  {
   "cell_type": "code",
   "execution_count": 25,
   "id": "b18a23c5-247e-476d-aba9-ca7b9dbaa23f",
   "metadata": {},
   "outputs": [
    {
     "name": "stdout",
     "output_type": "stream",
     "text": [
      "[[ 1.00000000e+00+0.j  1.84889275e-32+0.j  2.77555756e-17+0.j\n",
      "  -8.32667268e-17+0.j]\n",
      " [ 1.84889275e-32+0.j  1.00000000e+00+0.j  8.32667268e-17+0.j\n",
      "   2.46519033e-32+0.j]\n",
      " [ 2.77555756e-17+0.j  8.32667268e-17+0.j  1.00000000e+00+0.j\n",
      "  -2.77555756e-17+0.j]\n",
      " [-8.32667268e-17+0.j  2.46519033e-32+0.j -2.77555756e-17+0.j\n",
      "   1.00000000e+00+0.j]]\n",
      "\n",
      "[[ 1.00000000e+00+0.j -2.75999935e-17+0.j  5.53555691e-17+0.j\n",
      "  -6.11039370e-17+0.j -6.11039370e-17+0.j  1.02737300e-16+0.j\n",
      "  -4.96072012e-17+0.j  1.02737300e-16+0.j]\n",
      " [-2.75999935e-17+0.j  1.00000000e+00+0.j -4.72261492e-17+0.j\n",
      "  -3.02922097e-17+0.j -3.02922097e-17+0.j  1.41314512e-16+0.j\n",
      "   1.37222057e-17+0.j  2.53663409e-18+0.j]\n",
      " [ 5.53555691e-17+0.j -4.72261492e-17+0.j  1.00000000e+00+0.j\n",
      "   3.02922097e-17+0.j  1.41314512e-16+0.j -5.80477853e-17+0.j\n",
      "  -4.14777813e-17+0.j -5.80477853e-17+0.j]\n",
      " [-6.11039370e-17+0.j -3.02922097e-17+0.j  3.02922097e-17+0.j\n",
      "   1.00000000e+00+0.j -3.84216296e-17+0.j  3.84216296e-17+0.j\n",
      "  -8.28500202e-18+0.j -1.70895216e-17+0.j]\n",
      " [-6.11039370e-17+0.j -3.02922097e-17+0.j  1.41314512e-16+0.j\n",
      "  -3.84216296e-17+0.j  1.00000000e+00+0.j -1.70895216e-17+0.j\n",
      "  -8.28500202e-18+0.j  3.84216296e-17+0.j]\n",
      " [ 1.02737300e-16+0.j  1.41314512e-16+0.j -5.80477853e-17+0.j\n",
      "   3.84216296e-17+0.j -1.70895216e-17+0.j  1.00000000e+00+0.j\n",
      "  -3.33483614e-17+0.j  1.00356248e-16+0.j]\n",
      " [-4.96072012e-17+0.j  1.37222057e-17+0.j -4.14777813e-17+0.j\n",
      "  -8.28500202e-18+0.j -8.28500202e-18+0.j -3.33483614e-17+0.j\n",
      "   1.00000000e+00+0.j -3.33483614e-17+0.j]\n",
      " [ 1.02737300e-16+0.j  2.53663409e-18+0.j -5.80477853e-17+0.j\n",
      "  -1.70895216e-17+0.j  3.84216296e-17+0.j  1.00356248e-16+0.j\n",
      "  -3.33483614e-17+0.j  1.00000000e+00+0.j]]\n"
     ]
    }
   ],
   "source": [
    "tList = [0.1,0.5,1]\n",
    "n = 4\n",
    "graph = nx.cycle_graph(n)\n",
    "initNodes = [1]\n",
    "\n",
    "qw = CQWAK(graph)\n",
    "qw.runWalk(0)\n",
    "print(qw.getOperator())\n",
    "\n",
    "qw2 = CQWAK(nx.circular_ladder_graph(4))\n",
    "qw2.runWalk(0)\n",
    "\n",
    "qw.setOperator(qw2.getOperator())\n",
    "\n",
    "print()\n",
    "print(qw.getOperator())"
   ]
  },
  {
   "cell_type": "code",
   "execution_count": 26,
   "id": "6b3e583f-e302-4dc4-a8cc-effcf26cd88b",
   "metadata": {},
   "outputs": [
    {
     "name": "stdout",
     "output_type": "stream",
     "text": [
      "[[ 1.10652721e-18+9.93346654e-02j]\n",
      " [ 9.90033289e-01-3.87839389e-17j]\n",
      " [ 1.12128830e-16+9.93346654e-02j]\n",
      " [-9.96671108e-03-1.79672572e-17j]]\n",
      "\n",
      "[[-9.96671108e-03+2.63308633e-17j]\n",
      " [ 1.10469039e-16+9.93346654e-02j]\n",
      " [ 9.90033289e-01+5.40864390e-17j]\n",
      " [-2.83088392e-17+9.93346654e-02j]]\n"
     ]
    }
   ],
   "source": [
    "tList = [0.1,0.5,1]\n",
    "n = 4\n",
    "graph = nx.cycle_graph(n)\n",
    "initNodes = [1]\n",
    "\n",
    "qw = CQWAK(graph)\n",
    "qw.runWalk(0.1,initStateList = initNodes)\n",
    "print(qw.getWalk())\n",
    "\n",
    "qw2 = CQWAK(graph)\n",
    "qw2.runWalk(0.1, initStateList = [2])\n",
    "\n",
    "qw.setWalk(qw2.getWalk())\n",
    "\n",
    "print()\n",
    "print(qw.getWalk())"
   ]
  },
  {
   "cell_type": "code",
   "execution_count": 27,
   "id": "6f919f03-74b6-4328-b68d-a73558d392de",
   "metadata": {},
   "outputs": [
    {
     "name": "stdout",
     "output_type": "stream",
     "text": [
      "(1.1065272120113604e-18+0.09933466539753062j)\n",
      "\n",
      "0.009867375749639367\n"
     ]
    }
   ],
   "source": [
    "tList = [0.1,0.5,1]\n",
    "n = 4\n",
    "graph = nx.cycle_graph(n)\n",
    "initNodes = [1]\n",
    "\n",
    "qw = CQWAK(graph)\n",
    "qw.runWalk(0.1,initStateList = initNodes)\n",
    "print(qw.searchNodeAmplitude(0))\n",
    "\n",
    "print()\n",
    "print(qw.searchNodeProbability(0))"
   ]
  },
  {
   "cell_type": "code",
   "execution_count": 28,
   "id": "f46a1c73-3773-49f3-8f24-1126ae31b7be",
   "metadata": {},
   "outputs": [
    {
     "name": "stdout",
     "output_type": "stream",
     "text": [
      "1.0001986706594785\n",
      "1.00019867065948\n"
     ]
    }
   ],
   "source": [
    "tList = [0.1,0.5,1]\n",
    "n = 4\n",
    "graph = nx.cycle_graph(n)\n",
    "initNodes = [1]\n",
    "\n",
    "qw = QWAK(graph)\n",
    "qw.runWalk(0.1,initStateList = initNodes)\n",
    "print(qw.getMean())\n",
    "\n",
    "qw = CQWAK(graph)\n",
    "qw.runWalk(0.1,initStateList = initNodes)\n",
    "print(qw.getMean())\n"
   ]
  },
  {
   "cell_type": "code",
   "execution_count": 29,
   "id": "72fc80c7-1871-4e84-90df-ee28c44c1032",
   "metadata": {},
   "outputs": [
    {
     "name": "stdout",
     "output_type": "stream",
     "text": [
      "[1.0001986706594785, 1.1056609849950738, 2.002735931331238]\n",
      "[1.00019867065948, 1.1056609849950754, 2.0027359313312414]\n"
     ]
    }
   ],
   "source": [
    "tList = [0.1,0.5,1]\n",
    "n = 4\n",
    "graph = nx.cycle_graph(n)\n",
    "initNodes = [1]\n",
    "\n",
    "qw = QWAK(graph)\n",
    "qw.runMultipleWalks(tList,initStateList = initNodes)\n",
    "print(qw.getMeanList())\n",
    "\n",
    "qw = CQWAK(graph)\n",
    "qw.runMultipleWalks(tList,initStateList = initNodes)\n",
    "print(qw.getMeanList())\n"
   ]
  },
  {
   "cell_type": "code",
   "execution_count": 30,
   "id": "272d64f6-ddaf-41bb-a0a7-8fb8c99eb517",
   "metadata": {},
   "outputs": [
    {
     "name": "stdout",
     "output_type": "stream",
     "text": [
      "0.1418874671992143\n",
      "0.1418874671992088\n"
     ]
    }
   ],
   "source": [
    "tList = [0.1,0.5,1]\n",
    "n = 4\n",
    "graph = nx.cycle_graph(n)\n",
    "initNodes = [1]\n",
    "\n",
    "qw = QWAK(graph)\n",
    "qw.runWalk(0.1,initStateList = initNodes)\n",
    "print(qw.getStDev())\n",
    "\n",
    "qw = CQWAK(graph)\n",
    "qw.runWalk(0.1,initStateList = initNodes)\n",
    "print(qw.getStDev())\n"
   ]
  },
  {
   "cell_type": "code",
   "execution_count": 31,
   "id": "55d37726-520e-4923-ae6a-6bb2f3225f7e",
   "metadata": {},
   "outputs": [
    {
     "name": "stdout",
     "output_type": "stream",
     "text": [
      "[np.float64(0.1418874671992143), np.float64(0.7444423653828456), np.float64(1.1888664432541007)]\n",
      "[array(0.14188747), array(0.74444237), array(1.18886644)]\n"
     ]
    }
   ],
   "source": [
    "tList = [0.1,0.5,1]\n",
    "n = 4\n",
    "graph = nx.cycle_graph(n)\n",
    "initNodes = [1]\n",
    "\n",
    "qw = QWAK(graph)\n",
    "qw.runMultipleWalks(tList,initStateList = initNodes)\n",
    "print(qw.getStDevList())\n",
    "\n",
    "qw = CQWAK(graph)\n",
    "qw.runMultipleWalks(tList,initStateList = initNodes)\n",
    "print(qw.getStDevList())\n"
   ]
  },
  {
   "cell_type": "code",
   "execution_count": null,
   "id": "ff0a2ac1-b2c7-41cc-9ad1-034ca8c32e58",
   "metadata": {},
   "outputs": [],
   "source": []
  }
 ],
 "metadata": {
  "kernelspec": {
   "display_name": "Python 3 (ipykernel)",
   "language": "python",
   "name": "python3"
  },
  "language_info": {
   "codemirror_mode": {
    "name": "ipython",
    "version": 3
   },
   "file_extension": ".py",
   "mimetype": "text/x-python",
   "name": "python",
   "nbconvert_exporter": "python",
   "pygments_lexer": "ipython3",
   "version": "3.12.2"
  }
 },
 "nbformat": 4,
 "nbformat_minor": 5
}
