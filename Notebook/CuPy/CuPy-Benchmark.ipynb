{
 "cells": [
  {
   "cell_type": "code",
   "execution_count": 1,
   "id": "08a27a9d-1416-442b-9ef7-46373fc00f43",
   "metadata": {},
   "outputs": [],
   "source": [
    "import numpy as np\n",
    "import cupy as cp\n",
    "from scipy.linalg import inv, expm\n",
    "import networkx as nx\n",
    "import time\n",
    "import cupyx.scipy.linalg as cpx_scipy\n",
    "from cupyx.profiler import benchmark\n",
    "from matplotlib import pyplot as plt\n",
    "\n",
    "from qwak_cupy.QWAK import QWAK as CQWAK\n",
    "from qwak.QWAK import QWAK as QWAK"
   ]
  },
  {
   "cell_type": "markdown",
   "id": "5eef7337-8260-4757-bc2a-85bc042bc8c2",
   "metadata": {},
   "source": [
    "# Simple Benchmark"
   ]
  },
  {
   "cell_type": "code",
   "execution_count": null,
   "id": "fb265094-2044-4a35-ba10-7c0f782ccf30",
   "metadata": {},
   "outputs": [],
   "source": [
    "t = 0.5\n",
    "n = 1000\n",
    "graph = nx.cycle_graph(n)\n",
    "initNodes = [n//2]\n",
    "\n",
    "qw = CQWAK(graph)\n",
    "qw.runWalk(t, initNodes)\n",
    "print(qw.getProbVec())\n",
    "print(type(qw.getProbVec()))"
   ]
  }
 ],
 "metadata": {
  "kernelspec": {
   "display_name": "Python 3 (ipykernel)",
   "language": "python",
   "name": "python3"
  },
  "language_info": {
   "codemirror_mode": {
    "name": "ipython",
    "version": 3
   },
   "file_extension": ".py",
   "mimetype": "text/x-python",
   "name": "python",
   "nbconvert_exporter": "python",
   "pygments_lexer": "ipython3",
   "version": "3.12.2"
  }
 },
 "nbformat": 4,
 "nbformat_minor": 5
}
