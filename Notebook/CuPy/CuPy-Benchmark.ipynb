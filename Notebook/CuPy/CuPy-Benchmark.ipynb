{
 "cells": [
  {
   "cell_type": "code",
   "execution_count": 5,
   "id": "08a27a9d-1416-442b-9ef7-46373fc00f43",
   "metadata": {},
   "outputs": [],
   "source": [
    "import numpy as np\n",
    "import cupy as cp\n",
    "from scipy.linalg import inv, expm\n",
    "import networkx as nx\n",
    "import time\n",
    "import cupyx.scipy.linalg as cpx_scipy\n",
    "from cupyx.profiler import benchmark\n",
    "from matplotlib import pyplot as plt\n",
    "\n",
    "from qwak_cupy.qwak import QWAK as CQWAK\n",
    "from qwak.qwak import QWAK as QWAK"
   ]
  },
  {
   "cell_type": "markdown",
   "id": "5eef7337-8260-4757-bc2a-85bc042bc8c2",
   "metadata": {},
   "source": [
    "# Simple Benchmark"
   ]
  },
  {
   "cell_type": "markdown",
   "id": "a730b8cd-1c91-4bc1-9e1a-4b0f7047aa0b",
   "metadata": {},
   "source": [
    "## QWAK"
   ]
  },
  {
   "cell_type": "code",
   "execution_count": 57,
   "id": "3d0084c0-fd35-41ee-bed6-1c72a9af7495",
   "metadata": {},
   "outputs": [
    {
     "name": "stdout",
     "output_type": "stream",
     "text": [
      "QWAK time = 0.4200100898742676\n"
     ]
    }
   ],
   "source": [
    "t = 100\n",
    "n = 500\n",
    "graph = nx.cycle_graph(n)\n",
    "initNodes = [n//2]\n",
    "\n",
    "start_time = time.time()\n",
    "qw = QWAK(graph)\n",
    "qw.runWalk(t, initNodes)\n",
    "end_time = time.time()\n",
    "qwak_time = end_time - start_time\n",
    "print(f\"QWAK time = {qwak_time}\")"
   ]
  },
  {
   "cell_type": "markdown",
   "id": "6f8861f1-ee7c-4ee2-b8b2-bb03b4890244",
   "metadata": {},
   "source": [
    "## QWAK CuPy"
   ]
  },
  {
   "cell_type": "markdown",
   "id": "0bc82348-738b-41fa-a250-cfde3ea2cc0b",
   "metadata": {},
   "source": [
    "## "
   ]
  },
  {
   "cell_type": "code",
   "execution_count": 43,
   "id": "e474666a-a54a-4c10-a061-6801bcb17b10",
   "metadata": {},
   "outputs": [
    {
     "name": "stdout",
     "output_type": "stream",
     "text": [
      "Are the two arrays approximately equal? True\n"
     ]
    }
   ],
   "source": [
    "qw_probVec = qw.getProbVec()\n",
    "qw_cupy_probVec = qw_cupy.getProbVec()\n",
    "\n",
    "# Convert the CuPy array to a NumPy array\n",
    "qw_cupy_probVec_toNp = cp.asnumpy(qw_cupy_probVec)\n",
    "\n",
    "# Compare the two arrays using np.allclose\n",
    "are_close = np.allclose(qw_probVec, qw_cupy_probVec_toNp, atol=1e-7)\n",
    "\n",
    "# Print the result of the comparison\n",
    "print(f\"Are the two arrays approximately equal? {are_close}\")\n",
    "# print(qw_probVec)"
   ]
  },
  {
   "cell_type": "markdown",
   "id": "635d6164-f9b8-4bf2-857f-0bfd0ff4a81a",
   "metadata": {},
   "source": [
    "## Operator Hamiltonian Equality Test"
   ]
  },
  {
   "cell_type": "code",
   "execution_count": 42,
   "id": "0053fc9d-3f9d-4215-9c2c-91cc19404b68",
   "metadata": {},
   "outputs": [
    {
     "name": "stdout",
     "output_type": "stream",
     "text": [
      "Are the two arrays approximately equal? True\n"
     ]
    }
   ],
   "source": [
    "qw_hamiltonian = qw.getHamiltonian()\n",
    "qw_cupy_hamiltonian = qw_cupy.getHamiltonian()\n",
    "\n",
    "# Convert the CuPy array to a NumPy array\n",
    "qw_cupy_hamiltonian_toNp = cp.asnumpy(qw_cupy_hamiltonian)\n",
    "\n",
    "# Compare the two arrays using np.allclose\n",
    "are_close = np.allclose(qw_hamiltonian, qw_cupy_hamiltonian_toNp, atol=1e-7)\n",
    "\n",
    "# Print the result of the comparison\n",
    "print(f\"Are the two arrays approximately equal? {are_close}\")\n",
    "# print(qw_hamiltonian)\n",
    "# print()\n",
    "# print(qw_cupy_hamiltonian)"
   ]
  },
  {
   "cell_type": "code",
   "execution_count": 44,
   "id": "891dbb84-edc5-456f-8310-d0230a3bdba1",
   "metadata": {},
   "outputs": [],
   "source": [
    "qw_cupy_probVec_toNp = cp.asnumpy(qw_cupy.getProbVec())\n",
    "\n",
    "# plt.plot(qw.getProbVec())\n",
    "# plt.plot(qw_cupy_probVec_toNp,linestyle='dashed')"
   ]
  },
  {
   "cell_type": "markdown",
   "id": "bcbef15d-8492-4bd7-8f62-f9e7c4171e4b",
   "metadata": {},
   "source": [
    "# Multiple Simple Walks"
   ]
  },
  {
   "cell_type": "code",
   "execution_count": 70,
   "id": "156d14c9-99c2-4bc9-902c-16edd21ce7a4",
   "metadata": {},
   "outputs": [
    {
     "name": "stdout",
     "output_type": "stream",
     "text": [
      "Running NP QWAK 100 walks up to n = 498\n",
      "Running CuPy QWAK 100 walks up to n = 498\n",
      "----> Calculating CuPy QWAK for n = 498\r"
     ]
    }
   ],
   "source": [
    "def runMultipleSimpleQWAK(nList,t):\n",
    "    qwList = []\n",
    "    tList = []\n",
    "    print(f\"Running NP QWAK {len(nList)} walks up to n = {nList[-1]}\")\n",
    "    for n in nList:\n",
    "        print(f\"----> Calculating NP QWAK for n = {n}\",end='\\r')\n",
    "        start_time = time.time()\n",
    "        initNodes = [n//2]\n",
    "        qw = QWAK(nx.cycle_graph(n))\n",
    "        qw.runWalk(t, initNodes)\n",
    "        end_time = time.time()\n",
    "        qwak_time = end_time - start_time\n",
    "        qwList.append(qw)\n",
    "        tList.append(qwak_time)\n",
    "    return tList, qwList\n",
    "\n",
    "def runMultipleSimpleQWAK_cupy(nList,t):\n",
    "    qwList = []\n",
    "    tList = []\n",
    "    print(f\"Running CuPy QWAK {len(nList)} walks up to n = {nList[-1]}\")\n",
    "    for n in nList:\n",
    "        print(f\"----> Calculating CuPy QWAK for n = {n}\",end='\\r')\n",
    "        start_time = time.time()\n",
    "        initNodes = [n//2]\n",
    "        qw = CQWAK(nx.cycle_graph(n))\n",
    "        qw.runWalk(t, initNodes)\n",
    "        end_time = time.time()\n",
    "        qwak_time = end_time - start_time\n",
    "        qwList.append(qw)\n",
    "        tList.append(qwak_time)\n",
    "    return tList, qwList\n",
    "\n",
    "\n",
    "\n",
    "t = 50\n",
    "nMax = 500\n",
    "nList = list(range(3,nMax,5))\n",
    "samples = 1\n",
    "\n",
    "tList, qwList = runMultipleSimpleQWAK(nList,t)\n",
    "tList_cupy, qwList_cupy = runMultipleSimpleQWAK_cupy(nList,t)"
   ]
  },
  {
   "cell_type": "code",
   "execution_count": 63,
   "id": "889c1d41-8319-4d99-87cd-f5ccfd73372c",
   "metadata": {},
   "outputs": [
    {
     "data": {
      "text/plain": [
       "<matplotlib.legend.Legend at 0x2905b951250>"
      ]
     },
     "execution_count": 63,
     "metadata": {},
     "output_type": "execute_result"
    },
    {
     "data": {
      "image/png": "[encoded data removed]",
      "text/plain": [
       "<Figure size 640x480 with 1 Axes>"
      ]
     },
     "metadata": {},
     "output_type": "display_data"
    }
   ],
   "source": [
    "plt.plot(tList,label='QWAK CPU_NumPy')\n",
    "plt.plot(tList_cupy,label='QWAK GPU_CuPy')\n",
    "plt.legend()"
   ]
  },
  {
   "cell_type": "code",
   "execution_count": null,
   "id": "4067cd25-dad3-471e-8a8f-e861bb4f72ce",
   "metadata": {},
   "outputs": [],
   "source": []
  }
 ],
 "metadata": {
  "kernelspec": {
   "display_name": "Python 3 (ipykernel)",
   "language": "python",
   "name": "python3"
  },
  "language_info": {
   "codemirror_mode": {
    "name": "ipython",
    "version": 3
   },
   "file_extension": ".py",
   "mimetype": "text/x-python",
   "name": "python",
   "nbconvert_exporter": "python",
   "pygments_lexer": "ipython3",
   "version": "3.12.2"
  }
 },
 "nbformat": 4,
 "nbformat_minor": 5
}
