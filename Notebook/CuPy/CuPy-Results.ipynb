{
 "cells": [
  {
   "cell_type": "code",
   "execution_count": 1,
   "id": "09b9e021-ecc3-4029-aedb-108da0412fec",
   "metadata": {},
   "outputs": [],
   "source": [
    "import numpy as np\n",
    "import cupy as cp\n",
    "from scipy.linalg import inv, expm\n",
    "import networkx as nx\n",
    "import time\n",
    "import cupyx.scipy.linalg as cpx_scipy\n",
    "from cupyx.profiler import benchmark\n",
    "from matplotlib import pyplot as plt\n",
    "import os\n",
    "import json\n",
    "\n",
    "from qwak_cupy.qwak import QWAK as CQWAK\n",
    "from qwak.qwak import QWAK as QWAK\n",
    "from utils.plotTools import plot_qwak"
   ]
  },
  {
   "cell_type": "code",
   "execution_count": 2,
   "id": "fad57072-3a89-4032-9bd6-62ba45444134",
   "metadata": {},
   "outputs": [],
   "source": [
    "def load_list_from_file(file_path):\n",
    "    with open(file_path, 'r') as file:\n",
    "        data_str = file.read()\n",
    "    data = [json.loads(line) for line in data_str.splitlines()]\n",
    "    return data\n",
    "\n",
    "def write_list_to_file(file_path, data):\n",
    "    data_str = [str(item) for item in data]  # Convert float values to strings\n",
    "    with open(file_path, 'w') as file:\n",
    "        file.write('\\n'.join(data_str))"
   ]
  },
  {
   "cell_type": "code",
   "execution_count": 5,
   "id": "b30118c7-2f1c-404a-9386-822ff9df6a01",
   "metadata": {},
   "outputs": [
    {
     "ename": "FileNotFoundError",
     "evalue": "[Errno 2] No such file or directory: 'Datasets/Benchmark-SimpleQWAK_Cycle/LINUX-simpleQWAKTime_N3-999_P0.8_T100_S100.txt'",
     "output_type": "error",
     "traceback": [
      "\u001b[0;31m---------------------------------------------------------------------------\u001b[0m",
      "\u001b[0;31mFileNotFoundError\u001b[0m                         Traceback (most recent call last)",
      "Cell \u001b[0;32mIn[5], line 11\u001b[0m\n\u001b[1;32m      8\u001b[0m qwak_times_file \u001b[38;5;241m=\u001b[39m \u001b[38;5;124mf\u001b[39m\u001b[38;5;124m'\u001b[39m\u001b[38;5;124mDatasets/Benchmark-SimpleQWAK_Cycle/LINUX-simpleQWAKTime_N\u001b[39m\u001b[38;5;132;01m{\u001b[39;00mnMin\u001b[38;5;132;01m}\u001b[39;00m\u001b[38;5;124m-\u001b[39m\u001b[38;5;132;01m{\u001b[39;00mnMax\u001b[38;5;241m-\u001b[39m\u001b[38;5;241m1\u001b[39m\u001b[38;5;132;01m}\u001b[39;00m\u001b[38;5;124m_P\u001b[39m\u001b[38;5;132;01m{\u001b[39;00mpVal\u001b[38;5;132;01m}\u001b[39;00m\u001b[38;5;124m_T\u001b[39m\u001b[38;5;132;01m{\u001b[39;00mt\u001b[38;5;132;01m}\u001b[39;00m\u001b[38;5;124m_S\u001b[39m\u001b[38;5;132;01m{\u001b[39;00msamples\u001b[38;5;132;01m}\u001b[39;00m\u001b[38;5;124m.txt\u001b[39m\u001b[38;5;124m'\u001b[39m\n\u001b[1;32m      9\u001b[0m qwak_times_file_cupy \u001b[38;5;241m=\u001b[39m \u001b[38;5;124mf\u001b[39m\u001b[38;5;124m'\u001b[39m\u001b[38;5;124mDatasets/Benchmark-SimpleQWAK_Cycle/LINUX-simpleQWAKTime_CuPy_N\u001b[39m\u001b[38;5;132;01m{\u001b[39;00mnMin\u001b[38;5;132;01m}\u001b[39;00m\u001b[38;5;124m-\u001b[39m\u001b[38;5;132;01m{\u001b[39;00mnMax\u001b[38;5;241m-\u001b[39m\u001b[38;5;241m1\u001b[39m\u001b[38;5;132;01m}\u001b[39;00m\u001b[38;5;124m_P\u001b[39m\u001b[38;5;132;01m{\u001b[39;00mpVal\u001b[38;5;132;01m}\u001b[39;00m\u001b[38;5;124m_T\u001b[39m\u001b[38;5;132;01m{\u001b[39;00mt\u001b[38;5;132;01m}\u001b[39;00m\u001b[38;5;124m_S\u001b[39m\u001b[38;5;132;01m{\u001b[39;00msamples\u001b[38;5;132;01m}\u001b[39;00m\u001b[38;5;124m.txt\u001b[39m\u001b[38;5;124m'\u001b[39m\n\u001b[0;32m---> 11\u001b[0m qwak_times \u001b[38;5;241m=\u001b[39m \u001b[43mload_list_from_file\u001b[49m\u001b[43m(\u001b[49m\u001b[43mqwak_times_file\u001b[49m\u001b[43m)\u001b[49m\n\u001b[1;32m     12\u001b[0m qwak_times_cupy \u001b[38;5;241m=\u001b[39m load_list_from_file(qwak_times_file_cupy)\n\u001b[1;32m     14\u001b[0m params \u001b[38;5;241m=\u001b[39m {\n\u001b[1;32m     15\u001b[0m     \u001b[38;5;124m'\u001b[39m\u001b[38;5;124mfigsize\u001b[39m\u001b[38;5;124m'\u001b[39m: (\u001b[38;5;241m12\u001b[39m, \u001b[38;5;241m8\u001b[39m),\n\u001b[1;32m     16\u001b[0m     \u001b[38;5;124m'\u001b[39m\u001b[38;5;124mplot_title\u001b[39m\u001b[38;5;124m'\u001b[39m : \u001b[38;5;124mf\u001b[39m\u001b[38;5;124m'\u001b[39m\u001b[38;5;124mCPU vs GPU\u001b[39m\u001b[38;5;124m'\u001b[39m,\n\u001b[0;32m   (...)\u001b[0m\n\u001b[1;32m     43\u001b[0m     \u001b[38;5;124m'\u001b[39m\u001b[38;5;124mlegend_title_font_size\u001b[39m\u001b[38;5;124m'\u001b[39m: \u001b[38;5;241m14\u001b[39m,\n\u001b[1;32m     44\u001b[0m     \u001b[38;5;124m'\u001b[39m\u001b[38;5;124mtick_font_size\u001b[39m\u001b[38;5;124m'\u001b[39m: \u001b[38;5;241m18\u001b[39m,}\n",
      "Cell \u001b[0;32mIn[2], line 2\u001b[0m, in \u001b[0;36mload_list_from_file\u001b[0;34m(file_path)\u001b[0m\n\u001b[1;32m      1\u001b[0m \u001b[38;5;28;01mdef\u001b[39;00m\u001b[38;5;250m \u001b[39m\u001b[38;5;21mload_list_from_file\u001b[39m(file_path):\n\u001b[0;32m----> 2\u001b[0m     \u001b[38;5;28;01mwith\u001b[39;00m \u001b[38;5;28;43mopen\u001b[39;49m\u001b[43m(\u001b[49m\u001b[43mfile_path\u001b[49m\u001b[43m,\u001b[49m\u001b[43m \u001b[49m\u001b[38;5;124;43m'\u001b[39;49m\u001b[38;5;124;43mr\u001b[39;49m\u001b[38;5;124;43m'\u001b[39;49m\u001b[43m)\u001b[49m \u001b[38;5;28;01mas\u001b[39;00m file:\n\u001b[1;32m      3\u001b[0m         data_str \u001b[38;5;241m=\u001b[39m file\u001b[38;5;241m.\u001b[39mread()\n\u001b[1;32m      4\u001b[0m     data \u001b[38;5;241m=\u001b[39m [json\u001b[38;5;241m.\u001b[39mloads(line) \u001b[38;5;28;01mfor\u001b[39;00m line \u001b[38;5;129;01min\u001b[39;00m data_str\u001b[38;5;241m.\u001b[39msplitlines()]\n",
      "File \u001b[0;32m~/Documents/GitHub/QWAK/QwakEnv/lib/python3.12/site-packages/IPython/core/interactiveshell.py:324\u001b[0m, in \u001b[0;36m_modified_open\u001b[0;34m(file, *args, **kwargs)\u001b[0m\n\u001b[1;32m    317\u001b[0m \u001b[38;5;28;01mif\u001b[39;00m file \u001b[38;5;129;01min\u001b[39;00m {\u001b[38;5;241m0\u001b[39m, \u001b[38;5;241m1\u001b[39m, \u001b[38;5;241m2\u001b[39m}:\n\u001b[1;32m    318\u001b[0m     \u001b[38;5;28;01mraise\u001b[39;00m \u001b[38;5;167;01mValueError\u001b[39;00m(\n\u001b[1;32m    319\u001b[0m         \u001b[38;5;124mf\u001b[39m\u001b[38;5;124m\"\u001b[39m\u001b[38;5;124mIPython won\u001b[39m\u001b[38;5;124m'\u001b[39m\u001b[38;5;124mt let you open fd=\u001b[39m\u001b[38;5;132;01m{\u001b[39;00mfile\u001b[38;5;132;01m}\u001b[39;00m\u001b[38;5;124m by default \u001b[39m\u001b[38;5;124m\"\u001b[39m\n\u001b[1;32m    320\u001b[0m         \u001b[38;5;124m\"\u001b[39m\u001b[38;5;124mas it is likely to crash IPython. If you know what you are doing, \u001b[39m\u001b[38;5;124m\"\u001b[39m\n\u001b[1;32m    321\u001b[0m         \u001b[38;5;124m\"\u001b[39m\u001b[38;5;124myou can use builtins\u001b[39m\u001b[38;5;124m'\u001b[39m\u001b[38;5;124m open.\u001b[39m\u001b[38;5;124m\"\u001b[39m\n\u001b[1;32m    322\u001b[0m     )\n\u001b[0;32m--> 324\u001b[0m \u001b[38;5;28;01mreturn\u001b[39;00m \u001b[43mio_open\u001b[49m\u001b[43m(\u001b[49m\u001b[43mfile\u001b[49m\u001b[43m,\u001b[49m\u001b[43m \u001b[49m\u001b[38;5;241;43m*\u001b[39;49m\u001b[43margs\u001b[49m\u001b[43m,\u001b[49m\u001b[43m \u001b[49m\u001b[38;5;241;43m*\u001b[39;49m\u001b[38;5;241;43m*\u001b[39;49m\u001b[43mkwargs\u001b[49m\u001b[43m)\u001b[49m\n",
      "\u001b[0;31mFileNotFoundError\u001b[0m: [Errno 2] No such file or directory: 'Datasets/Benchmark-SimpleQWAK_Cycle/LINUX-simpleQWAKTime_N3-999_P0.8_T100_S100.txt'"
     ]
    }
   ],
   "source": [
    "t = 100\n",
    "nMin = 3\n",
    "nMax = 1000\n",
    "nList = list(range(nMin,nMax,1))\n",
    "samples = 100\n",
    "pVal = 0.8\n",
    "\n",
    "qwak_times_file = f'Datasets/Benchmark-SimpleQWAK_Cycle/LINUX-simpleQWAKTime_N{nMin}-{nMax-1}_P{pVal}_T{t}_S{samples}.txt'\n",
    "qwak_times_file_cupy = f'Datasets/Benchmark-SimpleQWAK_Cycle/LINUX-simpleQWAKTime_CuPy_N{nMin}-{nMax-1}_P{pVal}_T{t}_S{samples}.txt'\n",
    "\n",
    "qwak_times = load_list_from_file(qwak_times_file)\n",
    "qwak_times_cupy = load_list_from_file(qwak_times_file_cupy)\n",
    "\n",
    "params = {\n",
    "    'figsize': (12, 8),\n",
    "    'plot_title' : f'CPU vs GPU',\n",
    "    'x_label' : 'Time',\n",
    "    'y_label' : \"Probability\",\n",
    "    'legend_labels' : [\"CPU\",\"GPU\"],\n",
    "    'legend_loc': \"best\",\n",
    "    # 'legend_title' : 'Solutions',\n",
    "    'legend_ncol' : 1,\n",
    "    # 'color_list' : ['#0000FF', '#008000', '#525252'],\n",
    "    'color_list' : ['b','g','r'],\n",
    "    'line_style_list' : ['--', '-','-.' ],\n",
    "    # 'save_path' : f'Output/CompleteSearch/completePlot_N{N}_NWALKS{numberOfWalks}_S{samples}.png',\n",
    "    'use_loglog': False,\n",
    "    'use_cbar' : False,\n",
    "    'cbar_label' : None, \n",
    "    'cbar_ticks' : None,\n",
    "    'cbar_tick_labels' : None,\n",
    "    'x_lim' : None,\n",
    "    'x_num_ticks' : 7,\n",
    "    'y_num_ticks' : 5,\n",
    "    'x_round_val' : 2,\n",
    "    'y_round_val' : 3,\n",
    "    # 'v_line_values' : v_line_values,\n",
    "    'v_line_style': '--',\n",
    "    'title_font_size': 20,\n",
    "    'xlabel_font_size': 22,\n",
    "    'ylabel_font_size': 22,\n",
    "    'legend_font_size': 14,\n",
    "    'legend_title_font_size': 14,\n",
    "    'tick_font_size': 18,}\n",
    "\n",
    "# plt.plot(qwak_times)\n",
    "plt.plot(qwak_times_cupy)\n",
    "\n",
    "# plot_qwak(x_value_matrix = [nList,nList], y_value_matrix = [qwak_times, qwak_times_cupy],**params)"
   ]
  },
  {
   "cell_type": "code",
   "execution_count": null,
   "id": "77df3937-3108-4d1b-9cc5-b51252405bfe",
   "metadata": {},
   "outputs": [],
   "source": []
  },
  {
   "cell_type": "code",
   "execution_count": null,
   "id": "cfcea596-ee76-4771-ae7f-d5bd49862d38",
   "metadata": {},
   "outputs": [],
   "source": []
  },
  {
   "cell_type": "code",
   "execution_count": null,
   "id": "505695f3-66a6-4def-acaf-fb1acea9b6c9",
   "metadata": {},
   "outputs": [],
   "source": []
  }
 ],
 "metadata": {
  "kernelspec": {
   "display_name": "Python 3 (ipykernel)",
   "language": "python",
   "name": "python3"
  },
  "language_info": {
   "codemirror_mode": {
    "name": "ipython",
    "version": 3
   },
   "file_extension": ".py",
   "mimetype": "text/x-python",
   "name": "python",
   "nbconvert_exporter": "python",
   "pygments_lexer": "ipython3",
   "version": "3.12.3"
  }
 },
 "nbformat": 4,
 "nbformat_minor": 5
}
