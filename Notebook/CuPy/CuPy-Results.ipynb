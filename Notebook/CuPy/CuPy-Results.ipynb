{
 "cells": [
  {
   "cell_type": "code",
   "execution_count": 6,
   "id": "09b9e021-ecc3-4029-aedb-108da0412fec",
   "metadata": {},
   "outputs": [],
   "source": [
    "import numpy as np\n",
    "import cupy as cp\n",
    "from scipy.linalg import inv, expm\n",
    "import networkx as nx\n",
    "import time\n",
    "import cupyx.scipy.linalg as cpx_scipy\n",
    "from cupyx.profiler import benchmark\n",
    "from matplotlib import pyplot as plt\n",
    "import os\n",
    "import json\n",
    "\n",
    "from qwak_cupy.qwak import QWAK as CQWAK\n",
    "from qwak.qwak import QWAK as QWAK\n",
    "from utils.plotTools import plot_qwak"
   ]
  },
  {
   "cell_type": "code",
   "execution_count": 2,
   "id": "fad57072-3a89-4032-9bd6-62ba45444134",
   "metadata": {},
   "outputs": [],
   "source": [
    "def load_list_from_file(file_path):\n",
    "    with open(file_path, 'r') as file:\n",
    "        data_str = file.read()\n",
    "    data = [json.loads(line) for line in data_str.splitlines()]\n",
    "    return data\n",
    "\n",
    "def write_list_to_file(file_path, data):\n",
    "    data_str = [str(item) for item in data]  # Convert float values to strings\n",
    "    with open(file_path, 'w') as file:\n",
    "        file.write('\\n'.join(data_str))"
   ]
  },
  {
   "cell_type": "code",
   "execution_count": 17,
   "id": "b30118c7-2f1c-404a-9386-822ff9df6a01",
   "metadata": {},
   "outputs": [
    {
     "data": {
      "text/plain": [
       "[<matplotlib.lines.Line2D at 0x1f74e6abc50>]"
      ]
     },
     "execution_count": 17,
     "metadata": {},
     "output_type": "execute_result"
    },
    {
     "data": {
      "image/png": "[encoded data removed]",
      "text/plain": [
       "<Figure size 640x480 with 1 Axes>"
      ]
     },
     "metadata": {},
     "output_type": "display_data"
    }
   ],
   "source": [
    "t = 50\n",
    "nMin = 3\n",
    "nMax = 1000\n",
    "nList = list(range(nMin,nMax,1))\n",
    "samples = 100\n",
    "\n",
    "qwak_times_file = f'Datasets/Benchmark-SimpleQWAK_Cycle/LINUX-simpleQWAKTime_N{nMin}-{nMax-1}_T{t}_S{samples}.txt'\n",
    "qwak_times_file_cupy = f'Datasets/Benchmark-SimpleQWAK_Cycle/LINUX-simpleQWAKTime_CuPy_N{nMin}-{nMax-1}_T{t}_S{samples}.txt'\n",
    "\n",
    "qwak_times = load_list_from_file(qwak_times_file)\n",
    "qwak_times_cupy = load_list_from_file(qwak_times_file_cupy)\n",
    "\n",
    "params = {\n",
    "    'figsize': (12, 8),\n",
    "    'plot_title' : f'CPU vs GPU',\n",
    "    'x_label' : 'Time',\n",
    "    'y_label' : \"Probability\",\n",
    "    'legend_labels' : [\"CPU\",\"GPU\"],\n",
    "    'legend_loc': \"best\",\n",
    "    # 'legend_title' : 'Solutions',\n",
    "    'legend_ncol' : 1,\n",
    "    # 'color_list' : ['#0000FF', '#008000', '#525252'],\n",
    "    'color_list' : ['b','g','r'],\n",
    "    'line_style_list' : ['--', '-','-.' ],\n",
    "    # 'save_path' : f'Output/CompleteSearch/completePlot_N{N}_NWALKS{numberOfWalks}_S{samples}.png',\n",
    "    'use_loglog': False,\n",
    "    'use_cbar' : False,\n",
    "    'cbar_label' : None, \n",
    "    'cbar_ticks' : None,\n",
    "    'cbar_tick_labels' : None,\n",
    "    'x_lim' : None,\n",
    "    'x_num_ticks' : 7,\n",
    "    'y_num_ticks' : 5,\n",
    "    'x_round_val' : 2,\n",
    "    'y_round_val' : 3,\n",
    "    # 'v_line_values' : v_line_values,\n",
    "    'v_line_style': '--',\n",
    "    'title_font_size': 20,\n",
    "    'xlabel_font_size': 22,\n",
    "    'ylabel_font_size': 22,\n",
    "    'legend_font_size': 14,\n",
    "    'legend_title_font_size': 14,\n",
    "    'tick_font_size': 18,}\n",
    "\n",
    "# plt.plot(qwak_times)\n",
    "plt.plot(qwak_times_cupy)\n",
    "\n",
    "# plot_qwak(x_value_matrix = [nList,nList], y_value_matrix = [qwak_times, qwak_times_cupy],**params)"
   ]
  },
  {
   "cell_type": "code",
   "execution_count": null,
   "id": "77df3937-3108-4d1b-9cc5-b51252405bfe",
   "metadata": {},
   "outputs": [],
   "source": []
  }
 ],
 "metadata": {
  "kernelspec": {
   "display_name": "Python 3 (ipykernel)",
   "language": "python",
   "name": "python3"
  },
  "language_info": {
   "codemirror_mode": {
    "name": "ipython",
    "version": 3
   },
   "file_extension": ".py",
   "mimetype": "text/x-python",
   "name": "python",
   "nbconvert_exporter": "python",
   "pygments_lexer": "ipython3",
   "version": "3.12.3"
  }
 },
 "nbformat": 4,
 "nbformat_minor": 5
}
