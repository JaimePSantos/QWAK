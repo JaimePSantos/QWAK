{
 "cells": [
  {
   "cell_type": "code",
   "execution_count": 1,
   "id": "009522bd-e8bc-4063-b420-216f9ae4abda",
   "metadata": {},
   "outputs": [],
   "source": [
    "import numpy as np\n",
    "import cupy as cp\n",
    "from scipy.linalg import inv, expm\n",
    "import networkx as nx\n",
    "import time\n",
    "import cupyx.scipy.linalg as cpx_scipy\n",
    "from cupyx.profiler import benchmark\n",
    "from matplotlib import pyplot as plt\n",
    "import os\n",
    "import json\n",
    "import pickle\n",
    "\n",
    "\n",
    "from qwak_cupy.qwak import QWAK as CQWAK\n",
    "from qwak.qwak import QWAK as QWAK\n"
   ]
  },
  {
   "cell_type": "code",
   "execution_count": 2,
   "id": "8572a861-c421-4093-b35d-7c2f850b25a0",
   "metadata": {},
   "outputs": [],
   "source": [
    "def load_list_from_file(file_path):\n",
    "    with open(file_path, 'r') as file:\n",
    "        data_str = file.read()\n",
    "    data = [json.loads(line) for line in data_str.splitlines()]\n",
    "    return data\n",
    "\n",
    "def write_list_to_file(file_path, data):\n",
    "    data_str = [str(item) for item in data]  # Convert float values to strings\n",
    "    with open(file_path, 'w') as file:\n",
    "        file.write('\\n'.join(data_str))\n",
    "t = 50"
   ]
  },
  {
   "cell_type": "code",
   "execution_count": 3,
   "id": "e20eb424-dc2f-4dc0-8768-4ce48724077d",
   "metadata": {},
   "outputs": [],
   "source": [
    "def runTimedQWAK(n,t,graph):\n",
    "    start_time = time.time()\n",
    "    initNodes = [n//2]\n",
    "    qw = QWAK(graph)\n",
    "    qw.runWalk(t, initNodes)\n",
    "    end_time = time.time()\n",
    "    qwak_time = end_time - start_time\n",
    "    return qw, qwak_time\n",
    "\n",
    "def runTimedQWAK_cupy(n,t,graph):\n",
    "    start_time = time.time()\n",
    "    initNodes = [n//2]\n",
    "    qw = CQWAK(graph)\n",
    "    qw.runWalk(t, initNodes)\n",
    "    end_time = time.time()\n",
    "    qwak_time = end_time - start_time\n",
    "    return qw, qwak_time\n",
    "\n",
    "def runMultipleSimpleQWAK(nList,t,samples,graphList_list):\n",
    "    qwList = []\n",
    "    tList = []\n",
    "    qwak_time = 0\n",
    "    qwak_time_average = 0\n",
    "    print(f\"Running NP QWAK {len(nList)} walks up to n = {nList[-1]}\")\n",
    "    for n,graphList in zip(nList,graphList_list):\n",
    "        for sample,graph in zip(range(1,samples+1),graphList):\n",
    "            print(f\"----> Calculating NP QWAK for n = {n} \\t Sample #{sample}\",end='\\r')\n",
    "            qw, qwak_time = runTimedQWAK(n,t,graph)\n",
    "            qwak_time_average += qwak_time \n",
    "        qwak_time_average = qwak_time_average / samples\n",
    "        qwList.append(qw)\n",
    "        tList.append(qwak_time_average)\n",
    "        qwak_time_average = 0\n",
    "    return tList, qwList\n",
    "\n",
    "def runMultipleSimpleQWAK_cupy(nList,t,samples,graphList_list):\n",
    "    qwList = []\n",
    "    tList = []\n",
    "    qwak_time = 0\n",
    "    qwak_time_average = 0\n",
    "    print(f\"Running CuPy QWAK {len(nList)} walks up to n = {nList[-1]}\")\n",
    "    for n,graphList in zip(nList,graphList_list):\n",
    "        # print(f\"----> Calculating NP QWAK for n = {n}\",end='\\r')\n",
    "        for sample,graph in zip(range(1,samples+1),graphList):\n",
    "            print(f\"----> Calculating CuPy QWAK for n = {n} \\t Sample #{sample}\",end='\\r')\n",
    "            qw, qwak_time = runTimedQWAK_cupy(n,t,graph)\n",
    "            qwak_time_average += qwak_time \n",
    "        qwak_time_average = qwak_time_average / samples\n",
    "        qwList.append(qw)\n",
    "        tList.append(qwak_time_average)\n",
    "        qwak_time_average = 0\n",
    "    return tList, qwList\n",
    "\n",
    "def runTimedQWAK2(n,t):\n",
    "    start_time = time.time()\n",
    "    initNodes = [n//2]\n",
    "    qw = QWAK(nx.cycle_graph(n))\n",
    "    qw.runWalk(t, initNodes)\n",
    "    end_time = time.time()\n",
    "    qwak_time = end_time - start_time\n",
    "    return qwak_time\n",
    "\n",
    "def runTimedQWAK_cupy2(n,t):\n",
    "    start_time = time.time()\n",
    "    initNodes = [n//2]\n",
    "    qw = CQWAK(nx.cycle_graph(n))\n",
    "    qw.runWalk(t, initNodes)\n",
    "    end_time = time.time()\n",
    "    qwak_time = end_time - start_time\n",
    "    return qwak_time\n",
    "\n",
    "def runMultipleSimpleQWAK_cupy2(nList,t,samples):\n",
    "    tList = []\n",
    "    qwak_time = 0\n",
    "    qwak_time_average = 0\n",
    "    print(f\"Running CuPy QWAK {len(nList)} walks up to n = {nList[-1]}\")\n",
    "    for n in nList:\n",
    "        # print(f\"----> Calculating NP QWAK for n = {n}\",end='\\r')\n",
    "        for sample in range(1,samples+1):\n",
    "            print(f\"----> Calculating CuPy QWAK for n = {n} \\t Sample #{sample}\",end='\\r')\n",
    "            qwak_time = runTimedQWAK_cupy2(n,t)\n",
    "            qwak_time_average += qwak_time \n",
    "        qwak_time_average = qwak_time_average / samples\n",
    "        # qwList.append(qw)\n",
    "        tList.append(qwak_time_average)\n",
    "        qwak_time_average = 0\n",
    "    return tList#, qwList\n",
    "\n",
    "def runMultipleSimpleQWAK2(nList,t,samples):\n",
    "    #qwList = []\n",
    "    tList = []\n",
    "    qwak_time = 0\n",
    "    qwak_time_average = 0\n",
    "    print(f\"Running NP QWAK {len(nList)} walks up to n = {nList[-1]}\")\n",
    "    for n in nList:\n",
    "        for sample in range(1,samples+1):\n",
    "            print(f\"----> Calculating NP QWAK for n = {n} \\t Sample #{sample}\",end='\\r')\n",
    "            qwak_time = runTimedQWAK2(n,t)\n",
    "            qwak_time_average += qwak_time \n",
    "        qwak_time_average = qwak_time_average / samples\n",
    "#        qwList.append(qw)\n",
    "        tList.append(qwak_time_average)\n",
    "        qwak_time_average = 0\n",
    "    return tList#, qwList\n",
    "\n",
    "\n",
    "def create_or_load_graph_list(filepath, n_values, pVal, samples):\n",
    "    \"\"\"\n",
    "    Checks if a file exists at the specified path and either loads a list of lists of graphs\n",
    "    or creates and saves it if the file does not exist.\n",
    "    \n",
    "    Parameters:\n",
    "        filepath (str): The full file path to check and save/load the serialized list of lists.\n",
    "        n_values (list of int): A list of n values (graph sizes).\n",
    "        pVal (float): The probability for edge creation in the Erdos-Renyi model.\n",
    "        samples (int): The number of graphs to generate for each n value.\n",
    "    \n",
    "    Returns:\n",
    "        list: A list of lists containing the generated or loaded graphs.\n",
    "    \"\"\"\n",
    "    # Ensure the directory for the file exists\n",
    "    os.makedirs(os.path.dirname(filepath), exist_ok=True)\n",
    "    \n",
    "    # Check if the file already exists\n",
    "    if os.path.exists(filepath):\n",
    "        print(f\"File {filepath} found. Loading graphs...\")\n",
    "        with open(filepath, 'rb') as f:\n",
    "            graph_list_of_lists = pickle.load(f)\n",
    "        return graph_list_of_lists\n",
    "    \n",
    "    print(f\"File {filepath} not found. Creating graphs...\")\n",
    "    # Create a list of lists to hold the graphs\n",
    "    graph_list_of_lists = []\n",
    "    \n",
    "    for n in n_values:\n",
    "        # Create a list to hold graphs of size 'n'\n",
    "        graph_list = []\n",
    "        for _ in range(samples):\n",
    "            # Generate the graph and append it to the graph_list\n",
    "            graph = nx.erdos_renyi_graph(n, pVal)\n",
    "            graph_list.append(graph)\n",
    "        # Append the graph_list to the graph_list_of_lists\n",
    "        graph_list_of_lists.append(graph_list)\n",
    "    \n",
    "    # Save the list of lists to a file\n",
    "    with open(filepath, 'wb') as f:\n",
    "        pickle.dump(graph_list_of_lists, f)\n",
    "    print(f\"Graph list of lists saved to {filepath}\")\n",
    "    \n",
    "    return graph_list_of_lists\n",
    "\n"
   ]
  },
  {
   "cell_type": "code",
   "execution_count": 4,
   "id": "6eeb4e86-25ee-45d5-a0a5-8f9a8acc5993",
   "metadata": {},
   "outputs": [
    {
     "name": "stdout",
     "output_type": "stream",
     "text": [
      "File Datasets/Benchmark-SimpleQWAK_ER/Graphs/LINUX-Graph-simpleQWAKTime_N3-300_P0.8_T10_S2.txt not found. Creating graphs...\n"
     ]
    },
    {
     "ename": "KeyboardInterrupt",
     "evalue": "",
     "output_type": "error",
     "traceback": [
      "\u001b[0;31m---------------------------------------------------------------------------\u001b[0m",
      "\u001b[0;31mKeyboardInterrupt\u001b[0m                         Traceback (most recent call last)",
      "Cell \u001b[0;32mIn[4], line 17\u001b[0m\n\u001b[1;32m     13\u001b[0m qwak_times_file_cupy \u001b[38;5;241m=\u001b[39m \u001b[38;5;124mf\u001b[39m\u001b[38;5;124m'\u001b[39m\u001b[38;5;124mDatasets/Benchmark-SimpleQWAK_ER/\u001b[39m\u001b[38;5;124m'\u001b[39m \u001b[38;5;241m+\u001b[39m qwak_times_filename_cupy\n\u001b[1;32m     15\u001b[0m graph_file \u001b[38;5;241m=\u001b[39m \u001b[38;5;124mf\u001b[39m\u001b[38;5;124m'\u001b[39m\u001b[38;5;124mDatasets/Benchmark-SimpleQWAK_ER/Graphs/\u001b[39m\u001b[38;5;124m'\u001b[39m \u001b[38;5;241m+\u001b[39m graphs_filename\n\u001b[0;32m---> 17\u001b[0m graph_list \u001b[38;5;241m=\u001b[39m \u001b[43mcreate_or_load_graph_list\u001b[49m\u001b[43m(\u001b[49m\u001b[43mgraph_file\u001b[49m\u001b[43m,\u001b[49m\u001b[43m \u001b[49m\u001b[43mnList\u001b[49m\u001b[43m,\u001b[49m\u001b[43m \u001b[49m\u001b[43mpVal\u001b[49m\u001b[43m,\u001b[49m\u001b[43m \u001b[49m\u001b[43msamples\u001b[49m\u001b[43m)\u001b[49m\n\u001b[1;32m     19\u001b[0m \u001b[38;5;28;01mif\u001b[39;00m os\u001b[38;5;241m.\u001b[39mpath\u001b[38;5;241m.\u001b[39mexists(qwak_times_file):\n\u001b[1;32m     20\u001b[0m      qwak_times \u001b[38;5;241m=\u001b[39m load_list_from_file(qwak_times_file)\n",
      "Cell \u001b[0;32mIn[3], line 140\u001b[0m, in \u001b[0;36mcreate_or_load_graph_list\u001b[0;34m(filepath, n_values, pVal, samples)\u001b[0m\n\u001b[1;32m    137\u001b[0m graph_list \u001b[38;5;241m=\u001b[39m []\n\u001b[1;32m    138\u001b[0m \u001b[38;5;28;01mfor\u001b[39;00m _ \u001b[38;5;129;01min\u001b[39;00m \u001b[38;5;28mrange\u001b[39m(samples):\n\u001b[1;32m    139\u001b[0m     \u001b[38;5;66;03m# Generate the graph and append it to the graph_list\u001b[39;00m\n\u001b[0;32m--> 140\u001b[0m     graph \u001b[38;5;241m=\u001b[39m \u001b[43mnx\u001b[49m\u001b[38;5;241;43m.\u001b[39;49m\u001b[43merdos_renyi_graph\u001b[49m\u001b[43m(\u001b[49m\u001b[43mn\u001b[49m\u001b[43m,\u001b[49m\u001b[43m \u001b[49m\u001b[43mpVal\u001b[49m\u001b[43m)\u001b[49m\n\u001b[1;32m    141\u001b[0m     graph_list\u001b[38;5;241m.\u001b[39mappend(graph)\n\u001b[1;32m    142\u001b[0m \u001b[38;5;66;03m# Append the graph_list to the graph_list_of_lists\u001b[39;00m\n",
      "File \u001b[0;32m<class 'networkx.utils.decorators.argmap'> compilation 5:4\u001b[0m, in \u001b[0;36margmap_gnp_random_graph_1\u001b[0;34m(n, p, seed, directed, create_using, backend, **backend_kwargs)\u001b[0m\n\u001b[1;32m      2\u001b[0m \u001b[38;5;28;01mimport\u001b[39;00m\u001b[38;5;250m \u001b[39m\u001b[38;5;21;01mcollections\u001b[39;00m\n\u001b[1;32m      3\u001b[0m \u001b[38;5;28;01mimport\u001b[39;00m\u001b[38;5;250m \u001b[39m\u001b[38;5;21;01mgzip\u001b[39;00m\n\u001b[0;32m----> 4\u001b[0m \u001b[38;5;28;01mimport\u001b[39;00m\u001b[38;5;250m \u001b[39m\u001b[38;5;21;01minspect\u001b[39;00m\n\u001b[1;32m      5\u001b[0m \u001b[38;5;28;01mimport\u001b[39;00m\u001b[38;5;250m \u001b[39m\u001b[38;5;21;01mitertools\u001b[39;00m\n\u001b[1;32m      6\u001b[0m \u001b[38;5;28;01mimport\u001b[39;00m\u001b[38;5;250m \u001b[39m\u001b[38;5;21;01mre\u001b[39;00m\n",
      "File \u001b[0;32m~/Documents/GitHub/QWAK/QwakEnv/lib/python3.12/site-packages/networkx/utils/backends.py:967\u001b[0m, in \u001b[0;36m_dispatchable.__call__\u001b[0;34m(self, backend, *args, **kwargs)\u001b[0m\n\u001b[1;32m    965\u001b[0m     \u001b[38;5;28;01mif\u001b[39;00m backend \u001b[38;5;129;01mis\u001b[39;00m \u001b[38;5;129;01mnot\u001b[39;00m \u001b[38;5;28;01mNone\u001b[39;00m \u001b[38;5;129;01mand\u001b[39;00m backend \u001b[38;5;241m!=\u001b[39m \u001b[38;5;124m\"\u001b[39m\u001b[38;5;124mnetworkx\u001b[39m\u001b[38;5;124m\"\u001b[39m:\n\u001b[1;32m    966\u001b[0m         \u001b[38;5;28;01mraise\u001b[39;00m \u001b[38;5;167;01mImportError\u001b[39;00m(\u001b[38;5;124mf\u001b[39m\u001b[38;5;124m\"\u001b[39m\u001b[38;5;124m'\u001b[39m\u001b[38;5;132;01m{\u001b[39;00mbackend\u001b[38;5;132;01m}\u001b[39;00m\u001b[38;5;124m'\u001b[39m\u001b[38;5;124m backend is not installed\u001b[39m\u001b[38;5;124m\"\u001b[39m)\n\u001b[0;32m--> 967\u001b[0m     \u001b[38;5;28;01mreturn\u001b[39;00m \u001b[38;5;28;43mself\u001b[39;49m\u001b[38;5;241;43m.\u001b[39;49m\u001b[43morig_func\u001b[49m\u001b[43m(\u001b[49m\u001b[38;5;241;43m*\u001b[39;49m\u001b[43margs\u001b[49m\u001b[43m,\u001b[49m\u001b[43m \u001b[49m\u001b[38;5;241;43m*\u001b[39;49m\u001b[38;5;241;43m*\u001b[39;49m\u001b[43mkwargs\u001b[49m\u001b[43m)\u001b[49m\n\u001b[1;32m    969\u001b[0m \u001b[38;5;66;03m# Use `backend_name` in this function instead of `backend`.\u001b[39;00m\n\u001b[1;32m    970\u001b[0m \u001b[38;5;66;03m# This is purely for aesthetics and to make it easier to search for this\u001b[39;00m\n\u001b[1;32m    971\u001b[0m \u001b[38;5;66;03m# variable since \"backend\" is used in many comments and log/error messages.\u001b[39;00m\n\u001b[1;32m    972\u001b[0m backend_name \u001b[38;5;241m=\u001b[39m backend\n",
      "File \u001b[0;32m~/Documents/GitHub/QWAK/QwakEnv/lib/python3.12/site-packages/networkx/generators/random_graphs.py:181\u001b[0m, in \u001b[0;36mgnp_random_graph\u001b[0;34m(n, p, seed, directed, create_using)\u001b[0m\n\u001b[1;32m    179\u001b[0m \u001b[38;5;28;01mfor\u001b[39;00m e \u001b[38;5;129;01min\u001b[39;00m edgetool(\u001b[38;5;28mrange\u001b[39m(n), \u001b[38;5;241m2\u001b[39m):\n\u001b[1;32m    180\u001b[0m     \u001b[38;5;28;01mif\u001b[39;00m seed\u001b[38;5;241m.\u001b[39mrandom() \u001b[38;5;241m<\u001b[39m p:\n\u001b[0;32m--> 181\u001b[0m         \u001b[43mG\u001b[49m\u001b[38;5;241;43m.\u001b[39;49m\u001b[43madd_edge\u001b[49m\u001b[43m(\u001b[49m\u001b[38;5;241;43m*\u001b[39;49m\u001b[43me\u001b[49m\u001b[43m)\u001b[49m\n\u001b[1;32m    182\u001b[0m \u001b[38;5;28;01mreturn\u001b[39;00m G\n",
      "File \u001b[0;32m~/Documents/GitHub/QWAK/QwakEnv/lib/python3.12/site-packages/networkx/classes/graph.py:973\u001b[0m, in \u001b[0;36mGraph.add_edge\u001b[0;34m(self, u_of_edge, v_of_edge, **attr)\u001b[0m\n\u001b[1;32m    971\u001b[0m \u001b[38;5;28mself\u001b[39m\u001b[38;5;241m.\u001b[39m_adj[u][v] \u001b[38;5;241m=\u001b[39m datadict\n\u001b[1;32m    972\u001b[0m \u001b[38;5;28mself\u001b[39m\u001b[38;5;241m.\u001b[39m_adj[v][u] \u001b[38;5;241m=\u001b[39m datadict\n\u001b[0;32m--> 973\u001b[0m \u001b[43mnx\u001b[49m\u001b[38;5;241;43m.\u001b[39;49m\u001b[43m_clear_cache\u001b[49m\u001b[43m(\u001b[49m\u001b[38;5;28;43mself\u001b[39;49m\u001b[43m)\u001b[49m\n",
      "File \u001b[0;32m~/Documents/GitHub/QWAK/QwakEnv/lib/python3.12/site-packages/networkx/utils/misc.py:595\u001b[0m, in \u001b[0;36m_clear_cache\u001b[0;34m(G)\u001b[0m\n\u001b[1;32m    574\u001b[0m \u001b[38;5;250m    \u001b[39m\u001b[38;5;124;03m\"\"\"Check if graphs are equal.\u001b[39;00m\n\u001b[1;32m    575\u001b[0m \n\u001b[1;32m    576\u001b[0m \u001b[38;5;124;03m    Equality here means equal as Python objects (not isomorphism).\u001b[39;00m\n\u001b[0;32m   (...)\u001b[0m\n\u001b[1;32m    586\u001b[0m \u001b[38;5;124;03m        True if graphs are equal, False otherwise.\u001b[39;00m\n\u001b[1;32m    587\u001b[0m \u001b[38;5;124;03m    \"\"\"\u001b[39;00m\n\u001b[1;32m    588\u001b[0m     \u001b[38;5;28;01mreturn\u001b[39;00m (\n\u001b[1;32m    589\u001b[0m         graph1\u001b[38;5;241m.\u001b[39madj \u001b[38;5;241m==\u001b[39m graph2\u001b[38;5;241m.\u001b[39madj\n\u001b[1;32m    590\u001b[0m         \u001b[38;5;129;01mand\u001b[39;00m graph1\u001b[38;5;241m.\u001b[39mnodes \u001b[38;5;241m==\u001b[39m graph2\u001b[38;5;241m.\u001b[39mnodes\n\u001b[1;32m    591\u001b[0m         \u001b[38;5;129;01mand\u001b[39;00m graph1\u001b[38;5;241m.\u001b[39mgraph \u001b[38;5;241m==\u001b[39m graph2\u001b[38;5;241m.\u001b[39mgraph\n\u001b[1;32m    592\u001b[0m     )\n\u001b[0;32m--> 595\u001b[0m \u001b[38;5;28;01mdef\u001b[39;00m\u001b[38;5;250m \u001b[39m\u001b[38;5;21m_clear_cache\u001b[39m(G):\n\u001b[1;32m    596\u001b[0m \u001b[38;5;250m    \u001b[39m\u001b[38;5;124;03m\"\"\"Clear the cache of a graph (currently stores converted graphs).\u001b[39;00m\n\u001b[1;32m    597\u001b[0m \n\u001b[1;32m    598\u001b[0m \u001b[38;5;124;03m    Caching is controlled via ``nx.config.cache_converted_graphs`` configuration.\u001b[39;00m\n\u001b[1;32m    599\u001b[0m \u001b[38;5;124;03m    \"\"\"\u001b[39;00m\n\u001b[1;32m    600\u001b[0m     \u001b[38;5;28;01mif\u001b[39;00m cache \u001b[38;5;241m:=\u001b[39m \u001b[38;5;28mgetattr\u001b[39m(G, \u001b[38;5;124m\"\u001b[39m\u001b[38;5;124m__networkx_cache__\u001b[39m\u001b[38;5;124m\"\u001b[39m, \u001b[38;5;28;01mNone\u001b[39;00m):\n",
      "\u001b[0;31mKeyboardInterrupt\u001b[0m: "
     ]
    }
   ],
   "source": [
    "nMin = 3\n",
    "nMax = 301\n",
    "nList = list(range(nMin,nMax,1))\n",
    "pVal = 0.8\n",
    "samples = 2\n",
    "t = 10\n",
    "\n",
    "qwak_times_filename = f'LINUX-simpleQWAKTime_N{nMin}-{nMax-1}_P{pVal}_T{t}_S{samples}.txt'\n",
    "qwak_times_filename_cupy = f'LINUX-simpleQWAKTime_CuPy_N{nMin}-{nMax-1}_P{pVal}_T{t}_S{samples}.txt'\n",
    "graphs_filename = f'LINUX-Graph-simpleQWAKTime_N{nMin}-{nMax-1}_P{pVal}_T{t}_S{samples}.txt'\n",
    "\n",
    "qwak_times_file = f'Datasets/Benchmark-SimpleQWAK_ER/' + qwak_times_filename\n",
    "qwak_times_file_cupy = f'Datasets/Benchmark-SimpleQWAK_ER/' + qwak_times_filename_cupy\n",
    "\n",
    "graph_file = f'Datasets/Benchmark-SimpleQWAK_ER/Graphs/' + graphs_filename\n",
    "\n",
    "graph_list = create_or_load_graph_list(graph_file, nList, pVal, samples)\n",
    "\n",
    "if os.path.exists(qwak_times_file):\n",
    "     qwak_times = load_list_from_file(qwak_times_file)\n",
    "     print('File Exists!')\n",
    "else:\n",
    "     qwak_times,qw = runMultipleSimpleQWAK(nList,t,samples,graph_list)\n",
    "     write_list_to_file(qwak_times_file,qwak_times)\n",
    "\n",
    "if os.path.exists(qwak_times_file_cupy):\n",
    "    qwak_times_cupy = load_list_from_file(qwak_times_file_cupy)\n",
    "    print('File Exists!')\n",
    "else:\n",
    "    qwak_times_cupy,qw_cupy = runMultipleSimpleQWAK_cupy(nList,t,samples,graph_list)\n",
    "    write_list_to_file(qwak_times_file_cupy,qwak_times_cupy)\n"
   ]
  },
  {
   "cell_type": "code",
   "execution_count": null,
   "id": "1d986025-febf-40cd-8372-af12baf9c6cb",
   "metadata": {},
   "outputs": [],
   "source": [
    "import os\n",
    "import networkx as nx\n",
    "import pickle\n",
    "import numpy as np\n",
    "\n",
    "def create_or_load_adjacency_matrices(base_dir, n_values, pVal, samples):\n",
    "    \"\"\"\n",
    "    Checks if adjacency matrix files exist for each size `n` and each sample. If not, generates and saves them.\n",
    "\n",
    "    Parameters:\n",
    "        base_dir (str): The base directory to save/load the adjacency matrices.\n",
    "        n_values (list of int): A list of n values (graph sizes).\n",
    "        pVal (float): The probability for edge creation in the Erdos-Renyi model.\n",
    "        samples (int): The number of adjacency matrices to generate for each n value.\n",
    "\n",
    "    Returns:\n",
    "        dict: A dictionary where keys are `n` values and values are lists of adjacency matrices.\n",
    "    \"\"\"\n",
    "    adjacency_matrix_dict = {}\n",
    "\n",
    "    for n in n_values:\n",
    "        n_dir = os.path.join(base_dir, f\"N{n}\")  # Directory for this n value\n",
    "        os.makedirs(n_dir, exist_ok=True)\n",
    "\n",
    "        adjacency_matrix_list = []\n",
    "        for sample in range(samples):\n",
    "            sample_file = os.path.join(n_dir, f\"AdjMatrix_N{n}_Sample{sample}.pkl\")\n",
    "\n",
    "            if os.path.exists(sample_file):\n",
    "                # Load existing adjacency matrix\n",
    "                with open(sample_file, 'rb') as f:\n",
    "                    adjacency_matrix = pickle.load(f)\n",
    "            else:\n",
    "                # Generate and save a new adjacency matrix\n",
    "                graph = nx.erdos_renyi_graph(n, pVal)\n",
    "                adjacency_matrix = nx.to_numpy_array(graph)\n",
    "                with open(sample_file, 'wb') as f:\n",
    "                    pickle.dump(adjacency_matrix, f)\n",
    "\n",
    "            adjacency_matrix_list.append(adjacency_matrix)\n",
    "\n",
    "        adjacency_matrix_dict[n] = adjacency_matrix_list\n",
    "\n",
    "    return adjacency_matrix_dict\n",
    "\n",
    "# Configuration variables\n",
    "nMin = 3\n",
    "nMax = 100\n",
    "nList = list(range(nMin, nMax, 1))  # List of n values\n",
    "pVal = 0.8\n",
    "samples = 100\n",
    "t = 50  # Assuming 't' is a given parameter for the filename\n",
    "\n",
    "# Base directory\n",
    "base_dir = \"Datasets/Benchmark-SimpleQWAK_ER/AdjacencyMatrices\"\n",
    "\n",
    "# Generate or load the adjacency matrix dictionary\n",
    "adjacency_matrix_dict = create_or_load_adjacency_matrices(base_dir, nList, pVal, samples)\n"
   ]
  },
  {
   "cell_type": "code",
   "execution_count": 8,
   "id": "e350fe92-c579-4605-806f-3ac31055be66",
   "metadata": {
    "scrolled": true
   },
   "outputs": [
    {
     "name": "stderr",
     "output_type": "stream",
     "text": [
      "Processing graph sizes:   0%|  | 0/97 [00:00<?, ?it/s]\n",
      "\u001b[Aples for N=3:   0%|        | 0/100 [00:00<?, ?it/s]\n",
      "\u001b[A                                                   "
     ]
    },
    {
     "name": "stdout",
     "output_type": "stream",
     "text": [
      "File Exists!\n"
     ]
    },
    {
     "name": "stderr",
     "output_type": "stream",
     "text": [
      "\n",
      "\u001b[Aples for N=4:   0%|        | 0/100 [00:00<?, ?it/s]\n",
      "\u001b[A                                                   "
     ]
    },
    {
     "name": "stdout",
     "output_type": "stream",
     "text": [
      "File Exists!\n"
     ]
    },
    {
     "name": "stderr",
     "output_type": "stream",
     "text": [
      "\n",
      "\u001b[Aples for N=5:   0%|        | 0/100 [00:00<?, ?it/s]\n",
      "Processing graph sizes:   3%| | 3/97 [00:00<00:03, 27."
     ]
    },
    {
     "name": "stdout",
     "output_type": "stream",
     "text": [
      "File Exists!\n"
     ]
    },
    {
     "name": "stderr",
     "output_type": "stream",
     "text": [
      "\n",
      "\u001b[Aples for N=6:   0%|        | 0/100 [00:00<?, ?it/s]\n",
      "\u001b[A                                                   "
     ]
    },
    {
     "name": "stdout",
     "output_type": "stream",
     "text": [
      "File Exists!\n"
     ]
    },
    {
     "name": "stderr",
     "output_type": "stream",
     "text": [
      "\n",
      "\u001b[Aples for N=7:   0%|        | 0/100 [00:00<?, ?it/s]\n",
      "\u001b[A                                                   "
     ]
    },
    {
     "name": "stdout",
     "output_type": "stream",
     "text": [
      "File Exists!\n"
     ]
    },
    {
     "name": "stderr",
     "output_type": "stream",
     "text": [
      "\n",
      "\u001b[Aples for N=8:   0%|        | 0/100 [00:00<?, ?it/s]\n",
      "\u001b[A                                                   "
     ]
    },
    {
     "name": "stdout",
     "output_type": "stream",
     "text": [
      "File Exists!\n"
     ]
    },
    {
     "name": "stderr",
     "output_type": "stream",
     "text": [
      "\n",
      "\u001b[Aples for N=9:   0%|        | 0/100 [00:00<?, ?it/s]"
     ]
    },
    {
     "name": "stdout",
     "output_type": "stream",
     "text": [
      "File Exists!\n"
     ]
    },
    {
     "name": "stderr",
     "output_type": "stream",
     "text": [
      "\n",
      "Processing graph sizes:   7%| | 7/97 [00:00<00:02, 30.\n",
      "\u001b[Aples for N=10:   0%|       | 0/100 [00:00<?, ?it/s]"
     ]
    },
    {
     "name": "stdout",
     "output_type": "stream",
     "text": [
      "File Exists!\n"
     ]
    },
    {
     "name": "stderr",
     "output_type": "stream",
     "text": [
      "\n",
      "\u001b[A                                                   \n",
      "\u001b[Aples for N=11:   0%|       | 0/100 [00:00<?, ?it/s]"
     ]
    },
    {
     "name": "stdout",
     "output_type": "stream",
     "text": [
      "File Exists!\n"
     ]
    },
    {
     "name": "stderr",
     "output_type": "stream",
     "text": [
      "\n",
      "\u001b[A                                                   \n",
      "\u001b[Aples for N=12:   0%|       | 0/100 [00:00<?, ?it/s]"
     ]
    },
    {
     "name": "stdout",
     "output_type": "stream",
     "text": [
      "File Exists!\n"
     ]
    },
    {
     "name": "stderr",
     "output_type": "stream",
     "text": [
      "\n",
      "\u001b[A                                                   \n",
      "\u001b[Aples for N=13:   0%|       | 0/100 [00:00<?, ?it/s]"
     ]
    },
    {
     "name": "stdout",
     "output_type": "stream",
     "text": [
      "File Exists!\n"
     ]
    },
    {
     "name": "stderr",
     "output_type": "stream",
     "text": [
      "\n",
      "Processing graph sizes:  11%| | 11/97 [00:00<00:03, 26\n",
      "\u001b[Aples for N=14:   0%|       | 0/100 [00:00<?, ?it/s]"
     ]
    },
    {
     "name": "stdout",
     "output_type": "stream",
     "text": [
      "File Exists!\n"
     ]
    },
    {
     "name": "stderr",
     "output_type": "stream",
     "text": [
      "\n",
      "\u001b[A                                                   \n",
      "\u001b[Aples for N=15:   0%|       | 0/100 [00:00<?, ?it/s]"
     ]
    },
    {
     "name": "stdout",
     "output_type": "stream",
     "text": [
      "File Exists!\n"
     ]
    },
    {
     "name": "stderr",
     "output_type": "stream",
     "text": [
      "\n",
      "\u001b[A                                                   \n",
      "\u001b[Aples for N=16:   0%|       | 0/100 [00:00<?, ?it/s]"
     ]
    },
    {
     "name": "stdout",
     "output_type": "stream",
     "text": [
      "File Exists!\n"
     ]
    },
    {
     "name": "stderr",
     "output_type": "stream",
     "text": [
      "\n",
      "Processing graph sizes:  14%|▏| 14/97 [00:00<00:03, 23\n",
      "\u001b[Aples for N=17:   0%|       | 0/100 [00:00<?, ?it/s]"
     ]
    },
    {
     "name": "stdout",
     "output_type": "stream",
     "text": [
      "File Exists!\n"
     ]
    },
    {
     "name": "stderr",
     "output_type": "stream",
     "text": [
      "\n",
      "\u001b[A                                                   \n",
      "\u001b[Aples for N=18:   0%|       | 0/100 [00:00<?, ?it/s]"
     ]
    },
    {
     "name": "stdout",
     "output_type": "stream",
     "text": [
      "File Exists!\n"
     ]
    },
    {
     "name": "stderr",
     "output_type": "stream",
     "text": [
      "\n",
      "\u001b[A                                                   \n",
      "\u001b[Aples for N=19:   0%|       | 0/100 [00:00<?, ?it/s]"
     ]
    },
    {
     "name": "stdout",
     "output_type": "stream",
     "text": [
      "File Exists!\n"
     ]
    },
    {
     "name": "stderr",
     "output_type": "stream",
     "text": [
      "\n",
      "Processing graph sizes:  18%|▏| 17/97 [00:00<00:04, 19\n",
      "\u001b[Aples for N=20:   0%|       | 0/100 [00:00<?, ?it/s]"
     ]
    },
    {
     "name": "stdout",
     "output_type": "stream",
     "text": [
      "File Exists!\n"
     ]
    },
    {
     "name": "stderr",
     "output_type": "stream",
     "text": [
      "\n",
      "\u001b[A                                                   \n",
      "\u001b[Aples for N=21:   0%|       | 0/100 [00:00<?, ?it/s]"
     ]
    },
    {
     "name": "stdout",
     "output_type": "stream",
     "text": [
      "File Exists!\n"
     ]
    },
    {
     "name": "stderr",
     "output_type": "stream",
     "text": [
      "\n",
      "\u001b[A                                                   \n",
      "\u001b[Aples for N=22:   0%|       | 0/100 [00:00<?, ?it/s]"
     ]
    },
    {
     "name": "stdout",
     "output_type": "stream",
     "text": [
      "File Exists!\n"
     ]
    },
    {
     "name": "stderr",
     "output_type": "stream",
     "text": [
      "\n",
      "Processing graph sizes:  21%|▏| 20/97 [00:01<00:04, 16\n",
      "\u001b[Aples for N=23:   0%|       | 0/100 [00:00<?, ?it/s]"
     ]
    },
    {
     "name": "stdout",
     "output_type": "stream",
     "text": [
      "File Exists!\n"
     ]
    },
    {
     "name": "stderr",
     "output_type": "stream",
     "text": [
      "\n",
      "\u001b[A                                                   \n",
      "\u001b[Aples for N=24:   0%|       | 0/100 [00:00<?, ?it/s]"
     ]
    },
    {
     "name": "stdout",
     "output_type": "stream",
     "text": [
      "File Exists!\n"
     ]
    },
    {
     "name": "stderr",
     "output_type": "stream",
     "text": [
      "\n",
      "Processing graph sizes:  23%|▏| 22/97 [00:01<00:05, 14\n",
      "\u001b[Aples for N=25:   0%|       | 0/100 [00:00<?, ?it/s]"
     ]
    },
    {
     "name": "stdout",
     "output_type": "stream",
     "text": [
      "File Exists!\n"
     ]
    },
    {
     "name": "stderr",
     "output_type": "stream",
     "text": [
      "\n",
      "\u001b[A                                                   \n",
      "\u001b[Aples for N=26:   0%|       | 0/100 [00:00<?, ?it/s]"
     ]
    },
    {
     "name": "stdout",
     "output_type": "stream",
     "text": [
      "File Exists!\n"
     ]
    },
    {
     "name": "stderr",
     "output_type": "stream",
     "text": [
      "\n",
      "\u001b[Aples for N=26:  97%|▉| 97/100 [00:00<00:00, 962.92i\n",
      "Processing graph sizes:  25%|▏| 24/97 [00:01<00:05, 12\n",
      "\u001b[Aples for N=27:   0%|       | 0/100 [00:00<?, ?it/s]"
     ]
    },
    {
     "name": "stdout",
     "output_type": "stream",
     "text": [
      "File Exists!\n"
     ]
    },
    {
     "name": "stderr",
     "output_type": "stream",
     "text": [
      "\n",
      "\u001b[Aples for N=27:  76%|▊| 76/100 [00:00<00:00, 749.45i\n",
      "\u001b[A                                                   \n",
      "\u001b[Aples for N=28:   0%|       | 0/100 [00:00<?, ?it/s]"
     ]
    },
    {
     "name": "stdout",
     "output_type": "stream",
     "text": [
      "File Exists!\n"
     ]
    },
    {
     "name": "stderr",
     "output_type": "stream",
     "text": [
      "\n",
      "\u001b[Aples for N=28:  88%|▉| 88/100 [00:00<00:00, 876.66i\n",
      "Processing graph sizes:  27%|▎| 26/97 [00:01<00:06, 10\n",
      "\u001b[Aples for N=29:   0%|       | 0/100 [00:00<?, ?it/s]"
     ]
    },
    {
     "name": "stdout",
     "output_type": "stream",
     "text": [
      "File Exists!\n"
     ]
    },
    {
     "name": "stderr",
     "output_type": "stream",
     "text": [
      "\n",
      "\u001b[Aples for N=29:  93%|▉| 93/100 [00:00<00:00, 928.64i\n",
      "\u001b[A                                                   \n",
      "\u001b[Aples for N=30:   0%|       | 0/100 [00:00<?, ?it/s]"
     ]
    },
    {
     "name": "stdout",
     "output_type": "stream",
     "text": [
      "File Exists!\n"
     ]
    },
    {
     "name": "stderr",
     "output_type": "stream",
     "text": [
      "\n",
      "\u001b[Aples for N=30:  79%|▊| 79/100 [00:00<00:00, 781.22i\n",
      "Processing graph sizes:  29%|▎| 28/97 [00:01<00:07,  9\n",
      "\u001b[Aples for N=31:   0%|       | 0/100 [00:00<?, ?it/s]"
     ]
    },
    {
     "name": "stdout",
     "output_type": "stream",
     "text": [
      "File Exists!\n"
     ]
    },
    {
     "name": "stderr",
     "output_type": "stream",
     "text": [
      "\n",
      "\u001b[Aples for N=31:  76%|▊| 76/100 [00:00<00:00, 754.28i\n",
      "\u001b[A                                                   \n",
      "\u001b[Aples for N=32:   0%|       | 0/100 [00:00<?, ?it/s]"
     ]
    },
    {
     "name": "stdout",
     "output_type": "stream",
     "text": [
      "File Exists!\n"
     ]
    },
    {
     "name": "stderr",
     "output_type": "stream",
     "text": [
      "\n",
      "\u001b[Aples for N=32:  66%|▋| 66/100 [00:00<00:00, 653.33i\n",
      "Processing graph sizes:  31%|▎| 30/97 [00:02<00:07,  8\n",
      "\u001b[Aples for N=33:   0%|       | 0/100 [00:00<?, ?it/s]"
     ]
    },
    {
     "name": "stdout",
     "output_type": "stream",
     "text": [
      "File Exists!\n"
     ]
    },
    {
     "name": "stderr",
     "output_type": "stream",
     "text": [
      "\n",
      "\u001b[Aples for N=33:  69%|▋| 69/100 [00:00<00:00, 683.68i\n",
      "Processing graph sizes:  32%|▎| 31/97 [00:02<00:08,  7\n",
      "\u001b[Aples for N=34:   0%|       | 0/100 [00:00<?, ?it/s]"
     ]
    },
    {
     "name": "stdout",
     "output_type": "stream",
     "text": [
      "File Exists!\n"
     ]
    },
    {
     "name": "stderr",
     "output_type": "stream",
     "text": [
      "\n",
      "\u001b[Aples for N=34:  66%|▋| 66/100 [00:00<00:00, 655.96i\n",
      "Processing graph sizes:  33%|▎| 32/97 [00:02<00:08,  7\n",
      "\u001b[Aples for N=35:   0%|       | 0/100 [00:00<?, ?it/s]"
     ]
    },
    {
     "name": "stdout",
     "output_type": "stream",
     "text": [
      "File Exists!\n"
     ]
    },
    {
     "name": "stderr",
     "output_type": "stream",
     "text": [
      "\n",
      "\u001b[Aples for N=35:  64%|▋| 64/100 [00:00<00:00, 634.32i\n",
      "Processing graph sizes:  34%|▎| 33/97 [00:02<00:09,  7\n",
      "\u001b[Aples for N=36:   0%|       | 0/100 [00:00<?, ?it/s]"
     ]
    },
    {
     "name": "stdout",
     "output_type": "stream",
     "text": [
      "File Exists!\n"
     ]
    },
    {
     "name": "stderr",
     "output_type": "stream",
     "text": [
      "\n",
      "\u001b[Aples for N=36:  59%|▌| 59/100 [00:00<00:00, 582.63i\n",
      "Processing graph sizes:  35%|▎| 34/97 [00:02<00:09,  6\n",
      "\u001b[Aples for N=37:   0%|       | 0/100 [00:00<?, ?it/s]"
     ]
    },
    {
     "name": "stdout",
     "output_type": "stream",
     "text": [
      "File Exists!\n"
     ]
    },
    {
     "name": "stderr",
     "output_type": "stream",
     "text": [
      "\n",
      "\u001b[Aples for N=37:  59%|▌| 59/100 [00:00<00:00, 581.98i\n",
      "Processing graph sizes:  36%|▎| 35/97 [00:03<00:09,  6\n",
      "\u001b[Aples for N=38:   0%|       | 0/100 [00:00<?, ?it/s]"
     ]
    },
    {
     "name": "stdout",
     "output_type": "stream",
     "text": [
      "File Exists!\n"
     ]
    },
    {
     "name": "stderr",
     "output_type": "stream",
     "text": [
      "\n",
      "\u001b[Aples for N=38:  51%|▌| 51/100 [00:00<00:00, 501.24i\n",
      "Processing graph sizes:  37%|▎| 36/97 [00:03<00:10,  5\n",
      "\u001b[Aples for N=39:   0%|       | 0/100 [00:00<?, ?it/s]\n",
      "\u001b[Aples for N=39:  53%|▌| 53/100 [00:00<00:00, 526.95i\n",
      "\u001b[A                                                   "
     ]
    },
    {
     "name": "stdout",
     "output_type": "stream",
     "text": [
      "File Exists!\n"
     ]
    },
    {
     "name": "stderr",
     "output_type": "stream",
     "text": [
      "Processing graph sizes:  38%|▍| 37/97 [00:03<00:10,  5\n",
      "\u001b[Aples for N=40:   0%|       | 0/100 [00:00<?, ?it/s]\n",
      "\u001b[Aples for N=40:  46%|▍| 46/100 [00:00<00:00, 458.50i\n"
     ]
    },
    {
     "name": "stdout",
     "output_type": "stream",
     "text": [
      "File Exists!\n"
     ]
    },
    {
     "name": "stderr",
     "output_type": "stream",
     "text": [
      "\u001b[Aples for N=40:  97%|▉| 97/100 [00:00<00:00, 483.71i\n",
      "Processing graph sizes:  39%|▍| 38/97 [00:03<00:11,  5\n",
      "\u001b[Aples for N=41:   0%|       | 0/100 [00:00<?, ?it/s]\n",
      "\u001b[Aples for N=41:  48%|▍| 48/100 [00:00<00:00, 471.36i"
     ]
    },
    {
     "name": "stdout",
     "output_type": "stream",
     "text": [
      "File Exists!\n"
     ]
    },
    {
     "name": "stderr",
     "output_type": "stream",
     "text": [
      "\n",
      "\u001b[Aples for N=41:  96%|▉| 96/100 [00:00<00:00, 453.78i\n",
      "Processing graph sizes:  40%|▍| 39/97 [00:04<00:11,  4\n",
      "\u001b[Aples for N=42:   0%|       | 0/100 [00:00<?, ?it/s]\n",
      "\u001b[Aples for N=42:  47%|▍| 47/100 [00:00<00:00, 468.90i"
     ]
    },
    {
     "name": "stdout",
     "output_type": "stream",
     "text": [
      "File Exists!\n"
     ]
    },
    {
     "name": "stderr",
     "output_type": "stream",
     "text": [
      "\n",
      "\u001b[Aples for N=42:  94%|▉| 94/100 [00:00<00:00, 443.81i\n",
      "Processing graph sizes:  41%|▍| 40/97 [00:04<00:12,  4\n",
      "\u001b[Aples for N=43:   0%|       | 0/100 [00:00<?, ?it/s]\n",
      "\u001b[Aples for N=43:  44%|▍| 44/100 [00:00<00:00, 434.94i"
     ]
    },
    {
     "name": "stdout",
     "output_type": "stream",
     "text": [
      "File Exists!\n"
     ]
    },
    {
     "name": "stderr",
     "output_type": "stream",
     "text": [
      "\n",
      "\u001b[Aples for N=43:  88%|▉| 88/100 [00:00<00:00, 423.57i\n",
      "Processing graph sizes:  42%|▍| 41/97 [00:04<00:12,  4\n",
      "\u001b[Aples for N=44:   0%|       | 0/100 [00:00<?, ?it/s]\n",
      "\u001b[Aples for N=44:  44%|▍| 44/100 [00:00<00:00, 431.54i"
     ]
    },
    {
     "name": "stdout",
     "output_type": "stream",
     "text": [
      "File Exists!\n"
     ]
    },
    {
     "name": "stderr",
     "output_type": "stream",
     "text": [
      "\n",
      "\u001b[Aples for N=44:  88%|▉| 88/100 [00:00<00:00, 408.06i\n",
      "Processing graph sizes:  43%|▍| 42/97 [00:04<00:12,  4\n",
      "\u001b[Aples for N=45:   0%|       | 0/100 [00:00<?, ?it/s]\n",
      "\u001b[Aples for N=45:  42%|▍| 42/100 [00:00<00:00, 412.00i"
     ]
    },
    {
     "name": "stdout",
     "output_type": "stream",
     "text": [
      "File Exists!\n"
     ]
    },
    {
     "name": "stderr",
     "output_type": "stream",
     "text": [
      "\n",
      "\u001b[Aples for N=45:  84%|▊| 84/100 [00:00<00:00, 398.98i\n",
      "Processing graph sizes:  44%|▍| 43/97 [00:05<00:13,  4\n",
      "\u001b[Aples for N=46:   0%|       | 0/100 [00:00<?, ?it/s]\n",
      "\u001b[Aples for N=46:  41%|▍| 41/100 [00:00<00:00, 405.80i"
     ]
    },
    {
     "name": "stdout",
     "output_type": "stream",
     "text": [
      "File Exists!\n"
     ]
    },
    {
     "name": "stderr",
     "output_type": "stream",
     "text": [
      "\n",
      "\u001b[Aples for N=46:  82%|▊| 82/100 [00:00<00:00, 380.87i\n",
      "Processing graph sizes:  45%|▍| 44/97 [00:05<00:13,  3\n",
      "\u001b[Aples for N=47:   0%|       | 0/100 [00:00<?, ?it/s]\n",
      "\u001b[Aples for N=47:  42%|▍| 42/100 [00:00<00:00, 412.73i"
     ]
    },
    {
     "name": "stdout",
     "output_type": "stream",
     "text": [
      "File Exists!\n"
     ]
    },
    {
     "name": "stderr",
     "output_type": "stream",
     "text": [
      "\n",
      "\u001b[Aples for N=47:  84%|▊| 84/100 [00:00<00:00, 390.48i\n",
      "Processing graph sizes:  46%|▍| 45/97 [00:05<00:13,  3\n",
      "\u001b[Aples for N=48:   0%|       | 0/100 [00:00<?, ?it/s]\n",
      "\u001b[Aples for N=48:  37%|▎| 37/100 [00:00<00:00, 366.91i"
     ]
    },
    {
     "name": "stdout",
     "output_type": "stream",
     "text": [
      "File Exists!\n"
     ]
    },
    {
     "name": "stderr",
     "output_type": "stream",
     "text": [
      "\n",
      "\u001b[Aples for N=48:  74%|▋| 74/100 [00:00<00:00, 360.27i\n",
      "Processing graph sizes:  47%|▍| 46/97 [00:05<00:13,  3\n",
      "\u001b[Aples for N=49:   0%|       | 0/100 [00:00<?, ?it/s]\n",
      "\u001b[Aples for N=49:  35%|▎| 35/100 [00:00<00:00, 344.68i"
     ]
    },
    {
     "name": "stdout",
     "output_type": "stream",
     "text": [
      "File Exists!\n"
     ]
    },
    {
     "name": "stderr",
     "output_type": "stream",
     "text": [
      "\n",
      "\u001b[Aples for N=49:  70%|▋| 70/100 [00:00<00:00, 338.45i\n",
      "Processing graph sizes:  48%|▍| 47/97 [00:06<00:13,  3\n",
      "\u001b[Aples for N=50:   0%|       | 0/100 [00:00<?, ?it/s]\n",
      "\u001b[Aples for N=50:  34%|▎| 34/100 [00:00<00:00, 330.04i"
     ]
    },
    {
     "name": "stdout",
     "output_type": "stream",
     "text": [
      "File Exists!\n"
     ]
    },
    {
     "name": "stderr",
     "output_type": "stream",
     "text": [
      "\n",
      "\u001b[Aples for N=50:  68%|▋| 68/100 [00:00<00:00, 327.02i\n",
      "Processing graph sizes:  49%|▍| 48/97 [00:06<00:14,  3\n",
      "\u001b[Aples for N=51:   0%|       | 0/100 [00:00<?, ?it/s]\n",
      "\u001b[Aples for N=51:  32%|▎| 32/100 [00:00<00:00, 313.98i"
     ]
    },
    {
     "name": "stdout",
     "output_type": "stream",
     "text": [
      "File Exists!\n"
     ]
    },
    {
     "name": "stderr",
     "output_type": "stream",
     "text": [
      "\n",
      "\u001b[Aples for N=51:  64%|▋| 64/100 [00:00<00:00, 299.94i\n",
      "\u001b[Aples for N=51:  95%|▉| 95/100 [00:00<00:00, 295.40i\n",
      "Processing graph sizes:  51%|▌| 49/97 [00:06<00:14,  3\n",
      "\u001b[Aples for N=52:   0%|       | 0/100 [00:00<?, ?it/s]\n",
      "\u001b[Aples for N=52:  32%|▎| 32/100 [00:00<00:00, 315.42i"
     ]
    },
    {
     "name": "stdout",
     "output_type": "stream",
     "text": [
      "File Exists!\n"
     ]
    },
    {
     "name": "stderr",
     "output_type": "stream",
     "text": [
      "\n",
      "\u001b[Aples for N=52:  65%|▋| 65/100 [00:00<00:00, 318.34i\n",
      "\u001b[Aples for N=52:  97%|▉| 97/100 [00:00<00:00, 303.50i\n",
      "Processing graph sizes:  52%|▌| 50/97 [00:07<00:14,  3\n",
      "\u001b[Aples for N=53:   0%|       | 0/100 [00:00<?, ?it/s]\n",
      "\u001b[Aples for N=53:  31%|▎| 31/100 [00:00<00:00, 301.31i"
     ]
    },
    {
     "name": "stdout",
     "output_type": "stream",
     "text": [
      "File Exists!\n"
     ]
    },
    {
     "name": "stderr",
     "output_type": "stream",
     "text": [
      "\n",
      "\u001b[Aples for N=53:  62%|▌| 62/100 [00:00<00:00, 302.18i\n",
      "\u001b[Aples for N=53:  93%|▉| 93/100 [00:00<00:00, 297.86i\n",
      "Processing graph sizes:  53%|▌| 51/97 [00:07<00:14,  3\n",
      "\u001b[Aples for N=54:   0%|       | 0/100 [00:00<?, ?it/s]\n",
      "\u001b[Aples for N=54:  31%|▎| 31/100 [00:00<00:00, 305.09i"
     ]
    },
    {
     "name": "stdout",
     "output_type": "stream",
     "text": [
      "File Exists!\n"
     ]
    },
    {
     "name": "stderr",
     "output_type": "stream",
     "text": [
      "\n",
      "\u001b[Aples for N=54:  62%|▌| 62/100 [00:00<00:00, 306.76i\n",
      "\u001b[Aples for N=54:  93%|▉| 93/100 [00:00<00:00, 307.14i\n",
      "Processing graph sizes:  54%|▌| 52/97 [00:07<00:14,  3\n",
      "\u001b[Aples for N=55:   0%|       | 0/100 [00:00<?, ?it/s]\n",
      "\u001b[Aples for N=55:  30%|▎| 30/100 [00:00<00:00, 293.48i"
     ]
    },
    {
     "name": "stdout",
     "output_type": "stream",
     "text": [
      "File Exists!\n"
     ]
    },
    {
     "name": "stderr",
     "output_type": "stream",
     "text": [
      "\n",
      "\u001b[Aples for N=55:  60%|▌| 60/100 [00:00<00:00, 281.81i\n",
      "\u001b[Aples for N=55:  89%|▉| 89/100 [00:00<00:00, 282.20i\n",
      "Processing graph sizes:  55%|▌| 53/97 [00:08<00:14,  2\n",
      "\u001b[Aples for N=56:   0%|       | 0/100 [00:00<?, ?it/s]\n",
      "\u001b[Aples for N=56:  30%|▎| 30/100 [00:00<00:00, 298.22i"
     ]
    },
    {
     "name": "stdout",
     "output_type": "stream",
     "text": [
      "File Exists!\n"
     ]
    },
    {
     "name": "stderr",
     "output_type": "stream",
     "text": [
      "\n",
      "\u001b[Aples for N=56:  60%|▌| 60/100 [00:00<00:00, 277.69i\n",
      "\u001b[Aples for N=56:  88%|▉| 88/100 [00:00<00:00, 265.54i\n",
      "Processing graph sizes:  56%|▌| 54/97 [00:08<00:15,  2\n",
      "\u001b[Aples for N=57:   0%|       | 0/100 [00:00<?, ?it/s]\n",
      "\u001b[Aples for N=57:  29%|▎| 29/100 [00:00<00:00, 283.49i"
     ]
    },
    {
     "name": "stdout",
     "output_type": "stream",
     "text": [
      "File Exists!\n"
     ]
    },
    {
     "name": "stderr",
     "output_type": "stream",
     "text": [
      "\n",
      "\u001b[Aples for N=57:  58%|▌| 58/100 [00:00<00:00, 255.74i\n",
      "\u001b[Aples for N=57:  85%|▊| 85/100 [00:00<00:00, 258.31i\n",
      "Processing graph sizes:  57%|▌| 55/97 [00:08<00:15,  2\n",
      "\u001b[Aples for N=58:   0%|       | 0/100 [00:00<?, ?it/s]\n",
      "\u001b[Aples for N=58:  26%|▎| 26/100 [00:00<00:00, 253.64i"
     ]
    },
    {
     "name": "stdout",
     "output_type": "stream",
     "text": [
      "File Exists!\n"
     ]
    },
    {
     "name": "stderr",
     "output_type": "stream",
     "text": [
      "\n",
      "\u001b[Aples for N=58:  52%|▌| 52/100 [00:00<00:00, 249.73i\n",
      "\u001b[Aples for N=58:  77%|▊| 77/100 [00:00<00:00, 248.03i\n",
      "Processing graph sizes:  58%|▌| 56/97 [00:09<00:15,  2\n",
      "\u001b[Aples for N=59:   0%|       | 0/100 [00:00<?, ?it/s]\n",
      "\u001b[Aples for N=59:  27%|▎| 27/100 [00:00<00:00, 261.35i"
     ]
    },
    {
     "name": "stdout",
     "output_type": "stream",
     "text": [
      "File Exists!\n"
     ]
    },
    {
     "name": "stderr",
     "output_type": "stream",
     "text": [
      "\n",
      "\u001b[Aples for N=59:  54%|▌| 54/100 [00:00<00:00, 254.31i\n",
      "\u001b[Aples for N=59:  80%|▊| 80/100 [00:00<00:00, 253.48i\n",
      "Processing graph sizes:  59%|▌| 57/97 [00:09<00:15,  2\n",
      "\u001b[Aples for N=60:   0%|       | 0/100 [00:00<?, ?it/s]\n",
      "\u001b[Aples for N=60:  26%|▎| 26/100 [00:00<00:00, 257.79i"
     ]
    },
    {
     "name": "stdout",
     "output_type": "stream",
     "text": [
      "File Exists!\n"
     ]
    },
    {
     "name": "stderr",
     "output_type": "stream",
     "text": [
      "\n",
      "\u001b[Aples for N=60:  52%|▌| 52/100 [00:00<00:00, 253.27i\n",
      "\u001b[Aples for N=60:  78%|▊| 78/100 [00:00<00:00, 246.10i\n",
      "Processing graph sizes:  60%|▌| 58/97 [00:10<00:15,  2\n",
      "\u001b[Aples for N=61:   0%|       | 0/100 [00:00<?, ?it/s]\n",
      "\u001b[Aples for N=61:  26%|▎| 26/100 [00:00<00:00, 253.67i"
     ]
    },
    {
     "name": "stdout",
     "output_type": "stream",
     "text": [
      "File Exists!\n"
     ]
    },
    {
     "name": "stderr",
     "output_type": "stream",
     "text": [
      "\n",
      "\u001b[Aples for N=61:  52%|▌| 52/100 [00:00<00:00, 246.92i\n",
      "\u001b[Aples for N=61:  77%|▊| 77/100 [00:00<00:00, 244.80i\n",
      "Processing graph sizes:  61%|▌| 59/97 [00:10<00:15,  2\n",
      "\u001b[Aples for N=62:   0%|       | 0/100 [00:00<?, ?it/s]\n",
      "\u001b[Aples for N=62:  25%|▎| 25/100 [00:00<00:00, 246.72i"
     ]
    },
    {
     "name": "stdout",
     "output_type": "stream",
     "text": [
      "File Exists!\n"
     ]
    },
    {
     "name": "stderr",
     "output_type": "stream",
     "text": [
      "\n",
      "\u001b[Aples for N=62:  50%|▌| 50/100 [00:00<00:00, 242.11i\n",
      "\u001b[Aples for N=62:  75%|▊| 75/100 [00:00<00:00, 240.79i\n",
      "\u001b[Aples for N=62: 100%|█| 100/100 [00:00<00:00, 240.85\n",
      "Processing graph sizes:  62%|▌| 60/97 [00:11<00:15,  2\n",
      "\u001b[Aples for N=63:   0%|       | 0/100 [00:00<?, ?it/s]\n",
      "\u001b[Aples for N=63:  25%|▎| 25/100 [00:00<00:00, 241.79i"
     ]
    },
    {
     "name": "stdout",
     "output_type": "stream",
     "text": [
      "File Exists!\n"
     ]
    },
    {
     "name": "stderr",
     "output_type": "stream",
     "text": [
      "\n",
      "\u001b[Aples for N=63:  50%|▌| 50/100 [00:00<00:00, 234.68i\n",
      "\u001b[Aples for N=63:  74%|▋| 74/100 [00:00<00:00, 229.48i\n",
      "\u001b[Aples for N=63:  97%|▉| 97/100 [00:00<00:00, 227.02i\n",
      "Processing graph sizes:  63%|▋| 61/97 [00:11<00:15,  2\n",
      "\u001b[Aples for N=64:   0%|       | 0/100 [00:00<?, ?it/s]\n",
      "\u001b[Aples for N=64:  22%|▏| 22/100 [00:00<00:00, 210.83i"
     ]
    },
    {
     "name": "stdout",
     "output_type": "stream",
     "text": [
      "File Exists!\n"
     ]
    },
    {
     "name": "stderr",
     "output_type": "stream",
     "text": [
      "\n",
      "\u001b[Aples for N=64:  44%|▍| 44/100 [00:00<00:00, 195.53i\n",
      "\u001b[Aples for N=64:  65%|▋| 65/100 [00:00<00:00, 200.42i\n",
      "\u001b[Aples for N=64:  87%|▊| 87/100 [00:00<00:00, 206.87i\n",
      "Processing graph sizes:  64%|▋| 62/97 [00:12<00:21,  1\n",
      "\u001b[Aples for N=65:   0%|       | 0/100 [00:00<?, ?it/s]\n",
      "\u001b[Aples for N=65:  23%|▏| 23/100 [00:00<00:00, 221.04i"
     ]
    },
    {
     "name": "stdout",
     "output_type": "stream",
     "text": [
      "File Exists!\n"
     ]
    },
    {
     "name": "stderr",
     "output_type": "stream",
     "text": [
      "\n",
      "\u001b[Aples for N=65:  46%|▍| 46/100 [00:00<00:00, 210.74i\n",
      "\u001b[Aples for N=65:  68%|▋| 68/100 [00:00<00:00, 208.61i\n",
      "\u001b[Aples for N=65:  90%|▉| 90/100 [00:00<00:00, 210.86i\n",
      "Processing graph sizes:  65%|▋| 63/97 [00:13<00:19,  1\n",
      "\u001b[Aples for N=66:   0%|       | 0/100 [00:00<?, ?it/s]\n",
      "\u001b[Aples for N=66:  23%|▏| 23/100 [00:00<00:00, 220.76i"
     ]
    },
    {
     "name": "stdout",
     "output_type": "stream",
     "text": [
      "File Exists!\n"
     ]
    },
    {
     "name": "stderr",
     "output_type": "stream",
     "text": [
      "\n",
      "\u001b[Aples for N=66:  46%|▍| 46/100 [00:00<00:00, 210.19i\n",
      "\u001b[Aples for N=66:  68%|▋| 68/100 [00:00<00:00, 203.66i\n",
      "\u001b[Aples for N=66:  89%|▉| 89/100 [00:00<00:00, 204.85i\n",
      "Processing graph sizes:  66%|▋| 64/97 [00:13<00:18,  1\n",
      "\u001b[Aples for N=67:   0%|       | 0/100 [00:00<?, ?it/s]\n",
      "\u001b[Aples for N=67:  22%|▏| 22/100 [00:00<00:00, 211.82i"
     ]
    },
    {
     "name": "stdout",
     "output_type": "stream",
     "text": [
      "File Exists!\n"
     ]
    },
    {
     "name": "stderr",
     "output_type": "stream",
     "text": [
      "\n",
      "\u001b[Aples for N=67:  44%|▍| 44/100 [00:00<00:00, 198.23i\n",
      "\u001b[Aples for N=67:  64%|▋| 64/100 [00:00<00:00, 195.12i\n",
      "\u001b[Aples for N=67:  85%|▊| 85/100 [00:00<00:00, 198.08i\n",
      "Processing graph sizes:  67%|▋| 65/97 [00:14<00:17,  1\n",
      "\u001b[Aples for N=68:   0%|       | 0/100 [00:00<?, ?it/s]\n",
      "\u001b[Aples for N=68:  21%|▏| 21/100 [00:00<00:00, 205.74i"
     ]
    },
    {
     "name": "stdout",
     "output_type": "stream",
     "text": [
      "File Exists!\n"
     ]
    },
    {
     "name": "stderr",
     "output_type": "stream",
     "text": [
      "\n",
      "\u001b[Aples for N=68:  42%|▍| 42/100 [00:00<00:00, 201.06i\n",
      "\u001b[Aples for N=68:  63%|▋| 63/100 [00:00<00:00, 198.71i\n",
      "\u001b[Aples for N=68:  83%|▊| 83/100 [00:00<00:00, 198.29i\n",
      "Processing graph sizes:  68%|▋| 66/97 [00:14<00:16,  1\n",
      "\u001b[Aples for N=69:   0%|       | 0/100 [00:00<?, ?it/s]\n",
      "\u001b[Aples for N=69:  20%|▏| 20/100 [00:00<00:00, 195.47i"
     ]
    },
    {
     "name": "stdout",
     "output_type": "stream",
     "text": [
      "File Exists!\n"
     ]
    },
    {
     "name": "stderr",
     "output_type": "stream",
     "text": [
      "\n",
      "\u001b[Aples for N=69:  40%|▍| 40/100 [00:00<00:00, 190.37i\n",
      "\u001b[Aples for N=69:  60%|▌| 60/100 [00:00<00:00, 190.04i\n",
      "\u001b[Aples for N=69:  80%|▊| 80/100 [00:00<00:00, 191.43i\n",
      "\u001b[Aples for N=69: 100%|█| 100/100 [00:00<00:00, 183.00\n",
      "Processing graph sizes:  69%|▋| 67/97 [00:15<00:16,  1\n",
      "\u001b[Aples for N=70:   0%|       | 0/100 [00:00<?, ?it/s]\n",
      "\u001b[Aples for N=70:  19%|▏| 19/100 [00:00<00:00, 187.12i"
     ]
    },
    {
     "name": "stdout",
     "output_type": "stream",
     "text": [
      "File Exists!\n"
     ]
    },
    {
     "name": "stderr",
     "output_type": "stream",
     "text": [
      "\n",
      "\u001b[Aples for N=70:  38%|▍| 38/100 [00:00<00:00, 182.97i\n",
      "\u001b[Aples for N=70:  57%|▌| 57/100 [00:00<00:00, 182.60i\n",
      "\u001b[Aples for N=70:  76%|▊| 76/100 [00:00<00:00, 177.16i\n",
      "\u001b[Aples for N=70:  94%|▉| 94/100 [00:00<00:00, 174.90i\n",
      "Processing graph sizes:  70%|▋| 68/97 [00:15<00:15,  1\n",
      "\u001b[Aples for N=71:   0%|       | 0/100 [00:00<?, ?it/s]\n",
      "\u001b[Aples for N=71:  19%|▏| 19/100 [00:00<00:00, 185.74i"
     ]
    },
    {
     "name": "stdout",
     "output_type": "stream",
     "text": [
      "File Exists!\n"
     ]
    },
    {
     "name": "stderr",
     "output_type": "stream",
     "text": [
      "\n",
      "\u001b[Aples for N=71:  38%|▍| 38/100 [00:00<00:00, 178.26i\n",
      "\u001b[Aples for N=71:  56%|▌| 56/100 [00:00<00:00, 175.91i\n",
      "\u001b[Aples for N=71:  74%|▋| 74/100 [00:00<00:00, 165.86i\n",
      "\u001b[Aples for N=71:  92%|▉| 92/100 [00:00<00:00, 168.93i\n",
      "Processing graph sizes:  71%|▋| 69/97 [00:16<00:15,  1\n",
      "\u001b[Aples for N=72:   0%|       | 0/100 [00:00<?, ?it/s]\n",
      "\u001b[Aples for N=72:  20%|▏| 20/100 [00:00<00:00, 194.33i"
     ]
    },
    {
     "name": "stdout",
     "output_type": "stream",
     "text": [
      "File Exists!\n"
     ]
    },
    {
     "name": "stderr",
     "output_type": "stream",
     "text": [
      "\n",
      "\u001b[Aples for N=72:  40%|▍| 40/100 [00:00<00:00, 181.32i\n",
      "\u001b[Aples for N=72:  59%|▌| 59/100 [00:00<00:00, 167.70i\n",
      "\u001b[Aples for N=72:  76%|▊| 76/100 [00:00<00:00, 164.50i\n",
      "\u001b[Aples for N=72:  94%|▉| 94/100 [00:00<00:00, 167.75i\n",
      "Processing graph sizes:  72%|▋| 70/97 [00:16<00:15,  1\n",
      "\u001b[Aples for N=73:   0%|       | 0/100 [00:00<?, ?it/s]\n",
      "\u001b[Aples for N=73:  19%|▏| 19/100 [00:00<00:00, 180.07i"
     ]
    },
    {
     "name": "stdout",
     "output_type": "stream",
     "text": [
      "File Exists!\n"
     ]
    },
    {
     "name": "stderr",
     "output_type": "stream",
     "text": [
      "\n",
      "\u001b[Aples for N=73:  38%|▍| 38/100 [00:00<00:00, 169.83i\n",
      "\u001b[Aples for N=73:  56%|▌| 56/100 [00:00<00:00, 167.34i\n",
      "\u001b[Aples for N=73:  73%|▋| 73/100 [00:00<00:00, 162.77i\n",
      "\u001b[Aples for N=73:  90%|▉| 90/100 [00:00<00:00, 160.74i\n",
      "Processing graph sizes:  73%|▋| 71/97 [00:17<00:15,  1\n",
      "\u001b[Aples for N=74:   0%|       | 0/100 [00:00<?, ?it/s]\n",
      "\u001b[Aples for N=74:  18%|▏| 18/100 [00:00<00:00, 175.25i"
     ]
    },
    {
     "name": "stdout",
     "output_type": "stream",
     "text": [
      "File Exists!\n"
     ]
    },
    {
     "name": "stderr",
     "output_type": "stream",
     "text": [
      "\n",
      "\u001b[Aples for N=74:  36%|▎| 36/100 [00:00<00:00, 166.34i\n",
      "\u001b[Aples for N=74:  53%|▌| 53/100 [00:00<00:00, 160.75i\n",
      "\u001b[Aples for N=74:  70%|▋| 70/100 [00:00<00:00, 159.93i\n",
      "\u001b[Aples for N=74:  87%|▊| 87/100 [00:00<00:00, 157.56i\n",
      "Processing graph sizes:  74%|▋| 72/97 [00:18<00:15,  1\n",
      "\u001b[Aples for N=75:   0%|       | 0/100 [00:00<?, ?it/s]\n",
      "\u001b[Aples for N=75:  17%|▏| 17/100 [00:00<00:00, 168.75i"
     ]
    },
    {
     "name": "stdout",
     "output_type": "stream",
     "text": [
      "File Exists!\n"
     ]
    },
    {
     "name": "stderr",
     "output_type": "stream",
     "text": [
      "\n",
      "\u001b[Aples for N=75:  34%|▎| 34/100 [00:00<00:00, 151.76i\n",
      "\u001b[Aples for N=75:  50%|▌| 50/100 [00:00<00:00, 152.90i\n",
      "\u001b[Aples for N=75:  66%|▋| 66/100 [00:00<00:00, 150.50i\n",
      "\u001b[Aples for N=75:  82%|▊| 82/100 [00:00<00:00, 149.66i\n",
      "\u001b[Aples for N=75:  98%|▉| 98/100 [00:00<00:00, 152.33i\n",
      "Processing graph sizes:  75%|▊| 73/97 [00:18<00:14,  1\n",
      "\u001b[Aples for N=76:   0%|       | 0/100 [00:00<?, ?it/s]\n",
      "\u001b[Aples for N=76:  18%|▏| 18/100 [00:00<00:00, 168.92i"
     ]
    },
    {
     "name": "stdout",
     "output_type": "stream",
     "text": [
      "File Exists!\n"
     ]
    },
    {
     "name": "stderr",
     "output_type": "stream",
     "text": [
      "\n",
      "\u001b[Aples for N=76:  35%|▎| 35/100 [00:00<00:00, 158.75i\n",
      "\u001b[Aples for N=76:  51%|▌| 51/100 [00:00<00:00, 155.32i\n",
      "\u001b[Aples for N=76:  67%|▋| 67/100 [00:00<00:00, 153.71i\n",
      "\u001b[Aples for N=76:  83%|▊| 83/100 [00:00<00:00, 152.99i\n",
      "\u001b[Aples for N=76:  99%|▉| 99/100 [00:00<00:00, 150.13i\n",
      "Processing graph sizes:  76%|▊| 74/97 [00:19<00:14,  1\n",
      "\u001b[Aples for N=77:   0%|       | 0/100 [00:00<?, ?it/s]\n",
      "\u001b[Aples for N=77:  16%|▏| 16/100 [00:00<00:00, 156.97i"
     ]
    },
    {
     "name": "stdout",
     "output_type": "stream",
     "text": [
      "File Exists!\n"
     ]
    },
    {
     "name": "stderr",
     "output_type": "stream",
     "text": [
      "\n",
      "\u001b[Aples for N=77:  32%|▎| 32/100 [00:00<00:00, 147.04i\n",
      "\u001b[Aples for N=77:  47%|▍| 47/100 [00:00<00:00, 133.54i\n",
      "\u001b[Aples for N=77:  61%|▌| 61/100 [00:00<00:00, 130.76i\n",
      "\u001b[Aples for N=77:  76%|▊| 76/100 [00:00<00:00, 136.17i\n",
      "\u001b[Aples for N=77:  91%|▉| 91/100 [00:00<00:00, 138.56i\n",
      "Processing graph sizes:  77%|▊| 75/97 [00:20<00:14,  1\n",
      "\u001b[Aples for N=78:   0%|       | 0/100 [00:00<?, ?it/s]\n",
      "\u001b[Aples for N=78:  16%|▏| 16/100 [00:00<00:00, 158.36i"
     ]
    },
    {
     "name": "stdout",
     "output_type": "stream",
     "text": [
      "File Exists!\n"
     ]
    },
    {
     "name": "stderr",
     "output_type": "stream",
     "text": [
      "\n",
      "\u001b[Aples for N=78:  32%|▎| 32/100 [00:00<00:00, 141.34i\n",
      "\u001b[Aples for N=78:  47%|▍| 47/100 [00:00<00:00, 136.96i\n",
      "\u001b[Aples for N=78:  62%|▌| 62/100 [00:00<00:00, 140.61i\n",
      "\u001b[Aples for N=78:  77%|▊| 77/100 [00:00<00:00, 137.83i\n",
      "\u001b[Aples for N=78:  92%|▉| 92/100 [00:00<00:00, 139.87i\n",
      "Processing graph sizes:  78%|▊| 76/97 [00:20<00:14,  1\n",
      "\u001b[Aples for N=79:   0%|       | 0/100 [00:00<?, ?it/s]\n",
      "\u001b[Aples for N=79:  16%|▏| 16/100 [00:00<00:00, 155.30i"
     ]
    },
    {
     "name": "stdout",
     "output_type": "stream",
     "text": [
      "File Exists!\n"
     ]
    },
    {
     "name": "stderr",
     "output_type": "stream",
     "text": [
      "\n",
      "\u001b[Aples for N=79:  32%|▎| 32/100 [00:00<00:00, 142.88i\n",
      "\u001b[Aples for N=79:  47%|▍| 47/100 [00:00<00:00, 140.15i\n",
      "\u001b[Aples for N=79:  62%|▌| 62/100 [00:00<00:00, 138.01i\n",
      "\u001b[Aples for N=79:  76%|▊| 76/100 [00:00<00:00, 136.36i\n",
      "\u001b[Aples for N=79:  91%|▉| 91/100 [00:00<00:00, 138.53i\n",
      "Processing graph sizes:  79%|▊| 77/97 [00:21<00:13,  1\n",
      "\u001b[Aples for N=80:   0%|       | 0/100 [00:00<?, ?it/s]\n",
      "\u001b[Aples for N=80:  15%|▏| 15/100 [00:00<00:00, 141.11i"
     ]
    },
    {
     "name": "stdout",
     "output_type": "stream",
     "text": [
      "File Exists!\n"
     ]
    },
    {
     "name": "stderr",
     "output_type": "stream",
     "text": [
      "\n",
      "\u001b[Aples for N=80:  30%|▎| 30/100 [00:00<00:00, 134.55i\n",
      "\u001b[Aples for N=80:  44%|▍| 44/100 [00:00<00:00, 134.82i\n",
      "\u001b[Aples for N=80:  58%|▌| 58/100 [00:00<00:00, 131.53i\n",
      "\u001b[Aples for N=80:  72%|▋| 72/100 [00:00<00:00, 128.75i\n",
      "\u001b[Aples for N=80:  85%|▊| 85/100 [00:00<00:00, 128.00i\n",
      "\u001b[Aples for N=80:  98%|▉| 98/100 [00:00<00:00, 127.39i\n",
      "Processing graph sizes:  80%|▊| 78/97 [00:22<00:13,  1\n",
      "\u001b[Aples for N=81:   0%|       | 0/100 [00:00<?, ?it/s]\n",
      "\u001b[Aples for N=81:  15%|▏| 15/100 [00:00<00:00, 141.93i"
     ]
    },
    {
     "name": "stdout",
     "output_type": "stream",
     "text": [
      "File Exists!\n"
     ]
    },
    {
     "name": "stderr",
     "output_type": "stream",
     "text": [
      "\n",
      "\u001b[Aples for N=81:  30%|▎| 30/100 [00:00<00:00, 132.56i\n",
      "\u001b[Aples for N=81:  44%|▍| 44/100 [00:00<00:00, 130.99i\n",
      "\u001b[Aples for N=81:  58%|▌| 58/100 [00:00<00:00, 133.57i\n",
      "\u001b[Aples for N=81:  72%|▋| 72/100 [00:00<00:00, 135.07i\n",
      "\u001b[Aples for N=81:  86%|▊| 86/100 [00:00<00:00, 135.19i\n",
      "Processing graph sizes:  81%|▊| 79/97 [00:23<00:13,  1\n",
      "\u001b[Aples for N=82:   0%|       | 0/100 [00:00<?, ?it/s]\n",
      "\u001b[Aples for N=82:  15%|▏| 15/100 [00:00<00:00, 140.48i"
     ]
    },
    {
     "name": "stdout",
     "output_type": "stream",
     "text": [
      "File Exists!\n"
     ]
    },
    {
     "name": "stderr",
     "output_type": "stream",
     "text": [
      "\n",
      "\u001b[Aples for N=82:  30%|▎| 30/100 [00:00<00:00, 135.48i\n",
      "\u001b[Aples for N=82:  44%|▍| 44/100 [00:00<00:00, 132.76i\n",
      "\u001b[Aples for N=82:  58%|▌| 58/100 [00:00<00:00, 132.70i\n",
      "\u001b[Aples for N=82:  72%|▋| 72/100 [00:01<00:00, 40.97it\n",
      "\u001b[Aples for N=82:  86%|▊| 86/100 [00:01<00:00, 53.48it\n",
      "\u001b[Aples for N=82: 100%|█| 100/100 [00:01<00:00, 66.29i\n",
      "Processing graph sizes:  82%|▊| 80/97 [00:24<00:15,  1\n",
      "\u001b[Aples for N=83:   0%|       | 0/100 [00:00<?, ?it/s]\n",
      "\u001b[Aples for N=83:  15%|▏| 15/100 [00:00<00:00, 142.92i"
     ]
    },
    {
     "name": "stdout",
     "output_type": "stream",
     "text": [
      "File Exists!\n"
     ]
    },
    {
     "name": "stderr",
     "output_type": "stream",
     "text": [
      "\n",
      "\u001b[Aples for N=83:  30%|▎| 30/100 [00:00<00:00, 133.71i\n",
      "\u001b[Aples for N=83:  44%|▍| 44/100 [00:00<00:00, 128.00i\n",
      "\u001b[Aples for N=83:  57%|▌| 57/100 [00:00<00:00, 127.93i\n",
      "\u001b[Aples for N=83:  70%|▋| 70/100 [00:00<00:00, 128.45i\n",
      "\u001b[Aples for N=83:  83%|▊| 83/100 [00:00<00:00, 124.78i\n",
      "\u001b[Aples for N=83:  96%|▉| 96/100 [00:00<00:00, 123.29i\n",
      "Processing graph sizes:  84%|▊| 81/97 [00:25<00:14,  1\n",
      "\u001b[Aples for N=84:   0%|       | 0/100 [00:00<?, ?it/s]\n",
      "\u001b[Aples for N=84:  14%|▏| 14/100 [00:00<00:00, 138.70i"
     ]
    },
    {
     "name": "stdout",
     "output_type": "stream",
     "text": [
      "File Exists!\n"
     ]
    },
    {
     "name": "stderr",
     "output_type": "stream",
     "text": [
      "\n",
      "\u001b[Aples for N=84:  28%|▎| 28/100 [00:00<00:00, 125.99i\n",
      "\u001b[Aples for N=84:  41%|▍| 41/100 [00:00<00:00, 126.06i\n",
      "\u001b[Aples for N=84:  54%|▌| 54/100 [00:00<00:00, 124.48i\n",
      "\u001b[Aples for N=84:  67%|▋| 67/100 [00:00<00:00, 121.65i\n",
      "\u001b[Aples for N=84:  80%|▊| 80/100 [00:00<00:00, 120.70i\n",
      "\u001b[Aples for N=84:  93%|▉| 93/100 [00:00<00:00, 123.22i\n",
      "Processing graph sizes:  85%|▊| 82/97 [00:26<00:13,  1\n",
      "\u001b[Aples for N=85:   0%|       | 0/100 [00:00<?, ?it/s]\n",
      "\u001b[Aples for N=85:  14%|▏| 14/100 [00:00<00:00, 137.92i"
     ]
    },
    {
     "name": "stdout",
     "output_type": "stream",
     "text": [
      "File Exists!\n"
     ]
    },
    {
     "name": "stderr",
     "output_type": "stream",
     "text": [
      "\n",
      "\u001b[Aples for N=85:  28%|▎| 28/100 [00:00<00:00, 130.40i\n",
      "\u001b[Aples for N=85:  42%|▍| 42/100 [00:00<00:00, 128.77i\n",
      "\u001b[Aples for N=85:  55%|▌| 55/100 [00:00<00:00, 125.51i\n",
      "\u001b[Aples for N=85:  68%|▋| 68/100 [00:00<00:00, 124.52i\n",
      "\u001b[Aples for N=85:  81%|▊| 81/100 [00:00<00:00, 121.58i\n",
      "\u001b[Aples for N=85:  94%|▉| 94/100 [00:00<00:00, 122.41i\n",
      "Processing graph sizes:  86%|▊| 83/97 [00:27<00:11,  1\n",
      "\u001b[Aples for N=86:   0%|       | 0/100 [00:00<?, ?it/s]\n",
      "\u001b[Aples for N=86:  14%|▏| 14/100 [00:00<00:00, 136.53i"
     ]
    },
    {
     "name": "stdout",
     "output_type": "stream",
     "text": [
      "File Exists!\n"
     ]
    },
    {
     "name": "stderr",
     "output_type": "stream",
     "text": [
      "\n",
      "\u001b[Aples for N=86:  28%|▎| 28/100 [00:00<00:00, 127.76i\n",
      "\u001b[Aples for N=86:  41%|▍| 41/100 [00:00<00:00, 126.78i\n",
      "\u001b[Aples for N=86:  54%|▌| 54/100 [00:00<00:00, 121.99i\n",
      "\u001b[Aples for N=86:  67%|▋| 67/100 [00:00<00:00, 121.72i\n",
      "\u001b[Aples for N=86:  80%|▊| 80/100 [00:00<00:00, 124.05i\n",
      "\u001b[Aples for N=86:  93%|▉| 93/100 [00:00<00:00, 123.37i\n",
      "Processing graph sizes:  87%|▊| 84/97 [00:27<00:10,  1\n",
      "\u001b[Aples for N=87:   0%|       | 0/100 [00:00<?, ?it/s]\n",
      "\u001b[Aples for N=87:  14%|▏| 14/100 [00:00<00:00, 132.57i"
     ]
    },
    {
     "name": "stdout",
     "output_type": "stream",
     "text": [
      "File Exists!\n"
     ]
    },
    {
     "name": "stderr",
     "output_type": "stream",
     "text": [
      "\n",
      "\u001b[Aples for N=87:  28%|▎| 28/100 [00:00<00:00, 124.35i\n",
      "\u001b[Aples for N=87:  41%|▍| 41/100 [00:00<00:00, 123.46i\n",
      "\u001b[Aples for N=87:  54%|▌| 54/100 [00:00<00:00, 122.64i\n",
      "\u001b[Aples for N=87:  67%|▋| 67/100 [00:00<00:00, 123.89i\n",
      "\u001b[Aples for N=87:  80%|▊| 80/100 [00:00<00:00, 124.42i\n",
      "\u001b[Aples for N=87:  93%|▉| 93/100 [00:00<00:00, 123.54i\n",
      "Processing graph sizes:  88%|▉| 85/97 [00:28<00:10,  1\n",
      "\u001b[Aples for N=88:   0%|       | 0/100 [00:00<?, ?it/s]\n",
      "\u001b[Aples for N=88:  14%|▏| 14/100 [00:00<00:00, 130.70i"
     ]
    },
    {
     "name": "stdout",
     "output_type": "stream",
     "text": [
      "File Exists!\n"
     ]
    },
    {
     "name": "stderr",
     "output_type": "stream",
     "text": [
      "\n",
      "\u001b[Aples for N=88:  28%|▎| 28/100 [00:00<00:00, 122.17i\n",
      "\u001b[Aples for N=88:  41%|▍| 41/100 [00:00<00:00, 120.65i\n",
      "\u001b[Aples for N=88:  54%|▌| 54/100 [00:00<00:00, 120.22i\n",
      "\u001b[Aples for N=88:  67%|▋| 67/100 [00:00<00:00, 119.98i\n",
      "\u001b[Aples for N=88:  80%|▊| 80/100 [00:00<00:00, 119.07i\n",
      "\u001b[Aples for N=88:  92%|▉| 92/100 [00:00<00:00, 118.57i\n",
      "Processing graph sizes:  89%|▉| 86/97 [00:29<00:09,  1\n",
      "\u001b[Aples for N=89:   0%|       | 0/100 [00:00<?, ?it/s]\n",
      "\u001b[Aples for N=89:  13%|▏| 13/100 [00:00<00:00, 128.20i"
     ]
    },
    {
     "name": "stdout",
     "output_type": "stream",
     "text": [
      "File Exists!\n"
     ]
    },
    {
     "name": "stderr",
     "output_type": "stream",
     "text": [
      "\n",
      "\u001b[Aples for N=89:  26%|▎| 26/100 [00:00<00:00, 120.52i\n",
      "\u001b[Aples for N=89:  39%|▍| 39/100 [00:00<00:00, 116.11i\n",
      "\u001b[Aples for N=89:  51%|▌| 51/100 [00:00<00:00, 115.58i\n",
      "\u001b[Aples for N=89:  63%|▋| 63/100 [00:00<00:00, 115.72i\n",
      "\u001b[Aples for N=89:  75%|▊| 75/100 [00:00<00:00, 114.02i\n",
      "\u001b[Aples for N=89:  87%|▊| 87/100 [00:00<00:00, 113.12i\n",
      "\u001b[Aples for N=89:  99%|▉| 99/100 [00:00<00:00, 108.90i\n",
      "Processing graph sizes:  90%|▉| 87/97 [00:30<00:08,  1\n",
      "\u001b[Aples for N=90:   0%|       | 0/100 [00:00<?, ?it/s]\n",
      "\u001b[Aples for N=90:  13%|▏| 13/100 [00:00<00:00, 126.69i"
     ]
    },
    {
     "name": "stdout",
     "output_type": "stream",
     "text": [
      "File Exists!\n"
     ]
    },
    {
     "name": "stderr",
     "output_type": "stream",
     "text": [
      "\n",
      "\u001b[Aples for N=90:  26%|▎| 26/100 [00:00<00:00, 120.06i\n",
      "\u001b[Aples for N=90:  39%|▍| 39/100 [00:00<00:00, 113.66i\n",
      "\u001b[Aples for N=90:  51%|▌| 51/100 [00:00<00:00, 110.24i\n",
      "\u001b[Aples for N=90:  63%|▋| 63/100 [00:00<00:00, 111.26i\n",
      "\u001b[Aples for N=90:  75%|▊| 75/100 [00:00<00:00, 108.71i\n",
      "\u001b[Aples for N=90:  86%|▊| 86/100 [00:00<00:00, 107.68i\n",
      "\u001b[Aples for N=90:  97%|▉| 97/100 [00:00<00:00, 108.30i\n",
      "Processing graph sizes:  91%|▉| 88/97 [00:31<00:07,  1\n",
      "\u001b[Aples for N=91:   0%|       | 0/100 [00:00<?, ?it/s]\n",
      "\u001b[Aples for N=91:  12%| | 12/100 [00:00<00:00, 115.01i"
     ]
    },
    {
     "name": "stdout",
     "output_type": "stream",
     "text": [
      "File Exists!\n"
     ]
    },
    {
     "name": "stderr",
     "output_type": "stream",
     "text": [
      "\n",
      "\u001b[Aples for N=91:  24%|▏| 24/100 [00:00<00:00, 105.64i\n",
      "\u001b[Aples for N=91:  35%|▎| 35/100 [00:00<00:00, 103.31i\n",
      "\u001b[Aples for N=91:  46%|▍| 46/100 [00:00<00:00, 102.68i\n",
      "\u001b[Aples for N=91:  57%|▌| 57/100 [00:00<00:00, 102.56i\n",
      "\u001b[Aples for N=91:  68%|▋| 68/100 [00:00<00:00, 101.24i\n",
      "\u001b[Aples for N=91:  79%|▊| 79/100 [00:00<00:00, 100.23i\n",
      "\u001b[Aples for N=91:  91%|▉| 91/100 [00:00<00:00, 103.47i\n",
      "Processing graph sizes:  92%|▉| 89/97 [00:32<00:07,  1\n",
      "\u001b[Aples for N=92:   0%|       | 0/100 [00:00<?, ?it/s]\n",
      "\u001b[Aples for N=92:  12%| | 12/100 [00:00<00:00, 116.09i"
     ]
    },
    {
     "name": "stdout",
     "output_type": "stream",
     "text": [
      "File Exists!\n"
     ]
    },
    {
     "name": "stderr",
     "output_type": "stream",
     "text": [
      "\n",
      "\u001b[Aples for N=92:  24%|▏| 24/100 [00:00<00:00, 112.73i\n",
      "\u001b[Aples for N=92:  36%|▎| 36/100 [00:00<00:00, 111.87i\n",
      "\u001b[Aples for N=92:  48%|▍| 48/100 [00:00<00:00, 111.99i\n",
      "\u001b[Aples for N=92:  60%|▌| 60/100 [00:00<00:00, 111.00i\n",
      "\u001b[Aples for N=92:  72%|▋| 72/100 [00:00<00:00, 111.32i\n",
      "\u001b[Aples for N=92:  84%|▊| 84/100 [00:00<00:00, 111.27i\n",
      "\u001b[Aples for N=92:  96%|▉| 96/100 [00:00<00:00, 111.85i\n",
      "Processing graph sizes:  93%|▉| 90/97 [00:33<00:06,  1\n",
      "\u001b[Aples for N=93:   0%|       | 0/100 [00:00<?, ?it/s]\n",
      "\u001b[Aples for N=93:  11%| | 11/100 [00:00<00:00, 108.74i"
     ]
    },
    {
     "name": "stdout",
     "output_type": "stream",
     "text": [
      "File Exists!\n"
     ]
    },
    {
     "name": "stderr",
     "output_type": "stream",
     "text": [
      "\n",
      "\u001b[Aples for N=93:  22%|▏| 22/100 [00:00<00:00, 105.11i\n",
      "\u001b[Aples for N=93:  33%|▎| 33/100 [00:00<00:00, 105.48i\n",
      "\u001b[Aples for N=93:  44%|▍| 44/100 [00:00<00:00, 100.48i\n",
      "\u001b[Aples for N=93:  55%|▌| 55/100 [00:01<00:01, 28.02it\n",
      "\u001b[Aples for N=93:  65%|▋| 65/100 [00:01<00:00, 36.33it\n",
      "\u001b[Aples for N=93:  75%|▊| 75/100 [00:01<00:00, 44.89it\n",
      "\u001b[Aples for N=93:  85%|▊| 85/100 [00:01<00:00, 53.53it\n",
      "\u001b[Aples for N=93:  95%|▉| 95/100 [00:01<00:00, 61.90it\n",
      "Processing graph sizes:  94%|▉| 91/97 [00:34<00:07,  1\n",
      "\u001b[Aples for N=94:   0%|       | 0/100 [00:00<?, ?it/s]\n",
      "\u001b[Aples for N=94:  12%| | 12/100 [00:00<00:00, 109.09i"
     ]
    },
    {
     "name": "stdout",
     "output_type": "stream",
     "text": [
      "File Exists!\n"
     ]
    },
    {
     "name": "stderr",
     "output_type": "stream",
     "text": [
      "\n",
      "\u001b[Aples for N=94:  23%|▏| 23/100 [00:00<00:00, 99.10it\n",
      "\u001b[Aples for N=94:  33%|▎| 33/100 [00:00<00:00, 97.46it\n",
      "\u001b[Aples for N=94:  43%|▍| 43/100 [00:00<00:00, 97.09it\n",
      "\u001b[Aples for N=94:  53%|▌| 53/100 [00:00<00:00, 97.64it\n",
      "\u001b[Aples for N=94:  64%|▋| 64/100 [00:00<00:00, 99.64it\n",
      "\u001b[Aples for N=94:  74%|▋| 74/100 [00:00<00:00, 99.25it\n",
      "\u001b[Aples for N=94:  84%|▊| 84/100 [00:00<00:00, 94.86it\n",
      "\u001b[Aples for N=94:  94%|▉| 94/100 [00:00<00:00, 95.77it\n",
      "Processing graph sizes:  95%|▉| 92/97 [00:36<00:05,  1\n",
      "\u001b[Aples for N=95:   0%|       | 0/100 [00:00<?, ?it/s]\n",
      "\u001b[Aples for N=95:  12%| | 12/100 [00:00<00:00, 110.53i"
     ]
    },
    {
     "name": "stdout",
     "output_type": "stream",
     "text": [
      "File Exists!\n"
     ]
    },
    {
     "name": "stderr",
     "output_type": "stream",
     "text": [
      "\n",
      "\u001b[Aples for N=95:  24%|▏| 24/100 [00:00<00:00, 102.15i\n",
      "\u001b[Aples for N=95:  35%|▎| 35/100 [00:00<00:00, 102.63i\n",
      "\u001b[Aples for N=95:  46%|▍| 46/100 [00:00<00:00, 102.41i\n",
      "\u001b[Aples for N=95:  57%|▌| 57/100 [00:00<00:00, 101.34i\n",
      "\u001b[Aples for N=95:  68%|▋| 68/100 [00:00<00:00, 100.28i\n",
      "\u001b[Aples for N=95:  79%|▊| 79/100 [00:00<00:00, 99.14it\n",
      "\u001b[Aples for N=95:  89%|▉| 89/100 [00:00<00:00, 97.86it\n",
      "\u001b[Aples for N=95:  99%|▉| 99/100 [00:00<00:00, 97.38it\n",
      "Processing graph sizes:  96%|▉| 93/97 [00:37<00:04,  1\n",
      "\u001b[Aples for N=96:   0%|       | 0/100 [00:00<?, ?it/s]\n",
      "\u001b[Aples for N=96:  11%| | 11/100 [00:00<00:00, 109.29i"
     ]
    },
    {
     "name": "stdout",
     "output_type": "stream",
     "text": [
      "File Exists!\n"
     ]
    },
    {
     "name": "stderr",
     "output_type": "stream",
     "text": [
      "\n",
      "\u001b[Aples for N=96:  22%|▏| 22/100 [00:00<00:00, 104.68i\n",
      "\u001b[Aples for N=96:  33%|▎| 33/100 [00:00<00:00, 99.96it\n",
      "\u001b[Aples for N=96:  44%|▍| 44/100 [00:00<00:00, 99.44it\n",
      "\u001b[Aples for N=96:  54%|▌| 54/100 [00:00<00:00, 98.92it\n",
      "\u001b[Aples for N=96:  64%|▋| 64/100 [00:00<00:00, 97.48it\n",
      "\u001b[Aples for N=96:  74%|▋| 74/100 [00:00<00:00, 96.95it\n",
      "\u001b[Aples for N=96:  85%|▊| 85/100 [00:00<00:00, 99.01it\n",
      "\u001b[Aples for N=96:  95%|▉| 95/100 [00:00<00:00, 98.76it\n",
      "Processing graph sizes:  97%|▉| 94/97 [00:38<00:03,  1\n",
      "\u001b[Aples for N=97:   0%|       | 0/100 [00:00<?, ?it/s]\n",
      "\u001b[Aples for N=97:  11%| | 11/100 [00:00<00:00, 104.16i"
     ]
    },
    {
     "name": "stdout",
     "output_type": "stream",
     "text": [
      "File Exists!\n"
     ]
    },
    {
     "name": "stderr",
     "output_type": "stream",
     "text": [
      "\n",
      "\u001b[Aples for N=97:  22%|▏| 22/100 [00:00<00:00, 97.73it\n",
      "\u001b[Aples for N=97:  32%|▎| 32/100 [00:00<00:00, 97.18it\n",
      "\u001b[Aples for N=97:  42%|▍| 42/100 [00:00<00:00, 97.99it\n",
      "\u001b[Aples for N=97:  52%|▌| 52/100 [00:00<00:00, 97.11it\n",
      "\u001b[Aples for N=97:  62%|▌| 62/100 [00:00<00:00, 97.07it\n",
      "\u001b[Aples for N=97:  72%|▋| 72/100 [00:00<00:00, 97.27it\n",
      "\u001b[Aples for N=97:  82%|▊| 82/100 [00:00<00:00, 96.46it\n",
      "\u001b[Aples for N=97:  92%|▉| 92/100 [00:00<00:00, 96.59it\n",
      "Processing graph sizes:  98%|▉| 95/97 [00:39<00:02,  1\n",
      "\u001b[Aples for N=98:   0%|       | 0/100 [00:00<?, ?it/s]\n",
      "\u001b[Aples for N=98:  11%| | 11/100 [00:00<00:00, 105.04i"
     ]
    },
    {
     "name": "stdout",
     "output_type": "stream",
     "text": [
      "File Exists!\n"
     ]
    },
    {
     "name": "stderr",
     "output_type": "stream",
     "text": [
      "\n",
      "\u001b[Aples for N=98:  22%|▏| 22/100 [00:00<00:00, 96.04it\n",
      "\u001b[Aples for N=98:  32%|▎| 32/100 [00:00<00:00, 95.15it\n",
      "\u001b[Aples for N=98:  43%|▍| 43/100 [00:00<00:00, 97.67it\n",
      "\u001b[Aples for N=98:  53%|▌| 53/100 [00:00<00:00, 98.30it\n",
      "\u001b[Aples for N=98:  64%|▋| 64/100 [00:00<00:00, 99.03it\n",
      "\u001b[Aples for N=98:  74%|▋| 74/100 [00:00<00:00, 98.09it\n",
      "\u001b[Aples for N=98:  84%|▊| 84/100 [00:00<00:00, 97.55it\n",
      "\u001b[Aples for N=98:  94%|▉| 94/100 [00:00<00:00, 94.90it\n",
      "Processing graph sizes:  99%|▉| 96/97 [00:40<00:01,  1\n",
      "\u001b[Aples for N=99:   0%|       | 0/100 [00:00<?, ?it/s]\n",
      "\u001b[Aples for N=99:  10%| | 10/100 [00:00<00:01, 89.44it"
     ]
    },
    {
     "name": "stdout",
     "output_type": "stream",
     "text": [
      "File Exists!\n"
     ]
    },
    {
     "name": "stderr",
     "output_type": "stream",
     "text": [
      "\n",
      "\u001b[Aples for N=99:  20%|▏| 20/100 [00:00<00:00, 92.23it\n",
      "\u001b[Aples for N=99:  30%|▎| 30/100 [00:00<00:00, 91.66it\n",
      "\u001b[Aples for N=99:  40%|▍| 40/100 [00:00<00:00, 91.17it\n",
      "\u001b[Aples for N=99:  50%|▌| 50/100 [00:00<00:00, 91.30it\n",
      "\u001b[Aples for N=99:  60%|▌| 60/100 [00:00<00:00, 92.09it\n",
      "\u001b[Aples for N=99:  70%|▋| 70/100 [00:00<00:00, 90.44it\n",
      "\u001b[Aples for N=99:  80%|▊| 80/100 [00:00<00:00, 91.02it\n",
      "\u001b[Aples for N=99:  90%|▉| 90/100 [00:00<00:00, 90.51it\n",
      "\u001b[Aples for N=99: 100%|█| 100/100 [00:01<00:00, 89.77i\n",
      "Processing graph sizes: 100%|█| 97/97 [00:41<00:00,  2\n"
     ]
    }
   ],
   "source": [
    "import os\n",
    "import networkx as nx\n",
    "import pickle\n",
    "import numpy as np\n",
    "from tqdm import tqdm\n",
    "\n",
    "def create_or_load_adjacency_matrices(base_dir, n_values, pVal, samples):\n",
    "    \"\"\"\n",
    "    Checks if adjacency matrix files exist for each size `n` and each sample. If not, generates and saves them.\n",
    "\n",
    "    Parameters:\n",
    "        base_dir (str): The base directory to save/load the adjacency matrices.\n",
    "        n_values (list of int): A list of n values (graph sizes).\n",
    "        pVal (float): The probability for edge creation in the Erdos-Renyi model.\n",
    "        samples (int): The number of adjacency matrices to generate for each n value.\n",
    "\n",
    "    Returns:\n",
    "        dict: A dictionary where keys are `n` values and values are lists of adjacency matrices.\n",
    "    \"\"\"\n",
    "    adjacency_matrix_dict = {}\n",
    "\n",
    "    for n in tqdm(n_values, desc=\"Processing graph sizes\"):\n",
    "        n_dir = os.path.join(base_dir, f\"N{n}\")  # Directory for this n value\n",
    "        os.makedirs(n_dir, exist_ok=True)\n",
    "\n",
    "        adjacency_matrix_list = []\n",
    "        for sample in tqdm(range(samples), desc=f\"Samples for N={n}\", leave=False):\n",
    "            sample_file = os.path.join(n_dir, f\"AdjMatrix_N{n}_P{pVal}_Sample{sample}.pkl\")\n",
    "\n",
    "            if os.path.exists(sample_file):\n",
    "                # Load existing adjacency matrix\n",
    "                print('File Exists!')\n",
    "                with open(sample_file, 'rb') as f:\n",
    "                    adjacency_matrix = pickle.load(f)\n",
    "            else:\n",
    "                # Generate and save a new adjacency matrix\n",
    "                graph = nx.erdos_renyi_graph(n, pVal)\n",
    "                adjacency_matrix = nx.to_numpy_array(graph)\n",
    "                with open(sample_file, 'wb') as f:\n",
    "                    pickle.dump(adjacency_matrix, f)\n",
    "\n",
    "            adjacency_matrix_list.append(adjacency_matrix)\n",
    "\n",
    "        adjacency_matrix_dict[n] = adjacency_matrix_list\n",
    "\n",
    "    return adjacency_matrix_dict\n",
    "\n",
    "# Configuration variables\n",
    "nMin = 3\n",
    "nMax = 100\n",
    "nList = list(range(nMin, nMax, 1))  # List of n values\n",
    "pVal = 0.8\n",
    "samples = 100\n",
    "t = 50  # Assuming 't' is a given parameter for the filename\n",
    "\n",
    "# Base directory\n",
    "base_dir = \"Datasets/Benchmark-SimpleQWAK_ER/AdjacencyMatrices\"\n",
    "\n",
    "# Generate or load the adjacency matrix dictionary\n",
    "adjacency_matrix_dict = create_or_load_adjacency_matrices(base_dir, nList, pVal, samples)\n"
   ]
  },
  {
   "cell_type": "code",
   "execution_count": null,
   "id": "8712cec5-1095-4098-aac0-658c4043ceae",
   "metadata": {},
   "outputs": [],
   "source": [
    "for q, qcp in zip(qw,qw_cupy):\n",
    "    # Compare the two arrays using np.allclose\n",
    "    are_close = np.allclose(q.getProbVec(), qcp.getProbVec(), atol=1e-5)\n",
    "\n",
    "    # Print the result of the comparison\n",
    "    print(f\"Are the two arrays approximately equal? {are_close}\")"
   ]
  },
  {
   "cell_type": "code",
   "execution_count": null,
   "id": "456960de-596e-4394-a3fa-4ec4a1ff77db",
   "metadata": {},
   "outputs": [],
   "source": [
    "plt.plot(nList,qwak_times,label='QWAK CPU_NumPy')\n",
    "plt.plot(nList,qwak_times_cupy,label='QWAK GPU_CuPy')\n",
    "plt.legend()\n",
    "plt.show()"
   ]
  },
  {
   "cell_type": "code",
   "execution_count": null,
   "id": "8bc05abb-4e1f-41b1-b28c-f8d799d68c87",
   "metadata": {},
   "outputs": [],
   "source": []
  }
 ],
 "metadata": {
  "kernelspec": {
   "display_name": "Python 3 (ipykernel)",
   "language": "python",
   "name": "python3"
  },
  "language_info": {
   "codemirror_mode": {
    "name": "ipython",
    "version": 3
   },
   "file_extension": ".py",
   "mimetype": "text/x-python",
   "name": "python",
   "nbconvert_exporter": "python",
   "pygments_lexer": "ipython3",
   "version": "3.12.3"
  }
 },
 "nbformat": 4,
 "nbformat_minor": 5
}
