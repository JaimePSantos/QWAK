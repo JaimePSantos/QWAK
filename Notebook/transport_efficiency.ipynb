{
 "cells": [
  {
   "cell_type": "code",
   "execution_count": 1,
   "id": "17b25f54",
   "metadata": {},
   "outputs": [],
   "source": [
    "import networkx as nx\n",
    "import numpy as np\n",
    "from scipy.linalg import expm\n",
    "import matplotlib.pyplot as plt"
   ]
  },
  {
   "cell_type": "code",
   "execution_count": 22,
   "id": "ae116821",
   "metadata": {},
   "outputs": [],
   "source": [
    "def hamiltonian(L, k, marked):\n",
    "    H = L.copy().astype('complex')\n",
    "    for x in marked:\n",
    "        H[x,x] = H[x,x] - 1j*k \n",
    "    print(H)\n",
    "    return H\n",
    "\n",
    "def superposition(n, positions = None):\n",
    "    if positions == None:\n",
    "        state = np.ones([n,1])/np.sqrt(n)\n",
    "    else:\n",
    "        state = np.zeros([n,1])\n",
    "        for x in positions:\n",
    "            state[x] = 1\n",
    "        state = state/np.sqrt(len(positions))\n",
    "    \n",
    "    return state\n",
    "        \n",
    "    \n",
    "def evolution(H,t,initial):\n",
    "    \n",
    "    return np.matrix(expm(-1j*H*t)@initial)\n",
    "\n",
    "def transport_efficiency(state):\n",
    "    print(np.trace(state @ state.H))\n",
    "    return 1 - np.trace(state @ state.H)"
   ]
  },
  {
   "cell_type": "code",
   "execution_count": 23,
   "id": "999338bd",
   "metadata": {},
   "outputs": [
    {
     "name": "stdout",
     "output_type": "stream",
     "text": [
      "[[ 2.-1.j -1.+0.j  0.+0.j  0.+0.j  0.+0.j  0.+0.j  0.+0.j  0.+0.j  0.+0.j\n",
      "  -1.+0.j]\n",
      " [-1.+0.j  2.+0.j -1.+0.j  0.+0.j  0.+0.j  0.+0.j  0.+0.j  0.+0.j  0.+0.j\n",
      "   0.+0.j]\n",
      " [ 0.+0.j -1.+0.j  2.+0.j -1.+0.j  0.+0.j  0.+0.j  0.+0.j  0.+0.j  0.+0.j\n",
      "   0.+0.j]\n",
      " [ 0.+0.j  0.+0.j -1.+0.j  2.+0.j -1.+0.j  0.+0.j  0.+0.j  0.+0.j  0.+0.j\n",
      "   0.+0.j]\n",
      " [ 0.+0.j  0.+0.j  0.+0.j -1.+0.j  2.+0.j -1.+0.j  0.+0.j  0.+0.j  0.+0.j\n",
      "   0.+0.j]\n",
      " [ 0.+0.j  0.+0.j  0.+0.j  0.+0.j -1.+0.j  2.+0.j -1.+0.j  0.+0.j  0.+0.j\n",
      "   0.+0.j]\n",
      " [ 0.+0.j  0.+0.j  0.+0.j  0.+0.j  0.+0.j -1.+0.j  2.+0.j -1.+0.j  0.+0.j\n",
      "   0.+0.j]\n",
      " [ 0.+0.j  0.+0.j  0.+0.j  0.+0.j  0.+0.j  0.+0.j -1.+0.j  2.+0.j -1.+0.j\n",
      "   0.+0.j]\n",
      " [ 0.+0.j  0.+0.j  0.+0.j  0.+0.j  0.+0.j  0.+0.j  0.+0.j -1.+0.j  2.+0.j\n",
      "  -1.+0.j]\n",
      " [-1.+0.j  0.+0.j  0.+0.j  0.+0.j  0.+0.j  0.+0.j  0.+0.j  0.+0.j -1.+0.j\n",
      "   2.+0.j]]\n",
      "[[0.31622777]\n",
      " [0.31622777]\n",
      " [0.31622777]\n",
      " [0.31622777]\n",
      " [0.31622777]\n",
      " [0.31622777]\n",
      " [0.31622777]\n",
      " [0.31622777]\n",
      " [0.31622777]\n",
      " [0.31622777]]\n"
     ]
    }
   ],
   "source": [
    "n = 10\n",
    "k = 1\n",
    "marked = [0]\n",
    "t = 1\n",
    "\n",
    "G = nx.cycle_graph(n)\n",
    "L = nx.laplacian_matrix(G).todense()\n",
    "\n",
    "H = hamiltonian(L, k, marked)\n",
    "initial = superposition(n)\n",
    "print(initial)"
   ]
  },
  {
   "cell_type": "code",
   "execution_count": 26,
   "id": "d629c698",
   "metadata": {},
   "outputs": [
    {
     "name": "stdout",
     "output_type": "stream",
     "text": [
      "(1+0j)\n"
     ]
    },
    {
     "data": {
      "image/png": "[encoded data removed]",
      "text/plain": [
       "<Figure size 432x288 with 1 Axes>"
      ]
     },
     "metadata": {
      "needs_background": "light"
     },
     "output_type": "display_data"
    }
   ],
   "source": [
    "ti = 0\n",
    "tf = 50\n",
    "nt = 200\n",
    "times = np.linspace(ti,tf,nt)\n",
    "eta = []\n",
    "for t in range(1):\n",
    "    eta.append(transport_efficiency(evolution(H,t,initial)))\n",
    "    \n",
    "plt.plot(eta)\n",
    "plt.show()"
   ]
  },
  {
   "cell_type": "code",
   "execution_count": null,
   "id": "5ae6fb02-eb08-4f62-8810-8cebc304303f",
   "metadata": {},
   "outputs": [],
   "source": []
  },
  {
   "cell_type": "code",
   "execution_count": null,
   "id": "343798ba-e07a-4579-9bb6-baaf2689da7f",
   "metadata": {},
   "outputs": [],
   "source": []
  }
 ],
 "metadata": {
  "kernelspec": {
   "display_name": "Python 3 (ipykernel)",
   "language": "python",
   "name": "python3"
  },
  "language_info": {
   "codemirror_mode": {
    "name": "ipython",
    "version": 3
   },
   "file_extension": ".py",
   "mimetype": "text/x-python",
   "name": "python",
   "nbconvert_exporter": "python",
   "pygments_lexer": "ipython3",
   "version": "3.9.5"
  }
 },
 "nbformat": 4,
 "nbformat_minor": 5
}
