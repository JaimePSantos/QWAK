{
 "cells": [
  {
   "cell_type": "code",
   "execution_count": 17,
   "id": "17b25f54",
   "metadata": {},
   "outputs": [],
   "source": [
    "import networkx as nx\n",
    "import numpy as np\n",
    "from scipy.linalg import expm\n",
    "import matplotlib.pyplot as plt"
   ]
  },
  {
   "cell_type": "code",
   "execution_count": 78,
   "id": "ae116821",
   "metadata": {},
   "outputs": [],
   "source": [
    "def hamiltonian(L, k, marked):\n",
    "    H = L.copy().astype('complex')\n",
    "    for x in marked:\n",
    "        H[x,x] = H[x,x] - 1j*k \n",
    "    print(f\"adjM:{H}\")\n",
    "    return H\n",
    "\n",
    "def superposition(n, positions = None):\n",
    "    if positions == None:\n",
    "        state = np.ones([n,1])/np.sqrt(n)\n",
    "    else:\n",
    "        state = np.zeros([n,1])\n",
    "        for x in positions:\n",
    "            state[x] = 1\n",
    "        state = state/np.sqrt(len(positions))\n",
    "    \n",
    "    return state\n",
    "        \n",
    "    \n",
    "def evolution(H,t,initial):\n",
    "    eigenvalues, eigenvectors = np.linalg.eig(H)\n",
    "    specOp = eigenvectors @ np.diag(np.exp(-1j*eigenvalues*t)) @ eigenvectors.H\n",
    "    return specOp @ initial\n",
    "    # print(f\"Spectral Operator: {specOp}\")\n",
    "    # print(f\"operator time {np.matrix(expm(-1j*H*t))}\")\n",
    "    # return np.matrix(expm(-1j*H*t))@initial\n",
    "\n",
    "def transport_efficiency(state):\n",
    "    # print(f\"final state {state}\")\n",
    "    # print(f\"final state H {state.H}\")\n",
    "    statetMult = state @ state.H\n",
    "    # print(f\"state mult: {statetMult}\")\n",
    "    # print(f\"state mult trace: {np.trace(statetMult)}\")\n",
    "    return 1 - np.trace(state @ state.H)"
   ]
  },
  {
   "cell_type": "code",
   "execution_count": 81,
   "id": "999338bd",
   "metadata": {},
   "outputs": [
    {
     "name": "stdout",
     "output_type": "stream",
     "text": [
      "adjM:[[ 9.-1.j -1.+0.j -1.+0.j -1.+0.j -1.+0.j -1.+0.j -1.+0.j -1.+0.j -1.+0.j\n",
      "  -1.+0.j]\n",
      " [-1.+0.j  9.+0.j -1.+0.j -1.+0.j -1.+0.j -1.+0.j -1.+0.j -1.+0.j -1.+0.j\n",
      "  -1.+0.j]\n",
      " [-1.+0.j -1.+0.j  9.+0.j -1.+0.j -1.+0.j -1.+0.j -1.+0.j -1.+0.j -1.+0.j\n",
      "  -1.+0.j]\n",
      " [-1.+0.j -1.+0.j -1.+0.j  9.+0.j -1.+0.j -1.+0.j -1.+0.j -1.+0.j -1.+0.j\n",
      "  -1.+0.j]\n",
      " [-1.+0.j -1.+0.j -1.+0.j -1.+0.j  9.+0.j -1.+0.j -1.+0.j -1.+0.j -1.+0.j\n",
      "  -1.+0.j]\n",
      " [-1.+0.j -1.+0.j -1.+0.j -1.+0.j -1.+0.j  9.+0.j -1.+0.j -1.+0.j -1.+0.j\n",
      "  -1.+0.j]\n",
      " [-1.+0.j -1.+0.j -1.+0.j -1.+0.j -1.+0.j -1.+0.j  9.+0.j -1.+0.j -1.+0.j\n",
      "  -1.+0.j]\n",
      " [-1.+0.j -1.+0.j -1.+0.j -1.+0.j -1.+0.j -1.+0.j -1.+0.j  9.+0.j -1.+0.j\n",
      "  -1.+0.j]\n",
      " [-1.+0.j -1.+0.j -1.+0.j -1.+0.j -1.+0.j -1.+0.j -1.+0.j -1.+0.j  9.+0.j\n",
      "  -1.+0.j]\n",
      " [-1.+0.j -1.+0.j -1.+0.j -1.+0.j -1.+0.j -1.+0.j -1.+0.j -1.+0.j -1.+0.j\n",
      "   9.+0.j]]\n",
      "[[0.]\n",
      " [1.]\n",
      " [0.]\n",
      " [0.]\n",
      " [0.]\n",
      " [0.]\n",
      " [0.]\n",
      " [0.]\n",
      " [0.]\n",
      " [0.]]\n"
     ]
    }
   ],
   "source": [
    "n = 10\n",
    "k = 1\n",
    "marked = [0]\n",
    "t = 1\n",
    "\n",
    "# G = nx.cycle_graph(n)\n",
    "G = nx.complete_graph(n)\n",
    "L = nx.laplacian_matrix(G).todense()\n",
    "\n",
    "H = hamiltonian(L, k, marked)\n",
    "initial = superposition(n,positions=[1])\n",
    "print(initial)"
   ]
  },
  {
   "cell_type": "code",
   "execution_count": 82,
   "id": "d629c698",
   "metadata": {},
   "outputs": [
    {
     "name": "stdout",
     "output_type": "stream",
     "text": [
      "(-1.3922690186862683+0j)\n"
     ]
    },
    {
     "data": {
      "image/png": "[encoded data removed]",
      "text/plain": [
       "<Figure size 432x288 with 1 Axes>"
      ]
     },
     "metadata": {
      "needs_background": "light"
     },
     "output_type": "display_data"
    }
   ],
   "source": [
    "ti = 0\n",
    "tf = 50\n",
    "nt = 200\n",
    "times = np.linspace(ti,tf,nt)\n",
    "eta = []\n",
    "for t in times:\n",
    "    # print()\n",
    "    # print(f\"time = {t}\")\n",
    "    # print()\n",
    "    eta.append(transport_efficiency(evolution(H,t,initial)))\n",
    "    # print()\n",
    "    # print(\"###################################################################################################\")\n",
    "    # print()\n",
    "\n",
    "print(eta[-1])\n",
    "plt.plot(eta)\n",
    "plt.show()"
   ]
  },
  {
   "cell_type": "code",
   "execution_count": null,
   "id": "5ae6fb02-eb08-4f62-8810-8cebc304303f",
   "metadata": {},
   "outputs": [],
   "source": []
  },
  {
   "cell_type": "code",
   "execution_count": null,
   "id": "343798ba-e07a-4579-9bb6-baaf2689da7f",
   "metadata": {},
   "outputs": [],
   "source": []
  },
  {
   "cell_type": "code",
   "execution_count": null,
   "id": "8338fcb1-0a5d-4bda-9c0c-03fcaba3ab8e",
   "metadata": {},
   "outputs": [],
   "source": []
  }
 ],
 "metadata": {
  "kernelspec": {
   "display_name": "Python 3 (ipykernel)",
   "language": "python",
   "name": "python3"
  },
  "language_info": {
   "codemirror_mode": {
    "name": "ipython",
    "version": 3
   },
   "file_extension": ".py",
   "mimetype": "text/x-python",
   "name": "python",
   "nbconvert_exporter": "python",
   "pygments_lexer": "ipython3",
   "version": "3.9.7"
  }
 },
 "nbformat": 4,
 "nbformat_minor": 5
}
