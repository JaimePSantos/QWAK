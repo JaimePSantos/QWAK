{
 "cells": [
  {
   "cell_type": "code",
   "execution_count": 2,
   "id": "3fc70040-87e6-480d-9791-f1ef7afcb936",
   "metadata": {},
   "outputs": [],
   "source": [
    "from qwak.State import State\n",
    "from qwak.Operator import Operator\n",
    "from qwak.QuantumWalk import QuantumWalk\n",
    "from qwak.ProbabilityDistribution import ProbabilityDistribution\n",
    "from qwak.qwak import QWAK\n",
    "import networkx as nx\n",
    "import numpy as np\n",
    "from matplotlib import pyplot as plt\n",
    "import timeit\n",
    "import sympy as sp\n",
    "from sympy.abc import pi\n",
    "from math import sqrt, ceil, pow"
   ]
  },
  {
   "cell_type": "markdown",
   "id": "71aa0743-b3a5-4ebd-ba5b-402f39564c3f",
   "metadata": {},
   "source": [
    "# Multiple distinguishable particle CTQW"
   ]
  },
  {
   "cell_type": "markdown",
   "id": "7521b9a2-7dd5-4cc1-acf3-f0d6f6f91824",
   "metadata": {},
   "source": [
    "## Composite State Vector\n",
    "\n",
    "![title](img/multiParticleCompositeState.png)"
   ]
  },
  {
   "cell_type": "code",
   "execution_count": null,
   "id": "3a618927-e97a-420d-9239-3f3846037295",
   "metadata": {},
   "outputs": [],
   "source": []
  },
  {
   "cell_type": "markdown",
   "id": "09923eba-f510-447c-aaf5-d2872f990889",
   "metadata": {},
   "source": [
    "## Expanded Hamiltonian"
   ]
  },
  {
   "cell_type": "markdown",
   "id": "2835ac98-0c7b-48f8-9dd4-8b45d4c44e42",
   "metadata": {},
   "source": [
    "![title](img/multiParticleHamiltonian.png)"
   ]
  },
  {
   "cell_type": "code",
   "execution_count": null,
   "id": "0fc9a4a0-27d9-4a1f-b5bd-6b82dc1b64da",
   "metadata": {},
   "outputs": [],
   "source": []
  },
  {
   "cell_type": "markdown",
   "id": "2408bf7e-655f-4d59-9ae7-b6e3b73013a7",
   "metadata": {},
   "source": [
    "## Evolution Operator"
   ]
  },
  {
   "cell_type": "markdown",
   "id": "59d3554c-bd2c-4a0b-baf4-e5b2fa78f975",
   "metadata": {},
   "source": [
    "![title](img/multiParticleEvoOperator.png)"
   ]
  },
  {
   "cell_type": "markdown",
   "id": "c7ba7301-09a2-4bc6-a84a-e8e6eb2b9a82",
   "metadata": {},
   "source": [
    "#### If no interactions"
   ]
  },
  {
   "cell_type": "markdown",
   "id": "b66031da-d5bd-45da-b6e9-e166f3cee718",
   "metadata": {},
   "source": [
    "![title](img/multiParticleEvoOperatorNoGamma.png)"
   ]
  },
  {
   "cell_type": "code",
   "execution_count": null,
   "id": "521fe951-46e3-401e-a621-fa6d009225bc",
   "metadata": {},
   "outputs": [],
   "source": []
  }
 ],
 "metadata": {
  "kernelspec": {
   "display_name": "Python 3 (ipykernel)",
   "language": "python",
   "name": "python3"
  },
  "language_info": {
   "codemirror_mode": {
    "name": "ipython",
    "version": 3
   },
   "file_extension": ".py",
   "mimetype": "text/x-python",
   "name": "python",
   "nbconvert_exporter": "python",
   "pygments_lexer": "ipython3",
   "version": "3.10.4"
  }
 },
 "nbformat": 4,
 "nbformat_minor": 5
}
