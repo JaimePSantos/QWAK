{
 "cells": [
  {
   "cell_type": "code",
   "execution_count": 12,
   "id": "85dac9d9-4bc5-40c2-b648-55713639563c",
   "metadata": {},
   "outputs": [],
   "source": [
    "import numpy as np\n",
    "import cupy as cp\n",
    "from scipy.linalg import inv, expm\n",
    "import networkx as nx\n",
    "import time\n",
    "import cupyx.scipy.linalg as cpx_scipy\n",
    "from cupyx.profiler import benchmark\n",
    "\n",
    "from qwak_cupy.State import State as CState\n",
    "from qwak.State import State as State"
   ]
  },
  {
   "cell_type": "code",
   "execution_count": 14,
   "id": "7e3e106c-4dad-4d29-aa71-a9119afcb0d3",
   "metadata": {},
   "outputs": [],
   "source": [
    "n = 4\n",
    "initNodes = [0,1,2,3]\n",
    "\n",
    "initState = CState(n=n,nodeList=initNodes)\n",
    "initState.buildState()\n",
    "# print(initState.getStateVec())"
   ]
  },
  {
   "cell_type": "code",
   "execution_count": 15,
   "id": "aeaf95fb-dc58-4895-8189-bfcfa626db01",
   "metadata": {},
   "outputs": [],
   "source": [
    "n = 4\n",
    "initNodes = [0,1,2,3]\n",
    "\n",
    "initState = State(n=n,nodeList=initNodes)\n",
    "initState.buildState()\n",
    "# print(initState.getStateVec())"
   ]
  },
  {
   "cell_type": "code",
   "execution_count": null,
   "id": "be6d6301-e653-4c64-9990-622a4539c49a",
   "metadata": {},
   "outputs": [],
   "source": []
  },
  {
   "cell_type": "code",
   "execution_count": null,
   "id": "fc5a6758-a31f-4e8e-8b8d-84f1ed3e9d5d",
   "metadata": {},
   "outputs": [],
   "source": []
  }
 ],
 "metadata": {
  "kernelspec": {
   "display_name": "Python 3 (ipykernel)",
   "language": "python",
   "name": "python3"
  },
  "language_info": {
   "codemirror_mode": {
    "name": "ipython",
    "version": 3
   },
   "file_extension": ".py",
   "mimetype": "text/x-python",
   "name": "python",
   "nbconvert_exporter": "python",
   "pygments_lexer": "ipython3",
   "version": "3.12.2"
  }
 },
 "nbformat": 4,
 "nbformat_minor": 5
}
