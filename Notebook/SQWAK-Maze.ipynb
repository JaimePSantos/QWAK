{
 "cells": [
  {
   "cell_type": "markdown",
   "metadata": {
    "id": "5P0nxKpgBTl9"
   },
   "source": [
    "# QWAK Tutorial - Stochastic Quantum Walks\n",
    "\n",
    "In this notebook we are going to cover a couple of examples taken from the literature that showcase the use of Stochastic Quantum Walks (SQW). \n",
    "\n",
    "In particular we will see how to instantiate a SQW via the ```StochasticQWAK``` class. Then, we will learn how to use the noise parameter to simulate both purely quantum and classical walks and how to interpolate between them.\n",
    "To conclude we will showcase the application of SQW to the problem of exiting a perfect maze.\n",
    "\n",
    "If you haven't, install QWAK via the ```pip install qwak-sim``` command."
   ]
  },
  {
   "cell_type": "code",
   "execution_count": null,
   "metadata": {
    "colab": {
     "base_uri": "https://localhost:8080/"
    },
    "id": "OFGjWcXEaBXZ",
    "outputId": "701c2554-5713-41fe-b0fe-5ea9177a3067"
   },
   "outputs": [
    {
     "name": "stdout",
     "output_type": "stream",
     "text": [
      "Looking in indexes: https://pypi.org/simple, https://us-python.pkg.dev/colab-wheels/public/simple/\n",
      "Requirement already satisfied: qwak-sim in /usr/local/lib/python3.8/dist-packages (2023.1012a0)\n",
      "Requirement already satisfied: scipy in /usr/local/lib/python3.8/dist-packages (from qwak-sim) (1.10.1)\n",
      "Requirement already satisfied: networkx in /usr/local/lib/python3.8/dist-packages (from qwak-sim) (3.0)\n",
      "Requirement already satisfied: qutip in /usr/local/lib/python3.8/dist-packages (from qwak-sim) (4.7.1)\n",
      "Requirement already satisfied: sympy in /usr/local/lib/python3.8/dist-packages (from qwak-sim) (1.7.1)\n",
      "Requirement already satisfied: numpy in /usr/local/lib/python3.8/dist-packages (from qwak-sim) (1.22.4)\n",
      "Requirement already satisfied: matplotlib in /usr/local/lib/python3.8/dist-packages (from qwak-sim) (3.5.3)\n",
      "Requirement already satisfied: packaging>=20.0 in /usr/local/lib/python3.8/dist-packages (from matplotlib->qwak-sim) (23.0)\n",
      "Requirement already satisfied: pillow>=6.2.0 in /usr/local/lib/python3.8/dist-packages (from matplotlib->qwak-sim) (8.4.0)\n",
      "Requirement already satisfied: cycler>=0.10 in /usr/local/lib/python3.8/dist-packages (from matplotlib->qwak-sim) (0.11.0)\n",
      "Requirement already satisfied: python-dateutil>=2.7 in /usr/local/lib/python3.8/dist-packages (from matplotlib->qwak-sim) (2.8.2)\n",
      "Requirement already satisfied: fonttools>=4.22.0 in /usr/local/lib/python3.8/dist-packages (from matplotlib->qwak-sim) (4.38.0)\n",
      "Requirement already satisfied: pyparsing>=2.2.1 in /usr/local/lib/python3.8/dist-packages (from matplotlib->qwak-sim) (3.0.9)\n",
      "Requirement already satisfied: kiwisolver>=1.0.1 in /usr/local/lib/python3.8/dist-packages (from matplotlib->qwak-sim) (1.4.4)\n",
      "Requirement already satisfied: mpmath>=0.19 in /usr/local/lib/python3.8/dist-packages (from sympy->qwak-sim) (1.2.1)\n",
      "Requirement already satisfied: six>=1.5 in /usr/local/lib/python3.8/dist-packages (from python-dateutil>=2.7->matplotlib->qwak-sim) (1.15.0)\n"
     ]
    }
   ],
   "source": [
    "!pip install --upgrade scipy>=1.8\n",
    "!pip install qwak-sim"
   ]
  },
  {
   "cell_type": "code",
   "execution_count": null,
   "metadata": {
    "id": "yxvJQbnFaCdl"
   },
   "outputs": [],
   "source": [
    "import networkx as nx\n",
    "import numpy as np\n",
    "import matplotlib.pyplot as plt\n",
    "from qwak.StochasticQwak import StochasticQWAK"
   ]
  },
  {
   "cell_type": "markdown",
   "metadata": {
    "id": "YNk29LsYhamf"
   },
   "source": [
    "After importing the ```StochasticQWAK``` class let's now formalize what a SQW is in order to understand the additional functionalities of this specific class with respect to the standard ```QWAK```.\n",
    "\n",
    "\n",
    "The evolution of the system [[1](https://journals.aps.org/pra/abstract/10.1103/PhysRevA.81.022323),[2](https://iopscience.iop.org/article/10.1088/1367-2630/16/5/055015)] can be described by a Lindblad\n",
    "master equation where the Hamiltonian of the system $H$ corresponds to the adjacency matrix itself, i.e. $H=A$, and with a\n",
    "set of Lindblad operators acting as noise for the quantum walker, i.e.\n",
    "\n",
    "$$\n",
    "{\\dot \\rho} = -(1-p)\\ i[H,\\rho] + p\\  L_{CRW} (\\rho) + L_{sink} (\\rho)\n",
    "$$\n",
    "\n",
    "with a term describing (for $p=1$) the regime of a classical random walk (CRW),\n",
    "as\n",
    "\n",
    "$$\n",
    "    L_{CRW} (\\rho) = \\sum_{i,j} L_{ij} \\rho L_{ij}^{\\dagger} - \\frac{1}{2} \\{L_{ij}^\\dagger L_{ij}, \\rho\\},\n",
    "$$\n",
    "\n",
    "with the Lindblad operators being defined as $L_{ij} =\n",
    "(A_{ij}/d_j)|i><j|$, where $\\lbrace d_j \\rbrace$ are the node degrees. When $p=0$ one recovers the pure quantum walker regime, while $p=1$ corresponds to the classical scenario for a random walker. For the intermediate values of $p$ in the range $[0,1]$, one has a Stochastic Quantum Walker with an interplay between coherent evolution and noise effects. In addition, we can have a\n",
    "special Lindblad operator that irreversibly transfers the population from an\n",
    "\"exit\" node $n$ to the sink $S$ with a rate $\\Gamma$, as follows\n",
    "\n",
    "$$    \n",
    "L_{sink} (\\rho) = \\Gamma \\left [ 2|S><n|\\rho |n><S| - \\{|n><n|, \\rho\\} \\right ].\n",
    "$$\n",
    "\n",
    "The sink $S$, which irreversibly traps the population constitutes a kind of\n",
    "**exit** node and it can be useful to model phenomena such as energy\n",
    "transfer.\n",
    "\n",
    "\n",
    "In the end, with respect to the standard QWAK, this class has two more functionalities:\n",
    "\n",
    "\n",
    "*   The possibility of having a noise parameter $p$ interpolating between a classical and a quantum walk.\n",
    "*   The possibility of adding a sink (or exit) node $S$ from wich the population is drained from the graph.\n",
    "\n",
    "\n",
    "It is worth noting here that, since we have a full Lindblad master equation, the numerical integration necessary to simulate the SQW becomes more involved. For these reasons ```StochasticQWAK``` makes use of [QuTiP](https://qutip.org/) to simulate the evolution of the walker.\n",
    "\n",
    "Let's now start playing with a simple chain graph"
   ]
  },
  {
   "cell_type": "code",
   "execution_count": null,
   "metadata": {
    "id": "V42NILs8bNOf"
   },
   "outputs": [],
   "source": [
    "n=100\n",
    "\n",
    "graph = nx.path_graph(n)\n",
    "qwak = StochasticQWAK(graph)"
   ]
  },
  {
   "cell_type": "markdown",
   "metadata": {
    "id": "2-vNVRspiYp4"
   },
   "source": [
    "We have a chain of 100 nodes and we will run a Quantum Walk, i.e. $p=0$ (the class defaults to that when noiseParam is not specified), starting from the middle node."
   ]
  },
  {
   "cell_type": "code",
   "execution_count": null,
   "metadata": {
    "colab": {
     "base_uri": "https://localhost:8080/",
     "height": 279
    },
    "id": "Ga1KUjj_fDSu",
    "outputId": "01c18640-c170-426d-c016-9809ed1ce281"
   },
   "outputs": [
    {
     "data": {
      "image/png": "[encoded data removed]",
      "text/plain": [
       "<Figure size 432x288 with 1 Axes>"
      ]
     },
     "metadata": {
      "needs_background": "light"
     },
     "output_type": "display_data"
    }
   ],
   "source": [
    "t=15\n",
    "initState = [49]\n",
    "qwak.runWalk(t,initState)\n",
    "\n",
    "probVec = qwak.getProbVec()\n",
    "plt.bar(np.arange(n),probVec,width=1.)\n",
    "plt.xlabel('Node')\n",
    "plt.show()"
   ]
  },
  {
   "cell_type": "markdown",
   "metadata": {
    "id": "d8nkmWYYiI7k"
   },
   "source": [
    "Here we can clearly observe the typical and well-known probability distribution of a Quantum Walk over a line with the two peaks. So, we can try and put a noiseParam > 0 to get a Stochastic Quantum Walk. In the limit of noiseParam = 1 (i.e $p=1$) we will get a Classical Random Walk."
   ]
  },
  {
   "cell_type": "code",
   "execution_count": null,
   "metadata": {
    "colab": {
     "base_uri": "https://localhost:8080/",
     "height": 279
    },
    "id": "yClhr8GTaID8",
    "outputId": "0b5f2cf6-a101-43db-9826-7b9788b500f8"
   },
   "outputs": [
    {
     "data": {
      "image/png": "[encoded data removed]",
      "text/plain": [
       "<Figure size 432x288 with 1 Axes>"
      ]
     },
     "metadata": {
      "needs_background": "light"
     },
     "output_type": "display_data"
    }
   ],
   "source": [
    "qwak = StochasticQWAK(graph,noiseParam=1)\n",
    "t=20\n",
    "initState = [49]\n",
    "qwak.runWalk(t,initState)\n",
    "\n",
    "probVec = qwak.getProbVec()\n",
    "plt.bar(np.arange(n),probVec,width=1.)\n",
    "plt.xlabel('Node')\n",
    "plt.show()"
   ]
  },
  {
   "cell_type": "markdown",
   "metadata": {
    "id": "-2M_6uLxi7-M"
   },
   "source": [
    "Indeed, as we observe the distribution of the state is now gaussian as we would expect from a classical walker."
   ]
  },
  {
   "cell_type": "markdown",
   "metadata": {
    "id": "YMI7OdPRjFML"
   },
   "source": [
    "To further demonstrate the capabilities of the `StochasticQWAK` class we will now introduce the custom `Maze` topology taken from [this paper](https://doi.org/10.1007/s42484-022-00068-y). In order to load the custom topology, scroll to the bottom of this notebook and run the corresponding cell, then come back here.\n",
    "\n",
    "\n",
    "The following code instantiate a perfect maze of size $10 \\times 10$ at random, a perfect maze is a maze in which there's one and only one path connecting the start node (blue) to the end node (red):.\n"
   ]
  },
  {
   "cell_type": "code",
   "execution_count": null,
   "metadata": {
    "colab": {
     "base_uri": "https://localhost:8080/",
     "height": 252
    },
    "id": "rzk797R2PS88",
    "outputId": "f1e21225-fbc2-44f2-9f04-85d04e763367"
   },
   "outputs": [
    {
     "data": {
      "image/png": "[encoded data removed]",
      "text/plain": [
       "<Figure size 432x288 with 1 Axes>"
      ]
     },
     "metadata": {},
     "output_type": "display_data"
    }
   ],
   "source": [
    "maze_graph = Maze(maze_size=(10,10))\n",
    "maze_graph.plot_maze()\n",
    "plt.show()"
   ]
  },
  {
   "cell_type": "markdown",
   "metadata": {
    "id": "ZeikDiCYcGPq"
   },
   "source": [
    "Let's build our walker on this graph and see, at different times the probablity to exit the maze (notice that the sink node, set by the `sinkNode` index, is 99 in this case corresponding to the red node on the graph). "
   ]
  },
  {
   "cell_type": "code",
   "execution_count": null,
   "metadata": {
    "id": "p4OeqwfrSbJC"
   },
   "outputs": [],
   "source": [
    "graph = nx.from_numpy_array(maze_graph.adjacency)\n",
    "qwak = StochasticQWAK(graph,noiseParam=0,sinkNode=99,sinkRate=0.99)\n",
    "\n",
    "exit_prob = []\n",
    "times = []\n",
    "\n",
    "for i in range(10):\n",
    "  t=100*i\n",
    "  initState = [0]\n",
    "  qwak.runWalk(t,initState)\n",
    "\n",
    "  probVec = qwak.getProbVec()\n",
    "  exit_prob.append(probVec[-1])\n",
    "  times.append(t)"
   ]
  },
  {
   "cell_type": "code",
   "execution_count": 41,
   "metadata": {
    "colab": {
     "base_uri": "https://localhost:8080/",
     "height": 279
    },
    "id": "sBh0Nb9CTPZV",
    "outputId": "67e89284-9072-4463-c44d-63b64635856e"
   },
   "outputs": [
    {
     "data": {
      "image/png": "[encoded data removed]",
      "text/plain": [
       "<Figure size 432x288 with 1 Axes>"
      ]
     },
     "metadata": {
      "needs_background": "light"
     },
     "output_type": "display_data"
    }
   ],
   "source": [
    "plt.plot(times,exit_prob, label=r'$p=0$')\n",
    "plt.xlabel('time')\n",
    "plt.ylabel('Exit probability')\n",
    "plt.legend()\n",
    "plt.show()"
   ]
  },
  {
   "cell_type": "markdown",
   "metadata": {
    "id": "ILQKjEkWcqsT"
   },
   "source": [
    "Let's try again with the classical walker to compare their performances."
   ]
  },
  {
   "cell_type": "code",
   "execution_count": null,
   "metadata": {
    "id": "jF0Lm7RMclx5"
   },
   "outputs": [],
   "source": [
    "graph = nx.from_numpy_array(maze_graph.adjacency)\n",
    "qwak = StochasticQWAK(graph,noiseParam=1,sinkNode=99,sinkRate=0.99)\n",
    "\n",
    "exit_prob_class = []\n",
    "times = []\n",
    "\n",
    "for i in range(10):\n",
    "  t=100*i\n",
    "  initState = [0]\n",
    "  qwak.runWalk(t,initState)\n",
    "\n",
    "  probVec = qwak.getProbVec()\n",
    "  exit_prob_class.append(probVec[-1])\n",
    "  times.append(t)"
   ]
  },
  {
   "cell_type": "code",
   "execution_count": 42,
   "metadata": {
    "colab": {
     "base_uri": "https://localhost:8080/",
     "height": 279
    },
    "id": "S0CcaSPoczSt",
    "outputId": "6f1932f4-ca80-4af7-affb-957ed9306fc3"
   },
   "outputs": [
    {
     "data": {
      "image/png": "[encoded data removed]",
      "text/plain": [
       "<Figure size 432x288 with 1 Axes>"
      ]
     },
     "metadata": {
      "needs_background": "light"
     },
     "output_type": "display_data"
    }
   ],
   "source": [
    "plt.plot(times,exit_prob, label=r'$p=0$')\n",
    "plt.plot(times,exit_prob_class, label=r'$p=1$')\n",
    "plt.xlabel('time')\n",
    "plt.ylabel('Exit probability')\n",
    "plt.legend()\n",
    "plt.show()"
   ]
  },
  {
   "cell_type": "markdown",
   "metadata": {
    "id": "Z7zIwZtCbkzU"
   },
   "source": [
    "Again, let's do the same thing but with a 10 \\% of noise, let's see if this is still worse than the purely quantum case."
   ]
  },
  {
   "cell_type": "code",
   "execution_count": null,
   "metadata": {
    "id": "cbKhT7MOdTJQ"
   },
   "outputs": [],
   "source": [
    "graph = nx.from_numpy_array(maze_graph.adjacency)\n",
    "qwak = StochasticQWAK(graph,noiseParam=0.1,sinkNode=99,sinkRate=0.99)\n",
    "\n",
    "exit_prob_opt = []\n",
    "times = []\n",
    "\n",
    "for i in range(10):\n",
    "  t=100*i\n",
    "  initState = [0]\n",
    "  qwak.runWalk(t,initState)\n",
    "\n",
    "  probVec = qwak.getProbVec()\n",
    "  exit_prob_opt.append(probVec[-1])\n",
    "  times.append(t)"
   ]
  },
  {
   "cell_type": "code",
   "execution_count": 43,
   "metadata": {
    "colab": {
     "base_uri": "https://localhost:8080/",
     "height": 279
    },
    "id": "hgOf6-yxdYtq",
    "outputId": "389cdec4-a35b-4eeb-e6e7-f76cd4c75eca"
   },
   "outputs": [
    {
     "data": {
      "image/png": "[encoded data removed]",
      "text/plain": [
       "<Figure size 432x288 with 1 Axes>"
      ]
     },
     "metadata": {
      "needs_background": "light"
     },
     "output_type": "display_data"
    }
   ],
   "source": [
    "plt.plot(times,exit_prob, label=r'$p=0$')\n",
    "plt.plot(times,exit_prob_class, label=r'$p=1$')\n",
    "plt.plot(times,exit_prob_opt, label=r'$p=0.1$')\n",
    "plt.xlabel('time')\n",
    "plt.ylabel('Exit probability')\n",
    "plt.legend()\n",
    "plt.show()"
   ]
  },
  {
   "cell_type": "markdown",
   "metadata": {
    "id": "bj3HlhqqbQ2C"
   },
   "source": [
    "Indeed, that's much better!\n",
    "\n",
    "This is exactly one of the results reported in a work about energy transport [[3](https://aip.scitation.org/doi/full/10.1063/1.3223548)], that highlights how a small amount of noise can actually be beneficial for the walker.\n",
    "\n",
    "Now that you learned how to add noise to your walker and introduce sinks in your graph, you can exploit the full capabilities of SQWs 🎆🎆"
   ]
  },
  {
   "cell_type": "markdown",
   "metadata": {
    "id": "v9OIrpRlQ2ri"
   },
   "source": [
    "# Maze custom topology"
   ]
  },
  {
   "cell_type": "markdown",
   "metadata": {
    "id": "dlHurHM8Jmlu"
   },
   "source": [
    "The original class can be found in [this](https://github.com/Buffoni/quantum_maze_learning) GitHub repository. If you find it useful or you make use of it please credit the authors."
   ]
  },
  {
   "cell_type": "code",
   "execution_count": null,
   "metadata": {
    "id": "a9d6f-JgQODi"
   },
   "outputs": [],
   "source": [
    "#!/usr/bin/env python3\n",
    "# -*- coding: utf-8 -*-\n",
    "#Author: Nicola Dalla Pozza\n",
    "\n",
    "import numpy as np\n",
    "import matplotlib.pyplot as plt\n",
    "from random import randrange, shuffle\n",
    "\n",
    "\n",
    "class Maze(object):\n",
    "\n",
    "    def __init__(self, adjacency=None, maze_size=(20, 20), startNode=0, sinkNode=None):\n",
    "        self.maze_size = maze_size\n",
    "        self.width = int(self.maze_size[0])\n",
    "        self.height = int(self.maze_size[1])\n",
    "\n",
    "        if adjacency is None:\n",
    "            self.adjacency = self.generate_adjacency_matrix(self.width, self.height)\n",
    "        else:\n",
    "            assert self.maze_size == adjacency.shape\n",
    "            self.adjacency = adjacency\n",
    "\n",
    "        self.total_nodes = self.width * self.height\n",
    "        self.startNode = startNode\n",
    "        self.sinkNode = sinkNode\n",
    "\n",
    "        self.vertical_links = (self.height - 1) * self.width\n",
    "        self.horizontal_links = (self.width - 1) * self.height\n",
    "        self.total_links = self.vertical_links + self.horizontal_links\n",
    "\n",
    "    @property\n",
    "    def startNode(self):\n",
    "        return self._startNode\n",
    "\n",
    "    @startNode.setter\n",
    "    def startNode(self, value):\n",
    "        if value is None:\n",
    "            self._startNode = 0\n",
    "        else:\n",
    "            assert 0 <= value < self.total_nodes, \"startNode is outside the node range\"\n",
    "            self._startNode = value\n",
    "\n",
    "    @property\n",
    "    def sinkNode(self):\n",
    "        return self._sinkNode\n",
    "\n",
    "    @sinkNode.setter\n",
    "    def sinkNode(self, value):\n",
    "        if value is None:\n",
    "            self._sinkNode = self.width * self.height - 1\n",
    "        else:\n",
    "            assert 0 <= value < self.total_nodes, \"sinkNode is outside the node range\"\n",
    "            self._sinkNode = value\n",
    "\n",
    "    def generate_adjacency_matrix(self, w, h):\n",
    "        \"\"\"Generate the adjacency matrix of a perfect maze given its width and height.\n",
    "        Returns a np.array representing the adjacency matrix of a perfect maze with given width and height.\n",
    "        adjacency[m, n] = 1 if there is a link between node m an n, 0 otherwise.\n",
    "        The adjacency matrix is symmetric.\n",
    "        Reference for the algorithm: https://rosettacode.org/wiki/Maze_generation#Python\n",
    "        Parameters\n",
    "        ----------\n",
    "        w : int\n",
    "            number of nodes in the x axis, i.e., the width of the maze\n",
    "        h : int\n",
    "            number of nodes in the y axis, i.e., the height of the maze\n",
    "        Returns\n",
    "        -------\n",
    "        np.array, dtype='float64'\n",
    "            symmetric adjacency matrix with entry A[i, j] = 1 if there is a link between node i and j, 0 otherwise\n",
    "        \"\"\"\n",
    "        adjacency = np.zeros([h * w, h * w], dtype='float64')\n",
    "        visited = [[0] * w + [1] for _ in range(h)] + [[1] * (w + 1)]\n",
    "\n",
    "        def pos2node(x, y):\n",
    "            return int(x * h + y)\n",
    "\n",
    "        def walk(x, y):\n",
    "            visited[y][x] = 1\n",
    "\n",
    "            d = [(x - 1, y), (x, y + 1), (x + 1, y), (x, y - 1)]\n",
    "            shuffle(d)\n",
    "            for (xx, yy) in d:\n",
    "                if visited[yy][xx]:\n",
    "                    continue\n",
    "                if xx == x:\n",
    "                    adjacency[pos2node(x, yy), pos2node(x, y)] = 1\n",
    "                    adjacency[pos2node(x, y), pos2node(x, yy)] = 1\n",
    "                if yy == y:\n",
    "                    adjacency[pos2node(x, y), pos2node(xx, y)] = 1\n",
    "                    adjacency[pos2node(xx, y), pos2node(x, y)] = 1\n",
    "\n",
    "                walk(xx, yy)\n",
    "\n",
    "        walk(randrange(w), randrange(h))\n",
    "\n",
    "        return adjacency\n",
    "\n",
    "    def generate_maze_map(self):\n",
    "        \"\"\"Generate the maze map representing the maze as a pixel image from its adjacency matrix.\n",
    "        The map has value 1 if a link is present (the corresponding coefficient in the adjacency matrix is > 0) while 0\n",
    "        represents a wall. The size of the map is (maze.height * 2 - 1, maze.width * 2 - 1). There are no border walls.\n",
    "        Returns\n",
    "        -------\n",
    "        np.array, dtype=int\n",
    "            Matrix representing the maze as a pixel image. Value 1 represents a link, value 0 represents\n",
    "            a wall. Size of the matrix (maze.height * 2 - 1, maze.width * 2 - 1).\n",
    "        \"\"\"\n",
    "        maze_map = np.zeros([2 * self.height - 1, 2 * self.width - 1], dtype='int')\n",
    "        for j in range(self.width - 1):  # defines the upper triangular part of the adjacency matrix\n",
    "            for i in range(self.height - 1):\n",
    "                if self.adjacency[j * self.height + i, j * self.height + i + 1] > 0:\n",
    "                    maze_map[2 * i + 1, 2 * j] = 1\n",
    "                if self.adjacency[j * self.height + i, (j + 1) * self.height + i] > 0:\n",
    "                    maze_map[2 * i, 2 * j + 1] = 1\n",
    "            i = self.height - 1  # last node has no upper neighbour\n",
    "            if self.adjacency[j * self.height + i, (j + 1) * self.height + i] > 0:\n",
    "                maze_map[2 * i, 2 * j + 1] = 1\n",
    "\n",
    "        j = self.width - 1  # last node has no right neighbour\n",
    "        for i in range(self.height - 1):\n",
    "            if self.adjacency[j * self.height + i, j * self.height + i + 1] > 0:\n",
    "                maze_map[2 * i + 1, 2 * j] = 1\n",
    "\n",
    "        for n in range(self.width * self.height):\n",
    "            x, y = self.node2xy(n)\n",
    "            maze_map[y, x] = 1\n",
    "\n",
    "        return maze_map\n",
    "\n",
    "    def plot_maze(self, show_nodes=False, show_links=False, show_ticks=False, show=True):\n",
    "        \"\"\"Plot the map of the maze. White pixels (value 1) are paths while black pixels are walls.\n",
    "        Plots a maze with different options, such as the possibility to plot the number corresponding to each link\n",
    "        (in red) or node (in black bold) with the show_links and show_nodes option. Option startNode and\n",
    "        sinkNode allow to insert the number of the start node or the sink node, which are plotted in blue and in\n",
    "        red respectively.\n",
    "        Parameters\n",
    "        ----------\n",
    "        show_nodes : bool (default False)\n",
    "            options to show the node number on the corresponding pixel in black\n",
    "        show_links : bool (default False)\n",
    "            options to show the link number on the corresponding pixel in red\n",
    "        show_ticks : bool (default False)\n",
    "            options to show the coordinate ticks in the plot\n",
    "        show : bool (default False)\n",
    "            options to show the plot or not\n",
    "        Returns\n",
    "        -------\n",
    "        numpy.ndarray, AxesImage\n",
    "            numpy array with rgb colors for each pixel, AxesImage obtained from pyplot.imshow() (when plotted)\n",
    "        \"\"\"\n",
    "        maze_map = self.generate_maze_map()\n",
    "        xshift = 0.33\n",
    "        yshift = 0.33\n",
    "        cmap = plt.cm.get_cmap('gray')\n",
    "        norm = plt.Normalize(maze_map.min(), maze_map.max())\n",
    "        img = cmap(norm(maze_map))\n",
    "\n",
    "        if self.startNode is not None:\n",
    "            x, y = self.node2xy(self.startNode)\n",
    "            img[y, x, :3] = 0, 0, 1\n",
    "            # plt.text(x - xshift, y - yshift, str(self.startNode), fontweight='bold') # always print startNode\n",
    "\n",
    "        if self.sinkNode is not None:\n",
    "            x, y = self.node2xy(self.sinkNode)\n",
    "            img[y, x, :3] = 1, 0, 0\n",
    "\n",
    "        if show:\n",
    "            if show_nodes:\n",
    "                for n in range(self.height * self.width):\n",
    "                    x, y = self.node2xy(n)\n",
    "                    plt.text(x - xshift, y - yshift, str(n), fontweight='bold')\n",
    "\n",
    "            if show_links:\n",
    "                for n in range(1, (self.height - 1) * self.width + (self.width - 1) * self.height + 1):\n",
    "                    x, y = self.link2xy(n)\n",
    "                    plt.text(x, y - yshift, str(n), style='italic', color='red')\n",
    "\n",
    "            if show_ticks:\n",
    "                plt.xticks(np.arange(0, img.shape[1], step=4),\n",
    "                           np.arange(0, (img.shape[1] - 1) / 2, step=2, dtype='int'))\n",
    "                plt.yticks(np.arange(0, img.shape[0], step=4),\n",
    "                           np.arange(0, (img.shape[0] - 1) / 2, step=2, dtype='int'))\n",
    "            else:\n",
    "                plt.xticks([])\n",
    "                plt.yticks([])\n",
    "\n",
    "            ax = plt.imshow(img, origin='lower')\n",
    "            plt.show()\n",
    "\n",
    "        else:\n",
    "            ax = None\n",
    "\n",
    "        return img, ax\n",
    "\n",
    "    def set_link(self, link=None, value=None):\n",
    "        \"\"\"Set the value of a link in the maze.\n",
    "        It updates the adjacency matrix in the maze changing the value associated with a link.\n",
    "        Links are indexed  from 1 to self.total_links = (self.height-1)*self.width + (self.width-1)*self.height.\n",
    "        Parameters\n",
    "        ----------\n",
    "        link : int\n",
    "            index of the link to change. Its value is between 1 and self.total_links = (self.height-1)*self.width +\n",
    "            (self.width-1)*self.height. Other values leave the maze unchanged.\n",
    "        value : numpy.float64\n",
    "            value to set to the link in the adjacency matrix.\n",
    "        Returns\n",
    "        -------\n",
    "        numpy.float64\n",
    "            returns the value set to the link\n",
    "        \"\"\"\n",
    "        assert 1 <= link <= self.total_links\n",
    "        if 1 <= link <= self.vertical_links:\n",
    "            row = (link - 1) // (self.height - 1) * self.height + (link - 1) % (\n",
    "                    self.height - 1)\n",
    "            col = row + 1\n",
    "\n",
    "        elif self.vertical_links < link <= self.total_links:\n",
    "            row = link - (self.height - 1) * self.width - 1\n",
    "            col = row + self.height\n",
    "\n",
    "        self.adjacency[row, col] = value\n",
    "        self.adjacency[col, row] = value\n",
    "\n",
    "        return value\n",
    "\n",
    "    def get_link(self, link=None):\n",
    "        \"\"\"Get the value of a link in the maze.\n",
    "        Parameters\n",
    "        ----------\n",
    "        link : int\n",
    "            index of the link to change. Its value is between 1 and self.total_links = (self.height-1)*self.width +\n",
    "            (self.width-1)*self.height. Other values leave the maze unchanged.\n",
    "        Returns\n",
    "        -------\n",
    "        numpy.float64\n",
    "            returns the value of the link\n",
    "        \"\"\"\n",
    "        assert 1 <= link <= self.total_links\n",
    "        if 1 <= link <= self.vertical_links:\n",
    "            row = (link - 1) // (self.height - 1) * self.height + (link - 1) % (\n",
    "                    self.height - 1)\n",
    "            col = row + 1\n",
    "\n",
    "        elif self.vertical_links < link <= self.total_links:\n",
    "            row = link - (self.height - 1) * self.width - 1\n",
    "            col = row + self.height\n",
    "\n",
    "        return self.adjacency[row, col]\n",
    "\n",
    "    def reverse_link(self, link=None):\n",
    "        \"\"\"Reverse the value of a link in the maze, from 0 to 1 and vice-versa.\n",
    "        It updates the adjacency matrix in the maze changing the value associated with a link.\n",
    "        Links are indexed  from 1 to self.total_links = (self.height-1)*self.width + (self.width-1)*self.height.\n",
    "        Parameters\n",
    "        ----------\n",
    "        link : int\n",
    "            index of the link to change. Its value is between 1 and self.total_links = (self.height-1)*self.width +\n",
    "            (self.width-1)*self.height. Other values leave the maze unchanged.\n",
    "        Returns\n",
    "        -------\n",
    "        numpy.float64\n",
    "            returns the value set to the link\n",
    "        \"\"\"\n",
    "        value = self.get_link(link)\n",
    "        if value == 0:\n",
    "            self.set_link(link, value=np.float64(1))\n",
    "            return np.float64(1)\n",
    "        elif value > 0:\n",
    "            self.set_link(link, value=np.float64(0))\n",
    "            return np.float64(0)\n",
    "\n",
    "    def node2xy(self, n):\n",
    "        \"\"\"Convert the index of the node into its coordinates x,y.\n",
    "        Given a matrix representing a maze with size width and height, it converts the coordinates (x,y) to the index\n",
    "        corresponding to a node. The nodes have even coordinates both in x and y, and are ordered along the columns,\n",
    "        meaning that the 0-th node has coordinate (0,0), the 1-st has (0,2), ... the height-th has (2,0) and so on up to\n",
    "        the width*height-1 th node with coordinates (2*width, 2*height).\n",
    "        Parameters\n",
    "        ----------\n",
    "        n : int, from 0 to width*height-1\n",
    "            index of the node\n",
    "        Returns\n",
    "        -------\n",
    "        (int, int)\n",
    "            Index representing the node\n",
    "        \"\"\"\n",
    "        return 2 * (n // self.height), 2 * (n % self.height)\n",
    "\n",
    "    def link2xy(self, n):\n",
    "        \"\"\"Convert the index of the link between two nodes into its coordinates x,y in the maze map.\n",
    "        Given a matrix representing a maze with size width and height, it converts the coordinates (x,y) to the index\n",
    "        corresponding to a link. The link are ordered with an index that runs first all the vertical links along the\n",
    "        columns, then all the horizontal links, also along the columns.\n",
    "        The vertical links are numbered from 1 to self.vertical_links, the horizontal links are numbered from\n",
    "        self.vertical_links+1 to self.total_links. The 1-st link has coordinates (0,1), the 2-th has\n",
    "        (0,3), ... the height-th has (2,1), ... the (height-1)*width+1 th (which is the first horizontal) has (1,0),\n",
    "        then (1,2) and so on. Note that for a valid coordinate, x or y must be even.\n",
    "        Parameters\n",
    "        ----------\n",
    "        n : int\n",
    "            index representing the link\n",
    "        Returns\n",
    "        -------\n",
    "        (x,y)\n",
    "            x and y coordinates of the link, or numpy.nan if the parameters are invalid\n",
    "        \"\"\"\n",
    "        if 1 <= n <= self.vertical_links:  # vertical link\n",
    "            x, y = 2 * ((n - 1) // (self.height - 1)), 2 * ((n - 1) % (self.height - 1)) + 1\n",
    "\n",
    "        elif self.vertical_links < n <= self.total_links:  # horizontal link\n",
    "            n = n - self.vertical_links\n",
    "            x, y = 2 * ((n - 1) // self.height) + 1, 2 * ((n - 1) % self.height)\n",
    "\n",
    "        else:  # invalid parameters\n",
    "            x, y = np.nan, np.nan\n",
    "\n",
    "        return x, y"
   ]
  }
 ],
 "metadata": {
  "colab": {
   "provenance": []
  },
  "kernelspec": {
   "display_name": "Python 3 (ipykernel)",
   "language": "python",
   "name": "python3"
  },
  "language_info": {
   "codemirror_mode": {
    "name": "ipython",
    "version": 3
   },
   "file_extension": ".py",
   "mimetype": "text/x-python",
   "name": "python",
   "nbconvert_exporter": "python",
   "pygments_lexer": "ipython3",
   "version": "3.12.1"
  }
 },
 "nbformat": 4,
 "nbformat_minor": 4
}
