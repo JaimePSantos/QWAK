{
 "cells": [
  {
   "cell_type": "code",
   "execution_count": 1,
   "metadata": {},
   "outputs": [],
   "source": [
    "import networkx as nx\n",
    "import numpy as np\n",
    "from qutip import Options,Qobj\n",
    "\n",
    "from qwak.Errors import StateOutOfBounds, NonUnitaryState\n",
    "from qwak.State import State\n",
    "from qwak.StochasticOperator import StochasticOperator\n",
    "from qwak.StochasticProbabilityDistribution import StochasticProbabilityDistribution\n",
    "from qwak.StochasticQuantumWalk import StochasticQuantumWalk\n"
   ]
  },
  {
   "cell_type": "code",
   "execution_count": 2,
   "metadata": {},
   "outputs": [],
   "source": [
    "n = 50\n",
    "t = 20\n",
    "noiseParam = 0.10\n",
    "sinkNode = 10\n",
    "sinkRate = 1.0\n",
    "graph = nx.cycle_graph(n)\n",
    "initStateList = [n // 2]\n",
    "operator = StochasticOperator(\n",
    "    graph,\n",
    "    noiseParam=noiseParam,\n",
    "    sinkNode=sinkNode,\n",
    "    sinkRate=sinkRate,\n",
    ")\n",
    "initState = State(\n",
    "    n,\n",
    "    nodeList=initStateList,\n",
    "    customStateList=None)\n",
    "quantumWalk = StochasticQuantumWalk(\n",
    "    initState, operator)\n",
    "probDist = StochasticProbabilityDistribution(quantumWalk)"
   ]
  },
  {
   "cell_type": "code",
   "execution_count": 3,
   "metadata": {},
   "outputs": [
    {
     "name": "stdout",
     "output_type": "stream",
     "text": [
      "Migrating e_ops, args, and options\n",
      "Handling solver deprecation\n",
      "Creating QobjEvo for H\n",
      "Processing collapse operators\n",
      "Determining whether to use mesolve or sesolve\n",
      "Using MESOLVER\n",
      "Running solver\n"
     ]
    }
   ],
   "source": [
    "operator.buildStochasticOperator(\n",
    "            noiseParam = noiseParam,\n",
    "            sinkNode= sinkNode,\n",
    "            sinkRate = sinkRate)\n",
    "\n",
    "quantumWalk.buildWalk(t)\n"
   ]
  },
  {
   "cell_type": "code",
   "execution_count": null,
   "metadata": {},
   "outputs": [],
   "source": []
  }
 ],
 "metadata": {
  "kernelspec": {
   "display_name": "QWAK",
   "language": "python",
   "name": "python3"
  },
  "language_info": {
   "codemirror_mode": {
    "name": "ipython",
    "version": 3
   },
   "file_extension": ".py",
   "mimetype": "text/x-python",
   "name": "python",
   "nbconvert_exporter": "python",
   "pygments_lexer": "ipython3",
   "version": "3.12.2"
  }
 },
 "nbformat": 4,
 "nbformat_minor": 2
}
