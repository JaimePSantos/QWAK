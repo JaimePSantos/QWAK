{
 "cells": [
  {
   "cell_type": "code",
   "execution_count": 5,
   "metadata": {
    "pycharm": {
     "name": "#%%\n"
    },
    "tags": []
   },
   "outputs": [],
   "source": [
    "from qwak.State import State\n",
    "from qwak.Operator import Operator\n",
    "from qwak.QuantumWalk import QuantumWalk\n",
    "from qwak.ProbabilityDistribution import ProbabilityDistribution\n",
    "from qwak.qwak import QWAK, StochasticQWAK\n"
   ]
  },
  {
   "cell_type": "code",
   "execution_count": 6,
   "metadata": {
    "pycharm": {
     "name": "#%%\n"
    }
   },
   "outputs": [],
   "source": [
    "import networkx as nx\n",
    "import numpy as np\n",
    "from matplotlib import pyplot as plt\n",
    "import timeit\n",
    "import sympy as sp\n",
    "from sympy.abc import pi\n",
    "from math import sqrt, ceil, pow"
   ]
  },
  {
   "cell_type": "markdown",
   "metadata": {
    "pycharm": {
     "name": "#%% md\n"
    }
   },
   "source": [
    "Start by creating your initial state:"
   ]
  },
  {
   "cell_type": "code",
   "execution_count": 9,
   "metadata": {
    "pycharm": {
     "name": "#%%\n"
    }
   },
   "outputs": [
    {
     "name": "stdout",
     "output_type": "stream",
     "text": [
      "[[0.+0.j]\n",
      " [1.+0.j]\n",
      " [0.+0.j]\n",
      " [0.+0.j]]\n"
     ]
    }
   ],
   "source": [
    "n = 4\n",
    "initNodes = [1]\n",
    "\n",
    "initState = State(n,initNodes)\n",
    "initState.buildState()\n",
    "print(initState.getStateVec())"
   ]
  },
  {
   "cell_type": "markdown",
   "metadata": {
    "pycharm": {
     "name": "#%% md\n"
    }
   },
   "source": [
    "Note that this creates a state that is the uniform superposition of the nodes in the initNodes list.\n",
    "\n",
    "Alternatively, you can create a state with custom amplitudes."
   ]
  },
  {
   "cell_type": "code",
   "execution_count": 16,
   "metadata": {
    "pycharm": {
     "name": "#%%\n"
    }
   },
   "outputs": [
    {
     "name": "stdout",
     "output_type": "stream",
     "text": [
      "[[ 0.77-0.j    -0.  -0.421j -0.23-0.j    -0.  -0.421j]\n",
      " [-0.  -0.421j  0.77+0.j    -0.  -0.421j -0.23+0.j   ]\n",
      " [-0.23-0.j    -0.  -0.421j  0.77-0.j    -0.  -0.421j]\n",
      " [-0.  -0.421j -0.23+0.j    -0.  -0.421j  0.77+0.j   ]]\n"
     ]
    }
   ],
   "source": [
    "graph = nx.cycle_graph(n)\n",
    "\n",
    "operator = Operator(graph)\n",
    "operator.buildDiagonalOperator(0.5)\n",
    "print(operator.getOperator().round(3))"
   ]
  },
  {
   "cell_type": "code",
   "execution_count": 11,
   "metadata": {
    "pycharm": {
     "name": "#%%\n"
    }
   },
   "outputs": [
    {
     "name": "stdout",
     "output_type": "stream",
     "text": [
      "[[-0.00096428-0.00074272j]\n",
      " [-0.00096428-0.00074272j]\n",
      " [ 0.00201197-0.00074272j]\n",
      " [ 0.00201197+0.00354742j]\n",
      " [-0.0065682 +0.00354742j]\n",
      " [-0.0065682 -0.01145213j]\n",
      " [ 0.01924511-0.01145213j]\n",
      " [ 0.01924511+0.03086787j]\n",
      " [-0.04712866+0.03086787j]\n",
      " [-0.04712866-0.0680992j ]\n",
      " [ 0.0924759 -0.0680992j ]\n",
      " [ 0.0924759 +0.11685215j]\n",
      " [-0.13538596+0.11685215j]\n",
      " [-0.13538596-0.14038111j]\n",
      " [ 0.12431912-0.14038111j]\n",
      " [ 0.12431912+0.08339329j]\n",
      " [-0.02161915+0.08339329j]\n",
      " [-0.02161915+0.04664074j]\n",
      " [-0.09857637+0.04664074j]\n",
      " [-0.09857637-0.11108145j]\n",
      " [ 0.07359988-0.11108145j]\n",
      " [ 0.07359988-0.00068163j]\n",
      " [ 0.07458825-0.00068163j]\n",
      " [ 0.07458825+0.10374191j]\n",
      " [-0.06546334+0.10374191j]\n",
      " [-0.06546334+0.01863958j]\n",
      " [-0.08876281+0.01863958j]\n",
      " [-0.08876281-0.08787579j]\n",
      " [ 0.01229435-0.08787579j]\n",
      " [ 0.01229435-0.074352j  ]\n",
      " [ 0.09036396-0.074352j  ]\n",
      " [ 0.09036396+0.01601195j]\n",
      " [ 0.0751526 +0.01601195j]\n",
      " [ 0.0751526 +0.08364929j]\n",
      " [ 0.0040507 +0.08364929j]\n",
      " [ 0.0040507 +0.08688985j]\n",
      " [-0.06111669+0.08688985j]\n",
      " [-0.06111669+0.04410817j]\n",
      " [-0.089787  +0.04410817j]\n",
      " [-0.089787  -0.00976403j]\n",
      " [-0.08441679-0.00976403j]\n",
      " [-0.08441679-0.05197242j]\n",
      " [-0.06102919-0.05197242j]\n",
      " [-0.06102919-0.0763841j ]\n",
      " [-0.03429476-0.0763841j ]\n",
      " [-0.03429476-0.08667253j]\n",
      " [-0.01262663-0.08667253j]\n",
      " [-0.01262663-0.08919785j]\n",
      " [ 0.00075305-0.08919785j]\n",
      " [ 0.00075305-0.08912255j]\n",
      " [ 0.00520918-0.08912255j]\n",
      " [ 0.00520918-0.08912255j]\n",
      " [ 0.00075305-0.08912255j]\n",
      " [ 0.00075305-0.08919785j]\n",
      " [-0.01262663-0.08919785j]\n",
      " [-0.01262663-0.08667253j]\n",
      " [-0.03429476-0.08667253j]\n",
      " [-0.03429476-0.0763841j ]\n",
      " [-0.06102919-0.0763841j ]\n",
      " [-0.06102919-0.05197242j]\n",
      " [-0.08441679-0.05197242j]\n",
      " [-0.08441679-0.00976403j]\n",
      " [-0.089787  -0.00976403j]\n",
      " [-0.089787  +0.04410817j]\n",
      " [-0.06111669+0.04410817j]\n",
      " [-0.06111669+0.08688985j]\n",
      " [ 0.0040507 +0.08688985j]\n",
      " [ 0.0040507 +0.08364929j]\n",
      " [ 0.0751526 +0.08364929j]\n",
      " [ 0.0751526 +0.01601195j]\n",
      " [ 0.09036396+0.01601195j]\n",
      " [ 0.09036396-0.074352j  ]\n",
      " [ 0.01229435-0.074352j  ]\n",
      " [ 0.01229435-0.08787579j]\n",
      " [-0.08876281-0.08787579j]\n",
      " [-0.08876281+0.01863958j]\n",
      " [-0.06546334+0.01863958j]\n",
      " [-0.06546334+0.10374191j]\n",
      " [ 0.07458825+0.10374191j]\n",
      " [ 0.07458825-0.00068163j]\n",
      " [ 0.07359988-0.00068163j]\n",
      " [ 0.07359988-0.11108145j]\n",
      " [-0.09857637-0.11108145j]\n",
      " [-0.09857637+0.04664074j]\n",
      " [-0.02161915+0.04664074j]\n",
      " [-0.02161915+0.08339329j]\n",
      " [ 0.12431912+0.08339329j]\n",
      " [ 0.12431912-0.14038111j]\n",
      " [-0.13538596-0.14038111j]\n",
      " [-0.13538596+0.11685215j]\n",
      " [ 0.0924759 +0.11685215j]\n",
      " [ 0.0924759 -0.0680992j ]\n",
      " [-0.04712866-0.0680992j ]\n",
      " [-0.04712866+0.03086787j]\n",
      " [ 0.01924511+0.03086787j]\n",
      " [ 0.01924511-0.01145213j]\n",
      " [-0.0065682 -0.01145213j]\n",
      " [-0.0065682 +0.00354742j]\n",
      " [ 0.00201197+0.00354742j]\n",
      " [ 0.00201197-0.00074272j]]\n"
     ]
    }
   ],
   "source": [
    "quantumWalk = QuantumWalk(initState,operator)\n",
    "quantumWalk.buildWalk()\n",
    "print(quantumWalk)"
   ]
  },
  {
   "cell_type": "code",
   "execution_count": 14,
   "metadata": {
    "pycharm": {
     "name": "#%%\n"
    }
   },
   "outputs": [
    {
     "data": {
      "text/plain": [
       "[<matplotlib.lines.Line2D at 0x7f5273076eb0>]"
      ]
     },
     "execution_count": 14,
     "metadata": {},
     "output_type": "execute_result"
    },
    {
     "data": {
      "image/png": "[encoded data removed]",
      "text/plain": [
       "<Figure size 432x288 with 1 Axes>"
      ]
     },
     "metadata": {
      "needs_background": "light"
     },
     "output_type": "display_data"
    }
   ],
   "source": [
    "finalState = quantumWalk.getFinalState()\n",
    "plt.plot(finalState.getStateVec())"
   ]
  },
  {
   "cell_type": "code",
   "execution_count": 15,
   "metadata": {
    "pycharm": {
     "name": "#%%\n"
    }
   },
   "outputs": [
    {
     "name": "stdout",
     "output_type": "stream",
     "text": [
      "[[1.48148004e-06]\n",
      " [1.48148004e-06]\n",
      " [4.59965579e-06]\n",
      " [1.66322030e-05]\n",
      " [5.57254694e-05]\n",
      " [1.74292559e-04]\n",
      " [5.01525499e-04]\n",
      " [1.32319977e-03]\n",
      " [3.17393643e-03]\n",
      " [6.85861125e-03]\n",
      " [1.31892930e-02]\n",
      " [2.22062171e-02]\n",
      " [3.19837822e-02]\n",
      " [3.80362136e-02]\n",
      " [3.51620987e-02]\n",
      " [2.24096842e-02]\n",
      " [7.42182892e-03]\n",
      " [2.64274633e-03]\n",
      " [1.18926597e-02]\n",
      " [2.20563902e-02]\n",
      " [1.77560317e-02]\n",
      " [5.41740709e-03]\n",
      " [5.56387121e-03]\n",
      " [1.63257913e-02]\n",
      " [1.50478332e-02]\n",
      " [4.63288227e-03]\n",
      " [8.22626968e-03]\n",
      " [1.56009908e-02]\n",
      " [7.87330602e-03]\n",
      " [5.67937144e-03]\n",
      " [1.36938650e-02]\n",
      " [8.42202741e-03]\n",
      " [5.90429602e-03]\n",
      " [1.26451178e-02]\n",
      " [7.01361267e-03]\n",
      " [7.56625500e-03]\n",
      " [1.12850968e-02]\n",
      " [5.68078066e-03]\n",
      " [1.00072365e-02]\n",
      " [8.15704204e-03]\n",
      " [7.22152994e-03]\n",
      " [9.82732642e-03]\n",
      " [6.42569540e-03]\n",
      " [9.55909354e-03]\n",
      " [7.01066144e-03]\n",
      " [8.68825782e-03]\n",
      " [7.67155900e-03]\n",
      " [8.11568896e-03]\n",
      " [7.95682433e-03]\n",
      " [7.94339589e-03]\n",
      " [7.96996435e-03]\n",
      " [7.96996435e-03]\n",
      " [7.94339589e-03]\n",
      " [7.95682433e-03]\n",
      " [8.11568896e-03]\n",
      " [7.67155900e-03]\n",
      " [8.68825782e-03]\n",
      " [7.01066144e-03]\n",
      " [9.55909354e-03]\n",
      " [6.42569540e-03]\n",
      " [9.82732642e-03]\n",
      " [7.22152994e-03]\n",
      " [8.15704204e-03]\n",
      " [1.00072365e-02]\n",
      " [5.68078066e-03]\n",
      " [1.12850968e-02]\n",
      " [7.56625500e-03]\n",
      " [7.01361267e-03]\n",
      " [1.26451178e-02]\n",
      " [5.90429602e-03]\n",
      " [8.42202741e-03]\n",
      " [1.36938650e-02]\n",
      " [5.67937144e-03]\n",
      " [7.87330602e-03]\n",
      " [1.56009908e-02]\n",
      " [8.22626968e-03]\n",
      " [4.63288227e-03]\n",
      " [1.50478332e-02]\n",
      " [1.63257913e-02]\n",
      " [5.56387121e-03]\n",
      " [5.41740709e-03]\n",
      " [1.77560317e-02]\n",
      " [2.20563902e-02]\n",
      " [1.18926597e-02]\n",
      " [2.64274633e-03]\n",
      " [7.42182892e-03]\n",
      " [2.24096842e-02]\n",
      " [3.51620987e-02]\n",
      " [3.80362136e-02]\n",
      " [3.19837822e-02]\n",
      " [2.22062171e-02]\n",
      " [1.31892930e-02]\n",
      " [6.85861125e-03]\n",
      " [3.17393643e-03]\n",
      " [1.32319977e-03]\n",
      " [5.01525499e-04]\n",
      " [1.74292559e-04]\n",
      " [5.57254694e-05]\n",
      " [1.66322030e-05]\n",
      " [4.59965579e-06]]\n"
     ]
    }
   ],
   "source": [
    "probDist = ProbabilityDistribution(finalState)\n",
    "probDist.buildProbDist()\n",
    "print(probDist)"
   ]
  },
  {
   "cell_type": "code",
   "execution_count": 17,
   "metadata": {
    "pycharm": {
     "name": "#%%\n"
    }
   },
   "outputs": [
    {
     "data": {
      "text/plain": [
       "[<matplotlib.lines.Line2D at 0x7f5272f91880>]"
      ]
     },
     "execution_count": 17,
     "metadata": {},
     "output_type": "execute_result"
    },
    {
     "data": {
      "image/png": "[encoded data removed]",
      "text/plain": [
       "<Figure size 432x288 with 1 Axes>"
      ]
     },
     "metadata": {
      "needs_background": "light"
     },
     "output_type": "display_data"
    }
   ],
   "source": [
    "probDistVec = probDist.getProbVec()\n",
    "plt.plot(probDistVec)"
   ]
  },
  {
   "cell_type": "code",
   "execution_count": 27,
   "metadata": {
    "pycharm": {
     "name": "#%%\n"
    }
   },
   "outputs": [
    {
     "data": {
      "image/png": "[encoded data removed]",
      "text/plain": [
       "<Figure size 432x288 with 1 Axes>"
      ]
     },
     "metadata": {},
     "output_type": "display_data"
    }
   ],
   "source": [
    "n = 100\n",
    "t = 12\n",
    "marked = [n//2, n//2 + 1]\n",
    "graph = nx.path_graph(n)\n",
    "nx.draw(graph)\n",
    "qw = QWAK(graph,laplacian = True)"
   ]
  },
  {
   "cell_type": "code",
   "execution_count": 28,
   "metadata": {
    "pycharm": {
     "name": "#%%\n"
    }
   },
   "outputs": [
    {
     "data": {
      "text/plain": [
       "[<matplotlib.lines.Line2D at 0x7fb352ad9c70>]"
      ]
     },
     "execution_count": 28,
     "metadata": {},
     "output_type": "execute_result"
    },
    {
     "data": {
      "image/png": "[encoded data removed]",
      "text/plain": [
       "<Figure size 432x288 with 1 Axes>"
      ]
     },
     "metadata": {
      "needs_background": "light"
     },
     "output_type": "display_data"
    }
   ],
   "source": [
    "qw.runWalk(t,marked)\n",
    "\n",
    "plt.plot(qw.getProbDistVec())"
   ]
  },
  {
   "cell_type": "markdown",
   "metadata": {
    "pycharm": {
     "name": "#%% md\n"
    }
   },
   "source": []
  },
  {
   "cell_type": "code",
   "execution_count": 51,
   "metadata": {
    "pycharm": {
     "name": "#%%\n"
    }
   },
   "outputs": [
    {
     "name": "stdout",
     "output_type": "stream",
     "text": [
      "(6.206175959372126e-14-1.2289699679403927e-12j)\n"
     ]
    }
   ],
   "source": [
    "# print(list(qw.getProbDistVec()))\n",
    "print(qw.getAmpVec().item(0))\n"
   ]
  },
  {
   "cell_type": "code",
   "execution_count": 33,
   "metadata": {
    "pycharm": {
     "name": "#%%\n"
    }
   },
   "outputs": [
    {
     "name": "stdout",
     "output_type": "stream",
     "text": [
      "[[ True]\n",
      " [ True]\n",
      " [ True]\n",
      " [ True]\n",
      " [ True]\n",
      " [ True]\n",
      " [ True]\n",
      " [ True]\n",
      " [ True]\n",
      " [ True]\n",
      " [ True]\n",
      " [ True]\n",
      " [ True]\n",
      " [ True]\n",
      " [ True]\n",
      " [ True]\n",
      " [ True]\n",
      " [ True]\n",
      " [ True]\n",
      " [ True]\n",
      " [ True]\n",
      " [ True]\n",
      " [ True]\n",
      " [ True]\n",
      " [ True]\n",
      " [ True]\n",
      " [ True]\n",
      " [ True]\n",
      " [ True]\n",
      " [ True]\n",
      " [ True]\n",
      " [ True]\n",
      " [ True]\n",
      " [ True]\n",
      " [ True]\n",
      " [ True]\n",
      " [ True]\n",
      " [ True]\n",
      " [ True]\n",
      " [ True]\n",
      " [ True]\n",
      " [ True]\n",
      " [ True]\n",
      " [ True]\n",
      " [ True]\n",
      " [ True]\n",
      " [ True]\n",
      " [ True]\n",
      " [ True]\n",
      " [ True]\n",
      " [ True]\n",
      " [ True]\n",
      " [ True]\n",
      " [ True]\n",
      " [ True]\n",
      " [ True]\n",
      " [ True]\n",
      " [ True]\n",
      " [ True]\n",
      " [ True]\n",
      " [ True]\n",
      " [ True]\n",
      " [ True]\n",
      " [ True]\n",
      " [ True]\n",
      " [ True]\n",
      " [ True]\n",
      " [ True]\n",
      " [ True]\n",
      " [ True]\n",
      " [ True]\n",
      " [ True]\n",
      " [ True]\n",
      " [ True]\n",
      " [ True]\n",
      " [ True]\n",
      " [ True]\n",
      " [ True]\n",
      " [ True]\n",
      " [ True]\n",
      " [ True]\n",
      " [ True]\n",
      " [ True]\n",
      " [ True]\n",
      " [ True]\n",
      " [ True]\n",
      " [ True]\n",
      " [ True]\n",
      " [ True]\n",
      " [ True]\n",
      " [ True]\n",
      " [ True]\n",
      " [ True]\n",
      " [ True]\n",
      " [ True]\n",
      " [ True]\n",
      " [ True]\n",
      " [ True]\n",
      " [ True]\n",
      " [ True]]\n"
     ]
    }
   ],
   "source": [
    "qw3 = QWAK(nx.path_graph(n),laplacian = True)\n",
    "qw3.runWalk(t,marked)\n",
    "print(qw.getProbDistVec() == qw3.getProbDistVec())"
   ]
  },
  {
   "cell_type": "code",
   "execution_count": 31,
   "metadata": {
    "pycharm": {
     "name": "#%%\n"
    }
   },
   "outputs": [
    {
     "data": {
      "text/plain": [
       "[<matplotlib.lines.Line2D at 0x7fb36bfa6580>]"
      ]
     },
     "execution_count": 31,
     "metadata": {},
     "output_type": "execute_result"
    },
    {
     "data": {
      "image/png": "[encoded data removed]",
      "text/plain": [
       "<Figure size 432x288 with 1 Axes>"
      ]
     },
     "metadata": {
      "needs_background": "light"
     },
     "output_type": "display_data"
    }
   ],
   "source": [
    "plt.plot(qw3.getProbDistVec())"
   ]
  },
  {
   "cell_type": "code",
   "execution_count": 31,
   "metadata": {
    "pycharm": {
     "name": "#%%\n"
    }
   },
   "outputs": [],
   "source": []
  },
  {
   "cell_type": "code",
   "execution_count": 45,
   "metadata": {
    "pycharm": {
     "name": "#%%\n"
    }
   },
   "outputs": [
    {
     "data": {
      "text/plain": [
       "[<matplotlib.lines.Line2D at 0x7fb352824340>]"
      ]
     },
     "execution_count": 45,
     "metadata": {},
     "output_type": "execute_result"
    },
    {
     "data": {
      "image/png": "[encoded data removed]",
      "text/plain": [
       "<Figure size 432x288 with 1 Axes>"
      ]
     },
     "metadata": {
      "needs_background": "light"
     },
     "output_type": "display_data"
    }
   ],
   "source": [
    "n = 100\n",
    "t = 20\n",
    "marked = [n//2]\n",
    "graph = nx.cycle_graph(n)\n",
    "\n",
    "noiseParam = 0.15\n",
    "sinkNode = 10\n",
    "sinkRate = 1.0\n",
    "\n",
    "sqwController = StochasticQWAK(graph)\n",
    "sqwController.runWalk(t, marked, noiseParam=noiseParam,sinkNode=sinkNode, sinkRate=sinkRate)\n",
    "\n",
    "plt.plot(sqwController.getProbVec())"
   ]
  },
  {
   "cell_type": "code",
   "execution_count": null,
   "metadata": {
    "pycharm": {
     "name": "#%%\n"
    }
   },
   "outputs": [],
   "source": []
  }
 ],
 "metadata": {
  "kernelspec": {
   "display_name": "Python 3 (ipykernel)",
   "language": "python",
   "name": "python3"
  },
  "language_info": {
   "codemirror_mode": {
    "name": "ipython",
    "version": 3
   },
   "file_extension": ".py",
   "mimetype": "text/x-python",
   "name": "python",
   "nbconvert_exporter": "python",
   "pygments_lexer": "ipython3",
   "version": "3.10.4"
  }
 },
 "nbformat": 4,
 "nbformat_minor": 4
}