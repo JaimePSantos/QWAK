{
 "cells": [
  {
   "cell_type": "code",
   "execution_count": null,
   "outputs": [],
   "source": [],
   "metadata": {
    "collapsed": false,
    "pycharm": {
     "name": "#%%\n"
    }
   }
  },
  {
   "cell_type": "code",
   "execution_count": 20,
   "metadata": {
    "tags": [],
    "pycharm": {
     "name": "#%%\n"
    }
   },
   "outputs": [],
   "source": [
    "from qwak.State import State\n",
    "from qwak.Operator import Operator\n",
    "from qwak.QuantumWalk import QuantumWalk\n",
    "from qwak.ProbabilityDistribution import ProbabilityDistribution\n",
    "from qwak.qwak import QWAK\n"
   ]
  },
  {
   "cell_type": "code",
   "execution_count": 3,
   "metadata": {
    "pycharm": {
     "name": "#%%\n"
    }
   },
   "outputs": [],
   "source": [
    "import networkx as nx\n",
    "import numpy as np\n",
    "from matplotlib import pyplot as plt\n",
    "import timeit\n",
    "import sympy as sp\n",
    "from sympy.abc import pi\n",
    "from math import sqrt, ceil, pow"
   ]
  },
  {
   "cell_type": "markdown",
   "metadata": {
    "pycharm": {
     "name": "#%% md\n"
    }
   },
   "source": [
    "Start by creating your initial state:"
   ]
  },
  {
   "cell_type": "code",
   "execution_count": 19,
   "metadata": {
    "pycharm": {
     "name": "#%%\n"
    }
   },
   "outputs": [
    {
     "name": "stdout",
     "output_type": "stream",
     "text": [
      "[[0.+0.j]\n",
      " [0.+0.j]\n",
      " [0.+0.j]\n",
      " [0.+0.j]\n",
      " [0.+0.j]\n",
      " [0.+0.j]\n",
      " [0.+0.j]\n",
      " [0.+0.j]\n",
      " [0.+0.j]\n",
      " [0.+0.j]\n",
      " [0.+0.j]\n",
      " [0.+0.j]\n",
      " [0.+0.j]\n",
      " [0.+0.j]\n",
      " [0.+0.j]\n",
      " [0.+0.j]\n",
      " [0.+0.j]\n",
      " [0.+0.j]\n",
      " [0.+0.j]\n",
      " [0.+0.j]\n",
      " [0.+0.j]\n",
      " [0.+0.j]\n",
      " [0.+0.j]\n",
      " [0.+0.j]\n",
      " [0.+0.j]\n",
      " [0.+0.j]\n",
      " [0.+0.j]\n",
      " [0.+0.j]\n",
      " [0.+0.j]\n",
      " [0.+0.j]\n",
      " [0.+0.j]\n",
      " [0.+0.j]\n",
      " [0.+0.j]\n",
      " [0.+0.j]\n",
      " [0.+0.j]\n",
      " [0.+0.j]\n",
      " [0.+0.j]\n",
      " [0.+0.j]\n",
      " [0.+0.j]\n",
      " [0.+0.j]\n",
      " [0.+0.j]\n",
      " [0.+0.j]\n",
      " [0.+0.j]\n",
      " [0.+0.j]\n",
      " [0.+0.j]\n",
      " [0.+0.j]\n",
      " [0.+0.j]\n",
      " [0.+0.j]\n",
      " [0.+0.j]\n",
      " [0.+0.j]\n",
      " [0.+0.j]\n",
      " [1.+0.j]\n",
      " [0.+0.j]\n",
      " [0.+0.j]\n",
      " [0.+0.j]\n",
      " [0.+0.j]\n",
      " [0.+0.j]\n",
      " [0.+0.j]\n",
      " [0.+0.j]\n",
      " [0.+0.j]\n",
      " [0.+0.j]\n",
      " [0.+0.j]\n",
      " [0.+0.j]\n",
      " [0.+0.j]\n",
      " [0.+0.j]\n",
      " [0.+0.j]\n",
      " [0.+0.j]\n",
      " [0.+0.j]\n",
      " [0.+0.j]\n",
      " [0.+0.j]\n",
      " [0.+0.j]\n",
      " [0.+0.j]\n",
      " [0.+0.j]\n",
      " [0.+0.j]\n",
      " [0.+0.j]\n",
      " [0.+0.j]\n",
      " [0.+0.j]\n",
      " [0.+0.j]\n",
      " [0.+0.j]\n",
      " [0.+0.j]\n",
      " [0.+0.j]\n",
      " [0.+0.j]\n",
      " [0.+0.j]\n",
      " [0.+0.j]\n",
      " [0.+0.j]\n",
      " [0.+0.j]\n",
      " [0.+0.j]\n",
      " [0.+0.j]\n",
      " [0.+0.j]\n",
      " [0.+0.j]\n",
      " [0.+0.j]\n",
      " [0.+0.j]\n",
      " [0.+0.j]\n",
      " [0.+0.j]\n",
      " [0.+0.j]\n",
      " [0.+0.j]\n",
      " [0.+0.j]\n",
      " [0.+0.j]\n",
      " [0.+0.j]\n",
      " [0.+0.j]]\n"
     ]
    }
   ],
   "source": [
    "n = 100\n",
    "initNodes = [51]\n",
    "\n",
    "initState = State(n,initNodes)\n",
    "initState.buildState()\n",
    "print(initState.getStateVec())"
   ]
  },
  {
   "cell_type": "markdown",
   "metadata": {
    "pycharm": {
     "name": "#%% md\n"
    }
   },
   "source": [
    "Note that this creates a state that is the uniform superposition of the nodes in the initNodes list.\n",
    "\n",
    "Alternatively, you can create a state with custom amplitudes."
   ]
  },
  {
   "cell_type": "code",
   "execution_count": 8,
   "metadata": {
    "pycharm": {
     "name": "#%%\n"
    }
   },
   "outputs": [
    {
     "name": "stdout",
     "output_type": "stream",
     "text": [
      "[[ 7.36689058e-03+1.62378977e-15j  1.13613756e-15-1.26038318e-01j\n",
      "   1.06497468e-03+9.44278239e-16j ...  2.29744542e-16-1.26144816e-01j\n",
      "   1.06497468e-03+9.53485837e-16j  1.12549641e-15-1.26038318e-01j]\n",
      " [ 1.13486279e-15-1.26038318e-01j  7.36689058e-03+1.61333396e-15j\n",
      "   1.80072120e-16-1.26038318e-01j ... -1.78567476e-02+1.36873795e-15j\n",
      "   1.21124883e-15-1.26144816e-01j  1.06497468e-03+1.08791334e-15j]\n",
      " [ 1.06497468e-03+9.62686653e-16j  1.80478396e-16-1.26038318e-01j\n",
      "   7.36689058e-03+8.07061612e-16j ...  1.04176860e-15-1.22573466e-01j\n",
      "  -1.78567476e-02+1.51189332e-15j  1.22801857e-15-1.26144816e-01j]\n",
      " ...\n",
      " [ 2.25867690e-16-1.26144816e-01j -1.78567476e-02+1.38868727e-15j\n",
      "   1.03789288e-15-1.22573466e-01j ...  7.36689058e-03-2.61034759e-16j\n",
      "   2.47609934e-16-1.26038318e-01j  1.06497468e-03+1.33815431e-16j]\n",
      " [ 1.06497468e-03+9.55574287e-16j  1.21125109e-15-1.26144816e-01j\n",
      "  -1.78567476e-02+1.52332894e-15j ...  2.39805939e-16-1.26038318e-01j\n",
      "   7.36689058e-03+8.36912420e-16j  1.90133517e-16-1.26038318e-01j]\n",
      " [ 1.13590363e-15-1.26038318e-01j  1.06497468e-03+1.08701885e-15j\n",
      "   1.23148802e-15-1.26144816e-01j ...  1.06497468e-03+1.47666091e-16j\n",
      "   1.94874341e-16-1.26038318e-01j  7.36689058e-03+1.59289135e-15j]]\n"
     ]
    }
   ],
   "source": [
    "graph = nx.cycle_graph(n)\n",
    "\n",
    "operator = Operator(graph)\n",
    "operator.buildDiagonalOperator(20)\n",
    "print(operator.getOperator())"
   ]
  },
  {
   "cell_type": "code",
   "execution_count": 11,
   "outputs": [
    {
     "name": "stdout",
     "output_type": "stream",
     "text": [
      "[[-0.00096428-0.00074272j]\n",
      " [-0.00096428-0.00074272j]\n",
      " [ 0.00201197-0.00074272j]\n",
      " [ 0.00201197+0.00354742j]\n",
      " [-0.0065682 +0.00354742j]\n",
      " [-0.0065682 -0.01145213j]\n",
      " [ 0.01924511-0.01145213j]\n",
      " [ 0.01924511+0.03086787j]\n",
      " [-0.04712866+0.03086787j]\n",
      " [-0.04712866-0.0680992j ]\n",
      " [ 0.0924759 -0.0680992j ]\n",
      " [ 0.0924759 +0.11685215j]\n",
      " [-0.13538596+0.11685215j]\n",
      " [-0.13538596-0.14038111j]\n",
      " [ 0.12431912-0.14038111j]\n",
      " [ 0.12431912+0.08339329j]\n",
      " [-0.02161915+0.08339329j]\n",
      " [-0.02161915+0.04664074j]\n",
      " [-0.09857637+0.04664074j]\n",
      " [-0.09857637-0.11108145j]\n",
      " [ 0.07359988-0.11108145j]\n",
      " [ 0.07359988-0.00068163j]\n",
      " [ 0.07458825-0.00068163j]\n",
      " [ 0.07458825+0.10374191j]\n",
      " [-0.06546334+0.10374191j]\n",
      " [-0.06546334+0.01863958j]\n",
      " [-0.08876281+0.01863958j]\n",
      " [-0.08876281-0.08787579j]\n",
      " [ 0.01229435-0.08787579j]\n",
      " [ 0.01229435-0.074352j  ]\n",
      " [ 0.09036396-0.074352j  ]\n",
      " [ 0.09036396+0.01601195j]\n",
      " [ 0.0751526 +0.01601195j]\n",
      " [ 0.0751526 +0.08364929j]\n",
      " [ 0.0040507 +0.08364929j]\n",
      " [ 0.0040507 +0.08688985j]\n",
      " [-0.06111669+0.08688985j]\n",
      " [-0.06111669+0.04410817j]\n",
      " [-0.089787  +0.04410817j]\n",
      " [-0.089787  -0.00976403j]\n",
      " [-0.08441679-0.00976403j]\n",
      " [-0.08441679-0.05197242j]\n",
      " [-0.06102919-0.05197242j]\n",
      " [-0.06102919-0.0763841j ]\n",
      " [-0.03429476-0.0763841j ]\n",
      " [-0.03429476-0.08667253j]\n",
      " [-0.01262663-0.08667253j]\n",
      " [-0.01262663-0.08919785j]\n",
      " [ 0.00075305-0.08919785j]\n",
      " [ 0.00075305-0.08912255j]\n",
      " [ 0.00520918-0.08912255j]\n",
      " [ 0.00520918-0.08912255j]\n",
      " [ 0.00075305-0.08912255j]\n",
      " [ 0.00075305-0.08919785j]\n",
      " [-0.01262663-0.08919785j]\n",
      " [-0.01262663-0.08667253j]\n",
      " [-0.03429476-0.08667253j]\n",
      " [-0.03429476-0.0763841j ]\n",
      " [-0.06102919-0.0763841j ]\n",
      " [-0.06102919-0.05197242j]\n",
      " [-0.08441679-0.05197242j]\n",
      " [-0.08441679-0.00976403j]\n",
      " [-0.089787  -0.00976403j]\n",
      " [-0.089787  +0.04410817j]\n",
      " [-0.06111669+0.04410817j]\n",
      " [-0.06111669+0.08688985j]\n",
      " [ 0.0040507 +0.08688985j]\n",
      " [ 0.0040507 +0.08364929j]\n",
      " [ 0.0751526 +0.08364929j]\n",
      " [ 0.0751526 +0.01601195j]\n",
      " [ 0.09036396+0.01601195j]\n",
      " [ 0.09036396-0.074352j  ]\n",
      " [ 0.01229435-0.074352j  ]\n",
      " [ 0.01229435-0.08787579j]\n",
      " [-0.08876281-0.08787579j]\n",
      " [-0.08876281+0.01863958j]\n",
      " [-0.06546334+0.01863958j]\n",
      " [-0.06546334+0.10374191j]\n",
      " [ 0.07458825+0.10374191j]\n",
      " [ 0.07458825-0.00068163j]\n",
      " [ 0.07359988-0.00068163j]\n",
      " [ 0.07359988-0.11108145j]\n",
      " [-0.09857637-0.11108145j]\n",
      " [-0.09857637+0.04664074j]\n",
      " [-0.02161915+0.04664074j]\n",
      " [-0.02161915+0.08339329j]\n",
      " [ 0.12431912+0.08339329j]\n",
      " [ 0.12431912-0.14038111j]\n",
      " [-0.13538596-0.14038111j]\n",
      " [-0.13538596+0.11685215j]\n",
      " [ 0.0924759 +0.11685215j]\n",
      " [ 0.0924759 -0.0680992j ]\n",
      " [-0.04712866-0.0680992j ]\n",
      " [-0.04712866+0.03086787j]\n",
      " [ 0.01924511+0.03086787j]\n",
      " [ 0.01924511-0.01145213j]\n",
      " [-0.0065682 -0.01145213j]\n",
      " [-0.0065682 +0.00354742j]\n",
      " [ 0.00201197+0.00354742j]\n",
      " [ 0.00201197-0.00074272j]]\n"
     ]
    }
   ],
   "source": [
    "quantumWalk = QuantumWalk(initState,operator)\n",
    "quantumWalk.buildWalk()\n",
    "print(quantumWalk)"
   ],
   "metadata": {
    "collapsed": false,
    "pycharm": {
     "name": "#%%\n"
    }
   }
  },
  {
   "cell_type": "code",
   "execution_count": 14,
   "outputs": [
    {
     "data": {
      "text/plain": "[<matplotlib.lines.Line2D at 0x7f5273076eb0>]"
     },
     "execution_count": 14,
     "metadata": {},
     "output_type": "execute_result"
    },
    {
     "data": {
      "text/plain": "<Figure size 432x288 with 1 Axes>",
      "image/png": "[encoded data removed]"
     },
     "metadata": {
      "needs_background": "light"
     },
     "output_type": "display_data"
    }
   ],
   "source": [
    "finalState = quantumWalk.getFinalState()\n",
    "plt.plot(finalState.getStateVec())"
   ],
   "metadata": {
    "collapsed": false,
    "pycharm": {
     "name": "#%%\n"
    }
   }
  },
  {
   "cell_type": "code",
   "execution_count": 15,
   "outputs": [
    {
     "name": "stdout",
     "output_type": "stream",
     "text": [
      "[[1.48148004e-06]\n",
      " [1.48148004e-06]\n",
      " [4.59965579e-06]\n",
      " [1.66322030e-05]\n",
      " [5.57254694e-05]\n",
      " [1.74292559e-04]\n",
      " [5.01525499e-04]\n",
      " [1.32319977e-03]\n",
      " [3.17393643e-03]\n",
      " [6.85861125e-03]\n",
      " [1.31892930e-02]\n",
      " [2.22062171e-02]\n",
      " [3.19837822e-02]\n",
      " [3.80362136e-02]\n",
      " [3.51620987e-02]\n",
      " [2.24096842e-02]\n",
      " [7.42182892e-03]\n",
      " [2.64274633e-03]\n",
      " [1.18926597e-02]\n",
      " [2.20563902e-02]\n",
      " [1.77560317e-02]\n",
      " [5.41740709e-03]\n",
      " [5.56387121e-03]\n",
      " [1.63257913e-02]\n",
      " [1.50478332e-02]\n",
      " [4.63288227e-03]\n",
      " [8.22626968e-03]\n",
      " [1.56009908e-02]\n",
      " [7.87330602e-03]\n",
      " [5.67937144e-03]\n",
      " [1.36938650e-02]\n",
      " [8.42202741e-03]\n",
      " [5.90429602e-03]\n",
      " [1.26451178e-02]\n",
      " [7.01361267e-03]\n",
      " [7.56625500e-03]\n",
      " [1.12850968e-02]\n",
      " [5.68078066e-03]\n",
      " [1.00072365e-02]\n",
      " [8.15704204e-03]\n",
      " [7.22152994e-03]\n",
      " [9.82732642e-03]\n",
      " [6.42569540e-03]\n",
      " [9.55909354e-03]\n",
      " [7.01066144e-03]\n",
      " [8.68825782e-03]\n",
      " [7.67155900e-03]\n",
      " [8.11568896e-03]\n",
      " [7.95682433e-03]\n",
      " [7.94339589e-03]\n",
      " [7.96996435e-03]\n",
      " [7.96996435e-03]\n",
      " [7.94339589e-03]\n",
      " [7.95682433e-03]\n",
      " [8.11568896e-03]\n",
      " [7.67155900e-03]\n",
      " [8.68825782e-03]\n",
      " [7.01066144e-03]\n",
      " [9.55909354e-03]\n",
      " [6.42569540e-03]\n",
      " [9.82732642e-03]\n",
      " [7.22152994e-03]\n",
      " [8.15704204e-03]\n",
      " [1.00072365e-02]\n",
      " [5.68078066e-03]\n",
      " [1.12850968e-02]\n",
      " [7.56625500e-03]\n",
      " [7.01361267e-03]\n",
      " [1.26451178e-02]\n",
      " [5.90429602e-03]\n",
      " [8.42202741e-03]\n",
      " [1.36938650e-02]\n",
      " [5.67937144e-03]\n",
      " [7.87330602e-03]\n",
      " [1.56009908e-02]\n",
      " [8.22626968e-03]\n",
      " [4.63288227e-03]\n",
      " [1.50478332e-02]\n",
      " [1.63257913e-02]\n",
      " [5.56387121e-03]\n",
      " [5.41740709e-03]\n",
      " [1.77560317e-02]\n",
      " [2.20563902e-02]\n",
      " [1.18926597e-02]\n",
      " [2.64274633e-03]\n",
      " [7.42182892e-03]\n",
      " [2.24096842e-02]\n",
      " [3.51620987e-02]\n",
      " [3.80362136e-02]\n",
      " [3.19837822e-02]\n",
      " [2.22062171e-02]\n",
      " [1.31892930e-02]\n",
      " [6.85861125e-03]\n",
      " [3.17393643e-03]\n",
      " [1.32319977e-03]\n",
      " [5.01525499e-04]\n",
      " [1.74292559e-04]\n",
      " [5.57254694e-05]\n",
      " [1.66322030e-05]\n",
      " [4.59965579e-06]]\n"
     ]
    }
   ],
   "source": [
    "probDist = ProbabilityDistribution(finalState)\n",
    "probDist.buildProbDist()\n",
    "print(probDist)"
   ],
   "metadata": {
    "collapsed": false,
    "pycharm": {
     "name": "#%%\n"
    }
   }
  },
  {
   "cell_type": "code",
   "execution_count": 17,
   "outputs": [
    {
     "data": {
      "text/plain": "[<matplotlib.lines.Line2D at 0x7f5272f91880>]"
     },
     "execution_count": 17,
     "metadata": {},
     "output_type": "execute_result"
    },
    {
     "data": {
      "text/plain": "<Figure size 432x288 with 1 Axes>",
      "image/png": "[encoded data removed]"
     },
     "metadata": {
      "needs_background": "light"
     },
     "output_type": "display_data"
    }
   ],
   "source": [
    "probDistVec = probDist.getProbVec()\n",
    "plt.plot(probDistVec)"
   ],
   "metadata": {
    "collapsed": false,
    "pycharm": {
     "name": "#%%\n"
    }
   }
  },
  {
   "cell_type": "code",
   "execution_count": 27,
   "outputs": [],
   "source": [
    "n = 100\n",
    "\n",
    "graph = nx.cycle_graph(n)\n",
    "qw = QWAK(graph)"
   ],
   "metadata": {
    "collapsed": false,
    "pycharm": {
     "name": "#%%\n"
    }
   }
  },
  {
   "cell_type": "code",
   "execution_count": 28,
   "outputs": [
    {
     "data": {
      "text/plain": "[<matplotlib.lines.Line2D at 0x7f52732135b0>]"
     },
     "execution_count": 28,
     "metadata": {},
     "output_type": "execute_result"
    },
    {
     "data": {
      "text/plain": "<Figure size 432x288 with 1 Axes>",
      "image/png": "[encoded data removed]"
     },
     "metadata": {
      "needs_background": "light"
     },
     "output_type": "display_data"
    }
   ],
   "source": [
    "qw.runWalk(20, [50,51])\n",
    "\n",
    "plt.plot(qw.getProbDistVec())"
   ],
   "metadata": {
    "collapsed": false,
    "pycharm": {
     "name": "#%%\n"
    }
   }
  },
  {
   "cell_type": "code",
   "execution_count": null,
   "outputs": [],
   "source": [],
   "metadata": {
    "collapsed": false,
    "pycharm": {
     "name": "#%%\n"
    }
   }
  }
 ],
 "metadata": {
  "kernelspec": {
   "display_name": "Python 3 (ipykernel)",
   "language": "python",
   "name": "python3"
  },
  "language_info": {
   "codemirror_mode": {
    "name": "ipython",
    "version": 3
   },
   "file_extension": ".py",
   "mimetype": "text/x-python",
   "name": "python",
   "nbconvert_exporter": "python",
   "pygments_lexer": "ipython3",
   "version": "3.10.4"
  }
 },
 "nbformat": 4,
 "nbformat_minor": 4
}