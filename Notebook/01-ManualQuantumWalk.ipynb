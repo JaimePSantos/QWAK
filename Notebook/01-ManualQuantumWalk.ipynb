{
 "cells": [
  {
   "cell_type": "code",
   "execution_count": 2,
   "metadata": {
    "tags": []
   },
   "outputs": [],
   "source": [
    "from qwak.State import State\n",
    "from qwak.Operator import Operator\n",
    "from qwak.QuantumWalk import QuantumWalk\n",
    "from qwak.ProbabilityDistribution import ProbabilityDistribution"
   ]
  },
  {
   "cell_type": "code",
   "execution_count": 3,
   "metadata": {},
   "outputs": [],
   "source": [
    "import networkx as nx\n",
    "import numpy as np\n",
    "from matplotlib import pyplot as plt\n",
    "import timeit\n",
    "import sympy as sp\n",
    "from sympy.abc import pi\n",
    "from math import sqrt, ceil, pow"
   ]
  },
  {
   "cell_type": "markdown",
   "metadata": {},
   "source": [
    "Start by creating your initial state:"
   ]
  },
  {
   "cell_type": "code",
   "execution_count": 4,
   "metadata": {},
   "outputs": [],
   "source": [
    "n = 100\n",
    "initNodes = [50]\n",
    "\n",
    "initState = State(n,initNodes)\n",
    "initState.buildState()\n",
    "# print(initState.getStateVec())"
   ]
  },
  {
   "cell_type": "markdown",
   "metadata": {},
   "source": [
    "Note that this creates a state that is the uniform superposition of the nodes in the initNodes list.\n",
    "\n",
    "Alternatively, you can create a state with custom amplitudes."
   ]
  },
  {
   "cell_type": "code",
   "execution_count": 5,
   "metadata": {},
   "outputs": [],
   "source": [
    "initCustomNode = [(50,np.sqrt(2)),(51,np.sqrt(2))]\n",
    "initState2 = State(n,customStateList=initCustomNode)"
   ]
  },
  {
   "cell_type": "code",
   "execution_count": null,
   "metadata": {},
   "outputs": [],
   "source": []
  }
 ],
 "metadata": {
  "kernelspec": {
   "display_name": "Python 3 (ipykernel)",
   "language": "python",
   "name": "python3"
  },
  "language_info": {
   "codemirror_mode": {
    "name": "ipython",
    "version": 3
   },
   "file_extension": ".py",
   "mimetype": "text/x-python",
   "name": "python",
   "nbconvert_exporter": "python",
   "pygments_lexer": "ipython3",
   "version": "3.10.4"
  }
 },
 "nbformat": 4,
 "nbformat_minor": 4
}