{
 "cells": [
  {
   "cell_type": "code",
   "execution_count": 2,
   "id": "a9766034",
   "metadata": {},
   "outputs": [
    {
     "name": "stderr",
     "output_type": "stream",
     "text": [
      "C:\\Users\\jaime\\anaconda3\\envs\\new_env_name\\lib\\site-packages\\cupy\\_environment.py:214: UserWarning: CUDA path could not be detected. Set CUDA_PATH environment variable if CuPy fails to load.\n",
      "  warnings.warn(\n"
     ]
    }
   ],
   "source": [
    "import numpy as np\n",
    "import cupy as cp\n",
    "from scipy.linalg import inv, expm\n",
    "import networkx as nx\n",
    "import time"
   ]
  },
  {
   "cell_type": "code",
   "execution_count": 19,
   "id": "7dca94fd",
   "metadata": {},
   "outputs": [
    {
     "name": "stdout",
     "output_type": "stream",
     "text": [
      "Expm execution time: 0.7580490112304688 seconds\n"
     ]
    }
   ],
   "source": [
    "n = 1000\n",
    "time_val = 5\n",
    "graph = nx.cycle_graph(n)\n",
    "adjm = nx.to_numpy_array(graph)\n",
    "\n",
    "start_time = time.time()\n",
    "operator = expm(-1j * adjm * time_val)\n",
    "end_time = time.time()\n",
    "numpy_time = end_time - start_time\n",
    "print(f\"Expm execution time: {numpy_time} seconds\")"
   ]
  },
  {
   "cell_type": "code",
   "execution_count": 20,
   "id": "7a9c6b56",
   "metadata": {},
   "outputs": [
    {
     "name": "stdout",
     "output_type": "stream",
     "text": [
      "Expm execution time: 0.0030007362365722656 seconds\n"
     ]
    }
   ],
   "source": [
    "n = 1000\n",
    "time_val = 5\n",
    "graph = nx.cycle_graph(n)\n",
    "adjm = cp.array(nx.to_numpy_array(graph))\n",
    "\n",
    "start_time = time.time()\n",
    "operator = cp.expm1(-1j * adjm * time_val)\n",
    "end_time = time.time()\n",
    "cupy_time = end_time - start_time\n",
    "print(f\"Expm execution time: {cupy_time} seconds\")\n"
   ]
  },
  {
   "cell_type": "code",
   "execution_count": 23,
   "id": "d7ab1e39",
   "metadata": {},
   "outputs": [
    {
     "name": "stdout",
     "output_type": "stream",
     "text": [
      "Expm execution time: 6.400704383850098 seconds\n"
     ]
    }
   ],
   "source": [
    "n = 1000\n",
    "time_val = list(range(0,10))\n",
    "graph = nx.cycle_graph(n)\n",
    "adjm = nx.to_numpy_array(graph)\n",
    "\n",
    "start_time = time.time()\n",
    "for t in time_val:\n",
    "    operator = expm(-1j * adjm * t)\n",
    "end_time = time.time()\n",
    "numpy_time = end_time - start_time\n",
    "print(f\"Expm execution time: {numpy_time} seconds\")"
   ]
  },
  {
   "cell_type": "code",
   "execution_count": 4,
   "id": "c8c15410",
   "metadata": {},
   "outputs": [
    {
     "name": "stdout",
     "output_type": "stream",
     "text": [
      "Cupy Expm execution time: 20.758934259414673 seconds\n"
     ]
    }
   ],
   "source": [
    "n = 13000\n",
    "time_val = list(range(0,100))\n",
    "graph = nx.cycle_graph(n)\n",
    "adjm = cp.array(nx.to_numpy_array(graph))\n",
    "\n",
    "start_time = time.time()\n",
    "for t in time_val:\n",
    "    operator = cp.expm1(-1j * adjm * t)\n",
    "#     print(len(operator))\n",
    "end_time = time.time()\n",
    "cupy_time = end_time - start_time\n",
    "print(f\"Cupy Expm execution time: {cupy_time} seconds\")\n"
   ]
  },
  {
   "cell_type": "code",
   "execution_count": null,
   "id": "1a466d14",
   "metadata": {},
   "outputs": [],
   "source": []
  }
 ],
 "metadata": {
  "kernelspec": {
   "display_name": "Python 3 (ipykernel)",
   "language": "python",
   "name": "python3"
  },
  "language_info": {
   "codemirror_mode": {
    "name": "ipython",
    "version": 3
   },
   "file_extension": ".py",
   "mimetype": "text/x-python",
   "name": "python",
   "nbconvert_exporter": "python",
   "pygments_lexer": "ipython3",
   "version": "3.10.13"
  }
 },
 "nbformat": 4,
 "nbformat_minor": 5
}
