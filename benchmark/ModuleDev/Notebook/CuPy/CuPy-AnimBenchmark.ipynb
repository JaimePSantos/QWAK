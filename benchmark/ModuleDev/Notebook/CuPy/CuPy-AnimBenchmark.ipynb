{
 "cells": [
  {
   "cell_type": "code",
   "execution_count": 6,
   "id": "cef7ab2b-9caa-42df-be74-5b4a9d145b16",
   "metadata": {},
   "outputs": [],
   "source": [
    "import numpy as np\n",
    "import cupy as cp\n",
    "from scipy.linalg import inv, expm\n",
    "import networkx as nx\n",
    "import time\n",
    "import cupyx.scipy.linalg as cpx_scipy\n",
    "from cupyx.profiler import benchmark\n",
    "from matplotlib import pyplot as plt\n",
    "import os\n",
    "import json\n",
    "import pickle\n",
    "from tqdm import tqdm\n",
    "import subprocess\n",
    "import random\n",
    "\n",
    "\n",
    "from qwak_cupy.qwak import QWAK as CQWAK\n",
    "from qwak.qwak import QWAK as QWAK\n"
   ]
  },
  {
   "cell_type": "code",
   "execution_count": 7,
   "id": "5f0250dc-54b1-41e3-bd0e-b1ffac4d0260",
   "metadata": {},
   "outputs": [],
   "source": [
    "def load_list_from_file(file_path):\n",
    "    with open(file_path, 'r') as file:\n",
    "        data_str = file.read()\n",
    "    data = [json.loads(line) for line in data_str.splitlines()]\n",
    "    return data\n",
    "\n",
    "def write_list_to_file(file_path, data):\n",
    "    data_str = [str(item) for item in data]  # Convert float values to strings\n",
    "    with open(file_path, 'w') as file:\n",
    "        file.write('\\n'.join(data_str))"
   ]
  },
  {
   "cell_type": "code",
   "execution_count": 2,
   "id": "13462b1d-a9bc-4950-b8d3-0393b7de933d",
   "metadata": {},
   "outputs": [],
   "source": [
    "def runTimedQWAK2(n,pVal,t,seed):\n",
    "    initNodes = [n//2]\n",
    "    graph = nx.erdos_renyi_graph(n,pVal,seed=seed)\n",
    "    start_time = time.time()\n",
    "    qw = QWAK(graph)\n",
    "    qw.runWalk(t, initNodes)\n",
    "    end_time = time.time()\n",
    "    qwak_time = end_time - start_time\n",
    "    final_state = qw.getProbVec()\n",
    "    return final_state, qwak_time\n",
    "\n",
    "def runTimedQWAK2_cupy(n,pVal,t,seed):\n",
    "    start_time = time.time()\n",
    "    initNodes = [n//2]\n",
    "    graph = nx.erdos_renyi_graph(n,pVal,seed=seed) \n",
    "    qw = CQWAK(graph)\n",
    "    qw.runWalk(t, initNodes)\n",
    "    end_time = time.time()\n",
    "    qwak_time = end_time - start_time\n",
    "    final_state = qw.getProbVec()\n",
    "    return final_state, qwak_time"
   ]
  },
  {
   "cell_type": "code",
   "execution_count": 3,
   "id": "39d698c1-a348-43bc-a570-41062b2025ea",
   "metadata": {},
   "outputs": [],
   "source": [
    "def runMultipleSimpleQWAK3(nList, pVal, t, samples):#, seed_list_dict):\n",
    "    qwList = []\n",
    "    tList = []\n",
    "    qwak_time = 0\n",
    "    qwak_time_average = 0\n",
    "\n",
    "    for n in tqdm(nList, desc=f\"NPQWAK {len(nList)}:{nList[0]}->{nList[-1]}\", leave=False):\n",
    "        for sample in tqdm(range(1, samples + 1), desc=f\"Samples for N = {n}\"):\n",
    "            qw, qwak_time = runTimedQWAK2(n, pVal, t, 10)\n",
    "            qwak_time_average += qwak_time\n",
    "\n",
    "        qwak_time_average = qwak_time_average / samples\n",
    "        qwList.append(qw)\n",
    "        tList.append(qwak_time_average)\n",
    "        qwak_time_average = 0\n",
    "\n",
    "    return tList, qwList\n",
    "\n",
    "def runMultipleSimpleQWAK3_cupy(nList, pVal, t, samples):#, seed_list_dict):\n",
    "    qwList = []\n",
    "    tList = []\n",
    "    qwak_time = 0\n",
    "    qwak_time_average = 0\n",
    "\n",
    "    for n in tqdm(nList, desc=f\"CuPyQWAK {len(nList)}:{nList[0]}->{nList[-1]}\", leave=False):\n",
    "        # Access the corresponding seed list for the current `n`\n",
    "        for sample in tqdm(range(1, samples + 1), desc=f\"Samples for N = {n}\"):\n",
    "            qw, qwak_time = runTimedQWAK2_cupy(n, pVal, t, 10)\n",
    "            qwak_time_average += qwak_time\n",
    "\n",
    "        qwak_time_average = qwak_time_average / samples\n",
    "        qwList.append(qw)\n",
    "        tList.append(qwak_time_average)\n",
    "        qwak_time_average = 0\n",
    "\n",
    "    return tList, qwList"
   ]
  },
  {
   "cell_type": "code",
   "execution_count": 4,
   "id": "c1744d57-bbc8-407d-8d6d-f54f82da6718",
   "metadata": {},
   "outputs": [],
   "source": [
    "import os\n",
    "import pickle\n",
    "from tqdm import tqdm\n",
    "\n",
    "def runTimedQWAK2(n,pVal,t,seed):\n",
    "    initNodes = [n//2]\n",
    "    graph = nx.erdos_renyi_graph(n,pVal,seed=seed)\n",
    "    start_time = time.time()\n",
    "    qw = QWAK(graph)\n",
    "    qw.runWalk(t, initNodes)\n",
    "    end_time = time.time()\n",
    "    qwak_time = end_time - start_time\n",
    "    final_state = qw.getProbVec()\n",
    "    return final_state, qwak_time\n",
    "\n",
    "def runTimedQWAK2_cupy(n,pVal,t,seed):\n",
    "    start_time = time.time()\n",
    "    initNodes = [n//2]\n",
    "    graph = nx.erdos_renyi_graph(n,pVal,seed=seed) \n",
    "    qw = CQWAK(graph)\n",
    "    qw.runWalk(t, initNodes)\n",
    "    end_time = time.time()\n",
    "    qwak_time = end_time - start_time\n",
    "    final_state = qw.getProbVec()\n",
    "    return final_state, qwak_time\n",
    "    \n",
    "def runMultipleSimpleQWAK3(nList, pVal, t, samples, base_dir):\n",
    "    qwList = []\n",
    "    tList = []\n",
    "    qwak_time_average = 0\n",
    "\n",
    "    for n in tqdm(nList, desc=f\"NPQWAK {len(nList)}:{nList[0]}->{nList[-1]}\", leave=False):\n",
    "        n_dir = os.path.join(base_dir, f\"N{n}\")\n",
    "        os.makedirs(n_dir, exist_ok=True)\n",
    "\n",
    "        t_file = os.path.join(n_dir, f\"tList_P{pVal}_T{t}.pkl\")\n",
    "        qw_file = os.path.join(n_dir, f\"qwList_P{pVal}_T{t}.pkl\")\n",
    "\n",
    "        if os.path.exists(t_file) and os.path.exists(qw_file):\n",
    "            print(f\"Files for N={n} already exist. Skipping.\")\n",
    "            continue\n",
    "\n",
    "        tList_n, qwList_n = [], []\n",
    "\n",
    "        for sample in tqdm(range(1, samples + 1), desc=f\"Samples for N = {n}\"):\n",
    "            qw, qwak_time = runTimedQWAK2(n, pVal, t, 10)\n",
    "            qwak_time_average += qwak_time\n",
    "\n",
    "            qwList_n.append(qw)\n",
    "            tList_n.append(qwak_time)\n",
    "\n",
    "        # Calculate average qwak time for current `n`\n",
    "        qwak_time_average = sum(tList_n) / len(tList_n)\n",
    "        tList.append(qwak_time_average)\n",
    "        qwList.append(qwList_n)\n",
    "\n",
    "        # Save tList and qwList for current `n`\n",
    "        with open(t_file, 'wb') as f:\n",
    "            pickle.dump(tList, f)\n",
    "\n",
    "        with open(qw_file, 'wb') as f:\n",
    "            pickle.dump(qwList, f)\n",
    "\n",
    "    return tList, qwList\n",
    "\n",
    "def load_runMultipleSimpleQWAK3(nList, pVal, t, base_dir):\n",
    "    qwList = []\n",
    "    tList = []\n",
    "\n",
    "    for n in tqdm(nList, desc=\"Loading NPQWAK data\"):\n",
    "        n_dir = os.path.join(base_dir, f\"N{n}\")\n",
    "        t_file = os.path.join(n_dir, f\"tList_P{pVal}_T{t}.pkl\")\n",
    "        qw_file = os.path.join(n_dir, f\"qwList_P{pVal}_T{t}.pkl\")\n",
    "\n",
    "        if os.path.exists(t_file) and os.path.exists(qw_file):\n",
    "            with open(t_file, 'rb') as f:\n",
    "                tList_n = pickle.load(f)\n",
    "                tList.append(tList_n)\n",
    "\n",
    "            with open(qw_file, 'rb') as f:\n",
    "                qwList_n = pickle.load(f)\n",
    "                qwList.append(qwList_n)\n",
    "        else:\n",
    "            print(f\"Files for N={n} not found. Run runMultipleSimpleQWAK3 first.\")\n",
    "            return None, None\n",
    "\n",
    "    return tList, qwList\n",
    "\n",
    "def runMultipleSimpleQWAK3_cupy(nList, pVal, t, samples, base_dir):\n",
    "    qwList = []\n",
    "    tList = []\n",
    "    qwak_time_average = 0\n",
    "\n",
    "    for n in tqdm(nList, desc=f\"CuPyQWAK {len(nList)}:{nList[0]}->{nList[-1]}\", leave=False):\n",
    "        n_dir = os.path.join(base_dir, f\"N{n}\")\n",
    "        os.makedirs(n_dir, exist_ok=True)\n",
    "\n",
    "        t_file = os.path.join(n_dir, f\"tList_P{pVal}_T{t}_cupy.pkl\")\n",
    "        qw_file = os.path.join(n_dir, f\"qwList_P{pVal}_T{t}_cupy.pkl\")\n",
    "\n",
    "        if os.path.exists(t_file) and os.path.exists(qw_file):\n",
    "            print(f\"Files for N={n} already exist. Skipping.\")\n",
    "            continue\n",
    "\n",
    "        tList_n, qwList_n = [], []\n",
    "\n",
    "        for sample in tqdm(range(1, samples + 1), desc=f\"Samples for N = {n}\"):\n",
    "            qw, qwak_time = runTimedQWAK2_cupy(n, pVal, t, 10)\n",
    "            qwak_time_average += qwak_time\n",
    "\n",
    "            qwList_n.append(qw)\n",
    "            tList_n.append(qwak_time)\n",
    "\n",
    "        # Calculate average qwak time for current `n`\n",
    "        qwak_time_average = sum(tList_n) / len(tList_n)\n",
    "        tList.append(qwak_time_average)\n",
    "        qwList.append(qwList_n)\n",
    "\n",
    "        # Save tList and qwList for current `n`\n",
    "        with open(t_file, 'wb') as f:\n",
    "            pickle.dump(tList, f)\n",
    "\n",
    "        with open(qw_file, 'wb') as f:\n",
    "            pickle.dump(qwList, f)\n",
    "\n",
    "    return tList, qwList\n",
    "\n",
    "def load_runMultipleSimpleQWAK3_cupy(nList, pVal, t, base_dir):\n",
    "    qwList = []\n",
    "    tList = []\n",
    "\n",
    "    for n in tqdm(nList, desc=\"Loading CuPyQWAK data\"):\n",
    "        n_dir = os.path.join(base_dir, f\"N{n}\")\n",
    "        t_file = os.path.join(n_dir, f\"tList_P{pVal}_T{t}_cupy.pkl\")\n",
    "        qw_file = os.path.join(n_dir, f\"qwList_P{pVal}_T{t}_cupy.pkl\")\n",
    "\n",
    "        if os.path.exists(t_file) and os.path.exists(qw_file):\n",
    "            with open(t_file, 'rb') as f:\n",
    "                tList_n = pickle.load(f)\n",
    "                tList.append(tList_n)\n",
    "\n",
    "            with open(qw_file, 'rb') as f:\n",
    "                qwList_n = pickle.load(f)\n",
    "                qwList.append(qwList_n)\n",
    "        else:\n",
    "            print(f\"Files for N={n} not found. Run runMultipleSimpleQWAK3_cupy first.\")\n",
    "            return None, None\n",
    "\n",
    "    return tList, qwList\n"
   ]
  },
  {
   "cell_type": "code",
   "execution_count": 12,
   "id": "8c8d76f8-593e-435b-9898-7dd19bfcb719",
   "metadata": {
    "scrolled": true
   },
   "outputs": [
    {
     "name": "stderr",
     "output_type": "stream",
     "text": [
      "                                                                      \r"
     ]
    },
    {
     "name": "stdout",
     "output_type": "stream",
     "text": [
      "Files for N=3 already exist. Skipping.\n",
      "Files for N=4 already exist. Skipping.\n",
      "Files for N=5 already exist. Skipping.\n",
      "Files for N=6 already exist. Skipping.\n",
      "Files for N=7 already exist. Skipping.\n",
      "Files for N=8 already exist. Skipping.\n",
      "Files for N=9 already exist. Skipping.\n",
      "Files for N=10 already exist. Skipping.\n",
      "Files for N=11 already exist. Skipping.\n",
      "Files for N=12 already exist. Skipping.\n",
      "Files for N=13 already exist. Skipping.\n",
      "Files for N=14 already exist. Skipping.\n",
      "Files for N=15 already exist. Skipping.\n",
      "Files for N=16 already exist. Skipping.\n",
      "Files for N=17 already exist. Skipping.\n",
      "Files for N=18 already exist. Skipping.\n",
      "Files for N=19 already exist. Skipping.\n",
      "Files for N=20 already exist. Skipping.\n",
      "Files for N=21 already exist. Skipping.\n",
      "Files for N=22 already exist. Skipping.\n",
      "Files for N=23 already exist. Skipping.\n",
      "Files for N=24 already exist. Skipping.\n",
      "Files for N=25 already exist. Skipping.\n",
      "Files for N=26 already exist. Skipping.\n",
      "Files for N=27 already exist. Skipping.\n",
      "Files for N=28 already exist. Skipping.\n",
      "Files for N=29 already exist. Skipping.\n",
      "Files for N=30 already exist. Skipping.\n",
      "Files for N=31 already exist. Skipping.\n",
      "Files for N=32 already exist. Skipping.\n",
      "Files for N=33 already exist. Skipping.\n",
      "Files for N=34 already exist. Skipping.\n",
      "Files for N=35 already exist. Skipping.\n",
      "Files for N=36 already exist. Skipping.\n",
      "Files for N=37 already exist. Skipping.\n",
      "Files for N=38 already exist. Skipping.\n",
      "Files for N=39 already exist. Skipping.\n",
      "Files for N=40 already exist. Skipping.\n",
      "Files for N=41 already exist. Skipping.\n",
      "Files for N=42 already exist. Skipping.\n",
      "Files for N=43 already exist. Skipping.\n",
      "Files for N=44 already exist. Skipping.\n",
      "Files for N=45 already exist. Skipping.\n",
      "Files for N=46 already exist. Skipping.\n",
      "Files for N=47 already exist. Skipping.\n",
      "Files for N=48 already exist. Skipping.\n",
      "Files for N=49 already exist. Skipping.\n",
      "Files for N=50 already exist. Skipping.\n",
      "Files for N=51 already exist. Skipping.\n",
      "Files for N=52 already exist. Skipping.\n",
      "Files for N=53 already exist. Skipping.\n",
      "Files for N=54 already exist. Skipping.\n",
      "Files for N=55 already exist. Skipping.\n",
      "Files for N=56 already exist. Skipping.\n",
      "Files for N=57 already exist. Skipping.\n",
      "Files for N=58 already exist. Skipping.\n",
      "Files for N=59 already exist. Skipping.\n",
      "Files for N=60 already exist. Skipping.\n",
      "Files for N=61 already exist. Skipping.\n",
      "Files for N=62 already exist. Skipping.\n",
      "Files for N=63 already exist. Skipping.\n",
      "Files for N=64 already exist. Skipping.\n",
      "Files for N=65 already exist. Skipping.\n",
      "Files for N=66 already exist. Skipping.\n",
      "Files for N=67 already exist. Skipping.\n",
      "Files for N=68 already exist. Skipping.\n",
      "Files for N=69 already exist. Skipping.\n",
      "Files for N=70 already exist. Skipping.\n",
      "Files for N=71 already exist. Skipping.\n",
      "Files for N=72 already exist. Skipping.\n",
      "Files for N=73 already exist. Skipping.\n",
      "Files for N=74 already exist. Skipping.\n",
      "Files for N=75 already exist. Skipping.\n",
      "Files for N=76 already exist. Skipping.\n",
      "Files for N=77 already exist. Skipping.\n",
      "Files for N=78 already exist. Skipping.\n",
      "Files for N=79 already exist. Skipping.\n",
      "Files for N=80 already exist. Skipping.\n",
      "Files for N=81 already exist. Skipping.\n",
      "Files for N=82 already exist. Skipping.\n",
      "Files for N=83 already exist. Skipping.\n",
      "Files for N=84 already exist. Skipping.\n",
      "Files for N=85 already exist. Skipping.\n",
      "Files for N=86 already exist. Skipping.\n",
      "Files for N=87 already exist. Skipping.\n",
      "Files for N=88 already exist. Skipping.\n",
      "Files for N=89 already exist. Skipping.\n",
      "Files for N=90 already exist. Skipping.\n",
      "Files for N=91 already exist. Skipping.\n",
      "Files for N=92 already exist. Skipping.\n",
      "Files for N=93 already exist. Skipping.\n",
      "Files for N=94 already exist. Skipping.\n",
      "Files for N=95 already exist. Skipping.\n",
      "Files for N=96 already exist. Skipping.\n",
      "Files for N=97 already exist. Skipping.\n",
      "Files for N=98 already exist. Skipping.\n",
      "Files for N=99 already exist. Skipping.\n",
      "Files for N=100 already exist. Skipping.\n",
      "Files for N=101 already exist. Skipping.\n",
      "Files for N=102 already exist. Skipping.\n",
      "Files for N=103 already exist. Skipping.\n",
      "Files for N=104 already exist. Skipping.\n",
      "Files for N=105 already exist. Skipping.\n",
      "Files for N=106 already exist. Skipping.\n",
      "Files for N=107 already exist. Skipping.\n",
      "Files for N=108 already exist. Skipping.\n",
      "Files for N=109 already exist. Skipping.\n",
      "Files for N=110 already exist. Skipping.\n",
      "Files for N=111 already exist. Skipping.\n",
      "Files for N=112 already exist. Skipping.\n",
      "Files for N=113 already exist. Skipping.\n",
      "Files for N=114 already exist. Skipping.\n",
      "Files for N=115 already exist. Skipping.\n",
      "Files for N=116 already exist. Skipping.\n",
      "Files for N=117 already exist. Skipping.\n",
      "Files for N=118 already exist. Skipping.\n",
      "Files for N=119 already exist. Skipping.\n",
      "Files for N=120 already exist. Skipping.\n",
      "Files for N=121 already exist. Skipping.\n",
      "Files for N=122 already exist. Skipping.\n",
      "Files for N=123 already exist. Skipping.\n",
      "Files for N=124 already exist. Skipping.\n",
      "Files for N=125 already exist. Skipping.\n",
      "Files for N=126 already exist. Skipping.\n",
      "Files for N=127 already exist. Skipping.\n",
      "Files for N=128 already exist. Skipping.\n",
      "Files for N=129 already exist. Skipping.\n",
      "Files for N=130 already exist. Skipping.\n",
      "Files for N=131 already exist. Skipping.\n",
      "Files for N=132 already exist. Skipping.\n",
      "Files for N=133 already exist. Skipping.\n",
      "Files for N=134 already exist. Skipping.\n",
      "Files for N=135 already exist. Skipping.\n",
      "Files for N=136 already exist. Skipping.\n",
      "Files for N=137 already exist. Skipping.\n",
      "Files for N=138 already exist. Skipping.\n",
      "Files for N=139 already exist. Skipping.\n",
      "Files for N=140 already exist. Skipping.\n",
      "Files for N=141 already exist. Skipping.\n",
      "Files for N=142 already exist. Skipping.\n",
      "Files for N=143 already exist. Skipping.\n",
      "Files for N=144 already exist. Skipping.\n",
      "Files for N=145 already exist. Skipping.\n",
      "Files for N=146 already exist. Skipping.\n",
      "Files for N=147 already exist. Skipping.\n",
      "Files for N=148 already exist. Skipping.\n",
      "Files for N=149 already exist. Skipping.\n",
      "Files for N=150 already exist. Skipping.\n",
      "Files for N=151 already exist. Skipping.\n",
      "Files for N=152 already exist. Skipping.\n",
      "Files for N=153 already exist. Skipping.\n",
      "Files for N=154 already exist. Skipping.\n",
      "Files for N=155 already exist. Skipping.\n",
      "Files for N=156 already exist. Skipping.\n",
      "Files for N=157 already exist. Skipping.\n",
      "Files for N=158 already exist. Skipping.\n",
      "Files for N=159 already exist. Skipping.\n",
      "Files for N=160 already exist. Skipping.\n",
      "Files for N=161 already exist. Skipping.\n",
      "Files for N=162 already exist. Skipping.\n",
      "Files for N=163 already exist. Skipping.\n",
      "Files for N=164 already exist. Skipping.\n",
      "Files for N=165 already exist. Skipping.\n",
      "Files for N=166 already exist. Skipping.\n",
      "Files for N=167 already exist. Skipping.\n",
      "Files for N=168 already exist. Skipping.\n",
      "Files for N=169 already exist. Skipping.\n",
      "Files for N=170 already exist. Skipping.\n",
      "Files for N=171 already exist. Skipping.\n",
      "Files for N=172 already exist. Skipping.\n",
      "Files for N=173 already exist. Skipping.\n",
      "Files for N=174 already exist. Skipping.\n",
      "Files for N=175 already exist. Skipping.\n",
      "Files for N=176 already exist. Skipping.\n",
      "Files for N=177 already exist. Skipping.\n",
      "Files for N=178 already exist. Skipping.\n",
      "Files for N=179 already exist. Skipping.\n",
      "Files for N=180 already exist. Skipping.\n",
      "Files for N=181 already exist. Skipping.\n",
      "Files for N=182 already exist. Skipping.\n",
      "Files for N=183 already exist. Skipping.\n",
      "Files for N=184 already exist. Skipping.\n",
      "Files for N=185 already exist. Skipping.\n",
      "Files for N=186 already exist. Skipping.\n",
      "Files for N=187 already exist. Skipping.\n",
      "Files for N=188 already exist. Skipping.\n",
      "Files for N=189 already exist. Skipping.\n",
      "Files for N=190 already exist. Skipping.\n",
      "Files for N=191 already exist. Skipping.\n",
      "Files for N=192 already exist. Skipping.\n",
      "Files for N=193 already exist. Skipping.\n",
      "Files for N=194 already exist. Skipping.\n",
      "Files for N=195 already exist. Skipping.\n",
      "Files for N=196 already exist. Skipping.\n",
      "Files for N=197 already exist. Skipping.\n",
      "Files for N=198 already exist. Skipping.\n",
      "Files for N=199 already exist. Skipping.\n",
      "Files for N=200 already exist. Skipping.\n",
      "Files for N=201 already exist. Skipping.\n",
      "Files for N=202 already exist. Skipping.\n",
      "Files for N=203 already exist. Skipping.\n",
      "Files for N=204 already exist. Skipping.\n",
      "Files for N=205 already exist. Skipping.\n",
      "Files for N=206 already exist. Skipping.\n",
      "Files for N=207 already exist. Skipping.\n",
      "Files for N=208 already exist. Skipping.\n",
      "Files for N=209 already exist. Skipping.\n",
      "Files for N=210 already exist. Skipping.\n",
      "Files for N=211 already exist. Skipping.\n",
      "Files for N=212 already exist. Skipping.\n",
      "Files for N=213 already exist. Skipping.\n",
      "Files for N=214 already exist. Skipping.\n",
      "Files for N=215 already exist. Skipping.\n",
      "Files for N=216 already exist. Skipping.\n",
      "Files for N=217 already exist. Skipping.\n",
      "Files for N=218 already exist. Skipping.\n",
      "Files for N=219 already exist. Skipping.\n",
      "Files for N=220 already exist. Skipping.\n",
      "Files for N=221 already exist. Skipping.\n",
      "Files for N=222 already exist. Skipping.\n",
      "Files for N=223 already exist. Skipping.\n",
      "Files for N=224 already exist. Skipping.\n",
      "Files for N=225 already exist. Skipping.\n",
      "Files for N=226 already exist. Skipping.\n",
      "Files for N=227 already exist. Skipping.\n",
      "Files for N=228 already exist. Skipping.\n",
      "Files for N=229 already exist. Skipping.\n",
      "Files for N=230 already exist. Skipping.\n",
      "Files for N=231 already exist. Skipping.\n",
      "Files for N=232 already exist. Skipping.\n",
      "Files for N=233 already exist. Skipping.\n",
      "Files for N=234 already exist. Skipping.\n",
      "Files for N=235 already exist. Skipping.\n",
      "Files for N=236 already exist. Skipping.\n",
      "Files for N=237 already exist. Skipping.\n",
      "Files for N=238 already exist. Skipping.\n",
      "Files for N=239 already exist. Skipping.\n",
      "Files for N=240 already exist. Skipping.\n",
      "Files for N=241 already exist. Skipping.\n",
      "Files for N=242 already exist. Skipping.\n",
      "Files for N=243 already exist. Skipping.\n",
      "Files for N=244 already exist. Skipping.\n",
      "Files for N=245 already exist. Skipping.\n",
      "Files for N=246 already exist. Skipping.\n",
      "Files for N=247 already exist. Skipping.\n",
      "Files for N=248 already exist. Skipping.\n",
      "Files for N=249 already exist. Skipping.\n",
      "Files for N=250 already exist. Skipping.\n",
      "Files for N=251 already exist. Skipping.\n",
      "Files for N=252 already exist. Skipping.\n",
      "Files for N=253 already exist. Skipping.\n",
      "Files for N=254 already exist. Skipping.\n",
      "Files for N=255 already exist. Skipping.\n",
      "Files for N=256 already exist. Skipping.\n",
      "Files for N=257 already exist. Skipping.\n",
      "Files for N=258 already exist. Skipping.\n",
      "Files for N=259 already exist. Skipping.\n",
      "Files for N=260 already exist. Skipping.\n",
      "Files for N=261 already exist. Skipping.\n",
      "Files for N=262 already exist. Skipping.\n",
      "Files for N=263 already exist. Skipping.\n",
      "Files for N=264 already exist. Skipping.\n",
      "Files for N=265 already exist. Skipping.\n",
      "Files for N=266 already exist. Skipping.\n",
      "Files for N=267 already exist. Skipping.\n",
      "Files for N=268 already exist. Skipping.\n",
      "Files for N=269 already exist. Skipping.\n",
      "Files for N=270 already exist. Skipping.\n",
      "Files for N=271 already exist. Skipping.\n",
      "Files for N=272 already exist. Skipping.\n",
      "Files for N=273 already exist. Skipping.\n",
      "Files for N=274 already exist. Skipping.\n",
      "Files for N=275 already exist. Skipping.\n",
      "Files for N=276 already exist. Skipping.\n",
      "Files for N=277 already exist. Skipping.\n",
      "Files for N=278 already exist. Skipping.\n",
      "Files for N=279 already exist. Skipping.\n",
      "Files for N=280 already exist. Skipping.\n",
      "Files for N=281 already exist. Skipping.\n",
      "Files for N=282 already exist. Skipping.\n",
      "Files for N=283 already exist. Skipping.\n",
      "Files for N=284 already exist. Skipping.\n",
      "Files for N=285 already exist. Skipping.\n",
      "Files for N=286 already exist. Skipping.\n",
      "Files for N=287 already exist. Skipping.\n",
      "Files for N=288 already exist. Skipping.\n",
      "Files for N=289 already exist. Skipping.\n",
      "Files for N=290 already exist. Skipping.\n",
      "Files for N=291 already exist. Skipping.\n",
      "Files for N=292 already exist. Skipping.\n",
      "Files for N=293 already exist. Skipping.\n",
      "Files for N=294 already exist. Skipping.\n",
      "Files for N=295 already exist. Skipping.\n",
      "Files for N=296 already exist. Skipping.\n",
      "Files for N=297 already exist. Skipping.\n",
      "Files for N=298 already exist. Skipping.\n",
      "Files for N=299 already exist. Skipping.\n",
      "Files for N=300 already exist. Skipping.\n",
      "Files for N=301 already exist. Skipping.\n",
      "Files for N=302 already exist. Skipping.\n",
      "Files for N=303 already exist. Skipping.\n",
      "Files for N=304 already exist. Skipping.\n",
      "Files for N=305 already exist. Skipping.\n",
      "Files for N=306 already exist. Skipping.\n",
      "Files for N=307 already exist. Skipping.\n",
      "Files for N=308 already exist. Skipping.\n",
      "Files for N=309 already exist. Skipping.\n",
      "Files for N=310 already exist. Skipping.\n",
      "Files for N=311 already exist. Skipping.\n",
      "Files for N=312 already exist. Skipping.\n",
      "Files for N=313 already exist. Skipping.\n",
      "Files for N=314 already exist. Skipping.\n",
      "Files for N=315 already exist. Skipping.\n",
      "Files for N=316 already exist. Skipping.\n",
      "Files for N=317 already exist. Skipping.\n",
      "Files for N=318 already exist. Skipping.\n",
      "Files for N=319 already exist. Skipping.\n",
      "Files for N=320 already exist. Skipping.\n",
      "Files for N=321 already exist. Skipping.\n",
      "Files for N=322 already exist. Skipping.\n",
      "Files for N=323 already exist. Skipping.\n",
      "Files for N=324 already exist. Skipping.\n",
      "Files for N=325 already exist. Skipping.\n",
      "Files for N=326 already exist. Skipping.\n",
      "Files for N=327 already exist. Skipping.\n",
      "Files for N=328 already exist. Skipping.\n",
      "Files for N=329 already exist. Skipping.\n",
      "Files for N=330 already exist. Skipping.\n",
      "Files for N=331 already exist. Skipping.\n",
      "Files for N=332 already exist. Skipping.\n",
      "Files for N=333 already exist. Skipping.\n",
      "Files for N=334 already exist. Skipping.\n",
      "Files for N=335 already exist. Skipping.\n",
      "Files for N=336 already exist. Skipping.\n",
      "Files for N=337 already exist. Skipping.\n",
      "Files for N=338 already exist. Skipping.\n",
      "Files for N=339 already exist. Skipping.\n",
      "Files for N=340 already exist. Skipping.\n",
      "Files for N=341 already exist. Skipping.\n",
      "Files for N=342 already exist. Skipping.\n",
      "Files for N=343 already exist. Skipping.\n",
      "Files for N=344 already exist. Skipping.\n",
      "Files for N=345 already exist. Skipping.\n",
      "Files for N=346 already exist. Skipping.\n",
      "Files for N=347 already exist. Skipping.\n",
      "Files for N=348 already exist. Skipping.\n",
      "Files for N=349 already exist. Skipping.\n",
      "Files for N=350 already exist. Skipping.\n",
      "Files for N=351 already exist. Skipping.\n",
      "Files for N=352 already exist. Skipping.\n",
      "Files for N=353 already exist. Skipping.\n",
      "Files for N=354 already exist. Skipping.\n",
      "Files for N=355 already exist. Skipping.\n",
      "Files for N=356 already exist. Skipping.\n",
      "Files for N=357 already exist. Skipping.\n",
      "Files for N=358 already exist. Skipping.\n",
      "Files for N=359 already exist. Skipping.\n",
      "Files for N=360 already exist. Skipping.\n",
      "Files for N=361 already exist. Skipping.\n",
      "Files for N=362 already exist. Skipping.\n",
      "Files for N=363 already exist. Skipping.\n",
      "Files for N=364 already exist. Skipping.\n",
      "Files for N=365 already exist. Skipping.\n",
      "Files for N=366 already exist. Skipping.\n",
      "Files for N=367 already exist. Skipping.\n",
      "Files for N=368 already exist. Skipping.\n",
      "Files for N=369 already exist. Skipping.\n",
      "Files for N=370 already exist. Skipping.\n",
      "Files for N=371 already exist. Skipping.\n",
      "Files for N=372 already exist. Skipping.\n",
      "Files for N=373 already exist. Skipping.\n",
      "Files for N=374 already exist. Skipping.\n",
      "Files for N=375 already exist. Skipping.\n",
      "Files for N=376 already exist. Skipping.\n",
      "Files for N=377 already exist. Skipping.\n",
      "Files for N=378 already exist. Skipping.\n",
      "Files for N=379 already exist. Skipping.\n",
      "Files for N=380 already exist. Skipping.\n",
      "Files for N=381 already exist. Skipping.\n",
      "Files for N=382 already exist. Skipping.\n",
      "Files for N=383 already exist. Skipping.\n",
      "Files for N=384 already exist. Skipping.\n",
      "Files for N=385 already exist. Skipping.\n",
      "Files for N=386 already exist. Skipping.\n",
      "Files for N=387 already exist. Skipping.\n",
      "Files for N=388 already exist. Skipping.\n",
      "Files for N=389 already exist. Skipping.\n",
      "Files for N=390 already exist. Skipping.\n",
      "Files for N=391 already exist. Skipping.\n",
      "Files for N=392 already exist. Skipping.\n",
      "Files for N=393 already exist. Skipping.\n",
      "Files for N=394 already exist. Skipping.\n",
      "Files for N=395 already exist. Skipping.\n",
      "Files for N=396 already exist. Skipping.\n",
      "Files for N=397 already exist. Skipping.\n",
      "Files for N=398 already exist. Skipping.\n",
      "Files for N=399 already exist. Skipping.\n",
      "Files for N=400 already exist. Skipping.\n",
      "Files for N=401 already exist. Skipping.\n",
      "Files for N=402 already exist. Skipping.\n",
      "Files for N=403 already exist. Skipping.\n",
      "Files for N=404 already exist. Skipping.\n",
      "Files for N=405 already exist. Skipping.\n",
      "Files for N=406 already exist. Skipping.\n",
      "Files for N=407 already exist. Skipping.\n",
      "Files for N=408 already exist. Skipping.\n",
      "Files for N=409 already exist. Skipping.\n",
      "Files for N=410 already exist. Skipping.\n",
      "Files for N=411 already exist. Skipping.\n",
      "Files for N=412 already exist. Skipping.\n",
      "Files for N=413 already exist. Skipping.\n",
      "Files for N=414 already exist. Skipping.\n",
      "Files for N=415 already exist. Skipping.\n",
      "Files for N=416 already exist. Skipping.\n",
      "Files for N=417 already exist. Skipping.\n",
      "Files for N=418 already exist. Skipping.\n",
      "Files for N=419 already exist. Skipping.\n",
      "Files for N=420 already exist. Skipping.\n",
      "Files for N=421 already exist. Skipping.\n",
      "Files for N=422 already exist. Skipping.\n",
      "Files for N=423 already exist. Skipping.\n",
      "Files for N=424 already exist. Skipping.\n",
      "Files for N=425 already exist. Skipping.\n",
      "Files for N=426 already exist. Skipping.\n",
      "Files for N=427 already exist. Skipping.\n",
      "Files for N=428 already exist. Skipping.\n",
      "Files for N=429 already exist. Skipping.\n",
      "Files for N=430 already exist. Skipping.\n",
      "Files for N=431 already exist. Skipping.\n",
      "Files for N=432 already exist. Skipping.\n",
      "Files for N=433 already exist. Skipping.\n",
      "Files for N=434 already exist. Skipping.\n",
      "Files for N=435 already exist. Skipping.\n",
      "Files for N=436 already exist. Skipping.\n",
      "Files for N=437 already exist. Skipping.\n",
      "Files for N=438 already exist. Skipping.\n",
      "Files for N=439 already exist. Skipping.\n",
      "Files for N=440 already exist. Skipping.\n",
      "Files for N=441 already exist. Skipping.\n",
      "Files for N=442 already exist. Skipping.\n",
      "Files for N=443 already exist. Skipping.\n",
      "Files for N=444 already exist. Skipping.\n",
      "Files for N=445 already exist. Skipping.\n",
      "Files for N=446 already exist. Skipping.\n",
      "Files for N=447 already exist. Skipping.\n",
      "Files for N=448 already exist. Skipping.\n",
      "Files for N=449 already exist. Skipping.\n",
      "Files for N=450 already exist. Skipping.\n",
      "Files for N=451 already exist. Skipping.\n",
      "Files for N=452 already exist. Skipping.\n",
      "Files for N=453 already exist. Skipping.\n",
      "Files for N=454 already exist. Skipping.\n",
      "Files for N=455 already exist. Skipping.\n",
      "Files for N=456 already exist. Skipping.\n",
      "Files for N=457 already exist. Skipping.\n",
      "Files for N=458 already exist. Skipping.\n",
      "Files for N=459 already exist. Skipping.\n",
      "Files for N=460 already exist. Skipping.\n",
      "Files for N=461 already exist. Skipping.\n",
      "Files for N=462 already exist. Skipping.\n",
      "Files for N=463 already exist. Skipping.\n",
      "Files for N=464 already exist. Skipping.\n",
      "Files for N=465 already exist. Skipping.\n",
      "Files for N=466 already exist. Skipping.\n",
      "Files for N=467 already exist. Skipping.\n",
      "Files for N=468 already exist. Skipping.\n",
      "Files for N=469 already exist. Skipping.\n",
      "Files for N=470 already exist. Skipping.\n",
      "Files for N=471 already exist. Skipping.\n",
      "Files for N=472 already exist. Skipping.\n",
      "Files for N=473 already exist. Skipping.\n",
      "Files for N=474 already exist. Skipping.\n",
      "Files for N=475 already exist. Skipping.\n",
      "Files for N=476 already exist. Skipping.\n",
      "Files for N=477 already exist. Skipping.\n",
      "Files for N=478 already exist. Skipping.\n",
      "Files for N=479 already exist. Skipping.\n",
      "Files for N=480 already exist. Skipping.\n",
      "Files for N=481 already exist. Skipping.\n",
      "Files for N=482 already exist. Skipping.\n",
      "Files for N=483 already exist. Skipping.\n",
      "Files for N=484 already exist. Skipping.\n",
      "Files for N=485 already exist. Skipping.\n",
      "Files for N=486 already exist. Skipping.\n",
      "Files for N=487 already exist. Skipping.\n",
      "Files for N=488 already exist. Skipping.\n",
      "Files for N=489 already exist. Skipping.\n",
      "Files for N=490 already exist. Skipping.\n",
      "Files for N=491 already exist. Skipping.\n",
      "Files for N=492 already exist. Skipping.\n",
      "Files for N=493 already exist. Skipping.\n",
      "Files for N=494 already exist. Skipping.\n",
      "Files for N=495 already exist. Skipping.\n",
      "Files for N=496 already exist. Skipping.\n",
      "Files for N=497 already exist. Skipping.\n",
      "Files for N=498 already exist. Skipping.\n",
      "Files for N=499 already exist. Skipping.\n",
      "Standard QWAK results computed and saved.\n"
     ]
    },
    {
     "name": "stderr",
     "output_type": "stream",
     "text": [
      "CuPyQWAK 497:3->499:   0%|          | 0/497 [00:00<?, ?it/s]"
     ]
    },
    {
     "name": "stdout",
     "output_type": "stream",
     "text": [
      "Files for N=3 already exist. Skipping.\n",
      "Files for N=4 already exist. Skipping.\n",
      "Files for N=5 already exist. Skipping.\n",
      "Files for N=6 already exist. Skipping.\n",
      "Files for N=7 already exist. Skipping.\n",
      "Files for N=8 already exist. Skipping.\n",
      "Files for N=9 already exist. Skipping.\n",
      "Files for N=10 already exist. Skipping.\n",
      "Files for N=11 already exist. Skipping.\n",
      "Files for N=12 already exist. Skipping.\n",
      "Files for N=13 already exist. Skipping.\n",
      "Files for N=14 already exist. Skipping.\n",
      "Files for N=15 already exist. Skipping.\n",
      "Files for N=16 already exist. Skipping.\n",
      "Files for N=17 already exist. Skipping.\n",
      "Files for N=18 already exist. Skipping.\n",
      "Files for N=19 already exist. Skipping.\n",
      "Files for N=20 already exist. Skipping.\n",
      "Files for N=21 already exist. Skipping.\n",
      "Files for N=22 already exist. Skipping.\n",
      "Files for N=23 already exist. Skipping.\n",
      "Files for N=24 already exist. Skipping.\n",
      "Files for N=25 already exist. Skipping.\n",
      "Files for N=26 already exist. Skipping.\n",
      "Files for N=27 already exist. Skipping.\n",
      "Files for N=28 already exist. Skipping.\n",
      "Files for N=29 already exist. Skipping.\n",
      "Files for N=30 already exist. Skipping.\n",
      "Files for N=31 already exist. Skipping.\n",
      "Files for N=32 already exist. Skipping.\n",
      "Files for N=33 already exist. Skipping.\n",
      "Files for N=34 already exist. Skipping.\n",
      "Files for N=35 already exist. Skipping.\n",
      "Files for N=36 already exist. Skipping.\n",
      "Files for N=37 already exist. Skipping.\n",
      "Files for N=38 already exist. Skipping.\n",
      "Files for N=39 already exist. Skipping.\n",
      "Files for N=40 already exist. Skipping.\n",
      "Files for N=41 already exist. Skipping.\n",
      "Files for N=42 already exist. Skipping.\n",
      "Files for N=43 already exist. Skipping.\n",
      "Files for N=44 already exist. Skipping.\n",
      "Files for N=45 already exist. Skipping.\n",
      "Files for N=46 already exist. Skipping.\n",
      "Files for N=47 already exist. Skipping.\n",
      "Files for N=48 already exist. Skipping.\n",
      "Files for N=49 already exist. Skipping.\n",
      "Files for N=50 already exist. Skipping.\n",
      "Files for N=51 already exist. Skipping.\n",
      "Files for N=52 already exist. Skipping.\n",
      "Files for N=53 already exist. Skipping.\n",
      "Files for N=54 already exist. Skipping.\n",
      "Files for N=55 already exist. Skipping.\n",
      "Files for N=56 already exist. Skipping.\n",
      "Files for N=57 already exist. Skipping.\n",
      "Files for N=58 already exist. Skipping.\n",
      "Files for N=59 already exist. Skipping.\n",
      "Files for N=60 already exist. Skipping.\n",
      "Files for N=61 already exist. Skipping.\n",
      "Files for N=62 already exist. Skipping.\n",
      "Files for N=63 already exist. Skipping.\n",
      "Files for N=64 already exist. Skipping.\n",
      "Files for N=65 already exist. Skipping.\n",
      "Files for N=66 already exist. Skipping.\n",
      "Files for N=67 already exist. Skipping.\n",
      "Files for N=68 already exist. Skipping.\n",
      "Files for N=69 already exist. Skipping.\n",
      "Files for N=70 already exist. Skipping.\n",
      "Files for N=71 already exist. Skipping.\n",
      "Files for N=72 already exist. Skipping.\n",
      "Files for N=73 already exist. Skipping.\n",
      "Files for N=74 already exist. Skipping.\n",
      "Files for N=75 already exist. Skipping.\n",
      "Files for N=76 already exist. Skipping.\n",
      "Files for N=77 already exist. Skipping.\n",
      "Files for N=78 already exist. Skipping.\n",
      "Files for N=79 already exist. Skipping.\n",
      "Files for N=80 already exist. Skipping.\n",
      "Files for N=81 already exist. Skipping.\n",
      "Files for N=82 already exist. Skipping.\n",
      "Files for N=83 already exist. Skipping.\n",
      "Files for N=84 already exist. Skipping.\n",
      "Files for N=85 already exist. Skipping.\n",
      "Files for N=86 already exist. Skipping.\n",
      "Files for N=87 already exist. Skipping.\n",
      "Files for N=88 already exist. Skipping.\n",
      "Files for N=89 already exist. Skipping.\n",
      "Files for N=90 already exist. Skipping.\n",
      "Files for N=91 already exist. Skipping.\n",
      "Files for N=92 already exist. Skipping.\n",
      "Files for N=93 already exist. Skipping.\n",
      "Files for N=94 already exist. Skipping.\n",
      "Files for N=95 already exist. Skipping.\n",
      "Files for N=96 already exist. Skipping.\n",
      "Files for N=97 already exist. Skipping.\n",
      "Files for N=98 already exist. Skipping.\n",
      "Files for N=99 already exist. Skipping.\n",
      "Files for N=100 already exist. Skipping.\n",
      "Files for N=101 already exist. Skipping.\n",
      "Files for N=102 already exist. Skipping.\n",
      "Files for N=103 already exist. Skipping.\n",
      "Files for N=104 already exist. Skipping.\n",
      "Files for N=105 already exist. Skipping.\n",
      "Files for N=106 already exist. Skipping.\n",
      "Files for N=107 already exist. Skipping.\n",
      "Files for N=108 already exist. Skipping.\n",
      "Files for N=109 already exist. Skipping.\n",
      "Files for N=110 already exist. Skipping.\n",
      "Files for N=111 already exist. Skipping.\n",
      "Files for N=112 already exist. Skipping.\n",
      "Files for N=113 already exist. Skipping.\n",
      "Files for N=114 already exist. Skipping.\n",
      "Files for N=115 already exist. Skipping.\n",
      "Files for N=116 already exist. Skipping.\n",
      "Files for N=117 already exist. Skipping.\n",
      "Files for N=118 already exist. Skipping.\n",
      "Files for N=119 already exist. Skipping.\n",
      "Files for N=120 already exist. Skipping.\n",
      "Files for N=121 already exist. Skipping.\n",
      "Files for N=122 already exist. Skipping.\n",
      "Files for N=123 already exist. Skipping.\n",
      "Files for N=124 already exist. Skipping.\n",
      "Files for N=125 already exist. Skipping.\n",
      "Files for N=126 already exist. Skipping.\n",
      "Files for N=127 already exist. Skipping.\n",
      "Files for N=128 already exist. Skipping.\n",
      "Files for N=129 already exist. Skipping.\n",
      "Files for N=130 already exist. Skipping.\n",
      "Files for N=131 already exist. Skipping.\n",
      "Files for N=132 already exist. Skipping.\n",
      "Files for N=133 already exist. Skipping.\n",
      "Files for N=134 already exist. Skipping.\n",
      "Files for N=135 already exist. Skipping.\n",
      "Files for N=136 already exist. Skipping.\n",
      "Files for N=137 already exist. Skipping.\n",
      "Files for N=138 already exist. Skipping.\n",
      "Files for N=139 already exist. Skipping.\n",
      "Files for N=140 already exist. Skipping.\n",
      "Files for N=141 already exist. Skipping.\n",
      "Files for N=142 already exist. Skipping.\n",
      "Files for N=143 already exist. Skipping.\n",
      "Files for N=144 already exist. Skipping.\n",
      "Files for N=145 already exist. Skipping.\n",
      "Files for N=146 already exist. Skipping.\n",
      "Files for N=147 already exist. Skipping.\n",
      "Files for N=148 already exist. Skipping.\n",
      "Files for N=149 already exist. Skipping.\n",
      "Files for N=150 already exist. Skipping.\n",
      "Files for N=151 already exist. Skipping.\n",
      "Files for N=152 already exist. Skipping.\n",
      "Files for N=153 already exist. Skipping.\n",
      "Files for N=154 already exist. Skipping.\n",
      "Files for N=155 already exist. Skipping.\n",
      "Files for N=156 already exist. Skipping.\n",
      "Files for N=157 already exist. Skipping.\n",
      "Files for N=158 already exist. Skipping.\n",
      "Files for N=159 already exist. Skipping.\n",
      "Files for N=160 already exist. Skipping.\n",
      "Files for N=161 already exist. Skipping.\n",
      "Files for N=162 already exist. Skipping.\n",
      "Files for N=163 already exist. Skipping.\n",
      "Files for N=164 already exist. Skipping.\n",
      "Files for N=165 already exist. Skipping.\n",
      "Files for N=166 already exist. Skipping.\n",
      "Files for N=167 already exist. Skipping.\n",
      "Files for N=168 already exist. Skipping.\n",
      "Files for N=169 already exist. Skipping.\n",
      "Files for N=170 already exist. Skipping.\n",
      "Files for N=171 already exist. Skipping.\n",
      "Files for N=172 already exist. Skipping.\n",
      "Files for N=173 already exist. Skipping.\n",
      "Files for N=174 already exist. Skipping.\n",
      "Files for N=175 already exist. Skipping.\n",
      "Files for N=176 already exist. Skipping.\n",
      "Files for N=177 already exist. Skipping.\n",
      "Files for N=178 already exist. Skipping.\n",
      "Files for N=179 already exist. Skipping.\n",
      "Files for N=180 already exist. Skipping.\n",
      "Files for N=181 already exist. Skipping.\n",
      "Files for N=182 already exist. Skipping.\n",
      "Files for N=183 already exist. Skipping.\n",
      "Files for N=184 already exist. Skipping.\n",
      "Files for N=185 already exist. Skipping.\n",
      "Files for N=186 already exist. Skipping.\n",
      "Files for N=187 already exist. Skipping.\n",
      "Files for N=188 already exist. Skipping.\n",
      "Files for N=189 already exist. Skipping.\n",
      "Files for N=190 already exist. Skipping.\n",
      "Files for N=191 already exist. Skipping.\n",
      "Files for N=192 already exist. Skipping.\n",
      "Files for N=193 already exist. Skipping.\n",
      "Files for N=194 already exist. Skipping.\n",
      "Files for N=195 already exist. Skipping.\n",
      "Files for N=196 already exist. Skipping.\n",
      "Files for N=197 already exist. Skipping.\n",
      "Files for N=198 already exist. Skipping.\n",
      "Files for N=199 already exist. Skipping.\n",
      "Files for N=200 already exist. Skipping.\n",
      "Files for N=201 already exist. Skipping.\n",
      "Files for N=202 already exist. Skipping.\n",
      "Files for N=203 already exist. Skipping.\n",
      "Files for N=204 already exist. Skipping.\n",
      "Files for N=205 already exist. Skipping.\n",
      "Files for N=206 already exist. Skipping.\n",
      "Files for N=207 already exist. Skipping.\n",
      "Files for N=208 already exist. Skipping.\n",
      "Files for N=209 already exist. Skipping.\n",
      "Files for N=210 already exist. Skipping.\n",
      "Files for N=211 already exist. Skipping.\n",
      "Files for N=212 already exist. Skipping.\n",
      "Files for N=213 already exist. Skipping.\n",
      "Files for N=214 already exist. Skipping.\n",
      "Files for N=215 already exist. Skipping.\n",
      "Files for N=216 already exist. Skipping.\n",
      "Files for N=217 already exist. Skipping.\n",
      "Files for N=218 already exist. Skipping.\n",
      "Files for N=219 already exist. Skipping.\n",
      "Files for N=220 already exist. Skipping.\n",
      "Files for N=221 already exist. Skipping.\n",
      "Files for N=222 already exist. Skipping.\n",
      "Files for N=223 already exist. Skipping.\n",
      "Files for N=224 already exist. Skipping.\n",
      "Files for N=225 already exist. Skipping.\n",
      "Files for N=226 already exist. Skipping.\n",
      "Files for N=227 already exist. Skipping.\n",
      "Files for N=228 already exist. Skipping.\n",
      "Files for N=229 already exist. Skipping.\n",
      "Files for N=230 already exist. Skipping.\n",
      "Files for N=231 already exist. Skipping.\n",
      "Files for N=232 already exist. Skipping.\n",
      "Files for N=233 already exist. Skipping.\n",
      "Files for N=234 already exist. Skipping.\n",
      "Files for N=235 already exist. Skipping.\n",
      "Files for N=236 already exist. Skipping.\n",
      "Files for N=237 already exist. Skipping.\n",
      "Files for N=238 already exist. Skipping.\n",
      "Files for N=239 already exist. Skipping.\n",
      "Files for N=240 already exist. Skipping.\n",
      "Files for N=241 already exist. Skipping.\n",
      "Files for N=242 already exist. Skipping.\n",
      "Files for N=243 already exist. Skipping.\n",
      "Files for N=244 already exist. Skipping.\n",
      "Files for N=245 already exist. Skipping.\n",
      "Files for N=246 already exist. Skipping.\n",
      "Files for N=247 already exist. Skipping.\n",
      "Files for N=248 already exist. Skipping.\n",
      "Files for N=249 already exist. Skipping.\n",
      "Files for N=250 already exist. Skipping.\n",
      "Files for N=251 already exist. Skipping.\n",
      "Files for N=252 already exist. Skipping.\n",
      "Files for N=253 already exist. Skipping.\n",
      "Files for N=254 already exist. Skipping.\n",
      "Files for N=255 already exist. Skipping.\n",
      "Files for N=256 already exist. Skipping.\n",
      "Files for N=257 already exist. Skipping.\n",
      "Files for N=258 already exist. Skipping.\n",
      "Files for N=259 already exist. Skipping.\n",
      "Files for N=260 already exist. Skipping.\n",
      "Files for N=261 already exist. Skipping.\n",
      "Files for N=262 already exist. Skipping.\n",
      "Files for N=263 already exist. Skipping.\n",
      "Files for N=264 already exist. Skipping.\n",
      "Files for N=265 already exist. Skipping.\n",
      "Files for N=266 already exist. Skipping.\n",
      "Files for N=267 already exist. Skipping.\n",
      "Files for N=268 already exist. Skipping.\n",
      "Files for N=269 already exist. Skipping.\n",
      "Files for N=270 already exist. Skipping.\n",
      "Files for N=271 already exist. Skipping.\n",
      "Files for N=272 already exist. Skipping.\n",
      "Files for N=273 already exist. Skipping.\n",
      "Files for N=274 already exist. Skipping.\n",
      "Files for N=275 already exist. Skipping.\n",
      "Files for N=276 already exist. Skipping.\n",
      "Files for N=277 already exist. Skipping.\n",
      "Files for N=278 already exist. Skipping.\n",
      "Files for N=279 already exist. Skipping.\n",
      "Files for N=280 already exist. Skipping.\n",
      "Files for N=281 already exist. Skipping.\n",
      "Files for N=282 already exist. Skipping.\n",
      "Files for N=283 already exist. Skipping.\n",
      "Files for N=284 already exist. Skipping.\n",
      "Files for N=285 already exist. Skipping.\n",
      "Files for N=286 already exist. Skipping.\n",
      "Files for N=287 already exist. Skipping.\n",
      "Files for N=288 already exist. Skipping.\n",
      "Files for N=289 already exist. Skipping.\n",
      "Files for N=290 already exist. Skipping.\n",
      "Files for N=291 already exist. Skipping.\n",
      "Files for N=292 already exist. Skipping.\n",
      "Files for N=293 already exist. Skipping.\n",
      "Files for N=294 already exist. Skipping.\n",
      "Files for N=295 already exist. Skipping.\n",
      "Files for N=296 already exist. Skipping.\n",
      "Files for N=297 already exist. Skipping.\n",
      "Files for N=298 already exist. Skipping.\n",
      "Files for N=299 already exist. Skipping.\n",
      "Files for N=300 already exist. Skipping.\n",
      "Files for N=301 already exist. Skipping.\n",
      "Files for N=302 already exist. Skipping.\n",
      "Files for N=303 already exist. Skipping.\n",
      "Files for N=304 already exist. Skipping.\n",
      "Files for N=305 already exist. Skipping.\n",
      "Files for N=306 already exist. Skipping.\n",
      "Files for N=307 already exist. Skipping.\n",
      "Files for N=308 already exist. Skipping.\n",
      "Files for N=309 already exist. Skipping.\n",
      "Files for N=310 already exist. Skipping.\n",
      "Files for N=311 already exist. Skipping.\n",
      "Files for N=312 already exist. Skipping.\n",
      "Files for N=313 already exist. Skipping.\n",
      "Files for N=314 already exist. Skipping.\n",
      "Files for N=315 already exist. Skipping.\n",
      "Files for N=316 already exist. Skipping.\n",
      "Files for N=317 already exist. Skipping.\n",
      "Files for N=318 already exist. Skipping.\n",
      "Files for N=319 already exist. Skipping.\n",
      "Files for N=320 already exist. Skipping.\n",
      "Files for N=321 already exist. Skipping.\n",
      "Files for N=322 already exist. Skipping.\n",
      "Files for N=323 already exist. Skipping.\n",
      "Files for N=324 already exist. Skipping.\n",
      "Files for N=325 already exist. Skipping.\n",
      "Files for N=326 already exist. Skipping.\n",
      "Files for N=327 already exist. Skipping.\n",
      "Files for N=328 already exist. Skipping.\n",
      "Files for N=329 already exist. Skipping.\n",
      "Files for N=330 already exist. Skipping.\n",
      "Files for N=331 already exist. Skipping.\n",
      "Files for N=332 already exist. Skipping.\n",
      "Files for N=333 already exist. Skipping.\n",
      "Files for N=334 already exist. Skipping.\n",
      "Files for N=335 already exist. Skipping.\n",
      "Files for N=336 already exist. Skipping.\n",
      "Files for N=337 already exist. Skipping.\n",
      "Files for N=338 already exist. Skipping.\n",
      "Files for N=339 already exist. Skipping.\n",
      "Files for N=340 already exist. Skipping.\n",
      "Files for N=341 already exist. Skipping.\n",
      "Files for N=342 already exist. Skipping.\n",
      "Files for N=343 already exist. Skipping.\n",
      "Files for N=344 already exist. Skipping.\n",
      "Files for N=345 already exist. Skipping.\n",
      "Files for N=346 already exist. Skipping.\n",
      "Files for N=347 already exist. Skipping.\n",
      "Files for N=348 already exist. Skipping.\n",
      "Files for N=349 already exist. Skipping.\n",
      "Files for N=350 already exist. Skipping.\n",
      "Files for N=351 already exist. Skipping.\n",
      "Files for N=352 already exist. Skipping.\n",
      "Files for N=353 already exist. Skipping.\n",
      "Files for N=354 already exist. Skipping.\n",
      "Files for N=355 already exist. Skipping.\n",
      "Files for N=356 already exist. Skipping.\n",
      "Files for N=357 already exist. Skipping.\n",
      "Files for N=358 already exist. Skipping.\n",
      "Files for N=359 already exist. Skipping.\n",
      "Files for N=360 already exist. Skipping.\n",
      "Files for N=361 already exist. Skipping.\n"
     ]
    },
    {
     "name": "stderr",
     "output_type": "stream",
     "text": [
      "                                                                        "
     ]
    },
    {
     "name": "stdout",
     "output_type": "stream",
     "text": [
      "Files for N=362 already exist. Skipping.\n",
      "Files for N=363 already exist. Skipping.\n",
      "Files for N=364 already exist. Skipping.\n",
      "Files for N=365 already exist. Skipping.\n",
      "Files for N=366 already exist. Skipping.\n",
      "Files for N=367 already exist. Skipping.\n",
      "Files for N=368 already exist. Skipping.\n",
      "Files for N=369 already exist. Skipping.\n",
      "Files for N=370 already exist. Skipping.\n",
      "Files for N=371 already exist. Skipping.\n",
      "Files for N=372 already exist. Skipping.\n",
      "Files for N=373 already exist. Skipping.\n",
      "Files for N=374 already exist. Skipping.\n",
      "Files for N=375 already exist. Skipping.\n",
      "Files for N=376 already exist. Skipping.\n",
      "Files for N=377 already exist. Skipping.\n",
      "Files for N=378 already exist. Skipping.\n",
      "Files for N=379 already exist. Skipping.\n",
      "Files for N=380 already exist. Skipping.\n",
      "Files for N=381 already exist. Skipping.\n",
      "Files for N=382 already exist. Skipping.\n",
      "Files for N=383 already exist. Skipping.\n",
      "Files for N=384 already exist. Skipping.\n",
      "Files for N=385 already exist. Skipping.\n",
      "Files for N=386 already exist. Skipping.\n",
      "Files for N=387 already exist. Skipping.\n",
      "Files for N=388 already exist. Skipping.\n",
      "Files for N=389 already exist. Skipping.\n",
      "Files for N=390 already exist. Skipping.\n",
      "Files for N=391 already exist. Skipping.\n",
      "Files for N=392 already exist. Skipping.\n",
      "Files for N=393 already exist. Skipping.\n",
      "Files for N=394 already exist. Skipping.\n",
      "Files for N=395 already exist. Skipping.\n",
      "Files for N=396 already exist. Skipping.\n",
      "Files for N=397 already exist. Skipping.\n",
      "Files for N=398 already exist. Skipping.\n",
      "Files for N=399 already exist. Skipping.\n",
      "Files for N=400 already exist. Skipping.\n",
      "Files for N=401 already exist. Skipping.\n",
      "Files for N=402 already exist. Skipping.\n",
      "Files for N=403 already exist. Skipping.\n",
      "Files for N=404 already exist. Skipping.\n",
      "Files for N=405 already exist. Skipping.\n",
      "Files for N=406 already exist. Skipping.\n",
      "Files for N=407 already exist. Skipping.\n",
      "Files for N=408 already exist. Skipping.\n",
      "Files for N=409 already exist. Skipping.\n",
      "Files for N=410 already exist. Skipping.\n",
      "Files for N=411 already exist. Skipping.\n",
      "Files for N=412 already exist. Skipping.\n",
      "Files for N=413 already exist. Skipping.\n",
      "Files for N=414 already exist. Skipping.\n",
      "Files for N=415 already exist. Skipping.\n",
      "Files for N=416 already exist. Skipping.\n",
      "Files for N=417 already exist. Skipping.\n",
      "Files for N=418 already exist. Skipping.\n",
      "Files for N=419 already exist. Skipping.\n",
      "Files for N=420 already exist. Skipping.\n",
      "Files for N=421 already exist. Skipping.\n",
      "Files for N=422 already exist. Skipping.\n",
      "Files for N=423 already exist. Skipping.\n",
      "Files for N=424 already exist. Skipping.\n",
      "Files for N=425 already exist. Skipping.\n",
      "Files for N=426 already exist. Skipping.\n",
      "Files for N=427 already exist. Skipping.\n",
      "Files for N=428 already exist. Skipping.\n",
      "Files for N=429 already exist. Skipping.\n",
      "Files for N=430 already exist. Skipping.\n",
      "Files for N=431 already exist. Skipping.\n",
      "Files for N=432 already exist. Skipping.\n",
      "Files for N=433 already exist. Skipping.\n",
      "Files for N=434 already exist. Skipping.\n",
      "Files for N=435 already exist. Skipping.\n",
      "Files for N=436 already exist. Skipping.\n",
      "Files for N=437 already exist. Skipping.\n",
      "Files for N=438 already exist. Skipping.\n",
      "Files for N=439 already exist. Skipping.\n",
      "Files for N=440 already exist. Skipping.\n",
      "Files for N=441 already exist. Skipping.\n",
      "Files for N=442 already exist. Skipping.\n",
      "Files for N=443 already exist. Skipping.\n",
      "Files for N=444 already exist. Skipping.\n",
      "Files for N=445 already exist. Skipping.\n",
      "Files for N=446 already exist. Skipping.\n",
      "Files for N=447 already exist. Skipping.\n",
      "Files for N=448 already exist. Skipping.\n",
      "Files for N=449 already exist. Skipping.\n",
      "Files for N=450 already exist. Skipping.\n",
      "Files for N=451 already exist. Skipping.\n",
      "Files for N=452 already exist. Skipping.\n",
      "Files for N=453 already exist. Skipping.\n",
      "Files for N=454 already exist. Skipping.\n",
      "Files for N=455 already exist. Skipping.\n",
      "Files for N=456 already exist. Skipping.\n",
      "Files for N=457 already exist. Skipping.\n",
      "Files for N=458 already exist. Skipping.\n",
      "Files for N=459 already exist. Skipping.\n",
      "Files for N=460 already exist. Skipping.\n",
      "Files for N=461 already exist. Skipping.\n",
      "Files for N=462 already exist. Skipping.\n",
      "Files for N=463 already exist. Skipping.\n",
      "Files for N=464 already exist. Skipping.\n",
      "Files for N=465 already exist. Skipping.\n",
      "Files for N=466 already exist. Skipping.\n",
      "Files for N=467 already exist. Skipping.\n",
      "Files for N=468 already exist. Skipping.\n",
      "Files for N=469 already exist. Skipping.\n",
      "Files for N=470 already exist. Skipping.\n",
      "Files for N=471 already exist. Skipping.\n",
      "Files for N=472 already exist. Skipping.\n",
      "Files for N=473 already exist. Skipping.\n",
      "Files for N=474 already exist. Skipping.\n",
      "Files for N=475 already exist. Skipping.\n",
      "Files for N=476 already exist. Skipping.\n",
      "Files for N=477 already exist. Skipping.\n",
      "Files for N=478 already exist. Skipping.\n",
      "Files for N=479 already exist. Skipping.\n",
      "Files for N=480 already exist. Skipping.\n",
      "Files for N=481 already exist. Skipping.\n",
      "Files for N=482 already exist. Skipping.\n",
      "Files for N=483 already exist. Skipping.\n",
      "Files for N=484 already exist. Skipping.\n",
      "Files for N=485 already exist. Skipping.\n",
      "Files for N=486 already exist. Skipping.\n",
      "Files for N=487 already exist. Skipping.\n",
      "Files for N=488 already exist. Skipping.\n",
      "Files for N=489 already exist. Skipping.\n",
      "Files for N=490 already exist. Skipping.\n",
      "Files for N=491 already exist. Skipping.\n",
      "Files for N=492 already exist. Skipping.\n",
      "Files for N=493 already exist. Skipping.\n",
      "Files for N=494 already exist. Skipping.\n",
      "Files for N=495 already exist. Skipping.\n",
      "Files for N=496 already exist. Skipping.\n",
      "Files for N=497 already exist. Skipping.\n",
      "Files for N=498 already exist. Skipping.\n",
      "Files for N=499 already exist. Skipping.\n",
      "CuPy QWAK results computed and saved.\n",
      "Elapsed time: 0:00:00.259147\n"
     ]
    },
    {
     "name": "stderr",
     "output_type": "stream",
     "text": [
      "\r"
     ]
    }
   ],
   "source": [
    "# import os\n",
    "# from datetime import datetime\n",
    "\n",
    "# # Parameters\n",
    "# nMin = 3\n",
    "# nMax = 500\n",
    "# nList = list(range(nMin, nMax, 1))\n",
    "# pVal = 0.8\n",
    "# samples = 2\n",
    "# t = 100\n",
    "\n",
    "# base_dir = 'Datasets/Benchmark-SimpleQWAK-Test_ER'\n",
    "\n",
    "# # File paths for results\n",
    "# qwak_times_filename = f'simpleQWAKTime_N{nMin}-{nMax-1}_P{pVal}_T{t}_S{samples}.txt'\n",
    "# qwak_times_filename_cupy = f'3070-simpleQWAKTime_CuPy_N{nMin}-{nMax-1}_P{pVal}_T{t}_S{samples}.txt'\n",
    "\n",
    "# qwak_times_file = os.path.join(base_dir, qwak_times_filename)\n",
    "# qwak_times_file_cupy = os.path.join(base_dir, qwak_times_filename_cupy)\n",
    "\n",
    "# # Record start datetime\n",
    "# start_datetime = datetime.now()\n",
    "\n",
    "# # Run and save results for standard QWAK\n",
    "# if os.path.exists(qwak_times_file):\n",
    "#     tList, qwList = load_runMultipleSimpleQWAK3(nList, pVal, t, base_dir)\n",
    "#     print('Standard QWAK results already exist. Loaded.')\n",
    "# else:\n",
    "#     tList, qwList = runMultipleSimpleQWAK3(nList, pVal, t, samples, base_dir)\n",
    "#     print('Standard QWAK results computed and saved.')\n",
    "\n",
    "# # Run and save results for CuPy QWAK\n",
    "# if os.path.exists(qwak_times_file_cupy):\n",
    "#     tList_cupy, qwList_cupy = load_runMultipleSimpleQWAK3_cupy(nList, pVal, t, base_dir)\n",
    "#     print('CuPy QWAK results already exist. Loaded.')\n",
    "# else:\n",
    "#     tList_cupy, qwList_cupy = runMultipleSimpleQWAK3_cupy(nList, pVal, t, samples, base_dir)\n",
    "#     print('CuPy QWAK results computed and saved.')\n",
    "\n",
    "# # Print elapsed time\n",
    "# elapsed_time = datetime.now() - start_datetime\n",
    "# print(f\"Elapsed time: {elapsed_time}\")\n"
   ]
  },
  {
   "cell_type": "code",
   "execution_count": 13,
   "id": "c046bf9d-2507-42d6-921d-571ddd77f668",
   "metadata": {
    "scrolled": true
   },
   "outputs": [
    {
     "name": "stderr",
     "output_type": "stream",
     "text": [
      "NPQWAK 497:3->499:   0%|          | 0/497 [00:00<?, ?it/s]\n",
      "Samples for N = 3:   0%|          | 0/3 [00:00<?, ?it/s]\u001b[A\n",
      "                                                        \u001b[A"
     ]
    },
    {
     "name": "stdout",
     "output_type": "stream",
     "text": [
      "Files for N=3, Sample=1 already exist. Skipping.\n",
      "Files for N=3, Sample=2 already exist. Skipping.\n",
      "Files for N=3, Sample=3 already exist. Skipping.\n"
     ]
    },
    {
     "name": "stderr",
     "output_type": "stream",
     "text": [
      "\n",
      "Samples for N = 4:   0%|          | 0/3 [00:00<?, ?it/s]\u001b[A\n",
      "                                                        \u001b[A"
     ]
    },
    {
     "name": "stdout",
     "output_type": "stream",
     "text": [
      "Files for N=4, Sample=1 already exist. Skipping.\n",
      "Files for N=4, Sample=2 already exist. Skipping.\n",
      "Files for N=4, Sample=3 already exist. Skipping.\n"
     ]
    },
    {
     "name": "stderr",
     "output_type": "stream",
     "text": [
      "\n",
      "Samples for N = 5:   0%|          | 0/3 [00:00<?, ?it/s]\u001b[A\n",
      "                                                        \u001b[A"
     ]
    },
    {
     "name": "stdout",
     "output_type": "stream",
     "text": [
      "Files for N=5, Sample=1 already exist. Skipping.\n",
      "Files for N=5, Sample=2 already exist. Skipping.\n",
      "Files for N=5, Sample=3 already exist. Skipping.\n"
     ]
    },
    {
     "name": "stderr",
     "output_type": "stream",
     "text": [
      "\n",
      "Samples for N = 6:   0%|          | 0/3 [00:00<?, ?it/s]\u001b[A\n",
      "                                                        \u001b[A"
     ]
    },
    {
     "name": "stdout",
     "output_type": "stream",
     "text": [
      "Files for N=6, Sample=1 already exist. Skipping.\n",
      "Files for N=6, Sample=2 already exist. Skipping.\n",
      "Files for N=6, Sample=3 already exist. Skipping.\n"
     ]
    },
    {
     "name": "stderr",
     "output_type": "stream",
     "text": [
      "\n",
      "Samples for N = 7:   0%|          | 0/3 [00:00<?, ?it/s]\u001b[A\n",
      "                                                        \u001b[A"
     ]
    },
    {
     "name": "stdout",
     "output_type": "stream",
     "text": [
      "Files for N=7, Sample=1 already exist. Skipping.\n",
      "Files for N=7, Sample=2 already exist. Skipping.\n",
      "Files for N=7, Sample=3 already exist. Skipping.\n"
     ]
    },
    {
     "name": "stderr",
     "output_type": "stream",
     "text": [
      "\n",
      "Samples for N = 8:   0%|          | 0/3 [00:00<?, ?it/s]\u001b[A\n",
      "                                                        \u001b[A"
     ]
    },
    {
     "name": "stdout",
     "output_type": "stream",
     "text": [
      "Files for N=8, Sample=1 already exist. Skipping.\n",
      "Files for N=8, Sample=2 already exist. Skipping.\n",
      "Files for N=8, Sample=3 already exist. Skipping.\n"
     ]
    },
    {
     "name": "stderr",
     "output_type": "stream",
     "text": [
      "\n",
      "Samples for N = 9:   0%|          | 0/3 [00:00<?, ?it/s]\u001b[A\n",
      "                                                        \u001b[A"
     ]
    },
    {
     "name": "stdout",
     "output_type": "stream",
     "text": [
      "Files for N=9, Sample=1 already exist. Skipping.\n",
      "Files for N=9, Sample=2 already exist. Skipping.\n",
      "Files for N=9, Sample=3 already exist. Skipping.\n"
     ]
    },
    {
     "name": "stderr",
     "output_type": "stream",
     "text": [
      "\n",
      "Samples for N = 10:   0%|          | 0/3 [00:00<?, ?it/s]\u001b[A\n",
      "                                                         \u001b[A"
     ]
    },
    {
     "name": "stdout",
     "output_type": "stream",
     "text": [
      "Files for N=10, Sample=1 already exist. Skipping.\n",
      "Files for N=10, Sample=2 already exist. Skipping.\n",
      "Files for N=10, Sample=3 already exist. Skipping.\n"
     ]
    },
    {
     "name": "stderr",
     "output_type": "stream",
     "text": [
      "\n",
      "Samples for N = 11:   0%|          | 0/3 [00:00<?, ?it/s]\u001b[A\n",
      "                                                         \u001b[A"
     ]
    },
    {
     "name": "stdout",
     "output_type": "stream",
     "text": [
      "Files for N=11, Sample=1 already exist. Skipping.\n",
      "Files for N=11, Sample=2 already exist. Skipping.\n",
      "Files for N=11, Sample=3 already exist. Skipping.\n"
     ]
    },
    {
     "name": "stderr",
     "output_type": "stream",
     "text": [
      "\n",
      "Samples for N = 12:   0%|          | 0/3 [00:00<?, ?it/s]\u001b[A\n",
      "                                                         \u001b[A"
     ]
    },
    {
     "name": "stdout",
     "output_type": "stream",
     "text": [
      "Files for N=12, Sample=1 already exist. Skipping.\n",
      "Files for N=12, Sample=2 already exist. Skipping.\n",
      "Files for N=12, Sample=3 already exist. Skipping.\n"
     ]
    },
    {
     "name": "stderr",
     "output_type": "stream",
     "text": [
      "\n",
      "Samples for N = 13:   0%|          | 0/3 [00:00<?, ?it/s]\u001b[A\n",
      "                                                         \u001b[A"
     ]
    },
    {
     "name": "stdout",
     "output_type": "stream",
     "text": [
      "Files for N=13, Sample=1 already exist. Skipping.\n",
      "Files for N=13, Sample=2 already exist. Skipping.\n",
      "Files for N=13, Sample=3 already exist. Skipping.\n"
     ]
    },
    {
     "name": "stderr",
     "output_type": "stream",
     "text": [
      "\n",
      "Samples for N = 14:   0%|          | 0/3 [00:00<?, ?it/s]\u001b[A\n",
      "                                                         \u001b[A"
     ]
    },
    {
     "name": "stdout",
     "output_type": "stream",
     "text": [
      "Files for N=14, Sample=1 already exist. Skipping.\n",
      "Files for N=14, Sample=2 already exist. Skipping.\n",
      "Files for N=14, Sample=3 already exist. Skipping.\n"
     ]
    },
    {
     "name": "stderr",
     "output_type": "stream",
     "text": [
      "\n",
      "Samples for N = 15:   0%|          | 0/3 [00:00<?, ?it/s]\u001b[A\n",
      "                                                         \u001b[A"
     ]
    },
    {
     "name": "stdout",
     "output_type": "stream",
     "text": [
      "Files for N=15, Sample=1 already exist. Skipping.\n",
      "Files for N=15, Sample=2 already exist. Skipping.\n",
      "Files for N=15, Sample=3 already exist. Skipping.\n"
     ]
    },
    {
     "name": "stderr",
     "output_type": "stream",
     "text": [
      "\n",
      "Samples for N = 16:   0%|          | 0/3 [00:00<?, ?it/s]\u001b[A\n",
      "                                                         \u001b[A"
     ]
    },
    {
     "name": "stdout",
     "output_type": "stream",
     "text": [
      "Files for N=16, Sample=1 already exist. Skipping.\n",
      "Files for N=16, Sample=2 already exist. Skipping.\n",
      "Files for N=16, Sample=3 already exist. Skipping.\n"
     ]
    },
    {
     "name": "stderr",
     "output_type": "stream",
     "text": [
      "\n",
      "Samples for N = 17:   0%|          | 0/3 [00:00<?, ?it/s]\u001b[A\n",
      "                                                         \u001b[A"
     ]
    },
    {
     "name": "stdout",
     "output_type": "stream",
     "text": [
      "Files for N=17, Sample=1 already exist. Skipping.\n",
      "Files for N=17, Sample=2 already exist. Skipping.\n",
      "Files for N=17, Sample=3 already exist. Skipping.\n"
     ]
    },
    {
     "name": "stderr",
     "output_type": "stream",
     "text": [
      "\n",
      "Samples for N = 18:   0%|          | 0/3 [00:00<?, ?it/s]\u001b[A\n",
      "                                                         \u001b[A"
     ]
    },
    {
     "name": "stdout",
     "output_type": "stream",
     "text": [
      "Files for N=18, Sample=1 already exist. Skipping.\n",
      "Files for N=18, Sample=2 already exist. Skipping.\n",
      "Files for N=18, Sample=3 already exist. Skipping.\n"
     ]
    },
    {
     "name": "stderr",
     "output_type": "stream",
     "text": [
      "\n",
      "Samples for N = 19:   0%|          | 0/3 [00:00<?, ?it/s]\u001b[A\n",
      "                                                         \u001b[A"
     ]
    },
    {
     "name": "stdout",
     "output_type": "stream",
     "text": [
      "Files for N=19, Sample=1 already exist. Skipping.\n",
      "Files for N=19, Sample=2 already exist. Skipping.\n",
      "Files for N=19, Sample=3 already exist. Skipping.\n"
     ]
    },
    {
     "name": "stderr",
     "output_type": "stream",
     "text": [
      "\n",
      "Samples for N = 20:   0%|          | 0/3 [00:00<?, ?it/s]\u001b[A\n",
      "                                                         \u001b[A"
     ]
    },
    {
     "name": "stdout",
     "output_type": "stream",
     "text": [
      "Files for N=20, Sample=1 already exist. Skipping.\n",
      "Files for N=20, Sample=2 already exist. Skipping.\n",
      "Files for N=20, Sample=3 already exist. Skipping.\n"
     ]
    },
    {
     "name": "stderr",
     "output_type": "stream",
     "text": [
      "\n",
      "Samples for N = 21:   0%|          | 0/3 [00:00<?, ?it/s]\u001b[A\n",
      "                                                         \u001b[A"
     ]
    },
    {
     "name": "stdout",
     "output_type": "stream",
     "text": [
      "Files for N=21, Sample=1 already exist. Skipping.\n",
      "Files for N=21, Sample=2 already exist. Skipping.\n",
      "Files for N=21, Sample=3 already exist. Skipping.\n"
     ]
    },
    {
     "name": "stderr",
     "output_type": "stream",
     "text": [
      "\n",
      "Samples for N = 22:   0%|          | 0/3 [00:00<?, ?it/s]\u001b[A\n",
      "                                                         \u001b[A"
     ]
    },
    {
     "name": "stdout",
     "output_type": "stream",
     "text": [
      "Files for N=22, Sample=1 already exist. Skipping.\n",
      "Files for N=22, Sample=2 already exist. Skipping.\n",
      "Files for N=22, Sample=3 already exist. Skipping.\n"
     ]
    },
    {
     "name": "stderr",
     "output_type": "stream",
     "text": [
      "\n",
      "Samples for N = 23:   0%|          | 0/3 [00:00<?, ?it/s]\u001b[A\n",
      "                                                         \u001b[A"
     ]
    },
    {
     "name": "stdout",
     "output_type": "stream",
     "text": [
      "Files for N=23, Sample=1 already exist. Skipping.\n",
      "Files for N=23, Sample=2 already exist. Skipping.\n",
      "Files for N=23, Sample=3 already exist. Skipping.\n"
     ]
    },
    {
     "name": "stderr",
     "output_type": "stream",
     "text": [
      "\n",
      "Samples for N = 24:   0%|          | 0/3 [00:00<?, ?it/s]\u001b[A\n",
      "                                                         \u001b[A"
     ]
    },
    {
     "name": "stdout",
     "output_type": "stream",
     "text": [
      "Files for N=24, Sample=1 already exist. Skipping.\n",
      "Files for N=24, Sample=2 already exist. Skipping.\n",
      "Files for N=24, Sample=3 already exist. Skipping.\n"
     ]
    },
    {
     "name": "stderr",
     "output_type": "stream",
     "text": [
      "\n",
      "Samples for N = 25:   0%|          | 0/3 [00:00<?, ?it/s]\u001b[A\n",
      "NPQWAK 497:3->499:   5%|▍         | 23/497 [00:00<00:02, 217.75it/s]"
     ]
    },
    {
     "name": "stdout",
     "output_type": "stream",
     "text": [
      "Files for N=25, Sample=1 already exist. Skipping.\n",
      "Files for N=25, Sample=2 already exist. Skipping.\n",
      "Files for N=25, Sample=3 already exist. Skipping.\n"
     ]
    },
    {
     "name": "stderr",
     "output_type": "stream",
     "text": [
      "\n",
      "Samples for N = 26:   0%|          | 0/3 [00:00<?, ?it/s]\u001b[A\n",
      "                                                         \u001b[A"
     ]
    },
    {
     "name": "stdout",
     "output_type": "stream",
     "text": [
      "Files for N=26, Sample=1 already exist. Skipping.\n",
      "Files for N=26, Sample=2 already exist. Skipping.\n",
      "Files for N=26, Sample=3 already exist. Skipping.\n"
     ]
    },
    {
     "name": "stderr",
     "output_type": "stream",
     "text": [
      "\n",
      "Samples for N = 27:   0%|          | 0/3 [00:00<?, ?it/s]\u001b[A\n",
      "                                                         \u001b[A"
     ]
    },
    {
     "name": "stdout",
     "output_type": "stream",
     "text": [
      "Files for N=27, Sample=1 already exist. Skipping.\n",
      "Files for N=27, Sample=2 already exist. Skipping.\n",
      "Files for N=27, Sample=3 already exist. Skipping.\n"
     ]
    },
    {
     "name": "stderr",
     "output_type": "stream",
     "text": [
      "\n",
      "Samples for N = 28:   0%|          | 0/3 [00:00<?, ?it/s]\u001b[A\n",
      "                                                         \u001b[A"
     ]
    },
    {
     "name": "stdout",
     "output_type": "stream",
     "text": [
      "Files for N=28, Sample=1 already exist. Skipping.\n",
      "Files for N=28, Sample=2 already exist. Skipping.\n",
      "Files for N=28, Sample=3 already exist. Skipping.\n"
     ]
    },
    {
     "name": "stderr",
     "output_type": "stream",
     "text": [
      "\n",
      "Samples for N = 29:   0%|          | 0/3 [00:00<?, ?it/s]\u001b[A\n",
      "                                                         \u001b[A"
     ]
    },
    {
     "name": "stdout",
     "output_type": "stream",
     "text": [
      "Files for N=29, Sample=1 already exist. Skipping.\n",
      "Files for N=29, Sample=2 already exist. Skipping.\n",
      "Files for N=29, Sample=3 already exist. Skipping.\n"
     ]
    },
    {
     "name": "stderr",
     "output_type": "stream",
     "text": [
      "\n",
      "Samples for N = 30:   0%|          | 0/3 [00:00<?, ?it/s]\u001b[A\n",
      "                                                         \u001b[A"
     ]
    },
    {
     "name": "stdout",
     "output_type": "stream",
     "text": [
      "Files for N=30, Sample=1 already exist. Skipping.\n",
      "Files for N=30, Sample=2 already exist. Skipping.\n",
      "Files for N=30, Sample=3 already exist. Skipping.\n"
     ]
    },
    {
     "name": "stderr",
     "output_type": "stream",
     "text": [
      "\n",
      "Samples for N = 31:   0%|          | 0/3 [00:00<?, ?it/s]\u001b[A\n",
      "                                                         \u001b[A"
     ]
    },
    {
     "name": "stdout",
     "output_type": "stream",
     "text": [
      "Files for N=31, Sample=1 already exist. Skipping.\n",
      "Files for N=31, Sample=2 already exist. Skipping.\n",
      "Files for N=31, Sample=3 already exist. Skipping.\n"
     ]
    },
    {
     "name": "stderr",
     "output_type": "stream",
     "text": [
      "\n",
      "Samples for N = 32:   0%|          | 0/3 [00:00<?, ?it/s]\u001b[A\n",
      "                                                         \u001b[A"
     ]
    },
    {
     "name": "stdout",
     "output_type": "stream",
     "text": [
      "Files for N=32, Sample=1 already exist. Skipping.\n",
      "Files for N=32, Sample=2 already exist. Skipping.\n",
      "Files for N=32, Sample=3 already exist. Skipping.\n"
     ]
    },
    {
     "name": "stderr",
     "output_type": "stream",
     "text": [
      "\n",
      "Samples for N = 33:   0%|          | 0/3 [00:00<?, ?it/s]\u001b[A\n",
      "                                                         \u001b[A"
     ]
    },
    {
     "name": "stdout",
     "output_type": "stream",
     "text": [
      "Files for N=33, Sample=1 already exist. Skipping.\n",
      "Files for N=33, Sample=2 already exist. Skipping.\n",
      "Files for N=33, Sample=3 already exist. Skipping.\n"
     ]
    },
    {
     "name": "stderr",
     "output_type": "stream",
     "text": [
      "\n",
      "Samples for N = 34:   0%|          | 0/3 [00:00<?, ?it/s]\u001b[A\n",
      "                                                         \u001b[A"
     ]
    },
    {
     "name": "stdout",
     "output_type": "stream",
     "text": [
      "Files for N=34, Sample=1 already exist. Skipping.\n",
      "Files for N=34, Sample=2 already exist. Skipping.\n",
      "Files for N=34, Sample=3 already exist. Skipping.\n"
     ]
    },
    {
     "name": "stderr",
     "output_type": "stream",
     "text": [
      "\n",
      "Samples for N = 35:   0%|          | 0/3 [00:00<?, ?it/s]\u001b[A\n",
      "                                                         \u001b[A"
     ]
    },
    {
     "name": "stdout",
     "output_type": "stream",
     "text": [
      "Files for N=35, Sample=1 already exist. Skipping.\n",
      "Files for N=35, Sample=2 already exist. Skipping.\n",
      "Files for N=35, Sample=3 already exist. Skipping.\n"
     ]
    },
    {
     "name": "stderr",
     "output_type": "stream",
     "text": [
      "\n",
      "Samples for N = 36:   0%|          | 0/3 [00:00<?, ?it/s]\u001b[A\n",
      "                                                         \u001b[A"
     ]
    },
    {
     "name": "stdout",
     "output_type": "stream",
     "text": [
      "Files for N=36, Sample=1 already exist. Skipping.\n",
      "Files for N=36, Sample=2 already exist. Skipping.\n",
      "Files for N=36, Sample=3 already exist. Skipping.\n"
     ]
    },
    {
     "name": "stderr",
     "output_type": "stream",
     "text": [
      "\n",
      "Samples for N = 37:   0%|          | 0/3 [00:00<?, ?it/s]\u001b[A\n",
      "                                                         \u001b[A"
     ]
    },
    {
     "name": "stdout",
     "output_type": "stream",
     "text": [
      "Files for N=37, Sample=1 already exist. Skipping.\n",
      "Files for N=37, Sample=2 already exist. Skipping.\n",
      "Files for N=37, Sample=3 already exist. Skipping.\n"
     ]
    },
    {
     "name": "stderr",
     "output_type": "stream",
     "text": [
      "\n",
      "Samples for N = 38:   0%|          | 0/3 [00:00<?, ?it/s]\u001b[A\n",
      "                                                         \u001b[A"
     ]
    },
    {
     "name": "stdout",
     "output_type": "stream",
     "text": [
      "Files for N=38, Sample=1 already exist. Skipping.\n",
      "Files for N=38, Sample=2 already exist. Skipping.\n",
      "Files for N=38, Sample=3 already exist. Skipping.\n"
     ]
    },
    {
     "name": "stderr",
     "output_type": "stream",
     "text": [
      "\n",
      "Samples for N = 39:   0%|          | 0/3 [00:00<?, ?it/s]\u001b[A\n",
      "                                                         \u001b[A"
     ]
    },
    {
     "name": "stdout",
     "output_type": "stream",
     "text": [
      "Files for N=39, Sample=1 already exist. Skipping.\n",
      "Files for N=39, Sample=2 already exist. Skipping.\n",
      "Files for N=39, Sample=3 already exist. Skipping.\n"
     ]
    },
    {
     "name": "stderr",
     "output_type": "stream",
     "text": [
      "\n",
      "Samples for N = 40:   0%|          | 0/3 [00:00<?, ?it/s]\u001b[A\n",
      "                                                         \u001b[A"
     ]
    },
    {
     "name": "stdout",
     "output_type": "stream",
     "text": [
      "Files for N=40, Sample=1 already exist. Skipping.\n",
      "Files for N=40, Sample=2 already exist. Skipping.\n",
      "Files for N=40, Sample=3 already exist. Skipping.\n"
     ]
    },
    {
     "name": "stderr",
     "output_type": "stream",
     "text": [
      "\n",
      "Samples for N = 41:   0%|          | 0/3 [00:00<?, ?it/s]\u001b[A\n",
      "                                                         \u001b[A"
     ]
    },
    {
     "name": "stdout",
     "output_type": "stream",
     "text": [
      "Files for N=41, Sample=1 already exist. Skipping.\n",
      "Files for N=41, Sample=2 already exist. Skipping.\n",
      "Files for N=41, Sample=3 already exist. Skipping.\n"
     ]
    },
    {
     "name": "stderr",
     "output_type": "stream",
     "text": [
      "\n",
      "Samples for N = 42:   0%|          | 0/3 [00:00<?, ?it/s]\u001b[A\n",
      "                                                         \u001b[A"
     ]
    },
    {
     "name": "stdout",
     "output_type": "stream",
     "text": [
      "Files for N=42, Sample=1 already exist. Skipping.\n",
      "Files for N=42, Sample=2 already exist. Skipping.\n",
      "Files for N=42, Sample=3 already exist. Skipping.\n"
     ]
    },
    {
     "name": "stderr",
     "output_type": "stream",
     "text": [
      "\n",
      "Samples for N = 43:   0%|          | 0/3 [00:00<?, ?it/s]\u001b[A\n",
      "                                                         \u001b[A"
     ]
    },
    {
     "name": "stdout",
     "output_type": "stream",
     "text": [
      "Files for N=43, Sample=1 already exist. Skipping.\n",
      "Files for N=43, Sample=2 already exist. Skipping.\n",
      "Files for N=43, Sample=3 already exist. Skipping.\n"
     ]
    },
    {
     "name": "stderr",
     "output_type": "stream",
     "text": [
      "\n",
      "Samples for N = 44:   0%|          | 0/3 [00:00<?, ?it/s]\u001b[A\n",
      "                                                         \u001b[A"
     ]
    },
    {
     "name": "stdout",
     "output_type": "stream",
     "text": [
      "Files for N=44, Sample=1 already exist. Skipping.\n",
      "Files for N=44, Sample=2 already exist. Skipping.\n",
      "Files for N=44, Sample=3 already exist. Skipping.\n"
     ]
    },
    {
     "name": "stderr",
     "output_type": "stream",
     "text": [
      "\n",
      "Samples for N = 45:   0%|          | 0/3 [00:00<?, ?it/s]\u001b[A\n",
      "                                                         \u001b[A"
     ]
    },
    {
     "name": "stdout",
     "output_type": "stream",
     "text": [
      "Files for N=45, Sample=1 already exist. Skipping.\n",
      "Files for N=45, Sample=2 already exist. Skipping.\n",
      "Files for N=45, Sample=3 already exist. Skipping.\n"
     ]
    },
    {
     "name": "stderr",
     "output_type": "stream",
     "text": [
      "\n",
      "Samples for N = 46:   0%|          | 0/3 [00:00<?, ?it/s]\u001b[A\n",
      "                                                         \u001b[A"
     ]
    },
    {
     "name": "stdout",
     "output_type": "stream",
     "text": [
      "Files for N=46, Sample=1 already exist. Skipping.\n",
      "Files for N=46, Sample=2 already exist. Skipping.\n",
      "Files for N=46, Sample=3 already exist. Skipping.\n"
     ]
    },
    {
     "name": "stderr",
     "output_type": "stream",
     "text": [
      "\n",
      "Samples for N = 47:   0%|          | 0/3 [00:00<?, ?it/s]\u001b[A\n",
      "                                                         \u001b[A"
     ]
    },
    {
     "name": "stdout",
     "output_type": "stream",
     "text": [
      "Files for N=47, Sample=1 already exist. Skipping.\n",
      "Files for N=47, Sample=2 already exist. Skipping.\n",
      "Files for N=47, Sample=3 already exist. Skipping.\n"
     ]
    },
    {
     "name": "stderr",
     "output_type": "stream",
     "text": [
      "\n",
      "Samples for N = 48:   0%|          | 0/3 [00:00<?, ?it/s]\u001b[A\n",
      "NPQWAK 497:3->499:   9%|▉         | 46/497 [00:00<00:02, 221.32it/s]"
     ]
    },
    {
     "name": "stdout",
     "output_type": "stream",
     "text": [
      "Files for N=48, Sample=1 already exist. Skipping.\n",
      "Files for N=48, Sample=2 already exist. Skipping.\n",
      "Files for N=48, Sample=3 already exist. Skipping.\n"
     ]
    },
    {
     "name": "stderr",
     "output_type": "stream",
     "text": [
      "\n",
      "Samples for N = 49:   0%|          | 0/3 [00:00<?, ?it/s]\u001b[A\n",
      "                                                         \u001b[A"
     ]
    },
    {
     "name": "stdout",
     "output_type": "stream",
     "text": [
      "Files for N=49, Sample=1 already exist. Skipping.\n",
      "Files for N=49, Sample=2 already exist. Skipping.\n",
      "Files for N=49, Sample=3 already exist. Skipping.\n"
     ]
    },
    {
     "name": "stderr",
     "output_type": "stream",
     "text": [
      "\n",
      "Samples for N = 50:   0%|          | 0/3 [00:00<?, ?it/s]\u001b[A\n",
      "                                                         \u001b[A"
     ]
    },
    {
     "name": "stdout",
     "output_type": "stream",
     "text": [
      "Files for N=50, Sample=1 already exist. Skipping.\n",
      "Files for N=50, Sample=2 already exist. Skipping.\n",
      "Files for N=50, Sample=3 already exist. Skipping.\n"
     ]
    },
    {
     "name": "stderr",
     "output_type": "stream",
     "text": [
      "\n",
      "Samples for N = 51:   0%|          | 0/3 [00:00<?, ?it/s]\u001b[A\n"
     ]
    },
    {
     "name": "stdout",
     "output_type": "stream",
     "text": [
      "Files for N=51, Sample=1 already exist. Skipping.\n",
      "Files for N=51, Sample=2 already exist. Skipping.\n",
      "Files for N=51, Sample=3 already exist. Skipping.\n"
     ]
    },
    {
     "name": "stderr",
     "output_type": "stream",
     "text": [
      "                                                         \u001b[A\n",
      "Samples for N = 52:   0%|          | 0/3 [00:00<?, ?it/s]\u001b[A\n",
      "                                                         \u001b[A"
     ]
    },
    {
     "name": "stdout",
     "output_type": "stream",
     "text": [
      "Files for N=52, Sample=1 already exist. Skipping.\n",
      "Files for N=52, Sample=2 already exist. Skipping.\n",
      "Files for N=52, Sample=3 already exist. Skipping.\n"
     ]
    },
    {
     "name": "stderr",
     "output_type": "stream",
     "text": [
      "\n",
      "Samples for N = 53:   0%|          | 0/3 [00:00<?, ?it/s]\u001b[A\n",
      "                                                         \u001b[A"
     ]
    },
    {
     "name": "stdout",
     "output_type": "stream",
     "text": [
      "Files for N=53, Sample=1 already exist. Skipping.\n",
      "Files for N=53, Sample=2 already exist. Skipping.\n",
      "Files for N=53, Sample=3 already exist. Skipping.\n"
     ]
    },
    {
     "name": "stderr",
     "output_type": "stream",
     "text": [
      "\n",
      "Samples for N = 54:   0%|          | 0/3 [00:00<?, ?it/s]\u001b[A\n",
      "                                                         \u001b[A"
     ]
    },
    {
     "name": "stdout",
     "output_type": "stream",
     "text": [
      "Files for N=54, Sample=1 already exist. Skipping.\n",
      "Files for N=54, Sample=2 already exist. Skipping.\n",
      "Files for N=54, Sample=3 already exist. Skipping.\n"
     ]
    },
    {
     "name": "stderr",
     "output_type": "stream",
     "text": [
      "\n",
      "Samples for N = 55:   0%|          | 0/3 [00:00<?, ?it/s]\u001b[A\n",
      "                                                         \u001b[A"
     ]
    },
    {
     "name": "stdout",
     "output_type": "stream",
     "text": [
      "Files for N=55, Sample=1 already exist. Skipping.\n",
      "Files for N=55, Sample=2 already exist. Skipping.\n",
      "Files for N=55, Sample=3 already exist. Skipping.\n"
     ]
    },
    {
     "name": "stderr",
     "output_type": "stream",
     "text": [
      "\n",
      "Samples for N = 56:   0%|          | 0/3 [00:00<?, ?it/s]\u001b[A\n",
      "                                                         \u001b[A"
     ]
    },
    {
     "name": "stdout",
     "output_type": "stream",
     "text": [
      "Files for N=56, Sample=1 already exist. Skipping.\n",
      "Files for N=56, Sample=2 already exist. Skipping.\n",
      "Files for N=56, Sample=3 already exist. Skipping.\n"
     ]
    },
    {
     "name": "stderr",
     "output_type": "stream",
     "text": [
      "\n",
      "Samples for N = 57:   0%|          | 0/3 [00:00<?, ?it/s]\u001b[A\n",
      "                                                         \u001b[A"
     ]
    },
    {
     "name": "stdout",
     "output_type": "stream",
     "text": [
      "Files for N=57, Sample=1 already exist. Skipping.\n",
      "Files for N=57, Sample=2 already exist. Skipping.\n",
      "Files for N=57, Sample=3 already exist. Skipping.\n"
     ]
    },
    {
     "name": "stderr",
     "output_type": "stream",
     "text": [
      "\n",
      "Samples for N = 58:   0%|          | 0/3 [00:00<?, ?it/s]\u001b[A\n",
      "                                                         \u001b[A"
     ]
    },
    {
     "name": "stdout",
     "output_type": "stream",
     "text": [
      "Files for N=58, Sample=1 already exist. Skipping.\n",
      "Files for N=58, Sample=2 already exist. Skipping.\n",
      "Files for N=58, Sample=3 already exist. Skipping.\n"
     ]
    },
    {
     "name": "stderr",
     "output_type": "stream",
     "text": [
      "\n",
      "Samples for N = 59:   0%|          | 0/3 [00:00<?, ?it/s]\u001b[A\n",
      "                                                         \u001b[A"
     ]
    },
    {
     "name": "stdout",
     "output_type": "stream",
     "text": [
      "Files for N=59, Sample=1 already exist. Skipping.\n",
      "Files for N=59, Sample=2 already exist. Skipping.\n",
      "Files for N=59, Sample=3 already exist. Skipping.\n"
     ]
    },
    {
     "name": "stderr",
     "output_type": "stream",
     "text": [
      "\n",
      "Samples for N = 60:   0%|          | 0/3 [00:00<?, ?it/s]\u001b[A\n",
      "                                                         \u001b[A"
     ]
    },
    {
     "name": "stdout",
     "output_type": "stream",
     "text": [
      "Files for N=60, Sample=1 already exist. Skipping.\n",
      "Files for N=60, Sample=2 already exist. Skipping.\n",
      "Files for N=60, Sample=3 already exist. Skipping.\n"
     ]
    },
    {
     "name": "stderr",
     "output_type": "stream",
     "text": [
      "\n",
      "Samples for N = 61:   0%|          | 0/3 [00:00<?, ?it/s]\u001b[A\n",
      "                                                         \u001b[A"
     ]
    },
    {
     "name": "stdout",
     "output_type": "stream",
     "text": [
      "Files for N=61, Sample=1 already exist. Skipping.\n",
      "Files for N=61, Sample=2 already exist. Skipping.\n",
      "Files for N=61, Sample=3 already exist. Skipping.\n"
     ]
    },
    {
     "name": "stderr",
     "output_type": "stream",
     "text": [
      "\n",
      "Samples for N = 62:   0%|          | 0/3 [00:00<?, ?it/s]\u001b[A\n",
      "                                                         \u001b[A"
     ]
    },
    {
     "name": "stdout",
     "output_type": "stream",
     "text": [
      "Files for N=62, Sample=1 already exist. Skipping.\n",
      "Files for N=62, Sample=2 already exist. Skipping.\n",
      "Files for N=62, Sample=3 already exist. Skipping.\n"
     ]
    },
    {
     "name": "stderr",
     "output_type": "stream",
     "text": [
      "\n",
      "Samples for N = 63:   0%|          | 0/3 [00:00<?, ?it/s]\u001b[A\n",
      "                                                         \u001b[A"
     ]
    },
    {
     "name": "stdout",
     "output_type": "stream",
     "text": [
      "Files for N=63, Sample=1 already exist. Skipping.\n",
      "Files for N=63, Sample=2 already exist. Skipping.\n",
      "Files for N=63, Sample=3 already exist. Skipping.\n"
     ]
    },
    {
     "name": "stderr",
     "output_type": "stream",
     "text": [
      "\n",
      "Samples for N = 64:   0%|          | 0/3 [00:00<?, ?it/s]\u001b[A\n",
      "                                                         \u001b[A"
     ]
    },
    {
     "name": "stdout",
     "output_type": "stream",
     "text": [
      "Files for N=64, Sample=1 already exist. Skipping.\n",
      "Files for N=64, Sample=2 already exist. Skipping.\n",
      "Files for N=64, Sample=3 already exist. Skipping.\n"
     ]
    },
    {
     "name": "stderr",
     "output_type": "stream",
     "text": [
      "\n",
      "Samples for N = 65:   0%|          | 0/3 [00:00<?, ?it/s]\u001b[A\n",
      "                                                         \u001b[A"
     ]
    },
    {
     "name": "stdout",
     "output_type": "stream",
     "text": [
      "Files for N=65, Sample=1 already exist. Skipping.\n",
      "Files for N=65, Sample=2 already exist. Skipping.\n",
      "Files for N=65, Sample=3 already exist. Skipping.\n"
     ]
    },
    {
     "name": "stderr",
     "output_type": "stream",
     "text": [
      "\n",
      "Samples for N = 66:   0%|          | 0/3 [00:00<?, ?it/s]\u001b[A\n",
      "                                                         \u001b[A"
     ]
    },
    {
     "name": "stdout",
     "output_type": "stream",
     "text": [
      "Files for N=66, Sample=1 already exist. Skipping.\n",
      "Files for N=66, Sample=2 already exist. Skipping.\n",
      "Files for N=66, Sample=3 already exist. Skipping.\n"
     ]
    },
    {
     "name": "stderr",
     "output_type": "stream",
     "text": [
      "\n",
      "Samples for N = 67:   0%|          | 0/3 [00:00<?, ?it/s]\u001b[A\n",
      "                                                         \u001b[A"
     ]
    },
    {
     "name": "stdout",
     "output_type": "stream",
     "text": [
      "Files for N=67, Sample=1 already exist. Skipping.\n",
      "Files for N=67, Sample=2 already exist. Skipping.\n",
      "Files for N=67, Sample=3 already exist. Skipping.\n"
     ]
    },
    {
     "name": "stderr",
     "output_type": "stream",
     "text": [
      "\n",
      "Samples for N = 68:   0%|          | 0/3 [00:00<?, ?it/s]\u001b[A\n",
      "                                                         \u001b[A"
     ]
    },
    {
     "name": "stdout",
     "output_type": "stream",
     "text": [
      "Files for N=68, Sample=1 already exist. Skipping.\n",
      "Files for N=68, Sample=2 already exist. Skipping.\n",
      "Files for N=68, Sample=3 already exist. Skipping.\n"
     ]
    },
    {
     "name": "stderr",
     "output_type": "stream",
     "text": [
      "\n",
      "Samples for N = 69:   0%|          | 0/3 [00:00<?, ?it/s]\u001b[A\n",
      "                                                         \u001b[A"
     ]
    },
    {
     "name": "stdout",
     "output_type": "stream",
     "text": [
      "Files for N=69, Sample=1 already exist. Skipping.\n",
      "Files for N=69, Sample=2 already exist. Skipping.\n",
      "Files for N=69, Sample=3 already exist. Skipping.\n"
     ]
    },
    {
     "name": "stderr",
     "output_type": "stream",
     "text": [
      "\n",
      "Samples for N = 70:   0%|          | 0/3 [00:00<?, ?it/s]\u001b[A\n",
      "                                                         \u001b[A"
     ]
    },
    {
     "name": "stdout",
     "output_type": "stream",
     "text": [
      "Files for N=70, Sample=1 already exist. Skipping.\n",
      "Files for N=70, Sample=2 already exist. Skipping.\n",
      "Files for N=70, Sample=3 already exist. Skipping.\n"
     ]
    },
    {
     "name": "stderr",
     "output_type": "stream",
     "text": [
      "\n",
      "Samples for N = 71:   0%|          | 0/3 [00:00<?, ?it/s]\u001b[A\n"
     ]
    },
    {
     "name": "stdout",
     "output_type": "stream",
     "text": [
      "Files for N=71, Sample=1 already exist. Skipping.\n",
      "Files for N=71, Sample=2 already exist. Skipping.\n",
      "Files for N=71, Sample=3 already exist. Skipping.\n"
     ]
    },
    {
     "name": "stderr",
     "output_type": "stream",
     "text": [
      "NPQWAK 497:3->499:  14%|█▍        | 69/497 [00:00<00:01, 217.43it/s]\n",
      "Samples for N = 72:   0%|          | 0/3 [00:00<?, ?it/s]\u001b[A\n",
      "                                                         \u001b[A"
     ]
    },
    {
     "name": "stdout",
     "output_type": "stream",
     "text": [
      "Files for N=72, Sample=1 already exist. Skipping.\n",
      "Files for N=72, Sample=2 already exist. Skipping.\n",
      "Files for N=72, Sample=3 already exist. Skipping.\n"
     ]
    },
    {
     "name": "stderr",
     "output_type": "stream",
     "text": [
      "\n",
      "Samples for N = 73:   0%|          | 0/3 [00:00<?, ?it/s]\u001b[A\n",
      "                                                         \u001b[A"
     ]
    },
    {
     "name": "stdout",
     "output_type": "stream",
     "text": [
      "Files for N=73, Sample=1 already exist. Skipping.\n",
      "Files for N=73, Sample=2 already exist. Skipping.\n",
      "Files for N=73, Sample=3 already exist. Skipping.\n"
     ]
    },
    {
     "name": "stderr",
     "output_type": "stream",
     "text": [
      "\n",
      "Samples for N = 74:   0%|          | 0/3 [00:00<?, ?it/s]\u001b[A\n",
      "                                                         \u001b[A"
     ]
    },
    {
     "name": "stdout",
     "output_type": "stream",
     "text": [
      "Files for N=74, Sample=1 already exist. Skipping.\n",
      "Files for N=74, Sample=2 already exist. Skipping.\n",
      "Files for N=74, Sample=3 already exist. Skipping.\n"
     ]
    },
    {
     "name": "stderr",
     "output_type": "stream",
     "text": [
      "\n",
      "Samples for N = 75:   0%|          | 0/3 [00:00<?, ?it/s]\u001b[A\n",
      "                                                         \u001b[A"
     ]
    },
    {
     "name": "stdout",
     "output_type": "stream",
     "text": [
      "Files for N=75, Sample=1 already exist. Skipping.\n",
      "Files for N=75, Sample=2 already exist. Skipping.\n",
      "Files for N=75, Sample=3 already exist. Skipping.\n"
     ]
    },
    {
     "name": "stderr",
     "output_type": "stream",
     "text": [
      "\n",
      "Samples for N = 76:   0%|          | 0/3 [00:00<?, ?it/s]\u001b[A\n",
      "                                                         \u001b[A"
     ]
    },
    {
     "name": "stdout",
     "output_type": "stream",
     "text": [
      "Files for N=76, Sample=1 already exist. Skipping.\n",
      "Files for N=76, Sample=2 already exist. Skipping.\n",
      "Files for N=76, Sample=3 already exist. Skipping.\n"
     ]
    },
    {
     "name": "stderr",
     "output_type": "stream",
     "text": [
      "\n",
      "Samples for N = 77:   0%|          | 0/3 [00:00<?, ?it/s]\u001b[A\n",
      "                                                         \u001b[A"
     ]
    },
    {
     "name": "stdout",
     "output_type": "stream",
     "text": [
      "Files for N=77, Sample=1 already exist. Skipping.\n",
      "Files for N=77, Sample=2 already exist. Skipping.\n",
      "Files for N=77, Sample=3 already exist. Skipping.\n"
     ]
    },
    {
     "name": "stderr",
     "output_type": "stream",
     "text": [
      "\n",
      "Samples for N = 78:   0%|          | 0/3 [00:00<?, ?it/s]\u001b[A\n",
      "                                                         \u001b[A"
     ]
    },
    {
     "name": "stdout",
     "output_type": "stream",
     "text": [
      "Files for N=78, Sample=1 already exist. Skipping.\n",
      "Files for N=78, Sample=2 already exist. Skipping.\n",
      "Files for N=78, Sample=3 already exist. Skipping.\n"
     ]
    },
    {
     "name": "stderr",
     "output_type": "stream",
     "text": [
      "\n",
      "Samples for N = 79:   0%|          | 0/3 [00:00<?, ?it/s]\u001b[A\n",
      "                                                         \u001b[A"
     ]
    },
    {
     "name": "stdout",
     "output_type": "stream",
     "text": [
      "Files for N=79, Sample=1 already exist. Skipping.\n",
      "Files for N=79, Sample=2 already exist. Skipping.\n",
      "Files for N=79, Sample=3 already exist. Skipping.\n"
     ]
    },
    {
     "name": "stderr",
     "output_type": "stream",
     "text": [
      "\n",
      "Samples for N = 80:   0%|          | 0/3 [00:00<?, ?it/s]\u001b[A\n",
      "                                                         \u001b[A"
     ]
    },
    {
     "name": "stdout",
     "output_type": "stream",
     "text": [
      "Files for N=80, Sample=1 already exist. Skipping.\n",
      "Files for N=80, Sample=2 already exist. Skipping.\n",
      "Files for N=80, Sample=3 already exist. Skipping.\n"
     ]
    },
    {
     "name": "stderr",
     "output_type": "stream",
     "text": [
      "\n",
      "Samples for N = 81:   0%|          | 0/3 [00:00<?, ?it/s]\u001b[A\n",
      "                                                         \u001b[A"
     ]
    },
    {
     "name": "stdout",
     "output_type": "stream",
     "text": [
      "Files for N=81, Sample=1 already exist. Skipping.\n",
      "Files for N=81, Sample=2 already exist. Skipping.\n",
      "Files for N=81, Sample=3 already exist. Skipping.\n"
     ]
    },
    {
     "name": "stderr",
     "output_type": "stream",
     "text": [
      "\n",
      "Samples for N = 82:   0%|          | 0/3 [00:00<?, ?it/s]\u001b[A\n",
      "                                                         \u001b[A"
     ]
    },
    {
     "name": "stdout",
     "output_type": "stream",
     "text": [
      "Files for N=82, Sample=1 already exist. Skipping.\n",
      "Files for N=82, Sample=2 already exist. Skipping.\n",
      "Files for N=82, Sample=3 already exist. Skipping.\n"
     ]
    },
    {
     "name": "stderr",
     "output_type": "stream",
     "text": [
      "\n",
      "Samples for N = 83:   0%|          | 0/3 [00:00<?, ?it/s]\u001b[A\n",
      "                                                         \u001b[A"
     ]
    },
    {
     "name": "stdout",
     "output_type": "stream",
     "text": [
      "Files for N=83, Sample=1 already exist. Skipping.\n",
      "Files for N=83, Sample=2 already exist. Skipping.\n",
      "Files for N=83, Sample=3 already exist. Skipping.\n"
     ]
    },
    {
     "name": "stderr",
     "output_type": "stream",
     "text": [
      "\n",
      "Samples for N = 84:   0%|          | 0/3 [00:00<?, ?it/s]\u001b[A\n",
      "                                                         \u001b[A"
     ]
    },
    {
     "name": "stdout",
     "output_type": "stream",
     "text": [
      "Files for N=84, Sample=1 already exist. Skipping.\n",
      "Files for N=84, Sample=2 already exist. Skipping.\n",
      "Files for N=84, Sample=3 already exist. Skipping.\n"
     ]
    },
    {
     "name": "stderr",
     "output_type": "stream",
     "text": [
      "\n",
      "Samples for N = 85:   0%|          | 0/3 [00:00<?, ?it/s]\u001b[A\n",
      "                                                         \u001b[A"
     ]
    },
    {
     "name": "stdout",
     "output_type": "stream",
     "text": [
      "Files for N=85, Sample=1 already exist. Skipping.\n",
      "Files for N=85, Sample=2 already exist. Skipping.\n",
      "Files for N=85, Sample=3 already exist. Skipping.\n"
     ]
    },
    {
     "name": "stderr",
     "output_type": "stream",
     "text": [
      "\n",
      "Samples for N = 86:   0%|          | 0/3 [00:00<?, ?it/s]\u001b[A\n",
      "                                                         \u001b[A"
     ]
    },
    {
     "name": "stdout",
     "output_type": "stream",
     "text": [
      "Files for N=86, Sample=1 already exist. Skipping.\n",
      "Files for N=86, Sample=2 already exist. Skipping.\n",
      "Files for N=86, Sample=3 already exist. Skipping.\n"
     ]
    },
    {
     "name": "stderr",
     "output_type": "stream",
     "text": [
      "\n",
      "Samples for N = 87:   0%|          | 0/3 [00:00<?, ?it/s]\u001b[A\n",
      "                                                         \u001b[A"
     ]
    },
    {
     "name": "stdout",
     "output_type": "stream",
     "text": [
      "Files for N=87, Sample=1 already exist. Skipping.\n",
      "Files for N=87, Sample=2 already exist. Skipping.\n",
      "Files for N=87, Sample=3 already exist. Skipping.\n"
     ]
    },
    {
     "name": "stderr",
     "output_type": "stream",
     "text": [
      "\n",
      "Samples for N = 88:   0%|          | 0/3 [00:00<?, ?it/s]\u001b[A\n",
      "                                                         \u001b[A"
     ]
    },
    {
     "name": "stdout",
     "output_type": "stream",
     "text": [
      "Files for N=88, Sample=1 already exist. Skipping.\n",
      "Files for N=88, Sample=2 already exist. Skipping.\n",
      "Files for N=88, Sample=3 already exist. Skipping.\n"
     ]
    },
    {
     "name": "stderr",
     "output_type": "stream",
     "text": [
      "\n",
      "Samples for N = 89:   0%|          | 0/3 [00:00<?, ?it/s]\u001b[A\n",
      "                                                         \u001b[A"
     ]
    },
    {
     "name": "stdout",
     "output_type": "stream",
     "text": [
      "Files for N=89, Sample=1 already exist. Skipping.\n",
      "Files for N=89, Sample=2 already exist. Skipping.\n",
      "Files for N=89, Sample=3 already exist. Skipping.\n"
     ]
    },
    {
     "name": "stderr",
     "output_type": "stream",
     "text": [
      "\n",
      "Samples for N = 90:   0%|          | 0/3 [00:00<?, ?it/s]\u001b[A\n",
      "                                                         \u001b[A"
     ]
    },
    {
     "name": "stdout",
     "output_type": "stream",
     "text": [
      "Files for N=90, Sample=1 already exist. Skipping.\n",
      "Files for N=90, Sample=2 already exist. Skipping.\n",
      "Files for N=90, Sample=3 already exist. Skipping.\n"
     ]
    },
    {
     "name": "stderr",
     "output_type": "stream",
     "text": [
      "\n",
      "Samples for N = 91:   0%|          | 0/3 [00:00<?, ?it/s]\u001b[A\n",
      "                                                         \u001b[A"
     ]
    },
    {
     "name": "stdout",
     "output_type": "stream",
     "text": [
      "Files for N=91, Sample=1 already exist. Skipping.\n",
      "Files for N=91, Sample=2 already exist. Skipping.\n",
      "Files for N=91, Sample=3 already exist. Skipping.\n"
     ]
    },
    {
     "name": "stderr",
     "output_type": "stream",
     "text": [
      "\n",
      "Samples for N = 92:   0%|          | 0/3 [00:00<?, ?it/s]\u001b[A\n"
     ]
    },
    {
     "name": "stdout",
     "output_type": "stream",
     "text": [
      "Files for N=92, Sample=1 already exist. Skipping.\n",
      "Files for N=92, Sample=2 already exist. Skipping.\n",
      "Files for N=92, Sample=3 already exist. Skipping.\n"
     ]
    },
    {
     "name": "stderr",
     "output_type": "stream",
     "text": [
      "                                                         \u001b[A\n",
      "Samples for N = 93:   0%|          | 0/3 [00:00<?, ?it/s]\u001b[A\n",
      "                                                         \u001b[A"
     ]
    },
    {
     "name": "stdout",
     "output_type": "stream",
     "text": [
      "Files for N=93, Sample=1 already exist. Skipping.\n",
      "Files for N=93, Sample=2 already exist. Skipping.\n",
      "Files for N=93, Sample=3 already exist. Skipping.\n"
     ]
    },
    {
     "name": "stderr",
     "output_type": "stream",
     "text": [
      "\n",
      "Samples for N = 94:   0%|          | 0/3 [00:00<?, ?it/s]\u001b[A\n",
      "NPQWAK 497:3->499:  19%|█▊        | 92/497 [00:00<00:01, 219.71it/s]"
     ]
    },
    {
     "name": "stdout",
     "output_type": "stream",
     "text": [
      "Files for N=94, Sample=1 already exist. Skipping.\n",
      "Files for N=94, Sample=2 already exist. Skipping.\n",
      "Files for N=94, Sample=3 already exist. Skipping.\n"
     ]
    },
    {
     "name": "stderr",
     "output_type": "stream",
     "text": [
      "\n",
      "Samples for N = 95:   0%|          | 0/3 [00:00<?, ?it/s]\u001b[A\n",
      "                                                         \u001b[A"
     ]
    },
    {
     "name": "stdout",
     "output_type": "stream",
     "text": [
      "Files for N=95, Sample=1 already exist. Skipping.\n",
      "Files for N=95, Sample=2 already exist. Skipping.\n",
      "Files for N=95, Sample=3 already exist. Skipping.\n"
     ]
    },
    {
     "name": "stderr",
     "output_type": "stream",
     "text": [
      "\n",
      "Samples for N = 96:   0%|          | 0/3 [00:00<?, ?it/s]\u001b[A\n",
      "                                                         \u001b[A"
     ]
    },
    {
     "name": "stdout",
     "output_type": "stream",
     "text": [
      "Files for N=96, Sample=1 already exist. Skipping.\n",
      "Files for N=96, Sample=2 already exist. Skipping.\n",
      "Files for N=96, Sample=3 already exist. Skipping.\n"
     ]
    },
    {
     "name": "stderr",
     "output_type": "stream",
     "text": [
      "\n",
      "Samples for N = 97:   0%|          | 0/3 [00:00<?, ?it/s]\u001b[A\n",
      "                                                         \u001b[A"
     ]
    },
    {
     "name": "stdout",
     "output_type": "stream",
     "text": [
      "Files for N=97, Sample=1 already exist. Skipping.\n",
      "Files for N=97, Sample=2 already exist. Skipping.\n",
      "Files for N=97, Sample=3 already exist. Skipping.\n"
     ]
    },
    {
     "name": "stderr",
     "output_type": "stream",
     "text": [
      "\n",
      "Samples for N = 98:   0%|          | 0/3 [00:00<?, ?it/s]\u001b[A\n",
      "                                                         \u001b[A"
     ]
    },
    {
     "name": "stdout",
     "output_type": "stream",
     "text": [
      "Files for N=98, Sample=1 already exist. Skipping.\n",
      "Files for N=98, Sample=2 already exist. Skipping.\n",
      "Files for N=98, Sample=3 already exist. Skipping.\n"
     ]
    },
    {
     "name": "stderr",
     "output_type": "stream",
     "text": [
      "\n",
      "Samples for N = 99:   0%|          | 0/3 [00:00<?, ?it/s]\u001b[A"
     ]
    },
    {
     "name": "stdout",
     "output_type": "stream",
     "text": [
      "Files for N=99, Sample=1 already exist. Skipping.\n"
     ]
    },
    {
     "name": "stderr",
     "output_type": "stream",
     "text": [
      "\n",
      "                                                         \u001b[A"
     ]
    },
    {
     "name": "stdout",
     "output_type": "stream",
     "text": [
      "Files for N=99, Sample=2 already exist. Skipping.\n",
      "Files for N=99, Sample=3 already exist. Skipping.\n"
     ]
    },
    {
     "name": "stderr",
     "output_type": "stream",
     "text": [
      "\n",
      "Samples for N = 100:   0%|          | 0/3 [00:00<?, ?it/s]\u001b[A\n",
      "                                                          \u001b[A"
     ]
    },
    {
     "name": "stdout",
     "output_type": "stream",
     "text": [
      "Files for N=100, Sample=1 already exist. Skipping.\n",
      "Files for N=100, Sample=2 already exist. Skipping.\n",
      "Files for N=100, Sample=3 already exist. Skipping.\n"
     ]
    },
    {
     "name": "stderr",
     "output_type": "stream",
     "text": [
      "\n",
      "Samples for N = 101:   0%|          | 0/3 [00:00<?, ?it/s]\u001b[A\n",
      "                                                          \u001b[A"
     ]
    },
    {
     "name": "stdout",
     "output_type": "stream",
     "text": [
      "Files for N=101, Sample=1 already exist. Skipping.\n",
      "Files for N=101, Sample=2 already exist. Skipping.\n",
      "Files for N=101, Sample=3 already exist. Skipping.\n"
     ]
    },
    {
     "name": "stderr",
     "output_type": "stream",
     "text": [
      "\n",
      "Samples for N = 102:   0%|          | 0/3 [00:00<?, ?it/s]\u001b[A\n",
      "                                                          \u001b[A"
     ]
    },
    {
     "name": "stdout",
     "output_type": "stream",
     "text": [
      "Files for N=102, Sample=1 already exist. Skipping.\n",
      "Files for N=102, Sample=2 already exist. Skipping.\n",
      "Files for N=102, Sample=3 already exist. Skipping.\n"
     ]
    },
    {
     "name": "stderr",
     "output_type": "stream",
     "text": [
      "\n",
      "Samples for N = 103:   0%|          | 0/3 [00:00<?, ?it/s]\u001b[A\n",
      "                                                          \u001b[A"
     ]
    },
    {
     "name": "stdout",
     "output_type": "stream",
     "text": [
      "Files for N=103, Sample=1 already exist. Skipping.\n",
      "Files for N=103, Sample=2 already exist. Skipping.\n",
      "Files for N=103, Sample=3 already exist. Skipping.\n"
     ]
    },
    {
     "name": "stderr",
     "output_type": "stream",
     "text": [
      "\n",
      "Samples for N = 104:   0%|          | 0/3 [00:00<?, ?it/s]\u001b[A\n",
      "                                                          \u001b[A"
     ]
    },
    {
     "name": "stdout",
     "output_type": "stream",
     "text": [
      "Files for N=104, Sample=1 already exist. Skipping.\n",
      "Files for N=104, Sample=2 already exist. Skipping.\n",
      "Files for N=104, Sample=3 already exist. Skipping.\n"
     ]
    },
    {
     "name": "stderr",
     "output_type": "stream",
     "text": [
      "\n",
      "Samples for N = 105:   0%|          | 0/3 [00:00<?, ?it/s]\u001b[A\n",
      "                                                          \u001b[A"
     ]
    },
    {
     "name": "stdout",
     "output_type": "stream",
     "text": [
      "Files for N=105, Sample=1 already exist. Skipping.\n",
      "Files for N=105, Sample=2 already exist. Skipping.\n",
      "Files for N=105, Sample=3 already exist. Skipping.\n"
     ]
    },
    {
     "name": "stderr",
     "output_type": "stream",
     "text": [
      "\n",
      "Samples for N = 106:   0%|          | 0/3 [00:00<?, ?it/s]\u001b[A"
     ]
    },
    {
     "name": "stdout",
     "output_type": "stream",
     "text": [
      "Files for N=106, Sample=1 already exist. Skipping.\n"
     ]
    },
    {
     "name": "stderr",
     "output_type": "stream",
     "text": [
      "\n",
      "                                                          \u001b[A"
     ]
    },
    {
     "name": "stdout",
     "output_type": "stream",
     "text": [
      "Files for N=106, Sample=2 already exist. Skipping.\n",
      "Files for N=106, Sample=3 already exist. Skipping.\n"
     ]
    },
    {
     "name": "stderr",
     "output_type": "stream",
     "text": [
      "\n",
      "Samples for N = 107:   0%|          | 0/3 [00:00<?, ?it/s]\u001b[A\n",
      "                                                          \u001b[A"
     ]
    },
    {
     "name": "stdout",
     "output_type": "stream",
     "text": [
      "Files for N=107, Sample=1 already exist. Skipping.\n",
      "Files for N=107, Sample=2 already exist. Skipping.\n",
      "Files for N=107, Sample=3 already exist. Skipping.\n"
     ]
    },
    {
     "name": "stderr",
     "output_type": "stream",
     "text": [
      "\n",
      "Samples for N = 108:   0%|          | 0/3 [00:00<?, ?it/s]\u001b[A\n",
      "                                                          \u001b[A"
     ]
    },
    {
     "name": "stdout",
     "output_type": "stream",
     "text": [
      "Files for N=108, Sample=1 already exist. Skipping.\n",
      "Files for N=108, Sample=2 already exist. Skipping.\n",
      "Files for N=108, Sample=3 already exist. Skipping.\n"
     ]
    },
    {
     "name": "stderr",
     "output_type": "stream",
     "text": [
      "\n",
      "Samples for N = 109:   0%|          | 0/3 [00:00<?, ?it/s]\u001b[A\n",
      "                                                          \u001b[A"
     ]
    },
    {
     "name": "stdout",
     "output_type": "stream",
     "text": [
      "Files for N=109, Sample=1 already exist. Skipping.\n",
      "Files for N=109, Sample=2 already exist. Skipping.\n",
      "Files for N=109, Sample=3 already exist. Skipping.\n"
     ]
    },
    {
     "name": "stderr",
     "output_type": "stream",
     "text": [
      "\n",
      "Samples for N = 110:   0%|          | 0/3 [00:00<?, ?it/s]\u001b[A\n",
      "                                                          \u001b[A"
     ]
    },
    {
     "name": "stdout",
     "output_type": "stream",
     "text": [
      "Files for N=110, Sample=1 already exist. Skipping.\n",
      "Files for N=110, Sample=2 already exist. Skipping.\n",
      "Files for N=110, Sample=3 already exist. Skipping.\n"
     ]
    },
    {
     "name": "stderr",
     "output_type": "stream",
     "text": [
      "\n",
      "Samples for N = 111:   0%|          | 0/3 [00:00<?, ?it/s]\u001b[A\n",
      "                                                          \u001b[A"
     ]
    },
    {
     "name": "stdout",
     "output_type": "stream",
     "text": [
      "Files for N=111, Sample=1 already exist. Skipping.\n",
      "Files for N=111, Sample=2 already exist. Skipping.\n",
      "Files for N=111, Sample=3 already exist. Skipping.\n"
     ]
    },
    {
     "name": "stderr",
     "output_type": "stream",
     "text": [
      "\n",
      "Samples for N = 112:   0%|          | 0/3 [00:00<?, ?it/s]\u001b[A\n",
      "                                                          \u001b[A"
     ]
    },
    {
     "name": "stdout",
     "output_type": "stream",
     "text": [
      "Files for N=112, Sample=1 already exist. Skipping.\n",
      "Files for N=112, Sample=2 already exist. Skipping.\n",
      "Files for N=112, Sample=3 already exist. Skipping.\n"
     ]
    },
    {
     "name": "stderr",
     "output_type": "stream",
     "text": [
      "\n",
      "Samples for N = 113:   0%|          | 0/3 [00:00<?, ?it/s]\u001b[A\n",
      "                                                          \u001b[A"
     ]
    },
    {
     "name": "stdout",
     "output_type": "stream",
     "text": [
      "Files for N=113, Sample=1 already exist. Skipping.\n",
      "Files for N=113, Sample=2 already exist. Skipping.\n",
      "Files for N=113, Sample=3 already exist. Skipping.\n"
     ]
    },
    {
     "name": "stderr",
     "output_type": "stream",
     "text": [
      "\n",
      "Samples for N = 114:   0%|          | 0/3 [00:00<?, ?it/s]\u001b[A\n",
      "                                                          \u001b[A"
     ]
    },
    {
     "name": "stdout",
     "output_type": "stream",
     "text": [
      "Files for N=114, Sample=1 already exist. Skipping.\n",
      "Files for N=114, Sample=2 already exist. Skipping.\n",
      "Files for N=114, Sample=3 already exist. Skipping.\n"
     ]
    },
    {
     "name": "stderr",
     "output_type": "stream",
     "text": [
      "\n",
      "Samples for N = 115:   0%|          | 0/3 [00:00<?, ?it/s]\u001b[A\n",
      "                                                          \u001b[A"
     ]
    },
    {
     "name": "stdout",
     "output_type": "stream",
     "text": [
      "Files for N=115, Sample=1 already exist. Skipping.\n",
      "Files for N=115, Sample=2 already exist. Skipping.\n",
      "Files for N=115, Sample=3 already exist. Skipping.\n"
     ]
    },
    {
     "name": "stderr",
     "output_type": "stream",
     "text": [
      "\n",
      "Samples for N = 116:   0%|          | 0/3 [00:00<?, ?it/s]\u001b[A\n",
      "NPQWAK 497:3->499:  23%|██▎       | 114/497 [00:00<00:01, 217.53it/s]"
     ]
    },
    {
     "name": "stdout",
     "output_type": "stream",
     "text": [
      "Files for N=116, Sample=1 already exist. Skipping.\n",
      "Files for N=116, Sample=2 already exist. Skipping.\n",
      "Files for N=116, Sample=3 already exist. Skipping.\n"
     ]
    },
    {
     "name": "stderr",
     "output_type": "stream",
     "text": [
      "\n",
      "Samples for N = 117:   0%|          | 0/3 [00:00<?, ?it/s]\u001b[A\n",
      "                                                          \u001b[A"
     ]
    },
    {
     "name": "stdout",
     "output_type": "stream",
     "text": [
      "Files for N=117, Sample=1 already exist. Skipping.\n",
      "Files for N=117, Sample=2 already exist. Skipping.\n",
      "Files for N=117, Sample=3 already exist. Skipping.\n"
     ]
    },
    {
     "name": "stderr",
     "output_type": "stream",
     "text": [
      "\n",
      "Samples for N = 118:   0%|          | 0/3 [00:00<?, ?it/s]\u001b[A\n",
      "                                                          \u001b[A"
     ]
    },
    {
     "name": "stdout",
     "output_type": "stream",
     "text": [
      "Files for N=118, Sample=1 already exist. Skipping.\n",
      "Files for N=118, Sample=2 already exist. Skipping.\n",
      "Files for N=118, Sample=3 already exist. Skipping.\n"
     ]
    },
    {
     "name": "stderr",
     "output_type": "stream",
     "text": [
      "\n",
      "Samples for N = 119:   0%|          | 0/3 [00:00<?, ?it/s]\u001b[A\n",
      "                                                          \u001b[A"
     ]
    },
    {
     "name": "stdout",
     "output_type": "stream",
     "text": [
      "Files for N=119, Sample=1 already exist. Skipping.\n",
      "Files for N=119, Sample=2 already exist. Skipping.\n",
      "Files for N=119, Sample=3 already exist. Skipping.\n"
     ]
    },
    {
     "name": "stderr",
     "output_type": "stream",
     "text": [
      "\n",
      "Samples for N = 120:   0%|          | 0/3 [00:00<?, ?it/s]\u001b[A\n",
      "                                                          \u001b[A"
     ]
    },
    {
     "name": "stdout",
     "output_type": "stream",
     "text": [
      "Files for N=120, Sample=1 already exist. Skipping.\n",
      "Files for N=120, Sample=2 already exist. Skipping.\n",
      "Files for N=120, Sample=3 already exist. Skipping.\n"
     ]
    },
    {
     "name": "stderr",
     "output_type": "stream",
     "text": [
      "\n",
      "Samples for N = 121:   0%|          | 0/3 [00:00<?, ?it/s]\u001b[A\n",
      "                                                          \u001b[A"
     ]
    },
    {
     "name": "stdout",
     "output_type": "stream",
     "text": [
      "Files for N=121, Sample=1 already exist. Skipping.\n",
      "Files for N=121, Sample=2 already exist. Skipping.\n",
      "Files for N=121, Sample=3 already exist. Skipping.\n"
     ]
    },
    {
     "name": "stderr",
     "output_type": "stream",
     "text": [
      "\n",
      "Samples for N = 122:   0%|          | 0/3 [00:00<?, ?it/s]\u001b[A\n",
      "                                                          \u001b[A"
     ]
    },
    {
     "name": "stdout",
     "output_type": "stream",
     "text": [
      "Files for N=122, Sample=1 already exist. Skipping.\n",
      "Files for N=122, Sample=2 already exist. Skipping.\n",
      "Files for N=122, Sample=3 already exist. Skipping.\n"
     ]
    },
    {
     "name": "stderr",
     "output_type": "stream",
     "text": [
      "\n",
      "Samples for N = 123:   0%|          | 0/3 [00:00<?, ?it/s]\u001b[A\n",
      "                                                          \u001b[A"
     ]
    },
    {
     "name": "stdout",
     "output_type": "stream",
     "text": [
      "Files for N=123, Sample=1 already exist. Skipping.\n",
      "Files for N=123, Sample=2 already exist. Skipping.\n",
      "Files for N=123, Sample=3 already exist. Skipping.\n"
     ]
    },
    {
     "name": "stderr",
     "output_type": "stream",
     "text": [
      "\n",
      "Samples for N = 124:   0%|          | 0/3 [00:00<?, ?it/s]\u001b[A\n",
      "                                                          \u001b[A"
     ]
    },
    {
     "name": "stdout",
     "output_type": "stream",
     "text": [
      "Files for N=124, Sample=1 already exist. Skipping.\n",
      "Files for N=124, Sample=2 already exist. Skipping.\n",
      "Files for N=124, Sample=3 already exist. Skipping.\n"
     ]
    },
    {
     "name": "stderr",
     "output_type": "stream",
     "text": [
      "\n",
      "Samples for N = 125:   0%|          | 0/3 [00:00<?, ?it/s]\u001b[A\n",
      "                                                          \u001b[A"
     ]
    },
    {
     "name": "stdout",
     "output_type": "stream",
     "text": [
      "Files for N=125, Sample=1 already exist. Skipping.\n",
      "Files for N=125, Sample=2 already exist. Skipping.\n",
      "Files for N=125, Sample=3 already exist. Skipping.\n"
     ]
    },
    {
     "name": "stderr",
     "output_type": "stream",
     "text": [
      "\n",
      "Samples for N = 126:   0%|          | 0/3 [00:00<?, ?it/s]\u001b[A\n",
      "                                                          \u001b[A"
     ]
    },
    {
     "name": "stdout",
     "output_type": "stream",
     "text": [
      "Files for N=126, Sample=1 already exist. Skipping.\n",
      "Files for N=126, Sample=2 already exist. Skipping.\n",
      "Files for N=126, Sample=3 already exist. Skipping.\n"
     ]
    },
    {
     "name": "stderr",
     "output_type": "stream",
     "text": [
      "\n",
      "Samples for N = 127:   0%|          | 0/3 [00:00<?, ?it/s]\u001b[A\n",
      "                                                          \u001b[A"
     ]
    },
    {
     "name": "stdout",
     "output_type": "stream",
     "text": [
      "Files for N=127, Sample=1 already exist. Skipping.\n",
      "Files for N=127, Sample=2 already exist. Skipping.\n",
      "Files for N=127, Sample=3 already exist. Skipping.\n"
     ]
    },
    {
     "name": "stderr",
     "output_type": "stream",
     "text": [
      "\n",
      "Samples for N = 128:   0%|          | 0/3 [00:00<?, ?it/s]\u001b[A\n",
      "                                                          \u001b[A"
     ]
    },
    {
     "name": "stdout",
     "output_type": "stream",
     "text": [
      "Files for N=128, Sample=1 already exist. Skipping.\n",
      "Files for N=128, Sample=2 already exist. Skipping.\n",
      "Files for N=128, Sample=3 already exist. Skipping.\n"
     ]
    },
    {
     "name": "stderr",
     "output_type": "stream",
     "text": [
      "\n",
      "Samples for N = 129:   0%|          | 0/3 [00:00<?, ?it/s]\u001b[A\n"
     ]
    },
    {
     "name": "stdout",
     "output_type": "stream",
     "text": [
      "Files for N=129, Sample=1 already exist. Skipping.\n",
      "Files for N=129, Sample=2 already exist. Skipping.\n",
      "Files for N=129, Sample=3 already exist. Skipping.\n"
     ]
    },
    {
     "name": "stderr",
     "output_type": "stream",
     "text": [
      "                                                          \u001b[A\n",
      "Samples for N = 130:   0%|          | 0/3 [00:00<?, ?it/s]\u001b[A\n",
      "                                                          \u001b[A"
     ]
    },
    {
     "name": "stdout",
     "output_type": "stream",
     "text": [
      "Files for N=130, Sample=1 already exist. Skipping.\n",
      "Files for N=130, Sample=2 already exist. Skipping.\n",
      "Files for N=130, Sample=3 already exist. Skipping.\n"
     ]
    },
    {
     "name": "stderr",
     "output_type": "stream",
     "text": [
      "\n",
      "Samples for N = 131:   0%|          | 0/3 [00:00<?, ?it/s]\u001b[A\n",
      "                                                          \u001b[A"
     ]
    },
    {
     "name": "stdout",
     "output_type": "stream",
     "text": [
      "Files for N=131, Sample=1 already exist. Skipping.\n",
      "Files for N=131, Sample=2 already exist. Skipping.\n",
      "Files for N=131, Sample=3 already exist. Skipping.\n"
     ]
    },
    {
     "name": "stderr",
     "output_type": "stream",
     "text": [
      "\n",
      "Samples for N = 132:   0%|          | 0/3 [00:00<?, ?it/s]\u001b[A\n",
      "                                                          \u001b[A"
     ]
    },
    {
     "name": "stdout",
     "output_type": "stream",
     "text": [
      "Files for N=132, Sample=1 already exist. Skipping.\n",
      "Files for N=132, Sample=2 already exist. Skipping.\n",
      "Files for N=132, Sample=3 already exist. Skipping.\n"
     ]
    },
    {
     "name": "stderr",
     "output_type": "stream",
     "text": [
      "\n",
      "Samples for N = 133:   0%|          | 0/3 [00:00<?, ?it/s]\u001b[A\n",
      "                                                          \u001b[A"
     ]
    },
    {
     "name": "stdout",
     "output_type": "stream",
     "text": [
      "Files for N=133, Sample=1 already exist. Skipping.\n",
      "Files for N=133, Sample=2 already exist. Skipping.\n",
      "Files for N=133, Sample=3 already exist. Skipping.\n"
     ]
    },
    {
     "name": "stderr",
     "output_type": "stream",
     "text": [
      "\n",
      "Samples for N = 134:   0%|          | 0/3 [00:00<?, ?it/s]\u001b[A\n",
      "                                                          \u001b[A"
     ]
    },
    {
     "name": "stdout",
     "output_type": "stream",
     "text": [
      "Files for N=134, Sample=1 already exist. Skipping.\n",
      "Files for N=134, Sample=2 already exist. Skipping.\n",
      "Files for N=134, Sample=3 already exist. Skipping.\n"
     ]
    },
    {
     "name": "stderr",
     "output_type": "stream",
     "text": [
      "\n",
      "Samples for N = 135:   0%|          | 0/3 [00:00<?, ?it/s]\u001b[A\n",
      "                                                          \u001b[A"
     ]
    },
    {
     "name": "stdout",
     "output_type": "stream",
     "text": [
      "Files for N=135, Sample=1 already exist. Skipping.\n",
      "Files for N=135, Sample=2 already exist. Skipping.\n",
      "Files for N=135, Sample=3 already exist. Skipping.\n"
     ]
    },
    {
     "name": "stderr",
     "output_type": "stream",
     "text": [
      "\n",
      "Samples for N = 136:   0%|          | 0/3 [00:00<?, ?it/s]\u001b[A\n",
      "                                                          \u001b[A"
     ]
    },
    {
     "name": "stdout",
     "output_type": "stream",
     "text": [
      "Files for N=136, Sample=1 already exist. Skipping.\n",
      "Files for N=136, Sample=2 already exist. Skipping.\n",
      "Files for N=136, Sample=3 already exist. Skipping.\n"
     ]
    },
    {
     "name": "stderr",
     "output_type": "stream",
     "text": [
      "\n",
      "Samples for N = 137:   0%|          | 0/3 [00:00<?, ?it/s]\u001b[A\n",
      "                                                          \u001b[A"
     ]
    },
    {
     "name": "stdout",
     "output_type": "stream",
     "text": [
      "Files for N=137, Sample=1 already exist. Skipping.\n",
      "Files for N=137, Sample=2 already exist. Skipping.\n",
      "Files for N=137, Sample=3 already exist. Skipping.\n"
     ]
    },
    {
     "name": "stderr",
     "output_type": "stream",
     "text": [
      "\n",
      "Samples for N = 138:   0%|          | 0/3 [00:00<?, ?it/s]\u001b[A\n",
      "                                                          \u001b[A"
     ]
    },
    {
     "name": "stdout",
     "output_type": "stream",
     "text": [
      "Files for N=138, Sample=1 already exist. Skipping.\n",
      "Files for N=138, Sample=2 already exist. Skipping.\n",
      "Files for N=138, Sample=3 already exist. Skipping.\n"
     ]
    },
    {
     "name": "stderr",
     "output_type": "stream",
     "text": [
      "\n",
      "Samples for N = 139:   0%|          | 0/3 [00:00<?, ?it/s]\u001b[A\n",
      "NPQWAK 497:3->499:  28%|██▊       | 137/497 [00:00<00:01, 219.22it/s]"
     ]
    },
    {
     "name": "stdout",
     "output_type": "stream",
     "text": [
      "Files for N=139, Sample=1 already exist. Skipping.\n",
      "Files for N=139, Sample=2 already exist. Skipping.\n",
      "Files for N=139, Sample=3 already exist. Skipping.\n"
     ]
    },
    {
     "name": "stderr",
     "output_type": "stream",
     "text": [
      "\n",
      "Samples for N = 140:   0%|          | 0/3 [00:00<?, ?it/s]\u001b[A\n",
      "                                                          \u001b[A"
     ]
    },
    {
     "name": "stdout",
     "output_type": "stream",
     "text": [
      "Files for N=140, Sample=1 already exist. Skipping.\n",
      "Files for N=140, Sample=2 already exist. Skipping.\n",
      "Files for N=140, Sample=3 already exist. Skipping.\n"
     ]
    },
    {
     "name": "stderr",
     "output_type": "stream",
     "text": [
      "\n",
      "Samples for N = 141:   0%|          | 0/3 [00:00<?, ?it/s]\u001b[A\n",
      "                                                          \u001b[A"
     ]
    },
    {
     "name": "stdout",
     "output_type": "stream",
     "text": [
      "Files for N=141, Sample=1 already exist. Skipping.\n",
      "Files for N=141, Sample=2 already exist. Skipping.\n",
      "Files for N=141, Sample=3 already exist. Skipping.\n"
     ]
    },
    {
     "name": "stderr",
     "output_type": "stream",
     "text": [
      "\n",
      "Samples for N = 142:   0%|          | 0/3 [00:00<?, ?it/s]\u001b[A\n",
      "                                                          \u001b[A"
     ]
    },
    {
     "name": "stdout",
     "output_type": "stream",
     "text": [
      "Files for N=142, Sample=1 already exist. Skipping.\n",
      "Files for N=142, Sample=2 already exist. Skipping.\n",
      "Files for N=142, Sample=3 already exist. Skipping.\n"
     ]
    },
    {
     "name": "stderr",
     "output_type": "stream",
     "text": [
      "\n",
      "Samples for N = 143:   0%|          | 0/3 [00:00<?, ?it/s]\u001b[A\n",
      "                                                          "
     ]
    },
    {
     "name": "stdout",
     "output_type": "stream",
     "text": [
      "Files for N=143, Sample=1 already exist. Skipping.\n",
      "Files for N=143, Sample=2 already exist. Skipping.\n",
      "Files for N=143, Sample=3 already exist. Skipping.\n"
     ]
    },
    {
     "name": "stderr",
     "output_type": "stream",
     "text": [
      "\u001b[A\n",
      "Samples for N = 144:   0%|          | 0/3 [00:00<?, ?it/s]\u001b[A\n",
      "                                                          \u001b[A"
     ]
    },
    {
     "name": "stdout",
     "output_type": "stream",
     "text": [
      "Files for N=144, Sample=1 already exist. Skipping.\n",
      "Files for N=144, Sample=2 already exist. Skipping.\n",
      "Files for N=144, Sample=3 already exist. Skipping.\n"
     ]
    },
    {
     "name": "stderr",
     "output_type": "stream",
     "text": [
      "\n",
      "Samples for N = 145:   0%|          | 0/3 [00:00<?, ?it/s]\u001b[A\n",
      "                                                          \u001b[A"
     ]
    },
    {
     "name": "stdout",
     "output_type": "stream",
     "text": [
      "Files for N=145, Sample=1 already exist. Skipping.\n",
      "Files for N=145, Sample=2 already exist. Skipping.\n",
      "Files for N=145, Sample=3 already exist. Skipping.\n"
     ]
    },
    {
     "name": "stderr",
     "output_type": "stream",
     "text": [
      "\n",
      "Samples for N = 146:   0%|          | 0/3 [00:00<?, ?it/s]\u001b[A\n",
      "                                                          \u001b[A"
     ]
    },
    {
     "name": "stdout",
     "output_type": "stream",
     "text": [
      "Files for N=146, Sample=1 already exist. Skipping.\n",
      "Files for N=146, Sample=2 already exist. Skipping.\n",
      "Files for N=146, Sample=3 already exist. Skipping.\n"
     ]
    },
    {
     "name": "stderr",
     "output_type": "stream",
     "text": [
      "\n",
      "Samples for N = 147:   0%|          | 0/3 [00:00<?, ?it/s]\u001b[A\n",
      "                                                          \u001b[A"
     ]
    },
    {
     "name": "stdout",
     "output_type": "stream",
     "text": [
      "Files for N=147, Sample=1 already exist. Skipping.\n",
      "Files for N=147, Sample=2 already exist. Skipping.\n",
      "Files for N=147, Sample=3 already exist. Skipping.\n"
     ]
    },
    {
     "name": "stderr",
     "output_type": "stream",
     "text": [
      "\n",
      "Samples for N = 148:   0%|          | 0/3 [00:00<?, ?it/s]\u001b[A\n",
      "                                                          \u001b[A"
     ]
    },
    {
     "name": "stdout",
     "output_type": "stream",
     "text": [
      "Files for N=148, Sample=1 already exist. Skipping.\n",
      "Files for N=148, Sample=2 already exist. Skipping.\n",
      "Files for N=148, Sample=3 already exist. Skipping.\n"
     ]
    },
    {
     "name": "stderr",
     "output_type": "stream",
     "text": [
      "\n",
      "Samples for N = 149:   0%|          | 0/3 [00:00<?, ?it/s]\u001b[A\n",
      "                                                          \u001b[A"
     ]
    },
    {
     "name": "stdout",
     "output_type": "stream",
     "text": [
      "Files for N=149, Sample=1 already exist. Skipping.\n",
      "Files for N=149, Sample=2 already exist. Skipping.\n",
      "Files for N=149, Sample=3 already exist. Skipping.\n"
     ]
    },
    {
     "name": "stderr",
     "output_type": "stream",
     "text": [
      "\n",
      "Samples for N = 150:   0%|          | 0/3 [00:00<?, ?it/s]\u001b[A\n",
      "                                                          \u001b[A"
     ]
    },
    {
     "name": "stdout",
     "output_type": "stream",
     "text": [
      "Files for N=150, Sample=1 already exist. Skipping.\n",
      "Files for N=150, Sample=2 already exist. Skipping.\n",
      "Files for N=150, Sample=3 already exist. Skipping.\n"
     ]
    },
    {
     "name": "stderr",
     "output_type": "stream",
     "text": [
      "\n",
      "Samples for N = 151:   0%|          | 0/3 [00:00<?, ?it/s]\u001b[A\n",
      "                                                          \u001b[A"
     ]
    },
    {
     "name": "stdout",
     "output_type": "stream",
     "text": [
      "Files for N=151, Sample=1 already exist. Skipping.\n",
      "Files for N=151, Sample=2 already exist. Skipping.\n",
      "Files for N=151, Sample=3 already exist. Skipping.\n"
     ]
    },
    {
     "name": "stderr",
     "output_type": "stream",
     "text": [
      "\n",
      "Samples for N = 152:   0%|          | 0/3 [00:00<?, ?it/s]\u001b[A\n",
      "                                                          \u001b[A"
     ]
    },
    {
     "name": "stdout",
     "output_type": "stream",
     "text": [
      "Files for N=152, Sample=1 already exist. Skipping.\n",
      "Files for N=152, Sample=2 already exist. Skipping.\n",
      "Files for N=152, Sample=3 already exist. Skipping.\n"
     ]
    },
    {
     "name": "stderr",
     "output_type": "stream",
     "text": [
      "\n",
      "Samples for N = 153:   0%|          | 0/3 [00:00<?, ?it/s]\u001b[A\n",
      "                                                          \u001b[A"
     ]
    },
    {
     "name": "stdout",
     "output_type": "stream",
     "text": [
      "Files for N=153, Sample=1 already exist. Skipping.\n",
      "Files for N=153, Sample=2 already exist. Skipping.\n",
      "Files for N=153, Sample=3 already exist. Skipping.\n"
     ]
    },
    {
     "name": "stderr",
     "output_type": "stream",
     "text": [
      "\n",
      "Samples for N = 154:   0%|          | 0/3 [00:00<?, ?it/s]\u001b[A\n",
      "                                                          \u001b[A"
     ]
    },
    {
     "name": "stdout",
     "output_type": "stream",
     "text": [
      "Files for N=154, Sample=1 already exist. Skipping.\n",
      "Files for N=154, Sample=2 already exist. Skipping.\n",
      "Files for N=154, Sample=3 already exist. Skipping.\n"
     ]
    },
    {
     "name": "stderr",
     "output_type": "stream",
     "text": [
      "\n",
      "Samples for N = 155:   0%|          | 0/3 [00:00<?, ?it/s]\u001b[A\n",
      "                                                          \u001b[A"
     ]
    },
    {
     "name": "stdout",
     "output_type": "stream",
     "text": [
      "Files for N=155, Sample=1 already exist. Skipping.\n",
      "Files for N=155, Sample=2 already exist. Skipping.\n",
      "Files for N=155, Sample=3 already exist. Skipping.\n"
     ]
    },
    {
     "name": "stderr",
     "output_type": "stream",
     "text": [
      "\n",
      "Samples for N = 156:   0%|          | 0/3 [00:00<?, ?it/s]\u001b[A\n",
      "                                                          \u001b[A"
     ]
    },
    {
     "name": "stdout",
     "output_type": "stream",
     "text": [
      "Files for N=156, Sample=1 already exist. Skipping.\n",
      "Files for N=156, Sample=2 already exist. Skipping.\n",
      "Files for N=156, Sample=3 already exist. Skipping.\n"
     ]
    },
    {
     "name": "stderr",
     "output_type": "stream",
     "text": [
      "\n",
      "Samples for N = 157:   0%|          | 0/3 [00:00<?, ?it/s]\u001b[A\n",
      "                                                          "
     ]
    },
    {
     "name": "stdout",
     "output_type": "stream",
     "text": [
      "Files for N=157, Sample=1 already exist. Skipping.\n",
      "Files for N=157, Sample=2 already exist. Skipping.\n",
      "Files for N=157, Sample=3 already exist. Skipping.\n"
     ]
    },
    {
     "name": "stderr",
     "output_type": "stream",
     "text": [
      "\u001b[A\n",
      "Samples for N = 158:   0%|          | 0/3 [00:00<?, ?it/s]\u001b[A\n",
      "                                                          \u001b[A"
     ]
    },
    {
     "name": "stdout",
     "output_type": "stream",
     "text": [
      "Files for N=158, Sample=1 already exist. Skipping.\n",
      "Files for N=158, Sample=2 already exist. Skipping.\n",
      "Files for N=158, Sample=3 already exist. Skipping.\n"
     ]
    },
    {
     "name": "stderr",
     "output_type": "stream",
     "text": [
      "\n",
      "Samples for N = 159:   0%|          | 0/3 [00:00<?, ?it/s]\u001b[A\n",
      "                                                          \u001b[A"
     ]
    },
    {
     "name": "stdout",
     "output_type": "stream",
     "text": [
      "Files for N=159, Sample=1 already exist. Skipping.\n",
      "Files for N=159, Sample=2 already exist. Skipping.\n",
      "Files for N=159, Sample=3 already exist. Skipping.\n"
     ]
    },
    {
     "name": "stderr",
     "output_type": "stream",
     "text": [
      "\n",
      "Samples for N = 160:   0%|          | 0/3 [00:00<?, ?it/s]\u001b[A\n",
      "                                                          \u001b[A"
     ]
    },
    {
     "name": "stdout",
     "output_type": "stream",
     "text": [
      "Files for N=160, Sample=1 already exist. Skipping.\n",
      "Files for N=160, Sample=2 already exist. Skipping.\n",
      "Files for N=160, Sample=3 already exist. Skipping.\n"
     ]
    },
    {
     "name": "stderr",
     "output_type": "stream",
     "text": [
      "\n",
      "Samples for N = 161:   0%|          | 0/3 [00:00<?, ?it/s]\u001b[A\n",
      "                                                          \u001b[A"
     ]
    },
    {
     "name": "stdout",
     "output_type": "stream",
     "text": [
      "Files for N=161, Sample=1 already exist. Skipping.\n",
      "Files for N=161, Sample=2 already exist. Skipping.\n",
      "Files for N=161, Sample=3 already exist. Skipping.\n"
     ]
    },
    {
     "name": "stderr",
     "output_type": "stream",
     "text": [
      "\n",
      "Samples for N = 162:   0%|          | 0/3 [00:00<?, ?it/s]\u001b[A\n",
      "NPQWAK 497:3->499:  32%|███▏      | 160/497 [00:00<00:01, 220.55it/s]"
     ]
    },
    {
     "name": "stdout",
     "output_type": "stream",
     "text": [
      "Files for N=162, Sample=1 already exist. Skipping.\n",
      "Files for N=162, Sample=2 already exist. Skipping.\n",
      "Files for N=162, Sample=3 already exist. Skipping.\n"
     ]
    },
    {
     "name": "stderr",
     "output_type": "stream",
     "text": [
      "\n",
      "Samples for N = 163:   0%|          | 0/3 [00:00<?, ?it/s]\u001b[A\n",
      "                                                          \u001b[A"
     ]
    },
    {
     "name": "stdout",
     "output_type": "stream",
     "text": [
      "Files for N=163, Sample=1 already exist. Skipping.\n",
      "Files for N=163, Sample=2 already exist. Skipping.\n",
      "Files for N=163, Sample=3 already exist. Skipping.\n"
     ]
    },
    {
     "name": "stderr",
     "output_type": "stream",
     "text": [
      "\n",
      "Samples for N = 164:   0%|          | 0/3 [00:00<?, ?it/s]\u001b[A"
     ]
    },
    {
     "name": "stdout",
     "output_type": "stream",
     "text": [
      "Files for N=164, Sample=1 already exist. Skipping.\n"
     ]
    },
    {
     "name": "stderr",
     "output_type": "stream",
     "text": [
      "\n",
      "                                                          \u001b[A"
     ]
    },
    {
     "name": "stdout",
     "output_type": "stream",
     "text": [
      "Files for N=164, Sample=2 already exist. Skipping.\n",
      "Files for N=164, Sample=3 already exist. Skipping.\n"
     ]
    },
    {
     "name": "stderr",
     "output_type": "stream",
     "text": [
      "\n",
      "Samples for N = 165:   0%|          | 0/3 [00:00<?, ?it/s]\u001b[A\n",
      "                                                          \u001b[A"
     ]
    },
    {
     "name": "stdout",
     "output_type": "stream",
     "text": [
      "Files for N=165, Sample=1 already exist. Skipping.\n",
      "Files for N=165, Sample=2 already exist. Skipping.\n",
      "Files for N=165, Sample=3 already exist. Skipping.\n"
     ]
    },
    {
     "name": "stderr",
     "output_type": "stream",
     "text": [
      "\n",
      "Samples for N = 166:   0%|          | 0/3 [00:00<?, ?it/s]\u001b[A\n",
      "                                                          \u001b[A"
     ]
    },
    {
     "name": "stdout",
     "output_type": "stream",
     "text": [
      "Files for N=166, Sample=1 already exist. Skipping.\n",
      "Files for N=166, Sample=2 already exist. Skipping.\n",
      "Files for N=166, Sample=3 already exist. Skipping.\n"
     ]
    },
    {
     "name": "stderr",
     "output_type": "stream",
     "text": [
      "\n",
      "Samples for N = 167:   0%|          | 0/3 [00:00<?, ?it/s]\u001b[A\n",
      "                                                          "
     ]
    },
    {
     "name": "stdout",
     "output_type": "stream",
     "text": [
      "Files for N=167, Sample=1 already exist. Skipping.\n",
      "Files for N=167, Sample=2 already exist. Skipping.\n",
      "Files for N=167, Sample=3 already exist. Skipping.\n"
     ]
    },
    {
     "name": "stderr",
     "output_type": "stream",
     "text": [
      "\u001b[A\n",
      "Samples for N = 168:   0%|          | 0/3 [00:00<?, ?it/s]\u001b[A\n",
      "                                                          \u001b[A"
     ]
    },
    {
     "name": "stdout",
     "output_type": "stream",
     "text": [
      "Files for N=168, Sample=1 already exist. Skipping.\n",
      "Files for N=168, Sample=2 already exist. Skipping.\n",
      "Files for N=168, Sample=3 already exist. Skipping.\n"
     ]
    },
    {
     "name": "stderr",
     "output_type": "stream",
     "text": [
      "\n",
      "Samples for N = 169:   0%|          | 0/3 [00:00<?, ?it/s]\u001b[A\n",
      "                                                          \u001b[A"
     ]
    },
    {
     "name": "stdout",
     "output_type": "stream",
     "text": [
      "Files for N=169, Sample=1 already exist. Skipping.\n",
      "Files for N=169, Sample=2 already exist. Skipping.\n",
      "Files for N=169, Sample=3 already exist. Skipping.\n"
     ]
    },
    {
     "name": "stderr",
     "output_type": "stream",
     "text": [
      "\n",
      "Samples for N = 170:   0%|          | 0/3 [00:00<?, ?it/s]\u001b[A\n",
      "                                                          \u001b[A"
     ]
    },
    {
     "name": "stdout",
     "output_type": "stream",
     "text": [
      "Files for N=170, Sample=1 already exist. Skipping.\n",
      "Files for N=170, Sample=2 already exist. Skipping.\n",
      "Files for N=170, Sample=3 already exist. Skipping.\n"
     ]
    },
    {
     "name": "stderr",
     "output_type": "stream",
     "text": [
      "\n",
      "Samples for N = 171:   0%|          | 0/3 [00:00<?, ?it/s]\u001b[A\n",
      "                                                          \u001b[A"
     ]
    },
    {
     "name": "stdout",
     "output_type": "stream",
     "text": [
      "Files for N=171, Sample=1 already exist. Skipping.\n",
      "Files for N=171, Sample=2 already exist. Skipping.\n",
      "Files for N=171, Sample=3 already exist. Skipping.\n"
     ]
    },
    {
     "name": "stderr",
     "output_type": "stream",
     "text": [
      "\n",
      "Samples for N = 172:   0%|          | 0/3 [00:00<?, ?it/s]\u001b[A\n",
      "                                                          \u001b[A"
     ]
    },
    {
     "name": "stdout",
     "output_type": "stream",
     "text": [
      "Files for N=172, Sample=1 already exist. Skipping.\n",
      "Files for N=172, Sample=2 already exist. Skipping.\n",
      "Files for N=172, Sample=3 already exist. Skipping.\n"
     ]
    },
    {
     "name": "stderr",
     "output_type": "stream",
     "text": [
      "\n",
      "Samples for N = 173:   0%|          | 0/3 [00:00<?, ?it/s]\u001b[A\n",
      "                                                          \u001b[A"
     ]
    },
    {
     "name": "stdout",
     "output_type": "stream",
     "text": [
      "Files for N=173, Sample=1 already exist. Skipping.\n",
      "Files for N=173, Sample=2 already exist. Skipping.\n",
      "Files for N=173, Sample=3 already exist. Skipping.\n"
     ]
    },
    {
     "name": "stderr",
     "output_type": "stream",
     "text": [
      "\n",
      "Samples for N = 174:   0%|          | 0/3 [00:00<?, ?it/s]\u001b[A\n",
      "                                                          \u001b[A"
     ]
    },
    {
     "name": "stdout",
     "output_type": "stream",
     "text": [
      "Files for N=174, Sample=1 already exist. Skipping.\n",
      "Files for N=174, Sample=2 already exist. Skipping.\n",
      "Files for N=174, Sample=3 already exist. Skipping.\n"
     ]
    },
    {
     "name": "stderr",
     "output_type": "stream",
     "text": [
      "\n",
      "Samples for N = 175:   0%|          | 0/3 [00:00<?, ?it/s]\u001b[A\n",
      "                                                          \u001b[A"
     ]
    },
    {
     "name": "stdout",
     "output_type": "stream",
     "text": [
      "Files for N=175, Sample=1 already exist. Skipping.\n",
      "Files for N=175, Sample=2 already exist. Skipping.\n",
      "Files for N=175, Sample=3 already exist. Skipping.\n"
     ]
    },
    {
     "name": "stderr",
     "output_type": "stream",
     "text": [
      "\n",
      "Samples for N = 176:   0%|          | 0/3 [00:00<?, ?it/s]\u001b[A\n",
      "                                                          \u001b[A"
     ]
    },
    {
     "name": "stdout",
     "output_type": "stream",
     "text": [
      "Files for N=176, Sample=1 already exist. Skipping.\n",
      "Files for N=176, Sample=2 already exist. Skipping.\n",
      "Files for N=176, Sample=3 already exist. Skipping.\n"
     ]
    },
    {
     "name": "stderr",
     "output_type": "stream",
     "text": [
      "\n",
      "Samples for N = 177:   0%|          | 0/3 [00:00<?, ?it/s]\u001b[A\n",
      "                                                          \u001b[A"
     ]
    },
    {
     "name": "stdout",
     "output_type": "stream",
     "text": [
      "Files for N=177, Sample=1 already exist. Skipping.\n",
      "Files for N=177, Sample=2 already exist. Skipping.\n",
      "Files for N=177, Sample=3 already exist. Skipping.\n"
     ]
    },
    {
     "name": "stderr",
     "output_type": "stream",
     "text": [
      "\n",
      "Samples for N = 178:   0%|          | 0/3 [00:00<?, ?it/s]\u001b[A\n",
      "                                                          \u001b[A"
     ]
    },
    {
     "name": "stdout",
     "output_type": "stream",
     "text": [
      "Files for N=178, Sample=1 already exist. Skipping.\n",
      "Files for N=178, Sample=2 already exist. Skipping.\n",
      "Files for N=178, Sample=3 already exist. Skipping.\n"
     ]
    },
    {
     "name": "stderr",
     "output_type": "stream",
     "text": [
      "\n",
      "Samples for N = 179:   0%|          | 0/3 [00:00<?, ?it/s]\u001b[A\n",
      "                                                          \u001b[A"
     ]
    },
    {
     "name": "stdout",
     "output_type": "stream",
     "text": [
      "Files for N=179, Sample=1 already exist. Skipping.\n",
      "Files for N=179, Sample=2 already exist. Skipping.\n",
      "Files for N=179, Sample=3 already exist. Skipping.\n"
     ]
    },
    {
     "name": "stderr",
     "output_type": "stream",
     "text": [
      "\n",
      "Samples for N = 180:   0%|          | 0/3 [00:00<?, ?it/s]\u001b[A\n",
      "                                                          \u001b[A"
     ]
    },
    {
     "name": "stdout",
     "output_type": "stream",
     "text": [
      "Files for N=180, Sample=1 already exist. Skipping.\n",
      "Files for N=180, Sample=2 already exist. Skipping.\n",
      "Files for N=180, Sample=3 already exist. Skipping.\n"
     ]
    },
    {
     "name": "stderr",
     "output_type": "stream",
     "text": [
      "\n",
      "Samples for N = 181:   0%|          | 0/3 [00:00<?, ?it/s]\u001b[A\n",
      "                                                          \u001b[A"
     ]
    },
    {
     "name": "stdout",
     "output_type": "stream",
     "text": [
      "Files for N=181, Sample=1 already exist. Skipping.\n",
      "Files for N=181, Sample=2 already exist. Skipping.\n",
      "Files for N=181, Sample=3 already exist. Skipping.\n"
     ]
    },
    {
     "name": "stderr",
     "output_type": "stream",
     "text": [
      "\n",
      "Samples for N = 182:   0%|          | 0/3 [00:00<?, ?it/s]\u001b[A\n",
      "                                                          \u001b[A"
     ]
    },
    {
     "name": "stdout",
     "output_type": "stream",
     "text": [
      "Files for N=182, Sample=1 already exist. Skipping.\n",
      "Files for N=182, Sample=2 already exist. Skipping.\n",
      "Files for N=182, Sample=3 already exist. Skipping.\n"
     ]
    },
    {
     "name": "stderr",
     "output_type": "stream",
     "text": [
      "\n",
      "Samples for N = 183:   0%|          | 0/3 [00:00<?, ?it/s]\u001b[A\n",
      "                                                          \u001b[A"
     ]
    },
    {
     "name": "stdout",
     "output_type": "stream",
     "text": [
      "Files for N=183, Sample=1 already exist. Skipping.\n",
      "Files for N=183, Sample=2 already exist. Skipping.\n",
      "Files for N=183, Sample=3 already exist. Skipping.\n"
     ]
    },
    {
     "name": "stderr",
     "output_type": "stream",
     "text": [
      "\n",
      "Samples for N = 184:   0%|          | 0/3 [00:00<?, ?it/s]\u001b[A\n",
      "                                                          \u001b[A"
     ]
    },
    {
     "name": "stdout",
     "output_type": "stream",
     "text": [
      "Files for N=184, Sample=1 already exist. Skipping.\n",
      "Files for N=184, Sample=2 already exist. Skipping.\n",
      "Files for N=184, Sample=3 already exist. Skipping.\n"
     ]
    },
    {
     "name": "stderr",
     "output_type": "stream",
     "text": [
      "\n",
      "Samples for N = 185:   0%|          | 0/3 [00:00<?, ?it/s]\u001b[A\n",
      "NPQWAK 497:3->499:  37%|███▋      | 183/497 [00:00<00:01, 216.75it/s]"
     ]
    },
    {
     "name": "stdout",
     "output_type": "stream",
     "text": [
      "Files for N=185, Sample=1 already exist. Skipping.\n",
      "Files for N=185, Sample=2 already exist. Skipping.\n",
      "Files for N=185, Sample=3 already exist. Skipping.\n"
     ]
    },
    {
     "name": "stderr",
     "output_type": "stream",
     "text": [
      "\n",
      "Samples for N = 186:   0%|          | 0/3 [00:00<?, ?it/s]\u001b[A\n",
      "                                                          \u001b[A"
     ]
    },
    {
     "name": "stdout",
     "output_type": "stream",
     "text": [
      "Files for N=186, Sample=1 already exist. Skipping.\n",
      "Files for N=186, Sample=2 already exist. Skipping.\n",
      "Files for N=186, Sample=3 already exist. Skipping.\n"
     ]
    },
    {
     "name": "stderr",
     "output_type": "stream",
     "text": [
      "\n",
      "Samples for N = 187:   0%|          | 0/3 [00:00<?, ?it/s]\u001b[A"
     ]
    },
    {
     "name": "stdout",
     "output_type": "stream",
     "text": [
      "Files for N=187, Sample=1 already exist. Skipping.\n"
     ]
    },
    {
     "name": "stderr",
     "output_type": "stream",
     "text": [
      "\n",
      "                                                          \u001b[A"
     ]
    },
    {
     "name": "stdout",
     "output_type": "stream",
     "text": [
      "Files for N=187, Sample=2 already exist. Skipping.\n",
      "Files for N=187, Sample=3 already exist. Skipping.\n"
     ]
    },
    {
     "name": "stderr",
     "output_type": "stream",
     "text": [
      "\n",
      "Samples for N = 188:   0%|          | 0/3 [00:00<?, ?it/s]\u001b[A\n",
      "                                                          \u001b[A"
     ]
    },
    {
     "name": "stdout",
     "output_type": "stream",
     "text": [
      "Files for N=188, Sample=1 already exist. Skipping.\n",
      "Files for N=188, Sample=2 already exist. Skipping.\n",
      "Files for N=188, Sample=3 already exist. Skipping.\n"
     ]
    },
    {
     "name": "stderr",
     "output_type": "stream",
     "text": [
      "\n",
      "Samples for N = 189:   0%|          | 0/3 [00:00<?, ?it/s]\u001b[A\n",
      "                                                          \u001b[A"
     ]
    },
    {
     "name": "stdout",
     "output_type": "stream",
     "text": [
      "Files for N=189, Sample=1 already exist. Skipping.\n",
      "Files for N=189, Sample=2 already exist. Skipping.\n",
      "Files for N=189, Sample=3 already exist. Skipping.\n"
     ]
    },
    {
     "name": "stderr",
     "output_type": "stream",
     "text": [
      "\n",
      "Samples for N = 190:   0%|          | 0/3 [00:00<?, ?it/s]\u001b[A\n",
      "                                                          \u001b[A"
     ]
    },
    {
     "name": "stdout",
     "output_type": "stream",
     "text": [
      "Files for N=190, Sample=1 already exist. Skipping.\n",
      "Files for N=190, Sample=2 already exist. Skipping.\n",
      "Files for N=190, Sample=3 already exist. Skipping.\n"
     ]
    },
    {
     "name": "stderr",
     "output_type": "stream",
     "text": [
      "\n",
      "Samples for N = 191:   0%|          | 0/3 [00:00<?, ?it/s]\u001b[A\n",
      "                                                          \u001b[A"
     ]
    },
    {
     "name": "stdout",
     "output_type": "stream",
     "text": [
      "Files for N=191, Sample=1 already exist. Skipping.\n",
      "Files for N=191, Sample=2 already exist. Skipping.\n",
      "Files for N=191, Sample=3 already exist. Skipping.\n"
     ]
    },
    {
     "name": "stderr",
     "output_type": "stream",
     "text": [
      "\n",
      "Samples for N = 192:   0%|          | 0/3 [00:00<?, ?it/s]\u001b[A\n",
      "                                                          \u001b[A"
     ]
    },
    {
     "name": "stdout",
     "output_type": "stream",
     "text": [
      "Files for N=192, Sample=1 already exist. Skipping.\n",
      "Files for N=192, Sample=2 already exist. Skipping.\n",
      "Files for N=192, Sample=3 already exist. Skipping.\n"
     ]
    },
    {
     "name": "stderr",
     "output_type": "stream",
     "text": [
      "\n",
      "Samples for N = 193:   0%|          | 0/3 [00:00<?, ?it/s]\u001b[A\n",
      "                                                          \u001b[A"
     ]
    },
    {
     "name": "stdout",
     "output_type": "stream",
     "text": [
      "Files for N=193, Sample=1 already exist. Skipping.\n",
      "Files for N=193, Sample=2 already exist. Skipping.\n",
      "Files for N=193, Sample=3 already exist. Skipping.\n"
     ]
    },
    {
     "name": "stderr",
     "output_type": "stream",
     "text": [
      "\n",
      "Samples for N = 194:   0%|          | 0/3 [00:00<?, ?it/s]\u001b[A\n",
      "                                                          \u001b[A"
     ]
    },
    {
     "name": "stdout",
     "output_type": "stream",
     "text": [
      "Files for N=194, Sample=1 already exist. Skipping.\n",
      "Files for N=194, Sample=2 already exist. Skipping.\n",
      "Files for N=194, Sample=3 already exist. Skipping.\n"
     ]
    },
    {
     "name": "stderr",
     "output_type": "stream",
     "text": [
      "\n",
      "Samples for N = 195:   0%|          | 0/3 [00:00<?, ?it/s]\u001b[A\n",
      "                                                          \u001b[A"
     ]
    },
    {
     "name": "stdout",
     "output_type": "stream",
     "text": [
      "Files for N=195, Sample=1 already exist. Skipping.\n",
      "Files for N=195, Sample=2 already exist. Skipping.\n",
      "Files for N=195, Sample=3 already exist. Skipping.\n"
     ]
    },
    {
     "name": "stderr",
     "output_type": "stream",
     "text": [
      "\n",
      "Samples for N = 196:   0%|          | 0/3 [00:00<?, ?it/s]\u001b[A\n",
      "                                                          \u001b[A"
     ]
    },
    {
     "name": "stdout",
     "output_type": "stream",
     "text": [
      "Files for N=196, Sample=1 already exist. Skipping.\n",
      "Files for N=196, Sample=2 already exist. Skipping.\n",
      "Files for N=196, Sample=3 already exist. Skipping.\n"
     ]
    },
    {
     "name": "stderr",
     "output_type": "stream",
     "text": [
      "\n",
      "Samples for N = 197:   0%|          | 0/3 [00:00<?, ?it/s]\u001b[A\n",
      "                                                          \u001b[A"
     ]
    },
    {
     "name": "stdout",
     "output_type": "stream",
     "text": [
      "Files for N=197, Sample=1 already exist. Skipping.\n",
      "Files for N=197, Sample=2 already exist. Skipping.\n",
      "Files for N=197, Sample=3 already exist. Skipping.\n"
     ]
    },
    {
     "name": "stderr",
     "output_type": "stream",
     "text": [
      "\n",
      "Samples for N = 198:   0%|          | 0/3 [00:00<?, ?it/s]\u001b[A\n",
      "                                                          \u001b[A"
     ]
    },
    {
     "name": "stdout",
     "output_type": "stream",
     "text": [
      "Files for N=198, Sample=1 already exist. Skipping.\n",
      "Files for N=198, Sample=2 already exist. Skipping.\n",
      "Files for N=198, Sample=3 already exist. Skipping.\n"
     ]
    },
    {
     "name": "stderr",
     "output_type": "stream",
     "text": [
      "\n",
      "Samples for N = 199:   0%|          | 0/3 [00:00<?, ?it/s]\u001b[A\n",
      "                                                          \u001b[A"
     ]
    },
    {
     "name": "stdout",
     "output_type": "stream",
     "text": [
      "Files for N=199, Sample=1 already exist. Skipping.\n",
      "Files for N=199, Sample=2 already exist. Skipping.\n",
      "Files for N=199, Sample=3 already exist. Skipping.\n"
     ]
    },
    {
     "name": "stderr",
     "output_type": "stream",
     "text": [
      "\n",
      "Samples for N = 200:   0%|          | 0/3 [00:00<?, ?it/s]\u001b[A\n",
      "                                                          \u001b[A"
     ]
    },
    {
     "name": "stdout",
     "output_type": "stream",
     "text": [
      "Files for N=200, Sample=1 already exist. Skipping.\n",
      "Files for N=200, Sample=2 already exist. Skipping.\n",
      "Files for N=200, Sample=3 already exist. Skipping.\n"
     ]
    },
    {
     "name": "stderr",
     "output_type": "stream",
     "text": [
      "\n",
      "Samples for N = 201:   0%|          | 0/3 [00:00<?, ?it/s]\u001b[A\n",
      "                                                          \u001b[A"
     ]
    },
    {
     "name": "stdout",
     "output_type": "stream",
     "text": [
      "Files for N=201, Sample=1 already exist. Skipping.\n",
      "Files for N=201, Sample=2 already exist. Skipping.\n",
      "Files for N=201, Sample=3 already exist. Skipping.\n"
     ]
    },
    {
     "name": "stderr",
     "output_type": "stream",
     "text": [
      "\n",
      "Samples for N = 202:   0%|          | 0/3 [00:00<?, ?it/s]\u001b[A\n",
      "                                                          \u001b[A"
     ]
    },
    {
     "name": "stdout",
     "output_type": "stream",
     "text": [
      "Files for N=202, Sample=1 already exist. Skipping.\n",
      "Files for N=202, Sample=2 already exist. Skipping.\n",
      "Files for N=202, Sample=3 already exist. Skipping.\n"
     ]
    },
    {
     "name": "stderr",
     "output_type": "stream",
     "text": [
      "\n",
      "Samples for N = 203:   0%|          | 0/3 [00:00<?, ?it/s]\u001b[A\n",
      "                                                          \u001b[A"
     ]
    },
    {
     "name": "stdout",
     "output_type": "stream",
     "text": [
      "Files for N=203, Sample=1 already exist. Skipping.\n",
      "Files for N=203, Sample=2 already exist. Skipping.\n",
      "Files for N=203, Sample=3 already exist. Skipping.\n"
     ]
    },
    {
     "name": "stderr",
     "output_type": "stream",
     "text": [
      "\n",
      "Samples for N = 204:   0%|          | 0/3 [00:00<?, ?it/s]\u001b[A\n",
      "                                                          \u001b[A"
     ]
    },
    {
     "name": "stdout",
     "output_type": "stream",
     "text": [
      "Files for N=204, Sample=1 already exist. Skipping.\n",
      "Files for N=204, Sample=2 already exist. Skipping.\n",
      "Files for N=204, Sample=3 already exist. Skipping.\n"
     ]
    },
    {
     "name": "stderr",
     "output_type": "stream",
     "text": [
      "\n",
      "Samples for N = 205:   0%|          | 0/3 [00:00<?, ?it/s]\u001b[A\n",
      "                                                          \u001b[A"
     ]
    },
    {
     "name": "stdout",
     "output_type": "stream",
     "text": [
      "Files for N=205, Sample=1 already exist. Skipping.\n",
      "Files for N=205, Sample=2 already exist. Skipping.\n",
      "Files for N=205, Sample=3 already exist. Skipping.\n"
     ]
    },
    {
     "name": "stderr",
     "output_type": "stream",
     "text": [
      "\n",
      "Samples for N = 206:   0%|          | 0/3 [00:00<?, ?it/s]\u001b[A\n",
      "                                                          \u001b[A"
     ]
    },
    {
     "name": "stdout",
     "output_type": "stream",
     "text": [
      "Files for N=206, Sample=1 already exist. Skipping.\n",
      "Files for N=206, Sample=2 already exist. Skipping.\n",
      "Files for N=206, Sample=3 already exist. Skipping.\n"
     ]
    },
    {
     "name": "stderr",
     "output_type": "stream",
     "text": [
      "\n",
      "Samples for N = 207:   0%|          | 0/3 [00:00<?, ?it/s]\u001b[A\n",
      "NPQWAK 497:3->499:  41%|████      | 205/497 [00:00<00:01, 215.08it/s]"
     ]
    },
    {
     "name": "stdout",
     "output_type": "stream",
     "text": [
      "Files for N=207, Sample=1 already exist. Skipping.\n",
      "Files for N=207, Sample=2 already exist. Skipping.\n",
      "Files for N=207, Sample=3 already exist. Skipping.\n"
     ]
    },
    {
     "name": "stderr",
     "output_type": "stream",
     "text": [
      "\n",
      "Samples for N = 208:   0%|          | 0/3 [00:00<?, ?it/s]\u001b[A\n",
      "                                                          \u001b[A"
     ]
    },
    {
     "name": "stdout",
     "output_type": "stream",
     "text": [
      "Files for N=208, Sample=1 already exist. Skipping.\n",
      "Files for N=208, Sample=2 already exist. Skipping.\n",
      "Files for N=208, Sample=3 already exist. Skipping.\n"
     ]
    },
    {
     "name": "stderr",
     "output_type": "stream",
     "text": [
      "\n",
      "Samples for N = 209:   0%|          | 0/3 [00:00<?, ?it/s]\u001b[A\n",
      "                                                          \u001b[A"
     ]
    },
    {
     "name": "stdout",
     "output_type": "stream",
     "text": [
      "Files for N=209, Sample=1 already exist. Skipping.\n",
      "Files for N=209, Sample=2 already exist. Skipping.\n",
      "Files for N=209, Sample=3 already exist. Skipping.\n"
     ]
    },
    {
     "name": "stderr",
     "output_type": "stream",
     "text": [
      "\n",
      "Samples for N = 210:   0%|          | 0/3 [00:00<?, ?it/s]\u001b[A"
     ]
    },
    {
     "name": "stdout",
     "output_type": "stream",
     "text": [
      "Files for N=210, Sample=1 already exist. Skipping.\n"
     ]
    },
    {
     "name": "stderr",
     "output_type": "stream",
     "text": [
      "\n",
      "                                                          \u001b[A"
     ]
    },
    {
     "name": "stdout",
     "output_type": "stream",
     "text": [
      "Files for N=210, Sample=2 already exist. Skipping.\n",
      "Files for N=210, Sample=3 already exist. Skipping.\n"
     ]
    },
    {
     "name": "stderr",
     "output_type": "stream",
     "text": [
      "\n",
      "Samples for N = 211:   0%|          | 0/3 [00:00<?, ?it/s]\u001b[A\n",
      "                                                          \u001b[A"
     ]
    },
    {
     "name": "stdout",
     "output_type": "stream",
     "text": [
      "Files for N=211, Sample=1 already exist. Skipping.\n",
      "Files for N=211, Sample=2 already exist. Skipping.\n",
      "Files for N=211, Sample=3 already exist. Skipping.\n"
     ]
    },
    {
     "name": "stderr",
     "output_type": "stream",
     "text": [
      "\n",
      "Samples for N = 212:   0%|          | 0/3 [00:00<?, ?it/s]\u001b[A\n",
      "                                                          \u001b[A"
     ]
    },
    {
     "name": "stdout",
     "output_type": "stream",
     "text": [
      "Files for N=212, Sample=1 already exist. Skipping.\n",
      "Files for N=212, Sample=2 already exist. Skipping.\n",
      "Files for N=212, Sample=3 already exist. Skipping.\n"
     ]
    },
    {
     "name": "stderr",
     "output_type": "stream",
     "text": [
      "\n",
      "Samples for N = 213:   0%|          | 0/3 [00:00<?, ?it/s]\u001b[A\n",
      "                                                          \u001b[A"
     ]
    },
    {
     "name": "stdout",
     "output_type": "stream",
     "text": [
      "Files for N=213, Sample=1 already exist. Skipping.\n",
      "Files for N=213, Sample=2 already exist. Skipping.\n",
      "Files for N=213, Sample=3 already exist. Skipping.\n"
     ]
    },
    {
     "name": "stderr",
     "output_type": "stream",
     "text": [
      "\n",
      "Samples for N = 214:   0%|          | 0/3 [00:00<?, ?it/s]\u001b[A\n",
      "                                                          \u001b[A"
     ]
    },
    {
     "name": "stdout",
     "output_type": "stream",
     "text": [
      "Files for N=214, Sample=1 already exist. Skipping.\n",
      "Files for N=214, Sample=2 already exist. Skipping.\n",
      "Files for N=214, Sample=3 already exist. Skipping.\n"
     ]
    },
    {
     "name": "stderr",
     "output_type": "stream",
     "text": [
      "\n",
      "Samples for N = 215:   0%|          | 0/3 [00:00<?, ?it/s]\u001b[A\n",
      "                                                          \u001b[A"
     ]
    },
    {
     "name": "stdout",
     "output_type": "stream",
     "text": [
      "Files for N=215, Sample=1 already exist. Skipping.\n",
      "Files for N=215, Sample=2 already exist. Skipping.\n",
      "Files for N=215, Sample=3 already exist. Skipping.\n"
     ]
    },
    {
     "name": "stderr",
     "output_type": "stream",
     "text": [
      "\n",
      "Samples for N = 216:   0%|          | 0/3 [00:00<?, ?it/s]\u001b[A\n",
      "                                                          \u001b[A"
     ]
    },
    {
     "name": "stdout",
     "output_type": "stream",
     "text": [
      "Files for N=216, Sample=1 already exist. Skipping.\n",
      "Files for N=216, Sample=2 already exist. Skipping.\n",
      "Files for N=216, Sample=3 already exist. Skipping.\n"
     ]
    },
    {
     "name": "stderr",
     "output_type": "stream",
     "text": [
      "\n",
      "Samples for N = 217:   0%|          | 0/3 [00:00<?, ?it/s]\u001b[A\n",
      "                                                          \u001b[A"
     ]
    },
    {
     "name": "stdout",
     "output_type": "stream",
     "text": [
      "Files for N=217, Sample=1 already exist. Skipping.\n",
      "Files for N=217, Sample=2 already exist. Skipping.\n",
      "Files for N=217, Sample=3 already exist. Skipping.\n"
     ]
    },
    {
     "name": "stderr",
     "output_type": "stream",
     "text": [
      "\n",
      "Samples for N = 218:   0%|          | 0/3 [00:00<?, ?it/s]\u001b[A\n",
      "                                                          \u001b[A"
     ]
    },
    {
     "name": "stdout",
     "output_type": "stream",
     "text": [
      "Files for N=218, Sample=1 already exist. Skipping.\n",
      "Files for N=218, Sample=2 already exist. Skipping.\n",
      "Files for N=218, Sample=3 already exist. Skipping.\n"
     ]
    },
    {
     "name": "stderr",
     "output_type": "stream",
     "text": [
      "\n",
      "Samples for N = 219:   0%|          | 0/3 [00:00<?, ?it/s]\u001b[A\n",
      "                                                          \u001b[A"
     ]
    },
    {
     "name": "stdout",
     "output_type": "stream",
     "text": [
      "Files for N=219, Sample=1 already exist. Skipping.\n",
      "Files for N=219, Sample=2 already exist. Skipping.\n",
      "Files for N=219, Sample=3 already exist. Skipping.\n"
     ]
    },
    {
     "name": "stderr",
     "output_type": "stream",
     "text": [
      "\n",
      "Samples for N = 220:   0%|          | 0/3 [00:00<?, ?it/s]\u001b[A\n",
      "                                                          \u001b[A"
     ]
    },
    {
     "name": "stdout",
     "output_type": "stream",
     "text": [
      "Files for N=220, Sample=1 already exist. Skipping.\n",
      "Files for N=220, Sample=2 already exist. Skipping.\n",
      "Files for N=220, Sample=3 already exist. Skipping.\n"
     ]
    },
    {
     "name": "stderr",
     "output_type": "stream",
     "text": [
      "\n",
      "Samples for N = 221:   0%|          | 0/3 [00:00<?, ?it/s]\u001b[A\n",
      "                                                          \u001b[A"
     ]
    },
    {
     "name": "stdout",
     "output_type": "stream",
     "text": [
      "Files for N=221, Sample=1 already exist. Skipping.\n",
      "Files for N=221, Sample=2 already exist. Skipping.\n",
      "Files for N=221, Sample=3 already exist. Skipping.\n"
     ]
    },
    {
     "name": "stderr",
     "output_type": "stream",
     "text": [
      "\n",
      "Samples for N = 222:   0%|          | 0/3 [00:00<?, ?it/s]\u001b[A\n",
      "                                                          \u001b[A"
     ]
    },
    {
     "name": "stdout",
     "output_type": "stream",
     "text": [
      "Files for N=222, Sample=1 already exist. Skipping.\n",
      "Files for N=222, Sample=2 already exist. Skipping.\n",
      "Files for N=222, Sample=3 already exist. Skipping.\n"
     ]
    },
    {
     "name": "stderr",
     "output_type": "stream",
     "text": [
      "\n",
      "Samples for N = 223:   0%|          | 0/3 [00:00<?, ?it/s]\u001b[A\n",
      "                                                          \u001b[A"
     ]
    },
    {
     "name": "stdout",
     "output_type": "stream",
     "text": [
      "Files for N=223, Sample=1 already exist. Skipping.\n",
      "Files for N=223, Sample=2 already exist. Skipping.\n",
      "Files for N=223, Sample=3 already exist. Skipping.\n"
     ]
    },
    {
     "name": "stderr",
     "output_type": "stream",
     "text": [
      "\n",
      "Samples for N = 224:   0%|          | 0/3 [00:00<?, ?it/s]\u001b[A\n",
      "                                                          \u001b[A"
     ]
    },
    {
     "name": "stdout",
     "output_type": "stream",
     "text": [
      "Files for N=224, Sample=1 already exist. Skipping.\n",
      "Files for N=224, Sample=2 already exist. Skipping.\n",
      "Files for N=224, Sample=3 already exist. Skipping.\n"
     ]
    },
    {
     "name": "stderr",
     "output_type": "stream",
     "text": [
      "\n",
      "Samples for N = 225:   0%|          | 0/3 [00:00<?, ?it/s]\u001b[A\n",
      "                                                          \u001b[A"
     ]
    },
    {
     "name": "stdout",
     "output_type": "stream",
     "text": [
      "Files for N=225, Sample=1 already exist. Skipping.\n",
      "Files for N=225, Sample=2 already exist. Skipping.\n",
      "Files for N=225, Sample=3 already exist. Skipping.\n"
     ]
    },
    {
     "name": "stderr",
     "output_type": "stream",
     "text": [
      "\n",
      "Samples for N = 226:   0%|          | 0/3 [00:00<?, ?it/s]\u001b[A\n",
      "                                                          \u001b[A"
     ]
    },
    {
     "name": "stdout",
     "output_type": "stream",
     "text": [
      "Files for N=226, Sample=1 already exist. Skipping.\n",
      "Files for N=226, Sample=2 already exist. Skipping.\n",
      "Files for N=226, Sample=3 already exist. Skipping.\n"
     ]
    },
    {
     "name": "stderr",
     "output_type": "stream",
     "text": [
      "\n",
      "Samples for N = 227:   0%|          | 0/3 [00:00<?, ?it/s]\u001b[A\n",
      "                                                          "
     ]
    },
    {
     "name": "stdout",
     "output_type": "stream",
     "text": [
      "Files for N=227, Sample=1 already exist. Skipping.\n",
      "Files for N=227, Sample=2 already exist. Skipping.\n",
      "Files for N=227, Sample=3 already exist. Skipping.\n"
     ]
    },
    {
     "name": "stderr",
     "output_type": "stream",
     "text": [
      "\u001b[A\n",
      "Samples for N = 228:   0%|          | 0/3 [00:00<?, ?it/s]\u001b[A\n",
      "                                                          \u001b[A"
     ]
    },
    {
     "name": "stdout",
     "output_type": "stream",
     "text": [
      "Files for N=228, Sample=1 already exist. Skipping.\n",
      "Files for N=228, Sample=2 already exist. Skipping.\n",
      "Files for N=228, Sample=3 already exist. Skipping.\n"
     ]
    },
    {
     "name": "stderr",
     "output_type": "stream",
     "text": [
      "\n",
      "Samples for N = 229:   0%|          | 0/3 [00:00<?, ?it/s]\u001b[A\n",
      "                                                          \u001b[A"
     ]
    },
    {
     "name": "stdout",
     "output_type": "stream",
     "text": [
      "Files for N=229, Sample=1 already exist. Skipping.\n",
      "Files for N=229, Sample=2 already exist. Skipping.\n",
      "Files for N=229, Sample=3 already exist. Skipping.\n"
     ]
    },
    {
     "name": "stderr",
     "output_type": "stream",
     "text": [
      "\n",
      "Samples for N = 230:   0%|          | 0/3 [00:00<?, ?it/s]\u001b[A\n",
      "NPQWAK 497:3->499:  46%|████▌     | 228/497 [00:01<00:01, 216.31it/s]"
     ]
    },
    {
     "name": "stdout",
     "output_type": "stream",
     "text": [
      "Files for N=230, Sample=1 already exist. Skipping.\n",
      "Files for N=230, Sample=2 already exist. Skipping.\n",
      "Files for N=230, Sample=3 already exist. Skipping.\n"
     ]
    },
    {
     "name": "stderr",
     "output_type": "stream",
     "text": [
      "\n",
      "Samples for N = 231:   0%|          | 0/3 [00:00<?, ?it/s]\u001b[A\n",
      "                                                          \u001b[A"
     ]
    },
    {
     "name": "stdout",
     "output_type": "stream",
     "text": [
      "Files for N=231, Sample=1 already exist. Skipping.\n",
      "Files for N=231, Sample=2 already exist. Skipping.\n",
      "Files for N=231, Sample=3 already exist. Skipping.\n"
     ]
    },
    {
     "name": "stderr",
     "output_type": "stream",
     "text": [
      "\n",
      "Samples for N = 232:   0%|          | 0/3 [00:00<?, ?it/s]\u001b[A\n",
      "                                                          \u001b[A"
     ]
    },
    {
     "name": "stdout",
     "output_type": "stream",
     "text": [
      "Files for N=232, Sample=1 already exist. Skipping.\n",
      "Files for N=232, Sample=2 already exist. Skipping.\n",
      "Files for N=232, Sample=3 already exist. Skipping.\n"
     ]
    },
    {
     "name": "stderr",
     "output_type": "stream",
     "text": [
      "\n",
      "Samples for N = 233:   0%|          | 0/3 [00:00<?, ?it/s]\u001b[A\n",
      "                                                          \u001b[A"
     ]
    },
    {
     "name": "stdout",
     "output_type": "stream",
     "text": [
      "Files for N=233, Sample=1 already exist. Skipping.\n",
      "Files for N=233, Sample=2 already exist. Skipping.\n",
      "Files for N=233, Sample=3 already exist. Skipping.\n"
     ]
    },
    {
     "name": "stderr",
     "output_type": "stream",
     "text": [
      "\n",
      "Samples for N = 234:   0%|          | 0/3 [00:00<?, ?it/s]\u001b[A\n"
     ]
    },
    {
     "name": "stdout",
     "output_type": "stream",
     "text": [
      "Files for N=234, Sample=1 already exist. Skipping.\n",
      "Files for N=234, Sample=2 already exist. Skipping.\n",
      "Files for N=234, Sample=3 already exist. Skipping.\n"
     ]
    },
    {
     "name": "stderr",
     "output_type": "stream",
     "text": [
      "                                                          \u001b[A\n",
      "Samples for N = 235:   0%|          | 0/3 [00:00<?, ?it/s]\u001b[A\n",
      "                                                          \u001b[A"
     ]
    },
    {
     "name": "stdout",
     "output_type": "stream",
     "text": [
      "Files for N=235, Sample=1 already exist. Skipping.\n",
      "Files for N=235, Sample=2 already exist. Skipping.\n",
      "Files for N=235, Sample=3 already exist. Skipping.\n"
     ]
    },
    {
     "name": "stderr",
     "output_type": "stream",
     "text": [
      "\n",
      "Samples for N = 236:   0%|          | 0/3 [00:00<?, ?it/s]\u001b[A\n",
      "                                                          \u001b[A"
     ]
    },
    {
     "name": "stdout",
     "output_type": "stream",
     "text": [
      "Files for N=236, Sample=1 already exist. Skipping.\n",
      "Files for N=236, Sample=2 already exist. Skipping.\n",
      "Files for N=236, Sample=3 already exist. Skipping.\n"
     ]
    },
    {
     "name": "stderr",
     "output_type": "stream",
     "text": [
      "\n",
      "Samples for N = 237:   0%|          | 0/3 [00:00<?, ?it/s]\u001b[A\n",
      "                                                          \u001b[A"
     ]
    },
    {
     "name": "stdout",
     "output_type": "stream",
     "text": [
      "Files for N=237, Sample=1 already exist. Skipping.\n",
      "Files for N=237, Sample=2 already exist. Skipping.\n",
      "Files for N=237, Sample=3 already exist. Skipping.\n"
     ]
    },
    {
     "name": "stderr",
     "output_type": "stream",
     "text": [
      "\n",
      "Samples for N = 238:   0%|          | 0/3 [00:00<?, ?it/s]\u001b[A\n",
      "                                                          \u001b[A"
     ]
    },
    {
     "name": "stdout",
     "output_type": "stream",
     "text": [
      "Files for N=238, Sample=1 already exist. Skipping.\n",
      "Files for N=238, Sample=2 already exist. Skipping.\n",
      "Files for N=238, Sample=3 already exist. Skipping.\n"
     ]
    },
    {
     "name": "stderr",
     "output_type": "stream",
     "text": [
      "\n",
      "Samples for N = 239:   0%|          | 0/3 [00:00<?, ?it/s]\u001b[A\n",
      "                                                          \u001b[A"
     ]
    },
    {
     "name": "stdout",
     "output_type": "stream",
     "text": [
      "Files for N=239, Sample=1 already exist. Skipping.\n",
      "Files for N=239, Sample=2 already exist. Skipping.\n",
      "Files for N=239, Sample=3 already exist. Skipping.\n"
     ]
    },
    {
     "name": "stderr",
     "output_type": "stream",
     "text": [
      "\n",
      "Samples for N = 240:   0%|          | 0/3 [00:00<?, ?it/s]\u001b[A\n",
      "                                                          \u001b[A"
     ]
    },
    {
     "name": "stdout",
     "output_type": "stream",
     "text": [
      "Files for N=240, Sample=1 already exist. Skipping.\n",
      "Files for N=240, Sample=2 already exist. Skipping.\n",
      "Files for N=240, Sample=3 already exist. Skipping.\n"
     ]
    },
    {
     "name": "stderr",
     "output_type": "stream",
     "text": [
      "\n",
      "Samples for N = 241:   0%|          | 0/3 [00:00<?, ?it/s]\u001b[A"
     ]
    },
    {
     "name": "stdout",
     "output_type": "stream",
     "text": [
      "Files for N=241, Sample=1 already exist. Skipping.\n"
     ]
    },
    {
     "name": "stderr",
     "output_type": "stream",
     "text": [
      "\n",
      "                                                          \u001b[A"
     ]
    },
    {
     "name": "stdout",
     "output_type": "stream",
     "text": [
      "Files for N=241, Sample=2 already exist. Skipping.\n",
      "Files for N=241, Sample=3 already exist. Skipping.\n"
     ]
    },
    {
     "name": "stderr",
     "output_type": "stream",
     "text": [
      "\n",
      "Samples for N = 242:   0%|          | 0/3 [00:00<?, ?it/s]\u001b[A\n",
      "                                                          \u001b[A"
     ]
    },
    {
     "name": "stdout",
     "output_type": "stream",
     "text": [
      "Files for N=242, Sample=1 already exist. Skipping.\n",
      "Files for N=242, Sample=2 already exist. Skipping.\n",
      "Files for N=242, Sample=3 already exist. Skipping.\n"
     ]
    },
    {
     "name": "stderr",
     "output_type": "stream",
     "text": [
      "\n",
      "Samples for N = 243:   0%|          | 0/3 [00:00<?, ?it/s]\u001b[A\n",
      "                                                          \u001b[A"
     ]
    },
    {
     "name": "stdout",
     "output_type": "stream",
     "text": [
      "Files for N=243, Sample=1 already exist. Skipping.\n",
      "Files for N=243, Sample=2 already exist. Skipping.\n",
      "Files for N=243, Sample=3 already exist. Skipping.\n"
     ]
    },
    {
     "name": "stderr",
     "output_type": "stream",
     "text": [
      "\n",
      "Samples for N = 244:   0%|          | 0/3 [00:00<?, ?it/s]\u001b[A\n",
      "                                                          "
     ]
    },
    {
     "name": "stdout",
     "output_type": "stream",
     "text": [
      "Files for N=244, Sample=1 already exist. Skipping.\n",
      "Files for N=244, Sample=2 already exist. Skipping.\n",
      "Files for N=244, Sample=3 already exist. Skipping.\n"
     ]
    },
    {
     "name": "stderr",
     "output_type": "stream",
     "text": [
      "\u001b[A\n",
      "Samples for N = 245:   0%|          | 0/3 [00:00<?, ?it/s]\u001b[A\n",
      "                                                          \u001b[A"
     ]
    },
    {
     "name": "stdout",
     "output_type": "stream",
     "text": [
      "Files for N=245, Sample=1 already exist. Skipping.\n",
      "Files for N=245, Sample=2 already exist. Skipping.\n",
      "Files for N=245, Sample=3 already exist. Skipping.\n"
     ]
    },
    {
     "name": "stderr",
     "output_type": "stream",
     "text": [
      "\n",
      "Samples for N = 246:   0%|          | 0/3 [00:00<?, ?it/s]\u001b[A\n",
      "                                                          \u001b[A"
     ]
    },
    {
     "name": "stdout",
     "output_type": "stream",
     "text": [
      "Files for N=246, Sample=1 already exist. Skipping.\n",
      "Files for N=246, Sample=2 already exist. Skipping.\n",
      "Files for N=246, Sample=3 already exist. Skipping.\n"
     ]
    },
    {
     "name": "stderr",
     "output_type": "stream",
     "text": [
      "\n",
      "Samples for N = 247:   0%|          | 0/3 [00:00<?, ?it/s]\u001b[A\n",
      "                                                          \u001b[A"
     ]
    },
    {
     "name": "stdout",
     "output_type": "stream",
     "text": [
      "Files for N=247, Sample=1 already exist. Skipping.\n",
      "Files for N=247, Sample=2 already exist. Skipping.\n",
      "Files for N=247, Sample=3 already exist. Skipping.\n"
     ]
    },
    {
     "name": "stderr",
     "output_type": "stream",
     "text": [
      "\n",
      "Samples for N = 248:   0%|          | 0/3 [00:00<?, ?it/s]\u001b[A\n",
      "                                                          \u001b[A"
     ]
    },
    {
     "name": "stdout",
     "output_type": "stream",
     "text": [
      "Files for N=248, Sample=1 already exist. Skipping.\n",
      "Files for N=248, Sample=2 already exist. Skipping.\n",
      "Files for N=248, Sample=3 already exist. Skipping.\n"
     ]
    },
    {
     "name": "stderr",
     "output_type": "stream",
     "text": [
      "\n",
      "Samples for N = 249:   0%|          | 0/3 [00:00<?, ?it/s]\u001b[A\n",
      "                                                          \u001b[A"
     ]
    },
    {
     "name": "stdout",
     "output_type": "stream",
     "text": [
      "Files for N=249, Sample=1 already exist. Skipping.\n",
      "Files for N=249, Sample=2 already exist. Skipping.\n",
      "Files for N=249, Sample=3 already exist. Skipping.\n"
     ]
    },
    {
     "name": "stderr",
     "output_type": "stream",
     "text": [
      "\n",
      "Samples for N = 250:   0%|          | 0/3 [00:00<?, ?it/s]\u001b[A\n",
      "                                                          \u001b[A"
     ]
    },
    {
     "name": "stdout",
     "output_type": "stream",
     "text": [
      "Files for N=250, Sample=1 already exist. Skipping.\n",
      "Files for N=250, Sample=2 already exist. Skipping.\n",
      "Files for N=250, Sample=3 already exist. Skipping.\n"
     ]
    },
    {
     "name": "stderr",
     "output_type": "stream",
     "text": [
      "\n",
      "Samples for N = 251:   0%|          | 0/3 [00:00<?, ?it/s]\u001b[A"
     ]
    },
    {
     "name": "stdout",
     "output_type": "stream",
     "text": [
      "Files for N=251, Sample=1 already exist. Skipping.\n"
     ]
    },
    {
     "name": "stderr",
     "output_type": "stream",
     "text": [
      "\n",
      "                                                          \u001b[A"
     ]
    },
    {
     "name": "stdout",
     "output_type": "stream",
     "text": [
      "Files for N=251, Sample=2 already exist. Skipping.\n",
      "Files for N=251, Sample=3 already exist. Skipping.\n"
     ]
    },
    {
     "name": "stderr",
     "output_type": "stream",
     "text": [
      "\n",
      "Samples for N = 252:   0%|          | 0/3 [00:00<?, ?it/s]\u001b[A\n",
      "NPQWAK 497:3->499:  50%|█████     | 250/497 [00:01<00:01, 216.17it/s]"
     ]
    },
    {
     "name": "stdout",
     "output_type": "stream",
     "text": [
      "Files for N=252, Sample=1 already exist. Skipping.\n",
      "Files for N=252, Sample=2 already exist. Skipping.\n",
      "Files for N=252, Sample=3 already exist. Skipping.\n"
     ]
    },
    {
     "name": "stderr",
     "output_type": "stream",
     "text": [
      "\n",
      "Samples for N = 253:   0%|          | 0/3 [00:00<?, ?it/s]\u001b[A\n",
      "                                                          \u001b[A"
     ]
    },
    {
     "name": "stdout",
     "output_type": "stream",
     "text": [
      "Files for N=253, Sample=1 already exist. Skipping.\n",
      "Files for N=253, Sample=2 already exist. Skipping.\n",
      "Files for N=253, Sample=3 already exist. Skipping.\n"
     ]
    },
    {
     "name": "stderr",
     "output_type": "stream",
     "text": [
      "\n",
      "Samples for N = 254:   0%|          | 0/3 [00:00<?, ?it/s]\u001b[A\n"
     ]
    },
    {
     "name": "stdout",
     "output_type": "stream",
     "text": [
      "Files for N=254, Sample=1 already exist. Skipping.\n",
      "Files for N=254, Sample=2 already exist. Skipping.\n",
      "Files for N=254, Sample=3 already exist. Skipping.\n"
     ]
    },
    {
     "name": "stderr",
     "output_type": "stream",
     "text": [
      "                                                          \u001b[A\n",
      "Samples for N = 255:   0%|          | 0/3 [00:00<?, ?it/s]\u001b[A\n",
      "                                                          \u001b[A"
     ]
    },
    {
     "name": "stdout",
     "output_type": "stream",
     "text": [
      "Files for N=255, Sample=1 already exist. Skipping.\n",
      "Files for N=255, Sample=2 already exist. Skipping.\n",
      "Files for N=255, Sample=3 already exist. Skipping.\n"
     ]
    },
    {
     "name": "stderr",
     "output_type": "stream",
     "text": [
      "\n",
      "Samples for N = 256:   0%|          | 0/3 [00:00<?, ?it/s]\u001b[A\n",
      "                                                          \u001b[A"
     ]
    },
    {
     "name": "stdout",
     "output_type": "stream",
     "text": [
      "Files for N=256, Sample=1 already exist. Skipping.\n",
      "Files for N=256, Sample=2 already exist. Skipping.\n",
      "Files for N=256, Sample=3 already exist. Skipping.\n"
     ]
    },
    {
     "name": "stderr",
     "output_type": "stream",
     "text": [
      "\n",
      "Samples for N = 257:   0%|          | 0/3 [00:00<?, ?it/s]\u001b[A\n",
      "                                                          \u001b[A"
     ]
    },
    {
     "name": "stdout",
     "output_type": "stream",
     "text": [
      "Files for N=257, Sample=1 already exist. Skipping.\n",
      "Files for N=257, Sample=2 already exist. Skipping.\n",
      "Files for N=257, Sample=3 already exist. Skipping.\n"
     ]
    },
    {
     "name": "stderr",
     "output_type": "stream",
     "text": [
      "\n",
      "Samples for N = 258:   0%|          | 0/3 [00:00<?, ?it/s]\u001b[A\n",
      "                                                          \u001b[A"
     ]
    },
    {
     "name": "stdout",
     "output_type": "stream",
     "text": [
      "Files for N=258, Sample=1 already exist. Skipping.\n",
      "Files for N=258, Sample=2 already exist. Skipping.\n",
      "Files for N=258, Sample=3 already exist. Skipping.\n"
     ]
    },
    {
     "name": "stderr",
     "output_type": "stream",
     "text": [
      "\n",
      "Samples for N = 259:   0%|          | 0/3 [00:00<?, ?it/s]\u001b[A\n",
      "                                                          \u001b[A"
     ]
    },
    {
     "name": "stdout",
     "output_type": "stream",
     "text": [
      "Files for N=259, Sample=1 already exist. Skipping.\n",
      "Files for N=259, Sample=2 already exist. Skipping.\n",
      "Files for N=259, Sample=3 already exist. Skipping.\n"
     ]
    },
    {
     "name": "stderr",
     "output_type": "stream",
     "text": [
      "\n",
      "Samples for N = 260:   0%|          | 0/3 [00:00<?, ?it/s]\u001b[A\n",
      "                                                          \u001b[A"
     ]
    },
    {
     "name": "stdout",
     "output_type": "stream",
     "text": [
      "Files for N=260, Sample=1 already exist. Skipping.\n",
      "Files for N=260, Sample=2 already exist. Skipping.\n",
      "Files for N=260, Sample=3 already exist. Skipping.\n"
     ]
    },
    {
     "name": "stderr",
     "output_type": "stream",
     "text": [
      "\n",
      "Samples for N = 261:   0%|          | 0/3 [00:00<?, ?it/s]\u001b[A\n"
     ]
    },
    {
     "name": "stdout",
     "output_type": "stream",
     "text": [
      "Files for N=261, Sample=1 already exist. Skipping.\n",
      "Files for N=261, Sample=2 already exist. Skipping.\n",
      "Files for N=261, Sample=3 already exist. Skipping.\n"
     ]
    },
    {
     "name": "stderr",
     "output_type": "stream",
     "text": [
      "                                                          \u001b[A\n",
      "Samples for N = 262:   0%|          | 0/3 [00:00<?, ?it/s]\u001b[A\n",
      "                                                          \u001b[A"
     ]
    },
    {
     "name": "stdout",
     "output_type": "stream",
     "text": [
      "Files for N=262, Sample=1 already exist. Skipping.\n",
      "Files for N=262, Sample=2 already exist. Skipping.\n",
      "Files for N=262, Sample=3 already exist. Skipping.\n"
     ]
    },
    {
     "name": "stderr",
     "output_type": "stream",
     "text": [
      "\n",
      "Samples for N = 263:   0%|          | 0/3 [00:00<?, ?it/s]\u001b[A\n",
      "                                                          \u001b[A"
     ]
    },
    {
     "name": "stdout",
     "output_type": "stream",
     "text": [
      "Files for N=263, Sample=1 already exist. Skipping.\n",
      "Files for N=263, Sample=2 already exist. Skipping.\n",
      "Files for N=263, Sample=3 already exist. Skipping.\n"
     ]
    },
    {
     "name": "stderr",
     "output_type": "stream",
     "text": [
      "\n",
      "Samples for N = 264:   0%|          | 0/3 [00:00<?, ?it/s]\u001b[A\n",
      "                                                          \u001b[A"
     ]
    },
    {
     "name": "stdout",
     "output_type": "stream",
     "text": [
      "Files for N=264, Sample=1 already exist. Skipping.\n",
      "Files for N=264, Sample=2 already exist. Skipping.\n",
      "Files for N=264, Sample=3 already exist. Skipping.\n"
     ]
    },
    {
     "name": "stderr",
     "output_type": "stream",
     "text": [
      "\n",
      "Samples for N = 265:   0%|          | 0/3 [00:00<?, ?it/s]\u001b[A\n",
      "                                                          \u001b[A"
     ]
    },
    {
     "name": "stdout",
     "output_type": "stream",
     "text": [
      "Files for N=265, Sample=1 already exist. Skipping.\n",
      "Files for N=265, Sample=2 already exist. Skipping.\n",
      "Files for N=265, Sample=3 already exist. Skipping.\n"
     ]
    },
    {
     "name": "stderr",
     "output_type": "stream",
     "text": [
      "\n",
      "Samples for N = 266:   0%|          | 0/3 [00:00<?, ?it/s]\u001b[A\n",
      "                                                          \u001b[A"
     ]
    },
    {
     "name": "stdout",
     "output_type": "stream",
     "text": [
      "Files for N=266, Sample=1 already exist. Skipping.\n",
      "Files for N=266, Sample=2 already exist. Skipping.\n",
      "Files for N=266, Sample=3 already exist. Skipping.\n"
     ]
    },
    {
     "name": "stderr",
     "output_type": "stream",
     "text": [
      "\n",
      "Samples for N = 267:   0%|          | 0/3 [00:00<?, ?it/s]\u001b[A\n",
      "                                                          \u001b[A"
     ]
    },
    {
     "name": "stdout",
     "output_type": "stream",
     "text": [
      "Files for N=267, Sample=1 already exist. Skipping.\n",
      "Files for N=267, Sample=2 already exist. Skipping.\n",
      "Files for N=267, Sample=3 already exist. Skipping.\n"
     ]
    },
    {
     "name": "stderr",
     "output_type": "stream",
     "text": [
      "\n",
      "Samples for N = 268:   0%|          | 0/3 [00:00<?, ?it/s]\u001b[A\n",
      "                                                          \u001b[A"
     ]
    },
    {
     "name": "stdout",
     "output_type": "stream",
     "text": [
      "Files for N=268, Sample=1 already exist. Skipping.\n",
      "Files for N=268, Sample=2 already exist. Skipping.\n",
      "Files for N=268, Sample=3 already exist. Skipping.\n"
     ]
    },
    {
     "name": "stderr",
     "output_type": "stream",
     "text": [
      "\n",
      "Samples for N = 269:   0%|          | 0/3 [00:00<?, ?it/s]\u001b[A\n",
      "                                                          \u001b[A"
     ]
    },
    {
     "name": "stdout",
     "output_type": "stream",
     "text": [
      "Files for N=269, Sample=1 already exist. Skipping.\n",
      "Files for N=269, Sample=2 already exist. Skipping.\n",
      "Files for N=269, Sample=3 already exist. Skipping.\n"
     ]
    },
    {
     "name": "stderr",
     "output_type": "stream",
     "text": [
      "\n",
      "Samples for N = 270:   0%|          | 0/3 [00:00<?, ?it/s]\u001b[A\n",
      "                                                          \u001b[A"
     ]
    },
    {
     "name": "stdout",
     "output_type": "stream",
     "text": [
      "Files for N=270, Sample=1 already exist. Skipping.\n",
      "Files for N=270, Sample=2 already exist. Skipping.\n",
      "Files for N=270, Sample=3 already exist. Skipping.\n"
     ]
    },
    {
     "name": "stderr",
     "output_type": "stream",
     "text": [
      "\n",
      "Samples for N = 271:   0%|          | 0/3 [00:00<?, ?it/s]\u001b[A\n",
      "                                                          \u001b[A"
     ]
    },
    {
     "name": "stdout",
     "output_type": "stream",
     "text": [
      "Files for N=271, Sample=1 already exist. Skipping.\n",
      "Files for N=271, Sample=2 already exist. Skipping.\n",
      "Files for N=271, Sample=3 already exist. Skipping.\n"
     ]
    },
    {
     "name": "stderr",
     "output_type": "stream",
     "text": [
      "\n",
      "Samples for N = 272:   0%|          | 0/3 [00:00<?, ?it/s]\u001b[A\n",
      "                                                          \u001b[A"
     ]
    },
    {
     "name": "stdout",
     "output_type": "stream",
     "text": [
      "Files for N=272, Sample=1 already exist. Skipping.\n",
      "Files for N=272, Sample=2 already exist. Skipping.\n",
      "Files for N=272, Sample=3 already exist. Skipping.\n"
     ]
    },
    {
     "name": "stderr",
     "output_type": "stream",
     "text": [
      "\n",
      "Samples for N = 273:   0%|          | 0/3 [00:00<?, ?it/s]\u001b[A\n",
      "                                                          \u001b[A"
     ]
    },
    {
     "name": "stdout",
     "output_type": "stream",
     "text": [
      "Files for N=273, Sample=1 already exist. Skipping.\n",
      "Files for N=273, Sample=2 already exist. Skipping.\n",
      "Files for N=273, Sample=3 already exist. Skipping.\n"
     ]
    },
    {
     "name": "stderr",
     "output_type": "stream",
     "text": [
      "\n",
      "Samples for N = 274:   0%|          | 0/3 [00:00<?, ?it/s]\u001b[A\n",
      "NPQWAK 497:3->499:  55%|█████▍    | 272/497 [00:01<00:01, 216.03it/s]"
     ]
    },
    {
     "name": "stdout",
     "output_type": "stream",
     "text": [
      "Files for N=274, Sample=1 already exist. Skipping.\n",
      "Files for N=274, Sample=2 already exist. Skipping.\n",
      "Files for N=274, Sample=3 already exist. Skipping.\n"
     ]
    },
    {
     "name": "stderr",
     "output_type": "stream",
     "text": [
      "\n",
      "Samples for N = 275:   0%|          | 0/3 [00:00<?, ?it/s]\u001b[A\n",
      "                                                          \u001b[A"
     ]
    },
    {
     "name": "stdout",
     "output_type": "stream",
     "text": [
      "Files for N=275, Sample=1 already exist. Skipping.\n",
      "Files for N=275, Sample=2 already exist. Skipping.\n",
      "Files for N=275, Sample=3 already exist. Skipping.\n"
     ]
    },
    {
     "name": "stderr",
     "output_type": "stream",
     "text": [
      "\n",
      "Samples for N = 276:   0%|          | 0/3 [00:00<?, ?it/s]\u001b[A\n",
      "                                                          \u001b[A"
     ]
    },
    {
     "name": "stdout",
     "output_type": "stream",
     "text": [
      "Files for N=276, Sample=1 already exist. Skipping.\n",
      "Files for N=276, Sample=2 already exist. Skipping.\n",
      "Files for N=276, Sample=3 already exist. Skipping.\n"
     ]
    },
    {
     "name": "stderr",
     "output_type": "stream",
     "text": [
      "\n",
      "Samples for N = 277:   0%|          | 0/3 [00:00<?, ?it/s]\u001b[A\n",
      "                                                          \u001b[A"
     ]
    },
    {
     "name": "stdout",
     "output_type": "stream",
     "text": [
      "Files for N=277, Sample=1 already exist. Skipping.\n",
      "Files for N=277, Sample=2 already exist. Skipping.\n",
      "Files for N=277, Sample=3 already exist. Skipping.\n"
     ]
    },
    {
     "name": "stderr",
     "output_type": "stream",
     "text": [
      "\n",
      "Samples for N = 278:   0%|          | 0/3 [00:00<?, ?it/s]\u001b[A"
     ]
    },
    {
     "name": "stdout",
     "output_type": "stream",
     "text": [
      "Files for N=278, Sample=1 already exist. Skipping.\n"
     ]
    },
    {
     "name": "stderr",
     "output_type": "stream",
     "text": [
      "\n",
      "                                                          \u001b[A"
     ]
    },
    {
     "name": "stdout",
     "output_type": "stream",
     "text": [
      "Files for N=278, Sample=2 already exist. Skipping.\n",
      "Files for N=278, Sample=3 already exist. Skipping.\n"
     ]
    },
    {
     "name": "stderr",
     "output_type": "stream",
     "text": [
      "\n",
      "Samples for N = 279:   0%|          | 0/3 [00:00<?, ?it/s]\u001b[A\n",
      "                                                          \u001b[A"
     ]
    },
    {
     "name": "stdout",
     "output_type": "stream",
     "text": [
      "Files for N=279, Sample=1 already exist. Skipping.\n",
      "Files for N=279, Sample=2 already exist. Skipping.\n",
      "Files for N=279, Sample=3 already exist. Skipping.\n"
     ]
    },
    {
     "name": "stderr",
     "output_type": "stream",
     "text": [
      "\n",
      "Samples for N = 280:   0%|          | 0/3 [00:00<?, ?it/s]\u001b[A\n",
      "                                                          \u001b[A"
     ]
    },
    {
     "name": "stdout",
     "output_type": "stream",
     "text": [
      "Files for N=280, Sample=1 already exist. Skipping.\n",
      "Files for N=280, Sample=2 already exist. Skipping.\n",
      "Files for N=280, Sample=3 already exist. Skipping.\n"
     ]
    },
    {
     "name": "stderr",
     "output_type": "stream",
     "text": [
      "\n",
      "Samples for N = 281:   0%|          | 0/3 [00:00<?, ?it/s]\u001b[A\n",
      "                                                          "
     ]
    },
    {
     "name": "stdout",
     "output_type": "stream",
     "text": [
      "Files for N=281, Sample=1 already exist. Skipping.\n",
      "Files for N=281, Sample=2 already exist. Skipping.\n",
      "Files for N=281, Sample=3 already exist. Skipping.\n"
     ]
    },
    {
     "name": "stderr",
     "output_type": "stream",
     "text": [
      "\u001b[A\n",
      "Samples for N = 282:   0%|          | 0/3 [00:00<?, ?it/s]\u001b[A\n",
      "                                                          \u001b[A"
     ]
    },
    {
     "name": "stdout",
     "output_type": "stream",
     "text": [
      "Files for N=282, Sample=1 already exist. Skipping.\n",
      "Files for N=282, Sample=2 already exist. Skipping.\n",
      "Files for N=282, Sample=3 already exist. Skipping.\n"
     ]
    },
    {
     "name": "stderr",
     "output_type": "stream",
     "text": [
      "\n",
      "Samples for N = 283:   0%|          | 0/3 [00:00<?, ?it/s]\u001b[A\n",
      "                                                          \u001b[A"
     ]
    },
    {
     "name": "stdout",
     "output_type": "stream",
     "text": [
      "Files for N=283, Sample=1 already exist. Skipping.\n",
      "Files for N=283, Sample=2 already exist. Skipping.\n",
      "Files for N=283, Sample=3 already exist. Skipping.\n"
     ]
    },
    {
     "name": "stderr",
     "output_type": "stream",
     "text": [
      "\n",
      "Samples for N = 284:   0%|          | 0/3 [00:00<?, ?it/s]\u001b[A\n",
      "                                                          \u001b[A"
     ]
    },
    {
     "name": "stdout",
     "output_type": "stream",
     "text": [
      "Files for N=284, Sample=1 already exist. Skipping.\n",
      "Files for N=284, Sample=2 already exist. Skipping.\n",
      "Files for N=284, Sample=3 already exist. Skipping.\n"
     ]
    },
    {
     "name": "stderr",
     "output_type": "stream",
     "text": [
      "\n",
      "Samples for N = 285:   0%|          | 0/3 [00:00<?, ?it/s]\u001b[A\n",
      "                                                          \u001b[A"
     ]
    },
    {
     "name": "stdout",
     "output_type": "stream",
     "text": [
      "Files for N=285, Sample=1 already exist. Skipping.\n",
      "Files for N=285, Sample=2 already exist. Skipping.\n",
      "Files for N=285, Sample=3 already exist. Skipping.\n"
     ]
    },
    {
     "name": "stderr",
     "output_type": "stream",
     "text": [
      "\n",
      "Samples for N = 286:   0%|          | 0/3 [00:00<?, ?it/s]\u001b[A\n",
      "                                                          \u001b[A"
     ]
    },
    {
     "name": "stdout",
     "output_type": "stream",
     "text": [
      "Files for N=286, Sample=1 already exist. Skipping.\n",
      "Files for N=286, Sample=2 already exist. Skipping.\n",
      "Files for N=286, Sample=3 already exist. Skipping.\n"
     ]
    },
    {
     "name": "stderr",
     "output_type": "stream",
     "text": [
      "\n",
      "Samples for N = 287:   0%|          | 0/3 [00:00<?, ?it/s]\u001b[A\n",
      "                                                          \u001b[A"
     ]
    },
    {
     "name": "stdout",
     "output_type": "stream",
     "text": [
      "Files for N=287, Sample=1 already exist. Skipping.\n",
      "Files for N=287, Sample=2 already exist. Skipping.\n",
      "Files for N=287, Sample=3 already exist. Skipping.\n"
     ]
    },
    {
     "name": "stderr",
     "output_type": "stream",
     "text": [
      "\n",
      "Samples for N = 288:   0%|          | 0/3 [00:00<?, ?it/s]\u001b[A\n"
     ]
    },
    {
     "name": "stdout",
     "output_type": "stream",
     "text": [
      "Files for N=288, Sample=1 already exist. Skipping.\n",
      "Files for N=288, Sample=2 already exist. Skipping.\n",
      "Files for N=288, Sample=3 already exist. Skipping.\n"
     ]
    },
    {
     "name": "stderr",
     "output_type": "stream",
     "text": [
      "                                                          \u001b[A\n",
      "Samples for N = 289:   0%|          | 0/3 [00:00<?, ?it/s]\u001b[A\n",
      "                                                          \u001b[A"
     ]
    },
    {
     "name": "stdout",
     "output_type": "stream",
     "text": [
      "Files for N=289, Sample=1 already exist. Skipping.\n",
      "Files for N=289, Sample=2 already exist. Skipping.\n",
      "Files for N=289, Sample=3 already exist. Skipping.\n"
     ]
    },
    {
     "name": "stderr",
     "output_type": "stream",
     "text": [
      "\n",
      "Samples for N = 290:   0%|          | 0/3 [00:00<?, ?it/s]\u001b[A\n",
      "                                                          \u001b[A"
     ]
    },
    {
     "name": "stdout",
     "output_type": "stream",
     "text": [
      "Files for N=290, Sample=1 already exist. Skipping.\n",
      "Files for N=290, Sample=2 already exist. Skipping.\n",
      "Files for N=290, Sample=3 already exist. Skipping.\n"
     ]
    },
    {
     "name": "stderr",
     "output_type": "stream",
     "text": [
      "\n",
      "Samples for N = 291:   0%|          | 0/3 [00:00<?, ?it/s]\u001b[A\n",
      "                                                          \u001b[A"
     ]
    },
    {
     "name": "stdout",
     "output_type": "stream",
     "text": [
      "Files for N=291, Sample=1 already exist. Skipping.\n",
      "Files for N=291, Sample=2 already exist. Skipping.\n",
      "Files for N=291, Sample=3 already exist. Skipping.\n"
     ]
    },
    {
     "name": "stderr",
     "output_type": "stream",
     "text": [
      "\n",
      "Samples for N = 292:   0%|          | 0/3 [00:00<?, ?it/s]\u001b[A\n",
      "                                                          \u001b[A"
     ]
    },
    {
     "name": "stdout",
     "output_type": "stream",
     "text": [
      "Files for N=292, Sample=1 already exist. Skipping.\n",
      "Files for N=292, Sample=2 already exist. Skipping.\n",
      "Files for N=292, Sample=3 already exist. Skipping.\n"
     ]
    },
    {
     "name": "stderr",
     "output_type": "stream",
     "text": [
      "\n",
      "Samples for N = 293:   0%|          | 0/3 [00:00<?, ?it/s]\u001b[A\n",
      "                                                          \u001b[A"
     ]
    },
    {
     "name": "stdout",
     "output_type": "stream",
     "text": [
      "Files for N=293, Sample=1 already exist. Skipping.\n",
      "Files for N=293, Sample=2 already exist. Skipping.\n",
      "Files for N=293, Sample=3 already exist. Skipping.\n"
     ]
    },
    {
     "name": "stderr",
     "output_type": "stream",
     "text": [
      "\n",
      "Samples for N = 294:   0%|          | 0/3 [00:00<?, ?it/s]\u001b[A\n",
      "                                                          \u001b[A"
     ]
    },
    {
     "name": "stdout",
     "output_type": "stream",
     "text": [
      "Files for N=294, Sample=1 already exist. Skipping.\n",
      "Files for N=294, Sample=2 already exist. Skipping.\n",
      "Files for N=294, Sample=3 already exist. Skipping.\n"
     ]
    },
    {
     "name": "stderr",
     "output_type": "stream",
     "text": [
      "\n",
      "Samples for N = 295:   0%|          | 0/3 [00:00<?, ?it/s]\u001b[A\n",
      "                                                          \u001b[A"
     ]
    },
    {
     "name": "stdout",
     "output_type": "stream",
     "text": [
      "Files for N=295, Sample=1 already exist. Skipping.\n",
      "Files for N=295, Sample=2 already exist. Skipping.\n",
      "Files for N=295, Sample=3 already exist. Skipping.\n"
     ]
    },
    {
     "name": "stderr",
     "output_type": "stream",
     "text": [
      "\n",
      "Samples for N = 296:   0%|          | 0/3 [00:00<?, ?it/s]\u001b[A\n",
      "NPQWAK 497:3->499:  59%|█████▉    | 294/497 [00:01<00:00, 215.82it/s]"
     ]
    },
    {
     "name": "stdout",
     "output_type": "stream",
     "text": [
      "Files for N=296, Sample=1 already exist. Skipping.\n",
      "Files for N=296, Sample=2 already exist. Skipping.\n",
      "Files for N=296, Sample=3 already exist. Skipping.\n"
     ]
    },
    {
     "name": "stderr",
     "output_type": "stream",
     "text": [
      "\n",
      "Samples for N = 297:   0%|          | 0/3 [00:00<?, ?it/s]\u001b[A\n",
      "                                                          \u001b[A"
     ]
    },
    {
     "name": "stdout",
     "output_type": "stream",
     "text": [
      "Files for N=297, Sample=1 already exist. Skipping.\n",
      "Files for N=297, Sample=2 already exist. Skipping.\n",
      "Files for N=297, Sample=3 already exist. Skipping.\n"
     ]
    },
    {
     "name": "stderr",
     "output_type": "stream",
     "text": [
      "\n",
      "Samples for N = 298:   0%|          | 0/3 [00:00<?, ?it/s]\u001b[A"
     ]
    },
    {
     "name": "stdout",
     "output_type": "stream",
     "text": [
      "Files for N=298, Sample=1 already exist. Skipping.\n"
     ]
    },
    {
     "name": "stderr",
     "output_type": "stream",
     "text": [
      "\n",
      "                                                          \u001b[A"
     ]
    },
    {
     "name": "stdout",
     "output_type": "stream",
     "text": [
      "Files for N=298, Sample=2 already exist. Skipping.\n",
      "Files for N=298, Sample=3 already exist. Skipping.\n"
     ]
    },
    {
     "name": "stderr",
     "output_type": "stream",
     "text": [
      "\n",
      "Samples for N = 299:   0%|          | 0/3 [00:00<?, ?it/s]\u001b[A\n",
      "                                                          \u001b[A"
     ]
    },
    {
     "name": "stdout",
     "output_type": "stream",
     "text": [
      "Files for N=299, Sample=1 already exist. Skipping.\n",
      "Files for N=299, Sample=2 already exist. Skipping.\n",
      "Files for N=299, Sample=3 already exist. Skipping.\n"
     ]
    },
    {
     "name": "stderr",
     "output_type": "stream",
     "text": [
      "\n",
      "Samples for N = 300:   0%|          | 0/3 [00:00<?, ?it/s]\u001b[A\n",
      "                                                          \u001b[A"
     ]
    },
    {
     "name": "stdout",
     "output_type": "stream",
     "text": [
      "Files for N=300, Sample=1 already exist. Skipping.\n",
      "Files for N=300, Sample=2 already exist. Skipping.\n",
      "Files for N=300, Sample=3 already exist. Skipping.\n"
     ]
    },
    {
     "name": "stderr",
     "output_type": "stream",
     "text": [
      "\n",
      "Samples for N = 301:   0%|          | 0/3 [00:00<?, ?it/s]\u001b[A\n",
      "                                                          \u001b[A"
     ]
    },
    {
     "name": "stdout",
     "output_type": "stream",
     "text": [
      "Files for N=301, Sample=1 already exist. Skipping.\n",
      "Files for N=301, Sample=2 already exist. Skipping.\n",
      "Files for N=301, Sample=3 already exist. Skipping.\n"
     ]
    },
    {
     "name": "stderr",
     "output_type": "stream",
     "text": [
      "\n",
      "Samples for N = 302:   0%|          | 0/3 [00:00<?, ?it/s]\u001b[A\n",
      "                                                          \u001b[A"
     ]
    },
    {
     "name": "stdout",
     "output_type": "stream",
     "text": [
      "Files for N=302, Sample=1 already exist. Skipping.\n",
      "Files for N=302, Sample=2 already exist. Skipping.\n",
      "Files for N=302, Sample=3 already exist. Skipping.\n"
     ]
    },
    {
     "name": "stderr",
     "output_type": "stream",
     "text": [
      "\n",
      "Samples for N = 303:   0%|          | 0/3 [00:00<?, ?it/s]\u001b[A\n",
      "                                                          \u001b[A"
     ]
    },
    {
     "name": "stdout",
     "output_type": "stream",
     "text": [
      "Files for N=303, Sample=1 already exist. Skipping.\n",
      "Files for N=303, Sample=2 already exist. Skipping.\n",
      "Files for N=303, Sample=3 already exist. Skipping.\n"
     ]
    },
    {
     "name": "stderr",
     "output_type": "stream",
     "text": [
      "\n",
      "Samples for N = 304:   0%|          | 0/3 [00:00<?, ?it/s]\u001b[A\n",
      "                                                          \u001b[A"
     ]
    },
    {
     "name": "stdout",
     "output_type": "stream",
     "text": [
      "Files for N=304, Sample=1 already exist. Skipping.\n",
      "Files for N=304, Sample=2 already exist. Skipping.\n",
      "Files for N=304, Sample=3 already exist. Skipping.\n"
     ]
    },
    {
     "name": "stderr",
     "output_type": "stream",
     "text": [
      "\n",
      "Samples for N = 305:   0%|          | 0/3 [00:00<?, ?it/s]\u001b[A"
     ]
    },
    {
     "name": "stdout",
     "output_type": "stream",
     "text": [
      "Files for N=305, Sample=1 already exist. Skipping.\n"
     ]
    },
    {
     "name": "stderr",
     "output_type": "stream",
     "text": [
      "\n",
      "                                                          \u001b[A"
     ]
    },
    {
     "name": "stdout",
     "output_type": "stream",
     "text": [
      "Files for N=305, Sample=2 already exist. Skipping.\n",
      "Files for N=305, Sample=3 already exist. Skipping.\n"
     ]
    },
    {
     "name": "stderr",
     "output_type": "stream",
     "text": [
      "\n",
      "Samples for N = 306:   0%|          | 0/3 [00:00<?, ?it/s]\u001b[A\n",
      "                                                          \u001b[A"
     ]
    },
    {
     "name": "stdout",
     "output_type": "stream",
     "text": [
      "Files for N=306, Sample=1 already exist. Skipping.\n",
      "Files for N=306, Sample=2 already exist. Skipping.\n",
      "Files for N=306, Sample=3 already exist. Skipping.\n"
     ]
    },
    {
     "name": "stderr",
     "output_type": "stream",
     "text": [
      "\n",
      "Samples for N = 307:   0%|          | 0/3 [00:00<?, ?it/s]\u001b[A\n",
      "                                                          \u001b[A"
     ]
    },
    {
     "name": "stdout",
     "output_type": "stream",
     "text": [
      "Files for N=307, Sample=1 already exist. Skipping.\n",
      "Files for N=307, Sample=2 already exist. Skipping.\n",
      "Files for N=307, Sample=3 already exist. Skipping.\n"
     ]
    },
    {
     "name": "stderr",
     "output_type": "stream",
     "text": [
      "\n",
      "Samples for N = 308:   0%|          | 0/3 [00:00<?, ?it/s]\u001b[A\n",
      "                                                          \u001b[A"
     ]
    },
    {
     "name": "stdout",
     "output_type": "stream",
     "text": [
      "Files for N=308, Sample=1 already exist. Skipping.\n",
      "Files for N=308, Sample=2 already exist. Skipping.\n",
      "Files for N=308, Sample=3 already exist. Skipping.\n"
     ]
    },
    {
     "name": "stderr",
     "output_type": "stream",
     "text": [
      "\n",
      "Samples for N = 309:   0%|          | 0/3 [00:00<?, ?it/s]\u001b[A\n",
      "                                                          \u001b[A"
     ]
    },
    {
     "name": "stdout",
     "output_type": "stream",
     "text": [
      "Files for N=309, Sample=1 already exist. Skipping.\n",
      "Files for N=309, Sample=2 already exist. Skipping.\n",
      "Files for N=309, Sample=3 already exist. Skipping.\n"
     ]
    },
    {
     "name": "stderr",
     "output_type": "stream",
     "text": [
      "\n",
      "Samples for N = 310:   0%|          | 0/3 [00:00<?, ?it/s]\u001b[A\n",
      "                                                          \u001b[A"
     ]
    },
    {
     "name": "stdout",
     "output_type": "stream",
     "text": [
      "Files for N=310, Sample=1 already exist. Skipping.\n",
      "Files for N=310, Sample=2 already exist. Skipping.\n",
      "Files for N=310, Sample=3 already exist. Skipping.\n"
     ]
    },
    {
     "name": "stderr",
     "output_type": "stream",
     "text": [
      "\n",
      "Samples for N = 311:   0%|          | 0/3 [00:00<?, ?it/s]\u001b[A\n",
      "                                                          \u001b[A"
     ]
    },
    {
     "name": "stdout",
     "output_type": "stream",
     "text": [
      "Files for N=311, Sample=1 already exist. Skipping.\n",
      "Files for N=311, Sample=2 already exist. Skipping.\n",
      "Files for N=311, Sample=3 already exist. Skipping.\n"
     ]
    },
    {
     "name": "stderr",
     "output_type": "stream",
     "text": [
      "\n",
      "Samples for N = 312:   0%|          | 0/3 [00:00<?, ?it/s]\u001b[A\n",
      "                                                          \u001b[A"
     ]
    },
    {
     "name": "stdout",
     "output_type": "stream",
     "text": [
      "Files for N=312, Sample=1 already exist. Skipping.\n",
      "Files for N=312, Sample=2 already exist. Skipping.\n",
      "Files for N=312, Sample=3 already exist. Skipping.\n"
     ]
    },
    {
     "name": "stderr",
     "output_type": "stream",
     "text": [
      "\n",
      "Samples for N = 313:   0%|          | 0/3 [00:00<?, ?it/s]\u001b[A\n",
      "                                                          \u001b[A"
     ]
    },
    {
     "name": "stdout",
     "output_type": "stream",
     "text": [
      "Files for N=313, Sample=1 already exist. Skipping.\n",
      "Files for N=313, Sample=2 already exist. Skipping.\n",
      "Files for N=313, Sample=3 already exist. Skipping.\n"
     ]
    },
    {
     "name": "stderr",
     "output_type": "stream",
     "text": [
      "\n",
      "Samples for N = 314:   0%|          | 0/3 [00:00<?, ?it/s]\u001b[A\n",
      "                                                          \u001b[A"
     ]
    },
    {
     "name": "stdout",
     "output_type": "stream",
     "text": [
      "Files for N=314, Sample=1 already exist. Skipping.\n",
      "Files for N=314, Sample=2 already exist. Skipping.\n",
      "Files for N=314, Sample=3 already exist. Skipping.\n"
     ]
    },
    {
     "name": "stderr",
     "output_type": "stream",
     "text": [
      "\n",
      "Samples for N = 315:   0%|          | 0/3 [00:00<?, ?it/s]\u001b[A\n",
      "                                                          \u001b[A"
     ]
    },
    {
     "name": "stdout",
     "output_type": "stream",
     "text": [
      "Files for N=315, Sample=1 already exist. Skipping.\n",
      "Files for N=315, Sample=2 already exist. Skipping.\n",
      "Files for N=315, Sample=3 already exist. Skipping.\n"
     ]
    },
    {
     "name": "stderr",
     "output_type": "stream",
     "text": [
      "\n",
      "Samples for N = 316:   0%|          | 0/3 [00:00<?, ?it/s]\u001b[A\n",
      "                                                          \u001b[A"
     ]
    },
    {
     "name": "stdout",
     "output_type": "stream",
     "text": [
      "Files for N=316, Sample=1 already exist. Skipping.\n",
      "Files for N=316, Sample=2 already exist. Skipping.\n",
      "Files for N=316, Sample=3 already exist. Skipping.\n"
     ]
    },
    {
     "name": "stderr",
     "output_type": "stream",
     "text": [
      "\n",
      "Samples for N = 317:   0%|          | 0/3 [00:00<?, ?it/s]\u001b[A\n",
      "                                                          \u001b[A"
     ]
    },
    {
     "name": "stdout",
     "output_type": "stream",
     "text": [
      "Files for N=317, Sample=1 already exist. Skipping.\n",
      "Files for N=317, Sample=2 already exist. Skipping.\n",
      "Files for N=317, Sample=3 already exist. Skipping.\n"
     ]
    },
    {
     "name": "stderr",
     "output_type": "stream",
     "text": [
      "\n",
      "Samples for N = 318:   0%|          | 0/3 [00:00<?, ?it/s]\u001b[A\n",
      "                                                          \u001b[A"
     ]
    },
    {
     "name": "stdout",
     "output_type": "stream",
     "text": [
      "Files for N=318, Sample=1 already exist. Skipping.\n",
      "Files for N=318, Sample=2 already exist. Skipping.\n",
      "Files for N=318, Sample=3 already exist. Skipping.\n"
     ]
    },
    {
     "name": "stderr",
     "output_type": "stream",
     "text": [
      "\n",
      "Samples for N = 319:   0%|          | 0/3 [00:00<?, ?it/s]\u001b[A\n",
      "NPQWAK 497:3->499:  64%|██████▍   | 317/497 [00:01<00:00, 217.44it/s]"
     ]
    },
    {
     "name": "stdout",
     "output_type": "stream",
     "text": [
      "Files for N=319, Sample=1 already exist. Skipping.\n",
      "Files for N=319, Sample=2 already exist. Skipping.\n",
      "Files for N=319, Sample=3 already exist. Skipping.\n"
     ]
    },
    {
     "name": "stderr",
     "output_type": "stream",
     "text": [
      "\n",
      "Samples for N = 320:   0%|          | 0/3 [00:00<?, ?it/s]\u001b[A\n",
      "                                                          \u001b[A"
     ]
    },
    {
     "name": "stdout",
     "output_type": "stream",
     "text": [
      "Files for N=320, Sample=1 already exist. Skipping.\n",
      "Files for N=320, Sample=2 already exist. Skipping.\n",
      "Files for N=320, Sample=3 already exist. Skipping.\n"
     ]
    },
    {
     "name": "stderr",
     "output_type": "stream",
     "text": [
      "\n",
      "Samples for N = 321:   0%|          | 0/3 [00:00<?, ?it/s]\u001b[A\n",
      "                                                          \u001b[A"
     ]
    },
    {
     "name": "stdout",
     "output_type": "stream",
     "text": [
      "Files for N=321, Sample=1 already exist. Skipping.\n",
      "Files for N=321, Sample=2 already exist. Skipping.\n",
      "Files for N=321, Sample=3 already exist. Skipping.\n"
     ]
    },
    {
     "name": "stderr",
     "output_type": "stream",
     "text": [
      "\n",
      "Samples for N = 322:   0%|          | 0/3 [00:00<?, ?it/s]\u001b[A\n",
      "                                                          \u001b[A"
     ]
    },
    {
     "name": "stdout",
     "output_type": "stream",
     "text": [
      "Files for N=322, Sample=1 already exist. Skipping.\n",
      "Files for N=322, Sample=2 already exist. Skipping.\n",
      "Files for N=322, Sample=3 already exist. Skipping.\n"
     ]
    },
    {
     "name": "stderr",
     "output_type": "stream",
     "text": [
      "\n",
      "Samples for N = 323:   0%|          | 0/3 [00:00<?, ?it/s]\u001b[A\n",
      "                                                          \u001b[A"
     ]
    },
    {
     "name": "stdout",
     "output_type": "stream",
     "text": [
      "Files for N=323, Sample=1 already exist. Skipping.\n",
      "Files for N=323, Sample=2 already exist. Skipping.\n",
      "Files for N=323, Sample=3 already exist. Skipping.\n"
     ]
    },
    {
     "name": "stderr",
     "output_type": "stream",
     "text": [
      "\n",
      "Samples for N = 324:   0%|          | 0/3 [00:00<?, ?it/s]\u001b[A\n",
      "                                                          \u001b[A"
     ]
    },
    {
     "name": "stdout",
     "output_type": "stream",
     "text": [
      "Files for N=324, Sample=1 already exist. Skipping.\n",
      "Files for N=324, Sample=2 already exist. Skipping.\n",
      "Files for N=324, Sample=3 already exist. Skipping.\n"
     ]
    },
    {
     "name": "stderr",
     "output_type": "stream",
     "text": [
      "\n",
      "Samples for N = 325:   0%|          | 0/3 [00:00<?, ?it/s]\u001b[A\n",
      "                                                          \u001b[A"
     ]
    },
    {
     "name": "stdout",
     "output_type": "stream",
     "text": [
      "Files for N=325, Sample=1 already exist. Skipping.\n",
      "Files for N=325, Sample=2 already exist. Skipping.\n",
      "Files for N=325, Sample=3 already exist. Skipping.\n"
     ]
    },
    {
     "name": "stderr",
     "output_type": "stream",
     "text": [
      "\n",
      "Samples for N = 326:   0%|          | 0/3 [00:00<?, ?it/s]\u001b[A\n",
      "                                                          \u001b[A"
     ]
    },
    {
     "name": "stdout",
     "output_type": "stream",
     "text": [
      "Files for N=326, Sample=1 already exist. Skipping.\n",
      "Files for N=326, Sample=2 already exist. Skipping.\n",
      "Files for N=326, Sample=3 already exist. Skipping.\n"
     ]
    },
    {
     "name": "stderr",
     "output_type": "stream",
     "text": [
      "\n",
      "Samples for N = 327:   0%|          | 0/3 [00:00<?, ?it/s]\u001b[A\n",
      "                                                          \u001b[A"
     ]
    },
    {
     "name": "stdout",
     "output_type": "stream",
     "text": [
      "Files for N=327, Sample=1 already exist. Skipping.\n",
      "Files for N=327, Sample=2 already exist. Skipping.\n",
      "Files for N=327, Sample=3 already exist. Skipping.\n"
     ]
    },
    {
     "name": "stderr",
     "output_type": "stream",
     "text": [
      "\n",
      "Samples for N = 328:   0%|          | 0/3 [00:00<?, ?it/s]\u001b[A\n",
      "                                                          \u001b[A"
     ]
    },
    {
     "name": "stdout",
     "output_type": "stream",
     "text": [
      "Files for N=328, Sample=1 already exist. Skipping.\n",
      "Files for N=328, Sample=2 already exist. Skipping.\n",
      "Files for N=328, Sample=3 already exist. Skipping.\n"
     ]
    },
    {
     "name": "stderr",
     "output_type": "stream",
     "text": [
      "\n",
      "Samples for N = 329:   0%|          | 0/3 [00:00<?, ?it/s]\u001b[A\n",
      "                                                          "
     ]
    },
    {
     "name": "stdout",
     "output_type": "stream",
     "text": [
      "Files for N=329, Sample=1 already exist. Skipping.\n",
      "Files for N=329, Sample=2 already exist. Skipping.\n",
      "Files for N=329, Sample=3 already exist. Skipping.\n"
     ]
    },
    {
     "name": "stderr",
     "output_type": "stream",
     "text": [
      "\u001b[A\n",
      "Samples for N = 330:   0%|          | 0/3 [00:00<?, ?it/s]\u001b[A\n",
      "                                                          \u001b[A"
     ]
    },
    {
     "name": "stdout",
     "output_type": "stream",
     "text": [
      "Files for N=330, Sample=1 already exist. Skipping.\n",
      "Files for N=330, Sample=2 already exist. Skipping.\n",
      "Files for N=330, Sample=3 already exist. Skipping.\n"
     ]
    },
    {
     "name": "stderr",
     "output_type": "stream",
     "text": [
      "\n",
      "Samples for N = 331:   0%|          | 0/3 [00:00<?, ?it/s]\u001b[A\n",
      "                                                          \u001b[A"
     ]
    },
    {
     "name": "stdout",
     "output_type": "stream",
     "text": [
      "Files for N=331, Sample=1 already exist. Skipping.\n",
      "Files for N=331, Sample=2 already exist. Skipping.\n",
      "Files for N=331, Sample=3 already exist. Skipping.\n"
     ]
    },
    {
     "name": "stderr",
     "output_type": "stream",
     "text": [
      "\n",
      "Samples for N = 332:   0%|          | 0/3 [00:00<?, ?it/s]\u001b[A\n",
      "                                                          \u001b[A"
     ]
    },
    {
     "name": "stdout",
     "output_type": "stream",
     "text": [
      "Files for N=332, Sample=1 already exist. Skipping.\n",
      "Files for N=332, Sample=2 already exist. Skipping.\n",
      "Files for N=332, Sample=3 already exist. Skipping.\n"
     ]
    },
    {
     "name": "stderr",
     "output_type": "stream",
     "text": [
      "\n",
      "Samples for N = 333:   0%|          | 0/3 [00:00<?, ?it/s]\u001b[A\n",
      "                                                          \u001b[A"
     ]
    },
    {
     "name": "stdout",
     "output_type": "stream",
     "text": [
      "Files for N=333, Sample=1 already exist. Skipping.\n",
      "Files for N=333, Sample=2 already exist. Skipping.\n",
      "Files for N=333, Sample=3 already exist. Skipping.\n"
     ]
    },
    {
     "name": "stderr",
     "output_type": "stream",
     "text": [
      "\n",
      "Samples for N = 334:   0%|          | 0/3 [00:00<?, ?it/s]\u001b[A\n",
      "                                                          \u001b[A"
     ]
    },
    {
     "name": "stdout",
     "output_type": "stream",
     "text": [
      "Files for N=334, Sample=1 already exist. Skipping.\n",
      "Files for N=334, Sample=2 already exist. Skipping.\n",
      "Files for N=334, Sample=3 already exist. Skipping.\n"
     ]
    },
    {
     "name": "stderr",
     "output_type": "stream",
     "text": [
      "\n",
      "Samples for N = 335:   0%|          | 0/3 [00:00<?, ?it/s]\u001b[A\n",
      "                                                          \u001b[A"
     ]
    },
    {
     "name": "stdout",
     "output_type": "stream",
     "text": [
      "Files for N=335, Sample=1 already exist. Skipping.\n",
      "Files for N=335, Sample=2 already exist. Skipping.\n",
      "Files for N=335, Sample=3 already exist. Skipping.\n"
     ]
    },
    {
     "name": "stderr",
     "output_type": "stream",
     "text": [
      "\n",
      "Samples for N = 336:   0%|          | 0/3 [00:00<?, ?it/s]\u001b[A\n"
     ]
    },
    {
     "name": "stdout",
     "output_type": "stream",
     "text": [
      "Files for N=336, Sample=1 already exist. Skipping.\n",
      "Files for N=336, Sample=2 already exist. Skipping.\n",
      "Files for N=336, Sample=3 already exist. Skipping.\n"
     ]
    },
    {
     "name": "stderr",
     "output_type": "stream",
     "text": [
      "                                                          \u001b[A\n",
      "Samples for N = 337:   0%|          | 0/3 [00:00<?, ?it/s]\u001b[A\n",
      "                                                          \u001b[A"
     ]
    },
    {
     "name": "stdout",
     "output_type": "stream",
     "text": [
      "Files for N=337, Sample=1 already exist. Skipping.\n",
      "Files for N=337, Sample=2 already exist. Skipping.\n",
      "Files for N=337, Sample=3 already exist. Skipping.\n"
     ]
    },
    {
     "name": "stderr",
     "output_type": "stream",
     "text": [
      "\n",
      "Samples for N = 338:   0%|          | 0/3 [00:00<?, ?it/s]\u001b[A\n",
      "                                                          \u001b[A"
     ]
    },
    {
     "name": "stdout",
     "output_type": "stream",
     "text": [
      "Files for N=338, Sample=1 already exist. Skipping.\n",
      "Files for N=338, Sample=2 already exist. Skipping.\n",
      "Files for N=338, Sample=3 already exist. Skipping.\n"
     ]
    },
    {
     "name": "stderr",
     "output_type": "stream",
     "text": [
      "\n",
      "Samples for N = 339:   0%|          | 0/3 [00:00<?, ?it/s]\u001b[A\n",
      "                                                          \u001b[A"
     ]
    },
    {
     "name": "stdout",
     "output_type": "stream",
     "text": [
      "Files for N=339, Sample=1 already exist. Skipping.\n",
      "Files for N=339, Sample=2 already exist. Skipping.\n",
      "Files for N=339, Sample=3 already exist. Skipping.\n"
     ]
    },
    {
     "name": "stderr",
     "output_type": "stream",
     "text": [
      "\n",
      "Samples for N = 340:   0%|          | 0/3 [00:00<?, ?it/s]\u001b[A\n",
      "                                                          \u001b[A"
     ]
    },
    {
     "name": "stdout",
     "output_type": "stream",
     "text": [
      "Files for N=340, Sample=1 already exist. Skipping.\n",
      "Files for N=340, Sample=2 already exist. Skipping.\n",
      "Files for N=340, Sample=3 already exist. Skipping.\n"
     ]
    },
    {
     "name": "stderr",
     "output_type": "stream",
     "text": [
      "\n",
      "Samples for N = 341:   0%|          | 0/3 [00:00<?, ?it/s]\u001b[A\n",
      "                                                          \u001b[A"
     ]
    },
    {
     "name": "stdout",
     "output_type": "stream",
     "text": [
      "Files for N=341, Sample=1 already exist. Skipping.\n",
      "Files for N=341, Sample=2 already exist. Skipping.\n",
      "Files for N=341, Sample=3 already exist. Skipping.\n"
     ]
    },
    {
     "name": "stderr",
     "output_type": "stream",
     "text": [
      "\n",
      "Samples for N = 342:   0%|          | 0/3 [00:00<?, ?it/s]\u001b[A\n",
      "NPQWAK 497:3->499:  68%|██████▊   | 340/497 [00:01<00:00, 219.20it/s]"
     ]
    },
    {
     "name": "stdout",
     "output_type": "stream",
     "text": [
      "Files for N=342, Sample=1 already exist. Skipping.\n",
      "Files for N=342, Sample=2 already exist. Skipping.\n",
      "Files for N=342, Sample=3 already exist. Skipping.\n"
     ]
    },
    {
     "name": "stderr",
     "output_type": "stream",
     "text": [
      "\n",
      "Samples for N = 343:   0%|          | 0/3 [00:00<?, ?it/s]\u001b[A\n",
      "                                                          \u001b[A"
     ]
    },
    {
     "name": "stdout",
     "output_type": "stream",
     "text": [
      "Files for N=343, Sample=1 already exist. Skipping.\n",
      "Files for N=343, Sample=2 already exist. Skipping.\n",
      "Files for N=343, Sample=3 already exist. Skipping.\n"
     ]
    },
    {
     "name": "stderr",
     "output_type": "stream",
     "text": [
      "\n",
      "Samples for N = 344:   0%|          | 0/3 [00:00<?, ?it/s]\u001b[A\n",
      "                                                          \u001b[A"
     ]
    },
    {
     "name": "stdout",
     "output_type": "stream",
     "text": [
      "Files for N=344, Sample=1 already exist. Skipping.\n",
      "Files for N=344, Sample=2 already exist. Skipping.\n",
      "Files for N=344, Sample=3 already exist. Skipping.\n"
     ]
    },
    {
     "name": "stderr",
     "output_type": "stream",
     "text": [
      "\n",
      "Samples for N = 345:   0%|          | 0/3 [00:00<?, ?it/s]\u001b[A\n",
      "                                                          \u001b[A"
     ]
    },
    {
     "name": "stdout",
     "output_type": "stream",
     "text": [
      "Files for N=345, Sample=1 already exist. Skipping.\n",
      "Files for N=345, Sample=2 already exist. Skipping.\n",
      "Files for N=345, Sample=3 already exist. Skipping.\n"
     ]
    },
    {
     "name": "stderr",
     "output_type": "stream",
     "text": [
      "\n",
      "Samples for N = 346:   0%|          | 0/3 [00:00<?, ?it/s]\u001b[A\n",
      "                                                          \u001b[A"
     ]
    },
    {
     "name": "stdout",
     "output_type": "stream",
     "text": [
      "Files for N=346, Sample=1 already exist. Skipping.\n",
      "Files for N=346, Sample=2 already exist. Skipping.\n",
      "Files for N=346, Sample=3 already exist. Skipping.\n"
     ]
    },
    {
     "name": "stderr",
     "output_type": "stream",
     "text": [
      "\n",
      "Samples for N = 347:   0%|          | 0/3 [00:00<?, ?it/s]\u001b[A\n",
      "                                                          \u001b[A"
     ]
    },
    {
     "name": "stdout",
     "output_type": "stream",
     "text": [
      "Files for N=347, Sample=1 already exist. Skipping.\n",
      "Files for N=347, Sample=2 already exist. Skipping.\n",
      "Files for N=347, Sample=3 already exist. Skipping.\n"
     ]
    },
    {
     "name": "stderr",
     "output_type": "stream",
     "text": [
      "\n",
      "Samples for N = 348:   0%|          | 0/3 [00:00<?, ?it/s]\u001b[A\n",
      "                                                          \u001b[A"
     ]
    },
    {
     "name": "stdout",
     "output_type": "stream",
     "text": [
      "Files for N=348, Sample=1 already exist. Skipping.\n",
      "Files for N=348, Sample=2 already exist. Skipping.\n",
      "Files for N=348, Sample=3 already exist. Skipping.\n"
     ]
    },
    {
     "name": "stderr",
     "output_type": "stream",
     "text": [
      "\n",
      "Samples for N = 349:   0%|          | 0/3 [00:00<?, ?it/s]\u001b[A\n",
      "                                                          \u001b[A"
     ]
    },
    {
     "name": "stdout",
     "output_type": "stream",
     "text": [
      "Files for N=349, Sample=1 already exist. Skipping.\n",
      "Files for N=349, Sample=2 already exist. Skipping.\n",
      "Files for N=349, Sample=3 already exist. Skipping.\n"
     ]
    },
    {
     "name": "stderr",
     "output_type": "stream",
     "text": [
      "\n",
      "Samples for N = 350:   0%|          | 0/3 [00:00<?, ?it/s]\u001b[A\n",
      "                                                          \u001b[A"
     ]
    },
    {
     "name": "stdout",
     "output_type": "stream",
     "text": [
      "Files for N=350, Sample=1 already exist. Skipping.\n",
      "Files for N=350, Sample=2 already exist. Skipping.\n",
      "Files for N=350, Sample=3 already exist. Skipping.\n"
     ]
    },
    {
     "name": "stderr",
     "output_type": "stream",
     "text": [
      "\n",
      "Samples for N = 351:   0%|          | 0/3 [00:00<?, ?it/s]\u001b[A\n",
      "                                                          \u001b[A"
     ]
    },
    {
     "name": "stdout",
     "output_type": "stream",
     "text": [
      "Files for N=351, Sample=1 already exist. Skipping.\n",
      "Files for N=351, Sample=2 already exist. Skipping.\n",
      "Files for N=351, Sample=3 already exist. Skipping.\n"
     ]
    },
    {
     "name": "stderr",
     "output_type": "stream",
     "text": [
      "\n",
      "Samples for N = 352:   0%|          | 0/3 [00:00<?, ?it/s]\u001b[A\n",
      "                                                          \u001b[A"
     ]
    },
    {
     "name": "stdout",
     "output_type": "stream",
     "text": [
      "Files for N=352, Sample=1 already exist. Skipping.\n",
      "Files for N=352, Sample=2 already exist. Skipping.\n",
      "Files for N=352, Sample=3 already exist. Skipping.\n"
     ]
    },
    {
     "name": "stderr",
     "output_type": "stream",
     "text": [
      "\n",
      "Samples for N = 353:   0%|          | 0/3 [00:00<?, ?it/s]\u001b[A\n",
      "                                                          "
     ]
    },
    {
     "name": "stdout",
     "output_type": "stream",
     "text": [
      "Files for N=353, Sample=1 already exist. Skipping.\n",
      "Files for N=353, Sample=2 already exist. Skipping.\n",
      "Files for N=353, Sample=3 already exist. Skipping.\n"
     ]
    },
    {
     "name": "stderr",
     "output_type": "stream",
     "text": [
      "\u001b[A\n",
      "Samples for N = 354:   0%|          | 0/3 [00:00<?, ?it/s]\u001b[A\n",
      "                                                          \u001b[A"
     ]
    },
    {
     "name": "stdout",
     "output_type": "stream",
     "text": [
      "Files for N=354, Sample=1 already exist. Skipping.\n",
      "Files for N=354, Sample=2 already exist. Skipping.\n",
      "Files for N=354, Sample=3 already exist. Skipping.\n"
     ]
    },
    {
     "name": "stderr",
     "output_type": "stream",
     "text": [
      "\n",
      "Samples for N = 355:   0%|          | 0/3 [00:00<?, ?it/s]\u001b[A\n",
      "                                                          \u001b[A"
     ]
    },
    {
     "name": "stdout",
     "output_type": "stream",
     "text": [
      "Files for N=355, Sample=1 already exist. Skipping.\n",
      "Files for N=355, Sample=2 already exist. Skipping.\n",
      "Files for N=355, Sample=3 already exist. Skipping.\n"
     ]
    },
    {
     "name": "stderr",
     "output_type": "stream",
     "text": [
      "\n",
      "Samples for N = 356:   0%|          | 0/3 [00:00<?, ?it/s]\u001b[A\n",
      "                                                          \u001b[A"
     ]
    },
    {
     "name": "stdout",
     "output_type": "stream",
     "text": [
      "Files for N=356, Sample=1 already exist. Skipping.\n",
      "Files for N=356, Sample=2 already exist. Skipping.\n",
      "Files for N=356, Sample=3 already exist. Skipping.\n"
     ]
    },
    {
     "name": "stderr",
     "output_type": "stream",
     "text": [
      "\n",
      "Samples for N = 357:   0%|          | 0/3 [00:00<?, ?it/s]\u001b[A\n",
      "                                                          \u001b[A"
     ]
    },
    {
     "name": "stdout",
     "output_type": "stream",
     "text": [
      "Files for N=357, Sample=1 already exist. Skipping.\n",
      "Files for N=357, Sample=2 already exist. Skipping.\n",
      "Files for N=357, Sample=3 already exist. Skipping.\n"
     ]
    },
    {
     "name": "stderr",
     "output_type": "stream",
     "text": [
      "\n",
      "Samples for N = 358:   0%|          | 0/3 [00:00<?, ?it/s]\u001b[A\n",
      "                                                          \u001b[A"
     ]
    },
    {
     "name": "stdout",
     "output_type": "stream",
     "text": [
      "Files for N=358, Sample=1 already exist. Skipping.\n",
      "Files for N=358, Sample=2 already exist. Skipping.\n",
      "Files for N=358, Sample=3 already exist. Skipping.\n"
     ]
    },
    {
     "name": "stderr",
     "output_type": "stream",
     "text": [
      "\n",
      "Samples for N = 359:   0%|          | 0/3 [00:00<?, ?it/s]\u001b[A\n",
      "                                                          \u001b[A"
     ]
    },
    {
     "name": "stdout",
     "output_type": "stream",
     "text": [
      "Files for N=359, Sample=1 already exist. Skipping.\n",
      "Files for N=359, Sample=2 already exist. Skipping.\n",
      "Files for N=359, Sample=3 already exist. Skipping.\n"
     ]
    },
    {
     "name": "stderr",
     "output_type": "stream",
     "text": [
      "\n",
      "Samples for N = 360:   0%|          | 0/3 [00:00<?, ?it/s]\u001b[A\n",
      "                                                          \u001b[A"
     ]
    },
    {
     "name": "stdout",
     "output_type": "stream",
     "text": [
      "Files for N=360, Sample=1 already exist. Skipping.\n",
      "Files for N=360, Sample=2 already exist. Skipping.\n",
      "Files for N=360, Sample=3 already exist. Skipping.\n"
     ]
    },
    {
     "name": "stderr",
     "output_type": "stream",
     "text": [
      "\n",
      "Samples for N = 361:   0%|          | 0/3 [00:00<?, ?it/s]\u001b[A\n",
      "                                                          \u001b[A"
     ]
    },
    {
     "name": "stdout",
     "output_type": "stream",
     "text": [
      "Files for N=361, Sample=1 already exist. Skipping.\n",
      "Files for N=361, Sample=2 already exist. Skipping.\n",
      "Files for N=361, Sample=3 already exist. Skipping.\n"
     ]
    },
    {
     "name": "stderr",
     "output_type": "stream",
     "text": [
      "\n",
      "Samples for N = 362:   0%|          | 0/3 [00:00<?, ?it/s]\u001b[A\n",
      "                                                          \u001b[A"
     ]
    },
    {
     "name": "stdout",
     "output_type": "stream",
     "text": [
      "Files for N=362, Sample=1 already exist. Skipping.\n",
      "Files for N=362, Sample=2 already exist. Skipping.\n",
      "Files for N=362, Sample=3 already exist. Skipping.\n"
     ]
    },
    {
     "name": "stderr",
     "output_type": "stream",
     "text": [
      "\n",
      "Samples for N = 363:   0%|          | 0/3 [00:00<?, ?it/s]\u001b[A\n",
      "                                                          \u001b[A"
     ]
    },
    {
     "name": "stdout",
     "output_type": "stream",
     "text": [
      "Files for N=363, Sample=1 already exist. Skipping.\n",
      "Files for N=363, Sample=2 already exist. Skipping.\n",
      "Files for N=363, Sample=3 already exist. Skipping.\n"
     ]
    },
    {
     "name": "stderr",
     "output_type": "stream",
     "text": [
      "\n",
      "Samples for N = 364:   0%|          | 0/3 [00:00<?, ?it/s]\u001b[A\n",
      "NPQWAK 497:3->499:  73%|███████▎  | 362/497 [00:01<00:00, 215.63it/s]"
     ]
    },
    {
     "name": "stdout",
     "output_type": "stream",
     "text": [
      "Files for N=364, Sample=1 already exist. Skipping.\n",
      "Files for N=364, Sample=2 already exist. Skipping.\n",
      "Files for N=364, Sample=3 already exist. Skipping.\n"
     ]
    },
    {
     "name": "stderr",
     "output_type": "stream",
     "text": [
      "\n",
      "Samples for N = 365:   0%|          | 0/3 [00:00<?, ?it/s]\u001b[A\n",
      "                                                          \u001b[A"
     ]
    },
    {
     "name": "stdout",
     "output_type": "stream",
     "text": [
      "Files for N=365, Sample=1 already exist. Skipping.\n",
      "Files for N=365, Sample=2 already exist. Skipping.\n",
      "Files for N=365, Sample=3 already exist. Skipping.\n"
     ]
    },
    {
     "name": "stderr",
     "output_type": "stream",
     "text": [
      "\n",
      "Samples for N = 366:   0%|          | 0/3 [00:00<?, ?it/s]\u001b[A\n",
      "                                                          \u001b[A"
     ]
    },
    {
     "name": "stdout",
     "output_type": "stream",
     "text": [
      "Files for N=366, Sample=1 already exist. Skipping.\n",
      "Files for N=366, Sample=2 already exist. Skipping.\n",
      "Files for N=366, Sample=3 already exist. Skipping.\n"
     ]
    },
    {
     "name": "stderr",
     "output_type": "stream",
     "text": [
      "\n",
      "Samples for N = 367:   0%|          | 0/3 [00:00<?, ?it/s]\u001b[A\n",
      "                                                          \u001b[A"
     ]
    },
    {
     "name": "stdout",
     "output_type": "stream",
     "text": [
      "Files for N=367, Sample=1 already exist. Skipping.\n",
      "Files for N=367, Sample=2 already exist. Skipping.\n",
      "Files for N=367, Sample=3 already exist. Skipping.\n"
     ]
    },
    {
     "name": "stderr",
     "output_type": "stream",
     "text": [
      "\n",
      "Samples for N = 368:   0%|          | 0/3 [00:00<?, ?it/s]\u001b[A\n",
      "                                                          \u001b[A"
     ]
    },
    {
     "name": "stdout",
     "output_type": "stream",
     "text": [
      "Files for N=368, Sample=1 already exist. Skipping.\n",
      "Files for N=368, Sample=2 already exist. Skipping.\n",
      "Files for N=368, Sample=3 already exist. Skipping.\n"
     ]
    },
    {
     "name": "stderr",
     "output_type": "stream",
     "text": [
      "\n",
      "Samples for N = 369:   0%|          | 0/3 [00:00<?, ?it/s]\u001b[A\n",
      "                                                          \u001b[A"
     ]
    },
    {
     "name": "stdout",
     "output_type": "stream",
     "text": [
      "Files for N=369, Sample=1 already exist. Skipping.\n",
      "Files for N=369, Sample=2 already exist. Skipping.\n",
      "Files for N=369, Sample=3 already exist. Skipping.\n"
     ]
    },
    {
     "name": "stderr",
     "output_type": "stream",
     "text": [
      "\n",
      "Samples for N = 370:   0%|          | 0/3 [00:00<?, ?it/s]\u001b[A\n",
      "                                                          \u001b[A"
     ]
    },
    {
     "name": "stdout",
     "output_type": "stream",
     "text": [
      "Files for N=370, Sample=1 already exist. Skipping.\n",
      "Files for N=370, Sample=2 already exist. Skipping.\n",
      "Files for N=370, Sample=3 already exist. Skipping.\n"
     ]
    },
    {
     "name": "stderr",
     "output_type": "stream",
     "text": [
      "\n",
      "Samples for N = 371:   0%|          | 0/3 [00:00<?, ?it/s]\u001b[A\n",
      "                                                          \u001b[A"
     ]
    },
    {
     "name": "stdout",
     "output_type": "stream",
     "text": [
      "Files for N=371, Sample=1 already exist. Skipping.\n",
      "Files for N=371, Sample=2 already exist. Skipping.\n",
      "Files for N=371, Sample=3 already exist. Skipping.\n"
     ]
    },
    {
     "name": "stderr",
     "output_type": "stream",
     "text": [
      "\n",
      "Samples for N = 372:   0%|          | 0/3 [00:00<?, ?it/s]\u001b[A\n",
      "                                                          \u001b[A"
     ]
    },
    {
     "name": "stdout",
     "output_type": "stream",
     "text": [
      "Files for N=372, Sample=1 already exist. Skipping.\n",
      "Files for N=372, Sample=2 already exist. Skipping.\n",
      "Files for N=372, Sample=3 already exist. Skipping.\n"
     ]
    },
    {
     "name": "stderr",
     "output_type": "stream",
     "text": [
      "\n",
      "Samples for N = 373:   0%|          | 0/3 [00:00<?, ?it/s]\u001b[A\n",
      "                                                          \u001b[A"
     ]
    },
    {
     "name": "stdout",
     "output_type": "stream",
     "text": [
      "Files for N=373, Sample=1 already exist. Skipping.\n",
      "Files for N=373, Sample=2 already exist. Skipping.\n",
      "Files for N=373, Sample=3 already exist. Skipping.\n"
     ]
    },
    {
     "name": "stderr",
     "output_type": "stream",
     "text": [
      "\n",
      "Samples for N = 374:   0%|          | 0/3 [00:00<?, ?it/s]\u001b[A\n",
      "                                                          \u001b[A"
     ]
    },
    {
     "name": "stdout",
     "output_type": "stream",
     "text": [
      "Files for N=374, Sample=1 already exist. Skipping.\n",
      "Files for N=374, Sample=2 already exist. Skipping.\n",
      "Files for N=374, Sample=3 already exist. Skipping.\n"
     ]
    },
    {
     "name": "stderr",
     "output_type": "stream",
     "text": [
      "\n",
      "Samples for N = 375:   0%|          | 0/3 [00:00<?, ?it/s]\u001b[A\n",
      "                                                          \u001b[A"
     ]
    },
    {
     "name": "stdout",
     "output_type": "stream",
     "text": [
      "Files for N=375, Sample=1 already exist. Skipping.\n",
      "Files for N=375, Sample=2 already exist. Skipping.\n",
      "Files for N=375, Sample=3 already exist. Skipping.\n"
     ]
    },
    {
     "name": "stderr",
     "output_type": "stream",
     "text": [
      "\n",
      "Samples for N = 376:   0%|          | 0/3 [00:00<?, ?it/s]\u001b[A\n",
      "                                                          \u001b[A"
     ]
    },
    {
     "name": "stdout",
     "output_type": "stream",
     "text": [
      "Files for N=376, Sample=1 already exist. Skipping.\n",
      "Files for N=376, Sample=2 already exist. Skipping.\n",
      "Files for N=376, Sample=3 already exist. Skipping.\n"
     ]
    },
    {
     "name": "stderr",
     "output_type": "stream",
     "text": [
      "\n",
      "Samples for N = 377:   0%|          | 0/3 [00:00<?, ?it/s]\u001b[A\n",
      "                                                          \u001b[A"
     ]
    },
    {
     "name": "stdout",
     "output_type": "stream",
     "text": [
      "Files for N=377, Sample=1 already exist. Skipping.\n",
      "Files for N=377, Sample=2 already exist. Skipping.\n",
      "Files for N=377, Sample=3 already exist. Skipping.\n"
     ]
    },
    {
     "name": "stderr",
     "output_type": "stream",
     "text": [
      "\n",
      "Samples for N = 378:   0%|          | 0/3 [00:00<?, ?it/s]\u001b[A\n",
      "                                                          \u001b[A"
     ]
    },
    {
     "name": "stdout",
     "output_type": "stream",
     "text": [
      "Files for N=378, Sample=1 already exist. Skipping.\n",
      "Files for N=378, Sample=2 already exist. Skipping.\n",
      "Files for N=378, Sample=3 already exist. Skipping.\n"
     ]
    },
    {
     "name": "stderr",
     "output_type": "stream",
     "text": [
      "\n",
      "Samples for N = 379:   0%|          | 0/3 [00:00<?, ?it/s]\u001b[A\n",
      "                                                          \u001b[A"
     ]
    },
    {
     "name": "stdout",
     "output_type": "stream",
     "text": [
      "Files for N=379, Sample=1 already exist. Skipping.\n",
      "Files for N=379, Sample=2 already exist. Skipping.\n",
      "Files for N=379, Sample=3 already exist. Skipping.\n"
     ]
    },
    {
     "name": "stderr",
     "output_type": "stream",
     "text": [
      "\n",
      "Samples for N = 380:   0%|          | 0/3 [00:00<?, ?it/s]\u001b[A\n",
      "                                                          \u001b[A"
     ]
    },
    {
     "name": "stdout",
     "output_type": "stream",
     "text": [
      "Files for N=380, Sample=1 already exist. Skipping.\n",
      "Files for N=380, Sample=2 already exist. Skipping.\n",
      "Files for N=380, Sample=3 already exist. Skipping.\n"
     ]
    },
    {
     "name": "stderr",
     "output_type": "stream",
     "text": [
      "\n",
      "Samples for N = 381:   0%|          | 0/3 [00:00<?, ?it/s]\u001b[A\n",
      "                                                          \u001b[A"
     ]
    },
    {
     "name": "stdout",
     "output_type": "stream",
     "text": [
      "Files for N=381, Sample=1 already exist. Skipping.\n",
      "Files for N=381, Sample=2 already exist. Skipping.\n",
      "Files for N=381, Sample=3 already exist. Skipping.\n"
     ]
    },
    {
     "name": "stderr",
     "output_type": "stream",
     "text": [
      "\n",
      "Samples for N = 382:   0%|          | 0/3 [00:00<?, ?it/s]\u001b[A\n",
      "                                                          \u001b[A"
     ]
    },
    {
     "name": "stdout",
     "output_type": "stream",
     "text": [
      "Files for N=382, Sample=1 already exist. Skipping.\n",
      "Files for N=382, Sample=2 already exist. Skipping.\n",
      "Files for N=382, Sample=3 already exist. Skipping.\n"
     ]
    },
    {
     "name": "stderr",
     "output_type": "stream",
     "text": [
      "\n",
      "Samples for N = 383:   0%|          | 0/3 [00:00<?, ?it/s]\u001b[A\n",
      "                                                          \u001b[A"
     ]
    },
    {
     "name": "stdout",
     "output_type": "stream",
     "text": [
      "Files for N=383, Sample=1 already exist. Skipping.\n",
      "Files for N=383, Sample=2 already exist. Skipping.\n",
      "Files for N=383, Sample=3 already exist. Skipping.\n"
     ]
    },
    {
     "name": "stderr",
     "output_type": "stream",
     "text": [
      "\n",
      "Samples for N = 384:   0%|          | 0/3 [00:00<?, ?it/s]\u001b[A\n",
      "                                                          \u001b[A"
     ]
    },
    {
     "name": "stdout",
     "output_type": "stream",
     "text": [
      "Files for N=384, Sample=1 already exist. Skipping.\n",
      "Files for N=384, Sample=2 already exist. Skipping.\n",
      "Files for N=384, Sample=3 already exist. Skipping.\n"
     ]
    },
    {
     "name": "stderr",
     "output_type": "stream",
     "text": [
      "\n",
      "Samples for N = 385:   0%|          | 0/3 [00:00<?, ?it/s]\u001b[A\n",
      "                                                          \u001b[A"
     ]
    },
    {
     "name": "stdout",
     "output_type": "stream",
     "text": [
      "Files for N=385, Sample=1 already exist. Skipping.\n",
      "Files for N=385, Sample=2 already exist. Skipping.\n",
      "Files for N=385, Sample=3 already exist. Skipping.\n"
     ]
    },
    {
     "name": "stderr",
     "output_type": "stream",
     "text": [
      "\n",
      "Samples for N = 386:   0%|          | 0/3 [00:00<?, ?it/s]\u001b[A\n",
      "                                                          "
     ]
    },
    {
     "name": "stdout",
     "output_type": "stream",
     "text": [
      "Files for N=386, Sample=1 already exist. Skipping.\n",
      "Files for N=386, Sample=2 already exist. Skipping.\n",
      "Files for N=386, Sample=3 already exist. Skipping.\n"
     ]
    },
    {
     "name": "stderr",
     "output_type": "stream",
     "text": [
      "NPQWAK 497:3->499:  77%|███████▋  | 384/497 [00:01<00:00, 215.02it/s]\n",
      "Samples for N = 387:   0%|          | 0/3 [00:00<?, ?it/s]\u001b[A\n",
      "                                                          \u001b[A"
     ]
    },
    {
     "name": "stdout",
     "output_type": "stream",
     "text": [
      "Files for N=387, Sample=1 already exist. Skipping.\n",
      "Files for N=387, Sample=2 already exist. Skipping.\n",
      "Files for N=387, Sample=3 already exist. Skipping.\n"
     ]
    },
    {
     "name": "stderr",
     "output_type": "stream",
     "text": [
      "\n",
      "Samples for N = 388:   0%|          | 0/3 [00:00<?, ?it/s]\u001b[A\n",
      "                                                          \u001b[A"
     ]
    },
    {
     "name": "stdout",
     "output_type": "stream",
     "text": [
      "Files for N=388, Sample=1 already exist. Skipping.\n",
      "Files for N=388, Sample=2 already exist. Skipping.\n",
      "Files for N=388, Sample=3 already exist. Skipping.\n"
     ]
    },
    {
     "name": "stderr",
     "output_type": "stream",
     "text": [
      "\n",
      "Samples for N = 389:   0%|          | 0/3 [00:00<?, ?it/s]\u001b[A\n",
      "                                                          \u001b[A"
     ]
    },
    {
     "name": "stdout",
     "output_type": "stream",
     "text": [
      "Files for N=389, Sample=1 already exist. Skipping.\n",
      "Files for N=389, Sample=2 already exist. Skipping.\n",
      "Files for N=389, Sample=3 already exist. Skipping.\n"
     ]
    },
    {
     "name": "stderr",
     "output_type": "stream",
     "text": [
      "\n",
      "Samples for N = 390:   0%|          | 0/3 [00:00<?, ?it/s]\u001b[A\n",
      "                                                          \u001b[A"
     ]
    },
    {
     "name": "stdout",
     "output_type": "stream",
     "text": [
      "Files for N=390, Sample=1 already exist. Skipping.\n",
      "Files for N=390, Sample=2 already exist. Skipping.\n",
      "Files for N=390, Sample=3 already exist. Skipping.\n"
     ]
    },
    {
     "name": "stderr",
     "output_type": "stream",
     "text": [
      "\n",
      "Samples for N = 391:   0%|          | 0/3 [00:00<?, ?it/s]\u001b[A\n",
      "                                                          \u001b[A"
     ]
    },
    {
     "name": "stdout",
     "output_type": "stream",
     "text": [
      "Files for N=391, Sample=1 already exist. Skipping.\n",
      "Files for N=391, Sample=2 already exist. Skipping.\n",
      "Files for N=391, Sample=3 already exist. Skipping.\n"
     ]
    },
    {
     "name": "stderr",
     "output_type": "stream",
     "text": [
      "\n",
      "Samples for N = 392:   0%|          | 0/3 [00:00<?, ?it/s]\u001b[A\n",
      "                                                          \u001b[A"
     ]
    },
    {
     "name": "stdout",
     "output_type": "stream",
     "text": [
      "Files for N=392, Sample=1 already exist. Skipping.\n",
      "Files for N=392, Sample=2 already exist. Skipping.\n",
      "Files for N=392, Sample=3 already exist. Skipping.\n"
     ]
    },
    {
     "name": "stderr",
     "output_type": "stream",
     "text": [
      "\n",
      "Samples for N = 393:   0%|          | 0/3 [00:00<?, ?it/s]\u001b[A\n",
      "                                                          \u001b[A"
     ]
    },
    {
     "name": "stdout",
     "output_type": "stream",
     "text": [
      "Files for N=393, Sample=1 already exist. Skipping.\n",
      "Files for N=393, Sample=2 already exist. Skipping.\n",
      "Files for N=393, Sample=3 already exist. Skipping.\n"
     ]
    },
    {
     "name": "stderr",
     "output_type": "stream",
     "text": [
      "\n",
      "Samples for N = 394:   0%|          | 0/3 [00:00<?, ?it/s]\u001b[A\n",
      "                                                          \u001b[A"
     ]
    },
    {
     "name": "stdout",
     "output_type": "stream",
     "text": [
      "Files for N=394, Sample=1 already exist. Skipping.\n",
      "Files for N=394, Sample=2 already exist. Skipping.\n",
      "Files for N=394, Sample=3 already exist. Skipping.\n"
     ]
    },
    {
     "name": "stderr",
     "output_type": "stream",
     "text": [
      "\n",
      "Samples for N = 395:   0%|          | 0/3 [00:00<?, ?it/s]\u001b[A\n",
      "                                                          \u001b[A"
     ]
    },
    {
     "name": "stdout",
     "output_type": "stream",
     "text": [
      "Files for N=395, Sample=1 already exist. Skipping.\n",
      "Files for N=395, Sample=2 already exist. Skipping.\n",
      "Files for N=395, Sample=3 already exist. Skipping.\n"
     ]
    },
    {
     "name": "stderr",
     "output_type": "stream",
     "text": [
      "\n",
      "Samples for N = 396:   0%|          | 0/3 [00:00<?, ?it/s]\u001b[A\n",
      "                                                          \u001b[A"
     ]
    },
    {
     "name": "stdout",
     "output_type": "stream",
     "text": [
      "Files for N=396, Sample=1 already exist. Skipping.\n",
      "Files for N=396, Sample=2 already exist. Skipping.\n",
      "Files for N=396, Sample=3 already exist. Skipping.\n"
     ]
    },
    {
     "name": "stderr",
     "output_type": "stream",
     "text": [
      "\n",
      "Samples for N = 397:   0%|          | 0/3 [00:00<?, ?it/s]\u001b[A\n",
      "                                                          \u001b[A"
     ]
    },
    {
     "name": "stdout",
     "output_type": "stream",
     "text": [
      "Files for N=397, Sample=1 already exist. Skipping.\n",
      "Files for N=397, Sample=2 already exist. Skipping.\n",
      "Files for N=397, Sample=3 already exist. Skipping.\n"
     ]
    },
    {
     "name": "stderr",
     "output_type": "stream",
     "text": [
      "\n",
      "Samples for N = 398:   0%|          | 0/3 [00:00<?, ?it/s]\u001b[A\n",
      "                                                          \u001b[A"
     ]
    },
    {
     "name": "stdout",
     "output_type": "stream",
     "text": [
      "Files for N=398, Sample=1 already exist. Skipping.\n",
      "Files for N=398, Sample=2 already exist. Skipping.\n",
      "Files for N=398, Sample=3 already exist. Skipping.\n"
     ]
    },
    {
     "name": "stderr",
     "output_type": "stream",
     "text": [
      "\n",
      "Samples for N = 399:   0%|          | 0/3 [00:00<?, ?it/s]\u001b[A\n",
      "                                                          \u001b[A"
     ]
    },
    {
     "name": "stdout",
     "output_type": "stream",
     "text": [
      "Files for N=399, Sample=1 already exist. Skipping.\n",
      "Files for N=399, Sample=2 already exist. Skipping.\n",
      "Files for N=399, Sample=3 already exist. Skipping.\n"
     ]
    },
    {
     "name": "stderr",
     "output_type": "stream",
     "text": [
      "\n",
      "Samples for N = 400:   0%|          | 0/3 [00:00<?, ?it/s]\u001b[A\n",
      "                                                          "
     ]
    },
    {
     "name": "stdout",
     "output_type": "stream",
     "text": [
      "Files for N=400, Sample=1 already exist. Skipping.\n",
      "Files for N=400, Sample=2 already exist. Skipping.\n",
      "Files for N=400, Sample=3 already exist. Skipping.\n"
     ]
    },
    {
     "name": "stderr",
     "output_type": "stream",
     "text": [
      "\u001b[A\n",
      "Samples for N = 401:   0%|          | 0/3 [00:00<?, ?it/s]\u001b[A\n",
      "                                                          \u001b[A"
     ]
    },
    {
     "name": "stdout",
     "output_type": "stream",
     "text": [
      "Files for N=401, Sample=1 already exist. Skipping.\n",
      "Files for N=401, Sample=2 already exist. Skipping.\n",
      "Files for N=401, Sample=3 already exist. Skipping.\n"
     ]
    },
    {
     "name": "stderr",
     "output_type": "stream",
     "text": [
      "\n",
      "Samples for N = 402:   0%|          | 0/3 [00:00<?, ?it/s]\u001b[A\n",
      "                                                          \u001b[A"
     ]
    },
    {
     "name": "stdout",
     "output_type": "stream",
     "text": [
      "Files for N=402, Sample=1 already exist. Skipping.\n",
      "Files for N=402, Sample=2 already exist. Skipping.\n",
      "Files for N=402, Sample=3 already exist. Skipping.\n"
     ]
    },
    {
     "name": "stderr",
     "output_type": "stream",
     "text": [
      "\n",
      "Samples for N = 403:   0%|          | 0/3 [00:00<?, ?it/s]\u001b[A\n",
      "                                                          \u001b[A"
     ]
    },
    {
     "name": "stdout",
     "output_type": "stream",
     "text": [
      "Files for N=403, Sample=1 already exist. Skipping.\n",
      "Files for N=403, Sample=2 already exist. Skipping.\n",
      "Files for N=403, Sample=3 already exist. Skipping.\n"
     ]
    },
    {
     "name": "stderr",
     "output_type": "stream",
     "text": [
      "\n",
      "Samples for N = 404:   0%|          | 0/3 [00:00<?, ?it/s]\u001b[A\n",
      "                                                          \u001b[A"
     ]
    },
    {
     "name": "stdout",
     "output_type": "stream",
     "text": [
      "Files for N=404, Sample=1 already exist. Skipping.\n",
      "Files for N=404, Sample=2 already exist. Skipping.\n",
      "Files for N=404, Sample=3 already exist. Skipping.\n"
     ]
    },
    {
     "name": "stderr",
     "output_type": "stream",
     "text": [
      "\n",
      "Samples for N = 405:   0%|          | 0/3 [00:00<?, ?it/s]\u001b[A\n",
      "                                                          \u001b[A"
     ]
    },
    {
     "name": "stdout",
     "output_type": "stream",
     "text": [
      "Files for N=405, Sample=1 already exist. Skipping.\n",
      "Files for N=405, Sample=2 already exist. Skipping.\n",
      "Files for N=405, Sample=3 already exist. Skipping.\n"
     ]
    },
    {
     "name": "stderr",
     "output_type": "stream",
     "text": [
      "\n",
      "Samples for N = 406:   0%|          | 0/3 [00:00<?, ?it/s]\u001b[A\n",
      "                                                          \u001b[A"
     ]
    },
    {
     "name": "stdout",
     "output_type": "stream",
     "text": [
      "Files for N=406, Sample=1 already exist. Skipping.\n",
      "Files for N=406, Sample=2 already exist. Skipping.\n",
      "Files for N=406, Sample=3 already exist. Skipping.\n"
     ]
    },
    {
     "name": "stderr",
     "output_type": "stream",
     "text": [
      "\n",
      "Samples for N = 407:   0%|          | 0/3 [00:00<?, ?it/s]\u001b[A\n"
     ]
    },
    {
     "name": "stdout",
     "output_type": "stream",
     "text": [
      "Files for N=407, Sample=1 already exist. Skipping.\n",
      "Files for N=407, Sample=2 already exist. Skipping.\n",
      "Files for N=407, Sample=3 already exist. Skipping.\n"
     ]
    },
    {
     "name": "stderr",
     "output_type": "stream",
     "text": [
      "                                                          \u001b[A\n",
      "Samples for N = 408:   0%|          | 0/3 [00:00<?, ?it/s]\u001b[A\n",
      "                                                          \u001b[A"
     ]
    },
    {
     "name": "stdout",
     "output_type": "stream",
     "text": [
      "Files for N=408, Sample=1 already exist. Skipping.\n",
      "Files for N=408, Sample=2 already exist. Skipping.\n",
      "Files for N=408, Sample=3 already exist. Skipping.\n"
     ]
    },
    {
     "name": "stderr",
     "output_type": "stream",
     "text": [
      "\n",
      "Samples for N = 409:   0%|          | 0/3 [00:00<?, ?it/s]\u001b[A\n",
      "NPQWAK 497:3->499:  82%|████████▏ | 407/497 [00:01<00:00, 218.77it/s]"
     ]
    },
    {
     "name": "stdout",
     "output_type": "stream",
     "text": [
      "Files for N=409, Sample=1 already exist. Skipping.\n",
      "Files for N=409, Sample=2 already exist. Skipping.\n",
      "Files for N=409, Sample=3 already exist. Skipping.\n"
     ]
    },
    {
     "name": "stderr",
     "output_type": "stream",
     "text": [
      "\n",
      "Samples for N = 410:   0%|          | 0/3 [00:00<?, ?it/s]\u001b[A\n",
      "                                                          \u001b[A"
     ]
    },
    {
     "name": "stdout",
     "output_type": "stream",
     "text": [
      "Files for N=410, Sample=1 already exist. Skipping.\n",
      "Files for N=410, Sample=2 already exist. Skipping.\n",
      "Files for N=410, Sample=3 already exist. Skipping.\n"
     ]
    },
    {
     "name": "stderr",
     "output_type": "stream",
     "text": [
      "\n",
      "Samples for N = 411:   0%|          | 0/3 [00:00<?, ?it/s]\u001b[A\n",
      "                                                          \u001b[A"
     ]
    },
    {
     "name": "stdout",
     "output_type": "stream",
     "text": [
      "Files for N=411, Sample=1 already exist. Skipping.\n",
      "Files for N=411, Sample=2 already exist. Skipping.\n",
      "Files for N=411, Sample=3 already exist. Skipping.\n"
     ]
    },
    {
     "name": "stderr",
     "output_type": "stream",
     "text": [
      "\n",
      "Samples for N = 412:   0%|          | 0/3 [00:00<?, ?it/s]\u001b[A\n",
      "                                                          \u001b[A"
     ]
    },
    {
     "name": "stdout",
     "output_type": "stream",
     "text": [
      "Files for N=412, Sample=1 already exist. Skipping.\n",
      "Files for N=412, Sample=2 already exist. Skipping.\n",
      "Files for N=412, Sample=3 already exist. Skipping.\n"
     ]
    },
    {
     "name": "stderr",
     "output_type": "stream",
     "text": [
      "\n",
      "Samples for N = 413:   0%|          | 0/3 [00:00<?, ?it/s]\u001b[A\n",
      "                                                          \u001b[A"
     ]
    },
    {
     "name": "stdout",
     "output_type": "stream",
     "text": [
      "Files for N=413, Sample=1 already exist. Skipping.\n",
      "Files for N=413, Sample=2 already exist. Skipping.\n",
      "Files for N=413, Sample=3 already exist. Skipping.\n"
     ]
    },
    {
     "name": "stderr",
     "output_type": "stream",
     "text": [
      "\n",
      "Samples for N = 414:   0%|          | 0/3 [00:00<?, ?it/s]\u001b[A\n"
     ]
    },
    {
     "name": "stdout",
     "output_type": "stream",
     "text": [
      "Files for N=414, Sample=1 already exist. Skipping.\n",
      "Files for N=414, Sample=2 already exist. Skipping.\n",
      "Files for N=414, Sample=3 already exist. Skipping.\n"
     ]
    },
    {
     "name": "stderr",
     "output_type": "stream",
     "text": [
      "                                                          \u001b[A\n",
      "Samples for N = 415:   0%|          | 0/3 [00:00<?, ?it/s]\u001b[A\n",
      "                                                          \u001b[A"
     ]
    },
    {
     "name": "stdout",
     "output_type": "stream",
     "text": [
      "Files for N=415, Sample=1 already exist. Skipping.\n",
      "Files for N=415, Sample=2 already exist. Skipping.\n",
      "Files for N=415, Sample=3 already exist. Skipping.\n"
     ]
    },
    {
     "name": "stderr",
     "output_type": "stream",
     "text": [
      "\n",
      "Samples for N = 416:   0%|          | 0/3 [00:00<?, ?it/s]\u001b[A\n",
      "                                                          \u001b[A"
     ]
    },
    {
     "name": "stdout",
     "output_type": "stream",
     "text": [
      "Files for N=416, Sample=1 already exist. Skipping.\n",
      "Files for N=416, Sample=2 already exist. Skipping.\n",
      "Files for N=416, Sample=3 already exist. Skipping.\n"
     ]
    },
    {
     "name": "stderr",
     "output_type": "stream",
     "text": [
      "\n",
      "Samples for N = 417:   0%|          | 0/3 [00:00<?, ?it/s]\u001b[A\n",
      "                                                          \u001b[A"
     ]
    },
    {
     "name": "stdout",
     "output_type": "stream",
     "text": [
      "Files for N=417, Sample=1 already exist. Skipping.\n",
      "Files for N=417, Sample=2 already exist. Skipping.\n",
      "Files for N=417, Sample=3 already exist. Skipping.\n"
     ]
    },
    {
     "name": "stderr",
     "output_type": "stream",
     "text": [
      "\n",
      "Samples for N = 418:   0%|          | 0/3 [00:00<?, ?it/s]\u001b[A\n",
      "                                                          \u001b[A"
     ]
    },
    {
     "name": "stdout",
     "output_type": "stream",
     "text": [
      "Files for N=418, Sample=1 already exist. Skipping.\n",
      "Files for N=418, Sample=2 already exist. Skipping.\n",
      "Files for N=418, Sample=3 already exist. Skipping.\n"
     ]
    },
    {
     "name": "stderr",
     "output_type": "stream",
     "text": [
      "\n",
      "Samples for N = 419:   0%|          | 0/3 [00:00<?, ?it/s]\u001b[A\n",
      "                                                          \u001b[A"
     ]
    },
    {
     "name": "stdout",
     "output_type": "stream",
     "text": [
      "Files for N=419, Sample=1 already exist. Skipping.\n",
      "Files for N=419, Sample=2 already exist. Skipping.\n",
      "Files for N=419, Sample=3 already exist. Skipping.\n"
     ]
    },
    {
     "name": "stderr",
     "output_type": "stream",
     "text": [
      "\n",
      "Samples for N = 420:   0%|          | 0/3 [00:00<?, ?it/s]\u001b[A\n",
      "                                                          \u001b[A"
     ]
    },
    {
     "name": "stdout",
     "output_type": "stream",
     "text": [
      "Files for N=420, Sample=1 already exist. Skipping.\n",
      "Files for N=420, Sample=2 already exist. Skipping.\n",
      "Files for N=420, Sample=3 already exist. Skipping.\n"
     ]
    },
    {
     "name": "stderr",
     "output_type": "stream",
     "text": [
      "\n",
      "Samples for N = 421:   0%|          | 0/3 [00:00<?, ?it/s]\u001b[A"
     ]
    },
    {
     "name": "stdout",
     "output_type": "stream",
     "text": [
      "Files for N=421, Sample=1 already exist. Skipping.\n"
     ]
    },
    {
     "name": "stderr",
     "output_type": "stream",
     "text": [
      "\n",
      "                                                          \u001b[A"
     ]
    },
    {
     "name": "stdout",
     "output_type": "stream",
     "text": [
      "Files for N=421, Sample=2 already exist. Skipping.\n",
      "Files for N=421, Sample=3 already exist. Skipping.\n"
     ]
    },
    {
     "name": "stderr",
     "output_type": "stream",
     "text": [
      "\n",
      "Samples for N = 422:   0%|          | 0/3 [00:00<?, ?it/s]\u001b[A\n",
      "                                                          \u001b[A"
     ]
    },
    {
     "name": "stdout",
     "output_type": "stream",
     "text": [
      "Files for N=422, Sample=1 already exist. Skipping.\n",
      "Files for N=422, Sample=2 already exist. Skipping.\n",
      "Files for N=422, Sample=3 already exist. Skipping.\n"
     ]
    },
    {
     "name": "stderr",
     "output_type": "stream",
     "text": [
      "\n",
      "Samples for N = 423:   0%|          | 0/3 [00:00<?, ?it/s]\u001b[A\n",
      "                                                          \u001b[A"
     ]
    },
    {
     "name": "stdout",
     "output_type": "stream",
     "text": [
      "Files for N=423, Sample=1 already exist. Skipping.\n",
      "Files for N=423, Sample=2 already exist. Skipping.\n",
      "Files for N=423, Sample=3 already exist. Skipping.\n"
     ]
    },
    {
     "name": "stderr",
     "output_type": "stream",
     "text": [
      "\n",
      "Samples for N = 424:   0%|          | 0/3 [00:00<?, ?it/s]\u001b[A\n",
      "                                                          \u001b[A"
     ]
    },
    {
     "name": "stdout",
     "output_type": "stream",
     "text": [
      "Files for N=424, Sample=1 already exist. Skipping.\n",
      "Files for N=424, Sample=2 already exist. Skipping.\n",
      "Files for N=424, Sample=3 already exist. Skipping.\n"
     ]
    },
    {
     "name": "stderr",
     "output_type": "stream",
     "text": [
      "\n",
      "Samples for N = 425:   0%|          | 0/3 [00:00<?, ?it/s]\u001b[A\n",
      "                                                          \u001b[A"
     ]
    },
    {
     "name": "stdout",
     "output_type": "stream",
     "text": [
      "Files for N=425, Sample=1 already exist. Skipping.\n",
      "Files for N=425, Sample=2 already exist. Skipping.\n",
      "Files for N=425, Sample=3 already exist. Skipping.\n"
     ]
    },
    {
     "name": "stderr",
     "output_type": "stream",
     "text": [
      "\n",
      "Samples for N = 426:   0%|          | 0/3 [00:00<?, ?it/s]\u001b[A\n",
      "                                                          \u001b[A"
     ]
    },
    {
     "name": "stdout",
     "output_type": "stream",
     "text": [
      "Files for N=426, Sample=1 already exist. Skipping.\n",
      "Files for N=426, Sample=2 already exist. Skipping.\n",
      "Files for N=426, Sample=3 already exist. Skipping.\n"
     ]
    },
    {
     "name": "stderr",
     "output_type": "stream",
     "text": [
      "\n",
      "Samples for N = 427:   0%|          | 0/3 [00:00<?, ?it/s]IOPub message rate exceeded.\n",
      "The Jupyter server will temporarily stop sending output\n",
      "to the client in order to avoid crashing it.\n",
      "To change this limit, set the config variable\n",
      "`--ServerApp.iopub_msg_rate_limit`.\n",
      "\n",
      "Current values:\n",
      "ServerApp.iopub_msg_rate_limit=1000.0 (msgs/sec)\n",
      "ServerApp.rate_limit_window=3.0 (secs)\n",
      "\n"
     ]
    }
   ],
   "source": [
    "import os\n",
    "import pickle\n",
    "from tqdm import tqdm\n",
    "\n",
    "def runMultipleSimpleQWAK3(nList, pVal, t, samples, base_dir):\n",
    "    qwList = []\n",
    "    tList = []\n",
    "\n",
    "    for n in tqdm(nList, desc=f\"NPQWAK {len(nList)}:{nList[0]}->{nList[-1]}\", leave=False):\n",
    "        n_dir = os.path.join(base_dir, f\"N{n}\")\n",
    "        os.makedirs(n_dir, exist_ok=True)\n",
    "\n",
    "        for sample in tqdm(range(1, samples + 1), desc=f\"Samples for N = {n}\", leave=False):\n",
    "            t_file = os.path.join(n_dir, f\"t_P{pVal}_T{t}_sample{sample}.pkl\")\n",
    "            qw_file = os.path.join(n_dir, f\"qw_P{pVal}_T{t}_sample{sample}.pkl\")\n",
    "\n",
    "            if os.path.exists(t_file) and os.path.exists(qw_file):\n",
    "                print(f\"Files for N={n}, Sample={sample} already exist. Skipping.\")\n",
    "                continue\n",
    "\n",
    "            qw, qwak_time = runTimedQWAK2(n, pVal, t, 10)\n",
    "\n",
    "            # Save t and qw for the current sample\n",
    "            with open(t_file, 'wb') as f:\n",
    "                pickle.dump(qwak_time, f)\n",
    "\n",
    "            with open(qw_file, 'wb') as f:\n",
    "                pickle.dump(qw, f)\n",
    "\n",
    "    return\n",
    "\n",
    "def load_runMultipleSimpleQWAK3(nList, pVal, t, base_dir):\n",
    "    qwList = []\n",
    "    tList = []\n",
    "\n",
    "    for n in tqdm(nList, desc=\"Loading NPQWAK data\"):\n",
    "        n_dir = os.path.join(base_dir, f\"N{n}\")\n",
    "\n",
    "        qwList_n = []\n",
    "        tList_n = []\n",
    "\n",
    "        sample = 1\n",
    "        while True:\n",
    "            t_file = os.path.join(n_dir, f\"t_P{pVal}_T{t}_sample{sample}.pkl\")\n",
    "            qw_file = os.path.join(n_dir, f\"qw_P{pVal}_T{t}_sample{sample}.pkl\")\n",
    "\n",
    "            if os.path.exists(t_file) and os.path.exists(qw_file):\n",
    "                with open(t_file, 'rb') as f:\n",
    "                    tList_n.append(pickle.load(f))\n",
    "\n",
    "                with open(qw_file, 'rb') as f:\n",
    "                    qwList_n.append(pickle.load(f))\n",
    "            else:\n",
    "                break\n",
    "\n",
    "            sample += 1\n",
    "\n",
    "        if qwList_n and tList_n:\n",
    "            tList.append(tList_n)\n",
    "            qwList.append(qwList_n)\n",
    "\n",
    "    return tList, qwList\n",
    "\n",
    "def runMultipleSimpleQWAK3_cupy(nList, pVal, t, samples, base_dir):\n",
    "    qwList = []\n",
    "    tList = []\n",
    "\n",
    "    for n in tqdm(nList, desc=f\"CuPyQWAK {len(nList)}:{nList[0]}->{nList[-1]}\", leave=False):\n",
    "        n_dir = os.path.join(base_dir, f\"N{n}\")\n",
    "        os.makedirs(n_dir, exist_ok=True)\n",
    "\n",
    "        for sample in tqdm(range(1, samples + 1), desc=f\"Samples for N = {n}\", leave=False):\n",
    "            t_file = os.path.join(n_dir, f\"t_P{pVal}_T{t}_sample{sample}_cupy.pkl\")\n",
    "            qw_file = os.path.join(n_dir, f\"qw_P{pVal}_T{t}_sample{sample}_cupy.pkl\")\n",
    "\n",
    "            if os.path.exists(t_file) and os.path.exists(qw_file):\n",
    "                print(f\"Files for N={n}, Sample={sample} already exist. Skipping.\")\n",
    "                continue\n",
    "\n",
    "            qw, qwak_time = runTimedQWAK2_cupy(n, pVal, t, 10)\n",
    "\n",
    "            # Save t and qw for the current sample\n",
    "            with open(t_file, 'wb') as f:\n",
    "                pickle.dump(qwak_time, f)\n",
    "\n",
    "            with open(qw_file, 'wb') as f:\n",
    "                pickle.dump(qw, f)\n",
    "\n",
    "    return\n",
    "\n",
    "def load_runMultipleSimpleQWAK3_cupy(nList, pVal, t, base_dir):\n",
    "    qwList = []\n",
    "    tList = []\n",
    "\n",
    "    for n in tqdm(nList, desc=\"Loading CuPyQWAK data\"):\n",
    "        n_dir = os.path.join(base_dir, f\"N{n}\")\n",
    "\n",
    "        qwList_n = []\n",
    "        tList_n = []\n",
    "\n",
    "        sample = 1\n",
    "        while True:\n",
    "            t_file = os.path.join(n_dir, f\"t_P{pVal}_T{t}_sample{sample}_cupy.pkl\")\n",
    "            qw_file = os.path.join(n_dir, f\"qw_P{pVal}_T{t}_sample{sample}_cupy.pkl\")\n",
    "\n",
    "            if os.path.exists(t_file) and os.path.exists(qw_file):\n",
    "                with open(t_file, 'rb') as f:\n",
    "                    tList_n.append(pickle.load(f))\n",
    "\n",
    "                with open(qw_file, 'rb') as f:\n",
    "                    qwList_n.append(pickle.load(f))\n",
    "            else:\n",
    "                break\n",
    "\n",
    "            sample += 1\n",
    "\n",
    "        if qwList_n and tList_n:\n",
    "            tList.append(tList_n)\n",
    "            qwList.append(qwList_n)\n",
    "\n",
    "    return tList, qwList\n",
    "    \n",
    "import os\n",
    "from datetime import datetime\n",
    "\n",
    "# Parameters\n",
    "nMin = 3\n",
    "nMax = 500\n",
    "nList = list(range(nMin, nMax, 1))\n",
    "pVal = 0.8\n",
    "samples = 3\n",
    "t = 100\n",
    "\n",
    "base_dir = 'Datasets/Benchmark-SimpleQWAK-Test_ER'\n",
    "\n",
    "# File paths for results\n",
    "qwak_times_filename = f'simpleQWAKTime_N{nMin}-{nMax-1}_P{pVal}_T{t}_S{samples}.txt'\n",
    "qwak_times_filename_cupy = f'3070-simpleQWAKTime_CuPy_N{nMin}-{nMax-1}_P{pVal}_T{t}_S{samples}.txt'\n",
    "\n",
    "qwak_times_file = os.path.join(base_dir, qwak_times_filename)\n",
    "qwak_times_file_cupy = os.path.join(base_dir, qwak_times_filename_cupy)\n",
    "\n",
    "# Record start datetime\n",
    "start_datetime = datetime.now()\n",
    "\n",
    "# Run and save results for standard QWAK\n",
    "if os.path.exists(qwak_times_file):\n",
    "    tList, qwList = load_runMultipleSimpleQWAK3(nList, pVal, t, base_dir)\n",
    "    print('Standard QWAK results already exist. Loaded.')\n",
    "else:\n",
    "    tList, qwList = runMultipleSimpleQWAK3(nList, pVal, t, samples, base_dir)\n",
    "    print('Standard QWAK results computed and saved.')\n",
    "\n",
    "# Run and save results for CuPy QWAK\n",
    "if os.path.exists(qwak_times_file_cupy):\n",
    "    tList_cupy, qwList_cupy = load_runMultipleSimpleQWAK3_cupy(nList, pVal, t, base_dir)\n",
    "    print('CuPy QWAK results already exist. Loaded.')\n",
    "else:\n",
    "    tList_cupy, qwList_cupy = runMultipleSimpleQWAK3_cupy(nList, pVal, t, samples, base_dir)\n",
    "    print('CuPy QWAK results computed and saved.')\n",
    "\n",
    "# Print elapsed time\n",
    "elapsed_time = datetime.now() - start_datetime\n",
    "print(f\"Elapsed time: {elapsed_time}\")\n"
   ]
  },
  {
   "cell_type": "code",
   "execution_count": 12,
   "id": "50c7b4a1-86ac-4cba-8165-b6ff76f500cb",
   "metadata": {},
   "outputs": [
    {
     "ename": "NameError",
     "evalue": "name 'qwList' is not defined",
     "output_type": "error",
     "traceback": [
      "\u001b[1;31m---------------------------------------------------------------------------\u001b[0m",
      "\u001b[1;31mNameError\u001b[0m                                 Traceback (most recent call last)",
      "Cell \u001b[1;32mIn[12], line 1\u001b[0m\n\u001b[1;32m----> 1\u001b[0m \u001b[38;5;28;01mfor\u001b[39;00m q \u001b[38;5;129;01min\u001b[39;00m \u001b[43mqwList\u001b[49m:\n\u001b[0;32m      2\u001b[0m     plt\u001b[38;5;241m.\u001b[39mplot(q)\n",
      "\u001b[1;31mNameError\u001b[0m: name 'qwList' is not defined"
     ]
    }
   ],
   "source": []
  },
  {
   "cell_type": "code",
   "execution_count": null,
   "id": "894db578-b65d-4e6e-b945-1c099d3b37a9",
   "metadata": {},
   "outputs": [],
   "source": []
  },
  {
   "cell_type": "code",
   "execution_count": null,
   "id": "328a5509-4bcc-4c4a-80af-1510ba07d3c4",
   "metadata": {},
   "outputs": [],
   "source": []
  }
 ],
 "metadata": {
  "kernelspec": {
   "display_name": "Python 3 (ipykernel)",
   "language": "python",
   "name": "python3"
  },
  "language_info": {
   "codemirror_mode": {
    "name": "ipython",
    "version": 3
   },
   "file_extension": ".py",
   "mimetype": "text/x-python",
   "name": "python",
   "nbconvert_exporter": "python",
   "pygments_lexer": "ipython3",
   "version": "3.12.2"
  }
 },
 "nbformat": 4,
 "nbformat_minor": 5
}
